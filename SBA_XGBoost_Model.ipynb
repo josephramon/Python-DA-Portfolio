{
 "cells": [
  {
   "cell_type": "markdown",
   "metadata": {},
   "source": [
    "<div style=\"font-family: Trebuchet MS;background-color:DarkCyan;color:Azure;text-align: left;padding-top: 5px;padding-bottom: 15px;padding-left: 20px;padding-right: 10px;border-radius: 15px 50px;letter-spacing: 2px;\">\n",
    "    <h1>Should This Loan be Approved or Denied ?</h1>\n",
    "\n",
    "My attempt at creating an XGBoost data model to predict whether a loan can be approved or denied.  Some notes are given to make sense of it :).\n",
    "    \n",
    "Any comments are welcome.\n",
    "</div>"
   ]
  },
  {
   "cell_type": "markdown",
   "metadata": {},
   "source": [
    "**Dataset Source**\n",
    "\n",
    "https://www.kaggle.com/mirbektoktogaraev/should-this-loan-be-approved-or-denied"
   ]
  },
  {
   "cell_type": "code",
   "execution_count": 103,
   "metadata": {
    "execution": {
     "iopub.execute_input": "2022-03-13T17:40:27.218284Z",
     "iopub.status.busy": "2022-03-13T17:40:27.217199Z",
     "iopub.status.idle": "2022-03-13T17:40:27.222215Z",
     "shell.execute_reply": "2022-03-13T17:40:27.221525Z",
     "shell.execute_reply.started": "2022-03-13T17:40:27.218237Z"
    }
   },
   "outputs": [],
   "source": [
    "# filepath = \"../input/should-this-loan-be-approved-or-denied/\"  # Kaggle\n",
    "# savepath = \"./\"   # Kaggle\n",
    "\n",
    "filepath = \"C:\\\\Python\\\\Python_Data_Science_Exercises\\\\datasets\\\\\"\n",
    "savepath = \"C:\\\\Python\\\\Python_Data_Science_Exercises\\\\datasets\\\\\""
   ]
  },
  {
   "cell_type": "code",
   "execution_count": 104,
   "metadata": {
    "execution": {
     "iopub.execute_input": "2022-03-13T17:40:29.005897Z",
     "iopub.status.busy": "2022-03-13T17:40:29.005385Z",
     "iopub.status.idle": "2022-03-13T17:40:29.013689Z",
     "shell.execute_reply": "2022-03-13T17:40:29.012394Z",
     "shell.execute_reply.started": "2022-03-13T17:40:29.005846Z"
    }
   },
   "outputs": [],
   "source": [
    "import pandas as pd\n",
    "import seaborn as sns\n",
    "import matplotlib.pyplot as plt\n",
    "import numpy as np\n",
    "import warnings\n",
    "%matplotlib inline"
   ]
  },
  {
   "cell_type": "markdown",
   "metadata": {},
   "source": [
    "<div style=\"font-family: Trebuchet MS;background-color:DarkCyan;color:Azure;text-align: left;padding-top: 5px;padding-bottom: 15px;padding-left: 20px;padding-right: 10px;border-radius: 15px 50px;letter-spacing: 2px;\">\n",
    "<h3>1. Load File</h3></div>"
   ]
  },
  {
   "cell_type": "code",
   "execution_count": 93,
   "metadata": {
    "execution": {
     "iopub.execute_input": "2022-03-13T17:40:31.954837Z",
     "iopub.status.busy": "2022-03-13T17:40:31.954545Z",
     "iopub.status.idle": "2022-03-13T17:40:39.260615Z",
     "shell.execute_reply": "2022-03-13T17:40:39.259731Z",
     "shell.execute_reply.started": "2022-03-13T17:40:31.954810Z"
    }
   },
   "outputs": [],
   "source": [
    "sba = pd.read_csv(filepath + 'SBAnational.csv',low_memory=False)\n",
    "sba.head(2)"
   ]
  },
  {
   "cell_type": "markdown",
   "metadata": {},
   "source": [
    "<div style=\"font-family: Trebuchet MS;background-color:LightSteelBlue;color:Black;text-align: left;padding-top: 5px;padding-bottom: 5px;padding-left: 20px;padding-right: 10px;border-radius: 15px 50px;letter-spacing: 2px;\">\n",
    "    <b>Load file with some conversion</b><br>\n",
    "    After reviewing the dataset at a glance, decided to reload with some conversions\n",
    "    </div>"
   ]
  },
  {
   "cell_type": "code",
   "execution_count": 94,
   "metadata": {
    "execution": {
     "iopub.execute_input": "2022-03-13T17:40:44.036911Z",
     "iopub.status.busy": "2022-03-13T17:40:44.036567Z",
     "iopub.status.idle": "2022-03-13T17:40:53.034299Z",
     "shell.execute_reply": "2022-03-13T17:40:53.033635Z",
     "shell.execute_reply.started": "2022-03-13T17:40:44.036875Z"
    }
   },
   "outputs": [],
   "source": [
    "def fixvals(val):\n",
    "    retval = val.replace('$','')\n",
    "    retval = retval.replace(',','')\n",
    "    return retval\n",
    "\n",
    "sba = pd.read_csv(filepath + 'SBAnational.csv',\\\n",
    "                 converters = {'DisbursementGross':fixvals,'SBA_Appv':fixvals,\\\n",
    "                              'GrAppv':fixvals, 'ChgOffPrinGr':fixvals}, \\\n",
    "                              parse_dates=['DisbursementDate'], low_memory=False)"
   ]
  },
  {
   "cell_type": "code",
   "execution_count": 95,
   "metadata": {
    "execution": {
     "iopub.execute_input": "2022-03-13T17:41:00.995268Z",
     "iopub.status.busy": "2022-03-13T17:41:00.994616Z",
     "iopub.status.idle": "2022-03-13T17:41:01.053195Z",
     "shell.execute_reply": "2022-03-13T17:41:01.052284Z",
     "shell.execute_reply.started": "2022-03-13T17:41:00.995214Z"
    },
    "scrolled": true
   },
   "outputs": [],
   "source": [
    "print(\"Shape of SBA : \", sba.shape)\n",
    "sba[['DisbursementGross','SBA_Appv','GrAppv','ChgOffPrinGr','DisbursementDate']].head(2)"
   ]
  },
  {
   "cell_type": "code",
   "execution_count": 96,
   "metadata": {
    "execution": {
     "iopub.execute_input": "2022-03-13T17:41:04.414153Z",
     "iopub.status.busy": "2022-03-13T17:41:04.413606Z",
     "iopub.status.idle": "2022-03-13T17:41:04.439055Z",
     "shell.execute_reply": "2022-03-13T17:41:04.438191Z",
     "shell.execute_reply.started": "2022-03-13T17:41:04.414117Z"
    }
   },
   "outputs": [],
   "source": [
    "sba.head(2)"
   ]
  },
  {
   "cell_type": "markdown",
   "metadata": {},
   "source": [
    "<div style=\"font-family: Trebuchet MS;background-color:DarkCyan;color:Azure;text-align: left;padding-top: 5px;padding-bottom: 20px;padding-left: 20px;padding-right: 10px;border-radius: 15px 50px;letter-spacing: 2px;\">\n",
    "    <h2>2. Data Preparation</h2>\n",
    "    </div>"
   ]
  },
  {
   "cell_type": "code",
   "execution_count": 97,
   "metadata": {
    "execution": {
     "iopub.execute_input": "2022-03-13T17:41:08.622410Z",
     "iopub.status.busy": "2022-03-13T17:41:08.621785Z",
     "iopub.status.idle": "2022-03-13T17:41:10.184037Z",
     "shell.execute_reply": "2022-03-13T17:41:10.182858Z",
     "shell.execute_reply.started": "2022-03-13T17:41:08.622357Z"
    },
    "scrolled": true
   },
   "outputs": [],
   "source": [
    "print(sba.columns)\n",
    "print()\n",
    "print(sba.info())"
   ]
  },
  {
   "cell_type": "markdown",
   "metadata": {},
   "source": [
    "<div style=\"font-family: Trebuchet MS;background-color:DarkCyan;color:Azure;text-align: left;padding-top: 5px;padding-bottom: 15px;padding-left: 20px;padding-right: 10px;border-radius: 15px 50px;letter-spacing: 2px;\">\n",
    "    <h2>2.1 Convert dtype</h2>\n",
    "    </div>"
   ]
  },
  {
   "cell_type": "code",
   "execution_count": 98,
   "metadata": {
    "execution": {
     "iopub.execute_input": "2022-03-13T17:41:17.907146Z",
     "iopub.status.busy": "2022-03-13T17:41:17.906877Z",
     "iopub.status.idle": "2022-03-13T17:41:19.629018Z",
     "shell.execute_reply": "2022-03-13T17:41:19.627883Z",
     "shell.execute_reply.started": "2022-03-13T17:41:17.907117Z"
    }
   },
   "outputs": [],
   "source": [
    "sba = sba.astype({'DisbursementGross':np.float64,'SBA_Appv':np.float64,\\\n",
    "                              'GrAppv':np.float64, 'ChgOffPrinGr':np.float64, 'NAICS':np.str_})"
   ]
  },
  {
   "cell_type": "markdown",
   "metadata": {},
   "source": [
    "<div style=\"font-family: Trebuchet MS;background-color:DarkCyan;color:Azure;text-align: left;padding-top: 5px;padding-bottom: 15px;padding-left: 20px;padding-right: 10px;border-radius: 15px 50px;letter-spacing: 2px;\">\n",
    "    <h2>2.2 Drop rows or columns if needed</h2>\n",
    "    </div>"
   ]
  },
  {
   "cell_type": "markdown",
   "metadata": {},
   "source": [
    "<div style=\"font-family: Trebuchet MS;background-color:LightSteelBlue;color:Black;text-align: left;padding-top: 5px;padding-bottom: 5px;padding-left: 20px;padding-right: 10px;border-radius: 15px 50px;letter-spacing: 2px;\">\n",
    "    <b>Check for na's in all columns</b></div>"
   ]
  },
  {
   "cell_type": "code",
   "execution_count": 99,
   "metadata": {
    "execution": {
     "iopub.execute_input": "2022-03-13T17:41:23.378186Z",
     "iopub.status.busy": "2022-03-13T17:41:23.377465Z",
     "iopub.status.idle": "2022-03-13T17:41:57.325831Z",
     "shell.execute_reply": "2022-03-13T17:41:57.324699Z",
     "shell.execute_reply.started": "2022-03-13T17:41:23.378142Z"
    }
   },
   "outputs": [],
   "source": [
    "def check_cols_with_nulls(df):\n",
    "    cols_with_missing = [col for col in df.columns if df[col].isnull().any()]\n",
    "    if len(cols_with_missing) == 0:\n",
    "        print(\"No Missing Values\")\n",
    "    else:\n",
    "        print(cols_with_missing)\n",
    "    \n",
    "    sns.heatmap(df.isnull(),yticklabels=False,cbar=False,cmap='viridis')\n",
    "\n",
    "check_cols_with_nulls(sba)"
   ]
  },
  {
   "cell_type": "markdown",
   "metadata": {},
   "source": [
    "<div style=\"font-family: Trebuchet MS;background-color:LightSteelBlue;color:Black;text-align: left;padding-top: 5px;padding-bottom: 5px;padding-left: 20px;padding-right: 10px;border-radius: 15px 50px;letter-spacing: 2px;\">\n",
    "    <b>Column Drop 1 - drop columns deemed not needed</b>\n",
    "    </div>"
   ]
  },
  {
   "cell_type": "code",
   "execution_count": 100,
   "metadata": {
    "execution": {
     "iopub.execute_input": "2022-03-13T17:42:03.738336Z",
     "iopub.status.busy": "2022-03-13T17:42:03.738002Z",
     "iopub.status.idle": "2022-03-13T17:42:24.817113Z",
     "shell.execute_reply": "2022-03-13T17:42:24.816254Z",
     "shell.execute_reply.started": "2022-03-13T17:42:03.738300Z"
    }
   },
   "outputs": [],
   "source": [
    "# Save 1\n",
    "sba.to_csv(savepath + \"sba_save1.csv\",index=False)"
   ]
  },
  {
   "cell_type": "code",
   "execution_count": 101,
   "metadata": {
    "execution": {
     "iopub.execute_input": "2022-03-13T17:42:25.918742Z",
     "iopub.status.busy": "2022-03-13T17:42:25.917701Z",
     "iopub.status.idle": "2022-03-13T17:42:26.502572Z",
     "shell.execute_reply": "2022-03-13T17:42:26.501682Z",
     "shell.execute_reply.started": "2022-03-13T17:42:25.918693Z"
    }
   },
   "outputs": [],
   "source": [
    "cols_to_drop = ['LoanNr_ChkDgt', 'Zip', 'Bank', 'BankState', 'ApprovalDate', 'ApprovalFY', \\\n",
    "                'ChgOffDate', 'BalanceGross']\n",
    "\n",
    "sba.drop(columns=cols_to_drop, inplace=True)"
   ]
  },
  {
   "cell_type": "code",
   "execution_count": 102,
   "metadata": {
    "execution": {
     "iopub.execute_input": "2022-03-13T17:42:28.993946Z",
     "iopub.status.busy": "2022-03-13T17:42:28.993616Z",
     "iopub.status.idle": "2022-03-13T17:42:29.018062Z",
     "shell.execute_reply": "2022-03-13T17:42:29.017064Z",
     "shell.execute_reply.started": "2022-03-13T17:42:28.993912Z"
    }
   },
   "outputs": [],
   "source": [
    "sba.head(2)"
   ]
  },
  {
   "cell_type": "markdown",
   "metadata": {},
   "source": [
    "<div style=\"font-family: Trebuchet MS;background-color:LightSteelBlue;color:Black;text-align: left;padding-top: 5px;padding-bottom: 5px;padding-left: 20px;padding-right: 10px;border-radius: 15px 50px;letter-spacing: 2px;\">\n",
    "    <b>DisbursementDate</b>\n",
    "    </div>"
   ]
  },
  {
   "cell_type": "code",
   "execution_count": 103,
   "metadata": {
    "execution": {
     "iopub.execute_input": "2022-03-13T17:42:33.312323Z",
     "iopub.status.busy": "2022-03-13T17:42:33.311879Z",
     "iopub.status.idle": "2022-03-13T17:42:33.322384Z",
     "shell.execute_reply": "2022-03-13T17:42:33.321534Z",
     "shell.execute_reply.started": "2022-03-13T17:42:33.312290Z"
    }
   },
   "outputs": [],
   "source": [
    "x = sba[sba['DisbursementDate'].isna()]\n",
    "print(x.shape)"
   ]
  },
  {
   "cell_type": "code",
   "execution_count": 104,
   "metadata": {
    "execution": {
     "iopub.execute_input": "2022-03-13T17:42:35.862493Z",
     "iopub.status.busy": "2022-03-13T17:42:35.862046Z",
     "iopub.status.idle": "2022-03-13T17:42:35.994105Z",
     "shell.execute_reply": "2022-03-13T17:42:35.993176Z",
     "shell.execute_reply.started": "2022-03-13T17:42:35.862461Z"
    },
    "scrolled": true
   },
   "outputs": [],
   "source": [
    "# Not many nulls for DisbursementDate vis-a-vis to the dataset length, so drop rows with null\n",
    "sba.dropna(subset=['DisbursementDate'], how='all', inplace=True)\n",
    "x = sba[sba['DisbursementDate'].isna()]\n",
    "print(x.shape)"
   ]
  },
  {
   "cell_type": "markdown",
   "metadata": {},
   "source": [
    "<div style=\"font-family: Trebuchet MS;background-color:LightSteelBlue;color:Black;text-align: left;padding-top: 5px;padding-bottom: 5px;padding-left: 20px;padding-right: 10px;border-radius: 15px 50px;letter-spacing: 2px;\">\n",
    "    <b>RevLineCr</b></div>"
   ]
  },
  {
   "cell_type": "code",
   "execution_count": 105,
   "metadata": {
    "execution": {
     "iopub.execute_input": "2022-03-13T17:42:38.680460Z",
     "iopub.status.busy": "2022-03-13T17:42:38.680162Z",
     "iopub.status.idle": "2022-03-13T17:42:39.022453Z",
     "shell.execute_reply": "2022-03-13T17:42:39.021462Z",
     "shell.execute_reply.started": "2022-03-13T17:42:38.680427Z"
    }
   },
   "outputs": [],
   "source": [
    "len(sba[(sba['RevLineCr'] != 'Y') & (sba['RevLineCr'] != 'N')])"
   ]
  },
  {
   "cell_type": "code",
   "execution_count": 106,
   "metadata": {
    "execution": {
     "iopub.execute_input": "2022-03-13T17:42:42.406441Z",
     "iopub.status.busy": "2022-03-13T17:42:42.405921Z",
     "iopub.status.idle": "2022-03-13T17:42:42.524983Z",
     "shell.execute_reply": "2022-03-13T17:42:42.524211Z",
     "shell.execute_reply.started": "2022-03-13T17:42:42.406349Z"
    }
   },
   "outputs": [],
   "source": [
    "# too many unknowns, drop 'RevlineCr'\n",
    "sba.drop(columns=['RevLineCr'],inplace=True)\n",
    "'RevLineCR' in sba.columns"
   ]
  },
  {
   "cell_type": "markdown",
   "metadata": {},
   "source": [
    "<div style=\"font-family: Trebuchet MS;background-color:LightSteelBlue;color:Black;text-align: left;padding-top: 5px;padding-bottom: 5px;padding-left: 20px;padding-right: 10px;border-radius: 15px 50px;letter-spacing: 2px;\">\n",
    "    <b>LowDoc</b></div>"
   ]
  },
  {
   "cell_type": "code",
   "execution_count": 107,
   "metadata": {
    "execution": {
     "iopub.execute_input": "2022-03-13T17:42:45.184466Z",
     "iopub.status.busy": "2022-03-13T17:42:45.183842Z",
     "iopub.status.idle": "2022-03-13T17:42:45.286001Z",
     "shell.execute_reply": "2022-03-13T17:42:45.285279Z",
     "shell.execute_reply.started": "2022-03-13T17:42:45.184427Z"
    }
   },
   "outputs": [],
   "source": [
    "sba['LowDoc'].isna().sum()"
   ]
  },
  {
   "cell_type": "code",
   "execution_count": 108,
   "metadata": {
    "execution": {
     "iopub.execute_input": "2022-03-13T17:42:47.278972Z",
     "iopub.status.busy": "2022-03-13T17:42:47.278621Z",
     "iopub.status.idle": "2022-03-13T17:42:47.563390Z",
     "shell.execute_reply": "2022-03-13T17:42:47.562691Z",
     "shell.execute_reply.started": "2022-03-13T17:42:47.278937Z"
    }
   },
   "outputs": [],
   "source": [
    "len(sba[(sba['LowDoc'] != 'Y') & (sba['LowDoc'] != 'N')])"
   ]
  },
  {
   "cell_type": "code",
   "execution_count": 109,
   "metadata": {
    "execution": {
     "iopub.execute_input": "2022-03-13T17:42:49.941156Z",
     "iopub.status.busy": "2022-03-13T17:42:49.940680Z",
     "iopub.status.idle": "2022-03-13T17:42:51.280637Z",
     "shell.execute_reply": "2022-03-13T17:42:51.279618Z",
     "shell.execute_reply.started": "2022-03-13T17:42:49.941121Z"
    }
   },
   "outputs": [],
   "source": [
    "sns.countplot(x='LowDoc',data=sba)"
   ]
  },
  {
   "cell_type": "markdown",
   "metadata": {},
   "source": [
    "* **LowDoc seems to have a bearing**"
   ]
  },
  {
   "cell_type": "code",
   "execution_count": 110,
   "metadata": {
    "execution": {
     "iopub.execute_input": "2022-03-13T17:42:54.406960Z",
     "iopub.status.busy": "2022-03-13T17:42:54.406289Z",
     "iopub.status.idle": "2022-03-13T17:42:55.079038Z",
     "shell.execute_reply": "2022-03-13T17:42:55.078038Z",
     "shell.execute_reply.started": "2022-03-13T17:42:54.406916Z"
    }
   },
   "outputs": [],
   "source": [
    "# 5965 records that are not 'Y' or 'N', we can drop these rows\n",
    "sba = sba[(sba['LowDoc'] == 'Y') | (sba['LowDoc'] == 'N')]\n",
    "len(sba[(sba['LowDoc'] != 'Y') & (sba['LowDoc'] != 'N')])"
   ]
  },
  {
   "cell_type": "code",
   "execution_count": 111,
   "metadata": {
    "execution": {
     "iopub.execute_input": "2022-03-13T17:42:57.460126Z",
     "iopub.status.busy": "2022-03-13T17:42:57.459434Z",
     "iopub.status.idle": "2022-03-13T17:42:57.906007Z",
     "shell.execute_reply": "2022-03-13T17:42:57.904768Z",
     "shell.execute_reply.started": "2022-03-13T17:42:57.460083Z"
    }
   },
   "outputs": [],
   "source": [
    "len(sba[(sba['LowDoc'] == 'Y') | (sba['LowDoc'] == 'N')])"
   ]
  },
  {
   "cell_type": "markdown",
   "metadata": {},
   "source": [
    "<div style=\"font-family: Trebuchet MS;background-color:LightSteelBlue;color:Black;text-align: left;padding-top: 5px;padding-bottom: 5px;padding-left: 20px;padding-right: 10px;border-radius: 15px 50px;letter-spacing: 2px;\">\n",
    "    <b>NewExist</b>"
   ]
  },
  {
   "cell_type": "code",
   "execution_count": 112,
   "metadata": {
    "execution": {
     "iopub.execute_input": "2022-03-13T17:43:00.309864Z",
     "iopub.status.busy": "2022-03-13T17:43:00.309529Z",
     "iopub.status.idle": "2022-03-13T17:43:00.321453Z",
     "shell.execute_reply": "2022-03-13T17:43:00.320576Z",
     "shell.execute_reply.started": "2022-03-13T17:43:00.309832Z"
    }
   },
   "outputs": [],
   "source": [
    "len(sba[(sba['NewExist'] != 1) & (sba['NewExist'] != 2)])"
   ]
  },
  {
   "cell_type": "code",
   "execution_count": 113,
   "metadata": {
    "execution": {
     "iopub.execute_input": "2022-03-13T17:43:02.566908Z",
     "iopub.status.busy": "2022-03-13T17:43:02.566409Z",
     "iopub.status.idle": "2022-03-13T17:43:02.881296Z",
     "shell.execute_reply": "2022-03-13T17:43:02.880277Z",
     "shell.execute_reply.started": "2022-03-13T17:43:02.566855Z"
    }
   },
   "outputs": [],
   "source": [
    "sns.countplot(x='NewExist',data=sba)"
   ]
  },
  {
   "cell_type": "code",
   "execution_count": 114,
   "metadata": {
    "execution": {
     "iopub.execute_input": "2022-03-13T17:43:05.369869Z",
     "iopub.status.busy": "2022-03-13T17:43:05.369571Z",
     "iopub.status.idle": "2022-03-13T17:43:05.522136Z",
     "shell.execute_reply": "2022-03-13T17:43:05.521109Z",
     "shell.execute_reply.started": "2022-03-13T17:43:05.369839Z"
    }
   },
   "outputs": [],
   "source": [
    "# 1154 records that are not 1 or 2, we can drop these rows as NewExist seems to have a bearing\n",
    "sba = sba[(sba['NewExist'] == 1) | (sba['NewExist'] == 2)]\n",
    "len(sba[(sba['NewExist'] != 1) & (sba['NewExist'] != 2)])"
   ]
  },
  {
   "cell_type": "code",
   "execution_count": 115,
   "metadata": {
    "execution": {
     "iopub.execute_input": "2022-03-13T17:43:10.560112Z",
     "iopub.status.busy": "2022-03-13T17:43:10.559823Z",
     "iopub.status.idle": "2022-03-13T17:43:10.696707Z",
     "shell.execute_reply": "2022-03-13T17:43:10.695874Z",
     "shell.execute_reply.started": "2022-03-13T17:43:10.560085Z"
    }
   },
   "outputs": [],
   "source": [
    "len(sba[(sba['NewExist'] == 1) | (sba['NewExist'] == 2)])"
   ]
  },
  {
   "cell_type": "code",
   "execution_count": 116,
   "metadata": {
    "execution": {
     "iopub.execute_input": "2022-03-13T17:43:13.400524Z",
     "iopub.status.busy": "2022-03-13T17:43:13.400032Z",
     "iopub.status.idle": "2022-03-13T17:43:13.485953Z",
     "shell.execute_reply": "2022-03-13T17:43:13.484748Z",
     "shell.execute_reply.started": "2022-03-13T17:43:13.400474Z"
    }
   },
   "outputs": [],
   "source": [
    "# ideally, convert dtype to int32\n",
    "sba = sba.astype({'NewExist':np.int32})"
   ]
  },
  {
   "cell_type": "markdown",
   "metadata": {},
   "source": [
    "<div style=\"font-family: Trebuchet MS;background-color:LightSteelBlue;color:Black;text-align: left;padding-top: 5px;padding-bottom: 5px;padding-left: 20px;padding-right: 10px;border-radius: 15px 50px;letter-spacing: 2px;\">\n",
    "    <b>CreateJob</b></div>"
   ]
  },
  {
   "cell_type": "code",
   "execution_count": 117,
   "metadata": {
    "execution": {
     "iopub.execute_input": "2022-03-13T17:43:16.572619Z",
     "iopub.status.busy": "2022-03-13T17:43:16.572318Z",
     "iopub.status.idle": "2022-03-13T17:43:16.830730Z",
     "shell.execute_reply": "2022-03-13T17:43:16.829576Z",
     "shell.execute_reply.started": "2022-03-13T17:43:16.572586Z"
    }
   },
   "outputs": [],
   "source": [
    "len(sba[sba['CreateJob'].isna() == True])"
   ]
  },
  {
   "cell_type": "markdown",
   "metadata": {},
   "source": [
    "<div style=\"font-family: Trebuchet MS;background-color:LightSteelBlue;color:Black;text-align: left;padding-top: 5px;padding-bottom: 5px;padding-left: 20px;padding-right: 10px;border-radius: 15px 50px;letter-spacing: 2px;\">\n",
    "    <b>RetainedJob</b></div>"
   ]
  },
  {
   "cell_type": "code",
   "execution_count": 118,
   "metadata": {
    "execution": {
     "iopub.execute_input": "2022-03-13T17:43:19.023030Z",
     "iopub.status.busy": "2022-03-13T17:43:19.022737Z",
     "iopub.status.idle": "2022-03-13T17:43:19.032041Z",
     "shell.execute_reply": "2022-03-13T17:43:19.031145Z",
     "shell.execute_reply.started": "2022-03-13T17:43:19.022997Z"
    }
   },
   "outputs": [],
   "source": [
    "len(sba[sba['RetainedJob'].isna() == True])"
   ]
  },
  {
   "cell_type": "markdown",
   "metadata": {},
   "source": [
    "<div style=\"font-family: Trebuchet MS;background-color:LightSteelBlue;color:Black;text-align: left;padding-top: 5px;padding-bottom: 5px;padding-left: 20px;padding-right: 10px;border-radius: 15px 50px;letter-spacing: 2px;\">\n",
    "    <b>FranchiseCode</b></div>"
   ]
  },
  {
   "cell_type": "code",
   "execution_count": 119,
   "metadata": {
    "execution": {
     "iopub.execute_input": "2022-03-13T17:43:21.376602Z",
     "iopub.status.busy": "2022-03-13T17:43:21.375721Z",
     "iopub.status.idle": "2022-03-13T17:43:21.389935Z",
     "shell.execute_reply": "2022-03-13T17:43:21.388531Z",
     "shell.execute_reply.started": "2022-03-13T17:43:21.376537Z"
    }
   },
   "outputs": [],
   "source": [
    "len(sba[sba['FranchiseCode'].isna()])"
   ]
  },
  {
   "cell_type": "markdown",
   "metadata": {},
   "source": [
    "<div style=\"font-family: Trebuchet MS;background-color:LightSteelBlue;color:Black;text-align: left;padding-top: 5px;padding-bottom: 5px;padding-left: 20px;padding-right: 10px;border-radius: 15px 50px;letter-spacing: 2px;\">\n",
    "    <b>UrbanRural</b></div>"
   ]
  },
  {
   "cell_type": "code",
   "execution_count": 120,
   "metadata": {
    "execution": {
     "iopub.execute_input": "2022-03-13T17:43:24.533703Z",
     "iopub.status.busy": "2022-03-13T17:43:24.532489Z",
     "iopub.status.idle": "2022-03-13T17:43:24.547194Z",
     "shell.execute_reply": "2022-03-13T17:43:24.546191Z",
     "shell.execute_reply.started": "2022-03-13T17:43:24.533659Z"
    }
   },
   "outputs": [],
   "source": [
    "print(len(sba[sba['UrbanRural'].isna()]))\n",
    "sba['UrbanRural'].unique()"
   ]
  },
  {
   "cell_type": "markdown",
   "metadata": {},
   "source": [
    "<div style=\"font-family: Trebuchet MS;background-color:LightSteelBlue;color:Black;text-align: left;padding-top: 5px;padding-bottom: 5px;padding-left: 20px;padding-right: 10px;border-radius: 15px 50px;letter-spacing: 2px;\">\n",
    "    <b>NoEmp</b></div>"
   ]
  },
  {
   "cell_type": "code",
   "execution_count": 121,
   "metadata": {
    "execution": {
     "iopub.execute_input": "2022-03-13T17:43:27.430921Z",
     "iopub.status.busy": "2022-03-13T17:43:27.429949Z",
     "iopub.status.idle": "2022-03-13T17:43:27.438557Z",
     "shell.execute_reply": "2022-03-13T17:43:27.437888Z",
     "shell.execute_reply.started": "2022-03-13T17:43:27.430870Z"
    }
   },
   "outputs": [],
   "source": [
    "len(sba[sba['NoEmp'].isna()])"
   ]
  },
  {
   "cell_type": "markdown",
   "metadata": {},
   "source": [
    "<div style=\"font-family: Trebuchet MS;background-color:LightSteelBlue;color:Black;text-align: left;padding-top: 5px;padding-bottom: 5px;padding-left: 20px;padding-right: 10px;border-radius: 15px 50px;letter-spacing: 2px;\">\n",
    "    <b>Term</b></div>"
   ]
  },
  {
   "cell_type": "code",
   "execution_count": 122,
   "metadata": {
    "execution": {
     "iopub.execute_input": "2022-03-13T17:43:30.572879Z",
     "iopub.status.busy": "2022-03-13T17:43:30.571787Z",
     "iopub.status.idle": "2022-03-13T17:43:30.588051Z",
     "shell.execute_reply": "2022-03-13T17:43:30.586785Z",
     "shell.execute_reply.started": "2022-03-13T17:43:30.572823Z"
    }
   },
   "outputs": [],
   "source": [
    "print(len(sba[sba['Term'].isna()]))\n",
    "print(len(sba[sba['Term']==0]))\n",
    "print(len(sba[sba['Term']<0]))"
   ]
  },
  {
   "cell_type": "markdown",
   "metadata": {},
   "source": [
    "<div style=\"font-family: Trebuchet MS;background-color:LightSteelBlue;color:Black;text-align: left;padding-top: 5px;padding-bottom: 5px;padding-left: 20px;padding-right: 10px;border-radius: 15px 50px;letter-spacing: 2px;\">\n",
    "    <b>City</b></div>"
   ]
  },
  {
   "cell_type": "code",
   "execution_count": 123,
   "metadata": {
    "execution": {
     "iopub.execute_input": "2022-03-13T17:43:33.746730Z",
     "iopub.status.busy": "2022-03-13T17:43:33.745761Z",
     "iopub.status.idle": "2022-03-13T17:43:33.854481Z",
     "shell.execute_reply": "2022-03-13T17:43:33.853576Z",
     "shell.execute_reply.started": "2022-03-13T17:43:33.746681Z"
    }
   },
   "outputs": [],
   "source": [
    "len(sba[sba['City'].isna()])"
   ]
  },
  {
   "cell_type": "code",
   "execution_count": 124,
   "metadata": {
    "execution": {
     "iopub.execute_input": "2022-03-13T17:43:36.611535Z",
     "iopub.status.busy": "2022-03-13T17:43:36.611243Z",
     "iopub.status.idle": "2022-03-13T17:43:36.966028Z",
     "shell.execute_reply": "2022-03-13T17:43:36.964701Z",
     "shell.execute_reply.started": "2022-03-13T17:43:36.611506Z"
    }
   },
   "outputs": [],
   "source": [
    "# drop na in City column\n",
    "sba = sba[sba['City'].notna()]\n",
    "len(sba[sba['City'].isna()])"
   ]
  },
  {
   "cell_type": "code",
   "execution_count": 125,
   "metadata": {
    "execution": {
     "iopub.execute_input": "2022-03-13T17:43:40.386794Z",
     "iopub.status.busy": "2022-03-13T17:43:40.386247Z",
     "iopub.status.idle": "2022-03-13T17:43:40.406286Z",
     "shell.execute_reply": "2022-03-13T17:43:40.405487Z",
     "shell.execute_reply.started": "2022-03-13T17:43:40.386759Z"
    }
   },
   "outputs": [],
   "source": [
    "sba.head(2)"
   ]
  },
  {
   "cell_type": "code",
   "execution_count": 126,
   "metadata": {
    "execution": {
     "iopub.execute_input": "2022-03-13T17:43:43.199022Z",
     "iopub.status.busy": "2022-03-13T17:43:43.198545Z",
     "iopub.status.idle": "2022-03-13T17:43:43.662044Z",
     "shell.execute_reply": "2022-03-13T17:43:43.661243Z",
     "shell.execute_reply.started": "2022-03-13T17:43:43.198990Z"
    }
   },
   "outputs": [],
   "source": [
    "# Trim leading and trailing spaces\n",
    "sba['City'] = sba['City'].str.strip()"
   ]
  },
  {
   "cell_type": "markdown",
   "metadata": {},
   "source": [
    "<div style=\"font-family: Trebuchet MS;background-color:LightSteelBlue;color:Black;text-align: left;padding-top: 5px;padding-bottom: 5px;padding-left: 20px;padding-right: 10px;border-radius: 15px 50px;letter-spacing: 2px;\">\n",
    "    <b>State</b></div>"
   ]
  },
  {
   "cell_type": "code",
   "execution_count": 127,
   "metadata": {
    "execution": {
     "iopub.execute_input": "2022-03-13T17:43:46.475502Z",
     "iopub.status.busy": "2022-03-13T17:43:46.475037Z",
     "iopub.status.idle": "2022-03-13T17:43:46.576316Z",
     "shell.execute_reply": "2022-03-13T17:43:46.575395Z",
     "shell.execute_reply.started": "2022-03-13T17:43:46.475469Z"
    }
   },
   "outputs": [],
   "source": [
    "len(sba[sba['State'].isna()])"
   ]
  },
  {
   "cell_type": "code",
   "execution_count": 128,
   "metadata": {
    "execution": {
     "iopub.execute_input": "2022-03-13T17:43:48.758989Z",
     "iopub.status.busy": "2022-03-13T17:43:48.758014Z",
     "iopub.status.idle": "2022-03-13T17:43:49.074236Z",
     "shell.execute_reply": "2022-03-13T17:43:49.072843Z",
     "shell.execute_reply.started": "2022-03-13T17:43:48.758873Z"
    }
   },
   "outputs": [],
   "source": [
    "# drop na in State column\n",
    "sba = sba[sba['State'].notna()]\n",
    "len(sba[sba['State'].isna()])"
   ]
  },
  {
   "cell_type": "markdown",
   "metadata": {},
   "source": [
    "<div style=\"font-family: Trebuchet MS;background-color:Chocolate;color:AliceBlue;text-align: left;padding-top: 5px;padding-bottom: 5px;padding-left: 20px;padding-right: 10px;border-radius: 15px 50px;letter-spacing: 2px;\">\n",
    "    <b>MIS_Status<b> - this is the **target** variable</div>"
   ]
  },
  {
   "cell_type": "code",
   "execution_count": 129,
   "metadata": {
    "execution": {
     "iopub.execute_input": "2022-03-13T17:43:52.120691Z",
     "iopub.status.busy": "2022-03-13T17:43:52.120229Z",
     "iopub.status.idle": "2022-03-13T17:43:52.224799Z",
     "shell.execute_reply": "2022-03-13T17:43:52.223676Z",
     "shell.execute_reply.started": "2022-03-13T17:43:52.120642Z"
    }
   },
   "outputs": [],
   "source": [
    "len(sba.loc[sba['MIS_Status'].isna()])"
   ]
  },
  {
   "cell_type": "code",
   "execution_count": 130,
   "metadata": {
    "execution": {
     "iopub.execute_input": "2022-03-13T17:43:54.412905Z",
     "iopub.status.busy": "2022-03-13T17:43:54.410872Z",
     "iopub.status.idle": "2022-03-13T17:43:54.763993Z",
     "shell.execute_reply": "2022-03-13T17:43:54.762978Z",
     "shell.execute_reply.started": "2022-03-13T17:43:54.412838Z"
    }
   },
   "outputs": [],
   "source": [
    "# drop na in 'MIS_Status' column\n",
    "sba = sba[sba['MIS_Status'].notna()]\n",
    "len(sba[sba['MIS_Status'].isna()])"
   ]
  },
  {
   "cell_type": "markdown",
   "metadata": {},
   "source": [
    "<div style=\"font-family: Trebuchet MS;background-color:LightSteelBlue;color:Black;text-align: left;padding-top: 5px;padding-bottom: 5px;padding-left: 20px;padding-right: 10px;border-radius: 15px 50px;letter-spacing: 2px;\">\n",
    "    <b>NAICS</b></div>"
   ]
  },
  {
   "cell_type": "code",
   "execution_count": 131,
   "metadata": {
    "execution": {
     "iopub.execute_input": "2022-03-13T17:43:57.610930Z",
     "iopub.status.busy": "2022-03-13T17:43:57.610638Z",
     "iopub.status.idle": "2022-03-13T17:43:57.716610Z",
     "shell.execute_reply": "2022-03-13T17:43:57.715405Z",
     "shell.execute_reply.started": "2022-03-13T17:43:57.610902Z"
    }
   },
   "outputs": [],
   "source": [
    "len(sba[sba['NAICS'].isna()])"
   ]
  },
  {
   "cell_type": "markdown",
   "metadata": {},
   "source": [
    "<div style=\"font-family: Trebuchet MS;background-color:LightSteelBlue;color:Black;text-align: left;padding-top: 5px;padding-bottom: 5px;padding-left: 20px;padding-right: 10px;border-radius: 15px 50px;letter-spacing: 2px;\">\n",
    "    <b>Name</b> - keeping this feature temporarily, in case it is needed\n",
    "    </div>"
   ]
  },
  {
   "cell_type": "code",
   "execution_count": 132,
   "metadata": {
    "execution": {
     "iopub.execute_input": "2022-03-13T17:44:00.313265Z",
     "iopub.status.busy": "2022-03-13T17:44:00.312589Z",
     "iopub.status.idle": "2022-03-13T17:44:00.427194Z",
     "shell.execute_reply": "2022-03-13T17:44:00.426369Z",
     "shell.execute_reply.started": "2022-03-13T17:44:00.313223Z"
    }
   },
   "outputs": [],
   "source": [
    "len(sba[sba['Name'].isna()])"
   ]
  },
  {
   "cell_type": "code",
   "execution_count": 133,
   "metadata": {
    "execution": {
     "iopub.execute_input": "2022-03-13T17:44:03.030332Z",
     "iopub.status.busy": "2022-03-13T17:44:03.029773Z",
     "iopub.status.idle": "2022-03-13T17:44:03.419636Z",
     "shell.execute_reply": "2022-03-13T17:44:03.418746Z",
     "shell.execute_reply.started": "2022-03-13T17:44:03.030293Z"
    }
   },
   "outputs": [],
   "source": [
    "# drop rows with na in column 'Name'\n",
    "sba.dropna(subset=['Name'], how='all', inplace=True)\n",
    "len(sba[sba['Name'].isna()])"
   ]
  },
  {
   "cell_type": "markdown",
   "metadata": {},
   "source": [
    "<div style=\"font-family: Trebuchet MS;background-color:LightSteelBlue;color:Black;text-align: left;padding-top: 5px;padding-bottom: 5px;padding-left: 20px;padding-right: 10px;border-radius: 15px 50px;letter-spacing: 2px;\">\n",
    "    <b>Check for na's in all columns</b></div>"
   ]
  },
  {
   "cell_type": "code",
   "execution_count": 134,
   "metadata": {
    "execution": {
     "iopub.execute_input": "2022-03-13T17:44:09.721132Z",
     "iopub.status.busy": "2022-03-13T17:44:09.720812Z",
     "iopub.status.idle": "2022-03-13T17:44:31.699927Z",
     "shell.execute_reply": "2022-03-13T17:44:31.698732Z",
     "shell.execute_reply.started": "2022-03-13T17:44:09.721090Z"
    }
   },
   "outputs": [],
   "source": [
    "check_cols_with_nulls(sba)  # this function was defined earlier above"
   ]
  },
  {
   "cell_type": "code",
   "execution_count": 135,
   "metadata": {
    "execution": {
     "iopub.execute_input": "2022-03-13T17:44:36.402821Z",
     "iopub.status.busy": "2022-03-13T17:44:36.402429Z",
     "iopub.status.idle": "2022-03-13T17:44:52.006871Z",
     "shell.execute_reply": "2022-03-13T17:44:52.005759Z",
     "shell.execute_reply.started": "2022-03-13T17:44:36.402779Z"
    }
   },
   "outputs": [],
   "source": [
    "# Save 2\n",
    "sba.to_csv(savepath + \"sba_save2.csv\",index=False)"
   ]
  },
  {
   "cell_type": "markdown",
   "metadata": {},
   "source": [
    "<div style=\"font-family: Trebuchet MS;background-color:DarkCyan;color:Azure;text-align: left;padding-top: 5px;padding-bottom: 15px;padding-left: 20px;padding-right: 10px;border-radius: 15px 50px;letter-spacing: 2px;\">\n",
    "    <h2>2.3 Create New Features</h2>\n",
    "    </div>"
   ]
  },
  {
   "cell_type": "markdown",
   "metadata": {},
   "source": [
    "<div style=\"font-family: Trebuchet MS;background-color:LightSteelBlue;color:Black;text-align: left;padding-top: 5px;padding-bottom: 5px;padding-left: 20px;padding-right: 10px;border-radius: 15px 50px;letter-spacing: 2px;\">\n",
    "    <b>Industry</b> - The industry sector is the 1st 2 digits of NAICS\n",
    "    </div>"
   ]
  },
  {
   "cell_type": "code",
   "execution_count": 136,
   "metadata": {
    "execution": {
     "iopub.execute_input": "2022-03-13T17:47:02.010085Z",
     "iopub.status.busy": "2022-03-13T17:47:02.009771Z",
     "iopub.status.idle": "2022-03-13T17:47:02.713716Z",
     "shell.execute_reply": "2022-03-13T17:47:02.712725Z",
     "shell.execute_reply.started": "2022-03-13T17:47:02.010046Z"
    }
   },
   "outputs": [],
   "source": [
    "sba['Industry'] = sba['NAICS'].str[0:2]\n",
    "sba = sba.astype({'Industry':np.int32})"
   ]
  },
  {
   "cell_type": "code",
   "execution_count": 137,
   "metadata": {
    "execution": {
     "iopub.execute_input": "2022-03-13T17:47:03.949881Z",
     "iopub.status.busy": "2022-03-13T17:47:03.949531Z",
     "iopub.status.idle": "2022-03-13T17:47:03.957532Z",
     "shell.execute_reply": "2022-03-13T17:47:03.956878Z",
     "shell.execute_reply.started": "2022-03-13T17:47:03.949847Z"
    }
   },
   "outputs": [],
   "source": [
    "sba['Industry'].head(2)"
   ]
  },
  {
   "cell_type": "code",
   "execution_count": 138,
   "metadata": {
    "execution": {
     "iopub.execute_input": "2022-03-13T17:47:08.095541Z",
     "iopub.status.busy": "2022-03-13T17:47:08.094918Z",
     "iopub.status.idle": "2022-03-13T17:47:08.105476Z",
     "shell.execute_reply": "2022-03-13T17:47:08.104764Z",
     "shell.execute_reply.started": "2022-03-13T17:47:08.095490Z"
    }
   },
   "outputs": [],
   "source": [
    "sba['Industry'].unique()\n",
    "# There is an invalid industry shown which is '0', caused by blank NAICS"
   ]
  },
  {
   "cell_type": "code",
   "execution_count": 139,
   "metadata": {
    "execution": {
     "iopub.execute_input": "2022-03-13T17:47:10.116344Z",
     "iopub.status.busy": "2022-03-13T17:47:10.115736Z",
     "iopub.status.idle": "2022-03-13T17:47:10.447002Z",
     "shell.execute_reply": "2022-03-13T17:47:10.445742Z",
     "shell.execute_reply.started": "2022-03-13T17:47:10.116305Z"
    }
   },
   "outputs": [],
   "source": [
    "len(sba[sba['Industry'] == 0])\n",
    "# This is a bummer, as industry sector has a big effect on a business, speaking as a business \n",
    "# domain expert.  Do we drop those with NAICS = 0 ?"
   ]
  },
  {
   "cell_type": "code",
   "execution_count": 140,
   "metadata": {
    "execution": {
     "iopub.execute_input": "2022-03-13T17:47:12.598316Z",
     "iopub.status.busy": "2022-03-13T17:47:12.598035Z",
     "iopub.status.idle": "2022-03-13T17:47:12.708958Z",
     "shell.execute_reply": "2022-03-13T17:47:12.707853Z",
     "shell.execute_reply.started": "2022-03-13T17:47:12.598288Z"
    }
   },
   "outputs": [],
   "source": [
    "# At this stage, we leave it as is and treat it as unknown industry.  We can now drop NAICS\n",
    "\n",
    "sba.drop(columns=['NAICS'], inplace=True)\n",
    "sba.head(2)"
   ]
  },
  {
   "cell_type": "code",
   "execution_count": 141,
   "metadata": {
    "execution": {
     "iopub.execute_input": "2022-03-13T17:47:15.852134Z",
     "iopub.status.busy": "2022-03-13T17:47:15.851519Z",
     "iopub.status.idle": "2022-03-13T17:47:16.864789Z",
     "shell.execute_reply": "2022-03-13T17:47:16.864087Z",
     "shell.execute_reply.started": "2022-03-13T17:47:15.852072Z"
    }
   },
   "outputs": [],
   "source": [
    "# Check if we can impute from the name.  For example, a bar (or similar) business\n",
    "sba[(sba['Name'].str.contains('bar',case=False)) & (sba['Industry'] == 0)]\\\n",
    "    [['Name','Industry']].head(10)"
   ]
  },
  {
   "cell_type": "markdown",
   "metadata": {},
   "source": [
    "**It's not feasible to impute missing Industry codes efficiently, so we abandon the idea.**"
   ]
  },
  {
   "cell_type": "code",
   "execution_count": 142,
   "metadata": {
    "execution": {
     "iopub.execute_input": "2022-03-13T17:47:21.258279Z",
     "iopub.status.busy": "2022-03-13T17:47:21.257582Z",
     "iopub.status.idle": "2022-03-13T17:47:21.314772Z",
     "shell.execute_reply": "2022-03-13T17:47:21.313723Z",
     "shell.execute_reply.started": "2022-03-13T17:47:21.258239Z"
    }
   },
   "outputs": [],
   "source": [
    "# We can also drop 'Name' now\n",
    "sba.drop(columns='Name',inplace=True)"
   ]
  },
  {
   "cell_type": "markdown",
   "metadata": {},
   "source": [
    "<div style=\"font-family: Trebuchet MS;background-color:LightSteelBlue;color:Black;text-align: left;padding-top: 5px;padding-bottom: 5px;padding-left: 20px;padding-right: 10px;border-radius: 15px 50px;letter-spacing: 2px;\">\n",
    "    <b>Recession</b><br>\n",
    "We want to account for variation due to the Great Recession (December 2007 to June 2009). Should we separate the datasets into different time periods ? Before, During, and After ?  Let's check how large the sets are later.  In the meantime, we create a new feature, Recession, with 1 for 'Y' and 0 for 'N' depending on the DisbursementDate. \n",
    "<br><br>\n",
    "</div>"
   ]
  },
  {
   "cell_type": "code",
   "execution_count": null,
   "metadata": {
    "execution": {
     "iopub.execute_input": "2022-03-12T19:03:55.17476Z",
     "iopub.status.busy": "2022-03-12T19:03:55.174Z",
     "iopub.status.idle": "2022-03-12T19:03:55.429141Z",
     "shell.execute_reply": "2022-03-12T19:03:55.428135Z",
     "shell.execute_reply.started": "2022-03-12T19:03:55.174722Z"
    }
   },
   "outputs": [],
   "source": [
    "# Convert \"DisbursementDate\" to datetime\n",
    "\n",
    "# sba['DisbursementDate'] = pd.to_datetime(sba['DisbursementDate'], format='%d-%b-%y')\n",
    "\n",
    "# sba.head(2)"
   ]
  },
  {
   "cell_type": "code",
   "execution_count": 143,
   "metadata": {
    "execution": {
     "iopub.execute_input": "2022-03-13T17:47:26.383613Z",
     "iopub.status.busy": "2022-03-13T17:47:26.383300Z",
     "iopub.status.idle": "2022-03-13T17:47:26.399358Z",
     "shell.execute_reply": "2022-03-13T17:47:26.398358Z",
     "shell.execute_reply.started": "2022-03-13T17:47:26.383581Z"
    }
   },
   "outputs": [],
   "source": [
    "# Create new column based on condition\n",
    "sba['Recession'] = np.where((sba['DisbursementDate'] >= '2007-09-01')\\\n",
    "                     & (sba['DisbursementDate'] <= '2009-06-30'), 1, 0)"
   ]
  },
  {
   "cell_type": "code",
   "execution_count": 144,
   "metadata": {
    "execution": {
     "iopub.execute_input": "2022-03-13T17:47:28.608044Z",
     "iopub.status.busy": "2022-03-13T17:47:28.607590Z",
     "iopub.status.idle": "2022-03-13T17:47:28.753709Z",
     "shell.execute_reply": "2022-03-13T17:47:28.752662Z",
     "shell.execute_reply.started": "2022-03-13T17:47:28.608006Z"
    }
   },
   "outputs": [],
   "source": [
    "print(f'Total - {len(sba)}')\n",
    "y = len(sba[sba['Recession'] == 1])\n",
    "n = len(sba[sba['Recession'] == 0])\n",
    "print(f'Yes - {y}')\n",
    "print(f'No - {n}')\n",
    "print(f'Yes and No - {y+n}')\n"
   ]
  },
  {
   "cell_type": "markdown",
   "metadata": {},
   "source": [
    "<div style=\"font-family: Trebuchet MS;background-color:LightSteelBlue;color:Black;text-align: left;padding-top: 5px;padding-bottom: 5px;padding-left: 20px;padding-right: 10px;border-radius: 15px 50px;letter-spacing: 2px;\">\n",
    "    <b>Real Estate</b><br>\n",
    "Loans backed by real estate will have terms 20 years or greater (≥240 months) and are the only loans granted for such a long term, whereas loans not backed by real estate will have terms less than 20 years ( < 240 months).<br><br>\n",
    "1 - Backed By Real Estate<br>\n",
    "0 - Not Backed By Real Estate<br><br>"
   ]
  },
  {
   "cell_type": "code",
   "execution_count": 145,
   "metadata": {
    "execution": {
     "iopub.execute_input": "2022-03-13T17:47:31.989168Z",
     "iopub.status.busy": "2022-03-13T17:47:31.988869Z",
     "iopub.status.idle": "2022-03-13T17:47:32.000045Z",
     "shell.execute_reply": "2022-03-13T17:47:31.999021Z",
     "shell.execute_reply.started": "2022-03-13T17:47:31.989137Z"
    }
   },
   "outputs": [],
   "source": [
    "# Create new column based on condition\n",
    "sba['RealEstate'] = np.where(sba['Term'] >= 240, 1, 0)"
   ]
  },
  {
   "cell_type": "code",
   "execution_count": 146,
   "metadata": {
    "execution": {
     "iopub.execute_input": "2022-03-13T17:47:33.876014Z",
     "iopub.status.busy": "2022-03-13T17:47:33.875559Z",
     "iopub.status.idle": "2022-03-13T17:47:34.030263Z",
     "shell.execute_reply": "2022-03-13T17:47:34.029184Z",
     "shell.execute_reply.started": "2022-03-13T17:47:33.875982Z"
    }
   },
   "outputs": [],
   "source": [
    "print(f'Total - {len(sba)}')\n",
    "y = len(sba[sba['RealEstate'] == 1])\n",
    "n = len(sba[sba['RealEstate'] == 0])\n",
    "print(f'Yes - {y}')\n",
    "print(f'No - {n}')\n",
    "print(f'Yes and No - {y+n}')"
   ]
  },
  {
   "cell_type": "markdown",
   "metadata": {},
   "source": [
    "<div style=\"font-family: Trebuchet MS;background-color:LightSteelBlue;color:Black;text-align: left;padding-top: 5px;padding-bottom: 5px;padding-left: 20px;padding-right: 10px;border-radius: 15px 50px;letter-spacing: 2px;\">\n",
    "    <b>SBA_Portion</b><br>\n",
    "The portion which is the percentage of the loan that is guaranteed by SBA. This is derived by calculating the ratio of the amount of the loan SBA guarantees and the gross amount approved by the bank (SBA_Appv/GrAppv) * 100.<br><br></div>"
   ]
  },
  {
   "cell_type": "code",
   "execution_count": 147,
   "metadata": {
    "execution": {
     "iopub.execute_input": "2022-03-13T17:47:36.938883Z",
     "iopub.status.busy": "2022-03-13T17:47:36.938546Z",
     "iopub.status.idle": "2022-03-13T17:47:36.972145Z",
     "shell.execute_reply": "2022-03-13T17:47:36.970976Z",
     "shell.execute_reply.started": "2022-03-13T17:47:36.938850Z"
    }
   },
   "outputs": [],
   "source": [
    "sba['SBA_Portion']=(sba['SBA_Appv']/sba['GrAppv']) * 100\n",
    "sba.head(2)"
   ]
  },
  {
   "cell_type": "markdown",
   "metadata": {},
   "source": [
    "**CityState**"
   ]
  },
  {
   "cell_type": "code",
   "execution_count": 148,
   "metadata": {
    "execution": {
     "iopub.execute_input": "2022-03-13T17:47:39.364430Z",
     "iopub.status.busy": "2022-03-13T17:47:39.364148Z",
     "iopub.status.idle": "2022-03-13T17:47:39.771372Z",
     "shell.execute_reply": "2022-03-13T17:47:39.770400Z",
     "shell.execute_reply.started": "2022-03-13T17:47:39.364402Z"
    }
   },
   "outputs": [],
   "source": [
    "sba[\"CityState\"] = sba[\"City\"] + \"_\" + sba[\"State\"]\n",
    "sba[[\"CityState\", \"City\", \"State\"]].head()"
   ]
  },
  {
   "cell_type": "code",
   "execution_count": 149,
   "metadata": {
    "execution": {
     "iopub.execute_input": "2022-03-13T17:47:42.566369Z",
     "iopub.status.busy": "2022-03-13T17:47:42.566089Z",
     "iopub.status.idle": "2022-03-13T17:47:42.592454Z",
     "shell.execute_reply": "2022-03-13T17:47:42.591232Z",
     "shell.execute_reply.started": "2022-03-13T17:47:42.566342Z"
    }
   },
   "outputs": [],
   "source": [
    "sba.head(2)"
   ]
  },
  {
   "cell_type": "code",
   "execution_count": 150,
   "metadata": {
    "execution": {
     "iopub.execute_input": "2022-03-13T17:47:45.879253Z",
     "iopub.status.busy": "2022-03-13T17:47:45.878974Z",
     "iopub.status.idle": "2022-03-13T17:48:01.997388Z",
     "shell.execute_reply": "2022-03-13T17:48:01.996075Z",
     "shell.execute_reply.started": "2022-03-13T17:47:45.879224Z"
    }
   },
   "outputs": [],
   "source": [
    "# Save 3\n",
    "sba.to_csv(savepath + 'sba_save3.csv',index=False)"
   ]
  },
  {
   "cell_type": "markdown",
   "metadata": {},
   "source": [
    "<div style=\"font-family: Trebuchet MS;background-color:DarkCyan;color:Azure;text-align: left;padding-top: 5px;padding-bottom: 15px;padding-left: 20px;padding-right: 10px;border-radius: 15px 50px;letter-spacing: 2px;\">\n",
    "    <h2>2.4 Encode Categorical Features</h2>\n",
    "    </div>"
   ]
  },
  {
   "cell_type": "code",
   "execution_count": 151,
   "metadata": {
    "execution": {
     "iopub.execute_input": "2022-03-13T17:48:02.000065Z",
     "iopub.status.busy": "2022-03-13T17:48:01.999681Z",
     "iopub.status.idle": "2022-03-13T17:48:02.488421Z",
     "shell.execute_reply": "2022-03-13T17:48:02.487524Z",
     "shell.execute_reply.started": "2022-03-13T17:48:02.000017Z"
    }
   },
   "outputs": [],
   "source": [
    "sba.select_dtypes([\"object\"]).nunique()"
   ]
  },
  {
   "cell_type": "markdown",
   "metadata": {},
   "source": [
    "<div style=\"font-family: Trebuchet MS;background-color:Chocolate;color:AliceBlue;text-align: left;padding-top: 5px;padding-bottom: 5px;padding-left: 20px;padding-right: 10px;border-radius: 15px 50px;letter-spacing: 2px;\">\n",
    "    <b>MIS_Status</b><br>\n",
    "    This will be the <b>target</b> variable</div>"
   ]
  },
  {
   "cell_type": "code",
   "execution_count": 152,
   "metadata": {
    "execution": {
     "iopub.execute_input": "2022-03-13T17:48:08.211438Z",
     "iopub.status.busy": "2022-03-13T17:48:08.211140Z",
     "iopub.status.idle": "2022-03-13T17:48:09.561535Z",
     "shell.execute_reply": "2022-03-13T17:48:09.560386Z",
     "shell.execute_reply.started": "2022-03-13T17:48:08.211406Z"
    }
   },
   "outputs": [],
   "source": [
    "sns.set_style('whitegrid')\n",
    "# Target variable is MIS Status, a categorical variable\n",
    "\n",
    "print(sba['MIS_Status'].value_counts())\n",
    "sns.countplot(x='MIS_Status',data=sba)"
   ]
  },
  {
   "cell_type": "markdown",
   "metadata": {},
   "source": [
    "<div style=\"font-family: Trebuchet MS;background-color:LightSteelBlue;color:Black;text-align: left;padding-top: 5px;padding-bottom: 5px;padding-left: 20px;padding-right: 10px;border-radius: 15px 50px;letter-spacing: 2px;\">\n",
    "    This shows a skewed distribution, where this bias in the target can influence many machine learning algorithms, leading some to ignore the minority class entirely, in this case, CHGOFF.  Before oversampling the data, will try as is.<br><br></div>"
   ]
  },
  {
   "cell_type": "code",
   "execution_count": 153,
   "metadata": {
    "execution": {
     "iopub.execute_input": "2022-03-13T17:48:12.809730Z",
     "iopub.status.busy": "2022-03-13T17:48:12.809147Z",
     "iopub.status.idle": "2022-03-13T17:48:12.990475Z",
     "shell.execute_reply": "2022-03-13T17:48:12.989082Z",
     "shell.execute_reply.started": "2022-03-13T17:48:12.809669Z"
    }
   },
   "outputs": [],
   "source": [
    "# Update column based on condition\n",
    "sba['MIS_Status'] = np.where((sba['MIS_Status'] == 'P I F'), 1, 0)"
   ]
  },
  {
   "cell_type": "code",
   "execution_count": 154,
   "metadata": {
    "execution": {
     "iopub.execute_input": "2022-03-13T17:48:16.243367Z",
     "iopub.status.busy": "2022-03-13T17:48:16.243077Z",
     "iopub.status.idle": "2022-03-13T17:48:16.257085Z",
     "shell.execute_reply": "2022-03-13T17:48:16.256098Z",
     "shell.execute_reply.started": "2022-03-13T17:48:16.243339Z"
    }
   },
   "outputs": [],
   "source": [
    "print(sba['MIS_Status'].dtype)\n",
    "sba.head(2)[['City','MIS_Status']]"
   ]
  },
  {
   "cell_type": "code",
   "execution_count": 155,
   "metadata": {
    "execution": {
     "iopub.execute_input": "2022-03-13T17:48:20.277362Z",
     "iopub.status.busy": "2022-03-13T17:48:20.275802Z",
     "iopub.status.idle": "2022-03-13T17:48:20.723611Z",
     "shell.execute_reply": "2022-03-13T17:48:20.722589Z",
     "shell.execute_reply.started": "2022-03-13T17:48:20.277307Z"
    }
   },
   "outputs": [],
   "source": [
    "# ideally, convert dtype to int32\n",
    "sba = sba.astype({'MIS_Status':np.int32})\n",
    "sba['MIS_Status'].dtype"
   ]
  },
  {
   "cell_type": "markdown",
   "metadata": {},
   "source": [
    "<div style=\"font-family: Trebuchet MS;background-color:LightSteelBlue;color:Black;text-align: left;padding-top: 5px;padding-bottom: 5px;padding-left: 20px;padding-right: 10px;border-radius: 15px 50px;letter-spacing: 2px;\">\n",
    "    <b>LowDoc</b><br>\n",
    "'Y' = 1<br>\n",
    "'N' = 0"
   ]
  },
  {
   "cell_type": "code",
   "execution_count": 156,
   "metadata": {
    "execution": {
     "iopub.execute_input": "2022-03-13T17:48:23.692622Z",
     "iopub.status.busy": "2022-03-13T17:48:23.692314Z",
     "iopub.status.idle": "2022-03-13T17:48:23.867662Z",
     "shell.execute_reply": "2022-03-13T17:48:23.866699Z",
     "shell.execute_reply.started": "2022-03-13T17:48:23.692590Z"
    }
   },
   "outputs": [],
   "source": [
    "# Update column based on condition\n",
    "sba['LowDoc'] = np.where((sba['LowDoc'] == 'Y'), 1, 0)\n",
    "\n",
    "sba.head(2)"
   ]
  },
  {
   "cell_type": "markdown",
   "metadata": {},
   "source": [
    "<div style=\"font-family: Trebuchet MS;background-color:LightSteelBlue;color:Black;text-align: left;padding-top: 5px;padding-bottom: 5px;padding-left: 20px;padding-right: 10px;border-radius: 15px 50px;letter-spacing: 2px;\">\n",
    "    <b>Others</b></div>"
   ]
  },
  {
   "cell_type": "code",
   "execution_count": 157,
   "metadata": {
    "execution": {
     "iopub.execute_input": "2022-03-13T17:48:28.121965Z",
     "iopub.status.busy": "2022-03-13T17:48:28.121345Z",
     "iopub.status.idle": "2022-03-13T17:48:36.062188Z",
     "shell.execute_reply": "2022-03-13T17:48:36.061357Z",
     "shell.execute_reply.started": "2022-03-13T17:48:28.121916Z"
    }
   },
   "outputs": [],
   "source": [
    "import hashlib\n",
    "\n",
    "cols_to_drop = []\n",
    "hash_constant = 900000   # fixed value so we can programmatically reproduce the hash when needed\n",
    "len_data=len(sba)\n",
    "for col in sba.columns:\n",
    "  if sba[col].dtype == 'object':\n",
    "    print(f'Column {col} has {sba[col].nunique()} values among {len_data}')\n",
    "\n",
    "    if sba[col].nunique() < 25:\n",
    "      print(f'One-hot encoding of {col}')\n",
    "      one_hot_cols = pd.get_dummies(sba[col])\n",
    "      for ohc in one_hot_cols.columns:\n",
    "        sba[col + '_' + ohc] = one_hot_cols[ohc]\n",
    "    else:\n",
    "      print(f'Hashing of {col}')\n",
    "      sba[col + '_hash'] = sba[col].apply(lambda row: int(hashlib.sha1((col + \"_\" + \\\n",
    "                                    str(row)).encode('utf-8')).hexdigest(), 16) % hash_constant)\n",
    "\n",
    "    cols_to_drop.append(col)\n",
    "print(cols_to_drop)"
   ]
  },
  {
   "cell_type": "code",
   "execution_count": 158,
   "metadata": {
    "execution": {
     "iopub.execute_input": "2022-03-13T17:48:40.519414Z",
     "iopub.status.busy": "2022-03-13T17:48:40.518715Z",
     "iopub.status.idle": "2022-03-13T17:48:40.533320Z",
     "shell.execute_reply": "2022-03-13T17:48:40.532699Z",
     "shell.execute_reply.started": "2022-03-13T17:48:40.519355Z"
    }
   },
   "outputs": [],
   "source": [
    "sba.head(2)[['City','State','CityState','City_hash','State_hash','CityState_hash']]"
   ]
  },
  {
   "cell_type": "markdown",
   "metadata": {},
   "source": [
    "<div style=\"font-family: Trebuchet MS;background-color:LightSteelBlue;color:Black;text-align: left;padding-top: 5px;padding-bottom: 5px;padding-left: 20px;padding-right: 10px;border-radius: 15px 50px;letter-spacing: 2px;\">\n",
    "    <b>TimeFrame</b><br>\n",
    "Save a dataset for later use where we restrict the time frame to loans by excluding those disbursed after 2010 due to the fact the term of a loan is frequently 5 or more years.\n",
    "    <br><br>"
   ]
  },
  {
   "cell_type": "code",
   "execution_count": 159,
   "metadata": {
    "execution": {
     "iopub.execute_input": "2022-03-13T17:48:45.733388Z",
     "iopub.status.busy": "2022-03-13T17:48:45.732741Z",
     "iopub.status.idle": "2022-03-13T17:48:46.082764Z",
     "shell.execute_reply": "2022-03-13T17:48:46.081732Z",
     "shell.execute_reply.started": "2022-03-13T17:48:45.733330Z"
    }
   },
   "outputs": [],
   "source": [
    "sba_bef_2011 = sba[sba['DisbursementDate'] <= '2010-12-31']\n",
    "len(sba_bef_2011[sba_bef_2011['DisbursementDate'] > '2010-12-31'])"
   ]
  },
  {
   "cell_type": "code",
   "execution_count": 160,
   "metadata": {
    "execution": {
     "iopub.execute_input": "2022-03-13T17:49:00.744162Z",
     "iopub.status.busy": "2022-03-13T17:49:00.743805Z",
     "iopub.status.idle": "2022-03-13T17:49:18.090555Z",
     "shell.execute_reply": "2022-03-13T17:49:18.089587Z",
     "shell.execute_reply.started": "2022-03-13T17:49:00.744126Z"
    }
   },
   "outputs": [],
   "source": [
    "# Save 4\n",
    "## save this dataset to working dir\n",
    "sba_bef_2011.to_csv(savepath + \"sba_bef_2011.csv\",index=False)"
   ]
  },
  {
   "cell_type": "markdown",
   "metadata": {},
   "source": [
    "<div style=\"font-family: Trebuchet MS;background-color:LightSteelBlue;color:Black;text-align: left;padding-top: 5px;padding-bottom: 5px;padding-left: 20px;padding-right: 10px;border-radius: 15px 50px;letter-spacing: 2px;\">\n",
    "    <b>Drop more columns that are no longer needed<b></div>"
   ]
  },
  {
   "cell_type": "code",
   "execution_count": 161,
   "metadata": {
    "execution": {
     "iopub.execute_input": "2022-03-13T17:49:23.991233Z",
     "iopub.status.busy": "2022-03-13T17:49:23.990402Z",
     "iopub.status.idle": "2022-03-13T17:49:24.072406Z",
     "shell.execute_reply": "2022-03-13T17:49:24.071624Z",
     "shell.execute_reply.started": "2022-03-13T17:49:23.991183Z"
    },
    "scrolled": true
   },
   "outputs": [],
   "source": [
    "sba.drop(columns = ['State', 'City','CityState','ChgOffPrinGr',\\\n",
    "                    'DisbursementDate'], inplace = True)  \n",
    "sba.head(2)"
   ]
  },
  {
   "cell_type": "markdown",
   "metadata": {},
   "source": [
    "<div style=\"font-family: Trebuchet MS;background-color:LightSteelBlue;color:Black;text-align: left;padding-top: 5px;padding-bottom: 5px;padding-left: 20px;padding-right: 10px;border-radius: 15px 50px;letter-spacing: 2px;\">\n",
    "    <b>Check for Infinite Values<b></div>"
   ]
  },
  {
   "cell_type": "code",
   "execution_count": 162,
   "metadata": {
    "execution": {
     "iopub.execute_input": "2022-03-13T17:49:27.636398Z",
     "iopub.status.busy": "2022-03-13T17:49:27.636103Z",
     "iopub.status.idle": "2022-03-13T17:49:27.643855Z",
     "shell.execute_reply": "2022-03-13T17:49:27.642838Z",
     "shell.execute_reply.started": "2022-03-13T17:49:27.636364Z"
    }
   },
   "outputs": [],
   "source": [
    "def check_infinity_nan(df,dfname):\n",
    "    print(\"checking for infinity\")\n",
    "  \n",
    "    #ds = sba.isin([np.inf, -np.inf])\n",
    "    #print(ds)\n",
    "  \n",
    "    # printing the count of infinity values\n",
    "    print()\n",
    "    print(\"printing the count of infinity values\")\n",
    "  \n",
    "    count = np.isinf(df).values.sum()\n",
    "    print(f\"{dfname} contains \" + str(count) + \" infinite values\")\n",
    "    print()\n",
    "    \n",
    "    has_nan = df.isnull().values.any()\n",
    "    print(f\"Does {dfname} have Nan or Null values ?  {has_nan}\")"
   ]
  },
  {
   "cell_type": "code",
   "execution_count": 163,
   "metadata": {
    "execution": {
     "iopub.execute_input": "2022-03-13T17:49:31.304898Z",
     "iopub.status.busy": "2022-03-13T17:49:31.304565Z",
     "iopub.status.idle": "2022-03-13T17:49:31.360875Z",
     "shell.execute_reply": "2022-03-13T17:49:31.359479Z",
     "shell.execute_reply.started": "2022-03-13T17:49:31.304863Z"
    }
   },
   "outputs": [],
   "source": [
    "check_infinity_nan(sba,'sba')"
   ]
  },
  {
   "cell_type": "markdown",
   "metadata": {},
   "source": [
    "<div style=\"font-family: Trebuchet MS;background-color:LightSteelBlue;color:Black;text-align: left;padding-top: 5px;padding-bottom: 5px;padding-left: 20px;padding-right: 10px;border-radius: 15px 50px;letter-spacing: 2px;\">\n",
    "    <b>Check Correlations</b></div>"
   ]
  },
  {
   "cell_type": "code",
   "execution_count": 164,
   "metadata": {
    "execution": {
     "iopub.execute_input": "2022-03-13T17:49:34.624150Z",
     "iopub.status.busy": "2022-03-13T17:49:34.623857Z",
     "iopub.status.idle": "2022-03-13T17:49:38.103687Z",
     "shell.execute_reply": "2022-03-13T17:49:38.102857Z",
     "shell.execute_reply.started": "2022-03-13T17:49:34.624121Z"
    },
    "scrolled": true
   },
   "outputs": [],
   "source": [
    "fig, ax = plt.subplots(figsize=(20,20))\n",
    "\n",
    "g = sns.heatmap(\n",
    "    sba.corr(),\n",
    "    annot=True,\n",
    "    ax=ax,\n",
    "    cmap='OrRd',\n",
    "    cbar=False,\n",
    "    linewidth=1\n",
    ")\n",
    "\n",
    "g.set_xticklabels(g.get_xticklabels(), rotation=45, horizontalalignment='right')\n",
    "g.set_yticklabels(g.get_yticklabels(), rotation=45, horizontalalignment='right')"
   ]
  },
  {
   "cell_type": "code",
   "execution_count": 165,
   "metadata": {
    "execution": {
     "iopub.execute_input": "2022-03-13T17:49:48.471305Z",
     "iopub.status.busy": "2022-03-13T17:49:48.470856Z",
     "iopub.status.idle": "2022-03-13T17:49:56.412174Z",
     "shell.execute_reply": "2022-03-13T17:49:56.411034Z",
     "shell.execute_reply.started": "2022-03-13T17:49:48.471272Z"
    }
   },
   "outputs": [],
   "source": [
    "# Save 5\n",
    "sba.to_csv(savepath + 'sba_save5.csv',index=False)"
   ]
  },
  {
   "cell_type": "markdown",
   "metadata": {},
   "source": [
    "<div style=\"font-family: Trebuchet MS;background-color:DarkCyan;color:Azure;text-align: left;padding-top: 5px;padding-bottom: 15px;padding-left: 20px;padding-right: 10px;border-radius: 15px 50px;letter-spacing: 2px;\">\n",
    "    <h2>3. Build Model Using XGBoost</h2>\n",
    "    </div>"
   ]
  },
  {
   "cell_type": "markdown",
   "metadata": {},
   "source": [
    "<div style=\"font-family: Trebuchet MS;background-color:DarkCyan;color:Azure;text-align: left;padding-top: 5px;padding-bottom: 15px;padding-left: 20px;padding-right: 10px;border-radius: 15px 50px;letter-spacing: 2px;\">\n",
    "    <h2>3.1 Prepare Data</h2>\n",
    "    </div>"
   ]
  },
  {
   "cell_type": "code",
   "execution_count": 106,
   "metadata": {
    "execution": {
     "iopub.execute_input": "2022-03-13T17:50:26.308251Z",
     "iopub.status.busy": "2022-03-13T17:50:26.307476Z",
     "iopub.status.idle": "2022-03-13T17:50:26.359384Z",
     "shell.execute_reply": "2022-03-13T17:50:26.358680Z",
     "shell.execute_reply.started": "2022-03-13T17:50:26.308207Z"
    }
   },
   "outputs": [],
   "source": [
    "# Select subset of predictors\n",
    "X = sba.copy()\n",
    "\n",
    "# Select target\n",
    "y = X.pop('MIS_Status')"
   ]
  },
  {
   "cell_type": "markdown",
   "metadata": {},
   "source": [
    "<div style=\"font-family: Trebuchet MS;background-color:LightSteelBlue;color:Black;text-align: left;padding-top: 5px;padding-bottom: 5px;padding-left: 20px;padding-right: 10px;border-radius: 15px 50px;letter-spacing: 2px;\">\n",
    "    <b>Split Data into Train:Validate:Test<b></div>"
   ]
  },
  {
   "cell_type": "code",
   "execution_count": 168,
   "metadata": {
    "execution": {
     "iopub.execute_input": "2022-03-13T17:50:30.642467Z",
     "iopub.status.busy": "2022-03-13T17:50:30.641909Z",
     "iopub.status.idle": "2022-03-13T17:50:31.320295Z",
     "shell.execute_reply": "2022-03-13T17:50:31.319328Z",
     "shell.execute_reply.started": "2022-03-13T17:50:30.642429Z"
    }
   },
   "outputs": [],
   "source": [
    "from sklearn.model_selection import train_test_split\n",
    "\n",
    "# Let's split the data in 80:10:10 for train:valid:test dataset\n",
    "train_size=0.8 \n",
    "\n",
    "# In the first step we will split the data in training and remaining dataset\n",
    "X_train, X_rem, y_train, y_rem = train_test_split(X, y, train_size=0.8) \n",
    "\n",
    "# Now since we want the valid and test size to be equal (10% each of overall data). \n",
    "# we have to define valid_size=0.5 (that is 50% of remaining data)\n",
    "test_size = 0.5\n",
    "\n",
    "X_valid, X_test, y_valid, y_test = train_test_split(X_rem,y_rem,test_size=0.5,random_state=101) \n",
    "\n",
    "print(X_train.shape), print(y_train.shape)\n",
    "print(X_valid.shape), print(y_valid.shape)\n",
    "print(X_test.shape), print(y_test.shape) "
   ]
  },
  {
   "cell_type": "markdown",
   "metadata": {},
   "source": [
    "<div style=\"font-family: Trebuchet MS;background-color:LightSteelBlue;color:Black;text-align: left;padding-top: 5px;padding-bottom: 5px;padding-left: 20px;padding-right: 10px;border-radius: 15px 50px;letter-spacing: 2px;\">\n",
    "    <b>Metrics Function"
   ]
  },
  {
   "cell_type": "code",
   "execution_count": 169,
   "metadata": {
    "execution": {
     "iopub.execute_input": "2022-03-13T17:50:36.016442Z",
     "iopub.status.busy": "2022-03-13T17:50:36.016077Z",
     "iopub.status.idle": "2022-03-13T17:50:36.026288Z",
     "shell.execute_reply": "2022-03-13T17:50:36.025395Z",
     "shell.execute_reply.started": "2022-03-13T17:50:36.016404Z"
    }
   },
   "outputs": [],
   "source": [
    "from sklearn import metrics\n",
    "from sklearn.metrics import accuracy_score\n",
    "from sklearn.metrics import classification_report,confusion_matrix\n",
    "\n",
    "def model_eval(y_valid,predictions):\n",
    "    print('MAE:', metrics.mean_absolute_error(y_valid, predictions))\n",
    "    print('MSE:', metrics.mean_squared_error(y_valid, predictions))\n",
    "    print('RMSE:', np.sqrt(metrics.mean_squared_error(y_valid, predictions)))\n",
    "    print()\n",
    "    \n",
    "    print(\"Classification Report:\")\n",
    "    print(classification_report(y_valid,predictions.round()))\n",
    "    print()\n",
    "    \n",
    "    print(\"\\033[1m\" + \"Accuracy for model:\\033[0m %.2f\" % (accuracy_score(y_valid, \\\n",
    "                                                            predictions.round()) * 100))"
   ]
  },
  {
   "cell_type": "markdown",
   "metadata": {},
   "source": [
    "<div style=\"font-family: Trebuchet MS;background-color:DarkCyan;color:Azure;text-align: left;padding-top: 5px;padding-bottom: 15px;padding-left: 20px;padding-right: 10px;border-radius: 15px 50px;letter-spacing: 2px;\">\n",
    "    <h2>3.1 Model 1</h2>\n",
    "    </div>"
   ]
  },
  {
   "cell_type": "code",
   "execution_count": 105,
   "metadata": {
    "execution": {
     "iopub.execute_input": "2022-03-13T17:50:42.982239Z",
     "iopub.status.busy": "2022-03-13T17:50:42.981802Z",
     "iopub.status.idle": "2022-03-13T17:51:46.135987Z",
     "shell.execute_reply": "2022-03-13T17:51:46.135125Z",
     "shell.execute_reply.started": "2022-03-13T17:50:42.982205Z"
    },
    "scrolled": true
   },
   "outputs": [
    {
     "ename": "NameError",
     "evalue": "name 'X_train' is not defined",
     "output_type": "error",
     "traceback": [
      "\u001b[1;31m---------------------------------------------------------------------------\u001b[0m",
      "\u001b[1;31mNameError\u001b[0m                                 Traceback (most recent call last)",
      "\u001b[1;32m~\\AppData\\Local\\Temp/ipykernel_6708/2717474770.py\u001b[0m in \u001b[0;36m<module>\u001b[1;34m\u001b[0m\n\u001b[0;32m      2\u001b[0m \u001b[1;33m\u001b[0m\u001b[0m\n\u001b[0;32m      3\u001b[0m \u001b[0mmy_model1\u001b[0m \u001b[1;33m=\u001b[0m \u001b[0mXGBRegressor\u001b[0m\u001b[1;33m(\u001b[0m\u001b[1;33m)\u001b[0m\u001b[1;33m\u001b[0m\u001b[1;33m\u001b[0m\u001b[0m\n\u001b[1;32m----> 4\u001b[1;33m \u001b[0mmy_model1\u001b[0m\u001b[1;33m.\u001b[0m\u001b[0mfit\u001b[0m\u001b[1;33m(\u001b[0m\u001b[0mX_train\u001b[0m\u001b[1;33m,\u001b[0m \u001b[0my_train\u001b[0m\u001b[1;33m)\u001b[0m\u001b[1;33m\u001b[0m\u001b[1;33m\u001b[0m\u001b[0m\n\u001b[0m\u001b[0;32m      5\u001b[0m \u001b[1;33m\u001b[0m\u001b[0m\n\u001b[0;32m      6\u001b[0m \u001b[1;31m# wait a bit to complete\u001b[0m\u001b[1;33m\u001b[0m\u001b[1;33m\u001b[0m\u001b[1;33m\u001b[0m\u001b[0m\n",
      "\u001b[1;31mNameError\u001b[0m: name 'X_train' is not defined"
     ]
    }
   ],
   "source": [
    "from xgboost import XGBRegressor\n",
    "\n",
    "my_model1 = XGBRegressor()\n",
    "my_model1.fit(X_train, y_train)\n",
    "\n",
    "# wait a bit to complete"
   ]
  },
  {
   "cell_type": "code",
   "execution_count": 171,
   "metadata": {
    "execution": {
     "iopub.execute_input": "2022-03-13T17:52:02.824891Z",
     "iopub.status.busy": "2022-03-13T17:52:02.824578Z",
     "iopub.status.idle": "2022-03-13T17:52:02.941609Z",
     "shell.execute_reply": "2022-03-13T17:52:02.940903Z",
     "shell.execute_reply.started": "2022-03-13T17:52:02.824862Z"
    }
   },
   "outputs": [],
   "source": [
    "predictions1 = my_model1.predict(X_valid)"
   ]
  },
  {
   "cell_type": "code",
   "execution_count": 172,
   "metadata": {
    "execution": {
     "iopub.execute_input": "2022-03-13T17:52:05.775489Z",
     "iopub.status.busy": "2022-03-13T17:52:05.775153Z",
     "iopub.status.idle": "2022-03-13T17:52:05.978609Z",
     "shell.execute_reply": "2022-03-13T17:52:05.977414Z",
     "shell.execute_reply.started": "2022-03-13T17:52:05.775453Z"
    }
   },
   "outputs": [],
   "source": [
    "model_eval(y_valid, predictions1)"
   ]
  },
  {
   "cell_type": "markdown",
   "metadata": {},
   "source": [
    "**High Accuracy for model, but precision, recall, and f1-score for classification 0 (CHGOFF) is not good, compared to that of classification 1 (P I F)**"
   ]
  },
  {
   "cell_type": "markdown",
   "metadata": {},
   "source": [
    "<div style=\"font-family: Trebuchet MS;background-color:LightSteelBlue;color:Black;text-align: left;padding-top: 5px;padding-bottom: 5px;padding-left: 20px;padding-right: 10px;border-radius: 15px 50px;letter-spacing: 2px;\">\n",
    "    <b>Improve Model 1</b></div>"
   ]
  },
  {
   "cell_type": "code",
   "execution_count": 173,
   "metadata": {
    "execution": {
     "iopub.execute_input": "2022-03-13T17:54:17.973364Z",
     "iopub.status.busy": "2022-03-13T17:54:17.973010Z",
     "iopub.status.idle": "2022-03-13T17:54:18.317664Z",
     "shell.execute_reply": "2022-03-13T17:54:18.316732Z",
     "shell.execute_reply.started": "2022-03-13T17:54:17.973327Z"
    }
   },
   "outputs": [],
   "source": [
    "# In the first step we will split the data in training and remaining dataset\n",
    "X_train2, X_rem, y_train2, y_rem = train_test_split(X, y, train_size=0.8) \n",
    "\n",
    "# Now since we want the valid and test size to be equal (10% each of overall data). \n",
    "# we have to define valid_size=0.5 (that is 50% of remaining data)\n",
    "test_size = 0.5\n",
    "\n",
    "X_valid2, X_test, y_valid2, y_test = train_test_split(X_rem,y_rem,test_size=0.5,random_state=101) "
   ]
  },
  {
   "cell_type": "code",
   "execution_count": 174,
   "metadata": {
    "execution": {
     "iopub.execute_input": "2022-03-13T17:54:22.232678Z",
     "iopub.status.busy": "2022-03-13T17:54:22.231911Z",
     "iopub.status.idle": "2022-03-13T18:02:40.597826Z",
     "shell.execute_reply": "2022-03-13T18:02:40.596894Z",
     "shell.execute_reply.started": "2022-03-13T17:54:22.232611Z"
    }
   },
   "outputs": [],
   "source": [
    "my_model1 = XGBRegressor(n_estimators=1000, learning_rate=0.05, n_jobs=4)\n",
    "my_model1.fit(X_train2, y_train2, \n",
    "             early_stopping_rounds=5, \n",
    "             eval_set=[(X_valid2, y_valid2)], \n",
    "             verbose=False)\n",
    "\n",
    "# Wait, will take time"
   ]
  },
  {
   "cell_type": "code",
   "execution_count": 175,
   "metadata": {
    "execution": {
     "iopub.execute_input": "2022-03-13T18:03:44.821665Z",
     "iopub.status.busy": "2022-03-13T18:03:44.821304Z",
     "iopub.status.idle": "2022-03-13T18:03:45.637267Z",
     "shell.execute_reply": "2022-03-13T18:03:45.636540Z",
     "shell.execute_reply.started": "2022-03-13T18:03:44.821615Z"
    }
   },
   "outputs": [],
   "source": [
    "# Get predictions\n",
    "predictions2 = my_model1.predict(X_valid2)"
   ]
  },
  {
   "cell_type": "code",
   "execution_count": 176,
   "metadata": {
    "execution": {
     "iopub.execute_input": "2022-03-13T18:03:48.372782Z",
     "iopub.status.busy": "2022-03-13T18:03:48.372479Z",
     "iopub.status.idle": "2022-03-13T18:03:48.771678Z",
     "shell.execute_reply": "2022-03-13T18:03:48.770719Z",
     "shell.execute_reply.started": "2022-03-13T18:03:48.372754Z"
    }
   },
   "outputs": [],
   "source": [
    "print(\"\\033[4m\" + \"After Improving Model:\" + \"\\033[0m\")\n",
    "model_eval(y_valid2, predictions2)\n",
    "print()\n",
    "\n",
    "print(\"\\033[4m\" + \"Before Improving Model:\" + \"\\033[0m\")\n",
    "model_eval(y_valid, predictions1)"
   ]
  },
  {
   "cell_type": "markdown",
   "metadata": {},
   "source": [
    "<div style=\"font-family: Trebuchet MS;background-color:HoneyDew;color:Black;text-align: left;padding-top: 5px;padding-bottom: 5px;padding-left: 20px;padding-right: 10px;border-radius: 15px 50px;letter-spacing: 2px;\">\n",
    "    <b>Not much difference between initial build and improved build.<br><br>\n",
    "\n",
    "Precision, recall, and f1-score of classification 0 (CHGOFF) is much lower than that of 1 (P I F). This is because MIS_Status is heavily skewed towards 1 (P I F).  To solve this, we try Oversampling the data, in the next section.</b></div>"
   ]
  },
  {
   "cell_type": "markdown",
   "metadata": {},
   "source": [
    "<div style=\"font-family: Trebuchet MS;background-color:DarkCyan;color:Azure;text-align: left;padding-top: 5px;padding-bottom: 5px;padding-left: 20px;padding-right: 10px;border-radius: 15px 50px;letter-spacing: 2px;\">\n",
    "    <h2>3.2 OverSample</h2>\n",
    "    </div>"
   ]
  },
  {
   "cell_type": "markdown",
   "metadata": {},
   "source": [
    "<div style=\"font-family: Trebuchet MS;background-color:DarkCyan;color:Azure;text-align: left;padding-top: 5px;padding-bottom: 15px;padding-left: 20px;padding-right: 10px;border-radius: 15px 50px;letter-spacing: 2px;\"><h2>3.2.1 Model 2</h2>\n",
    "    </div>"
   ]
  },
  {
   "cell_type": "code",
   "execution_count": null,
   "metadata": {},
   "outputs": [],
   "source": [
    "!pip install imbalanced-learn"
   ]
  },
  {
   "cell_type": "code",
   "execution_count": 177,
   "metadata": {
    "execution": {
     "iopub.execute_input": "2022-03-13T18:03:59.879323Z",
     "iopub.status.busy": "2022-03-13T18:03:59.879040Z",
     "iopub.status.idle": "2022-03-13T18:03:59.973625Z",
     "shell.execute_reply": "2022-03-13T18:03:59.972589Z",
     "shell.execute_reply.started": "2022-03-13T18:03:59.879295Z"
    }
   },
   "outputs": [],
   "source": [
    "# Select subset of predictors\n",
    "X2 = sba.copy()\n",
    "\n",
    "# Select target\n",
    "y2 = X2.pop('MIS_Status')"
   ]
  },
  {
   "cell_type": "code",
   "execution_count": 178,
   "metadata": {
    "execution": {
     "iopub.execute_input": "2022-03-13T18:04:02.518223Z",
     "iopub.status.busy": "2022-03-13T18:04:02.517915Z",
     "iopub.status.idle": "2022-03-13T18:04:03.002521Z",
     "shell.execute_reply": "2022-03-13T18:04:03.001436Z",
     "shell.execute_reply.started": "2022-03-13T18:04:02.518193Z"
    }
   },
   "outputs": [],
   "source": [
    "from imblearn.over_sampling import RandomOverSampler\n",
    "\n",
    "# define oversampling strategy\n",
    "oversample = RandomOverSampler(sampling_strategy='minority')"
   ]
  },
  {
   "cell_type": "code",
   "execution_count": 179,
   "metadata": {
    "execution": {
     "iopub.execute_input": "2022-03-13T18:04:06.817380Z",
     "iopub.status.busy": "2022-03-13T18:04:06.817074Z",
     "iopub.status.idle": "2022-03-13T18:04:08.523325Z",
     "shell.execute_reply": "2022-03-13T18:04:08.522328Z",
     "shell.execute_reply.started": "2022-03-13T18:04:06.817347Z"
    }
   },
   "outputs": [],
   "source": [
    "from collections import Counter\n",
    "\n",
    "# fit and apply the transform\n",
    "X_over, y_over = oversample.fit_resample(X2, y2)\n",
    "\n",
    "# summarize class distribution\n",
    "print('Before : ',Counter(y2))\n",
    "print('After  : ',Counter(y_over))"
   ]
  },
  {
   "cell_type": "code",
   "execution_count": 180,
   "metadata": {
    "execution": {
     "iopub.execute_input": "2022-03-13T18:04:12.579851Z",
     "iopub.status.busy": "2022-03-13T18:04:12.578859Z",
     "iopub.status.idle": "2022-03-13T18:04:13.377540Z",
     "shell.execute_reply": "2022-03-13T18:04:13.376860Z",
     "shell.execute_reply.started": "2022-03-13T18:04:12.579795Z"
    }
   },
   "outputs": [],
   "source": [
    "# In the first step we will split the data in training and remaining dataset\n",
    "X_train, X_rem, y_train, y_rem = train_test_split(X_over, y_over, train_size=0.8) \n",
    "\n",
    "# Now since we want the valid and test size to be equal (10% each of overall data). \n",
    "# we have to define valid_size=0.5 (that is 50% of remaining data)\n",
    "test_size = 0.5\n",
    "\n",
    "X_valid, X_test, y_valid, y_test = train_test_split(X_rem,y_rem,test_size=0.5,random_state=101) "
   ]
  },
  {
   "cell_type": "code",
   "execution_count": 181,
   "metadata": {
    "execution": {
     "iopub.execute_input": "2022-03-13T18:04:19.323879Z",
     "iopub.status.busy": "2022-03-13T18:04:19.323110Z",
     "iopub.status.idle": "2022-03-13T18:06:19.423604Z",
     "shell.execute_reply": "2022-03-13T18:06:19.422682Z",
     "shell.execute_reply.started": "2022-03-13T18:04:19.323829Z"
    },
    "scrolled": true
   },
   "outputs": [],
   "source": [
    "from xgboost import XGBRegressor\n",
    "\n",
    "my_model2 = XGBRegressor()\n",
    "my_model2.fit(X_train, y_train)\n",
    "\n",
    "# wait a bit to complete"
   ]
  },
  {
   "cell_type": "code",
   "execution_count": 182,
   "metadata": {
    "execution": {
     "iopub.execute_input": "2022-03-13T18:06:48.343310Z",
     "iopub.status.busy": "2022-03-13T18:06:48.343044Z",
     "iopub.status.idle": "2022-03-13T18:06:48.628102Z",
     "shell.execute_reply": "2022-03-13T18:06:48.626904Z",
     "shell.execute_reply.started": "2022-03-13T18:06:48.343283Z"
    }
   },
   "outputs": [],
   "source": [
    "predictions3 = my_model2.predict(X_valid)"
   ]
  },
  {
   "cell_type": "code",
   "execution_count": 183,
   "metadata": {
    "execution": {
     "iopub.execute_input": "2022-03-13T18:06:51.478096Z",
     "iopub.status.busy": "2022-03-13T18:06:51.477808Z",
     "iopub.status.idle": "2022-03-13T18:06:51.845792Z",
     "shell.execute_reply": "2022-03-13T18:06:51.844661Z",
     "shell.execute_reply.started": "2022-03-13T18:06:51.478058Z"
    }
   },
   "outputs": [],
   "source": [
    "model_eval(y_valid, predictions3)"
   ]
  },
  {
   "cell_type": "markdown",
   "metadata": {},
   "source": [
    "<div style=\"font-family: Trebuchet MS;background-color:HoneyDew;color:Black;text-align: left;padding-top: 5px;padding-bottom: 5px;padding-left: 20px;padding-right: 10px;border-radius: 15px 50px;letter-spacing: 2px;\">\n",
    "    <b>After oversampling of the minority class (CHGOFF), class 0 (CHGOFF) now has similar precision, recall, and f1-score as class 1 (P I F)</b>"
   ]
  },
  {
   "cell_type": "markdown",
   "metadata": {},
   "source": [
    "<div style=\"font-family: Trebuchet MS;background-color:LightSteelBlue;color:Black;text-align: left;padding-top: 5px;padding-bottom: 5px;padding-left: 20px;padding-right: 10px;border-radius: 15px 50px;letter-spacing: 2px;\">\n",
    "    <b>Improve The Model</b></div>"
   ]
  },
  {
   "cell_type": "code",
   "execution_count": 184,
   "metadata": {
    "execution": {
     "iopub.execute_input": "2022-03-13T18:07:01.709063Z",
     "iopub.status.busy": "2022-03-13T18:07:01.708117Z",
     "iopub.status.idle": "2022-03-13T18:27:03.667881Z",
     "shell.execute_reply": "2022-03-13T18:27:03.666853Z",
     "shell.execute_reply.started": "2022-03-13T18:07:01.709012Z"
    }
   },
   "outputs": [],
   "source": [
    "my_model2 = XGBRegressor(n_estimators=1000, learning_rate=0.05, n_jobs=4)\n",
    "my_model2.fit(X_train, y_train, \n",
    "             early_stopping_rounds=5, \n",
    "             eval_set=[(X_valid, y_valid)], \n",
    "             verbose=False)\n",
    "\n",
    "# Wait a bit, will take time"
   ]
  },
  {
   "cell_type": "code",
   "execution_count": 185,
   "metadata": {
    "execution": {
     "iopub.execute_input": "2022-03-13T18:29:13.519171Z",
     "iopub.status.busy": "2022-03-13T18:29:13.518864Z",
     "iopub.status.idle": "2022-03-13T18:29:15.109338Z",
     "shell.execute_reply": "2022-03-13T18:29:15.108372Z",
     "shell.execute_reply.started": "2022-03-13T18:29:13.519142Z"
    }
   },
   "outputs": [],
   "source": [
    "# Get predictions\n",
    "predictions4 = my_model2.predict(X_valid)"
   ]
  },
  {
   "cell_type": "code",
   "execution_count": 186,
   "metadata": {
    "execution": {
     "iopub.execute_input": "2022-03-13T18:29:19.499972Z",
     "iopub.status.busy": "2022-03-13T18:29:19.499686Z",
     "iopub.status.idle": "2022-03-13T18:29:19.867821Z",
     "shell.execute_reply": "2022-03-13T18:29:19.866904Z",
     "shell.execute_reply.started": "2022-03-13T18:29:19.499942Z"
    },
    "scrolled": true
   },
   "outputs": [],
   "source": [
    "model_eval(y_valid, predictions4)"
   ]
  },
  {
   "cell_type": "markdown",
   "metadata": {},
   "source": [
    "<div style=\"font-family: Trebuchet MS;background-color:HoneyDew;color:Black;text-align: left;padding-top: 5px;padding-bottom: 5px;padding-left: 20px;padding-right: 10px;border-radius: 15px 50px;letter-spacing: 2px;\">\n",
    "    <b>We get a tiny improvement.  I didn't try other parameters for XGBRegressor yet.</b></div>"
   ]
  },
  {
   "cell_type": "code",
   "execution_count": 216,
   "metadata": {
    "execution": {
     "iopub.execute_input": "2022-03-13T19:26:06.306974Z",
     "iopub.status.busy": "2022-03-13T19:26:06.306676Z",
     "iopub.status.idle": "2022-03-13T19:26:09.183721Z",
     "shell.execute_reply": "2022-03-13T19:26:09.182734Z",
     "shell.execute_reply.started": "2022-03-13T19:26:06.306943Z"
    }
   },
   "outputs": [],
   "source": [
    "# Plot feature importance\n",
    "from xgboost import plot_importance\n",
    "def plot_features(booster, figsize):    \n",
    "    fig, ax = plt.subplots(1,1,figsize=figsize,dpi=600)\n",
    "    return plot_importance(booster=booster, ax=ax)\n",
    "\n",
    "plot_features(my_model2, (10,14))"
   ]
  },
  {
   "cell_type": "markdown",
   "metadata": {},
   "source": [
    "<div style=\"font-family: Trebuchet MS;background-color:HoneyDew;color:Black;text-align: left;padding-top: 5px;padding-bottom: 5px;padding-left: 20px;padding-right: 10px;border-radius: 15px 50px;letter-spacing: 2px;\">\n",
    "    <b>Observation</b><br>\n",
    "    I was hoping to see <b>Industry</b> at a much higher position here, but apparently the incomplete data on industry had an effect.<br><br>\n",
    "Furthermore, <b>Recession</b> has to be at a very high position, but is at the bottom instead.  This could be due to <b>Recession</b> data being highly skewed towards 1 (Not Recession).<br><br>"
   ]
  },
  {
   "cell_type": "markdown",
   "metadata": {},
   "source": [
    "<div style=\"font-family: Trebuchet MS;background-color:DarkCyan;color:Azure;text-align: left;padding-top: 5px;padding-bottom: 15px;padding-left: 20px;padding-right: 10px;border-radius: 15px 50px;letter-spacing: 2px;\">\n",
    "    <h2>3.2.2 Model 3</h2>\n",
    "    <b>Build a Model Dataset Excluding Year 2011 and Above</b>\n",
    "\n",
    "We restrict the time frame to loans by excluding those disbursed after 2010 due to the fact the term of a loan is frequently 5 or more years.\n",
    "       </div>"
   ]
  },
  {
   "cell_type": "code",
   "execution_count": 107,
   "metadata": {
    "execution": {
     "iopub.execute_input": "2022-03-13T18:29:46.144266Z",
     "iopub.status.busy": "2022-03-13T18:29:46.143978Z",
     "iopub.status.idle": "2022-03-13T18:29:49.721388Z",
     "shell.execute_reply": "2022-03-13T18:29:49.720493Z",
     "shell.execute_reply.started": "2022-03-13T18:29:46.144237Z"
    }
   },
   "outputs": [
    {
     "name": "stdout",
     "output_type": "stream",
     "text": [
      "Index(['Term', 'NoEmp', 'NewExist', 'CreateJob', 'RetainedJob',\n",
      "       'FranchiseCode', 'UrbanRural', 'LowDoc', 'DisbursementGross',\n",
      "       'MIS_Status', 'GrAppv', 'SBA_Appv', 'Industry', 'Recession',\n",
      "       'RealEstate', 'SBA_Portion', 'City_hash', 'State_hash',\n",
      "       'CityState_hash'],\n",
      "      dtype='object')\n"
     ]
    }
   ],
   "source": [
    "sba_df = pd.read_csv(savepath + \"sba_bef_2011.csv\")\n",
    "sba_df = sba_df.drop(columns = ['State', 'City','CityState',\\\n",
    "                                        'ChgOffPrinGr','DisbursementDate']) \n",
    "print(sba_df.columns)\n",
    "\n",
    "# Select subset of predictors\n",
    "X = sba_df.copy()\n",
    "\n",
    "# Select target\n",
    "y = X.pop('MIS_Status')"
   ]
  },
  {
   "cell_type": "code",
   "execution_count": 108,
   "metadata": {
    "execution": {
     "iopub.execute_input": "2022-03-13T18:29:59.843428Z",
     "iopub.status.busy": "2022-03-13T18:29:59.843146Z",
     "iopub.status.idle": "2022-03-13T18:29:59.862878Z",
     "shell.execute_reply": "2022-03-13T18:29:59.861722Z",
     "shell.execute_reply.started": "2022-03-13T18:29:59.843399Z"
    }
   },
   "outputs": [
    {
     "data": {
      "text/html": [
       "<div>\n",
       "<style scoped>\n",
       "    .dataframe tbody tr th:only-of-type {\n",
       "        vertical-align: middle;\n",
       "    }\n",
       "\n",
       "    .dataframe tbody tr th {\n",
       "        vertical-align: top;\n",
       "    }\n",
       "\n",
       "    .dataframe thead th {\n",
       "        text-align: right;\n",
       "    }\n",
       "</style>\n",
       "<table border=\"1\" class=\"dataframe\">\n",
       "  <thead>\n",
       "    <tr style=\"text-align: right;\">\n",
       "      <th></th>\n",
       "      <th>Term</th>\n",
       "      <th>NoEmp</th>\n",
       "      <th>NewExist</th>\n",
       "      <th>CreateJob</th>\n",
       "      <th>RetainedJob</th>\n",
       "      <th>FranchiseCode</th>\n",
       "      <th>UrbanRural</th>\n",
       "      <th>LowDoc</th>\n",
       "      <th>DisbursementGross</th>\n",
       "      <th>MIS_Status</th>\n",
       "      <th>GrAppv</th>\n",
       "      <th>SBA_Appv</th>\n",
       "      <th>Industry</th>\n",
       "      <th>Recession</th>\n",
       "      <th>RealEstate</th>\n",
       "      <th>SBA_Portion</th>\n",
       "      <th>City_hash</th>\n",
       "      <th>State_hash</th>\n",
       "      <th>CityState_hash</th>\n",
       "    </tr>\n",
       "  </thead>\n",
       "  <tbody>\n",
       "    <tr>\n",
       "      <th>0</th>\n",
       "      <td>84</td>\n",
       "      <td>4</td>\n",
       "      <td>2</td>\n",
       "      <td>0</td>\n",
       "      <td>0</td>\n",
       "      <td>1</td>\n",
       "      <td>0</td>\n",
       "      <td>1</td>\n",
       "      <td>60000.0</td>\n",
       "      <td>1</td>\n",
       "      <td>60000.0</td>\n",
       "      <td>48000.0</td>\n",
       "      <td>45</td>\n",
       "      <td>0</td>\n",
       "      <td>0</td>\n",
       "      <td>80.0</td>\n",
       "      <td>74511</td>\n",
       "      <td>608543</td>\n",
       "      <td>827599</td>\n",
       "    </tr>\n",
       "    <tr>\n",
       "      <th>1</th>\n",
       "      <td>60</td>\n",
       "      <td>2</td>\n",
       "      <td>2</td>\n",
       "      <td>0</td>\n",
       "      <td>0</td>\n",
       "      <td>1</td>\n",
       "      <td>0</td>\n",
       "      <td>1</td>\n",
       "      <td>40000.0</td>\n",
       "      <td>1</td>\n",
       "      <td>40000.0</td>\n",
       "      <td>32000.0</td>\n",
       "      <td>72</td>\n",
       "      <td>0</td>\n",
       "      <td>0</td>\n",
       "      <td>80.0</td>\n",
       "      <td>274452</td>\n",
       "      <td>608543</td>\n",
       "      <td>391234</td>\n",
       "    </tr>\n",
       "  </tbody>\n",
       "</table>\n",
       "</div>"
      ],
      "text/plain": [
       "   Term  NoEmp  NewExist  CreateJob  RetainedJob  FranchiseCode  UrbanRural  \\\n",
       "0    84      4         2          0            0              1           0   \n",
       "1    60      2         2          0            0              1           0   \n",
       "\n",
       "   LowDoc  DisbursementGross  MIS_Status   GrAppv  SBA_Appv  Industry  \\\n",
       "0       1            60000.0           1  60000.0   48000.0        45   \n",
       "1       1            40000.0           1  40000.0   32000.0        72   \n",
       "\n",
       "   Recession  RealEstate  SBA_Portion  City_hash  State_hash  CityState_hash  \n",
       "0          0           0         80.0      74511      608543          827599  \n",
       "1          0           0         80.0     274452      608543          391234  "
      ]
     },
     "execution_count": 108,
     "metadata": {},
     "output_type": "execute_result"
    }
   ],
   "source": [
    "sba_df.head(2)"
   ]
  },
  {
   "cell_type": "code",
   "execution_count": 109,
   "metadata": {
    "execution": {
     "iopub.execute_input": "2022-03-13T18:30:41.259496Z",
     "iopub.status.busy": "2022-03-13T18:30:41.259185Z",
     "iopub.status.idle": "2022-03-13T18:30:41.264188Z",
     "shell.execute_reply": "2022-03-13T18:30:41.263121Z",
     "shell.execute_reply.started": "2022-03-13T18:30:41.259461Z"
    }
   },
   "outputs": [],
   "source": [
    "from imblearn.over_sampling import RandomOverSampler\n",
    "\n",
    "# define oversampling strategy\n",
    "oversample = RandomOverSampler(sampling_strategy='minority')"
   ]
  },
  {
   "cell_type": "code",
   "execution_count": 111,
   "metadata": {
    "execution": {
     "iopub.execute_input": "2022-03-13T18:30:46.293603Z",
     "iopub.status.busy": "2022-03-13T18:30:46.293116Z",
     "iopub.status.idle": "2022-03-13T18:30:47.882431Z",
     "shell.execute_reply": "2022-03-13T18:30:47.881422Z",
     "shell.execute_reply.started": "2022-03-13T18:30:46.293552Z"
    }
   },
   "outputs": [
    {
     "name": "stdout",
     "output_type": "stream",
     "text": [
      "Before :  Counter({1: 714215, 0: 154479})\n",
      "After  :  Counter({1: 714215, 0: 714215})\n"
     ]
    }
   ],
   "source": [
    "from collections import Counter\n",
    "\n",
    "# fit and apply the transform\n",
    "X_over, y_over = oversample.fit_resample(X, y)\n",
    "\n",
    "# summarize class distribution\n",
    "print('Before : ',Counter(y))\n",
    "print('After  : ',Counter(y_over))"
   ]
  },
  {
   "cell_type": "code",
   "execution_count": 113,
   "metadata": {
    "execution": {
     "iopub.execute_input": "2022-03-13T18:30:53.046037Z",
     "iopub.status.busy": "2022-03-13T18:30:53.045763Z",
     "iopub.status.idle": "2022-03-13T18:30:53.821592Z",
     "shell.execute_reply": "2022-03-13T18:30:53.820614Z",
     "shell.execute_reply.started": "2022-03-13T18:30:53.046000Z"
    }
   },
   "outputs": [],
   "source": [
    "from sklearn.model_selection import train_test_split\n",
    "\n",
    "# In the first step we will split the data in training and remaining dataset\n",
    "X_train, X_rem, y_train, y_rem = train_test_split(X_over, y_over, train_size=0.8) \n",
    "\n",
    "# Now since we want the valid and test size to be equal (10% each of overall data). \n",
    "# we have to define valid_size=0.5 (that is 50% of remaining data)\n",
    "test_size = 0.5\n",
    "\n",
    "X_valid, X_test, y_valid, y_test = train_test_split(X_rem,y_rem,test_size=0.5,random_state=101) "
   ]
  },
  {
   "cell_type": "code",
   "execution_count": null,
   "metadata": {
    "execution": {
     "iopub.execute_input": "2022-03-13T18:30:56.964348Z",
     "iopub.status.busy": "2022-03-13T18:30:56.964081Z",
     "iopub.status.idle": "2022-03-13T18:50:03.694734Z",
     "shell.execute_reply": "2022-03-13T18:50:03.693643Z",
     "shell.execute_reply.started": "2022-03-13T18:30:56.964322Z"
    }
   },
   "outputs": [],
   "source": [
    "my_model3 = XGBRegressor(n_estimators=1000, learning_rate=0.05, n_jobs=4)\n",
    "my_model3.fit(X_train, y_train, \n",
    "             early_stopping_rounds=5, \n",
    "             eval_set=[(X_valid, y_valid)], \n",
    "             verbose=False)\n",
    "\n",
    "# Wait a bit, will take time"
   ]
  },
  {
   "cell_type": "code",
   "execution_count": 194,
   "metadata": {
    "execution": {
     "iopub.execute_input": "2022-03-13T18:52:29.681968Z",
     "iopub.status.busy": "2022-03-13T18:52:29.681640Z",
     "iopub.status.idle": "2022-03-13T18:52:31.207237Z",
     "shell.execute_reply": "2022-03-13T18:52:31.206531Z",
     "shell.execute_reply.started": "2022-03-13T18:52:29.681941Z"
    }
   },
   "outputs": [],
   "source": [
    "# Get predictions\n",
    "predictions5 = my_model3.predict(X_valid)"
   ]
  },
  {
   "cell_type": "code",
   "execution_count": 195,
   "metadata": {
    "execution": {
     "iopub.execute_input": "2022-03-13T18:52:38.358109Z",
     "iopub.status.busy": "2022-03-13T18:52:38.357812Z",
     "iopub.status.idle": "2022-03-13T18:52:38.722797Z",
     "shell.execute_reply": "2022-03-13T18:52:38.721808Z",
     "shell.execute_reply.started": "2022-03-13T18:52:38.358078Z"
    },
    "scrolled": true
   },
   "outputs": [],
   "source": [
    "model_eval(y_valid, predictions5)"
   ]
  },
  {
   "cell_type": "markdown",
   "metadata": {},
   "source": [
    "<div style=\"font-family: Trebuchet MS;background-color:HoneyDew;color:Black;text-align: left;padding-top: 5px;padding-bottom: 5px;padding-left: 20px;padding-right: 10px;border-radius: 15px 50px;letter-spacing: 2px;\">\n",
    "    <b>Will use this dataset as the last dataset, for now.</b></div>"
   ]
  },
  {
   "cell_type": "code",
   "execution_count": 217,
   "metadata": {
    "execution": {
     "iopub.execute_input": "2022-03-13T19:26:43.303919Z",
     "iopub.status.busy": "2022-03-13T19:26:43.303628Z",
     "iopub.status.idle": "2022-03-13T19:26:46.447283Z",
     "shell.execute_reply": "2022-03-13T19:26:46.446148Z",
     "shell.execute_reply.started": "2022-03-13T19:26:43.303890Z"
    }
   },
   "outputs": [],
   "source": [
    "# Plot feature importance\n",
    "\n",
    "plot_features(my_model3, (10,14))"
   ]
  },
  {
   "cell_type": "markdown",
   "metadata": {
    "execution": {
     "iopub.execute_input": "2022-03-12T05:18:58.418572Z",
     "iopub.status.busy": "2022-03-12T05:18:58.418154Z",
     "iopub.status.idle": "2022-03-12T05:18:58.448155Z",
     "shell.execute_reply": "2022-03-12T05:18:58.447213Z",
     "shell.execute_reply.started": "2022-03-12T05:18:58.418473Z"
    }
   },
   "source": [
    "<div style=\"font-family: Trebuchet MS;background-color:DarkCyan;color:Azure;text-align: left;padding-top: 5px;padding-bottom: 20px;padding-left: 20px;padding-right: 10px;border-radius: 15px 50px;letter-spacing: 2px;\">\n",
    "    <h2>4. Test Model</h2>\n",
    "    </div>\n",
    "    "
   ]
  },
  {
   "cell_type": "markdown",
   "metadata": {},
   "source": [
    "<div style=\"font-family: Trebuchet MS;background-color:DarkCyan;color:Azure;text-align: left;padding-top: 5px;padding-bottom: 20px;padding-left: 20px;padding-right: 10px;border-radius: 15px 50px;letter-spacing: 2px;\">\n",
    "    <h2>4.1 Test Model with Test Dataset</h2>\n",
    "    </div>"
   ]
  },
  {
   "cell_type": "code",
   "execution_count": 197,
   "metadata": {
    "execution": {
     "iopub.execute_input": "2022-03-13T18:53:56.690950Z",
     "iopub.status.busy": "2022-03-13T18:53:56.690626Z",
     "iopub.status.idle": "2022-03-13T18:53:58.204879Z",
     "shell.execute_reply": "2022-03-13T18:53:58.204161Z",
     "shell.execute_reply.started": "2022-03-13T18:53:56.690920Z"
    }
   },
   "outputs": [],
   "source": [
    "# Get predictions\n",
    "predictions6 = my_model3.predict(X_test)"
   ]
  },
  {
   "cell_type": "code",
   "execution_count": 198,
   "metadata": {
    "execution": {
     "iopub.execute_input": "2022-03-13T18:54:00.512788Z",
     "iopub.status.busy": "2022-03-13T18:54:00.512459Z",
     "iopub.status.idle": "2022-03-13T18:54:00.872836Z",
     "shell.execute_reply": "2022-03-13T18:54:00.871835Z",
     "shell.execute_reply.started": "2022-03-13T18:54:00.512753Z"
    }
   },
   "outputs": [],
   "source": [
    "model_eval(y_test, predictions6)"
   ]
  },
  {
   "cell_type": "markdown",
   "metadata": {},
   "source": [
    "<div style=\"font-family: Trebuchet MS;background-color:DarkCyan;color:Azure;text-align: left;padding-top: 5px;padding-bottom: 20px;padding-left: 20px;padding-right: 10px;border-radius: 15px 50px;letter-spacing: 2px;\">\n",
    "    <h2>4.2 Test Model with User Input</h2>\n",
    "    </div>"
   ]
  },
  {
   "cell_type": "markdown",
   "metadata": {},
   "source": [
    "**So let's assume the following are the entries of a user, through a user interface, looking for a prediction from our model**"
   ]
  },
  {
   "cell_type": "code",
   "execution_count": 199,
   "metadata": {
    "execution": {
     "iopub.execute_input": "2022-03-13T18:54:12.256120Z",
     "iopub.status.busy": "2022-03-13T18:54:12.255511Z",
     "iopub.status.idle": "2022-03-13T18:54:12.268700Z",
     "shell.execute_reply": "2022-03-13T18:54:12.267878Z",
     "shell.execute_reply.started": "2022-03-13T18:54:12.256080Z"
    }
   },
   "outputs": [],
   "source": [
    "'''\n",
    "17 Entries :\n",
    "'Term', 'NoEmp', 'NewExist', 'CreateJob', 'RetainedJob',\n",
    "       'FranchiseCode', 'UrbanRural', 'LowDoc', 'DisbursementGross',\n",
    "       GrAppv', 'SBA_Appv', 'Industry', 'Recession','RealEstate', 'SBA_Portion', 'City', 'State'\n",
    "'''\n",
    "\n",
    "user_input = [2,0,1,0,0,1,0,0,50000,50000,25000,71,0,0,50,'EVANSVILLE','IN']\n",
    "\n",
    "city = user_input[15]\n",
    "state = user_input[16]\n",
    "city_state = city + \"_\" + state\n",
    "\n",
    "city_hash = int(hashlib.sha1(('City' + \"_\" + \\\n",
    "                              str(city)).encode('utf-8')).hexdigest(), 16) % 900000\n",
    "state_hash = int(hashlib.sha1(('State' + \"_\" + \\\n",
    "                              str(state)).encode('utf-8')).hexdigest(), 16) % 900000\n",
    "city_state_hash = int(hashlib.sha1(('CityState' + \"_\" + \\\n",
    "                              str(city_state)).encode('utf-8')).hexdigest(), 16) % 900000\n",
    "\n",
    "print(city_hash)\n",
    "print(state_hash)\n",
    "print(city_state_hash)\n",
    "\n",
    "user_input[15] = city_hash\n",
    "user_input[16] = state_hash\n",
    "user_input.append(city_state_hash)\n",
    "\n",
    "print(user_input)"
   ]
  },
  {
   "cell_type": "code",
   "execution_count": 200,
   "metadata": {
    "execution": {
     "iopub.execute_input": "2022-03-13T18:54:17.757432Z",
     "iopub.status.busy": "2022-03-13T18:54:17.756971Z",
     "iopub.status.idle": "2022-03-13T18:54:17.770744Z",
     "shell.execute_reply": "2022-03-13T18:54:17.768763Z",
     "shell.execute_reply.started": "2022-03-13T18:54:17.757398Z"
    }
   },
   "outputs": [],
   "source": [
    "features = np.array([user_input])   \n",
    "\n",
    "# using inputs to predict the output\n",
    "pred = my_model3.predict(features)\n",
    "print(\"Prediction: {}\".format(pred))"
   ]
  },
  {
   "cell_type": "markdown",
   "metadata": {},
   "source": [
    "**Predictions:**<br>\n",
    "- near 1 -> can approve\n",
    "- lower than 0.5 -> do not approve\n",
    "\n",
    "Of course, in real life, will need to check further using other data or models if available."
   ]
  },
  {
   "cell_type": "markdown",
   "metadata": {
    "execution": {
     "iopub.execute_input": "2022-03-13T19:10:41.572492Z",
     "iopub.status.busy": "2022-03-13T19:10:41.572202Z",
     "iopub.status.idle": "2022-03-13T19:10:41.579958Z",
     "shell.execute_reply": "2022-03-13T19:10:41.578591Z",
     "shell.execute_reply.started": "2022-03-13T19:10:41.572462Z"
    }
   },
   "source": [
    "<div style=\"font-family: Trebuchet MS;background-color:DarkCyan;color:Azure;text-align: left;padding-top: 5px;padding-bottom: 20px;padding-left: 20px;padding-right: 10px;border-radius: 15px 50px;letter-spacing: 2px;\">\n",
    "    <h2>5. Mutual Information Scores</h2>\n",
    " A general-purpose metric, ideally used before selecting and building a model, but used here in the end, for comparison.\n",
    "    </div>"
   ]
  },
  {
   "cell_type": "code",
   "execution_count": 201,
   "metadata": {
    "execution": {
     "iopub.execute_input": "2022-03-13T18:58:45.733893Z",
     "iopub.status.busy": "2022-03-13T18:58:45.733537Z",
     "iopub.status.idle": "2022-03-13T18:58:45.745048Z",
     "shell.execute_reply": "2022-03-13T18:58:45.743981Z",
     "shell.execute_reply.started": "2022-03-13T18:58:45.733858Z"
    }
   },
   "outputs": [],
   "source": [
    "def make_mi_scores(X, y):\n",
    "    X = X.copy()\n",
    "    #for colname in X.select_dtypes([\"object\", \"category\"]):\n",
    "    #    X[colname], _ = X[colname].factorize()\n",
    "    # All discrete features should now have integer dtypes\n",
    "    #discrete_features = [pd.api.types.is_integer_dtype(t) for t in X.dtypes]\n",
    "    #mi_scores = mutual_info_regression(X, y, discrete_features=discrete_features, random_state=0)\n",
    "    mi_scores = mutual_info_regression(X, y, random_state=0)\n",
    "    mi_scores = pd.Series(mi_scores, name=\"MI Scores\", index=X.columns)\n",
    "    mi_scores = mi_scores.sort_values(ascending=False)\n",
    "    return mi_scores\n",
    "\n",
    "def plot_mi_scores(scores):\n",
    "    scores = scores.sort_values(ascending=True)\n",
    "    width = np.arange(len(scores))\n",
    "    ticks = list(scores.index)\n",
    "    plt.barh(width, scores)\n",
    "    plt.yticks(width, ticks)\n",
    "    plt.title(\"Mutual Information Scores\")"
   ]
  },
  {
   "cell_type": "code",
   "execution_count": 222,
   "metadata": {
    "execution": {
     "iopub.execute_input": "2022-03-13T19:53:27.740586Z",
     "iopub.status.busy": "2022-03-13T19:53:27.740233Z",
     "iopub.status.idle": "2022-03-13T20:26:13.295457Z",
     "shell.execute_reply": "2022-03-13T20:26:13.294425Z",
     "shell.execute_reply.started": "2022-03-13T19:53:27.740550Z"
    }
   },
   "outputs": [],
   "source": [
    "from sklearn.feature_selection import mutual_info_regression\n",
    "\n",
    "mi_scores = make_mi_scores(X_over, y_over)\n",
    "\n",
    "# Wait for some time"
   ]
  },
  {
   "cell_type": "code",
   "execution_count": 1,
   "metadata": {
    "execution": {
     "iopub.execute_input": "2022-03-13T21:03:37.054930Z",
     "iopub.status.busy": "2022-03-13T21:03:37.054591Z",
     "iopub.status.idle": "2022-03-13T21:03:37.153840Z",
     "shell.execute_reply": "2022-03-13T21:03:37.152782Z",
     "shell.execute_reply.started": "2022-03-13T21:03:37.054837Z"
    }
   },
   "outputs": [],
   "source": [
    "plt.figure(dpi=1200, figsize=(8, 5))\n",
    "plot_mi_scores(mi_scores)"
   ]
  },
  {
   "cell_type": "code",
   "execution_count": 218,
   "metadata": {
    "execution": {
     "iopub.execute_input": "2022-03-13T19:27:42.323670Z",
     "iopub.status.busy": "2022-03-13T19:27:42.322829Z",
     "iopub.status.idle": "2022-03-13T19:27:45.381924Z",
     "shell.execute_reply": "2022-03-13T19:27:45.380903Z",
     "shell.execute_reply.started": "2022-03-13T19:27:42.323597Z"
    }
   },
   "outputs": [],
   "source": [
    "# Plot feature importance\n",
    "\n",
    "plot_features(my_model3, (10,14))"
   ]
  },
  {
   "cell_type": "code",
   "execution_count": null,
   "metadata": {},
   "outputs": [],
   "source": []
  }
 ],
 "metadata": {
  "kernelspec": {
   "display_name": "Python 3 (ipykernel)",
   "language": "python",
   "name": "python3"
  },
  "language_info": {
   "codemirror_mode": {
    "name": "ipython",
    "version": 3
   },
   "file_extension": ".py",
   "mimetype": "text/x-python",
   "name": "python",
   "nbconvert_exporter": "python",
   "pygments_lexer": "ipython3",
   "version": "3.8.12"
  }
 },
 "nbformat": 4,
 "nbformat_minor": 4
}
