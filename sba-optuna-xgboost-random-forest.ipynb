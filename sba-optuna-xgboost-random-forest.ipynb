{
 "cells": [
  {
   "cell_type": "markdown",
   "metadata": {},
   "source": [
    "<div style=\"font-family: Trebuchet MS;background-color:DarkCyan;color:Azure;text-align: left;padding-top: 5px;padding-bottom: 15px;padding-left: 20px;padding-right: 10px;border-radius: 15px 50px;letter-spacing: 2px;a:link{color: white}\">\n",
    "    <h1 style='color:GhostWhite;'>Part 2: Should This Loan be Approved or Denied ?</h1>\n",
    "    This is a continuation of notebook <a style=\"color:yellow\" href=\"https://www.kaggle.com/code/josephramon/sba-xgboost-model\">Part 1: Should This Loan Be Approved or Denied ?</a><br><br>\n",
    "    The topics covered here are :<br>\n",
    "    <p style=\"color:Gold;\">&nbsp;&nbsp;&nbsp;&nbsp;&nbsp;<b>XGBoost v1.6+ HyperParameter Tuning using Optuna - Full and Incremental</b></p>\n",
    "    <p style=\"color:Gold;\">&nbsp;&nbsp;&nbsp;&nbsp;&nbsp;<b>Random Forest HyperParameter Tuning using Optuna with GPU</b></p>\n",
    "    </div>"
   ]
  },
  {
   "cell_type": "markdown",
   "metadata": {},
   "source": [
    "<div class=\"alert alert-block alert-success\">  \n",
    "    <b>Dataset Source</b><br><br>\n",
    "    <a href=\"https://www.kaggle.com/mirbektoktogaraev/should-this-loan-be-approved-or-denied\">U.S. Small Business Administration (SBA) Dataset</a> - All information about the dataset can be found here<br><br>    \n",
    "    *<i>Thanks to Hamza for his <a href=\"https://www.kaggle.com/code/hamzaghanmi/xgboost-hyperparameter-tuning-using-optuna/notebook\">Notebook on Optuna</a> which was used as a guide.</i> \n",
    "<br><br>\n",
    "    <b>Other Related Notebooks:</b><br>\n",
    "    <a href= \"https://www.kaggle.com/code/josephramon/sba-xgboost-model\">Part 1: XGBoost for Binary Classification</a><br>\n",
    "    <a href= \"https://www.kaggle.com/code/josephramon/sba-keras-binary-classification-and-optuna\">Part 3: SBA Keras Binary Classification, Optuna, Keras Tuner</a><br><br>\n",
    "    If interested, Data Exploratory Visualization in Tableau can also be seen at :<br>\n",
    "    <a href= \"https://public.tableau.com/app/profile/joseph8038/viz/SBADatasetVisualizationandAnalysis/SBADatasetVisualizationandAnalysis-StoryBoard\">SBA Data Exploratory Visualization in Tableau</a>\n",
    "</div>"
   ]
  },
  {
   "cell_type": "markdown",
   "metadata": {},
   "source": [
    "<div class=\"alert alert-block alert-info\" style=\"color:DarkSlateBlue\">\n",
    "This notebook is divided into 2 main parts:<br>\n",
    "<ul>\n",
    "<li><a style=\"color:DarkSlateGrey;\" href=\"#part1\"><b>1. XGBoost HyperParameter Tuning using Optuna - Full and Incremental</b></a></li><br>\n",
    "<li><a style=\"color:DarkSlateGrey;\" href=\"#part2\"><b>2. Miscellaneous</a></b>  - Early Stopping Rounds, Random Forest Classifier</li>\n",
    "</ul>\n",
    "<br>\n",
    "    <p style=\"color:FireBrick;\"><b>* Output from <a style=\"color:DarkGoldenRod;\" href = \"https://www.kaggle.com/code/josephramon/sba-xgboost-model\">Part 1 notebook</a> are Input to this notebook.</b></p>\n",
    "</div>"
   ]
  },
  {
   "cell_type": "markdown",
   "metadata": {},
   "source": [
    "<a id=\"toc\"></a>\n",
    "<h2>Table Of Contents</h2>\n",
    "<ul>\n",
    "    <li><a style=\"color:DarkSlateGrey\" href=\"#paths_and_flags\">Paths and Flags</a></li>\n",
    "    <li><a style=\"color:DarkSlateGrey\" href=\"#libraries\">Libraries</a></li>   \n",
    "    <li><a style=\"color:DarkSlateGrey\" href=\"#custom_functions\">Custom Functions</a></li>\n",
    "    <li><a style=\"color:DarkSlateGrey\" href=\"#custom_classes\">Custom Classes</a></li>\n",
    "    <li><a style=\"color:DarkSlateGrey\" href=\"#metrics\">Metrics Function</a></li>\n",
    "    <li><a style=\"color:DarkSlateGrey\" href=\"#xgboost_class\">XGBoost Class</a></li>\n",
    "    <li><a style=\"color:DarkSlateGrey\" href=\"#other_models\">Other Models Class</a></li>\n",
    "    <li><a style=\"color:DarkSlateGrey\" href=\"#optuna_class\">Optuna Class - for both full datasets or incremental</a></li>\n",
    "    <br>\n",
    "    <li><a style=\"color:DarkSlateGrey\" href=\"#part1\">Part 1. XGBoost HyperParameter Tuning using Optuna</a></li>\n",
    "    <ul>\n",
    "    <li><a style=\"color:DarkSlateGrey\" href=\"#full_df\">Optuna Study : Full Dataset</a></li>\n",
    "    <li><a style=\"color:DarkSlateGrey\" href=\"#incremental_df\">Optuna Study : Incremental Dataset</a></li>\n",
    "    <li><a style=\"color:DarkSlateGrey\" href=\"#optuna_metrics\">Optuna Study Metrics</a></li>    \n",
    "    <li><a style=\"color:DarkSlateGrey\" href=\"#try_best_hp\">Model v4 : Try the Optuna Hyperparameters</a></li>\n",
    "    <li><a style=\"color:DarkSlateGrey\" href=\"#optuna_comparison\">Optuna Tuning Comparison</a></li>\n",
    "    <li><a style=\"color:DarkSlateGrey\" href=\"#cross_validation\">Cross Validation</a></li>\n",
    "    </ul>\n",
    "    <br>\n",
    "    <li><a style=\"color:DarkSlateGrey\" href=\"#part2\">Part 2. Miscellaneous</a></li>\n",
    "    <ul>\n",
    "    <li><a style=\"color:DarkSlateGrey\" href=\"#early_stopping_rounds\">Early Stopping Rounds</a></li>\n",
    "    <li><a style=\"color:DarkSlateGrey\" href=\"#random_forest_classifier\">Random Forest Classifier</a></li><br>\n",
    "    </ul>\n",
    "    <li><a style=\"color:DarkSlateGrey;font-size:18px\" href=\"https://www.kaggle.com/code/josephramon/sba-keras-binary-classification-and-optuna\">SBA Binary Classification, Optuna, and Keras Tuner - <i style='font-size:13px'>this will open a new browser tab</i></a></li>\n",
    "</ul>"
   ]
  },
  {
   "cell_type": "markdown",
   "metadata": {},
   "source": [
    "<a id=\"paths_and_flags\"></a>\n",
    "<div style=\"font-family: Trebuchet MS;background-color:LightSteelBlue;color:Black;text-align: left;padding-top: 5px;padding-bottom: 5px;padding-left: 20px;padding-right: 10px;border-radius: 15px 50px;letter-spacing: 2px;\">\n",
    "    <b>Paths and Flags</b></div>"
   ]
  },
  {
   "cell_type": "code",
   "execution_count": 148,
   "metadata": {
    "execution": {
     "iopub.execute_input": "2022-05-17T07:23:48.278041Z",
     "iopub.status.busy": "2022-05-17T07:23:48.277418Z",
     "iopub.status.idle": "2022-05-17T07:23:48.294012Z",
     "shell.execute_reply": "2022-05-17T07:23:48.292268Z",
     "shell.execute_reply.started": "2022-05-17T07:23:48.278002Z"
    }
   },
   "outputs": [
    {
     "name": "stdout",
     "output_type": "stream",
     "text": [
      "Not running a Kaggle notebook\n",
      "kaggle_flag : 0\n",
      "alert_flag  : 0\n",
      "optuna_flag : 1\n"
     ]
    }
   ],
   "source": [
    "import os\n",
    "'''\n",
    "kaggle_flag :\n",
    "   0 - if running outside Kaggle (e.g. Jupyter Notebook), change inputdir & workdir to your \n",
    "       own path\n",
    "   1 - if running as a Kaggle notebook\n",
    "'''\n",
    "# Change this logic to your own if needed\n",
    "if os.path.exists('../usr/lib/myfuncs/myfuncs.py'):\n",
    "    kaggle_flag = 1\n",
    "    print('Running a Kaggle notebook')\n",
    "else:\n",
    "    kaggle_flag = 0\n",
    "    print('Not running a Kaggle notebook')\n",
    "\n",
    "# alert_flag - change to 0 for no sound alert, 1 for sound alert after long running cells\n",
    "alert_flag = 0\n",
    "\n",
    "'''\n",
    "We have two options for running Optuna tuning on XGBoost:  \n",
    "   OptunaStudy() - run Optuna on the full dataset\n",
    "   OptunaStudyChunk() - run in chunks, lighter on memory, but much slower\n",
    "\n",
    "Change flag below as needed:\n",
    "   1 to run OptunaStudy() only\n",
    "   2 to run OptunaStudyChunk() only\n",
    "   3 to run both\n",
    "'''\n",
    "optuna_flag = 1\n",
    "\n",
    "# GPU is automatically detected if activated\n",
    "\n",
    "#---------------------------------------------------------------------------------------#\n",
    "\n",
    "if kaggle_flag == 1:             # Kaggle\n",
    "    # Part 1 Notebook's workdir contents are input for this notebook\n",
    "    inputdir  = \"../input/sba-xgboost-model/\"        \n",
    "    workdir  = \"./\"\n",
    "    final_ds  = f'{inputdir}sba_final.csv.feather'  # imported from Part 1 Notebook\n",
    "    final_csv = f'{inputdir}sba_final.csv'          # imported from Part 1 Notebook\n",
    "    functions_path = \"../usr/lib/myfuncs/myfuncs.py\"\n",
    "else:\n",
    "    inputdir  = \"C:\\\\Python\\\\Python_Data_Science_Exercises\\\\datasets\\\\\"\n",
    "    workdir  = \"C:\\\\Python\\\\Python_Data_Science_Exercises\\\\datasets\\\\\"\n",
    "    final_ds  = f'{inputdir}sba_final.csv.feather'\n",
    "    final_csv = f'{inputdir}sba_final.csv'\n",
    "    functions_path = 'C:\\\\Python\\\\Python_Data_Science_Exercises\\\\mylibs\\\\'\n",
    "\n",
    "audio_path=\"https://www.soundjay.com/misc/sounds/tablet-bottle-1.mp3\" # for alert\n",
    "\n",
    "print(f'kaggle_flag : {kaggle_flag}')\n",
    "print(f'alert_flag  : {alert_flag}')\n",
    "print(f'optuna_flag : {optuna_flag}')"
   ]
  },
  {
   "cell_type": "markdown",
   "metadata": {},
   "source": [
    "<a id=\"libraries\"></a>\n",
    "<div style=\"font-family: Trebuchet MS;background-color:LightSteelBlue;color:Black;text-align: left;padding-top: 5px;padding-bottom: 5px;padding-left: 20px;padding-right: 10px;border-radius: 15px 50px;letter-spacing: 2px;\">\n",
    "    <b>Libraries</b></div>"
   ]
  },
  {
   "cell_type": "code",
   "execution_count": 149,
   "metadata": {
    "execution": {
     "iopub.execute_input": "2022-05-17T07:23:48.296588Z",
     "iopub.status.busy": "2022-05-17T07:23:48.295963Z",
     "iopub.status.idle": "2022-05-17T07:24:43.697577Z",
     "shell.execute_reply": "2022-05-17T07:24:43.696477Z",
     "shell.execute_reply.started": "2022-05-17T07:23:48.296542Z"
    }
   },
   "outputs": [
    {
     "name": "stdout",
     "output_type": "stream",
     "text": [
      "\n",
      "Package installations completed\n"
     ]
    }
   ],
   "source": [
    "from IPython.display import clear_output   # to be able to use clear_output(wait=True)\n",
    "def install_packages():\n",
    "    print('Please wait, package installations started, if needed')\n",
    "    libs = ['scikit-learn', 'seaborn', 'numpy','matplotlib', 'tensorflow','torch','joblib',\n",
    "            'psutil','imbalanced-learn','xgboost','optuna','pyarrow','pyttsx3',\n",
    "            'pympler','memory_profiler','line_profiler','sweetviz']\n",
    "    \n",
    "    piplist = !pip3 list\n",
    "    for i in range(len(libs)):\n",
    "        if not piplist.grep(libs[i]):\n",
    "            !pip3 install {libs[i]}\n",
    "        #\n",
    "        # Since XGBoost version must be at least 1.6 for our code to work properly, \n",
    "        # we upgrade it here if needed, before we import it\n",
    "        #\n",
    "        elif libs[i] == 'xgboost':\n",
    "            s = (piplist.grep('xgboost'))[0]\n",
    "            s = \" \".join(s.split())\n",
    "            ver = s.split(\" \")\n",
    "            if ver[1] < '1.6':\n",
    "                !pip3 install --upgrade xgboost\n",
    "\n",
    "    clear_output(wait=True)\n",
    "    print('Package installations completed')\n",
    "\n",
    "install_packages()"
   ]
  },
  {
   "cell_type": "code",
   "execution_count": 150,
   "metadata": {
    "execution": {
     "iopub.execute_input": "2022-05-17T07:24:43.700798Z",
     "iopub.status.busy": "2022-05-17T07:24:43.700491Z",
     "iopub.status.idle": "2022-05-17T07:24:47.741250Z",
     "shell.execute_reply": "2022-05-17T07:24:47.740078Z",
     "shell.execute_reply.started": "2022-05-17T07:24:43.700766Z"
    }
   },
   "outputs": [
    {
     "name": "stdout",
     "output_type": "stream",
     "text": [
      "Package imports completed\n"
     ]
    }
   ],
   "source": [
    "import pandas as pd\n",
    "import seaborn as sns\n",
    "import matplotlib.pyplot as plt\n",
    "import numpy as np\n",
    "import warnings\n",
    "import pyttsx3\n",
    "\n",
    "from IPython.display import Audio, display\n",
    "from IPython.display import FileLink\n",
    "from IPython.display import IFrame\n",
    "from IPython.core.display import HTML\n",
    "\n",
    "import hashlib\n",
    "import copy                     # for deepcopy()\n",
    "import datetime as dt\n",
    "import optuna\n",
    "import gc\n",
    "import shutil\n",
    "import psutil\n",
    "import os\n",
    "import sys\n",
    "import pickle\n",
    "import joblib\n",
    "import torch                    # for clearing GPU cache\n",
    "from time import sleep\n",
    "import importlib\n",
    "\n",
    "import xgboost\n",
    "from xgboost import XGBClassifier\n",
    "\n",
    "from imblearn.over_sampling import RandomOverSampler\n",
    "from imblearn.under_sampling import RandomUnderSampler\n",
    "'''\n",
    "We can use these other packages for oversampling, or combined over/under sampling, \n",
    "but they are super slow with large datasets.  It will take 7 to 8 hours just for our \n",
    "X_train dataset\n",
    "''' \n",
    "from imblearn.over_sampling import SMOTE\n",
    "from imblearn.combine import SMOTEENN\n",
    "#from imblearn.over_sampling import ADASYN\n",
    "#from imblearn.combine import SMOTETomek\n",
    "\n",
    "from collections import Counter\n",
    "\n",
    "from sklearn import metrics\n",
    "from sklearn.metrics import classification_report\n",
    "from sklearn.metrics import f1_score\n",
    "from sklearn.model_selection import train_test_split\n",
    "\n",
    "%matplotlib inline\n",
    "warnings.filterwarnings('ignore')\n",
    "warnings.simplefilter(\"ignore\")\n",
    "\n",
    "clear_output(wait=True)\n",
    "print('Package imports completed')"
   ]
  },
  {
   "cell_type": "code",
   "execution_count": 151,
   "metadata": {
    "execution": {
     "iopub.execute_input": "2022-05-17T07:24:47.743494Z",
     "iopub.status.busy": "2022-05-17T07:24:47.743076Z",
     "iopub.status.idle": "2022-05-17T07:24:47.756729Z",
     "shell.execute_reply": "2022-05-17T07:24:47.755627Z",
     "shell.execute_reply.started": "2022-05-17T07:24:47.743446Z"
    }
   },
   "outputs": [
    {
     "name": "stdout",
     "output_type": "stream",
     "text": [
      "XGBoost __Version__ : 1.6.1 is good.\n",
      "\n",
      "Name: xgboost\n",
      "Version: 1.6.1\n",
      "Summary: XGBoost Python Package\n",
      "Home-page: https://github.com/dmlc/xgboost\n",
      "Author: \n",
      "Author-email: \n",
      "License: Apache-2.0\n",
      "Location: c:\\programdata\\anaconda3\\lib\\site-packages\n",
      "Requires: numpy, scipy\n",
      "Required-by: autoxgb\n"
     ]
    }
   ],
   "source": [
    "'''\n",
    "This check is mainly for Kaggle which has an older version of XGBoost, as at Apr 2022\n",
    "\n",
    "XGBoost version should be at least 1.6.  From XGBoost 1.6, early_stopping_rounds and \n",
    "eval_metric are now under hyperparameters, and deprecated from fit() method.\n",
    "'''\n",
    "assert xgboost.__version__ >= '1.6',\\\n",
    "    \"XGBoost version must be at least 1.6. RESTART KERNEL if already upgraded.\"\n",
    "\n",
    "print(f'XGBoost __Version__ : {xgboost.__version__} is good.')\n",
    "print()\n",
    "!pip3 show xgboost"
   ]
  },
  {
   "cell_type": "markdown",
   "metadata": {},
   "source": [
    "<a id=\"custom_functions\"></a>\n",
    "<div style=\"font-family: Trebuchet MS;background-color:LightSteelBlue;color:Black;text-align: left;padding-top: 5px;padding-bottom: 5px;padding-left: 20px;padding-right: 10px;border-radius: 15px 50px;letter-spacing: 2px;\">\n",
    "    <b>Custom Functions</b></div>"
   ]
  },
  {
   "cell_type": "code",
   "execution_count": 152,
   "metadata": {
    "execution": {
     "iopub.execute_input": "2022-05-17T07:24:58.763097Z",
     "iopub.status.busy": "2022-05-17T07:24:58.762751Z",
     "iopub.status.idle": "2022-05-17T07:24:58.778588Z",
     "shell.execute_reply": "2022-05-17T07:24:58.777533Z",
     "shell.execute_reply.started": "2022-05-17T07:24:58.763050Z"
    }
   },
   "outputs": [
    {
     "data": {
      "text/plain": [
       "['C:\\\\Python\\\\Python_Data_Science_Exercises',\n",
       " 'C:\\\\ProgramData\\\\Anaconda3\\\\python38.zip',\n",
       " 'C:\\\\ProgramData\\\\Anaconda3\\\\DLLs',\n",
       " 'C:\\\\ProgramData\\\\Anaconda3\\\\lib',\n",
       " 'C:\\\\ProgramData\\\\Anaconda3',\n",
       " '',\n",
       " 'C:\\\\Users\\\\latri\\\\AppData\\\\Roaming\\\\Python\\\\Python38\\\\site-packages',\n",
       " 'C:\\\\ProgramData\\\\Anaconda3\\\\lib\\\\site-packages',\n",
       " 'C:\\\\ProgramData\\\\Anaconda3\\\\lib\\\\site-packages\\\\win32',\n",
       " 'C:\\\\ProgramData\\\\Anaconda3\\\\lib\\\\site-packages\\\\win32\\\\lib',\n",
       " 'C:\\\\ProgramData\\\\Anaconda3\\\\lib\\\\site-packages\\\\Pythonwin',\n",
       " 'C:\\\\Python\\\\Python_Data_Science_Exercises\\\\mylibs\\\\']"
      ]
     },
     "execution_count": 152,
     "metadata": {},
     "output_type": "execute_result"
    }
   ],
   "source": [
    "sys.path"
   ]
  },
  {
   "cell_type": "code",
   "execution_count": 153,
   "metadata": {
    "execution": {
     "iopub.execute_input": "2022-05-17T07:24:58.781226Z",
     "iopub.status.busy": "2022-05-17T07:24:58.780348Z",
     "iopub.status.idle": "2022-05-17T07:25:04.513412Z",
     "shell.execute_reply": "2022-05-17T07:25:04.512283Z",
     "shell.execute_reply.started": "2022-05-17T07:24:58.781174Z"
    }
   },
   "outputs": [
    {
     "name": "stdout",
     "output_type": "stream",
     "text": [
      "Custom functions import completed\n"
     ]
    }
   ],
   "source": [
    "# import custom functions\n",
    "# rerun this cell if any changes are made to myfuncs.py during the current session\n",
    "\n",
    "if functions_path not in sys.path:\n",
    "    sys.path.append(functions_path)\n",
    "import myfuncs as mf\n",
    "importlib.reload(mf)      # in case changes were made to myfuncs during current session\n",
    "print('Custom functions import completed')"
   ]
  },
  {
   "cell_type": "markdown",
   "metadata": {},
   "source": [
    "<div class=\"alert alert-block alert-info\">\n",
    "<b>Some custom functions and classes in <a style=\"color:ForestGreen\" href=\"https://www.kaggle.com/code/josephramon/myfuncs\" target=\"_blank\">myfuncs.py</a></b>.  Not all are used in this notebook; and those used are called with a qualification \"<b>mf.</b>\".<br>  \n",
    "In Kaggle, myfuncs.py is set up as a <b>Utility Script</b> in /usr/lib<br>\n",
    "<ul>\n",
    "    <li>is_kaggle_gpu_enabled()</li>\n",
    "<li>clear_gpu(tree_method='gpu_hist')</li>\n",
    "<li>reduce_mem_usage(df, print_info = True, use_float16=False)</li>\n",
    "<li>runtime(rt1,rt2)</li>\n",
    "<li>create_download_link(title = \"Download \", filename = \"data.csv\")</li>\n",
    "<li>GetRam()</li>\n",
    "<li>convertFloatToDecimal(f=0.0, precision=2)</li>\n",
    "<li>formatFileSize(size, sizeIn, sizeOut, precision=0)</li>\n",
    "<li>check_cols_with_nulls(df)</li>\n",
    "<li>check_infinity_nan(df, dfname)</li>\n",
    "<li>fixvals(val)</li>\n",
    "<li>model_eval(y_valid,predictions, cmDisplay=False)</li>\n",
    "<li>model_eval2(model, X_train, y_train, X_testdata, y_testdata,\n",
    "    cmDisplay=False, prtstr = 'y_valid')</li>\n",
    "<li>plot_features(booster, figsize)</li>\n",
    "<li>make_mi_scores(X, y)</li>\n",
    "<li>plot_mi_scores(scores)</li>\n",
    "<li>GetSweetVizReport(df, workdir, kaggle_flag)</li>\n",
    "<li>SetVoice(kaggle_flag)</li>\n",
    "<li>InitTPUStrategy()</li>\n",
    "<li>ZipDir(zippath)</li>\n",
    "<li>GetTimeZone()</li>\n",
    "<li>GetRatio(num1, num2)</li>\n",
    "<li>class color</li>\n",
    "</div>"
   ]
  },
  {
   "cell_type": "code",
   "execution_count": 154,
   "metadata": {
    "execution": {
     "iopub.execute_input": "2022-05-17T07:24:58.753095Z",
     "iopub.status.busy": "2022-05-17T07:24:58.752387Z",
     "iopub.status.idle": "2022-05-17T07:24:58.760992Z",
     "shell.execute_reply": "2022-05-17T07:24:58.759812Z",
     "shell.execute_reply.started": "2022-05-17T07:24:58.753045Z"
    }
   },
   "outputs": [],
   "source": [
    "# ensure garbage collector is enabled\n",
    "(gc.isenabled() == False) and gc.enable();"
   ]
  },
  {
   "cell_type": "code",
   "execution_count": 155,
   "metadata": {
    "execution": {
     "iopub.execute_input": "2022-05-17T07:25:04.516025Z",
     "iopub.status.busy": "2022-05-17T07:25:04.515004Z",
     "iopub.status.idle": "2022-05-17T07:25:15.078122Z",
     "shell.execute_reply": "2022-05-17T07:25:15.077062Z",
     "shell.execute_reply.started": "2022-05-17T07:25:04.515974Z"
    }
   },
   "outputs": [
    {
     "data": {
      "text/plain": [
       "'hist'"
      ]
     },
     "execution_count": 155,
     "metadata": {},
     "output_type": "execute_result"
    }
   ],
   "source": [
    "gpu_enabled = mf.is_kaggle_gpu_enabled()\n",
    "\n",
    "if gpu_enabled == False:\n",
    "    tree_method = 'hist'\n",
    "else:\n",
    "    tree_method = 'gpu_hist'\n",
    "\n",
    "del gpu_enabled\n",
    "gc.collect()\n",
    "\n",
    "sleep(5)\n",
    "clear_output(wait=True)\n",
    "tree_method"
   ]
  },
  {
   "cell_type": "code",
   "execution_count": 156,
   "metadata": {
    "execution": {
     "iopub.execute_input": "2022-05-17T07:25:15.080934Z",
     "iopub.status.busy": "2022-05-17T07:25:15.080262Z",
     "iopub.status.idle": "2022-05-17T07:25:15.086281Z",
     "shell.execute_reply": "2022-05-17T07:25:15.085253Z",
     "shell.execute_reply.started": "2022-05-17T07:25:15.080888Z"
    }
   },
   "outputs": [],
   "source": [
    "''' \n",
    "Set up voice object.  Used in different areas of notebook to indicate completion of long processes.\n",
    "'''\n",
    "engine = mf.SetVoice(kaggle_flag)"
   ]
  },
  {
   "cell_type": "markdown",
   "metadata": {
    "execution": {
     "iopub.execute_input": "2022-05-17T07:15:49.429758Z",
     "iopub.status.busy": "2022-05-17T07:15:49.429388Z",
     "iopub.status.idle": "2022-05-17T07:15:49.458798Z",
     "shell.execute_reply": "2022-05-17T07:15:49.457385Z",
     "shell.execute_reply.started": "2022-05-17T07:15:49.429667Z"
    }
   },
   "source": [
    "<i><a style=\"color:DarkSlateGrey\" href=\"#toc\">Back to Table Of Contents</a></i>"
   ]
  },
  {
   "cell_type": "markdown",
   "metadata": {},
   "source": [
    "<a id=\"custom_classes\"></a>\n",
    "<div style=\"font-family: Trebuchet MS;background-color:PowderBlue;color:Black;text-align: left;padding-top: 5px;padding-bottom: 5px;padding-left: 20px;padding-right: 10px;border-radius: 15px 50px;letter-spacing: 2px;\">\n",
    "    <b>Custom Classes</b></div>"
   ]
  },
  {
   "cell_type": "markdown",
   "metadata": {},
   "source": [
    "<a id=\"xgboost_class\"></a>\n",
    "<div style=\"font-family: Trebuchet MS;background-color:LightSteelBlue;color:Black;text-align: left;padding-top: 5px;padding-bottom: 5px;padding-left: 20px;padding-right: 10px;border-radius: 15px 50px;letter-spacing: 2px;\">\n",
    "    <b>XGBoost Class</b></div>"
   ]
  },
  {
   "cell_type": "code",
   "execution_count": 157,
   "metadata": {
    "execution": {
     "iopub.execute_input": "2022-05-17T07:25:15.091191Z",
     "iopub.status.busy": "2022-05-17T07:25:15.090397Z",
     "iopub.status.idle": "2022-05-17T07:25:15.223732Z",
     "shell.execute_reply": "2022-05-17T07:25:15.222745Z",
     "shell.execute_reply.started": "2022-05-17T07:25:15.091153Z"
    }
   },
   "outputs": [
    {
     "name": "stdout",
     "output_type": "stream",
     "text": [
      "XGBoost class initialized\n"
     ]
    }
   ],
   "source": [
    "class process_model():  \n",
    "    def __init__(self, X, y):\n",
    "        self.X = X\n",
    "        self.y = y\n",
    "        self.X_train, self.y_train = None, None\n",
    "        self.X_valid, self.X_test = None, None\n",
    "        self.y_valid, self.y_test = None, None\n",
    "        \n",
    "        self.xg_model = None\n",
    "\n",
    "        print(f'MIS_Status Count ->  1 : {Counter(y)[1]}, 0 : {Counter(y)[0]}')\n",
    "\n",
    "    def osample(self, print_info = True, os_data = [1,0,0], os_class = 'ros'):\n",
    "        '''\n",
    "        #Resampling method\n",
    "        os_data:\n",
    "            os_data[0] : 1 to resample train data; otherwise, 0 \n",
    "            os_data[1] : 1 to resample valid data; otherwise, 0\n",
    "            os_data[2] : 1 to resample test data; otherwise, 0\n",
    "        ''' \n",
    "        # oversample\n",
    "        if os_class == 'sm':\n",
    "            resample = SMOTE(sampling_strategy='minority', n_jobs = -1, random_state=48)\n",
    "        # combined over and under sampling\n",
    "        elif os_class == 'sme':\n",
    "            resample = SMOTEENN(sampling_strategy='minority', n_jobs = -1, random_state=48)\n",
    "        # undersample\n",
    "        elif os_class == 'rus':\n",
    "            resample = RandomUnderSampler(sampling_strategy='majority', random_state=48)\n",
    "        # oversample\n",
    "        else:\n",
    "            resample = RandomOverSampler(sampling_strategy='minority', random_state=48) \n",
    "        \n",
    "        rt1=dt.datetime.now()\n",
    "            \n",
    "        if print_info == True:\n",
    "            print()\n",
    "            print('X_train size : ', len(self.X_train))\n",
    "            print('X_valid size : ', len(self.X_valid))\n",
    "            print('X_test size  : ', len(self.X_test))\n",
    "            \n",
    "        # fit and apply the transform\n",
    "        print()\n",
    "        if os_data[0] == 1:\n",
    "            print(f'{mf.color.bdgreen}Please wait, resampling train data{mf.color.end}')\n",
    "            X_train_over, y_train_over = resample.fit_resample(self.X_train, self.y_train)\n",
    "            \n",
    "        if os_data[1] == 1:\n",
    "            print(f'{mf.color.bdgreen}Please wait, resampling valid data{mf.color.end}')\n",
    "            X_valid_over, y_valid_over = resample.fit_resample(self.X_valid, self.y_valid)\n",
    "            \n",
    "        if os_data[2] == 1:\n",
    "            print(f'{mf.color.bdgreen}Please wait, resampling test data{mf.color.end}')\n",
    "            X_test_over, y_test_over   = resample.fit_resample(self.X_test, self.y_test)\n",
    "\n",
    "        # summarize class distribution\n",
    "        if print_info == True:\n",
    "            if os_data[0] == 1:\n",
    "                print('\\nBefore Resampling train -> 1 : {}, 0 : {}'.format(\n",
    "                    Counter(self.y_train)[1], Counter(self.y_train)[0]))\n",
    "\n",
    "                print('After Resampling  train -> 1 : {}, 0 : {}'.format(\n",
    "                    Counter(y_train_over)[1], Counter(y_train_over)[0]))\n",
    "            if os_data[1] == 1:\n",
    "                print('\\nBefore Resampling valid -> 1 : {}, 0 : {}'.format(\n",
    "                    Counter(self.y_valid)[1], Counter(self.y_valid)[0]))\n",
    "\n",
    "                print('After Resampling  valid -> 1 : {}, 0 : {}'.format(\n",
    "                    Counter(y_valid_over)[1], Counter(y_valid_over)[0]))\n",
    "            if os_data[2] == 1:\n",
    "                print('\\nBefore Resampling test -> 1 : {}, 0 : {}'.format(\n",
    "                    Counter(self.y_test)[1], Counter(self.y_test)[0]))\n",
    "\n",
    "                print('After Resampling  test -> 1 : {}, 0 : {}'.format(\n",
    "                    Counter(y_test_over)[1], Counter(y_test_over)[0]))\n",
    "  \n",
    "        if os_data[0] == 1:\n",
    "            self.X_train, self.y_train = X_train_over, y_train_over\n",
    "            \n",
    "        if os_data[1] == 1:\n",
    "            self.X_valid, self.y_valid = X_valid_over, y_valid_over\n",
    "            \n",
    "        if os_data[2] == 1:\n",
    "            self.X_test, self.y_test   = X_test_over, y_test_over\n",
    "            \n",
    "        print(f'\\n{mf.color.bdblue}Resampling {mf.color.end}', end = '')\n",
    "        rt2=dt.datetime.now()\n",
    "        mf.runtime(rt1,rt2)\n",
    "        \n",
    "    # oversampling method\n",
    "    def osample_Xy(self, print_info = True, os_class = 'ros'):\n",
    "        print(f'{mf.color.bdgreen}Please wait, resampling data{mf.color.end}\\n')\n",
    "        # define oversampling strategy\n",
    "        if os_class == 'ros':\n",
    "            oversample = RandomOverSampler(sampling_strategy='minority') \n",
    "        else:\n",
    "            oversample = RandomUnderSampler(sampling_strategy='majority')\n",
    "            \n",
    "        if print_info == True:\n",
    "            print('X size : ', len(self.X))\n",
    "            print('y size : ', len(self.y))\n",
    "            \n",
    "        # fit and apply the transform\n",
    "        X_over, y_over = oversample.fit_resample(self.X, self.y)\n",
    "\n",
    "        # summarize class distribution\n",
    "        if print_info == True:\n",
    "            print(f'Before Resampling -> 1 : {Counter(self.y)[1]}, 0 : {Counter(self.y)[0]}')\n",
    "            print(f'After Resampling  -> 1 : {Counter(y_over)[1]}, 0 : {Counter(y_over)[0]}')\n",
    "        \n",
    "        # update X and y with the oversampled results \n",
    "        self.X = X_over\n",
    "        self.y = y_over\n",
    "    \n",
    "    def split_data(self, X_size = 0.7):   \n",
    "        # Split Data into Train:Validate:Test\n",
    "        \n",
    "        # train_size=X_size\n",
    "        # In the first step, we will split the data in training and remaining dataset\n",
    "        self.X_train, X_rem, self.y_train, y_rem = train_test_split(self.X, self.y,\n",
    "                                stratify=self.y, train_size = X_size, random_state=48) \n",
    "\n",
    "        # Now since we want the valid and test size to be equal,\n",
    "        # we have to define valid_size=0.5 (that is 50% of remaining data)\n",
    "        # test_size = 0.5\n",
    "\n",
    "        self.X_valid, self.X_test, self.y_valid, self.y_test = train_test_split(X_rem,y_rem,\n",
    "                                stratify=y_rem, test_size=0.5, random_state=48)\n",
    "        \n",
    "        return {'X_train':self.X_train, 'y_train':self.y_train,\n",
    "                'X_valid':self.X_valid, 'y_valid':self.y_valid,\n",
    "                'X_test':self.X_test, 'y_test':self.y_test}\n",
    "    \n",
    "    # Method to run model \n",
    "    # desc - description of metrics report\n",
    "    def prep_run_model(self, desc='Metrics', cmDisplay=False, PipeLine_flag = False,\n",
    "                hyperparams = {'n_estimators': 1000, 'learning_rate': 0.05, 'max_depth': 6,\n",
    "                               'tree_method':tree_method, 'early_stopping_rounds':100,\n",
    "                               'eval_metric':['logloss','error']}):\n",
    "\n",
    "        # from XGBoost 1.6, early_stopping_rounds and eval_metric are under parameters,\n",
    "        # and deprecated from fit() method.\n",
    "        # The default hyperparameters are conservative, to help avoid overfitting\n",
    "        \n",
    "        print()\n",
    "        print(f\"{mf.color.bold}Please wait, Fitting model can take time ...{mf.color.end}\")\n",
    "        \n",
    "        '''\n",
    "        XGBRegressor is for continuous target/outcome variables. These are often called \n",
    "        \"regression problems.\"\n",
    "\n",
    "        XGBClassifier is for categorical target/outcome variables. These are often called \n",
    "        \"classification problems.\"\n",
    "        '''\n",
    "        \n",
    "        if PipeLine_flag == True:\n",
    "            # hyperparams is a result of a previous run of Optuna hyperparameter tuning\n",
    "            # the hyperparameters lean towards being conservative to help avoid overfitting\n",
    "            hyperparams = { 'tree_method': 'gpu_hist',\n",
    "                            'lambda': 0.023437933789759252,\n",
    "                            'alpha': 0.005813454622750776,\n",
    "                            'gamma': 0,\n",
    "                            'colsample_bytree': 0.9,\n",
    "                            'subsample': 1.0,\n",
    "                            'learning_rate': 0.05,\n",
    "                            'n_estimators': 1000,\n",
    "                            'max_depth': 13,\n",
    "                            'random_state': 48,\n",
    "                            'min_child_weight': 1,\n",
    "                            'early_stopping_rounds': 100.0,\n",
    "                            'eval_metric': 'error'\n",
    "                          }\n",
    "            \n",
    "        self.xg_model = XGBClassifier(**hyperparams,use_label_encoder =False)\n",
    "       \n",
    "        eval_setparam = [(self.X_valid, self.y_valid)]\n",
    "        \n",
    "        self.xg_model.fit(self.X_train, self.y_train, \n",
    "                     eval_set = eval_setparam,\n",
    "                     verbose=False)\n",
    "        \n",
    "        gc.collect()\n",
    "        mf.clear_gpu()\n",
    " \n",
    "        print(\"Fitting model completed.\")\n",
    "        print()\n",
    "        print('Preparing Predictions')\n",
    "    \n",
    "        # Get predictions\n",
    "        predictions = self.xg_model.predict(self.X_valid)\n",
    "    \n",
    "        print()\n",
    "        print(f'{mf.color.underline}{desc}{mf.color.end}')\n",
    "\n",
    "        #eval_results = mf.model_eval(self.y_valid, predictions, cmDisplay)\n",
    "        eval_results = mf.model_eval2(self.xg_model,\n",
    "                                      self.X_train, self.y_train,\n",
    "                                      self.X_valid, self.y_valid,\n",
    "                                      cmDisplay=True)\n",
    "            \n",
    "        # Return these values as they may be needed for further testing or metrics\n",
    "        # in dictionary form to remember easier \n",
    "        return {'xg_model':self.xg_model,'predictions':predictions,\n",
    "                    'X_train':self.X_train, 'y_train':self.y_train,\n",
    "                    'X_valid':self.X_valid, 'y_valid':self.y_valid,\n",
    "                    'X_test':self.X_test, 'y_test':self.y_test, 'eval_results':eval_results}\n",
    "    \n",
    "print('XGBoost class initialized')"
   ]
  },
  {
   "cell_type": "markdown",
   "metadata": {
    "execution": {
     "iopub.execute_input": "2022-05-17T07:15:49.429758Z",
     "iopub.status.busy": "2022-05-17T07:15:49.429388Z",
     "iopub.status.idle": "2022-05-17T07:15:49.458798Z",
     "shell.execute_reply": "2022-05-17T07:15:49.457385Z",
     "shell.execute_reply.started": "2022-05-17T07:15:49.429667Z"
    }
   },
   "source": [
    "<i><a style=\"color:DarkSlateGrey\" href=\"#toc\">Back to Table Of Contents</a></i>"
   ]
  },
  {
   "cell_type": "markdown",
   "metadata": {},
   "source": [
    "<a id=\"other_models\"></a>\n",
    "<div style=\"font-family: Trebuchet MS;background-color:LightSteelBlue;color:Black;text-align: left;padding-top: 5px;padding-bottom: 5px;padding-left: 20px;padding-right: 10px;border-radius: 15px 50px;letter-spacing: 2px;\">\n",
    "    <b>Other Models Class</b></div>"
   ]
  },
  {
   "cell_type": "code",
   "execution_count": 158,
   "metadata": {
    "execution": {
     "iopub.execute_input": "2022-05-17T07:25:15.226877Z",
     "iopub.status.busy": "2022-05-17T07:25:15.226516Z",
     "iopub.status.idle": "2022-05-17T07:25:18.214580Z",
     "shell.execute_reply": "2022-05-17T07:25:18.212789Z",
     "shell.execute_reply.started": "2022-05-17T07:25:15.226829Z"
    }
   },
   "outputs": [
    {
     "name": "stdout",
     "output_type": "stream",
     "text": [
      "Other Models class initialized\n"
     ]
    }
   ],
   "source": [
    "from sklearn.ensemble import RandomForestClassifier\n",
    "if tree_method == 'gpu_hist':\n",
    "    import cuml\n",
    "    from cuml.ensemble import RandomForestClassifier as cuRF\n",
    "\n",
    "# inherit from XGBoost class (process_model)\n",
    "class other_models(process_model):  \n",
    "    def __init__(self, X, y):\n",
    "        self.X = X\n",
    "        self.y = y\n",
    "        self.X_train, self.y_train = None, None\n",
    "        self.X_valid, self.X_test = None, None\n",
    "        self.y_valid, self.y_test = None, None\n",
    "    \n",
    "    # Method to run model \n",
    "    # desc - description of metrics report\n",
    "    def prep_run_model(self, desc='Metrics', modelname = 'rfc',\n",
    "                       hparams = {'n_estimators':100, 'random_state':48, 'max_depth':10},\n",
    "                       cmDisplay=False):\n",
    "        print()\n",
    "        print(f\"{mf.color.bold}Please wait, Fitting model can take time ...{mf.color.end}\")  \n",
    "\n",
    "        if modelname == 'rfc':\n",
    "            if tree_method == 'gpu_hist':\n",
    "                model = cuRF(**hparams)\n",
    "            else:\n",
    "                model = RandomForestClassifier(**hparams) \n",
    "        \n",
    "        model.fit(self.X_train, self.y_train)\n",
    "            \n",
    "        print(\"Fitting model completed.\")\n",
    "        print()\n",
    "        print('Preparing Predictions')\n",
    "    \n",
    "        # Get predictions\n",
    "        predictions = model.predict(self.X_valid)\n",
    "        print(f'{mf.color.underline}{desc}{mf.color.end}')\n",
    "    \n",
    "        if modelname == 'rfc':\n",
    "            if tree_method == 'gpu_hist':\n",
    "                print()\n",
    "                cu_score = cuml.metrics.accuracy_score( self.y_valid, predictions )\n",
    "                print(f'{mf.color.bdgreen}cuml Score : {round(cu_score * 100,2)} %{mf.color.end}')\n",
    "                print()\n",
    "            \n",
    "        #eval_results = mf.model_eval(self.y_valid, predictions, cmDisplay)\n",
    "        eval_results = mf.model_eval2(model,\n",
    "                                      self.X_train, self.y_train,\n",
    "                                      self.X_valid, self.y_valid,\n",
    "                                      cmDisplay=True)\n",
    "        print()\n",
    "        print\n",
    "        \n",
    "        gc.collect()\n",
    "        mf.clear_gpu()\n",
    "        \n",
    "        # Return these values as they may be needed for further testing or metrics\n",
    "        # in dictionary form to remember easier \n",
    "        return {'model':model,'predictions':predictions,\n",
    "                    'X_train':self.X_train, 'y_train':self.y_train,\n",
    "                    'X_valid':self.X_valid, 'y_valid':self.y_valid,\n",
    "                    'X_test':self.X_test, 'y_test':self.y_test, 'eval_results':eval_results}\n",
    "    \n",
    "print('Other Models class initialized')"
   ]
  },
  {
   "cell_type": "markdown",
   "metadata": {
    "execution": {
     "iopub.execute_input": "2022-05-17T07:15:49.429758Z",
     "iopub.status.busy": "2022-05-17T07:15:49.429388Z",
     "iopub.status.idle": "2022-05-17T07:15:49.458798Z",
     "shell.execute_reply": "2022-05-17T07:15:49.457385Z",
     "shell.execute_reply.started": "2022-05-17T07:15:49.429667Z"
    }
   },
   "source": [
    "<i><a style=\"color:DarkSlateGrey\" href=\"#toc\">Back to Table Of Contents</a></i>"
   ]
  },
  {
   "cell_type": "markdown",
   "metadata": {},
   "source": [
    "<a id=\"optuna_class\"></a>\n",
    "<div style=\"font-family: Trebuchet MS;background-color:LightSteelBlue;color:Black;text-align: left;padding-top: 5px;padding-bottom: 15px;padding-left: 20px;padding-right: 10px;border-radius: 15px 50px;letter-spacing: 2px;\">\n",
    "    <b>Optuna Class</b><br>\n",
    "This is for both XGBoost full dataset (objective function) or incremental dataset (objective_chunk function) trials.  Also included is objective_rf function for Random Forest Classification).  \n",
    "</div>"
   ]
  },
  {
   "cell_type": "code",
   "execution_count": 159,
   "metadata": {
    "execution": {
     "iopub.execute_input": "2022-05-17T07:25:18.217162Z",
     "iopub.status.busy": "2022-05-17T07:25:18.216786Z",
     "iopub.status.idle": "2022-05-17T07:25:18.284667Z",
     "shell.execute_reply": "2022-05-17T07:25:18.283513Z",
     "shell.execute_reply.started": "2022-05-17T07:25:18.217098Z"
    }
   },
   "outputs": [
    {
     "name": "stdout",
     "output_type": "stream",
     "text": [
      "Optuna class initialized\n"
     ]
    }
   ],
   "source": [
    "class optuna_tuning(process_model):  \n",
    "    def __init__(self, X, y):\n",
    "        self.X = X\n",
    "        self.y = y\n",
    "        self.X_train, self.y_train = None, None\n",
    "        self.X_valid, self.X_test = None, None\n",
    "        self.y_valid, self.y_test = None, None\n",
    "    \n",
    "    # for printing only the best values, saves memory too\n",
    "    def logging_callback(self, study, frozen_trial):\n",
    "        previous_best_value = study.user_attrs.get(\"previous_best_value\", None)\n",
    "        if previous_best_value != study.best_value:\n",
    "            study.set_user_attr(\"previous_best_value\", study.best_value)\n",
    "            clear_output(wait=True)\n",
    "            self.text_out=\"{}Trial {} done with best value: {}{}{} and parameters: {}{}. \".format(\n",
    "                mf.color.bdblue,\n",
    "                frozen_trial.number,\n",
    "                mf.color.bdgreen,\n",
    "                frozen_trial.value,\n",
    "                mf.color.bdblue,\n",
    "                mf.color.end,\n",
    "                frozen_trial.params\n",
    "                )\n",
    "            print(self.text_out)\n",
    "            \n",
    "            # Writing to file\n",
    "            with open(f\"{workdir}xgb_optuna_study_log.txt\", \"a\") as os_log:\n",
    "                os_log.write('\\n\\n')\n",
    "                os_log.write(f\"Current Ram Used: {mf.GetRam()} %\\n\")\n",
    "                os_log.write(self.text_out)\n",
    "    \n",
    "    # save study\n",
    "    def save_study(self, study, frozen_trial):\n",
    "        joblib.dump(study, f\"{workdir}xgb_optuna_study_callbacks.pkl\")   # save study\n",
    "    \n",
    "    # for tuning full dataset\n",
    "    def objective(self, trial, gt, n_estimators = 1000):        \n",
    "        nn_early_stopping_rounds = n_estimators * 0.1\n",
    "        # the hyperparameters lean towards being conservative to help avoid overfitting\n",
    "        param = {\n",
    "            # tree_method would ideally be gpu_hist for faster speed\n",
    "            'tree_method':trial.suggest_categorical('tree_method', [tree_method]), \n",
    "            # L2 regularization weight, Increasing this value will make model more conservative\n",
    "            'lambda': trial.suggest_loguniform('lambda', 1e-3, 10.0),\n",
    "            # L1 regularization weight, Increasing this value will make model more conservative\n",
    "            'alpha': trial.suggest_loguniform('alpha', 1e-3, 10.0),\n",
    "            # Min loss reduction for further partition on a leaf node. larger,the more conservative\n",
    "            'gamma':trial.suggest_categorical('gamma', [0,1,5]),\n",
    "            # sampling according to each tree\n",
    "            'colsample_bytree': trial.suggest_categorical('colsample_bytree',\n",
    "                            [0.6,0.7,0.8,0.9,1.0]),\n",
    "            #                [0.3,0.4,0.5,0.6,0.7,0.8,0.9, 1.0]),\n",
    "            # sampling ratio for training data\n",
    "            #'subsample': trial.suggest_categorical('subsample', [0.4,0.5,0.6,0.7,0.8,1.0]),\n",
    "            'subsample': trial.suggest_categorical('subsample', [0.6,0.7,0.8,0.9,1.0]),\n",
    "            #'subsample': trial.suggest_categorical('subsample', [0.8,0.9,1.0]),\n",
    "            'learning_rate': trial.suggest_categorical('learning_rate',\n",
    "                             [0.008, 0.01, 0.03, 0.05, 0.07, 0.1]),                          \n",
    "            #                [0.008,0.009,0.01,0.012,0.014,0.016,0.018, 0.02,0.05]),\n",
    "            'n_estimators': trial.suggest_categorical('n_estimators',[n_estimators]),\n",
    "            # maximum depth of the tree, signifies complexity of the tree\n",
    "            'max_depth': trial.suggest_categorical('max_depth', [9,11,13]),\n",
    "            'random_state': trial.suggest_categorical('random_state', [48]),\n",
    "            # minimum child weight, larger the term more conservative the tree\n",
    "            'min_child_weight': trial.suggest_int('min_child_weight', 1, 10),\n",
    "            'early_stopping_rounds': trial.suggest_categorical('early_stopping_rounds',\n",
    "                                          [nn_early_stopping_rounds]),                     \n",
    "            'eval_metric': trial.suggest_categorical('eval_metric', [['logloss','error']])\n",
    "        }\n",
    "        if mf.GetRam() >= 90:\n",
    "            raise MemoryError('Short On Memory')\n",
    "            \n",
    "        # clear outputs, reprint saved data\n",
    "        if trial.number > 0:\n",
    "            clear_output(wait=True)\n",
    "            gc.collect()\n",
    "            print(self.text_out)\n",
    "            \n",
    "        # print(param)  # for debugging, comment out if desired\n",
    "        model_xgbc = XGBClassifier(**param, use_label_encoder =False)  \n",
    "    \n",
    "        print()\n",
    "        print(f\"Current Ram Used: {mf.GetRam()} %\")\n",
    "        rt2=dt.datetime.now()\n",
    "        print(f'{mf.color.bdgreen}Total Elapsed Time from Training Start: {mf.color.end}', end='')\n",
    "        mf.runtime(gt, rt2)  \n",
    "        print(f'Running Trial {trial.number}')\n",
    "            \n",
    "        model_xgbc.fit(self.X_train, self.y_train, eval_set=[(self.X_valid, self.y_valid)],\n",
    "                    verbose=False)\n",
    "\n",
    "        preds = model_xgbc.predict(self.X_valid)\n",
    "    \n",
    "        #rmse = metrics.mean_squared_error(self.y_valid, preds,squared=False)\n",
    "        f1_score_ = metrics.f1_score(self.y_valid, preds)\n",
    " \n",
    "        #trial.report(rmse, 1)\n",
    "        trial.report(f1_score_, 1) \n",
    "        \n",
    "        if trial.should_prune():\n",
    "            text_prune = f'{mf.color.bold}Trial {trial.number} pruned{mf.color.end}'\n",
    "            # Writing to file\n",
    "            with open(f\"{workdir}xgb_optuna_study_log.txt\", \"a\") as os_log:\n",
    "                os_log.write('\\n')\n",
    "                os_log.write(text_prune)\n",
    "            del model_xgbc, preds, text_prune\n",
    "            gc.collect()\n",
    "            sleep(3)\n",
    "            mf.clear_gpu()\n",
    "            raise optuna.TrialPruned()\n",
    "\n",
    "        text_dtl = \"Trial {} finished with parameters: {}. \".format(\n",
    "            trial.number,\n",
    "            trial.params\n",
    "            )\n",
    "        # Writing to file\n",
    "        with open(f\"{workdir}xgb_optuna_study_log.txt\", \"a\") as os_log:\n",
    "            os_log.write('\\n\\n')\n",
    "            os_log.write(f\"Current Ram Used: {mf.GetRam()} %\\n\")\n",
    "            os_log.write(text_dtl)\n",
    "            \n",
    "        rt2=dt.datetime.now()\n",
    "\n",
    "        del model_xgbc, preds, text_dtl\n",
    "        gc.collect()\n",
    "        sleep(3)       \n",
    "        mf.clear_gpu()        \n",
    "\n",
    "        #return rmse\n",
    "        return f1_score_\n",
    " \n",
    "\n",
    "    # for tuning incrementally in chunks\n",
    "    def objective_chunk(self, trial, n_trials, gt,\n",
    "                        n_chunksize = 200000, n_estimators = 1000):\n",
    "        nn_early_stopping_rounds = n_estimators * 0.1\n",
    "        \n",
    "        # the hyperparameters lean towards being conservative to help avoid overfitting\n",
    "        param = {\n",
    "            # tree_method would ideally be gpu_hist for faster speed\n",
    "            'tree_method':trial.suggest_categorical('tree_method', [tree_method]), \n",
    "            # L2 regularization weight, Increasing this value will make model more conservative\n",
    "            'lambda': trial.suggest_loguniform('lambda', 1e-3, 10.0),\n",
    "            # L1 regularization weight, Increasing this value will make model more conservative\n",
    "            'alpha': trial.suggest_loguniform('alpha', 1e-3, 10.0),\n",
    "            # Min loss reduction for further partition on a leaf node. larger,the more conservative\n",
    "            'gamma':trial.suggest_categorical('gamma', [0,3,6]),\n",
    "            # sampling according to each tree\n",
    "            'colsample_bytree': trial.suggest_categorical('colsample_bytree',\n",
    "                                [0.6,0.7,0.8,0.9,1.0]),\n",
    "            #                [0.3,0.4,0.5,0.6,0.7,0.8,0.9, 1.0]),\n",
    "            # sampling ratio for training data\n",
    "            #'subsample': trial.suggest_categorical('subsample', [0.4,0.5,0.6,0.7,0.8,1.0]),\n",
    "            'subsample': trial.suggest_categorical('subsample', [0.6,0.7,0.8,0.9,1.0]),\n",
    "            'learning_rate': trial.suggest_categorical('learning_rate',\n",
    "                            [0.008,0.009,0.01,0.012,0.014,0.016,0.018, 0.02,0.05]),\n",
    "            'n_estimators': trial.suggest_categorical('n_estimators',[n_estimators]),\n",
    "            # maximum depth of the tree, signifies complexity of the tree\n",
    "            'max_depth': trial.suggest_categorical('max_depth', [9,11,13]),\n",
    "            'random_state': trial.suggest_categorical('random_state', [48]),\n",
    "            # minimum child weight, larger the term more conservative the tree\n",
    "            'min_child_weight': trial.suggest_int('min_child_weight', 1, 10),\n",
    "            'early_stopping_rounds': trial.suggest_categorical('early_stopping_rounds',\n",
    "                                          [nn_early_stopping_rounds]),                     \n",
    "            'eval_metric': trial.suggest_categorical('eval_metric', [['logloss','error']])\n",
    "        }\n",
    "        if mf.GetRam() >= 90:\n",
    "            raise MemoryError('Short On Memory')\n",
    "        \n",
    "        model_xgbc = XGBClassifier(**param,use_label_encoder =False)  \n",
    "    \n",
    "        rt1=dt.datetime.now()\n",
    "               \n",
    "        # clear outputs, reprint saved data\n",
    "        if trial.number > 0:\n",
    "            clear_output(wait=True)\n",
    "            gc.collect()\n",
    "            print(self.text_out)\n",
    "            \n",
    "            if os.path.exists(f'{workdir}model_xgbc.json'):\n",
    "                file_size = os.path.getsize(f'{workdir}model_xgbc.json')\n",
    "                file_size = mf.formatFileSize(file_size,'B','MB',2)\n",
    "                print(f\"Current Model File Size : {file_size}MB\")\n",
    "\n",
    "        '''\n",
    "        For batch, use xgb_model parameter in fit().  There are two ways :\n",
    "           1. save the model to a file, after 1st trial, then give the name to the next trials\n",
    "           2. just give the name of the model object, in this case model_xgbc\n",
    "        '''\n",
    "    \n",
    "        # Fit Model\n",
    "        for i, self.X in enumerate(pd.read_csv(final_csv, chunksize = n_chunksize), start = 1):\n",
    "            self.X = mf.reduce_mem_usage(self.X, print_info=False)\n",
    "            self.y = self.X.pop('MIS_Status')\n",
    "\n",
    "            #self.osample(print_info = False, os_data=[1,0,0])\n",
    "            self.osample_Xy()\n",
    "            self.split_data(0.7)\n",
    "            \n",
    "            X_valid = self.X_valid\n",
    "            y_valid = self.y_valid\n",
    "        \n",
    "            self.X, self.y = None, None\n",
    "            self.X_valid, self.y_valid = None, None\n",
    "            self.X_test, self.y_test = None, None\n",
    "\n",
    "            if i == 1:            \n",
    "                print()\n",
    "                print(f\"Current Ram Used: {mf.GetRam()} %\")\n",
    "                rt2=dt.datetime.now()\n",
    "                print(f'{mf.color.bdgreen}Total Elapsed Time from Training Start: {mf.color.end}', end='')\n",
    "                mf.runtime(gt, rt2)  \n",
    "                print(f'Running Trial {trial.number} Chunk: {i}',end = ' | ')\n",
    "                model_xgbc.fit(self.X_train, self.y_train, eval_set=[(X_valid, y_valid)],\n",
    "                        verbose=False)\n",
    "            else:\n",
    "                print(f'{i}',end = ' | ')\n",
    "                model_xgbc = XGBClassifier(use_label_encoder =False)\n",
    "                model_xgbc.load_model(f'{workdir}model_xgbc.json')\n",
    "                \n",
    "                model_xgbc.fit(self.X_train, self.y_train, eval_set=[(X_valid, y_valid)],\n",
    "                        verbose=False, xgb_model = model_xgbc\n",
    "                        )\n",
    "\n",
    "            '''Auxiliary attributes of the Python Booster object (such as feature_names) will \n",
    "            not be saved when using binary format. To save those attributes, use JSON instead.'''\n",
    "            model_xgbc.save_model(f'{workdir}model_xgbc.json')\n",
    "        \n",
    "            preds = model_xgbc.predict(X_valid)\n",
    "    \n",
    "            #rmse = metrics.mean_squared_error(y_valid, preds,squared=False)\n",
    "            f1_score_ = metrics.f1_score(self.y_valid, preds)\n",
    "        \n",
    "            del model_xgbc\n",
    "            self.X_train, self.y_train = None, None\n",
    "            gc.collect()\n",
    "            sleep(5)\n",
    "            mf.clear_gpu()\n",
    "            \n",
    "            #trial.report(rmse, i)\n",
    "            trial.report(f1_score_, i)\n",
    "            \n",
    "            if trial.should_prune():\n",
    "                # Writing to file\n",
    "                with open(f\"{workdir}xgb_optuna_study_log.txt\", \"a\") as os_log:\n",
    "                    os_log.write('\\n')\n",
    "                    os_log.write(f'{mf.color.bold}Trial {trial.number} pruned{mf.color.end}')\n",
    "                    os_log.write('\\n')\n",
    "                raise optuna.TrialPruned()\n",
    "        \n",
    "        if os.path.exists(f'{workdir}model_xgbc.json'):\n",
    "            file_size = os.path.getsize(f'{workdir}model_xgbc.json')\n",
    "            file_size = mf.formatFileSize(file_size,'B','MB',2)\n",
    "            print(f\"Current Model File Size : {file_size}MB\")\n",
    "                \n",
    "        # Writing to file\n",
    "        with open(f\"{workdir}xgb_optuna_study_log.txt\", \"a\") as os_log:\n",
    "            os_log.write('\\n\\n')\n",
    "            os_log.write(f\"Current Ram Used: {mf.GetRam()} %\")\n",
    "            if os.path.exists(f'{workdir}model_xgbc.json'):\n",
    "                os_log.write(f\" | Current Model File Size : {file_size}MB\\n\")\n",
    "            os_log.write(f\"Trial {trial.number} finished with parameters: {trial.params}.\")\n",
    "            \n",
    "        rt2=dt.datetime.now()\n",
    "\n",
    "        self.X_train, self.y_train = None, None\n",
    "        gc.collect()\n",
    "        sleep(5)\n",
    "        mf.clear_gpu()\n",
    "            \n",
    "        #return rmse\n",
    "        return f1_score_\n",
    "\n",
    "    # Define an objective function for Random Forest\n",
    "    def objective_rf(self, trial, gt):\n",
    "        hparams = {\n",
    "            'max_features': trial.suggest_uniform('max_features', 0.15, 1.0),\n",
    "            'min_samples_split': trial.suggest_int('min_samples_split', 2, 14),\n",
    "            'min_samples_leaf': trial.suggest_int('min_samples_leaf', 1, 14),\n",
    "            'max_samples': trial.suggest_uniform('max_samples', 0.6, 0.99),\n",
    "            'max_depth': trial.suggest_categorical('max_depth', [9,11,13]),\n",
    "            'n_estimators': trial.suggest_categorical('n_estimators', [100])\n",
    "            # warm_start = True   # for incremental learning  \n",
    "        }\n",
    " \n",
    "        # clear outputs, reprint saved data\n",
    "        if trial.number > 0:\n",
    "            clear_output(wait=True)\n",
    "            gc.collect()\n",
    "            print(self.text_out)\n",
    "            \n",
    "        if mf.GetRam() >= 90:\n",
    "            raise MemoryError('Short On Memory')\n",
    "            \n",
    "        if tree_method == \"gpu_hist\":\n",
    "            model_rf = cuRF(**hparams)\n",
    "        else:\n",
    "            model_rf = RandomForestClassifier(**hparams)\n",
    "        print()\n",
    "        print(f\"Current Ram Used: {mf.GetRam()} %\")\n",
    "        rt2=dt.datetime.now()\n",
    "        print(f'{mf.color.bdgreen}Total Elapsed Time from Training Start: {mf.color.end}', end='')\n",
    "        mf.runtime(gt, rt2)  \n",
    "        print(f'Running Trial {trial.number}')\n",
    "\n",
    "        ## Fit Model\n",
    "        model_rf.fit(self.X_train, self.y_train)\n",
    " \n",
    "        preds = model_rf.predict(self.X_valid)\n",
    "        f1_score_ = metrics.f1_score(self.y_valid, preds)\n",
    "        trial.report(f1_score_, 1) \n",
    "        \n",
    "        # Report intermediate objective value\n",
    "        #intermediate_value = model_rf.score(self.X_valid, self.y_valid)\n",
    "        #trial.report(intermediate_value, 0)\n",
    "            \n",
    "        if trial.should_prune():\n",
    "            text_prune = f'{mf.color.bold}Trial {trial.number} pruned{mf.color.end}'\n",
    "            # Writing to file\n",
    "            with open(f\"{workdir}rfc_optuna_study_log.txt\", \"a\") as os_log:\n",
    "                os_log.write('\\n')\n",
    "                os_log.write(text_prune)\n",
    "            del model_rf, text_prune\n",
    "            gc.collect()\n",
    "            sleep(3)\n",
    "            mf.clear_gpu()\n",
    "            raise optuna.TrialPruned()\n",
    "\n",
    "        text_dtl = \"Trial {} finished with parameters: {}. \".format(\n",
    "            trial.number,\n",
    "            trial.params\n",
    "            )\n",
    "        # Writing to file\n",
    "        with open(f\"{workdir}rfc_optuna_study_log.txt\", \"a\") as os_log:\n",
    "            os_log.write('\\n\\n')\n",
    "            os_log.write(f\"Current Ram Used: {mf.GetRam()} %\\n\")\n",
    "            os_log.write(text_dtl)\n",
    "            \n",
    "        rt2=dt.datetime.now()\n",
    "\n",
    "        del model_rf, text_dtl\n",
    "        gc.collect()\n",
    "        sleep(3)       \n",
    "        mf.clear_gpu()        \n",
    "\n",
    "        #return intermediate_value\n",
    "        return f1_score_\n",
    "    \n",
    "print('Optuna class initialized')"
   ]
  },
  {
   "cell_type": "markdown",
   "metadata": {
    "execution": {
     "iopub.execute_input": "2022-05-17T07:15:49.429758Z",
     "iopub.status.busy": "2022-05-17T07:15:49.429388Z",
     "iopub.status.idle": "2022-05-17T07:15:49.458798Z",
     "shell.execute_reply": "2022-05-17T07:15:49.457385Z",
     "shell.execute_reply.started": "2022-05-17T07:15:49.429667Z"
    }
   },
   "source": [
    "<i><a style=\"color:DarkSlateGrey\" href=\"#toc\">Back to Table Of Contents</a></i>"
   ]
  },
  {
   "cell_type": "markdown",
   "metadata": {},
   "source": [
    "<a id=\"part1\"></a>\n",
    "<div style=\"font-family: Trebuchet MS;background-color:DarkRed;color:AliceBlue;text-align: left;padding-top: 5px;padding-bottom: 15px;padding-left: 20px;padding-right: 10px;border-radius: 15px 50px;letter-spacing: 2px;\">\n",
    "<h1 style='color:GhostWhite;'>Part 1. XGBoost HyperParameter Tuning using Optuna</h1>\n",
    "</div>"
   ]
  },
  {
   "cell_type": "markdown",
   "metadata": {},
   "source": [
    "<a id=\"full_df\"></a>\n",
    "<div style=\"font-family: Trebuchet MS;background-color:DarkCyan;color:Azure;text-align: left;padding-top: 5px;padding-bottom: 20px;padding-left: 20px;padding-right: 10px;border-radius: 15px 50px;letter-spacing: 2px;\">\n",
    "    <h2 style='color:GhostWhite;'>1.1 Optuna Study - Full Dataset</h2>\n",
    "</div>"
   ]
  },
  {
   "cell_type": "code",
   "execution_count": null,
   "metadata": {
    "execution": {
     "iopub.execute_input": "2022-05-17T07:29:00.226320Z",
     "iopub.status.busy": "2022-05-17T07:29:00.226006Z",
     "iopub.status.idle": "2022-05-17T08:36:37.501175Z",
     "shell.execute_reply": "2022-05-17T08:36:37.500083Z",
     "shell.execute_reply.started": "2022-05-17T07:29:00.226288Z"
    }
   },
   "outputs": [
    {
     "name": "stdout",
     "output_type": "stream",
     "text": [
      "\u001b[1m\u001b[94mTrial 18 done with best value: \u001b[1m\u001b[92m0.9640249256878278\u001b[1m\u001b[94m and parameters: \u001b[0m{'tree_method': 'hist', 'lambda': 1.237233879672359, 'alpha': 0.001045884334694539, 'gamma': 0, 'colsample_bytree': 0.7, 'subsample': 0.8, 'learning_rate': 0.1, 'n_estimators': 1000, 'max_depth': 13, 'random_state': 48, 'min_child_weight': 6, 'early_stopping_rounds': 100.0, 'eval_metric': ['logloss', 'error']}. \n",
      "\n",
      "Current Ram Used: 66.0 %\n",
      "\u001b[1m\u001b[92mTotal Elapsed Time from Training Start: \u001b[0mRuntime : 0:43:06.643584\n",
      "Running Trial 19\n"
     ]
    }
   ],
   "source": [
    "%%time\n",
    "        \n",
    "# For running Optuna tuning on full dataset.\n",
    "def OptunaStudy():\n",
    "    X = pd.read_feather(final_ds)\n",
    "    #X = X.head(500)      # uncomment for testing\n",
    "    y = X.pop('MIS_Status')\n",
    "    \n",
    "    # instantiate the optuna_tuning class\n",
    "    ot = optuna_tuning(X, y)\n",
    "    #ot.osample_Xy()\n",
    "    ot.split_data(0.7)\n",
    "    ot.osample(os_data = [1,0,0])\n",
    "    \n",
    "    ot.X, ot.y = None, None\n",
    "    del X, y\n",
    "    gc.collect()\n",
    "    sleep(3)\n",
    "    \n",
    "    ''' \n",
    "    - Initialize the number of trials and n_estimators.\n",
    "    - Recommended n_estimators is 100 for really huge datasets, 1000 for medium-sized.\n",
    "    - For our dataset here, 1000 is fine.  Ramping it up to 4000 for example will have no\n",
    "         significant benefits, will be very slow, and a Kaggle notebook will run out of memory often.\n",
    "    '''\n",
    "    \n",
    "    nn_trials = 100\n",
    "    nn_estimators = 1000\n",
    "    \n",
    "    if os.path.exists(f'{workdir}xgb_optuna_study_log.txt'):\n",
    "        os.remove(f'{workdir}xgb_optuna_study_log.txt')\n",
    "\n",
    "    # STUDY\n",
    "    \n",
    "    # Turn off optuna log notes, to use own logging notes\n",
    "    optuna.logging.set_verbosity(optuna.logging.WARN)\n",
    "\n",
    "    print(f\"{mf.color.bold}Please wait, finding best trial ...{mf.color.end}\")\n",
    "            \n",
    "    gt = dt.datetime.now()\n",
    "        \n",
    "    study = optuna.create_study(direction='maximize')\n",
    "    try:\n",
    "        # callbacks [self.save_study] is to save study in case memory fails\n",
    "        study.optimize(lambda trial: ot.objective(trial, gt, n_estimators = nn_estimators), \n",
    "                        n_trials = nn_trials,\n",
    "                        callbacks = [ot.logging_callback, ot.save_study],\n",
    "                        gc_after_trial = True,\n",
    "                        catch = (RuntimeWarning,ArithmeticError,))\n",
    "    except MemoryError as e:\n",
    "        print(f'{mf.color.bdblue}{e} : Memory was getting low, Trial ended early{mf.color.end}')\n",
    "    \n",
    "    complete_trials = [t for t in study.trials if t.state == optuna.trial.TrialState.COMPLETE]\n",
    "    pruned_trials = [t for t in study.trials if t.state == optuna.trial.TrialState.PRUNED]\n",
    "    print()\n",
    "    print(f'Number of finished trials: {len(study.trials)}')\n",
    "    print(f'Number of pruned trials: {len(pruned_trials)}')\n",
    "    print(f'Number of completed trials: {mf.color.bdgreen}{len(complete_trials)}{mf.color.end}')\n",
    "    print(f'{mf.color.bdblue}Best trial: {study.best_trial.params}{mf.color.end}')\n",
    "    \n",
    "    joblib.dump(study, f\"{workdir}xgb_optuna_study.pkl\")   # save study\n",
    "    # jl = joblib.load(f\"{workdir}xgb_optuna_study.pkl\")   # load study\n",
    "\n",
    "    print()\n",
    "    return study\n",
    "\n",
    "if optuna_flag == 1 or optuna_flag == 3:\n",
    "    study_results = OptunaStudy()"
   ]
  },
  {
   "cell_type": "markdown",
   "metadata": {
    "execution": {
     "iopub.execute_input": "2022-05-17T07:15:49.429758Z",
     "iopub.status.busy": "2022-05-17T07:15:49.429388Z",
     "iopub.status.idle": "2022-05-17T07:15:49.458798Z",
     "shell.execute_reply": "2022-05-17T07:15:49.457385Z",
     "shell.execute_reply.started": "2022-05-17T07:15:49.429667Z"
    }
   },
   "source": [
    "<i><a style=\"color:DarkSlateGrey\" href=\"#toc\">Back to Table Of Contents</a></i>"
   ]
  },
  {
   "cell_type": "markdown",
   "metadata": {},
   "source": [
    "<a id=\"incremental_df\"></a>\n",
    "<div style=\"font-family: Trebuchet MS;background-color:DarkCyan;color:Azure;text-align: left;padding-top: 5px;padding-bottom: 20px;padding-left: 20px;padding-right: 10px;border-radius: 15px 50px;letter-spacing: 2px;\">\n",
    "    <h2 style='color:GhostWhite;'>1.2 Optuna Study - Incremental Dataset</h2>\n",
    "</div>"
   ]
  },
  {
   "cell_type": "code",
   "execution_count": 20,
   "metadata": {
    "execution": {
     "iopub.execute_input": "2022-05-17T08:36:37.504512Z",
     "iopub.status.busy": "2022-05-17T08:36:37.503478Z",
     "iopub.status.idle": "2022-05-17T08:36:37.519902Z",
     "shell.execute_reply": "2022-05-17T08:36:37.518854Z",
     "shell.execute_reply.started": "2022-05-17T08:36:37.504462Z"
    },
    "scrolled": true
   },
   "outputs": [
    {
     "name": "stdout",
     "output_type": "stream",
     "text": [
      "CPU times: total: 0 ns\n",
      "Wall time: 0 ns\n"
     ]
    }
   ],
   "source": [
    "%%time\n",
    "\n",
    "# For running Optuna tuning incrementally in batches, much slower, but lighter on memory\n",
    "def OptunaStudyChunk(): \n",
    "    ''' \n",
    "    - Initialize the number of trials and n_estimators.\n",
    "    - Recommended n_estimators is 100 for really huge datasets, 1000 for medium-sized.\n",
    "    - For our dataset here, 1000 is fine.  Ramping it up to 4000 for example will have no\n",
    "         significant benefits, will be very slow, and a Kaggle notebook will run out of memory often.\n",
    "    '''\n",
    "\n",
    "    nn_trials = 3               # n_trials\n",
    "    nn_chunksize = 200000\n",
    "    nn_estimators = 1000\n",
    "    \n",
    "    if os.path.exists(f'{workdir}xgb_optuna_study_log.txt'):\n",
    "        os.remove(f'{workdir}xgb_optuna_study_log.txt')\n",
    "        \n",
    "    # OPTUNA STUDY\n",
    "    \n",
    "    # Turn off optuna log notes, to use own logging notes\n",
    "    optuna.logging.set_verbosity(optuna.logging.WARN)\n",
    "    \n",
    "    clear_output(wait=True)\n",
    "    print(f\"{mf.color.bold}Please wait, finding best trial ...{mf.color.end}\")\n",
    "            \n",
    "    gt = dt.datetime.now()\n",
    "\n",
    "    otb = optuna_tuning(None, None)\n",
    "    study = optuna.create_study(direction='minimize')\n",
    "    try:\n",
    "        '''\n",
    "        # otb.save_study callback is to save the study after every trial, \n",
    "        '''\n",
    "        study.optimize(lambda trial: otb.objective_chunk(trial, nn_trials, gt,\n",
    "                        n_chunksize = nn_chunksize, n_estimators = nn_estimators), \n",
    "                        n_trials = nn_trials,\n",
    "                        callbacks = [otb.logging_callback, otb.save_study],\n",
    "                        gc_after_trial = True,\n",
    "                        catch = (RuntimeWarning,ArithmeticError,))\n",
    "    except MemoryError as e:\n",
    "        print(f'\\n\\n{mf.color.bdblue}{e} : Memory was getting low, Trial ended early{mf.color.end}\\n\\n')\n",
    " \n",
    "    complete_trials = [t for t in study.trials if t.state == optuna.trial.TrialState.COMPLETE]\n",
    "    pruned_trials = [t for t in study.trials if t.state == optuna.trial.TrialState.PRUNED]\n",
    "    print()\n",
    "    print(f'Number of finished trials: {len(study.trials)}')\n",
    "    print(f'Number of pruned trials: {len(pruned_trials)}')\n",
    "    print(f'Number of completed trials: {mf.color.bdgreen}{len(complete_trials)}{mf.color.end}')\n",
    "    print(f'{mf.color.bdblue}Best trial: {study.best_trial.params}{mf.color.end}')\n",
    "    \n",
    "    joblib.dump(study, f\"{workdir}xgb_optuna_study.pkl\")   # save study\n",
    "    # jl = joblib.load(f\"{workdir}xgb_optuna_study.pkl\")   # load study\n",
    "\n",
    "    print()\n",
    "    return study\n",
    "\n",
    "if optuna_flag == 2 or optuna_flag == 3:\n",
    "    study_results = OptunaStudyChunk()"
   ]
  },
  {
   "cell_type": "markdown",
   "metadata": {
    "execution": {
     "iopub.execute_input": "2022-05-17T07:15:49.429758Z",
     "iopub.status.busy": "2022-05-17T07:15:49.429388Z",
     "iopub.status.idle": "2022-05-17T07:15:49.458798Z",
     "shell.execute_reply": "2022-05-17T07:15:49.457385Z",
     "shell.execute_reply.started": "2022-05-17T07:15:49.429667Z"
    }
   },
   "source": [
    "<i><a style=\"color:DarkSlateGrey\" href=\"#toc\">Back to Table Of Contents</a></i>"
   ]
  },
  {
   "cell_type": "markdown",
   "metadata": {},
   "source": [
    "<a id=\"optuna_metrics\"></a>\n",
    "<div style=\"font-family: Trebuchet MS;background-color:DarkCyan;color:Azure;text-align: left;padding-top: 5px;padding-bottom: 20px;padding-left: 20px;padding-right: 10px;border-radius: 15px 50px;letter-spacing: 2px;\">\n",
    "    <h2 style='color:GhostWhite;'>1.3 Optuna Study Metrics</h2>\n",
    "</div>"
   ]
  },
  {
   "cell_type": "code",
   "execution_count": 46,
   "metadata": {
    "execution": {
     "iopub.execute_input": "2022-05-17T08:36:37.523065Z",
     "iopub.status.busy": "2022-05-17T08:36:37.521419Z",
     "iopub.status.idle": "2022-05-17T08:36:37.535101Z",
     "shell.execute_reply": "2022-05-17T08:36:37.534139Z",
     "shell.execute_reply.started": "2022-05-17T08:36:37.522988Z"
    }
   },
   "outputs": [
    {
     "name": "stdout",
     "output_type": "stream",
     "text": [
      "\n",
      "\n",
      "Current Ram Used: 62.0 %\n",
      "Trial 0 finished with parameters: {'tree_method': 'hist', 'lambda': 0.02663669843839846, 'alpha': 0.0020143952728476563, 'gamma': 1, 'colsample_bytree': 0.8, 'subsample': 0.7, 'learning_rate': 0.07, 'n_estimators': 1000, 'max_depth': 9, 'random_state': 48, 'min_child_weight': 6, 'early_stopping_rounds': 100.0, 'eval_metric': ['logloss', 'error']}. \n",
      "\n",
      "Current Ram Used: 62.0 %\n",
      "\u001b[1m\u001b[94mTrial 0 done with best value: \u001b[1m\u001b[92m0.9474620094836277\u001b[1m\u001b[94m and parameters: \u001b[0m{'tree_method': 'hist', 'lambda': 0.02663669843839846, 'alpha': 0.0020143952728476563, 'gamma': 1, 'colsample_bytree': 0.8, 'subsample': 0.7, 'learning_rate': 0.07, 'n_estimators': 1000, 'max_depth': 9, 'random_state': 48, 'min_child_weight': 6, 'early_stopping_rounds': 100.0, 'eval_metric': ['logloss', 'error']}. \n",
      "\n",
      "Current Ram Used: 60.8 %\n",
      "Trial 1 finished with parameters: {'tree_method': 'hist', 'lambda': 0.949609932153146, 'alpha': 1.9196610501514142, 'gamma': 0, 'colsample_bytree': 0.9, 'subsample': 0.7, 'learning_rate': 0.05, 'n_estimators': 1000, 'max_depth': 9, 'random_state': 48, 'min_child_weight': 4, 'early_stopping_rounds': 100.0, 'eval_metric': ['logloss', 'error']}. \n",
      "\n",
      "Current Ram Used: 60.6 %\n",
      "Trial 2 finished with parameters: {'tree_method': 'hist', 'lambda': 0.0011651171414916869, 'alpha': 1.0636015048022431, 'gamma': 0, 'colsample_bytree': 0.7, 'subsample': 0.7, 'learning_rate': 0.008, 'n_estimators': 1000, 'max_depth': 13, 'random_state': 48, 'min_child_weight': 9, 'early_stopping_rounds': 100.0, 'eval_metric': ['logloss', 'error']}. \n",
      "\n",
      "Current Ram Used: 60.3 %\n",
      "Trial 3 finished with parameters: {'tree_method': 'hist', 'lambda': 0.004949244203540802, 'alpha': 1.1995828956475794, 'gamma': 5, 'colsample_bytree': 1.0, 'subsample': 0.8, 'learning_rate': 0.07, 'n_estimators': 1000, 'max_depth': 11, 'random_state': 48, 'min_child_weight': 3, 'early_stopping_rounds': 100.0, 'eval_metric': ['logloss', 'error']}. \n",
      "\n",
      "Current Ram Used: 61.2 %\n",
      "Trial 4 finished with parameters: {'tree_method': 'hist', 'lambda': 0.014505398779447806, 'alpha': 1.0364712153286872, 'gamma': 1, 'colsample_bytree': 0.6, 'subsample': 0.7, 'learning_rate': 0.01, 'n_estimators': 1000, 'max_depth': 13, 'random_state': 48, 'min_child_weight': 6, 'early_stopping_rounds': 100.0, 'eval_metric': ['logloss', 'error']}. \n",
      "\u001b[1mTrial 5 pruned\u001b[0m\n",
      "\u001b[1mTrial 6 pruned\u001b[0m\n",
      "\u001b[1mTrial 7 pruned\u001b[0m\n",
      "\n",
      "Current Ram Used: 60.5 %\n",
      "Trial 8 finished with parameters: {'tree_method': 'hist', 'lambda': 0.010872185735325831, 'alpha': 0.004304290015269765, 'gamma': 1, 'colsample_bytree': 0.8, 'subsample': 0.9, 'learning_rate': 0.05, 'n_estimators': 1000, 'max_depth': 11, 'random_state': 48, 'min_child_weight': 9, 'early_stopping_rounds': 100.0, 'eval_metric': ['logloss', 'error']}. \n",
      "\u001b[1mTrial 9 pruned\u001b[0m\n",
      "\u001b[1mTrial 10 pruned\u001b[0m\n",
      "\u001b[1mTrial 11 pruned\u001b[0m\n",
      "\u001b[1mTrial 12 pruned\u001b[0m\n",
      "\n",
      "Current Ram Used: 58.8 %\n",
      "Trial 13 finished with parameters: {'tree_method': 'hist', 'lambda': 0.02342696070973436, 'alpha': 0.0062969765446382895, 'gamma': 1, 'colsample_bytree': 0.8, 'subsample': 0.6, 'learning_rate': 0.05, 'n_estimators': 1000, 'max_depth': 11, 'random_state': 48, 'min_child_weight': 8, 'early_stopping_rounds': 100.0, 'eval_metric': ['logloss', 'error']}. \n",
      "\n",
      "Current Ram Used: 58.5 %\n",
      "\u001b[1m\u001b[94mTrial 13 done with best value: \u001b[1m\u001b[92m0.9516577679871561\u001b[1m\u001b[94m and parameters: \u001b[0m{'tree_method': 'hist', 'lambda': 0.02342696070973436, 'alpha': 0.0062969765446382895, 'gamma': 1, 'colsample_bytree': 0.8, 'subsample': 0.6, 'learning_rate': 0.05, 'n_estimators': 1000, 'max_depth': 11, 'random_state': 48, 'min_child_weight': 8, 'early_stopping_rounds': 100.0, 'eval_metric': ['logloss', 'error']}. \n",
      "\n",
      "Current Ram Used: 59.7 %\n",
      "Trial 14 finished with parameters: {'tree_method': 'hist', 'lambda': 0.03922993404704833, 'alpha': 8.14992571716713, 'gamma': 1, 'colsample_bytree': 0.8, 'subsample': 0.6, 'learning_rate': 0.1, 'n_estimators': 1000, 'max_depth': 13, 'random_state': 48, 'min_child_weight': 7, 'early_stopping_rounds': 100.0, 'eval_metric': ['logloss', 'error']}. \n",
      "\n",
      "Current Ram Used: 58.8 %\n",
      "Trial 15 finished with parameters: {'tree_method': 'hist', 'lambda': 0.3215665624706584, 'alpha': 9.254486453601919, 'gamma': 1, 'colsample_bytree': 1.0, 'subsample': 0.6, 'learning_rate': 0.1, 'n_estimators': 1000, 'max_depth': 13, 'random_state': 48, 'min_child_weight': 8, 'early_stopping_rounds': 100.0, 'eval_metric': ['logloss', 'error']}. \n",
      "\n",
      "Current Ram Used: 58.9 %\n",
      "Trial 16 finished with parameters: {'tree_method': 'hist', 'lambda': 0.29986321187379095, 'alpha': 0.023989163834356623, 'gamma': 1, 'colsample_bytree': 1.0, 'subsample': 0.6, 'learning_rate': 0.1, 'n_estimators': 1000, 'max_depth': 13, 'random_state': 48, 'min_child_weight': 8, 'early_stopping_rounds': 100.0, 'eval_metric': ['logloss', 'error']}. \n",
      "\n",
      "Current Ram Used: 58.5 %\n",
      "\u001b[1m\u001b[94mTrial 16 done with best value: \u001b[1m\u001b[92m0.9653744912817832\u001b[1m\u001b[94m and parameters: \u001b[0m{'tree_method': 'hist', 'lambda': 0.29986321187379095, 'alpha': 0.023989163834356623, 'gamma': 1, 'colsample_bytree': 1.0, 'subsample': 0.6, 'learning_rate': 0.1, 'n_estimators': 1000, 'max_depth': 13, 'random_state': 48, 'min_child_weight': 8, 'early_stopping_rounds': 100.0, 'eval_metric': ['logloss', 'error']}. \n",
      "\u001b[1mTrial 17 pruned\u001b[0m\n",
      "\n",
      "Current Ram Used: 55.4 %\n",
      "Trial 18 finished with parameters: {'tree_method': 'hist', 'lambda': 0.9811643070632755, 'alpha': 0.19350979448566458, 'gamma': 1, 'colsample_bytree': 1.0, 'subsample': 0.6, 'learning_rate': 0.03, 'n_estimators': 1000, 'max_depth': 13, 'random_state': 48, 'min_child_weight': 8, 'early_stopping_rounds': 100.0, 'eval_metric': ['logloss', 'error']}. \n",
      "\u001b[1mTrial 19 pruned\u001b[0m\n",
      "\n",
      "Current Ram Used: 57.1 %\n",
      "Trial 20 finished with parameters: {'tree_method': 'hist', 'lambda': 7.949227578059824, 'alpha': 0.046405062185309, 'gamma': 0, 'colsample_bytree': 1.0, 'subsample': 0.6, 'learning_rate': 0.03, 'n_estimators': 1000, 'max_depth': 13, 'random_state': 48, 'min_child_weight': 8, 'early_stopping_rounds': 100.0, 'eval_metric': ['logloss', 'error']}. \n",
      "\n",
      "Current Ram Used: 57.3 %\n",
      "Trial 21 finished with parameters: {'tree_method': 'hist', 'lambda': 0.6405194566847962, 'alpha': 0.2729618768914482, 'gamma': 1, 'colsample_bytree': 1.0, 'subsample': 0.6, 'learning_rate': 0.1, 'n_estimators': 1000, 'max_depth': 13, 'random_state': 48, 'min_child_weight': 8, 'early_stopping_rounds': 100.0, 'eval_metric': ['logloss', 'error']}. \n",
      "\n",
      "Current Ram Used: 57.2 %\n",
      "Trial 22 finished with parameters: {'tree_method': 'hist', 'lambda': 0.7935384608799966, 'alpha': 0.30425951641023247, 'gamma': 1, 'colsample_bytree': 1.0, 'subsample': 0.6, 'learning_rate': 0.1, 'n_estimators': 1000, 'max_depth': 13, 'random_state': 48, 'min_child_weight': 8, 'early_stopping_rounds': 100.0, 'eval_metric': ['logloss', 'error']}. \n",
      "\n",
      "Current Ram Used: 56.4 %\n",
      "Trial 23 finished with parameters: {'tree_method': 'hist', 'lambda': 0.5364053465193408, 'alpha': 0.5521729191086784, 'gamma': 1, 'colsample_bytree': 1.0, 'subsample': 0.6, 'learning_rate': 0.1, 'n_estimators': 1000, 'max_depth': 13, 'random_state': 48, 'min_child_weight': 7, 'early_stopping_rounds': 100.0, 'eval_metric': ['logloss', 'error']}. \n",
      "\n",
      "Current Ram Used: 56.6 %\n",
      "Trial 24 finished with parameters: {'tree_method': 'hist', 'lambda': 0.1560974973492828, 'alpha': 0.07187708740558019, 'gamma': 1, 'colsample_bytree': 1.0, 'subsample': 0.6, 'learning_rate': 0.1, 'n_estimators': 1000, 'max_depth': 13, 'random_state': 48, 'min_child_weight': 6, 'early_stopping_rounds': 100.0, 'eval_metric': ['logloss', 'error']}. \n",
      "\n",
      "Current Ram Used: 56.2 %\n",
      "\u001b[1m\u001b[94mTrial 24 done with best value: \u001b[1m\u001b[92m0.9659112123361834\u001b[1m\u001b[94m and parameters: \u001b[0m{'tree_method': 'hist', 'lambda': 0.1560974973492828, 'alpha': 0.07187708740558019, 'gamma': 1, 'colsample_bytree': 1.0, 'subsample': 0.6, 'learning_rate': 0.1, 'n_estimators': 1000, 'max_depth': 13, 'random_state': 48, 'min_child_weight': 6, 'early_stopping_rounds': 100.0, 'eval_metric': ['logloss', 'error']}. \n",
      "\n",
      "Current Ram Used: 57.9 %\n",
      "Trial 25 finished with parameters: {'tree_method': 'hist', 'lambda': 0.12971466864383244, 'alpha': 0.03496319790920027, 'gamma': 1, 'colsample_bytree': 1.0, 'subsample': 0.6, 'learning_rate': 0.1, 'n_estimators': 1000, 'max_depth': 13, 'random_state': 48, 'min_child_weight': 6, 'early_stopping_rounds': 100.0, 'eval_metric': ['logloss', 'error']}. \n",
      "\n",
      "Current Ram Used: 57.5 %\n",
      "\u001b[1m\u001b[94mTrial 25 done with best value: \u001b[1m\u001b[92m0.9662659149460479\u001b[1m\u001b[94m and parameters: \u001b[0m{'tree_method': 'hist', 'lambda': 0.12971466864383244, 'alpha': 0.03496319790920027, 'gamma': 1, 'colsample_bytree': 1.0, 'subsample': 0.6, 'learning_rate': 0.1, 'n_estimators': 1000, 'max_depth': 13, 'random_state': 48, 'min_child_weight': 6, 'early_stopping_rounds': 100.0, 'eval_metric': ['logloss', 'error']}. \n",
      "\n",
      "Current Ram Used: 62.4 %\n",
      "Trial 26 finished with parameters: {'tree_method': 'hist', 'lambda': 0.13324394175704535, 'alpha': 0.028500704038746976, 'gamma': 1, 'colsample_bytree': 1.0, 'subsample': 0.8, 'learning_rate': 0.1, 'n_estimators': 1000, 'max_depth': 13, 'random_state': 48, 'min_child_weight': 4, 'early_stopping_rounds': 100.0, 'eval_metric': ['logloss', 'error']}. \n",
      "\n",
      "Current Ram Used: 62.9 %\n",
      "Trial 27 finished with parameters: {'tree_method': 'hist', 'lambda': 0.11768825525086758, 'alpha': 0.07954221013718853, 'gamma': 1, 'colsample_bytree': 1.0, 'subsample': 0.6, 'learning_rate': 0.1, 'n_estimators': 1000, 'max_depth': 13, 'random_state': 48, 'min_child_weight': 6, 'early_stopping_rounds': 100.0, 'eval_metric': ['logloss', 'error']}. \n",
      "\n",
      "Current Ram Used: 62.6 %\n",
      "\u001b[1m\u001b[94mTrial 27 done with best value: \u001b[1m\u001b[92m0.9662939177836688\u001b[1m\u001b[94m and parameters: \u001b[0m{'tree_method': 'hist', 'lambda': 0.11768825525086758, 'alpha': 0.07954221013718853, 'gamma': 1, 'colsample_bytree': 1.0, 'subsample': 0.6, 'learning_rate': 0.1, 'n_estimators': 1000, 'max_depth': 13, 'random_state': 48, 'min_child_weight': 6, 'early_stopping_rounds': 100.0, 'eval_metric': ['logloss', 'error']}. \n",
      "\u001b[1mTrial 28 pruned\u001b[0m\n",
      "\n",
      "Current Ram Used: 64.6 %\n",
      "Trial 29 finished with parameters: {'tree_method': 'hist', 'lambda': 0.05581906453108955, 'alpha': 0.0635517247732773, 'gamma': 0, 'colsample_bytree': 0.6, 'subsample': 0.6, 'learning_rate': 0.1, 'n_estimators': 1000, 'max_depth': 13, 'random_state': 48, 'min_child_weight': 6, 'early_stopping_rounds': 100.0, 'eval_metric': ['logloss', 'error']}. \n",
      "\n",
      "Current Ram Used: 63.9 %\n",
      "\u001b[1m\u001b[94mTrial 29 done with best value: \u001b[1m\u001b[92m0.9692108800358437\u001b[1m\u001b[94m and parameters: \u001b[0m{'tree_method': 'hist', 'lambda': 0.05581906453108955, 'alpha': 0.0635517247732773, 'gamma': 0, 'colsample_bytree': 0.6, 'subsample': 0.6, 'learning_rate': 0.1, 'n_estimators': 1000, 'max_depth': 13, 'random_state': 48, 'min_child_weight': 6, 'early_stopping_rounds': 100.0, 'eval_metric': ['logloss', 'error']}. \n",
      "\n",
      "Current Ram Used: 63.6 %\n",
      "Trial 30 finished with parameters: {'tree_method': 'hist', 'lambda': 0.059693260865244666, 'alpha': 0.0037584890551381144, 'gamma': 0, 'colsample_bytree': 0.6, 'subsample': 0.6, 'learning_rate': 0.1, 'n_estimators': 1000, 'max_depth': 13, 'random_state': 48, 'min_child_weight': 6, 'early_stopping_rounds': 100.0, 'eval_metric': ['logloss', 'error']}. \n",
      "\n",
      "Current Ram Used: 62.9 %\n",
      "\u001b[1m\u001b[94mTrial 30 done with best value: \u001b[1m\u001b[92m0.9693182242467236\u001b[1m\u001b[94m and parameters: \u001b[0m{'tree_method': 'hist', 'lambda': 0.059693260865244666, 'alpha': 0.0037584890551381144, 'gamma': 0, 'colsample_bytree': 0.6, 'subsample': 0.6, 'learning_rate': 0.1, 'n_estimators': 1000, 'max_depth': 13, 'random_state': 48, 'min_child_weight': 6, 'early_stopping_rounds': 100.0, 'eval_metric': ['logloss', 'error']}. \n",
      "\n",
      "Current Ram Used: 63.5 %\n",
      "Trial 31 finished with parameters: {'tree_method': 'hist', 'lambda': 0.05524509986745044, 'alpha': 0.002499562730881747, 'gamma': 0, 'colsample_bytree': 0.6, 'subsample': 0.6, 'learning_rate': 0.1, 'n_estimators': 1000, 'max_depth': 13, 'random_state': 48, 'min_child_weight': 6, 'early_stopping_rounds': 100.0, 'eval_metric': ['logloss', 'error']}. \n",
      "\n",
      "Current Ram Used: 62.9 %\n",
      "Trial 32 finished with parameters: {'tree_method': 'hist', 'lambda': 0.05163463175572165, 'alpha': 0.00330909549579518, 'gamma': 0, 'colsample_bytree': 0.6, 'subsample': 0.6, 'learning_rate': 0.1, 'n_estimators': 1000, 'max_depth': 13, 'random_state': 48, 'min_child_weight': 5, 'early_stopping_rounds': 100.0, 'eval_metric': ['logloss', 'error']}. \n",
      "\n",
      "Current Ram Used: 62.6 %\n",
      "\u001b[1m\u001b[94mTrial 32 done with best value: \u001b[1m\u001b[92m0.9704383377515589\u001b[1m\u001b[94m and parameters: \u001b[0m{'tree_method': 'hist', 'lambda': 0.05163463175572165, 'alpha': 0.00330909549579518, 'gamma': 0, 'colsample_bytree': 0.6, 'subsample': 0.6, 'learning_rate': 0.1, 'n_estimators': 1000, 'max_depth': 13, 'random_state': 48, 'min_child_weight': 5, 'early_stopping_rounds': 100.0, 'eval_metric': ['logloss', 'error']}. \n",
      "\u001b[1mTrial 33 pruned\u001b[0m\n",
      "\n",
      "Current Ram Used: 61.9 %\n",
      "Trial 34 finished with parameters: {'tree_method': 'hist', 'lambda': 0.0062584275872223614, 'alpha': 0.0021995077134866034, 'gamma': 0, 'colsample_bytree': 0.6, 'subsample': 0.6, 'learning_rate': 0.1, 'n_estimators': 1000, 'max_depth': 13, 'random_state': 48, 'min_child_weight': 3, 'early_stopping_rounds': 100.0, 'eval_metric': ['logloss', 'error']}. \n",
      "\n",
      "Current Ram Used: 61.5 %\n",
      "\u001b[1m\u001b[94mTrial 34 done with best value: \u001b[1m\u001b[92m0.9729025874621962\u001b[1m\u001b[94m and parameters: \u001b[0m{'tree_method': 'hist', 'lambda': 0.0062584275872223614, 'alpha': 0.0021995077134866034, 'gamma': 0, 'colsample_bytree': 0.6, 'subsample': 0.6, 'learning_rate': 0.1, 'n_estimators': 1000, 'max_depth': 13, 'random_state': 48, 'min_child_weight': 3, 'early_stopping_rounds': 100.0, 'eval_metric': ['logloss', 'error']}. \n",
      "\n",
      "Current Ram Used: 62.4 %\n",
      "Trial 35 finished with parameters: {'tree_method': 'hist', 'lambda': 0.008801413382455495, 'alpha': 0.0016465857510252404, 'gamma': 0, 'colsample_bytree': 0.6, 'subsample': 0.7, 'learning_rate': 0.1, 'n_estimators': 1000, 'max_depth': 13, 'random_state': 48, 'min_child_weight': 3, 'early_stopping_rounds': 100.0, 'eval_metric': ['logloss', 'error']}. \n",
      "\n",
      "Current Ram Used: 61.9 %\n",
      "\u001b[1m\u001b[94mTrial 35 done with best value: \u001b[1m\u001b[92m0.9729072546017996\u001b[1m\u001b[94m and parameters: \u001b[0m{'tree_method': 'hist', 'lambda': 0.008801413382455495, 'alpha': 0.0016465857510252404, 'gamma': 0, 'colsample_bytree': 0.6, 'subsample': 0.7, 'learning_rate': 0.1, 'n_estimators': 1000, 'max_depth': 13, 'random_state': 48, 'min_child_weight': 3, 'early_stopping_rounds': 100.0, 'eval_metric': ['logloss', 'error']}. \n",
      "\n",
      "Current Ram Used: 63.3 %\n",
      "Trial 36 finished with parameters: {'tree_method': 'hist', 'lambda': 0.005087320815207639, 'alpha': 0.0016348031797412414, 'gamma': 0, 'colsample_bytree': 0.6, 'subsample': 0.7, 'learning_rate': 0.1, 'n_estimators': 1000, 'max_depth': 13, 'random_state': 48, 'min_child_weight': 3, 'early_stopping_rounds': 100.0, 'eval_metric': ['logloss', 'error']}. \n",
      "\n",
      "Current Ram Used: 66.1 %\n",
      "\u001b[1m\u001b[94mTrial 36 done with best value: \u001b[1m\u001b[92m0.9729959302542658\u001b[1m\u001b[94m and parameters: \u001b[0m{'tree_method': 'hist', 'lambda': 0.005087320815207639, 'alpha': 0.0016348031797412414, 'gamma': 0, 'colsample_bytree': 0.6, 'subsample': 0.7, 'learning_rate': 0.1, 'n_estimators': 1000, 'max_depth': 13, 'random_state': 48, 'min_child_weight': 3, 'early_stopping_rounds': 100.0, 'eval_metric': ['logloss', 'error']}. \n",
      "\u001b[1mTrial 37 pruned\u001b[0m\n",
      "\u001b[1mTrial 38 pruned\u001b[0m\n",
      "\n",
      "Current Ram Used: 64.9 %\n",
      "Trial 39 finished with parameters: {'tree_method': 'hist', 'lambda': 0.0011509785598513664, 'alpha': 0.0017410579049381325, 'gamma': 0, 'colsample_bytree': 0.6, 'subsample': 0.7, 'learning_rate': 0.07, 'n_estimators': 1000, 'max_depth': 13, 'random_state': 48, 'min_child_weight': 2, 'early_stopping_rounds': 100.0, 'eval_metric': ['logloss', 'error']}. \n",
      "\n",
      "Current Ram Used: 64.1 %\n",
      "Trial 40 finished with parameters: {'tree_method': 'hist', 'lambda': 0.001313118782389828, 'alpha': 0.001983253490852466, 'gamma': 0, 'colsample_bytree': 0.6, 'subsample': 0.7, 'learning_rate': 0.07, 'n_estimators': 1000, 'max_depth': 11, 'random_state': 48, 'min_child_weight': 1, 'early_stopping_rounds': 100.0, 'eval_metric': ['logloss', 'error']}. \n",
      "\n",
      "Current Ram Used: 64.2 %\n",
      "Trial 41 finished with parameters: {'tree_method': 'hist', 'lambda': 0.004530722797915953, 'alpha': 0.001588082037413052, 'gamma': 0, 'colsample_bytree': 0.6, 'subsample': 0.7, 'learning_rate': 0.07, 'n_estimators': 1000, 'max_depth': 13, 'random_state': 48, 'min_child_weight': 2, 'early_stopping_rounds': 100.0, 'eval_metric': ['logloss', 'error']}. \n",
      "\n",
      "Current Ram Used: 65.1 %\n",
      "Trial 42 finished with parameters: {'tree_method': 'hist', 'lambda': 0.004645894669300534, 'alpha': 0.0015241362477633, 'gamma': 0, 'colsample_bytree': 0.6, 'subsample': 0.7, 'learning_rate': 0.07, 'n_estimators': 1000, 'max_depth': 13, 'random_state': 48, 'min_child_weight': 2, 'early_stopping_rounds': 100.0, 'eval_metric': ['logloss', 'error']}. \n",
      "\n",
      "Current Ram Used: 64.4 %\n",
      "Trial 43 finished with parameters: {'tree_method': 'hist', 'lambda': 0.00515553185155842, 'alpha': 0.006009354679076588, 'gamma': 0, 'colsample_bytree': 0.6, 'subsample': 0.7, 'learning_rate': 0.07, 'n_estimators': 1000, 'max_depth': 13, 'random_state': 48, 'min_child_weight': 2, 'early_stopping_rounds': 100.0, 'eval_metric': ['logloss', 'error']}. \n",
      "\n",
      "Current Ram Used: 64.4 %\n",
      "Trial 44 finished with parameters: {'tree_method': 'hist', 'lambda': 0.008595335680473385, 'alpha': 0.007087842774047218, 'gamma': 0, 'colsample_bytree': 0.6, 'subsample': 0.7, 'learning_rate': 0.07, 'n_estimators': 1000, 'max_depth': 13, 'random_state': 48, 'min_child_weight': 2, 'early_stopping_rounds': 100.0, 'eval_metric': ['logloss', 'error']}. \n",
      "\u001b[1mTrial 45 pruned\u001b[0m\n",
      "\u001b[1mTrial 46 pruned\u001b[0m\n",
      "\n",
      "Current Ram Used: 65.1 %\n",
      "Trial 47 finished with parameters: {'tree_method': 'hist', 'lambda': 0.0059813898529070325, 'alpha': 0.0024628421973816547, 'gamma': 0, 'colsample_bytree': 0.9, 'subsample': 0.7, 'learning_rate': 0.05, 'n_estimators': 1000, 'max_depth': 13, 'random_state': 48, 'min_child_weight': 1, 'early_stopping_rounds': 100.0, 'eval_metric': ['logloss', 'error']}. \n",
      "\n",
      "Current Ram Used: 64.4 %\n",
      "\u001b[1m\u001b[94mTrial 47 done with best value: \u001b[1m\u001b[92m0.9734999813314416\u001b[1m\u001b[94m and parameters: \u001b[0m{'tree_method': 'hist', 'lambda': 0.0059813898529070325, 'alpha': 0.0024628421973816547, 'gamma': 0, 'colsample_bytree': 0.9, 'subsample': 0.7, 'learning_rate': 0.05, 'n_estimators': 1000, 'max_depth': 13, 'random_state': 48, 'min_child_weight': 1, 'early_stopping_rounds': 100.0, 'eval_metric': ['logloss', 'error']}. \n",
      "\n",
      "Current Ram Used: 62.6 %\n",
      "Trial 48 finished with parameters: {'tree_method': 'hist', 'lambda': 0.018097877986323764, 'alpha': 0.0025796167850252474, 'gamma': 0, 'colsample_bytree': 0.9, 'subsample': 0.7, 'learning_rate': 0.05, 'n_estimators': 1000, 'max_depth': 13, 'random_state': 48, 'min_child_weight': 1, 'early_stopping_rounds': 100.0, 'eval_metric': ['logloss', 'error']}. \n",
      "\n",
      "Current Ram Used: 61.9 %\n",
      "\u001b[1m\u001b[94mTrial 48 done with best value: \u001b[1m\u001b[92m0.9735046484710452\u001b[1m\u001b[94m and parameters: \u001b[0m{'tree_method': 'hist', 'lambda': 0.018097877986323764, 'alpha': 0.0025796167850252474, 'gamma': 0, 'colsample_bytree': 0.9, 'subsample': 0.7, 'learning_rate': 0.05, 'n_estimators': 1000, 'max_depth': 13, 'random_state': 48, 'min_child_weight': 1, 'early_stopping_rounds': 100.0, 'eval_metric': ['logloss', 'error']}. \n",
      "\u001b[1mTrial 49 pruned\u001b[0m\n",
      "\u001b[1mTrial 50 pruned\u001b[0m\n",
      "\n",
      "Current Ram Used: 58.8 %\n",
      "Trial 51 finished with parameters: {'tree_method': 'hist', 'lambda': 0.016869642715572807, 'alpha': 0.0010372545521972136, 'gamma': 0, 'colsample_bytree': 0.9, 'subsample': 0.7, 'learning_rate': 0.05, 'n_estimators': 1000, 'max_depth': 13, 'random_state': 48, 'min_child_weight': 2, 'early_stopping_rounds': 100.0, 'eval_metric': ['logloss', 'error']}. \n",
      "\n",
      "Current Ram Used: 57.7 %\n",
      "Trial 52 finished with parameters: {'tree_method': 'hist', 'lambda': 0.0017707886054075057, 'alpha': 0.0029320846331318553, 'gamma': 0, 'colsample_bytree': 0.9, 'subsample': 0.7, 'learning_rate': 0.05, 'n_estimators': 1000, 'max_depth': 13, 'random_state': 48, 'min_child_weight': 3, 'early_stopping_rounds': 100.0, 'eval_metric': ['logloss', 'error']}. \n",
      "\u001b[1mTrial 53 pruned\u001b[0m\n",
      "\n",
      "Current Ram Used: 57.3 %\n",
      "Trial 54 finished with parameters: {'tree_method': 'hist', 'lambda': 0.0028529120444301115, 'alpha': 0.004453630644491778, 'gamma': 0, 'colsample_bytree': 0.9, 'subsample': 0.7, 'learning_rate': 0.05, 'n_estimators': 1000, 'max_depth': 13, 'random_state': 48, 'min_child_weight': 3, 'early_stopping_rounds': 100.0, 'eval_metric': ['logloss', 'error']}. \n",
      "\u001b[1mTrial 55 pruned\u001b[0m\n",
      "\n",
      "Current Ram Used: 57.1 %\n",
      "Trial 56 finished with parameters: {'tree_method': 'hist', 'lambda': 0.03059618244995556, 'alpha': 2.431435794033139, 'gamma': 0, 'colsample_bytree': 0.9, 'subsample': 1.0, 'learning_rate': 0.05, 'n_estimators': 1000, 'max_depth': 13, 'random_state': 48, 'min_child_weight': 1, 'early_stopping_rounds': 100.0, 'eval_metric': ['logloss', 'error']}. \n",
      "\u001b[1mTrial 57 pruned\u001b[0m\n",
      "\n",
      "Current Ram Used: 57.9 %\n",
      "Trial 58 finished with parameters: {'tree_method': 'hist', 'lambda': 0.006229200339784343, 'alpha': 0.0010030693883894025, 'gamma': 0, 'colsample_bytree': 0.9, 'subsample': 0.7, 'learning_rate': 0.03, 'n_estimators': 1000, 'max_depth': 13, 'random_state': 48, 'min_child_weight': 1, 'early_stopping_rounds': 100.0, 'eval_metric': ['logloss', 'error']}. \n",
      "\u001b[1mTrial 59 pruned\u001b[0m\n",
      "\u001b[1mTrial 60 pruned\u001b[0m\n",
      "\n",
      "Current Ram Used: 57.7 %\n",
      "Trial 61 finished with parameters: {'tree_method': 'hist', 'lambda': 0.005209666298299125, 'alpha': 0.00567048374028981, 'gamma': 0, 'colsample_bytree': 0.6, 'subsample': 0.7, 'learning_rate': 0.07, 'n_estimators': 1000, 'max_depth': 13, 'random_state': 48, 'min_child_weight': 2, 'early_stopping_rounds': 100.0, 'eval_metric': ['logloss', 'error']}. \n",
      "\n",
      "Current Ram Used: 57.5 %\n",
      "Trial 62 finished with parameters: {'tree_method': 'hist', 'lambda': 0.003582609405924996, 'alpha': 0.004139746375781003, 'gamma': 0, 'colsample_bytree': 0.6, 'subsample': 0.7, 'learning_rate': 0.07, 'n_estimators': 1000, 'max_depth': 13, 'random_state': 48, 'min_child_weight': 2, 'early_stopping_rounds': 100.0, 'eval_metric': ['logloss', 'error']}. \n",
      "\n",
      "Current Ram Used: 57.8 %\n",
      "Trial 63 finished with parameters: {'tree_method': 'hist', 'lambda': 0.001690062538990413, 'alpha': 0.017992922301359175, 'gamma': 0, 'colsample_bytree': 0.6, 'subsample': 0.7, 'learning_rate': 0.07, 'n_estimators': 1000, 'max_depth': 13, 'random_state': 48, 'min_child_weight': 1, 'early_stopping_rounds': 100.0, 'eval_metric': ['logloss', 'error']}. \n",
      "\n",
      "Current Ram Used: 57.1 %\n",
      "\u001b[1m\u001b[94mTrial 63 done with best value: \u001b[1m\u001b[92m0.9749094574916924\u001b[1m\u001b[94m and parameters: \u001b[0m{'tree_method': 'hist', 'lambda': 0.001690062538990413, 'alpha': 0.017992922301359175, 'gamma': 0, 'colsample_bytree': 0.6, 'subsample': 0.7, 'learning_rate': 0.07, 'n_estimators': 1000, 'max_depth': 13, 'random_state': 48, 'min_child_weight': 1, 'early_stopping_rounds': 100.0, 'eval_metric': ['logloss', 'error']}. \n",
      "\n",
      "Current Ram Used: 58.2 %\n",
      "Trial 64 finished with parameters: {'tree_method': 'hist', 'lambda': 0.0015806212781916517, 'alpha': 0.02036885802457707, 'gamma': 0, 'colsample_bytree': 0.6, 'subsample': 0.7, 'learning_rate': 0.1, 'n_estimators': 1000, 'max_depth': 13, 'random_state': 48, 'min_child_weight': 1, 'early_stopping_rounds': 100.0, 'eval_metric': ['logloss', 'error']}. \n",
      "\n",
      "Current Ram Used: 57.6 %\n",
      "\u001b[1m\u001b[94mTrial 64 done with best value: \u001b[1m\u001b[92m0.9754508456856962\u001b[1m\u001b[94m and parameters: \u001b[0m{'tree_method': 'hist', 'lambda': 0.0015806212781916517, 'alpha': 0.02036885802457707, 'gamma': 0, 'colsample_bytree': 0.6, 'subsample': 0.7, 'learning_rate': 0.1, 'n_estimators': 1000, 'max_depth': 13, 'random_state': 48, 'min_child_weight': 1, 'early_stopping_rounds': 100.0, 'eval_metric': ['logloss', 'error']}. \n",
      "\n",
      "Current Ram Used: 58.3 %\n",
      "Trial 65 finished with parameters: {'tree_method': 'hist', 'lambda': 0.0017416020224571183, 'alpha': 0.016832579326892503, 'gamma': 0, 'colsample_bytree': 0.7, 'subsample': 0.7, 'learning_rate': 0.05, 'n_estimators': 1000, 'max_depth': 13, 'random_state': 48, 'min_child_weight': 1, 'early_stopping_rounds': 100.0, 'eval_metric': ['logloss', 'error']}. \n",
      "\n",
      "Current Ram Used: 58.4 %\n",
      "Trial 66 finished with parameters: {'tree_method': 'hist', 'lambda': 0.001703984656007656, 'alpha': 0.020272143212206644, 'gamma': 0, 'colsample_bytree': 0.7, 'subsample': 0.7, 'learning_rate': 0.05, 'n_estimators': 1000, 'max_depth': 13, 'random_state': 48, 'min_child_weight': 1, 'early_stopping_rounds': 100.0, 'eval_metric': ['logloss', 'error']}. \n",
      "\u001b[1mTrial 67 pruned\u001b[0m\n",
      "\n",
      "Current Ram Used: 58.7 %\n",
      "Trial 68 finished with parameters: {'tree_method': 'hist', 'lambda': 0.002497255221181161, 'alpha': 0.1268901813240121, 'gamma': 0, 'colsample_bytree': 0.7, 'subsample': 0.7, 'learning_rate': 0.05, 'n_estimators': 1000, 'max_depth': 13, 'random_state': 48, 'min_child_weight': 1, 'early_stopping_rounds': 100.0, 'eval_metric': ['logloss', 'error']}. \n",
      "\u001b[1mTrial 69 pruned\u001b[0m\n",
      "\n",
      "Current Ram Used: 58.5 %\n",
      "Trial 70 finished with parameters: {'tree_method': 'hist', 'lambda': 0.0024728399236067494, 'alpha': 0.04069678501606922, 'gamma': 0, 'colsample_bytree': 0.7, 'subsample': 1.0, 'learning_rate': 0.05, 'n_estimators': 1000, 'max_depth': 13, 'random_state': 48, 'min_child_weight': 1, 'early_stopping_rounds': 100.0, 'eval_metric': ['logloss', 'error']}. \n",
      "\n",
      "Current Ram Used: 59.5 %\n",
      "Trial 71 finished with parameters: {'tree_method': 'hist', 'lambda': 0.0015237494320337486, 'alpha': 0.015332907152925662, 'gamma': 0, 'colsample_bytree': 0.7, 'subsample': 0.7, 'learning_rate': 0.05, 'n_estimators': 1000, 'max_depth': 13, 'random_state': 48, 'min_child_weight': 1, 'early_stopping_rounds': 100.0, 'eval_metric': ['logloss', 'error']}. \n",
      "\n",
      "Current Ram Used: 58.7 %\n",
      "Trial 72 finished with parameters: {'tree_method': 'hist', 'lambda': 0.0013563541032343754, 'alpha': 0.013602240681788077, 'gamma': 0, 'colsample_bytree': 0.7, 'subsample': 0.7, 'learning_rate': 0.05, 'n_estimators': 1000, 'max_depth': 13, 'random_state': 48, 'min_child_weight': 1, 'early_stopping_rounds': 100.0, 'eval_metric': ['logloss', 'error']}. \n",
      "\n",
      "Current Ram Used: 58.6 %\n",
      "Trial 73 finished with parameters: {'tree_method': 'hist', 'lambda': 0.0022932160855725628, 'alpha': 0.053882927176712114, 'gamma': 0, 'colsample_bytree': 0.7, 'subsample': 0.7, 'learning_rate': 0.05, 'n_estimators': 1000, 'max_depth': 13, 'random_state': 48, 'min_child_weight': 1, 'early_stopping_rounds': 100.0, 'eval_metric': ['logloss', 'error']}. \n",
      "\n",
      "Current Ram Used: 58.4 %\n",
      "Trial 74 finished with parameters: {'tree_method': 'hist', 'lambda': 0.0013304234650731422, 'alpha': 0.11915142976408985, 'gamma': 0, 'colsample_bytree': 0.7, 'subsample': 0.7, 'learning_rate': 0.05, 'n_estimators': 1000, 'max_depth': 13, 'random_state': 48, 'min_child_weight': 1, 'early_stopping_rounds': 100.0, 'eval_metric': ['logloss', 'error']}. \n",
      "\n",
      "Current Ram Used: 58.3 %\n",
      "Trial 75 finished with parameters: {'tree_method': 'hist', 'lambda': 0.0018617866051536091, 'alpha': 0.02737419700441868, 'gamma': 0, 'colsample_bytree': 0.7, 'subsample': 0.7, 'learning_rate': 0.05, 'n_estimators': 1000, 'max_depth': 13, 'random_state': 48, 'min_child_weight': 1, 'early_stopping_rounds': 100.0, 'eval_metric': ['logloss', 'error']}. \n",
      "\n",
      "Current Ram Used: 58.7 %\n",
      "Trial 76 finished with parameters: {'tree_method': 'hist', 'lambda': 0.00322715221259895, 'alpha': 0.02205262402159219, 'gamma': 0, 'colsample_bytree': 0.7, 'subsample': 0.7, 'learning_rate': 0.05, 'n_estimators': 1000, 'max_depth': 13, 'random_state': 48, 'min_child_weight': 1, 'early_stopping_rounds': 100.0, 'eval_metric': ['logloss', 'error']}. \n",
      "\n",
      "Current Ram Used: 58.7 %\n",
      "Trial 77 finished with parameters: {'tree_method': 'hist', 'lambda': 0.0022234797426165095, 'alpha': 0.016370951263799664, 'gamma': 0, 'colsample_bytree': 0.7, 'subsample': 0.7, 'learning_rate': 0.05, 'n_estimators': 1000, 'max_depth': 13, 'random_state': 48, 'min_child_weight': 1, 'early_stopping_rounds': 100.0, 'eval_metric': ['logloss', 'error']}. \n",
      "\n",
      "Current Ram Used: 59.3 %\n",
      "Trial 78 finished with parameters: {'tree_method': 'hist', 'lambda': 0.001014317855900379, 'alpha': 0.03304519301754359, 'gamma': 0, 'colsample_bytree': 0.7, 'subsample': 0.9, 'learning_rate': 0.05, 'n_estimators': 1000, 'max_depth': 13, 'random_state': 48, 'min_child_weight': 2, 'early_stopping_rounds': 100.0, 'eval_metric': ['logloss', 'error']}. \n",
      "\n",
      "Current Ram Used: 60.0 %\n",
      "Trial 79 finished with parameters: {'tree_method': 'hist', 'lambda': 0.001458043802820726, 'alpha': 0.012121376904744413, 'gamma': 0, 'colsample_bytree': 0.7, 'subsample': 0.8, 'learning_rate': 0.05, 'n_estimators': 1000, 'max_depth': 13, 'random_state': 48, 'min_child_weight': 1, 'early_stopping_rounds': 100.0, 'eval_metric': ['logloss', 'error']}. \n",
      "\u001b[1mTrial 80 pruned\u001b[0m\n",
      "\n",
      "Current Ram Used: 59.1 %\n",
      "Trial 81 finished with parameters: {'tree_method': 'hist', 'lambda': 0.0015658867154560749, 'alpha': 0.008044020130798385, 'gamma': 0, 'colsample_bytree': 0.7, 'subsample': 0.8, 'learning_rate': 0.05, 'n_estimators': 1000, 'max_depth': 13, 'random_state': 48, 'min_child_weight': 1, 'early_stopping_rounds': 100.0, 'eval_metric': ['logloss', 'error']}. \n",
      "\n",
      "Current Ram Used: 59.2 %\n",
      "Trial 82 finished with parameters: {'tree_method': 'hist', 'lambda': 0.002903421741139631, 'alpha': 0.008675629122731102, 'gamma': 0, 'colsample_bytree': 0.7, 'subsample': 0.8, 'learning_rate': 0.05, 'n_estimators': 1000, 'max_depth': 13, 'random_state': 48, 'min_child_weight': 1, 'early_stopping_rounds': 100.0, 'eval_metric': ['logloss', 'error']}. \n",
      "\u001b[1mTrial 83 pruned\u001b[0m\n",
      "\n",
      "Current Ram Used: 59.7 %\n",
      "Trial 84 finished with parameters: {'tree_method': 'hist', 'lambda': 0.0020827634255206795, 'alpha': 0.010390286319103303, 'gamma': 0, 'colsample_bytree': 0.7, 'subsample': 0.8, 'learning_rate': 0.05, 'n_estimators': 1000, 'max_depth': 13, 'random_state': 48, 'min_child_weight': 1, 'early_stopping_rounds': 100.0, 'eval_metric': ['logloss', 'error']}. \n",
      "\u001b[1mTrial 85 pruned\u001b[0m\n",
      "\n",
      "Current Ram Used: 59.7 %\n",
      "Trial 86 finished with parameters: {'tree_method': 'hist', 'lambda': 0.004098542542278711, 'alpha': 0.011201073785013314, 'gamma': 0, 'colsample_bytree': 0.7, 'subsample': 0.8, 'learning_rate': 0.05, 'n_estimators': 1000, 'max_depth': 13, 'random_state': 48, 'min_child_weight': 1, 'early_stopping_rounds': 100.0, 'eval_metric': ['logloss', 'error']}. \n",
      "\u001b[1mTrial 87 pruned\u001b[0m\n",
      "\u001b[1mTrial 88 pruned\u001b[0m\n",
      "\n",
      "Current Ram Used: 59.9 %\n",
      "Trial 89 finished with parameters: {'tree_method': 'hist', 'lambda': 0.002005560484286567, 'alpha': 0.01794710193331004, 'gamma': 0, 'colsample_bytree': 0.9, 'subsample': 0.8, 'learning_rate': 0.05, 'n_estimators': 1000, 'max_depth': 13, 'random_state': 48, 'min_child_weight': 1, 'early_stopping_rounds': 100.0, 'eval_metric': ['logloss', 'error']}. \n",
      "\n",
      "Current Ram Used: 59.8 %\n",
      "Trial 90 finished with parameters: {'tree_method': 'hist', 'lambda': 0.006610889870756684, 'alpha': 0.028164765851453732, 'gamma': 0, 'colsample_bytree': 0.9, 'subsample': 0.8, 'learning_rate': 0.05, 'n_estimators': 1000, 'max_depth': 13, 'random_state': 48, 'min_child_weight': 2, 'early_stopping_rounds': 100.0, 'eval_metric': ['logloss', 'error']}. \n",
      "\n",
      "Current Ram Used: 58.8 %\n",
      "Trial 91 finished with parameters: {'tree_method': 'hist', 'lambda': 0.001972727833681738, 'alpha': 0.019250290029984754, 'gamma': 0, 'colsample_bytree': 0.9, 'subsample': 0.8, 'learning_rate': 0.05, 'n_estimators': 1000, 'max_depth': 13, 'random_state': 48, 'min_child_weight': 1, 'early_stopping_rounds': 100.0, 'eval_metric': ['logloss', 'error']}. \n",
      "\n",
      "Current Ram Used: 58.2 %\n",
      "Trial 92 finished with parameters: {'tree_method': 'hist', 'lambda': 0.002472068515900493, 'alpha': 0.014679843531446529, 'gamma': 0, 'colsample_bytree': 0.9, 'subsample': 0.8, 'learning_rate': 0.05, 'n_estimators': 1000, 'max_depth': 13, 'random_state': 48, 'min_child_weight': 1, 'early_stopping_rounds': 100.0, 'eval_metric': ['logloss', 'error']}. \n",
      "\n",
      "Current Ram Used: 58.2 %\n",
      "Trial 93 finished with parameters: {'tree_method': 'hist', 'lambda': 0.0011213098626528745, 'alpha': 0.038844675574923264, 'gamma': 0, 'colsample_bytree': 0.9, 'subsample': 0.8, 'learning_rate': 0.05, 'n_estimators': 1000, 'max_depth': 13, 'random_state': 48, 'min_child_weight': 1, 'early_stopping_rounds': 100.0, 'eval_metric': ['logloss', 'error']}. \n",
      "\n",
      "Current Ram Used: 58.9 %\n",
      "Trial 94 finished with parameters: {'tree_method': 'hist', 'lambda': 0.0012121594163266428, 'alpha': 0.09520379345525491, 'gamma': 0, 'colsample_bytree': 0.9, 'subsample': 0.8, 'learning_rate': 0.05, 'n_estimators': 1000, 'max_depth': 13, 'random_state': 48, 'min_child_weight': 1, 'early_stopping_rounds': 100.0, 'eval_metric': ['logloss', 'error']}. \n",
      "\u001b[1mTrial 95 pruned\u001b[0m\n",
      "\n",
      "Current Ram Used: 58.7 %\n",
      "Trial 96 finished with parameters: {'tree_method': 'hist', 'lambda': 0.0011942917814144317, 'alpha': 0.023587429096173538, 'gamma': 0, 'colsample_bytree': 0.9, 'subsample': 0.8, 'learning_rate': 0.05, 'n_estimators': 1000, 'max_depth': 13, 'random_state': 48, 'min_child_weight': 1, 'early_stopping_rounds': 100.0, 'eval_metric': ['logloss', 'error']}. \n",
      "\u001b[1mTrial 97 pruned\u001b[0m\n",
      "\n",
      "Current Ram Used: 58.2 %\n",
      "Trial 98 finished with parameters: {'tree_method': 'hist', 'lambda': 0.0012439768997250797, 'alpha': 0.061211210263694034, 'gamma': 0, 'colsample_bytree': 0.9, 'subsample': 0.8, 'learning_rate': 0.05, 'n_estimators': 1000, 'max_depth': 13, 'random_state': 48, 'min_child_weight': 1, 'early_stopping_rounds': 100.0, 'eval_metric': ['logloss', 'error']}. \n",
      "\u001b[1mTrial 99 pruned\u001b[0m\n"
     ]
    }
   ],
   "source": [
    "# uncomment below if you want to see the trials log \n",
    "with open(f\"{workdir}xgb_optuna_study_log.txt\", \"r+\") as os_log:\n",
    "    print(os_log.read())"
   ]
  },
  {
   "cell_type": "code",
   "execution_count": 123,
   "metadata": {
    "execution": {
     "iopub.execute_input": "2022-05-17T08:36:37.537951Z",
     "iopub.status.busy": "2022-05-17T08:36:37.537669Z",
     "iopub.status.idle": "2022-05-17T08:36:37.582187Z",
     "shell.execute_reply": "2022-05-17T08:36:37.581142Z",
     "shell.execute_reply.started": "2022-05-17T08:36:37.537923Z"
    }
   },
   "outputs": [
    {
     "name": "stdout",
     "output_type": "stream",
     "text": [
      "Loading saved study ...\n",
      "\n"
     ]
    },
    {
     "data": {
      "text/plain": [
       "{'tree_method': 'hist',\n",
       " 'lambda': 0.0015806212781916517,\n",
       " 'alpha': 0.02036885802457707,\n",
       " 'gamma': 0,\n",
       " 'colsample_bytree': 0.6,\n",
       " 'subsample': 0.7,\n",
       " 'learning_rate': 0.1,\n",
       " 'n_estimators': 1000,\n",
       " 'max_depth': 13,\n",
       " 'random_state': 48,\n",
       " 'min_child_weight': 1,\n",
       " 'early_stopping_rounds': 100.0,\n",
       " 'eval_metric': ['logloss', 'error']}"
      ]
     },
     "metadata": {},
     "output_type": "display_data"
    }
   ],
   "source": [
    "# uncomment below if you want to load saved study to check, if desired\n",
    "print('Loading saved study ...')\n",
    "print()\n",
    "jl = joblib.load(f\"{workdir}xgb_optuna_study.pkl\")\n",
    "jl = jl.best_trial.params\n",
    "display(jl)"
   ]
  },
  {
   "cell_type": "code",
   "execution_count": 124,
   "metadata": {
    "execution": {
     "iopub.execute_input": "2022-05-17T08:36:37.584491Z",
     "iopub.status.busy": "2022-05-17T08:36:37.584075Z",
     "iopub.status.idle": "2022-05-17T08:36:37.625107Z",
     "shell.execute_reply": "2022-05-17T08:36:37.624070Z",
     "shell.execute_reply.started": "2022-05-17T08:36:37.584429Z"
    }
   },
   "outputs": [
    {
     "data": {
      "text/plain": [
       "{'tree_method': 'hist',\n",
       " 'lambda': 0.0015806212781916517,\n",
       " 'alpha': 0.02036885802457707,\n",
       " 'gamma': 0,\n",
       " 'colsample_bytree': 0.6,\n",
       " 'subsample': 0.7,\n",
       " 'learning_rate': 0.1,\n",
       " 'n_estimators': 1000,\n",
       " 'max_depth': 13,\n",
       " 'random_state': 48,\n",
       " 'min_child_weight': 1,\n",
       " 'early_stopping_rounds': 100.0,\n",
       " 'eval_metric': ['logloss', 'error']}"
      ]
     },
     "metadata": {},
     "output_type": "display_data"
    }
   ],
   "source": [
    "study_results = joblib.load(f\"{workdir}xgb_optuna_study.pkl\")\n",
    "best_trial = study_results.best_trial.params\n",
    "best_trial['tree_method'] = tree_method\n",
    "display(best_trial)"
   ]
  },
  {
   "cell_type": "code",
   "execution_count": 125,
   "metadata": {
    "execution": {
     "iopub.execute_input": "2022-05-17T08:36:37.627380Z",
     "iopub.status.busy": "2022-05-17T08:36:37.626847Z",
     "iopub.status.idle": "2022-05-17T08:36:37.638364Z",
     "shell.execute_reply": "2022-05-17T08:36:37.637342Z",
     "shell.execute_reply.started": "2022-05-17T08:36:37.627335Z"
    }
   },
   "outputs": [
    {
     "data": {
      "text/plain": [
       "{'tree_method': 'hist',\n",
       " 'lambda': 0.0015806212781916517,\n",
       " 'alpha': 0.02036885802457707,\n",
       " 'gamma': 0,\n",
       " 'colsample_bytree': 0.6,\n",
       " 'subsample': 0.7,\n",
       " 'learning_rate': 0.1,\n",
       " 'n_estimators': 1000,\n",
       " 'max_depth': 13,\n",
       " 'random_state': 48,\n",
       " 'min_child_weight': 1,\n",
       " 'early_stopping_rounds': 100.0,\n",
       " 'eval_metric': ['logloss', 'error']}"
      ]
     },
     "execution_count": 125,
     "metadata": {},
     "output_type": "execute_result"
    }
   ],
   "source": [
    "best_trial = study_results.best_trial.params\n",
    "best_trial['tree_method'] = tree_method\n",
    "best_trial"
   ]
  },
  {
   "cell_type": "code",
   "execution_count": 126,
   "metadata": {
    "execution": {
     "iopub.execute_input": "2022-05-17T08:36:37.641282Z",
     "iopub.status.busy": "2022-05-17T08:36:37.640484Z",
     "iopub.status.idle": "2022-05-17T08:36:37.681979Z",
     "shell.execute_reply": "2022-05-17T08:36:37.680878Z",
     "shell.execute_reply.started": "2022-05-17T08:36:37.641234Z"
    }
   },
   "outputs": [
    {
     "data": {
      "text/html": [
       "<div>\n",
       "<style scoped>\n",
       "    .dataframe tbody tr th:only-of-type {\n",
       "        vertical-align: middle;\n",
       "    }\n",
       "\n",
       "    .dataframe tbody tr th {\n",
       "        vertical-align: top;\n",
       "    }\n",
       "\n",
       "    .dataframe thead th {\n",
       "        text-align: right;\n",
       "    }\n",
       "</style>\n",
       "<table border=\"1\" class=\"dataframe\">\n",
       "  <thead>\n",
       "    <tr style=\"text-align: right;\">\n",
       "      <th></th>\n",
       "      <th>number</th>\n",
       "      <th>value</th>\n",
       "      <th>datetime_start</th>\n",
       "      <th>datetime_complete</th>\n",
       "      <th>duration</th>\n",
       "      <th>params_alpha</th>\n",
       "      <th>params_colsample_bytree</th>\n",
       "      <th>params_early_stopping_rounds</th>\n",
       "      <th>params_eval_metric</th>\n",
       "      <th>params_gamma</th>\n",
       "      <th>params_lambda</th>\n",
       "      <th>params_learning_rate</th>\n",
       "      <th>params_max_depth</th>\n",
       "      <th>params_min_child_weight</th>\n",
       "      <th>params_n_estimators</th>\n",
       "      <th>params_random_state</th>\n",
       "      <th>params_subsample</th>\n",
       "      <th>params_tree_method</th>\n",
       "      <th>state</th>\n",
       "    </tr>\n",
       "  </thead>\n",
       "  <tbody>\n",
       "    <tr>\n",
       "      <th>6</th>\n",
       "      <td>6</td>\n",
       "      <td>0.926161</td>\n",
       "      <td>2022-06-04 04:18:44.006111</td>\n",
       "      <td>2022-06-04 04:21:06.590345</td>\n",
       "      <td>0 days 00:02:22.584234</td>\n",
       "      <td>0.038782</td>\n",
       "      <td>0.6</td>\n",
       "      <td>100.0</td>\n",
       "      <td>[logloss, error]</td>\n",
       "      <td>5</td>\n",
       "      <td>0.018146</td>\n",
       "      <td>0.01</td>\n",
       "      <td>9</td>\n",
       "      <td>9</td>\n",
       "      <td>1000</td>\n",
       "      <td>48</td>\n",
       "      <td>0.7</td>\n",
       "      <td>hist</td>\n",
       "      <td>PRUNED</td>\n",
       "    </tr>\n",
       "    <tr>\n",
       "      <th>38</th>\n",
       "      <td>38</td>\n",
       "      <td>0.928014</td>\n",
       "      <td>2022-06-04 05:37:55.335177</td>\n",
       "      <td>2022-06-04 05:40:07.081128</td>\n",
       "      <td>0 days 00:02:11.745951</td>\n",
       "      <td>0.009367</td>\n",
       "      <td>0.6</td>\n",
       "      <td>100.0</td>\n",
       "      <td>[logloss, error]</td>\n",
       "      <td>0</td>\n",
       "      <td>0.007586</td>\n",
       "      <td>0.01</td>\n",
       "      <td>9</td>\n",
       "      <td>3</td>\n",
       "      <td>1000</td>\n",
       "      <td>48</td>\n",
       "      <td>0.7</td>\n",
       "      <td>hist</td>\n",
       "      <td>PRUNED</td>\n",
       "    </tr>\n",
       "  </tbody>\n",
       "</table>\n",
       "</div>"
      ],
      "text/plain": [
       "    number     value             datetime_start          datetime_complete  \\\n",
       "6        6  0.926161 2022-06-04 04:18:44.006111 2022-06-04 04:21:06.590345   \n",
       "38      38  0.928014 2022-06-04 05:37:55.335177 2022-06-04 05:40:07.081128   \n",
       "\n",
       "                 duration  params_alpha  params_colsample_bytree  \\\n",
       "6  0 days 00:02:22.584234      0.038782                      0.6   \n",
       "38 0 days 00:02:11.745951      0.009367                      0.6   \n",
       "\n",
       "    params_early_stopping_rounds params_eval_metric  params_gamma  \\\n",
       "6                          100.0   [logloss, error]             5   \n",
       "38                         100.0   [logloss, error]             0   \n",
       "\n",
       "    params_lambda  params_learning_rate  params_max_depth  \\\n",
       "6        0.018146                  0.01                 9   \n",
       "38       0.007586                  0.01                 9   \n",
       "\n",
       "    params_min_child_weight  params_n_estimators  params_random_state  \\\n",
       "6                         9                 1000                   48   \n",
       "38                        3                 1000                   48   \n",
       "\n",
       "    params_subsample params_tree_method   state  \n",
       "6                0.7               hist  PRUNED  \n",
       "38               0.7               hist  PRUNED  "
      ]
     },
     "execution_count": 126,
     "metadata": {},
     "output_type": "execute_result"
    }
   ],
   "source": [
    "# Trial results dataframe sorted from best value (RMSE) ascending\n",
    "def ViewResultsAsDf():\n",
    "    stdf = study_results.trials_dataframe()\n",
    "    stdf = stdf.sort_values('value',ascending=True)\n",
    "\n",
    "    return stdf.head(2)    # return here is only used for printing output\n",
    "\n",
    "ViewResultsAsDf()"
   ]
  },
  {
   "cell_type": "code",
   "execution_count": 127,
   "metadata": {
    "execution": {
     "iopub.execute_input": "2022-05-17T08:36:37.684625Z",
     "iopub.status.busy": "2022-05-17T08:36:37.683537Z",
     "iopub.status.idle": "2022-05-17T08:36:38.959570Z",
     "shell.execute_reply": "2022-05-17T08:36:38.958596Z",
     "shell.execute_reply.started": "2022-05-17T08:36:37.684575Z"
    }
   },
   "outputs": [
    {
     "data": {
      "application/vnd.plotly.v1+json": {
       "config": {
        "plotlyServerURL": "https://plot.ly"
       },
       "data": [
        {
         "cliponaxis": false,
         "hovertemplate": [
          "early_stopping_rounds (CategoricalDistribution): 0.0<extra></extra>",
          "eval_metric (CategoricalDistribution): 0.0<extra></extra>",
          "n_estimators (CategoricalDistribution): 0.0<extra></extra>",
          "random_state (CategoricalDistribution): 0.0<extra></extra>",
          "tree_method (CategoricalDistribution): 0.0<extra></extra>",
          "lambda (LogUniformDistribution): 0.03376057762016187<extra></extra>",
          "colsample_bytree (CategoricalDistribution): 0.03790423841743536<extra></extra>",
          "max_depth (CategoricalDistribution): 0.0568443939202599<extra></extra>",
          "gamma (CategoricalDistribution): 0.05951695615797178<extra></extra>",
          "subsample (CategoricalDistribution): 0.11245482896242288<extra></extra>",
          "learning_rate (CategoricalDistribution): 0.13421908624802767<extra></extra>",
          "alpha (LogUniformDistribution): 0.24756873445957667<extra></extra>",
          "min_child_weight (IntUniformDistribution): 0.317731184214144<extra></extra>"
         ],
         "marker": {
          "color": "rgb(66,146,198)"
         },
         "orientation": "h",
         "text": [
          "0.0",
          "0.0",
          "0.0",
          "0.0",
          "0.0",
          "0.03376057762016187",
          "0.03790423841743536",
          "0.0568443939202599",
          "0.05951695615797178",
          "0.11245482896242288",
          "0.13421908624802767",
          "0.24756873445957667",
          "0.317731184214144"
         ],
         "textposition": "outside",
         "texttemplate": "%{text:.2f}",
         "type": "bar",
         "x": [
          0,
          0,
          0,
          0,
          0,
          0.03376057762016187,
          0.03790423841743536,
          0.0568443939202599,
          0.05951695615797178,
          0.11245482896242288,
          0.13421908624802767,
          0.24756873445957667,
          0.317731184214144
         ],
         "y": [
          "early_stopping_rounds",
          "eval_metric",
          "n_estimators",
          "random_state",
          "tree_method",
          "lambda",
          "colsample_bytree",
          "max_depth",
          "gamma",
          "subsample",
          "learning_rate",
          "alpha",
          "min_child_weight"
         ]
        }
       ],
       "layout": {
        "showlegend": false,
        "template": {
         "data": {
          "bar": [
           {
            "error_x": {
             "color": "#2a3f5f"
            },
            "error_y": {
             "color": "#2a3f5f"
            },
            "marker": {
             "line": {
              "color": "#E5ECF6",
              "width": 0.5
             },
             "pattern": {
              "fillmode": "overlay",
              "size": 10,
              "solidity": 0.2
             }
            },
            "type": "bar"
           }
          ],
          "barpolar": [
           {
            "marker": {
             "line": {
              "color": "#E5ECF6",
              "width": 0.5
             },
             "pattern": {
              "fillmode": "overlay",
              "size": 10,
              "solidity": 0.2
             }
            },
            "type": "barpolar"
           }
          ],
          "carpet": [
           {
            "aaxis": {
             "endlinecolor": "#2a3f5f",
             "gridcolor": "white",
             "linecolor": "white",
             "minorgridcolor": "white",
             "startlinecolor": "#2a3f5f"
            },
            "baxis": {
             "endlinecolor": "#2a3f5f",
             "gridcolor": "white",
             "linecolor": "white",
             "minorgridcolor": "white",
             "startlinecolor": "#2a3f5f"
            },
            "type": "carpet"
           }
          ],
          "choropleth": [
           {
            "colorbar": {
             "outlinewidth": 0,
             "ticks": ""
            },
            "type": "choropleth"
           }
          ],
          "contour": [
           {
            "colorbar": {
             "outlinewidth": 0,
             "ticks": ""
            },
            "colorscale": [
             [
              0,
              "#0d0887"
             ],
             [
              0.1111111111111111,
              "#46039f"
             ],
             [
              0.2222222222222222,
              "#7201a8"
             ],
             [
              0.3333333333333333,
              "#9c179e"
             ],
             [
              0.4444444444444444,
              "#bd3786"
             ],
             [
              0.5555555555555556,
              "#d8576b"
             ],
             [
              0.6666666666666666,
              "#ed7953"
             ],
             [
              0.7777777777777778,
              "#fb9f3a"
             ],
             [
              0.8888888888888888,
              "#fdca26"
             ],
             [
              1,
              "#f0f921"
             ]
            ],
            "type": "contour"
           }
          ],
          "contourcarpet": [
           {
            "colorbar": {
             "outlinewidth": 0,
             "ticks": ""
            },
            "type": "contourcarpet"
           }
          ],
          "heatmap": [
           {
            "colorbar": {
             "outlinewidth": 0,
             "ticks": ""
            },
            "colorscale": [
             [
              0,
              "#0d0887"
             ],
             [
              0.1111111111111111,
              "#46039f"
             ],
             [
              0.2222222222222222,
              "#7201a8"
             ],
             [
              0.3333333333333333,
              "#9c179e"
             ],
             [
              0.4444444444444444,
              "#bd3786"
             ],
             [
              0.5555555555555556,
              "#d8576b"
             ],
             [
              0.6666666666666666,
              "#ed7953"
             ],
             [
              0.7777777777777778,
              "#fb9f3a"
             ],
             [
              0.8888888888888888,
              "#fdca26"
             ],
             [
              1,
              "#f0f921"
             ]
            ],
            "type": "heatmap"
           }
          ],
          "heatmapgl": [
           {
            "colorbar": {
             "outlinewidth": 0,
             "ticks": ""
            },
            "colorscale": [
             [
              0,
              "#0d0887"
             ],
             [
              0.1111111111111111,
              "#46039f"
             ],
             [
              0.2222222222222222,
              "#7201a8"
             ],
             [
              0.3333333333333333,
              "#9c179e"
             ],
             [
              0.4444444444444444,
              "#bd3786"
             ],
             [
              0.5555555555555556,
              "#d8576b"
             ],
             [
              0.6666666666666666,
              "#ed7953"
             ],
             [
              0.7777777777777778,
              "#fb9f3a"
             ],
             [
              0.8888888888888888,
              "#fdca26"
             ],
             [
              1,
              "#f0f921"
             ]
            ],
            "type": "heatmapgl"
           }
          ],
          "histogram": [
           {
            "marker": {
             "pattern": {
              "fillmode": "overlay",
              "size": 10,
              "solidity": 0.2
             }
            },
            "type": "histogram"
           }
          ],
          "histogram2d": [
           {
            "colorbar": {
             "outlinewidth": 0,
             "ticks": ""
            },
            "colorscale": [
             [
              0,
              "#0d0887"
             ],
             [
              0.1111111111111111,
              "#46039f"
             ],
             [
              0.2222222222222222,
              "#7201a8"
             ],
             [
              0.3333333333333333,
              "#9c179e"
             ],
             [
              0.4444444444444444,
              "#bd3786"
             ],
             [
              0.5555555555555556,
              "#d8576b"
             ],
             [
              0.6666666666666666,
              "#ed7953"
             ],
             [
              0.7777777777777778,
              "#fb9f3a"
             ],
             [
              0.8888888888888888,
              "#fdca26"
             ],
             [
              1,
              "#f0f921"
             ]
            ],
            "type": "histogram2d"
           }
          ],
          "histogram2dcontour": [
           {
            "colorbar": {
             "outlinewidth": 0,
             "ticks": ""
            },
            "colorscale": [
             [
              0,
              "#0d0887"
             ],
             [
              0.1111111111111111,
              "#46039f"
             ],
             [
              0.2222222222222222,
              "#7201a8"
             ],
             [
              0.3333333333333333,
              "#9c179e"
             ],
             [
              0.4444444444444444,
              "#bd3786"
             ],
             [
              0.5555555555555556,
              "#d8576b"
             ],
             [
              0.6666666666666666,
              "#ed7953"
             ],
             [
              0.7777777777777778,
              "#fb9f3a"
             ],
             [
              0.8888888888888888,
              "#fdca26"
             ],
             [
              1,
              "#f0f921"
             ]
            ],
            "type": "histogram2dcontour"
           }
          ],
          "mesh3d": [
           {
            "colorbar": {
             "outlinewidth": 0,
             "ticks": ""
            },
            "type": "mesh3d"
           }
          ],
          "parcoords": [
           {
            "line": {
             "colorbar": {
              "outlinewidth": 0,
              "ticks": ""
             }
            },
            "type": "parcoords"
           }
          ],
          "pie": [
           {
            "automargin": true,
            "type": "pie"
           }
          ],
          "scatter": [
           {
            "marker": {
             "colorbar": {
              "outlinewidth": 0,
              "ticks": ""
             }
            },
            "type": "scatter"
           }
          ],
          "scatter3d": [
           {
            "line": {
             "colorbar": {
              "outlinewidth": 0,
              "ticks": ""
             }
            },
            "marker": {
             "colorbar": {
              "outlinewidth": 0,
              "ticks": ""
             }
            },
            "type": "scatter3d"
           }
          ],
          "scattercarpet": [
           {
            "marker": {
             "colorbar": {
              "outlinewidth": 0,
              "ticks": ""
             }
            },
            "type": "scattercarpet"
           }
          ],
          "scattergeo": [
           {
            "marker": {
             "colorbar": {
              "outlinewidth": 0,
              "ticks": ""
             }
            },
            "type": "scattergeo"
           }
          ],
          "scattergl": [
           {
            "marker": {
             "colorbar": {
              "outlinewidth": 0,
              "ticks": ""
             }
            },
            "type": "scattergl"
           }
          ],
          "scattermapbox": [
           {
            "marker": {
             "colorbar": {
              "outlinewidth": 0,
              "ticks": ""
             }
            },
            "type": "scattermapbox"
           }
          ],
          "scatterpolar": [
           {
            "marker": {
             "colorbar": {
              "outlinewidth": 0,
              "ticks": ""
             }
            },
            "type": "scatterpolar"
           }
          ],
          "scatterpolargl": [
           {
            "marker": {
             "colorbar": {
              "outlinewidth": 0,
              "ticks": ""
             }
            },
            "type": "scatterpolargl"
           }
          ],
          "scatterternary": [
           {
            "marker": {
             "colorbar": {
              "outlinewidth": 0,
              "ticks": ""
             }
            },
            "type": "scatterternary"
           }
          ],
          "surface": [
           {
            "colorbar": {
             "outlinewidth": 0,
             "ticks": ""
            },
            "colorscale": [
             [
              0,
              "#0d0887"
             ],
             [
              0.1111111111111111,
              "#46039f"
             ],
             [
              0.2222222222222222,
              "#7201a8"
             ],
             [
              0.3333333333333333,
              "#9c179e"
             ],
             [
              0.4444444444444444,
              "#bd3786"
             ],
             [
              0.5555555555555556,
              "#d8576b"
             ],
             [
              0.6666666666666666,
              "#ed7953"
             ],
             [
              0.7777777777777778,
              "#fb9f3a"
             ],
             [
              0.8888888888888888,
              "#fdca26"
             ],
             [
              1,
              "#f0f921"
             ]
            ],
            "type": "surface"
           }
          ],
          "table": [
           {
            "cells": {
             "fill": {
              "color": "#EBF0F8"
             },
             "line": {
              "color": "white"
             }
            },
            "header": {
             "fill": {
              "color": "#C8D4E3"
             },
             "line": {
              "color": "white"
             }
            },
            "type": "table"
           }
          ]
         },
         "layout": {
          "annotationdefaults": {
           "arrowcolor": "#2a3f5f",
           "arrowhead": 0,
           "arrowwidth": 1
          },
          "autotypenumbers": "strict",
          "coloraxis": {
           "colorbar": {
            "outlinewidth": 0,
            "ticks": ""
           }
          },
          "colorscale": {
           "diverging": [
            [
             0,
             "#8e0152"
            ],
            [
             0.1,
             "#c51b7d"
            ],
            [
             0.2,
             "#de77ae"
            ],
            [
             0.3,
             "#f1b6da"
            ],
            [
             0.4,
             "#fde0ef"
            ],
            [
             0.5,
             "#f7f7f7"
            ],
            [
             0.6,
             "#e6f5d0"
            ],
            [
             0.7,
             "#b8e186"
            ],
            [
             0.8,
             "#7fbc41"
            ],
            [
             0.9,
             "#4d9221"
            ],
            [
             1,
             "#276419"
            ]
           ],
           "sequential": [
            [
             0,
             "#0d0887"
            ],
            [
             0.1111111111111111,
             "#46039f"
            ],
            [
             0.2222222222222222,
             "#7201a8"
            ],
            [
             0.3333333333333333,
             "#9c179e"
            ],
            [
             0.4444444444444444,
             "#bd3786"
            ],
            [
             0.5555555555555556,
             "#d8576b"
            ],
            [
             0.6666666666666666,
             "#ed7953"
            ],
            [
             0.7777777777777778,
             "#fb9f3a"
            ],
            [
             0.8888888888888888,
             "#fdca26"
            ],
            [
             1,
             "#f0f921"
            ]
           ],
           "sequentialminus": [
            [
             0,
             "#0d0887"
            ],
            [
             0.1111111111111111,
             "#46039f"
            ],
            [
             0.2222222222222222,
             "#7201a8"
            ],
            [
             0.3333333333333333,
             "#9c179e"
            ],
            [
             0.4444444444444444,
             "#bd3786"
            ],
            [
             0.5555555555555556,
             "#d8576b"
            ],
            [
             0.6666666666666666,
             "#ed7953"
            ],
            [
             0.7777777777777778,
             "#fb9f3a"
            ],
            [
             0.8888888888888888,
             "#fdca26"
            ],
            [
             1,
             "#f0f921"
            ]
           ]
          },
          "colorway": [
           "#636efa",
           "#EF553B",
           "#00cc96",
           "#ab63fa",
           "#FFA15A",
           "#19d3f3",
           "#FF6692",
           "#B6E880",
           "#FF97FF",
           "#FECB52"
          ],
          "font": {
           "color": "#2a3f5f"
          },
          "geo": {
           "bgcolor": "white",
           "lakecolor": "white",
           "landcolor": "#E5ECF6",
           "showlakes": true,
           "showland": true,
           "subunitcolor": "white"
          },
          "hoverlabel": {
           "align": "left"
          },
          "hovermode": "closest",
          "mapbox": {
           "style": "light"
          },
          "paper_bgcolor": "white",
          "plot_bgcolor": "#E5ECF6",
          "polar": {
           "angularaxis": {
            "gridcolor": "white",
            "linecolor": "white",
            "ticks": ""
           },
           "bgcolor": "#E5ECF6",
           "radialaxis": {
            "gridcolor": "white",
            "linecolor": "white",
            "ticks": ""
           }
          },
          "scene": {
           "xaxis": {
            "backgroundcolor": "#E5ECF6",
            "gridcolor": "white",
            "gridwidth": 2,
            "linecolor": "white",
            "showbackground": true,
            "ticks": "",
            "zerolinecolor": "white"
           },
           "yaxis": {
            "backgroundcolor": "#E5ECF6",
            "gridcolor": "white",
            "gridwidth": 2,
            "linecolor": "white",
            "showbackground": true,
            "ticks": "",
            "zerolinecolor": "white"
           },
           "zaxis": {
            "backgroundcolor": "#E5ECF6",
            "gridcolor": "white",
            "gridwidth": 2,
            "linecolor": "white",
            "showbackground": true,
            "ticks": "",
            "zerolinecolor": "white"
           }
          },
          "shapedefaults": {
           "line": {
            "color": "#2a3f5f"
           }
          },
          "ternary": {
           "aaxis": {
            "gridcolor": "white",
            "linecolor": "white",
            "ticks": ""
           },
           "baxis": {
            "gridcolor": "white",
            "linecolor": "white",
            "ticks": ""
           },
           "bgcolor": "#E5ECF6",
           "caxis": {
            "gridcolor": "white",
            "linecolor": "white",
            "ticks": ""
           }
          },
          "title": {
           "x": 0.05
          },
          "xaxis": {
           "automargin": true,
           "gridcolor": "white",
           "linecolor": "white",
           "ticks": "",
           "title": {
            "standoff": 15
           },
           "zerolinecolor": "white",
           "zerolinewidth": 2
          },
          "yaxis": {
           "automargin": true,
           "gridcolor": "white",
           "linecolor": "white",
           "ticks": "",
           "title": {
            "standoff": 15
           },
           "zerolinecolor": "white",
           "zerolinewidth": 2
          }
         }
        },
        "title": {
         "text": "Hyperparameter Importances"
        },
        "xaxis": {
         "title": {
          "text": "Importance for Objective Value"
         }
        },
        "yaxis": {
         "title": {
          "text": "Hyperparameter"
         }
        }
       }
      },
      "text/html": [
       "<div>                            <div id=\"e472b00f-accd-4dec-8b6f-a1139e7ddc40\" class=\"plotly-graph-div\" style=\"height:525px; width:100%;\"></div>            <script type=\"text/javascript\">                require([\"plotly\"], function(Plotly) {                    window.PLOTLYENV=window.PLOTLYENV || {};                                    if (document.getElementById(\"e472b00f-accd-4dec-8b6f-a1139e7ddc40\")) {                    Plotly.newPlot(                        \"e472b00f-accd-4dec-8b6f-a1139e7ddc40\",                        [{\"cliponaxis\":false,\"hovertemplate\":[\"early_stopping_rounds (CategoricalDistribution): 0.0<extra></extra>\",\"eval_metric (CategoricalDistribution): 0.0<extra></extra>\",\"n_estimators (CategoricalDistribution): 0.0<extra></extra>\",\"random_state (CategoricalDistribution): 0.0<extra></extra>\",\"tree_method (CategoricalDistribution): 0.0<extra></extra>\",\"lambda (LogUniformDistribution): 0.03376057762016187<extra></extra>\",\"colsample_bytree (CategoricalDistribution): 0.03790423841743536<extra></extra>\",\"max_depth (CategoricalDistribution): 0.0568443939202599<extra></extra>\",\"gamma (CategoricalDistribution): 0.05951695615797178<extra></extra>\",\"subsample (CategoricalDistribution): 0.11245482896242288<extra></extra>\",\"learning_rate (CategoricalDistribution): 0.13421908624802767<extra></extra>\",\"alpha (LogUniformDistribution): 0.24756873445957667<extra></extra>\",\"min_child_weight (IntUniformDistribution): 0.317731184214144<extra></extra>\"],\"marker\":{\"color\":\"rgb(66,146,198)\"},\"orientation\":\"h\",\"text\":[\"0.0\",\"0.0\",\"0.0\",\"0.0\",\"0.0\",\"0.03376057762016187\",\"0.03790423841743536\",\"0.0568443939202599\",\"0.05951695615797178\",\"0.11245482896242288\",\"0.13421908624802767\",\"0.24756873445957667\",\"0.317731184214144\"],\"textposition\":\"outside\",\"texttemplate\":\"%{text:.2f}\",\"x\":[0.0,0.0,0.0,0.0,0.0,0.03376057762016187,0.03790423841743536,0.0568443939202599,0.05951695615797178,0.11245482896242288,0.13421908624802767,0.24756873445957667,0.317731184214144],\"y\":[\"early_stopping_rounds\",\"eval_metric\",\"n_estimators\",\"random_state\",\"tree_method\",\"lambda\",\"colsample_bytree\",\"max_depth\",\"gamma\",\"subsample\",\"learning_rate\",\"alpha\",\"min_child_weight\"],\"type\":\"bar\"}],                        {\"showlegend\":false,\"title\":{\"text\":\"Hyperparameter Importances\"},\"xaxis\":{\"title\":{\"text\":\"Importance for Objective Value\"}},\"yaxis\":{\"title\":{\"text\":\"Hyperparameter\"}},\"template\":{\"data\":{\"bar\":[{\"error_x\":{\"color\":\"#2a3f5f\"},\"error_y\":{\"color\":\"#2a3f5f\"},\"marker\":{\"line\":{\"color\":\"#E5ECF6\",\"width\":0.5},\"pattern\":{\"fillmode\":\"overlay\",\"size\":10,\"solidity\":0.2}},\"type\":\"bar\"}],\"barpolar\":[{\"marker\":{\"line\":{\"color\":\"#E5ECF6\",\"width\":0.5},\"pattern\":{\"fillmode\":\"overlay\",\"size\":10,\"solidity\":0.2}},\"type\":\"barpolar\"}],\"carpet\":[{\"aaxis\":{\"endlinecolor\":\"#2a3f5f\",\"gridcolor\":\"white\",\"linecolor\":\"white\",\"minorgridcolor\":\"white\",\"startlinecolor\":\"#2a3f5f\"},\"baxis\":{\"endlinecolor\":\"#2a3f5f\",\"gridcolor\":\"white\",\"linecolor\":\"white\",\"minorgridcolor\":\"white\",\"startlinecolor\":\"#2a3f5f\"},\"type\":\"carpet\"}],\"choropleth\":[{\"colorbar\":{\"outlinewidth\":0,\"ticks\":\"\"},\"type\":\"choropleth\"}],\"contour\":[{\"colorbar\":{\"outlinewidth\":0,\"ticks\":\"\"},\"colorscale\":[[0.0,\"#0d0887\"],[0.1111111111111111,\"#46039f\"],[0.2222222222222222,\"#7201a8\"],[0.3333333333333333,\"#9c179e\"],[0.4444444444444444,\"#bd3786\"],[0.5555555555555556,\"#d8576b\"],[0.6666666666666666,\"#ed7953\"],[0.7777777777777778,\"#fb9f3a\"],[0.8888888888888888,\"#fdca26\"],[1.0,\"#f0f921\"]],\"type\":\"contour\"}],\"contourcarpet\":[{\"colorbar\":{\"outlinewidth\":0,\"ticks\":\"\"},\"type\":\"contourcarpet\"}],\"heatmap\":[{\"colorbar\":{\"outlinewidth\":0,\"ticks\":\"\"},\"colorscale\":[[0.0,\"#0d0887\"],[0.1111111111111111,\"#46039f\"],[0.2222222222222222,\"#7201a8\"],[0.3333333333333333,\"#9c179e\"],[0.4444444444444444,\"#bd3786\"],[0.5555555555555556,\"#d8576b\"],[0.6666666666666666,\"#ed7953\"],[0.7777777777777778,\"#fb9f3a\"],[0.8888888888888888,\"#fdca26\"],[1.0,\"#f0f921\"]],\"type\":\"heatmap\"}],\"heatmapgl\":[{\"colorbar\":{\"outlinewidth\":0,\"ticks\":\"\"},\"colorscale\":[[0.0,\"#0d0887\"],[0.1111111111111111,\"#46039f\"],[0.2222222222222222,\"#7201a8\"],[0.3333333333333333,\"#9c179e\"],[0.4444444444444444,\"#bd3786\"],[0.5555555555555556,\"#d8576b\"],[0.6666666666666666,\"#ed7953\"],[0.7777777777777778,\"#fb9f3a\"],[0.8888888888888888,\"#fdca26\"],[1.0,\"#f0f921\"]],\"type\":\"heatmapgl\"}],\"histogram\":[{\"marker\":{\"pattern\":{\"fillmode\":\"overlay\",\"size\":10,\"solidity\":0.2}},\"type\":\"histogram\"}],\"histogram2d\":[{\"colorbar\":{\"outlinewidth\":0,\"ticks\":\"\"},\"colorscale\":[[0.0,\"#0d0887\"],[0.1111111111111111,\"#46039f\"],[0.2222222222222222,\"#7201a8\"],[0.3333333333333333,\"#9c179e\"],[0.4444444444444444,\"#bd3786\"],[0.5555555555555556,\"#d8576b\"],[0.6666666666666666,\"#ed7953\"],[0.7777777777777778,\"#fb9f3a\"],[0.8888888888888888,\"#fdca26\"],[1.0,\"#f0f921\"]],\"type\":\"histogram2d\"}],\"histogram2dcontour\":[{\"colorbar\":{\"outlinewidth\":0,\"ticks\":\"\"},\"colorscale\":[[0.0,\"#0d0887\"],[0.1111111111111111,\"#46039f\"],[0.2222222222222222,\"#7201a8\"],[0.3333333333333333,\"#9c179e\"],[0.4444444444444444,\"#bd3786\"],[0.5555555555555556,\"#d8576b\"],[0.6666666666666666,\"#ed7953\"],[0.7777777777777778,\"#fb9f3a\"],[0.8888888888888888,\"#fdca26\"],[1.0,\"#f0f921\"]],\"type\":\"histogram2dcontour\"}],\"mesh3d\":[{\"colorbar\":{\"outlinewidth\":0,\"ticks\":\"\"},\"type\":\"mesh3d\"}],\"parcoords\":[{\"line\":{\"colorbar\":{\"outlinewidth\":0,\"ticks\":\"\"}},\"type\":\"parcoords\"}],\"pie\":[{\"automargin\":true,\"type\":\"pie\"}],\"scatter\":[{\"marker\":{\"colorbar\":{\"outlinewidth\":0,\"ticks\":\"\"}},\"type\":\"scatter\"}],\"scatter3d\":[{\"line\":{\"colorbar\":{\"outlinewidth\":0,\"ticks\":\"\"}},\"marker\":{\"colorbar\":{\"outlinewidth\":0,\"ticks\":\"\"}},\"type\":\"scatter3d\"}],\"scattercarpet\":[{\"marker\":{\"colorbar\":{\"outlinewidth\":0,\"ticks\":\"\"}},\"type\":\"scattercarpet\"}],\"scattergeo\":[{\"marker\":{\"colorbar\":{\"outlinewidth\":0,\"ticks\":\"\"}},\"type\":\"scattergeo\"}],\"scattergl\":[{\"marker\":{\"colorbar\":{\"outlinewidth\":0,\"ticks\":\"\"}},\"type\":\"scattergl\"}],\"scattermapbox\":[{\"marker\":{\"colorbar\":{\"outlinewidth\":0,\"ticks\":\"\"}},\"type\":\"scattermapbox\"}],\"scatterpolar\":[{\"marker\":{\"colorbar\":{\"outlinewidth\":0,\"ticks\":\"\"}},\"type\":\"scatterpolar\"}],\"scatterpolargl\":[{\"marker\":{\"colorbar\":{\"outlinewidth\":0,\"ticks\":\"\"}},\"type\":\"scatterpolargl\"}],\"scatterternary\":[{\"marker\":{\"colorbar\":{\"outlinewidth\":0,\"ticks\":\"\"}},\"type\":\"scatterternary\"}],\"surface\":[{\"colorbar\":{\"outlinewidth\":0,\"ticks\":\"\"},\"colorscale\":[[0.0,\"#0d0887\"],[0.1111111111111111,\"#46039f\"],[0.2222222222222222,\"#7201a8\"],[0.3333333333333333,\"#9c179e\"],[0.4444444444444444,\"#bd3786\"],[0.5555555555555556,\"#d8576b\"],[0.6666666666666666,\"#ed7953\"],[0.7777777777777778,\"#fb9f3a\"],[0.8888888888888888,\"#fdca26\"],[1.0,\"#f0f921\"]],\"type\":\"surface\"}],\"table\":[{\"cells\":{\"fill\":{\"color\":\"#EBF0F8\"},\"line\":{\"color\":\"white\"}},\"header\":{\"fill\":{\"color\":\"#C8D4E3\"},\"line\":{\"color\":\"white\"}},\"type\":\"table\"}]},\"layout\":{\"annotationdefaults\":{\"arrowcolor\":\"#2a3f5f\",\"arrowhead\":0,\"arrowwidth\":1},\"autotypenumbers\":\"strict\",\"coloraxis\":{\"colorbar\":{\"outlinewidth\":0,\"ticks\":\"\"}},\"colorscale\":{\"diverging\":[[0,\"#8e0152\"],[0.1,\"#c51b7d\"],[0.2,\"#de77ae\"],[0.3,\"#f1b6da\"],[0.4,\"#fde0ef\"],[0.5,\"#f7f7f7\"],[0.6,\"#e6f5d0\"],[0.7,\"#b8e186\"],[0.8,\"#7fbc41\"],[0.9,\"#4d9221\"],[1,\"#276419\"]],\"sequential\":[[0.0,\"#0d0887\"],[0.1111111111111111,\"#46039f\"],[0.2222222222222222,\"#7201a8\"],[0.3333333333333333,\"#9c179e\"],[0.4444444444444444,\"#bd3786\"],[0.5555555555555556,\"#d8576b\"],[0.6666666666666666,\"#ed7953\"],[0.7777777777777778,\"#fb9f3a\"],[0.8888888888888888,\"#fdca26\"],[1.0,\"#f0f921\"]],\"sequentialminus\":[[0.0,\"#0d0887\"],[0.1111111111111111,\"#46039f\"],[0.2222222222222222,\"#7201a8\"],[0.3333333333333333,\"#9c179e\"],[0.4444444444444444,\"#bd3786\"],[0.5555555555555556,\"#d8576b\"],[0.6666666666666666,\"#ed7953\"],[0.7777777777777778,\"#fb9f3a\"],[0.8888888888888888,\"#fdca26\"],[1.0,\"#f0f921\"]]},\"colorway\":[\"#636efa\",\"#EF553B\",\"#00cc96\",\"#ab63fa\",\"#FFA15A\",\"#19d3f3\",\"#FF6692\",\"#B6E880\",\"#FF97FF\",\"#FECB52\"],\"font\":{\"color\":\"#2a3f5f\"},\"geo\":{\"bgcolor\":\"white\",\"lakecolor\":\"white\",\"landcolor\":\"#E5ECF6\",\"showlakes\":true,\"showland\":true,\"subunitcolor\":\"white\"},\"hoverlabel\":{\"align\":\"left\"},\"hovermode\":\"closest\",\"mapbox\":{\"style\":\"light\"},\"paper_bgcolor\":\"white\",\"plot_bgcolor\":\"#E5ECF6\",\"polar\":{\"angularaxis\":{\"gridcolor\":\"white\",\"linecolor\":\"white\",\"ticks\":\"\"},\"bgcolor\":\"#E5ECF6\",\"radialaxis\":{\"gridcolor\":\"white\",\"linecolor\":\"white\",\"ticks\":\"\"}},\"scene\":{\"xaxis\":{\"backgroundcolor\":\"#E5ECF6\",\"gridcolor\":\"white\",\"gridwidth\":2,\"linecolor\":\"white\",\"showbackground\":true,\"ticks\":\"\",\"zerolinecolor\":\"white\"},\"yaxis\":{\"backgroundcolor\":\"#E5ECF6\",\"gridcolor\":\"white\",\"gridwidth\":2,\"linecolor\":\"white\",\"showbackground\":true,\"ticks\":\"\",\"zerolinecolor\":\"white\"},\"zaxis\":{\"backgroundcolor\":\"#E5ECF6\",\"gridcolor\":\"white\",\"gridwidth\":2,\"linecolor\":\"white\",\"showbackground\":true,\"ticks\":\"\",\"zerolinecolor\":\"white\"}},\"shapedefaults\":{\"line\":{\"color\":\"#2a3f5f\"}},\"ternary\":{\"aaxis\":{\"gridcolor\":\"white\",\"linecolor\":\"white\",\"ticks\":\"\"},\"baxis\":{\"gridcolor\":\"white\",\"linecolor\":\"white\",\"ticks\":\"\"},\"bgcolor\":\"#E5ECF6\",\"caxis\":{\"gridcolor\":\"white\",\"linecolor\":\"white\",\"ticks\":\"\"}},\"title\":{\"x\":0.05},\"xaxis\":{\"automargin\":true,\"gridcolor\":\"white\",\"linecolor\":\"white\",\"ticks\":\"\",\"title\":{\"standoff\":15},\"zerolinecolor\":\"white\",\"zerolinewidth\":2},\"yaxis\":{\"automargin\":true,\"gridcolor\":\"white\",\"linecolor\":\"white\",\"ticks\":\"\",\"title\":{\"standoff\":15},\"zerolinecolor\":\"white\",\"zerolinewidth\":2}}}},                        {\"responsive\": true}                    ).then(function(){\n",
       "                            \n",
       "var gd = document.getElementById('e472b00f-accd-4dec-8b6f-a1139e7ddc40');\n",
       "var x = new MutationObserver(function (mutations, observer) {{\n",
       "        var display = window.getComputedStyle(gd).display;\n",
       "        if (!display || display === 'none') {{\n",
       "            console.log([gd, 'removed!']);\n",
       "            Plotly.purge(gd);\n",
       "            observer.disconnect();\n",
       "        }}\n",
       "}});\n",
       "\n",
       "// Listen for the removal of the full notebook cells\n",
       "var notebookContainer = gd.closest('#notebook-container');\n",
       "if (notebookContainer) {{\n",
       "    x.observe(notebookContainer, {childList: true});\n",
       "}}\n",
       "\n",
       "// Listen for the clearing of the current output cell\n",
       "var outputEl = gd.closest('.output');\n",
       "if (outputEl) {{\n",
       "    x.observe(outputEl, {childList: true});\n",
       "}}\n",
       "\n",
       "                        })                };                });            </script>        </div>"
      ]
     },
     "metadata": {},
     "output_type": "display_data"
    }
   ],
   "source": [
    "#Visualize parameter importance\n",
    "optuna.visualization.plot_param_importances(study_results)"
   ]
  },
  {
   "cell_type": "code",
   "execution_count": 29,
   "metadata": {
    "execution": {
     "iopub.execute_input": "2022-05-17T08:36:38.961699Z",
     "iopub.status.busy": "2022-05-17T08:36:38.961365Z",
     "iopub.status.idle": "2022-05-17T08:36:38.968410Z",
     "shell.execute_reply": "2022-05-17T08:36:38.967438Z",
     "shell.execute_reply.started": "2022-05-17T08:36:38.961652Z"
    }
   },
   "outputs": [],
   "source": [
    "if alert_flag == 1:\n",
    "    if kaggle_flag == 0:   # not Kaggle\n",
    "        engine.say(\"Optuna run completed.\")\n",
    "        engine.runAndWait()\n",
    "    else:\n",
    "        display(Audio(url=audio_path, autoplay=True))"
   ]
  },
  {
   "cell_type": "markdown",
   "metadata": {
    "execution": {
     "iopub.execute_input": "2022-05-17T07:15:49.429758Z",
     "iopub.status.busy": "2022-05-17T07:15:49.429388Z",
     "iopub.status.idle": "2022-05-17T07:15:49.458798Z",
     "shell.execute_reply": "2022-05-17T07:15:49.457385Z",
     "shell.execute_reply.started": "2022-05-17T07:15:49.429667Z"
    }
   },
   "source": [
    "<i><a style=\"color:DarkSlateGrey\" href=\"#toc\">Back to Table Of Contents</a></i>"
   ]
  },
  {
   "cell_type": "markdown",
   "metadata": {},
   "source": [
    "<a id=\"try_best_hp\"></a>\n",
    "<div style=\"font-family: Trebuchet MS;background-color:DarkCyan;color:Azure;text-align: left;padding-top: 5px;padding-bottom: 20px;padding-left: 20px;padding-right: 10px;border-radius: 15px 50px;letter-spacing: 2px;\">\n",
    "    <h2 style='color:GhostWhite;'>1.4 Model v4 : Try the Optuna Hyperparameters</h2>\n",
    "</div>"
   ]
  },
  {
   "cell_type": "code",
   "execution_count": 128,
   "metadata": {
    "execution": {
     "iopub.execute_input": "2022-05-17T08:36:38.975237Z",
     "iopub.status.busy": "2022-05-17T08:36:38.973421Z",
     "iopub.status.idle": "2022-05-17T08:38:25.150111Z",
     "shell.execute_reply": "2022-05-17T08:38:25.149064Z",
     "shell.execute_reply.started": "2022-05-17T08:36:38.975180Z"
    }
   },
   "outputs": [
    {
     "name": "stdout",
     "output_type": "stream",
     "text": [
      "MIS_Status Count ->  1 : 714212, 0 : 154451\n",
      "\n",
      "X_train size :  608064\n",
      "X_valid size :  130299\n",
      "X_test size  :  130300\n",
      "\n",
      "\u001b[1m\u001b[92mPlease wait, resampling train data\u001b[0m\n",
      "\n",
      "Before Resampling train -> 1 : 499948, 0 : 108116\n",
      "After Resampling  train -> 1 : 499948, 0 : 499948\n",
      "\n",
      "\u001b[1m\u001b[94mResampling \u001b[0mRuntime : 0:00:00.934546\n",
      "\n",
      "\u001b[1mPlease wait, Fitting model can take time ...\u001b[0m\n",
      "Fitting model completed.\n",
      "\n",
      "Preparing Predictions\n",
      "\n",
      "\u001b[4mMetrics : After Optuna Tuning\u001b[0m\n",
      "\n",
      "\u001b[1my_valid RMSE: \u001b[1m\u001b[92m\u001b[4m0.24033198066874853\u001b[0m\n",
      "\n",
      "\u001b[1my_valid f1 score: \u001b[1m\u001b[92m\u001b[4m96.47368618337207\u001b[0m\n",
      "\n",
      "------------------------------\n",
      "\n",
      "\u001b[1mConfusion Matrix using Validation Data (y_valid)\u001b[0m\n",
      "\n",
      "True Negative : CHGOFF (0) was predicted 19824 times correctly     (82.58 %)\n",
      "False Negative : CHGOFF (0) was predicted 4183 times incorrectly     (17.42 %)\n",
      "True Positive : P I F (1) was predicted 102949 times correctly     (96.85 %)\n",
      "False Positive : P I F (1) was predicted 3343 times incorrectly     (3.15 %)\n",
      "Total boosted rounds: 608\n",
      "CPU times: total: 13min 23s\n",
      "Wall time: 2min 20s\n"
     ]
    },
    {
     "data": {
      "image/png": "[encoded data removed]",
      "text/plain": [
       "<Figure size 600x600 with 1 Axes>"
      ]
     },
     "metadata": {
      "needs_background": "light"
     },
     "output_type": "display_data"
    }
   ],
   "source": [
    "%%time\n",
    "\n",
    "def RunModelv4():\n",
    "    X = pd.read_feather(final_ds)\n",
    "    #X = X.head(500)      # uncomment for testing\n",
    "    y = X.pop('MIS_Status')\n",
    "    \n",
    "    model4 = process_model(X, y)\n",
    "    model4.split_data(0.7)\n",
    "    model4.osample(os_data = [1,0,0])\n",
    "    \n",
    "    model4.X, model4.y = None, None\n",
    "    del X, y\n",
    "    gc.collect()\n",
    "    sleep(3)\n",
    "    \n",
    "    model4_results = model4.prep_run_model(\"Metrics : After Optuna Tuning\",\n",
    "                                           hyperparams = best_trial)\n",
    "    \n",
    "    text_boosted = \\\n",
    "        f\"Total boosted rounds: {model4_results['xg_model'].get_booster().num_boosted_rounds()}\"\n",
    "    print(text_boosted)\n",
    "    \n",
    "    # save to files for reuse later\n",
    "    model4_results['xg_model'].save_model(f'{workdir}modelv4.json')\n",
    "    joblib.dump(model4_results, f\"{workdir}model4_results.dict\")   \n",
    "\n",
    "#with warnings.catch_warnings():\n",
    "#    warnings.filterwarnings('ignore')\n",
    "#    warnings.simplefilter(\"ignore\")\n",
    "RunModelv4()"
   ]
  },
  {
   "cell_type": "markdown",
   "metadata": {
    "execution": {
     "iopub.execute_input": "2022-05-17T07:15:49.429758Z",
     "iopub.status.busy": "2022-05-17T07:15:49.429388Z",
     "iopub.status.idle": "2022-05-17T07:15:49.458798Z",
     "shell.execute_reply": "2022-05-17T07:15:49.457385Z",
     "shell.execute_reply.started": "2022-05-17T07:15:49.429667Z"
    }
   },
   "source": [
    "<i><a style=\"color:DarkSlateGrey\" href=\"#toc\">Back to Table Of Contents</a></i>"
   ]
  },
  {
   "cell_type": "markdown",
   "metadata": {},
   "source": [
    "<a id=\"optuna_comparison\"></a>\n",
    "<div style=\"font-family: Trebuchet MS;background-color:DarkCyan;color:Azure;text-align: left;padding-top: 5px;padding-bottom: 20px;padding-left: 20px;padding-right: 10px;border-radius: 15px 50px;letter-spacing: 2px;\">\n",
    "    <h2 style='color:GhostWhite;'>1.5 Optuna Tuning Comparison</h2>\n",
    "</div>"
   ]
  },
  {
   "cell_type": "markdown",
   "metadata": {},
   "source": [
    "<div class=\"alert alert-block alert-info\">\n",
    "    <b>Compare metrics before and after Optuna tuning.</b><br><br>\n",
    "    Comparison is made between modelv3 results in <a style=\"color:DarkSlateGrey\" href=\"https://www.kaggle.com/code/josephramon/sba-xgboost-model\">Part 1 Notebook</a> and modelv4 results here.\n",
    "  </div>"
   ]
  },
  {
   "cell_type": "code",
   "execution_count": 138,
   "metadata": {
    "execution": {
     "iopub.execute_input": "2022-05-17T08:38:25.152657Z",
     "iopub.status.busy": "2022-05-17T08:38:25.152114Z",
     "iopub.status.idle": "2022-05-17T08:38:26.195140Z",
     "shell.execute_reply": "2022-05-17T08:38:26.194108Z",
     "shell.execute_reply.started": "2022-05-17T08:38:25.152613Z"
    }
   },
   "outputs": [
    {
     "data": {
      "text/plain": [
       "{'0': {'precision': 0.7280426171288076,\n",
       "  'recall': 0.9202745284240514,\n",
       "  'f1-score': 0.8129492288040266,\n",
       "  'support': 23167},\n",
       " '1': {'precision': 0.9817155867940405,\n",
       "  'recall': 0.9256618003957734,\n",
       "  'f1-score': 0.9528650424940066,\n",
       "  'support': 107132},\n",
       " 'accuracy': 0.9247039501454347,\n",
       " 'macro avg': {'precision': 0.854879101961424,\n",
       "  'recall': 0.9229681644099124,\n",
       "  'f1-score': 0.8829071356490166,\n",
       "  'support': 130299},\n",
       " 'weighted avg': {'precision': 0.936612848567082,\n",
       "  'recall': 0.9247039501454347,\n",
       "  'f1-score': 0.9279881849912187,\n",
       "  'support': 130299}}"
      ]
     },
     "metadata": {},
     "output_type": "display_data"
    },
    {
     "name": "stdout",
     "output_type": "stream",
     "text": [
      "\u001b[1m\u001b[92mF1_Score Improvement Using Optuna Suggested Parameters:\u001b[0m\n",
      "\u001b[1mImproved by \u001b[1m\u001b[94m4.0\u001b[0m\n"
     ]
    },
    {
     "data": {
      "text/html": [
       "<div>\n",
       "<style scoped>\n",
       "    .dataframe tbody tr th:only-of-type {\n",
       "        vertical-align: middle;\n",
       "    }\n",
       "\n",
       "    .dataframe tbody tr th {\n",
       "        vertical-align: top;\n",
       "    }\n",
       "\n",
       "    .dataframe thead th {\n",
       "        text-align: right;\n",
       "    }\n",
       "</style>\n",
       "<table border=\"1\" class=\"dataframe\">\n",
       "  <thead>\n",
       "    <tr style=\"text-align: right;\">\n",
       "      <th></th>\n",
       "      <th>Model v3 : No Optuna</th>\n",
       "      <th>Model v4 : With Optuna</th>\n",
       "    </tr>\n",
       "  </thead>\n",
       "  <tbody>\n",
       "    <tr>\n",
       "      <th>0 : f1_score</th>\n",
       "      <td>81.294923</td>\n",
       "      <td>84.046297</td>\n",
       "    </tr>\n",
       "    <tr>\n",
       "      <th>1 : f1_score</th>\n",
       "      <td>95.286504</td>\n",
       "      <td>96.473686</td>\n",
       "    </tr>\n",
       "    <tr>\n",
       "      <th>Precision</th>\n",
       "      <td>0.924704</td>\n",
       "      <td>0.942241</td>\n",
       "    </tr>\n",
       "    <tr>\n",
       "      <th>Recall Sensitivity</th>\n",
       "      <td>0.925662</td>\n",
       "      <td>0.960955</td>\n",
       "    </tr>\n",
       "    <tr>\n",
       "      <th>Recall Specificity</th>\n",
       "      <td>0.920275</td>\n",
       "      <td>0.855700</td>\n",
       "    </tr>\n",
       "    <tr>\n",
       "      <th>f1_score</th>\n",
       "      <td>92.470395</td>\n",
       "      <td>96.473686</td>\n",
       "    </tr>\n",
       "  </tbody>\n",
       "</table>\n",
       "</div>"
      ],
      "text/plain": [
       "                    Model v3 : No Optuna  Model v4 : With Optuna\n",
       "0 : f1_score                   81.294923               84.046297\n",
       "1 : f1_score                   95.286504               96.473686\n",
       "Precision                       0.924704                0.942241\n",
       "Recall Sensitivity              0.925662                0.960955\n",
       "Recall Specificity              0.920275                0.855700\n",
       "f1_score                       92.470395               96.473686"
      ]
     },
     "execution_count": 138,
     "metadata": {},
     "output_type": "execute_result"
    }
   ],
   "source": [
    "def CompareResults():\n",
    "    model3_results = joblib.load(f\"{inputdir}model3_results.dict\")\n",
    "    model4_results = joblib.load(f\"{workdir}model4_results.dict\")\n",
    "    \n",
    "    preds         = model3_results['xg_model'].predict(model3_results['X_valid'])\n",
    "    m3_clf_report = classification_report(model3_results['y_valid'],\n",
    "                                                 preds.round(),output_dict=True)\n",
    "    m3_0_f1_score = m3_clf_report['0']['f1-score'] * 100\n",
    "    m3_1_f1_score = m3_clf_report['1']['f1-score'] * 100\n",
    "    m3_accuracy   = m3_clf_report['accuracy'] * 100\n",
    "    \n",
    "    #get more metrics\n",
    "    m3_precision = metrics.precision_score(model3_results['y_valid'], preds)\n",
    "    m3_recall_sensitivity = metrics.recall_score(model3_results['y_valid'], preds, pos_label=1)\n",
    "    m3_recall_specificity = metrics.recall_score(model3_results['y_valid'], preds, pos_label=0)\n",
    "    \n",
    "    m3_f1_score   = f1_score(model3_results['y_valid'], preds) * 100\n",
    "\n",
    "    preds         = model4_results['xg_model'].predict(model4_results['X_valid'])\n",
    "    m4_clf_report = classification_report(model4_results['y_valid'],\n",
    "                                                 preds.round(),output_dict=True)\n",
    "\n",
    "    m4_0_f1_score = m4_clf_report['0']['f1-score'] * 100\n",
    "    m4_1_f1_score = m4_clf_report['1']['f1-score'] * 100\n",
    "    m4_accuracy   = m4_clf_report['accuracy'] * 100\n",
    "    \n",
    "    #get more metrics\n",
    "    m4_precision = metrics.precision_score(model4_results['y_valid'], preds)\n",
    "    m4_recall_sensitivity = metrics.recall_score(model4_results['y_valid'], preds, pos_label=1)\n",
    "    m4_recall_specificity = metrics.recall_score(model4_results['y_valid'], preds, pos_label=0)\n",
    "    \n",
    "    m4_f1_score   = f1_score(model4_results['y_valid'], preds) * 100\n",
    "\n",
    "    data = {'Model v3 : No Optuna':[m3_0_f1_score, m3_1_f1_score,\n",
    "                                    #m3_accuracy,\n",
    "                                    m3_precision,\n",
    "                                    m3_recall_sensitivity, m3_recall_specificity,\n",
    "                                    m3_f1_score],\n",
    "            'Model v4 : With Optuna':[m4_0_f1_score, m4_1_f1_score,\n",
    "                                      #m4_accuracy,\n",
    "                                      m4_precision,\n",
    "                                      m4_recall_sensitivity, m4_recall_specificity,\n",
    "                                      m4_f1_score]}\n",
    " \n",
    "    # Creates pandas DataFrame.\n",
    "    df = pd.DataFrame(data, index =['0 : f1_score',\n",
    "                                    '1 : f1_score',\n",
    "                                    #'Accuracy',\n",
    "                                    'Precision',\n",
    "                                    'Recall Sensitivity',\n",
    "                                    'Recall Specificity',\n",
    "                                    'f1_score'])\n",
    "    print('{}F1_Score Improvement Using Optuna Suggested Parameters:{}'.format(\n",
    "           mf.color.bdgreen, mf.color.end))\n",
    "\n",
    "    print('{}Improved by {}{}{}'.format(\n",
    "        mf.color.bold, mf.color.bdblue, round(m4_f1_score - m3_f1_score,2), mf.color.end))\n",
    "    return df\n",
    "\n",
    "CompareResults()"
   ]
  },
  {
   "cell_type": "markdown",
   "metadata": {},
   "source": [
    "**We can get either a slightly higher or lower score if we run Optuna again.**"
   ]
  },
  {
   "cell_type": "markdown",
   "metadata": {},
   "source": [
    "<div class=\"alert alert-block alert-info\">\n",
    "    <b>Run Modelv4 On Unseen Test Dataset</b>\n",
    "  </div>"
   ]
  },
  {
   "cell_type": "code",
   "execution_count": 74,
   "metadata": {
    "execution": {
     "iopub.execute_input": "2022-05-17T08:38:26.197727Z",
     "iopub.status.busy": "2022-05-17T08:38:26.197093Z",
     "iopub.status.idle": "2022-05-17T08:39:00.569758Z",
     "shell.execute_reply": "2022-05-17T08:39:00.568756Z",
     "shell.execute_reply.started": "2022-05-17T08:38:26.197679Z"
    }
   },
   "outputs": [
    {
     "name": "stdout",
     "output_type": "stream",
     "text": [
      "\n",
      "\u001b[1my_test RMSE: \u001b[1m\u001b[92m\u001b[4m0.2421602698961855\u001b[0m\n",
      "\n",
      "\u001b[1my_test f1 score: \u001b[1m\u001b[92m\u001b[4m94.13584036838067\u001b[0m\n",
      "\n",
      "------------------------------\n",
      "\n",
      "\u001b[1mConfusion Matrix using Unseen Test Data (y_test)\u001b[0m\n",
      "\n",
      "True Negative : CHGOFF (0) was predicted 19870 times correctly     (82.06 %)\n",
      "False Negative : CHGOFF (0) was predicted 4343 times incorrectly     (17.94 %)\n",
      "True Positive : P I F (1) was predicted 102789 times correctly     (96.89 %)\n",
      "False Positive : P I F (1) was predicted 3298 times incorrectly     (3.11 %)\n"
     ]
    },
    {
     "data": {
      "image/png": "[encoded data removed]",
      "text/plain": [
       "<Figure size 600x600 with 1 Axes>"
      ]
     },
     "metadata": {
      "needs_background": "light"
     },
     "output_type": "display_data"
    }
   ],
   "source": [
    "def Modelv4WithTestData():\n",
    "    model4_results = joblib.load(f\"{workdir}model4_results.dict\")\n",
    "    X_test = model4_results['X_test']\n",
    "    y_test = model4_results['y_test']\n",
    "    modelv4 = model4_results['xg_model']\n",
    "    \n",
    "    # Get predictions\n",
    "    predictions = modelv4.predict(X_test)\n",
    "    #mf.model_eval(y_test, predictions);\n",
    "    mf.model_eval2( modelv4,\n",
    "                    model4_results['X_train'], model4_results['y_train'],\n",
    "                    X_test, y_test,\n",
    "                    cmDisplay=True,\n",
    "                    prtstr = 'y_test')\n",
    "  \n",
    "Modelv4WithTestData()"
   ]
  },
  {
   "cell_type": "code",
   "execution_count": 31,
   "metadata": {
    "execution": {
     "iopub.execute_input": "2022-05-17T08:39:00.572161Z",
     "iopub.status.busy": "2022-05-17T08:39:00.571585Z",
     "iopub.status.idle": "2022-05-17T08:39:00.812666Z",
     "shell.execute_reply": "2022-05-17T08:39:00.811519Z",
     "shell.execute_reply.started": "2022-05-17T08:39:00.572110Z"
    }
   },
   "outputs": [
    {
     "data": {
      "text/plain": [
       "16"
      ]
     },
     "execution_count": 31,
     "metadata": {},
     "output_type": "execute_result"
    }
   ],
   "source": [
    "del best_trial, study_results\n",
    "gc.collect()"
   ]
  },
  {
   "cell_type": "markdown",
   "metadata": {},
   "source": [
    "<div class=\"alert alert-block alert-info\">\n",
    "    <b>Observation:</b><br><br>\n",
    "    <b>The Accuracy and F1 scores after Optuna tuning are improved compared to before tuning;</b> but it all depends on what hyperparameters/values are given.  A few trial sessions may be needed.<br><br>\n",
    "    We have a different score in our <a style=\"color:DarkSlateGrey\" href=\"https://www.kaggle.com/code/josephramon/sba-xgboost-model\">Pipeline</a> as we used an Optuna hyperparameter set that was obtained from another Optuna run.\n",
    "  </div>"
   ]
  },
  {
   "cell_type": "markdown",
   "metadata": {},
   "source": [
    "<a id=\"cross_validation\"></a>\n",
    "<div style=\"font-family: Trebuchet MS;background-color:DarkCyan;color:Azure;text-align: left;padding-top: 5px;padding-bottom: 20px;padding-left: 20px;padding-right: 10px;border-radius: 15px 50px;letter-spacing: 2px;\">\n",
    "    <h2 style='color:GhostWhite;'>Cross Validation</h2><br>\n",
    "Measure our model's quality, in RMSE.  Ideally for small datasets, but included here for reference.\n",
    "</div>"
   ]
  },
  {
   "cell_type": "code",
   "execution_count": 93,
   "metadata": {
    "execution": {
     "iopub.execute_input": "2022-05-17T08:39:00.815552Z",
     "iopub.status.busy": "2022-05-17T08:39:00.814457Z",
     "iopub.status.idle": "2022-05-17T08:46:28.034624Z",
     "shell.execute_reply": "2022-05-17T08:46:28.033528Z",
     "shell.execute_reply.started": "2022-05-17T08:39:00.815453Z"
    }
   },
   "outputs": [
    {
     "name": "stdout",
     "output_type": "stream",
     "text": [
      "\u001b[1mPlease wait, this will take some time\u001b[0m\n",
      "\n",
      "MIS_Status Count ->  1 : 714212, 0 : 154451\n",
      "\n",
      "X_train size :  608064\n",
      "X_valid size :  130299\n",
      "X_test size  :  130300\n",
      "\n",
      "\u001b[1m\u001b[92mPlease wait, resampling train data\u001b[0m\n",
      "\n",
      "Before Resampling train -> 1 : 499948, 0 : 108116\n",
      "After Resampling  train -> 1 : 499948, 0 : 499948\n",
      "\n",
      "\u001b[1m\u001b[94mResampling \u001b[0mRuntime : 0:00:01.453714\n",
      "\n"
     ]
    },
    {
     "data": {
      "text/plain": [
       "{'tree_method': 'hist',\n",
       " 'lambda': 0.0015806212781916517,\n",
       " 'alpha': 0.02036885802457707,\n",
       " 'gamma': 0,\n",
       " 'colsample_bytree': 0.6,\n",
       " 'subsample': 0.7,\n",
       " 'learning_rate': 0.1,\n",
       " 'n_estimators': 1000,\n",
       " 'max_depth': 13,\n",
       " 'random_state': 48,\n",
       " 'min_child_weight': 1,\n",
       " 'early_stopping_rounds': 100.0,\n",
       " 'eval_metric': ['logloss', 'error']}"
      ]
     },
     "metadata": {},
     "output_type": "display_data"
    },
    {
     "name": "stdout",
     "output_type": "stream",
     "text": [
      "\n",
      "\n",
      "[CV] START .....................................................................\n"
     ]
    },
    {
     "name": "stderr",
     "output_type": "stream",
     "text": [
      "[Parallel(n_jobs=1)]: Using backend SequentialBackend with 1 concurrent workers.\n"
     ]
    },
    {
     "name": "stdout",
     "output_type": "stream",
     "text": [
      "[CV] END ................................ score: (test=0.977) total time= 1.8min\n",
      "[CV] START .....................................................................\n"
     ]
    },
    {
     "name": "stderr",
     "output_type": "stream",
     "text": [
      "[Parallel(n_jobs=1)]: Done   1 out of   1 | elapsed:  1.8min remaining:    0.0s\n"
     ]
    },
    {
     "name": "stdout",
     "output_type": "stream",
     "text": [
      "[CV] END ................................ score: (test=0.977) total time= 1.5min\n",
      "[CV] START .....................................................................\n"
     ]
    },
    {
     "name": "stderr",
     "output_type": "stream",
     "text": [
      "[Parallel(n_jobs=1)]: Done   2 out of   2 | elapsed:  3.3min remaining:    0.0s\n"
     ]
    },
    {
     "name": "stdout",
     "output_type": "stream",
     "text": [
      "[CV] END ................................ score: (test=0.976) total time= 1.2min\n",
      "[CV] START .....................................................................\n"
     ]
    },
    {
     "name": "stderr",
     "output_type": "stream",
     "text": [
      "[Parallel(n_jobs=1)]: Done   3 out of   3 | elapsed:  4.5min remaining:    0.0s\n"
     ]
    },
    {
     "name": "stdout",
     "output_type": "stream",
     "text": [
      "[CV] END ................................ score: (test=0.977) total time= 1.4min\n",
      "[CV] START .....................................................................\n"
     ]
    },
    {
     "name": "stderr",
     "output_type": "stream",
     "text": [
      "[Parallel(n_jobs=1)]: Done   4 out of   4 | elapsed:  6.0min remaining:    0.0s\n"
     ]
    },
    {
     "name": "stdout",
     "output_type": "stream",
     "text": [
      "[CV] END ................................ score: (test=0.979) total time= 1.9min\n"
     ]
    },
    {
     "name": "stderr",
     "output_type": "stream",
     "text": [
      "[Parallel(n_jobs=1)]: Done   5 out of   5 | elapsed:  7.8min remaining:    0.0s\n",
      "[Parallel(n_jobs=1)]: Done   5 out of   5 | elapsed:  7.8min finished\n"
     ]
    },
    {
     "name": "stdout",
     "output_type": "stream",
     "text": [
      "\n",
      "\u001b[1m\u001b[94mScores: [-0.97685465 -0.97677826 -0.97644682 -0.97661609 -0.97903396]\u001b[0m\n",
      "\n",
      "\u001b[1m\u001b[92mF1_Score: -0.9771459554474718\u001b[0m\n",
      "\n",
      "CPU times: total: 53min 24s\n",
      "Wall time: 8min 1s\n"
     ]
    }
   ],
   "source": [
    "%%time\n",
    "\n",
    "from sklearn.metrics import mean_squared_error\n",
    "from sklearn.model_selection import cross_val_score\n",
    "\n",
    "def CrossVal():\n",
    "    print(f'{mf.color.bold}Please wait, this will take some time{mf.color.end}')\n",
    "    print()\n",
    "    X = pd.read_feather(final_ds)\n",
    "    #X = X.head(500)      # uncomment for testing\n",
    "    y = X.pop('MIS_Status')\n",
    "\n",
    "    cvo = process_model(X, y)   # create object from XGBoost class              \n",
    "    cvo.split_data(0.7)\n",
    "    cvo.osample(os_data = [1,0,0])\n",
    "\n",
    "    cvo.X, cvo.y = None, None\n",
    "    del X, y\n",
    "    gc.collect()\n",
    "    sleep(3)\n",
    "    \n",
    "    print()\n",
    "    \n",
    "    # get hyperparams from previous Optuna study's best trial\n",
    "    study_results = joblib.load(f\"{workdir}xgb_optuna_study.pkl\")\n",
    "    hyperparams = study_results.best_trial.params\n",
    "    display(hyperparams)\n",
    "    print()\n",
    "\n",
    "    xgb_model = XGBClassifier(**hyperparams, use_label_encoder = False)\n",
    "\n",
    "    # If we pass a pipeline instead of a model to cross_val_score, fit_params won't be \n",
    "    # recognized\n",
    "    fit_params={'verbose': False,\n",
    "                'eval_set': [(cvo.X_valid, cvo.y_valid)]\n",
    "               }\n",
    "\n",
    "    # Multiply by -1 since sklearn calculates *negative* RMSE\n",
    "    print()\n",
    "    scores = -1 * cross_val_score(xgb_model, cvo.X_train, cvo.y_train,\n",
    "                                  cv=5,\n",
    "                                  #scoring='neg_root_mean_squared_error',\n",
    "                                  scoring = 'f1',\n",
    "                                  fit_params = fit_params,\n",
    "                                  verbose=15)\n",
    "    sleep(5)   # allow verbosity to complete\n",
    "    print()\n",
    "    print(f\"{mf.color.bdblue}Scores: {scores}{mf.color.end}\")\n",
    "    print()\n",
    "    #print(f\"{mf.color.bdgreen}Root Mean Squared Error (Mean): {scores.mean()}{mf.color.end}\")\n",
    "    print(f\"{mf.color.bdgreen}F1_Score: {scores.mean()}{mf.color.end}\")\n",
    "    print()\n",
    "    \n",
    "CrossVal()"
   ]
  },
  {
   "cell_type": "code",
   "execution_count": 90,
   "metadata": {},
   "outputs": [
    {
     "data": {
      "text/plain": [
       "['accuracy',\n",
       " 'adjusted_mutual_info_score',\n",
       " 'adjusted_rand_score',\n",
       " 'average_precision',\n",
       " 'balanced_accuracy',\n",
       " 'completeness_score',\n",
       " 'explained_variance',\n",
       " 'f1',\n",
       " 'f1_macro',\n",
       " 'f1_micro',\n",
       " 'f1_samples',\n",
       " 'f1_weighted',\n",
       " 'fowlkes_mallows_score',\n",
       " 'homogeneity_score',\n",
       " 'jaccard',\n",
       " 'jaccard_macro',\n",
       " 'jaccard_micro',\n",
       " 'jaccard_samples',\n",
       " 'jaccard_weighted',\n",
       " 'max_error',\n",
       " 'mutual_info_score',\n",
       " 'neg_brier_score',\n",
       " 'neg_log_loss',\n",
       " 'neg_mean_absolute_error',\n",
       " 'neg_mean_absolute_percentage_error',\n",
       " 'neg_mean_gamma_deviance',\n",
       " 'neg_mean_poisson_deviance',\n",
       " 'neg_mean_squared_error',\n",
       " 'neg_mean_squared_log_error',\n",
       " 'neg_median_absolute_error',\n",
       " 'neg_root_mean_squared_error',\n",
       " 'normalized_mutual_info_score',\n",
       " 'precision',\n",
       " 'precision_macro',\n",
       " 'precision_micro',\n",
       " 'precision_samples',\n",
       " 'precision_weighted',\n",
       " 'r2',\n",
       " 'rand_score',\n",
       " 'recall',\n",
       " 'recall_macro',\n",
       " 'recall_micro',\n",
       " 'recall_samples',\n",
       " 'recall_weighted',\n",
       " 'roc_auc',\n",
       " 'roc_auc_ovo',\n",
       " 'roc_auc_ovo_weighted',\n",
       " 'roc_auc_ovr',\n",
       " 'roc_auc_ovr_weighted',\n",
       " 'top_k_accuracy',\n",
       " 'v_measure_score']"
      ]
     },
     "execution_count": 90,
     "metadata": {},
     "output_type": "execute_result"
    }
   ],
   "source": [
    "sorted(metrics.SCORERS.keys())"
   ]
  },
  {
   "cell_type": "markdown",
   "metadata": {
    "execution": {
     "iopub.execute_input": "2022-05-17T07:15:49.429758Z",
     "iopub.status.busy": "2022-05-17T07:15:49.429388Z",
     "iopub.status.idle": "2022-05-17T07:15:49.458798Z",
     "shell.execute_reply": "2022-05-17T07:15:49.457385Z",
     "shell.execute_reply.started": "2022-05-17T07:15:49.429667Z"
    }
   },
   "source": [
    "<i><a style=\"color:DarkSlateGrey\" href=\"#toc\">Back to Table Of Contents</a></i>"
   ]
  },
  {
   "cell_type": "code",
   "execution_count": 33,
   "metadata": {
    "execution": {
     "iopub.execute_input": "2022-05-17T08:46:28.037125Z",
     "iopub.status.busy": "2022-05-17T08:46:28.036756Z",
     "iopub.status.idle": "2022-05-17T08:46:28.043493Z",
     "shell.execute_reply": "2022-05-17T08:46:28.042318Z",
     "shell.execute_reply.started": "2022-05-17T08:46:28.037076Z"
    }
   },
   "outputs": [],
   "source": [
    "if alert_flag == 1:\n",
    "    if kaggle_flag == 0:   # not Kaggle\n",
    "        engine.say(\"Cross-Validation completed.\")\n",
    "        engine.runAndWait()\n",
    "    else:\n",
    "        display(Audio(url=audio_path, autoplay=True))"
   ]
  },
  {
   "cell_type": "markdown",
   "metadata": {},
   "source": [
    "<a id=\"part2\"></a>\n",
    "<div style=\"font-family: Trebuchet MS;background-color:DarkRed;color:AliceBlue;text-align: left;padding-top: 5px;padding-bottom: 15px;padding-left: 20px;padding-right: 10px;border-radius: 15px 50px;letter-spacing: 2px;\">\n",
    "<h1 id=\"part2\" style='color:GhostWhite;'>Part 2. Miscellaneous</h1>\n",
    "</div>"
   ]
  },
  {
   "cell_type": "markdown",
   "metadata": {},
   "source": [
    "<a id=\"early_stopping_rounds\"></a>\n",
    "<div style=\"font-family: Trebuchet MS;background-color:DarkCyan;color:Azure;text-align: left;padding-top: 5px;padding-bottom: 15px;padding-left: 20px;padding-right: 10px;border-radius: 15px 50px;letter-spacing: 2px;\">\n",
    "    <h2 style='color:GhostWhite;'>2.1 Early Stopping Rounds</h2>\n",
    "</div>"
   ]
  },
  {
   "cell_type": "markdown",
   "metadata": {},
   "source": [
    "<div class=\"alert alert-block alert-info\">\n",
    "    Below is a reference on using plots to get an insight on the value to use for XGBoost's early_ stopping_rounds during fitting.</div>"
   ]
  },
  {
   "cell_type": "code",
   "execution_count": 147,
   "metadata": {
    "execution": {
     "iopub.execute_input": "2022-05-17T08:46:28.046257Z",
     "iopub.status.busy": "2022-05-17T08:46:28.045561Z",
     "iopub.status.idle": "2022-05-17T08:48:05.884271Z",
     "shell.execute_reply": "2022-05-17T08:48:05.883148Z",
     "shell.execute_reply.started": "2022-05-17T08:46:28.046207Z"
    }
   },
   "outputs": [
    {
     "name": "stdout",
     "output_type": "stream",
     "text": [
      "MIS_Status Count ->  1 : 714212, 0 : 154451\n",
      "\n",
      "X_train size :  608064\n",
      "X_valid size :  130299\n",
      "X_test size  :  130300\n",
      "\n",
      "\u001b[1m\u001b[92mPlease wait, resampling train data\u001b[0m\n",
      "\n",
      "Before Resampling train -> 1 : 499948, 0 : 108116\n",
      "After Resampling  train -> 1 : 499948, 0 : 499948\n",
      "\n",
      "\u001b[1m\u001b[94mResampling \u001b[0mRuntime : 0:00:00.845697\n",
      "\n",
      "\u001b[1mPlease wait, Fitting model can take time ...\u001b[0m\n",
      "\n",
      "\u001b[1mHyperparameters:\u001b[0m\n"
     ]
    },
    {
     "data": {
      "text/plain": [
       "{'tree_method': 'hist',\n",
       " 'lambda': 0.0015806212781916517,\n",
       " 'alpha': 0.02036885802457707,\n",
       " 'gamma': 0,\n",
       " 'colsample_bytree': 0.6,\n",
       " 'subsample': 0.7,\n",
       " 'learning_rate': 0.1,\n",
       " 'n_estimators': 1000,\n",
       " 'max_depth': 13,\n",
       " 'random_state': 48,\n",
       " 'min_child_weight': 1,\n",
       " 'eval_metric': ['error', 'logloss']}"
      ]
     },
     "metadata": {},
     "output_type": "display_data"
    },
    {
     "name": "stdout",
     "output_type": "stream",
     "text": [
      "\n",
      "Fitting model completed.\n",
      "\n",
      "Preparing Predictions\n",
      "\n",
      "\u001b[4mMetrics:\u001b[0m\n",
      "\n",
      "\u001b[1my_valid RMSE    : \u001b[1m\u001b[92m\u001b[4m0.2401882366568184\u001b[0m\n",
      "\n",
      "\u001b[1my_valid f1 score: \u001b[1m\u001b[92m\u001b[4m94.23096109716882 %\u001b[0m\n",
      "\n",
      "--------------------------------------------------\n",
      "\n",
      "\u001b[1mClassification Report\u001b[0m\n"
     ]
    },
    {
     "data": {
      "text/html": [
       "<div>\n",
       "<style scoped>\n",
       "    .dataframe tbody tr th:only-of-type {\n",
       "        vertical-align: middle;\n",
       "    }\n",
       "\n",
       "    .dataframe tbody tr th {\n",
       "        vertical-align: top;\n",
       "    }\n",
       "\n",
       "    .dataframe thead th {\n",
       "        text-align: right;\n",
       "    }\n",
       "</style>\n",
       "<table border=\"1\" class=\"dataframe\">\n",
       "  <thead>\n",
       "    <tr style=\"text-align: right;\">\n",
       "      <th></th>\n",
       "      <th>precision</th>\n",
       "      <th>recall</th>\n",
       "      <th>f1-score</th>\n",
       "      <th>support</th>\n",
       "    </tr>\n",
       "  </thead>\n",
       "  <tbody>\n",
       "    <tr>\n",
       "      <th>0</th>\n",
       "      <td>0.834088</td>\n",
       "      <td>0.843268</td>\n",
       "      <td>0.838653</td>\n",
       "      <td>23167.0</td>\n",
       "    </tr>\n",
       "    <tr>\n",
       "      <th>1</th>\n",
       "      <td>0.966026</td>\n",
       "      <td>0.963727</td>\n",
       "      <td>0.964875</td>\n",
       "      <td>107132.0</td>\n",
       "    </tr>\n",
       "    <tr>\n",
       "      <th>macro avg</th>\n",
       "      <td>0.900057</td>\n",
       "      <td>0.903498</td>\n",
       "      <td>0.901764</td>\n",
       "      <td>130299.0</td>\n",
       "    </tr>\n",
       "    <tr>\n",
       "      <th>weighted avg</th>\n",
       "      <td>0.942568</td>\n",
       "      <td>0.942310</td>\n",
       "      <td>0.942433</td>\n",
       "      <td>130299.0</td>\n",
       "    </tr>\n",
       "  </tbody>\n",
       "</table>\n",
       "</div>"
      ],
      "text/plain": [
       "              precision    recall  f1-score   support\n",
       "0              0.834088  0.843268  0.838653   23167.0\n",
       "1              0.966026  0.963727  0.964875  107132.0\n",
       "macro avg      0.900057  0.903498  0.901764  130299.0\n",
       "weighted avg   0.942568  0.942310  0.942433  130299.0"
      ]
     },
     "metadata": {},
     "output_type": "display_data"
    },
    {
     "name": "stdout",
     "output_type": "stream",
     "text": [
      "\n",
      "\u001b[1mConfusion Matrix using Validation Data (y_valid)\u001b[0m\n",
      "\n",
      "True Negative  : CHGOFF (0) was predicted 19536 times correctly (83.41 %)\n",
      "False Negative : CHGOFF (0) was predicted 3886 times incorrectly (16.59 %)\n",
      "True Positive  : P I F (1) was predicted 103246 times correctly (96.6 %)\n",
      "False Positive : P I F (1) was predicted 3631 times incorrectly (3.4 %)\n"
     ]
    },
    {
     "data": {
      "text/html": [
       "<div>\n",
       "<style scoped>\n",
       "    .dataframe tbody tr th:only-of-type {\n",
       "        vertical-align: middle;\n",
       "    }\n",
       "\n",
       "    .dataframe tbody tr th {\n",
       "        vertical-align: top;\n",
       "    }\n",
       "\n",
       "    .dataframe thead th {\n",
       "        text-align: right;\n",
       "    }\n",
       "</style>\n",
       "<table border=\"1\" class=\"dataframe\">\n",
       "  <thead>\n",
       "    <tr style=\"text-align: right;\">\n",
       "      <th></th>\n",
       "      <th>Metrics Summary: y_valid in %</th>\n",
       "    </tr>\n",
       "  </thead>\n",
       "  <tbody>\n",
       "    <tr>\n",
       "      <th>rmse</th>\n",
       "      <td>0.240188</td>\n",
       "    </tr>\n",
       "    <tr>\n",
       "      <th>f1_score</th>\n",
       "      <td>94.230961</td>\n",
       "    </tr>\n",
       "    <tr>\n",
       "      <th>Precision</th>\n",
       "      <td>96.602637</td>\n",
       "    </tr>\n",
       "    <tr>\n",
       "      <th>Recall Sensitivity</th>\n",
       "      <td>96.372699</td>\n",
       "    </tr>\n",
       "    <tr>\n",
       "      <th>Recall Specificity</th>\n",
       "      <td>84.326844</td>\n",
       "    </tr>\n",
       "    <tr>\n",
       "      <th>G-Mean</th>\n",
       "      <td>90.148797</td>\n",
       "    </tr>\n",
       "  </tbody>\n",
       "</table>\n",
       "</div>"
      ],
      "text/plain": [
       "                    Metrics Summary: y_valid in %\n",
       "rmse                                     0.240188\n",
       "f1_score                                94.230961\n",
       "Precision                               96.602637\n",
       "Recall Sensitivity                      96.372699\n",
       "Recall Specificity                      84.326844\n",
       "G-Mean                                  90.148797"
      ]
     },
     "metadata": {},
     "output_type": "display_data"
    },
    {
     "data": {
      "image/png": "[encoded data removed]",
      "text/plain": [
       "<Figure size 450x450 with 1 Axes>"
      ]
     },
     "metadata": {
      "needs_background": "light"
     },
     "output_type": "display_data"
    },
    {
     "data": {
      "image/png": "[encoded data removed]",
      "text/plain": [
       "<Figure size 900x450 with 1 Axes>"
      ]
     },
     "metadata": {
      "needs_background": "light"
     },
     "output_type": "display_data"
    },
    {
     "data": {
      "image/png": "[encoded data removed]",
      "text/plain": [
       "<Figure size 450x450 with 1 Axes>"
      ]
     },
     "metadata": {
      "needs_background": "light"
     },
     "output_type": "display_data"
    },
    {
     "name": "stdout",
     "output_type": "stream",
     "text": [
      "CPU times: total: 28min 25s\n",
      "Wall time: 4min 44s\n"
     ]
    }
   ],
   "source": [
    "%%time\n",
    "\n",
    "from matplotlib import pyplot\n",
    "\n",
    "def PlotEarlyStoppingRounds():\n",
    "    X = pd.read_feather(final_ds)\n",
    "    #X = X.head(500)      # uncomment for testing\n",
    "    y = X.pop('MIS_Status')\n",
    "    \n",
    "    esr = process_model(X, y)   \n",
    "    esr.split_data(0.7)\n",
    "    esr.osample(os_data = [1,0,0])\n",
    "    \n",
    "    esr.X, esr.y = None, None\n",
    "    del X, y\n",
    "    gc.collect()\n",
    "    sleep(3)   \n",
    "    \n",
    "    print()\n",
    "    print(f\"{mf.color.bold}Please wait, Fitting model can take time ...{mf.color.end}\")\n",
    "    print()\n",
    "    \n",
    "    # get hyperparams from previous Optuna study's best trial\n",
    "    # early_stopping_rounds not included as we are trying to confirm if our value was valid\n",
    "    study_results = joblib.load(f\"{workdir}xgb_optuna_study.pkl\")\n",
    "    hyperparams = study_results.best_trial.params\n",
    "    hyperparams.pop('early_stopping_rounds')\n",
    "    hyperparams['eval_metric'] = ['error','logloss']\n",
    "    print(f'{mf.color.bold}Hyperparameters:{mf.color.end}')\n",
    "    display(hyperparams)\n",
    "    print()\n",
    "\n",
    "    xg_model = XGBClassifier(**hyperparams,use_label_encoder =False)\n",
    "       \n",
    "    eval_setparam = [(esr.X_train, esr.y_train),\n",
    "                     (esr.X_valid, esr.y_valid)]\n",
    "       \n",
    "    # fit the model\n",
    "    xg_model.fit(esr.X_train, esr.y_train, \n",
    "                eval_set = eval_setparam,\n",
    "                verbose=False)\n",
    " \n",
    "    print(\"Fitting model completed.\")\n",
    "    print()\n",
    "    print('Preparing Predictions')\n",
    "    \n",
    "    # Get predictions\n",
    "    predictions = xg_model.predict(esr.X_valid)\n",
    "    \n",
    "    print()\n",
    "    print(f'{mf.color.underline}Metrics:{mf.color.end}')\n",
    "\n",
    "    #eval_results = mf.model_eval(esr.y_valid, predictions)\n",
    "    eval_results = mf.model_eval2(xg_model,\n",
    "                                  esr.X_train, esr.y_train,\n",
    "                                  esr.X_valid, esr.y_valid,\n",
    "                                  cmDisplay=True)\n",
    "\n",
    "    # retrieve performance metrics\n",
    "    results = xg_model.evals_result()\n",
    "    epochs = len(results['validation_0']['error'])\n",
    "    x_axis = range(0, epochs)\n",
    "\n",
    "    # what we will be looking for are the bottom areas of the plots\n",
    "    \n",
    "    # plot log loss\n",
    "    plt.rcParams.update({'font.size': 4})\n",
    "    fig, ax = pyplot.subplots(dpi=300,figsize=(3,1.5))\n",
    "    # Set tick font size\n",
    "    for label in (ax.get_xticklabels() + ax.get_yticklabels()):\n",
    "        label.set_fontsize(4)\n",
    "    ax.plot(x_axis, results['validation_0']['logloss'], label='Train')\n",
    "    ax.plot(x_axis, results['validation_1']['logloss'], label='Test')\n",
    "    ax.legend()\n",
    "    pyplot.xlabel('Epoch')\n",
    "    pyplot.ylabel('Log Loss')\n",
    "    pyplot.title('XGBoost Log Loss')\n",
    "    pyplot.show()\n",
    "\n",
    "    # plot classification error\n",
    "    fig, ax = pyplot.subplots(dpi=300,figsize=(3,1.5))\n",
    "    ax.plot(x_axis, results['validation_0']['error'], label='Train')\n",
    "    ax.plot(x_axis, results['validation_1']['error'], label='Test')\n",
    "    ax.legend()\n",
    "    pyplot.xlabel('Epoch')\n",
    "    pyplot.ylabel('Classification Error')\n",
    "    pyplot.title('XGBoost Classification Error')\n",
    "    pyplot.show()\n",
    "    \n",
    "PlotEarlyStoppingRounds()"
   ]
  },
  {
   "cell_type": "markdown",
   "metadata": {
    "execution": {
     "iopub.execute_input": "2022-05-17T07:15:49.429758Z",
     "iopub.status.busy": "2022-05-17T07:15:49.429388Z",
     "iopub.status.idle": "2022-05-17T07:15:49.458798Z",
     "shell.execute_reply": "2022-05-17T07:15:49.457385Z",
     "shell.execute_reply.started": "2022-05-17T07:15:49.429667Z"
    }
   },
   "source": [
    "<i><a style=\"color:DarkSlateGrey\" href=\"#toc\">Back to Table Of Contents</a></i>"
   ]
  },
  {
   "cell_type": "markdown",
   "metadata": {},
   "source": [
    "<div class=\"alert alert-block alert-info\">\n",
    "    From both plots, we can see that the commonly used 10% of n_estimator is a good candidate as the early_stopping_rounds parameter.  \n",
    "<br><br>\n",
    "    <b>Test Early Stopping Rounds</b>\n",
    "    <br>\n",
    "    Now we test the early_stopping_rounds parameter.  We will test it on imbalanced data, which is our data that is <b>not oversampled</b>, which is skewed heavily toward MIS_Status = 'P I F' as opposed to MIS_Status = 'CHGOFF'.  Furthermore, we use an <b>eval_metric = 'auc'</b>, which is ideal for imbalanced data.\n",
    "</div>"
   ]
  },
  {
   "cell_type": "code",
   "execution_count": 141,
   "metadata": {
    "execution": {
     "iopub.execute_input": "2022-05-17T08:48:05.886953Z",
     "iopub.status.busy": "2022-05-17T08:48:05.886096Z",
     "iopub.status.idle": "2022-05-17T08:48:43.363892Z",
     "shell.execute_reply": "2022-05-17T08:48:43.362893Z",
     "shell.execute_reply.started": "2022-05-17T08:48:05.886891Z"
    }
   },
   "outputs": [
    {
     "name": "stdout",
     "output_type": "stream",
     "text": [
      "MIS_Status Count ->  1 : 714212, 0 : 154451\n",
      "\u001b[1mFit() Iterations:\u001b[0m\n",
      "[0]\tvalidation_0-auc:0.77850\n",
      "[1]\tvalidation_0-auc:0.94849\n",
      "[2]\tvalidation_0-auc:0.96022\n",
      "[3]\tvalidation_0-auc:0.95584\n",
      "[4]\tvalidation_0-auc:0.95190\n",
      "[5]\tvalidation_0-auc:0.94638\n",
      "[6]\tvalidation_0-auc:0.94132\n",
      "[7]\tvalidation_0-auc:0.95380\n",
      "[8]\tvalidation_0-auc:0.95992\n",
      "[9]\tvalidation_0-auc:0.96328\n",
      "[10]\tvalidation_0-auc:0.96194\n",
      "[11]\tvalidation_0-auc:0.96045\n",
      "[12]\tvalidation_0-auc:0.96366\n",
      "[13]\tvalidation_0-auc:0.96549\n",
      "[14]\tvalidation_0-auc:0.96444\n",
      "[15]\tvalidation_0-auc:0.96605\n",
      "[16]\tvalidation_0-auc:0.96526\n",
      "[17]\tvalidation_0-auc:0.96682\n",
      "[18]\tvalidation_0-auc:0.96800\n",
      "[19]\tvalidation_0-auc:0.96898\n",
      "[20]\tvalidation_0-auc:0.96948\n",
      "[21]\tvalidation_0-auc:0.96912\n",
      "[22]\tvalidation_0-auc:0.96975\n",
      "[23]\tvalidation_0-auc:0.96954\n",
      "[24]\tvalidation_0-auc:0.97015\n",
      "[25]\tvalidation_0-auc:0.97074\n",
      "[26]\tvalidation_0-auc:0.97055\n",
      "[27]\tvalidation_0-auc:0.97099\n",
      "[28]\tvalidation_0-auc:0.97125\n",
      "[29]\tvalidation_0-auc:0.97112\n",
      "[30]\tvalidation_0-auc:0.97154\n",
      "[31]\tvalidation_0-auc:0.97149\n",
      "[32]\tvalidation_0-auc:0.97180\n",
      "[33]\tvalidation_0-auc:0.97205\n",
      "[34]\tvalidation_0-auc:0.97234\n",
      "[35]\tvalidation_0-auc:0.97255\n",
      "[36]\tvalidation_0-auc:0.97251\n",
      "[37]\tvalidation_0-auc:0.97253\n",
      "[38]\tvalidation_0-auc:0.97274\n",
      "[39]\tvalidation_0-auc:0.97273\n",
      "[40]\tvalidation_0-auc:0.97275\n",
      "[41]\tvalidation_0-auc:0.97272\n",
      "[42]\tvalidation_0-auc:0.97294\n",
      "[43]\tvalidation_0-auc:0.97291\n",
      "[44]\tvalidation_0-auc:0.97287\n",
      "[45]\tvalidation_0-auc:0.97306\n",
      "[46]\tvalidation_0-auc:0.97328\n",
      "[47]\tvalidation_0-auc:0.97342\n",
      "[48]\tvalidation_0-auc:0.97357\n",
      "[49]\tvalidation_0-auc:0.97359\n",
      "[50]\tvalidation_0-auc:0.97372\n",
      "[51]\tvalidation_0-auc:0.97374\n",
      "[52]\tvalidation_0-auc:0.97378\n",
      "[53]\tvalidation_0-auc:0.97386\n",
      "[54]\tvalidation_0-auc:0.97389\n",
      "[55]\tvalidation_0-auc:0.97390\n",
      "[56]\tvalidation_0-auc:0.97395\n",
      "[57]\tvalidation_0-auc:0.97400\n",
      "[58]\tvalidation_0-auc:0.97407\n",
      "[59]\tvalidation_0-auc:0.97415\n",
      "[60]\tvalidation_0-auc:0.97421\n",
      "[61]\tvalidation_0-auc:0.97420\n",
      "[62]\tvalidation_0-auc:0.97421\n",
      "[63]\tvalidation_0-auc:0.97426\n",
      "[64]\tvalidation_0-auc:0.97434\n",
      "[65]\tvalidation_0-auc:0.97438\n",
      "[66]\tvalidation_0-auc:0.97444\n",
      "[67]\tvalidation_0-auc:0.97446\n",
      "[68]\tvalidation_0-auc:0.97450\n",
      "[69]\tvalidation_0-auc:0.97453\n",
      "[70]\tvalidation_0-auc:0.97458\n",
      "[71]\tvalidation_0-auc:0.97460\n",
      "[72]\tvalidation_0-auc:0.97461\n",
      "[73]\tvalidation_0-auc:0.97460\n",
      "[74]\tvalidation_0-auc:0.97463\n",
      "[75]\tvalidation_0-auc:0.97463\n",
      "[76]\tvalidation_0-auc:0.97468\n",
      "[77]\tvalidation_0-auc:0.97469\n",
      "[78]\tvalidation_0-auc:0.97469\n",
      "[79]\tvalidation_0-auc:0.97471\n",
      "[80]\tvalidation_0-auc:0.97474\n",
      "[81]\tvalidation_0-auc:0.97475\n",
      "[82]\tvalidation_0-auc:0.97477\n",
      "[83]\tvalidation_0-auc:0.97481\n",
      "[84]\tvalidation_0-auc:0.97483\n",
      "[85]\tvalidation_0-auc:0.97485\n",
      "[86]\tvalidation_0-auc:0.97485\n",
      "[87]\tvalidation_0-auc:0.97489\n",
      "[88]\tvalidation_0-auc:0.97488\n",
      "[89]\tvalidation_0-auc:0.97487\n",
      "[90]\tvalidation_0-auc:0.97488\n",
      "[91]\tvalidation_0-auc:0.97491\n",
      "[92]\tvalidation_0-auc:0.97491\n",
      "[93]\tvalidation_0-auc:0.97492\n",
      "[94]\tvalidation_0-auc:0.97493\n",
      "[95]\tvalidation_0-auc:0.97494\n",
      "[96]\tvalidation_0-auc:0.97499\n",
      "[97]\tvalidation_0-auc:0.97499\n",
      "[98]\tvalidation_0-auc:0.97500\n",
      "[99]\tvalidation_0-auc:0.97502\n",
      "[100]\tvalidation_0-auc:0.97503\n",
      "[101]\tvalidation_0-auc:0.97503\n",
      "[102]\tvalidation_0-auc:0.97502\n",
      "[103]\tvalidation_0-auc:0.97501\n",
      "[104]\tvalidation_0-auc:0.97502\n",
      "[105]\tvalidation_0-auc:0.97502\n",
      "[106]\tvalidation_0-auc:0.97502\n",
      "[107]\tvalidation_0-auc:0.97501\n",
      "[108]\tvalidation_0-auc:0.97503\n",
      "[109]\tvalidation_0-auc:0.97504\n",
      "[110]\tvalidation_0-auc:0.97503\n",
      "[111]\tvalidation_0-auc:0.97504\n",
      "[112]\tvalidation_0-auc:0.97505\n",
      "[113]\tvalidation_0-auc:0.97506\n",
      "[114]\tvalidation_0-auc:0.97504\n",
      "[115]\tvalidation_0-auc:0.97504\n",
      "[116]\tvalidation_0-auc:0.97503\n",
      "[117]\tvalidation_0-auc:0.97504\n",
      "[118]\tvalidation_0-auc:0.97505\n",
      "[119]\tvalidation_0-auc:0.97505\n",
      "[120]\tvalidation_0-auc:0.97504\n",
      "[121]\tvalidation_0-auc:0.97505\n",
      "[122]\tvalidation_0-auc:0.97504\n",
      "[123]\tvalidation_0-auc:0.97503\n",
      "[124]\tvalidation_0-auc:0.97503\n",
      "[125]\tvalidation_0-auc:0.97503\n",
      "[126]\tvalidation_0-auc:0.97504\n",
      "[127]\tvalidation_0-auc:0.97504\n",
      "[128]\tvalidation_0-auc:0.97503\n",
      "[129]\tvalidation_0-auc:0.97504\n",
      "[130]\tvalidation_0-auc:0.97503\n",
      "[131]\tvalidation_0-auc:0.97505\n",
      "[132]\tvalidation_0-auc:0.97505\n",
      "[133]\tvalidation_0-auc:0.97504\n",
      "[134]\tvalidation_0-auc:0.97503\n",
      "[135]\tvalidation_0-auc:0.97504\n",
      "[136]\tvalidation_0-auc:0.97505\n",
      "[137]\tvalidation_0-auc:0.97504\n",
      "[138]\tvalidation_0-auc:0.97501\n",
      "[139]\tvalidation_0-auc:0.97501\n",
      "[140]\tvalidation_0-auc:0.97502\n",
      "[141]\tvalidation_0-auc:0.97502\n",
      "[142]\tvalidation_0-auc:0.97502\n",
      "[143]\tvalidation_0-auc:0.97501\n",
      "[144]\tvalidation_0-auc:0.97500\n",
      "[145]\tvalidation_0-auc:0.97500\n",
      "[146]\tvalidation_0-auc:0.97500\n",
      "[147]\tvalidation_0-auc:0.97499\n",
      "[148]\tvalidation_0-auc:0.97500\n",
      "[149]\tvalidation_0-auc:0.97501\n",
      "[150]\tvalidation_0-auc:0.97499\n",
      "[151]\tvalidation_0-auc:0.97500\n",
      "[152]\tvalidation_0-auc:0.97500\n",
      "[153]\tvalidation_0-auc:0.97501\n",
      "[154]\tvalidation_0-auc:0.97500\n",
      "[155]\tvalidation_0-auc:0.97500\n",
      "[156]\tvalidation_0-auc:0.97499\n",
      "[157]\tvalidation_0-auc:0.97498\n",
      "[158]\tvalidation_0-auc:0.97499\n",
      "[159]\tvalidation_0-auc:0.97500\n",
      "[160]\tvalidation_0-auc:0.97499\n",
      "[161]\tvalidation_0-auc:0.97500\n",
      "[162]\tvalidation_0-auc:0.97504\n",
      "[163]\tvalidation_0-auc:0.97503\n",
      "[164]\tvalidation_0-auc:0.97503\n",
      "[165]\tvalidation_0-auc:0.97502\n",
      "[166]\tvalidation_0-auc:0.97502\n",
      "[167]\tvalidation_0-auc:0.97501\n",
      "[168]\tvalidation_0-auc:0.97501\n",
      "[169]\tvalidation_0-auc:0.97500\n",
      "[170]\tvalidation_0-auc:0.97500\n",
      "[171]\tvalidation_0-auc:0.97499\n",
      "[172]\tvalidation_0-auc:0.97499\n",
      "[173]\tvalidation_0-auc:0.97498\n",
      "[174]\tvalidation_0-auc:0.97499\n",
      "[175]\tvalidation_0-auc:0.97499\n",
      "[176]\tvalidation_0-auc:0.97498\n",
      "[177]\tvalidation_0-auc:0.97498\n",
      "[178]\tvalidation_0-auc:0.97499\n",
      "[179]\tvalidation_0-auc:0.97500\n",
      "[180]\tvalidation_0-auc:0.97500\n",
      "[181]\tvalidation_0-auc:0.97498\n",
      "[182]\tvalidation_0-auc:0.97497\n",
      "[183]\tvalidation_0-auc:0.97495\n",
      "[184]\tvalidation_0-auc:0.97494\n",
      "[185]\tvalidation_0-auc:0.97495\n",
      "[186]\tvalidation_0-auc:0.97494\n",
      "[187]\tvalidation_0-auc:0.97494\n",
      "[188]\tvalidation_0-auc:0.97494\n",
      "[189]\tvalidation_0-auc:0.97493\n",
      "[190]\tvalidation_0-auc:0.97491\n",
      "[191]\tvalidation_0-auc:0.97491\n",
      "[192]\tvalidation_0-auc:0.97490\n",
      "[193]\tvalidation_0-auc:0.97490\n",
      "[194]\tvalidation_0-auc:0.97491\n",
      "[195]\tvalidation_0-auc:0.97491\n",
      "[196]\tvalidation_0-auc:0.97489\n",
      "[197]\tvalidation_0-auc:0.97488\n",
      "[198]\tvalidation_0-auc:0.97486\n",
      "[199]\tvalidation_0-auc:0.97485\n",
      "[200]\tvalidation_0-auc:0.97484\n",
      "[201]\tvalidation_0-auc:0.97484\n",
      "[202]\tvalidation_0-auc:0.97486\n",
      "[203]\tvalidation_0-auc:0.97487\n",
      "[204]\tvalidation_0-auc:0.97486\n",
      "[205]\tvalidation_0-auc:0.97485\n",
      "[206]\tvalidation_0-auc:0.97484\n",
      "[207]\tvalidation_0-auc:0.97484\n",
      "[208]\tvalidation_0-auc:0.97484\n",
      "[209]\tvalidation_0-auc:0.97483\n",
      "[210]\tvalidation_0-auc:0.97484\n",
      "[211]\tvalidation_0-auc:0.97484\n",
      "[212]\tvalidation_0-auc:0.97484\n",
      "[213]\tvalidation_0-auc:0.97482\n",
      "\n",
      "\n",
      "\u001b[1my_valid RMSE    : \u001b[1m\u001b[92m\u001b[4m0.23800553736110766\u001b[0m\n",
      "\n",
      "\u001b[1my_valid f1 score: \u001b[1m\u001b[92m\u001b[4m94.33533641854504 %\u001b[0m\n",
      "\n",
      "--------------------------------------------------\n",
      "\n",
      "\u001b[1mClassification Report\u001b[0m\n"
     ]
    },
    {
     "data": {
      "text/html": [
       "<div>\n",
       "<style scoped>\n",
       "    .dataframe tbody tr th:only-of-type {\n",
       "        vertical-align: middle;\n",
       "    }\n",
       "\n",
       "    .dataframe tbody tr th {\n",
       "        vertical-align: top;\n",
       "    }\n",
       "\n",
       "    .dataframe thead th {\n",
       "        text-align: right;\n",
       "    }\n",
       "</style>\n",
       "<table border=\"1\" class=\"dataframe\">\n",
       "  <thead>\n",
       "    <tr style=\"text-align: right;\">\n",
       "      <th></th>\n",
       "      <th>precision</th>\n",
       "      <th>recall</th>\n",
       "      <th>f1-score</th>\n",
       "      <th>support</th>\n",
       "    </tr>\n",
       "  </thead>\n",
       "  <tbody>\n",
       "    <tr>\n",
       "      <th>0</th>\n",
       "      <td>0.861732</td>\n",
       "      <td>0.811629</td>\n",
       "      <td>0.835930</td>\n",
       "      <td>23167.0</td>\n",
       "    </tr>\n",
       "    <tr>\n",
       "      <th>1</th>\n",
       "      <td>0.959771</td>\n",
       "      <td>0.971838</td>\n",
       "      <td>0.965767</td>\n",
       "      <td>107132.0</td>\n",
       "    </tr>\n",
       "    <tr>\n",
       "      <th>macro avg</th>\n",
       "      <td>0.910752</td>\n",
       "      <td>0.891734</td>\n",
       "      <td>0.900849</td>\n",
       "      <td>130299.0</td>\n",
       "    </tr>\n",
       "    <tr>\n",
       "      <th>weighted avg</th>\n",
       "      <td>0.942340</td>\n",
       "      <td>0.943353</td>\n",
       "      <td>0.942682</td>\n",
       "      <td>130299.0</td>\n",
       "    </tr>\n",
       "  </tbody>\n",
       "</table>\n",
       "</div>"
      ],
      "text/plain": [
       "              precision    recall  f1-score   support\n",
       "0              0.861732  0.811629  0.835930   23167.0\n",
       "1              0.959771  0.971838  0.965767  107132.0\n",
       "macro avg      0.910752  0.891734  0.900849  130299.0\n",
       "weighted avg   0.942340  0.943353  0.942682  130299.0"
      ]
     },
     "metadata": {},
     "output_type": "display_data"
    },
    {
     "name": "stdout",
     "output_type": "stream",
     "text": [
      "\n",
      "\u001b[1mConfusion Matrix using Validation Data (y_valid)\u001b[0m\n",
      "\n",
      "True Negative  : CHGOFF (0) was predicted 18803 times correctly (86.17 %)\n",
      "False Negative : CHGOFF (0) was predicted 3017 times incorrectly (13.83 %)\n",
      "True Positive  : P I F (1) was predicted 104115 times correctly (95.98 %)\n",
      "False Positive : P I F (1) was predicted 4364 times incorrectly (4.02 %)\n"
     ]
    },
    {
     "data": {
      "text/html": [
       "<div>\n",
       "<style scoped>\n",
       "    .dataframe tbody tr th:only-of-type {\n",
       "        vertical-align: middle;\n",
       "    }\n",
       "\n",
       "    .dataframe tbody tr th {\n",
       "        vertical-align: top;\n",
       "    }\n",
       "\n",
       "    .dataframe thead th {\n",
       "        text-align: right;\n",
       "    }\n",
       "</style>\n",
       "<table border=\"1\" class=\"dataframe\">\n",
       "  <thead>\n",
       "    <tr style=\"text-align: right;\">\n",
       "      <th></th>\n",
       "      <th>Metrics Summary: y_valid in %</th>\n",
       "    </tr>\n",
       "  </thead>\n",
       "  <tbody>\n",
       "    <tr>\n",
       "      <th>rmse</th>\n",
       "      <td>0.238006</td>\n",
       "    </tr>\n",
       "    <tr>\n",
       "      <th>f1_score</th>\n",
       "      <td>94.335336</td>\n",
       "    </tr>\n",
       "    <tr>\n",
       "      <th>Precision</th>\n",
       "      <td>95.977102</td>\n",
       "    </tr>\n",
       "    <tr>\n",
       "      <th>Recall Sensitivity</th>\n",
       "      <td>97.183848</td>\n",
       "    </tr>\n",
       "    <tr>\n",
       "      <th>Recall Specificity</th>\n",
       "      <td>81.162861</td>\n",
       "    </tr>\n",
       "    <tr>\n",
       "      <th>G-Mean</th>\n",
       "      <td>88.812832</td>\n",
       "    </tr>\n",
       "  </tbody>\n",
       "</table>\n",
       "</div>"
      ],
      "text/plain": [
       "                    Metrics Summary: y_valid in %\n",
       "rmse                                     0.238006\n",
       "f1_score                                94.335336\n",
       "Precision                               95.977102\n",
       "Recall Sensitivity                      97.183848\n",
       "Recall Specificity                      81.162861\n",
       "G-Mean                                  88.812832"
      ]
     },
     "metadata": {},
     "output_type": "display_data"
    },
    {
     "name": "stdout",
     "output_type": "stream",
     "text": [
      "CPU times: total: 3min 18s\n",
      "Wall time: 33.8 s\n"
     ]
    },
    {
     "data": {
      "image/png": "[encoded data removed]",
      "text/plain": [
       "<Figure size 450x450 with 1 Axes>"
      ]
     },
     "metadata": {
      "needs_background": "light"
     },
     "output_type": "display_data"
    }
   ],
   "source": [
    "%%time\n",
    "\n",
    "def RunModelv5():\n",
    "    X = pd.read_feather(final_ds)\n",
    "    #X = X.head(500)      # uncomment for testing\n",
    "    y = X.pop('MIS_Status')\n",
    "\n",
    "    model5 = process_model(X, y)\n",
    "    model5.split_data(0.7)\n",
    "    # model5.osample(os_data = [1,0,0])     # we comment out the oversampling algorithm\n",
    "    \n",
    "    model5.X, model5.y = None, None\n",
    "    del X, y\n",
    "    gc.collect()\n",
    "    sleep(3)\n",
    "    \n",
    "    # we use the recently saved optuna study to get the hyperparams\n",
    "    study = joblib.load(f\"{workdir}xgb_optuna_study.pkl\")\n",
    "    hyperparams = study.best_trial.params\n",
    "    hyperparams['eval_metric'] = 'auc'      # we change eval_metric to 'auc'\n",
    "                   \n",
    "    model_xg = XGBClassifier(**hyperparams, use_label_encoder =False)\n",
    " \n",
    "    print(f'{mf.color.bold}Fit() Iterations:{mf.color.end}')\n",
    "    eval_set = [(model5.X_valid, model5.y_valid)]\n",
    "    model_xg.fit(model5.X_train, model5.y_train,\n",
    "              eval_set=eval_set, verbose=True)\n",
    " \n",
    "    # Get predictions\n",
    "    predictions = model_xg.predict(model5.X_valid)\n",
    "\n",
    "    print()\n",
    "    #eval_results = mf.model_eval(model5.y_valid, predictions)\n",
    "    eval_results = mf.model_eval2(model_xg,\n",
    "                                  model5.X_train, model5.y_train,\n",
    "                                  model5.X_valid, model5.y_valid,\n",
    "                                  cmDisplay=True)\n",
    "    \n",
    "RunModelv5()"
   ]
  },
  {
   "cell_type": "markdown",
   "metadata": {},
   "source": [
    "<div class=\"alert alert-block alert-info\">\n",
    "    <b>Result:</b><br>\n",
    "    As we can see from above, from the verbose results of the fit() method, <b>the training stopped at a certain iteration before it reached 1000</b>, since <b>the auc score was starting to decrease</b>.  In conclusion, the early_stopping_rounds parameter works.  Although it was set at 100, at 100th iteration, the <b>auc score was still increasing</b>, so it didn't stop yet.\n",
    "    <br><br>\n",
    "    If we oversampled the data, the fit() method will complete the entire n_estimators = 1000, as the score is still getting better even at 1000.  In conclusion, oversampling helped get better results without reaching the overfitting threshold yet at the selected n_estimator value.  It's not just blind oversampling of course, it was a technique to solve the imbalance of data.\n",
    "</div>"
   ]
  },
  {
   "cell_type": "markdown",
   "metadata": {
    "execution": {
     "iopub.execute_input": "2022-05-17T07:15:49.429758Z",
     "iopub.status.busy": "2022-05-17T07:15:49.429388Z",
     "iopub.status.idle": "2022-05-17T07:15:49.458798Z",
     "shell.execute_reply": "2022-05-17T07:15:49.457385Z",
     "shell.execute_reply.started": "2022-05-17T07:15:49.429667Z"
    }
   },
   "source": [
    "<i><a style=\"color:DarkSlateGrey\" href=\"#toc\">Back to Table Of Contents</a></i>"
   ]
  },
  {
   "cell_type": "markdown",
   "metadata": {},
   "source": [
    "<a id=\"random_forest_classifier\"></a>\n",
    "<div style=\"font-family: Trebuchet MS;background-color:DarkCyan;color:Azure;text-align: left;padding-top: 5px;padding-bottom: 15px;padding-left: 20px;padding-right: 10px;border-radius: 15px 50px;letter-spacing: 2px;\">\n",
    "    <h2 style='color:GhostWhite;'>2.2 Random Forest Classifier</h2>\n",
    "</div>"
   ]
  },
  {
   "cell_type": "markdown",
   "metadata": {},
   "source": [
    "<div class=\"alert alert-block alert-info\">\n",
    "    This is just a reference on using a Random Forest Classifier.<br>\n",
    "    <b>cuml.ensemble RandomForestClassifier</b> is used if GPU is active; otherwise, Scikit-Learn's RandomForestClassifier.\n",
    "  </div>"
   ]
  },
  {
   "cell_type": "code",
   "execution_count": 96,
   "metadata": {
    "execution": {
     "iopub.execute_input": "2022-05-17T08:48:43.366291Z",
     "iopub.status.busy": "2022-05-17T08:48:43.365983Z",
     "iopub.status.idle": "2022-05-17T08:49:28.724217Z",
     "shell.execute_reply": "2022-05-17T08:49:28.723187Z",
     "shell.execute_reply.started": "2022-05-17T08:48:43.366246Z"
    }
   },
   "outputs": [
    {
     "name": "stdout",
     "output_type": "stream",
     "text": [
      "\n",
      "X_train size :  608064\n",
      "X_valid size :  130299\n",
      "X_test size  :  130300\n",
      "\n",
      "\u001b[1m\u001b[92mPlease wait, resampling train data\u001b[0m\n",
      "\n",
      "Before Resampling train -> 1 : 499948, 0 : 108116\n",
      "After Resampling  train -> 1 : 499948, 0 : 499948\n",
      "\n",
      "\u001b[1m\u001b[94mResampling \u001b[0mRuntime : 0:00:00.768335\n",
      "\n",
      "\u001b[1mPlease wait, Fitting model can take time ...\u001b[0m\n",
      "Fitting model completed.\n",
      "\n",
      "Preparing Predictions\n",
      "\u001b[4mMetrics : Random Forest Classifier\u001b[0m\n",
      "\n",
      "\u001b[1my_valid RMSE: \u001b[1m\u001b[92m\u001b[4m0.341097910739058\u001b[0m\n",
      "\n",
      "\u001b[1my_valid f1 score: \u001b[1m\u001b[92m\u001b[4m88.36522152894496\u001b[0m\n",
      "\n",
      "------------------------------\n",
      "\n",
      "\u001b[1mConfusion Matrix using Validation Data (y_valid)\u001b[0m\n",
      "\n",
      "True Negative : CHGOFF (0) was predicted 20647 times correctly     (62.03 %)\n",
      "False Negative : CHGOFF (0) was predicted 12640 times incorrectly     (37.97 %)\n",
      "True Positive : P I F (1) was predicted 94492 times correctly     (97.4 %)\n",
      "False Positive : P I F (1) was predicted 2520 times incorrectly     (2.6 %)\n",
      "\n",
      "CPU times: total: 2min 58s\n",
      "Wall time: 3min 2s\n"
     ]
    },
    {
     "data": {
      "image/png": "[encoded data removed]",
      "text/plain": [
       "<Figure size 600x600 with 1 Axes>"
      ]
     },
     "metadata": {
      "needs_background": "light"
     },
     "output_type": "display_data"
    }
   ],
   "source": [
    "%%time\n",
    "\n",
    "# run before tuning\n",
    "def RunModelrf():\n",
    "    X = pd.read_feather(final_ds)\n",
    "    #X = X.head(500)      # uncomment for testing\n",
    "    y = X.pop('MIS_Status')\n",
    "\n",
    "    modelrf = other_models(X, y)\n",
    "    modelrf.split_data(0.7)\n",
    "    modelrf.osample(os_data = [1,0,0])\n",
    "    \n",
    "    modelrf.X, modelrf.y = None, None\n",
    "    del X, y\n",
    "    gc.collect()\n",
    "    sleep(3)\n",
    "    \n",
    "    modelrf.prep_run_model(\"Metrics : Random Forest Classifier\", modelname='rfc')\n",
    "\n",
    "RunModelrf()"
   ]
  },
  {
   "cell_type": "markdown",
   "metadata": {
    "execution": {
     "iopub.execute_input": "2022-05-17T07:15:49.429758Z",
     "iopub.status.busy": "2022-05-17T07:15:49.429388Z",
     "iopub.status.idle": "2022-05-17T07:15:49.458798Z",
     "shell.execute_reply": "2022-05-17T07:15:49.457385Z",
     "shell.execute_reply.started": "2022-05-17T07:15:49.429667Z"
    }
   },
   "source": [
    "<i><a style=\"color:DarkSlateGrey\" href=\"#toc\">Back to Table Of Contents</a></i>"
   ]
  },
  {
   "cell_type": "markdown",
   "metadata": {},
   "source": [
    "<div style=\"font-family: Trebuchet MS;background-color:LightSteelBlue;color:Black;text-align: left;padding-top: 5px;padding-bottom: 15px;padding-left: 20px;padding-right: 10px;border-radius: 15px 50px;letter-spacing: 2px;\">\n",
    "    <b>Optuna Tuning for Random Forest</b>\n",
    "</div>"
   ]
  },
  {
   "cell_type": "markdown",
   "metadata": {},
   "source": [
    "<div class=\"alert alert-block alert-info\">  \n",
    "    This is just a simple sample implementation, for reference.</div>"
   ]
  },
  {
   "cell_type": "code",
   "execution_count": 101,
   "metadata": {
    "execution": {
     "iopub.execute_input": "2022-05-17T08:49:28.726239Z",
     "iopub.status.busy": "2022-05-17T08:49:28.725951Z",
     "iopub.status.idle": "2022-05-17T08:51:30.728313Z",
     "shell.execute_reply": "2022-05-17T08:51:30.727216Z",
     "shell.execute_reply.started": "2022-05-17T08:49:28.726208Z"
    },
    "scrolled": true
   },
   "outputs": [
    {
     "name": "stdout",
     "output_type": "stream",
     "text": [
      "\u001b[1m\u001b[94mTrial 0 done with best value: \u001b[1m\u001b[92m0.9180310271440839\u001b[1m\u001b[94m and parameters: \u001b[0m{'max_features': 0.9243759057391803, 'min_samples_split': 7, 'min_samples_leaf': 3, 'max_samples': 0.8738214334605927, 'max_depth': 11, 'n_estimators': 100}. \n",
      "\n",
      "Current Ram Used: 62.0 %\n",
      "\u001b[1m\u001b[92mTotal Elapsed Time from Training Start: \u001b[0mRuntime : 0:12:21.073083\n",
      "Running Trial 2\n",
      "\n",
      "Number of finished trials: 3\n",
      "Number of pruned trials: 0\n",
      "Number of completed trials: \u001b[1m\u001b[92m3\u001b[0m\n",
      "\u001b[1m\u001b[94mBest trial: {'max_features': 0.9243759057391803, 'min_samples_split': 7, 'min_samples_leaf': 3, 'max_samples': 0.8738214334605927, 'max_depth': 11, 'n_estimators': 100}\u001b[0m\n",
      "\n",
      "CPU times: total: 15min 42s\n",
      "Wall time: 16min 5s\n"
     ]
    }
   ],
   "source": [
    "%%time\n",
    "\n",
    "def RandomForestOptunaTuning():\n",
    "    X = pd.read_feather(final_ds)\n",
    "    #X = X.head(500)      # uncomment for testing\n",
    "    y = X.pop('MIS_Status')\n",
    "\n",
    "    rfo = optuna_tuning(X, y)\n",
    "    rfo.osample_Xy()\n",
    "    rfo.split_data(0.7)\n",
    "    \n",
    "    rfo.X, rfo.y = None, None\n",
    "    del X, y\n",
    "    gc.collect()\n",
    "    sleep(3)\n",
    "    \n",
    "    print(f'{mf.color.bold}Please wait, this will take time{mf.color.end}')\n",
    "    \n",
    "    nn_trials = 3\n",
    "    \n",
    "    if os.path.exists(f'{workdir}rfc_optuna_study_log.txt'):\n",
    "        os.remove(f'{workdir}rfc_optuna_study_log.txt') \n",
    "    \n",
    "    # STUDY\n",
    "    \n",
    "    # Turn off optuna log notes, to use own logging notes\n",
    "    optuna.logging.set_verbosity(optuna.logging.WARN)\n",
    "    \n",
    "    # Turn on optuna log notes\n",
    "    #optuna.logging.set_verbosity(optuna.logging.INFO)\n",
    "\n",
    "    print(f\"\\n{mf.color.bold}Finding best trial ...{mf.color.end}\")\n",
    "            \n",
    "    gt = dt.datetime.now()\n",
    "    \n",
    "    study = optuna.create_study(direction=\"maximize\")\n",
    "    \n",
    "    try:\n",
    "        # callbacks [self.save_study] is to save study in case memory fails\n",
    "        study.optimize(lambda trial: rfo.objective_rf(trial, gt), \n",
    "                        n_trials = nn_trials,\n",
    "                        callbacks = [rfo.logging_callback, rfo.save_study],\n",
    "                        gc_after_trial = True,\n",
    "                        catch = (RuntimeWarning,ArithmeticError,))\n",
    "    except MemoryError as e:\n",
    "        print(f'{mf.color.bdblue}{e} : Memory was getting low, Trial ended early{mf.color.end}')\n",
    "  \n",
    "    complete_trials = [t for t in study.trials if t.state == optuna.trial.TrialState.COMPLETE]\n",
    "    pruned_trials = [t for t in study.trials if t.state == optuna.trial.TrialState.PRUNED]\n",
    "    print()\n",
    "    print(f'Number of finished trials: {len(study.trials)}')\n",
    "    print(f'Number of pruned trials: {len(pruned_trials)}')\n",
    "    print(f'Number of completed trials: {mf.color.bdgreen}{len(complete_trials)}{mf.color.end}')\n",
    "    print(f'{mf.color.bdblue}Best trial: {study.best_trial.params}{mf.color.end}')\n",
    "    \n",
    "    joblib.dump(study, f\"{workdir}rfc_optuna_study.pkl\")   # save study\n",
    "    # jl = joblib.load(f\"{workdir}rfc_optuna_study.pkl\")   # load study\n",
    "\n",
    "    print()\n",
    "    return study\n",
    "\n",
    "study_results = RandomForestOptunaTuning()"
   ]
  },
  {
   "cell_type": "code",
   "execution_count": 104,
   "metadata": {
    "execution": {
     "iopub.execute_input": "2022-05-17T08:51:30.730686Z",
     "iopub.status.busy": "2022-05-17T08:51:30.730146Z",
     "iopub.status.idle": "2022-05-17T08:51:30.747737Z",
     "shell.execute_reply": "2022-05-17T08:51:30.746717Z",
     "shell.execute_reply.started": "2022-05-17T08:51:30.730639Z"
    }
   },
   "outputs": [
    {
     "data": {
      "text/plain": [
       "{'max_features': 0.9243759057391803,\n",
       " 'min_samples_split': 7,\n",
       " 'min_samples_leaf': 3,\n",
       " 'max_samples': 0.8738214334605927,\n",
       " 'max_depth': 11,\n",
       " 'n_estimators': 100}"
      ]
     },
     "metadata": {},
     "output_type": "display_data"
    },
    {
     "data": {
      "text/plain": [
       "0.9180310271440839"
      ]
     },
     "metadata": {},
     "output_type": "display_data"
    },
    {
     "data": {
      "text/plain": [
       "FrozenTrial(number=0, values=[0.9180310271440839], datetime_start=datetime.datetime(2022, 6, 4, 14, 49, 31, 441212), datetime_complete=datetime.datetime(2022, 6, 4, 14, 57, 38, 318212), params={'max_features': 0.9243759057391803, 'min_samples_split': 7, 'min_samples_leaf': 3, 'max_samples': 0.8738214334605927, 'max_depth': 11, 'n_estimators': 100}, distributions={'max_features': UniformDistribution(high=1.0, low=0.15), 'min_samples_split': IntUniformDistribution(high=14, low=2, step=1), 'min_samples_leaf': IntUniformDistribution(high=14, low=1, step=1), 'max_samples': UniformDistribution(high=0.99, low=0.6), 'max_depth': CategoricalDistribution(choices=(9, 11, 13)), 'n_estimators': CategoricalDistribution(choices=(100,))}, user_attrs={}, system_attrs={}, intermediate_values={1: 0.9180310271440839}, trial_id=0, state=TrialState.COMPLETE, value=None)"
      ]
     },
     "metadata": {},
     "output_type": "display_data"
    }
   ],
   "source": [
    "display(study_results.best_params) # Get best parameters for the objective function.\n",
    "\n",
    "display(study_results.best_value)  # Get best objective value.\n",
    "\n",
    "display(study_results.best_trial)  # Get best trial's information."
   ]
  },
  {
   "cell_type": "code",
   "execution_count": 105,
   "metadata": {
    "execution": {
     "iopub.execute_input": "2022-05-17T08:51:30.750371Z",
     "iopub.status.busy": "2022-05-17T08:51:30.749694Z",
     "iopub.status.idle": "2022-05-17T08:51:30.759270Z",
     "shell.execute_reply": "2022-05-17T08:51:30.757995Z",
     "shell.execute_reply.started": "2022-05-17T08:51:30.750321Z"
    },
    "scrolled": true
   },
   "outputs": [
    {
     "data": {
      "text/plain": [
       "{'max_features': 0.9243759057391803,\n",
       " 'min_samples_split': 7,\n",
       " 'min_samples_leaf': 3,\n",
       " 'max_samples': 0.8738214334605927,\n",
       " 'max_depth': 11,\n",
       " 'n_estimators': 100}"
      ]
     },
     "execution_count": 105,
     "metadata": {},
     "output_type": "execute_result"
    }
   ],
   "source": [
    "best_trial = study_results.best_trial.params\n",
    "best_trial"
   ]
  },
  {
   "cell_type": "code",
   "execution_count": 106,
   "metadata": {
    "execution": {
     "iopub.execute_input": "2022-05-17T08:51:30.761803Z",
     "iopub.status.busy": "2022-05-17T08:51:30.761468Z",
     "iopub.status.idle": "2022-05-17T08:51:30.787243Z",
     "shell.execute_reply": "2022-05-17T08:51:30.786095Z",
     "shell.execute_reply.started": "2022-05-17T08:51:30.761757Z"
    }
   },
   "outputs": [
    {
     "data": {
      "text/html": [
       "<div>\n",
       "<style scoped>\n",
       "    .dataframe tbody tr th:only-of-type {\n",
       "        vertical-align: middle;\n",
       "    }\n",
       "\n",
       "    .dataframe tbody tr th {\n",
       "        vertical-align: top;\n",
       "    }\n",
       "\n",
       "    .dataframe thead th {\n",
       "        text-align: right;\n",
       "    }\n",
       "</style>\n",
       "<table border=\"1\" class=\"dataframe\">\n",
       "  <thead>\n",
       "    <tr style=\"text-align: right;\">\n",
       "      <th></th>\n",
       "      <th>number</th>\n",
       "      <th>value</th>\n",
       "      <th>datetime_start</th>\n",
       "      <th>datetime_complete</th>\n",
       "      <th>duration</th>\n",
       "      <th>params_max_depth</th>\n",
       "      <th>params_max_features</th>\n",
       "      <th>params_max_samples</th>\n",
       "      <th>params_min_samples_leaf</th>\n",
       "      <th>params_min_samples_split</th>\n",
       "      <th>params_n_estimators</th>\n",
       "      <th>state</th>\n",
       "    </tr>\n",
       "  </thead>\n",
       "  <tbody>\n",
       "    <tr>\n",
       "      <th>1</th>\n",
       "      <td>1</td>\n",
       "      <td>0.899474</td>\n",
       "      <td>2022-06-04 14:57:38.486056</td>\n",
       "      <td>2022-06-04 15:01:52.204857</td>\n",
       "      <td>0 days 00:04:13.718801</td>\n",
       "      <td>9</td>\n",
       "      <td>0.659976</td>\n",
       "      <td>0.679300</td>\n",
       "      <td>8</td>\n",
       "      <td>13</td>\n",
       "      <td>100</td>\n",
       "      <td>COMPLETE</td>\n",
       "    </tr>\n",
       "    <tr>\n",
       "      <th>2</th>\n",
       "      <td>2</td>\n",
       "      <td>0.905901</td>\n",
       "      <td>2022-06-04 15:01:52.363258</td>\n",
       "      <td>2022-06-04 15:05:31.512289</td>\n",
       "      <td>0 days 00:03:39.149031</td>\n",
       "      <td>13</td>\n",
       "      <td>0.367636</td>\n",
       "      <td>0.767061</td>\n",
       "      <td>6</td>\n",
       "      <td>3</td>\n",
       "      <td>100</td>\n",
       "      <td>COMPLETE</td>\n",
       "    </tr>\n",
       "  </tbody>\n",
       "</table>\n",
       "</div>"
      ],
      "text/plain": [
       "   number     value             datetime_start          datetime_complete  \\\n",
       "1       1  0.899474 2022-06-04 14:57:38.486056 2022-06-04 15:01:52.204857   \n",
       "2       2  0.905901 2022-06-04 15:01:52.363258 2022-06-04 15:05:31.512289   \n",
       "\n",
       "                duration  params_max_depth  params_max_features  \\\n",
       "1 0 days 00:04:13.718801                 9             0.659976   \n",
       "2 0 days 00:03:39.149031                13             0.367636   \n",
       "\n",
       "   params_max_samples  params_min_samples_leaf  params_min_samples_split  \\\n",
       "1            0.679300                        8                        13   \n",
       "2            0.767061                        6                         3   \n",
       "\n",
       "   params_n_estimators     state  \n",
       "1                  100  COMPLETE  \n",
       "2                  100  COMPLETE  "
      ]
     },
     "execution_count": 106,
     "metadata": {},
     "output_type": "execute_result"
    }
   ],
   "source": [
    "# Trial results dataframe sorted from best value ascending\n",
    "ViewResultsAsDf()"
   ]
  },
  {
   "cell_type": "code",
   "execution_count": 107,
   "metadata": {
    "execution": {
     "iopub.execute_input": "2022-05-17T08:51:30.789445Z",
     "iopub.status.busy": "2022-05-17T08:51:30.788961Z",
     "iopub.status.idle": "2022-05-17T08:51:31.063425Z",
     "shell.execute_reply": "2022-05-17T08:51:31.062464Z",
     "shell.execute_reply.started": "2022-05-17T08:51:30.789388Z"
    }
   },
   "outputs": [
    {
     "data": {
      "application/vnd.plotly.v1+json": {
       "config": {
        "plotlyServerURL": "https://plot.ly"
       },
       "data": [
        {
         "cliponaxis": false,
         "hovertemplate": [
          "n_estimators (CategoricalDistribution): 0.0<extra></extra>",
          "max_samples (UniformDistribution): 0.14809134386139625<extra></extra>",
          "min_samples_split (IntUniformDistribution): 0.17440860220649737<extra></extra>",
          "max_features (UniformDistribution): 0.2211656824410734<extra></extra>",
          "max_depth (CategoricalDistribution): 0.22633520796896028<extra></extra>",
          "min_samples_leaf (IntUniformDistribution): 0.22999916352207278<extra></extra>"
         ],
         "marker": {
          "color": "rgb(66,146,198)"
         },
         "orientation": "h",
         "text": [
          "0.0",
          "0.14809134386139625",
          "0.17440860220649737",
          "0.2211656824410734",
          "0.22633520796896028",
          "0.22999916352207278"
         ],
         "textposition": "outside",
         "texttemplate": "%{text:.2f}",
         "type": "bar",
         "x": [
          0,
          0.14809134386139625,
          0.17440860220649737,
          0.2211656824410734,
          0.22633520796896028,
          0.22999916352207278
         ],
         "y": [
          "n_estimators",
          "max_samples",
          "min_samples_split",
          "max_features",
          "max_depth",
          "min_samples_leaf"
         ]
        }
       ],
       "layout": {
        "showlegend": false,
        "template": {
         "data": {
          "bar": [
           {
            "error_x": {
             "color": "#2a3f5f"
            },
            "error_y": {
             "color": "#2a3f5f"
            },
            "marker": {
             "line": {
              "color": "#E5ECF6",
              "width": 0.5
             },
             "pattern": {
              "fillmode": "overlay",
              "size": 10,
              "solidity": 0.2
             }
            },
            "type": "bar"
           }
          ],
          "barpolar": [
           {
            "marker": {
             "line": {
              "color": "#E5ECF6",
              "width": 0.5
             },
             "pattern": {
              "fillmode": "overlay",
              "size": 10,
              "solidity": 0.2
             }
            },
            "type": "barpolar"
           }
          ],
          "carpet": [
           {
            "aaxis": {
             "endlinecolor": "#2a3f5f",
             "gridcolor": "white",
             "linecolor": "white",
             "minorgridcolor": "white",
             "startlinecolor": "#2a3f5f"
            },
            "baxis": {
             "endlinecolor": "#2a3f5f",
             "gridcolor": "white",
             "linecolor": "white",
             "minorgridcolor": "white",
             "startlinecolor": "#2a3f5f"
            },
            "type": "carpet"
           }
          ],
          "choropleth": [
           {
            "colorbar": {
             "outlinewidth": 0,
             "ticks": ""
            },
            "type": "choropleth"
           }
          ],
          "contour": [
           {
            "colorbar": {
             "outlinewidth": 0,
             "ticks": ""
            },
            "colorscale": [
             [
              0,
              "#0d0887"
             ],
             [
              0.1111111111111111,
              "#46039f"
             ],
             [
              0.2222222222222222,
              "#7201a8"
             ],
             [
              0.3333333333333333,
              "#9c179e"
             ],
             [
              0.4444444444444444,
              "#bd3786"
             ],
             [
              0.5555555555555556,
              "#d8576b"
             ],
             [
              0.6666666666666666,
              "#ed7953"
             ],
             [
              0.7777777777777778,
              "#fb9f3a"
             ],
             [
              0.8888888888888888,
              "#fdca26"
             ],
             [
              1,
              "#f0f921"
             ]
            ],
            "type": "contour"
           }
          ],
          "contourcarpet": [
           {
            "colorbar": {
             "outlinewidth": 0,
             "ticks": ""
            },
            "type": "contourcarpet"
           }
          ],
          "heatmap": [
           {
            "colorbar": {
             "outlinewidth": 0,
             "ticks": ""
            },
            "colorscale": [
             [
              0,
              "#0d0887"
             ],
             [
              0.1111111111111111,
              "#46039f"
             ],
             [
              0.2222222222222222,
              "#7201a8"
             ],
             [
              0.3333333333333333,
              "#9c179e"
             ],
             [
              0.4444444444444444,
              "#bd3786"
             ],
             [
              0.5555555555555556,
              "#d8576b"
             ],
             [
              0.6666666666666666,
              "#ed7953"
             ],
             [
              0.7777777777777778,
              "#fb9f3a"
             ],
             [
              0.8888888888888888,
              "#fdca26"
             ],
             [
              1,
              "#f0f921"
             ]
            ],
            "type": "heatmap"
           }
          ],
          "heatmapgl": [
           {
            "colorbar": {
             "outlinewidth": 0,
             "ticks": ""
            },
            "colorscale": [
             [
              0,
              "#0d0887"
             ],
             [
              0.1111111111111111,
              "#46039f"
             ],
             [
              0.2222222222222222,
              "#7201a8"
             ],
             [
              0.3333333333333333,
              "#9c179e"
             ],
             [
              0.4444444444444444,
              "#bd3786"
             ],
             [
              0.5555555555555556,
              "#d8576b"
             ],
             [
              0.6666666666666666,
              "#ed7953"
             ],
             [
              0.7777777777777778,
              "#fb9f3a"
             ],
             [
              0.8888888888888888,
              "#fdca26"
             ],
             [
              1,
              "#f0f921"
             ]
            ],
            "type": "heatmapgl"
           }
          ],
          "histogram": [
           {
            "marker": {
             "pattern": {
              "fillmode": "overlay",
              "size": 10,
              "solidity": 0.2
             }
            },
            "type": "histogram"
           }
          ],
          "histogram2d": [
           {
            "colorbar": {
             "outlinewidth": 0,
             "ticks": ""
            },
            "colorscale": [
             [
              0,
              "#0d0887"
             ],
             [
              0.1111111111111111,
              "#46039f"
             ],
             [
              0.2222222222222222,
              "#7201a8"
             ],
             [
              0.3333333333333333,
              "#9c179e"
             ],
             [
              0.4444444444444444,
              "#bd3786"
             ],
             [
              0.5555555555555556,
              "#d8576b"
             ],
             [
              0.6666666666666666,
              "#ed7953"
             ],
             [
              0.7777777777777778,
              "#fb9f3a"
             ],
             [
              0.8888888888888888,
              "#fdca26"
             ],
             [
              1,
              "#f0f921"
             ]
            ],
            "type": "histogram2d"
           }
          ],
          "histogram2dcontour": [
           {
            "colorbar": {
             "outlinewidth": 0,
             "ticks": ""
            },
            "colorscale": [
             [
              0,
              "#0d0887"
             ],
             [
              0.1111111111111111,
              "#46039f"
             ],
             [
              0.2222222222222222,
              "#7201a8"
             ],
             [
              0.3333333333333333,
              "#9c179e"
             ],
             [
              0.4444444444444444,
              "#bd3786"
             ],
             [
              0.5555555555555556,
              "#d8576b"
             ],
             [
              0.6666666666666666,
              "#ed7953"
             ],
             [
              0.7777777777777778,
              "#fb9f3a"
             ],
             [
              0.8888888888888888,
              "#fdca26"
             ],
             [
              1,
              "#f0f921"
             ]
            ],
            "type": "histogram2dcontour"
           }
          ],
          "mesh3d": [
           {
            "colorbar": {
             "outlinewidth": 0,
             "ticks": ""
            },
            "type": "mesh3d"
           }
          ],
          "parcoords": [
           {
            "line": {
             "colorbar": {
              "outlinewidth": 0,
              "ticks": ""
             }
            },
            "type": "parcoords"
           }
          ],
          "pie": [
           {
            "automargin": true,
            "type": "pie"
           }
          ],
          "scatter": [
           {
            "marker": {
             "colorbar": {
              "outlinewidth": 0,
              "ticks": ""
             }
            },
            "type": "scatter"
           }
          ],
          "scatter3d": [
           {
            "line": {
             "colorbar": {
              "outlinewidth": 0,
              "ticks": ""
             }
            },
            "marker": {
             "colorbar": {
              "outlinewidth": 0,
              "ticks": ""
             }
            },
            "type": "scatter3d"
           }
          ],
          "scattercarpet": [
           {
            "marker": {
             "colorbar": {
              "outlinewidth": 0,
              "ticks": ""
             }
            },
            "type": "scattercarpet"
           }
          ],
          "scattergeo": [
           {
            "marker": {
             "colorbar": {
              "outlinewidth": 0,
              "ticks": ""
             }
            },
            "type": "scattergeo"
           }
          ],
          "scattergl": [
           {
            "marker": {
             "colorbar": {
              "outlinewidth": 0,
              "ticks": ""
             }
            },
            "type": "scattergl"
           }
          ],
          "scattermapbox": [
           {
            "marker": {
             "colorbar": {
              "outlinewidth": 0,
              "ticks": ""
             }
            },
            "type": "scattermapbox"
           }
          ],
          "scatterpolar": [
           {
            "marker": {
             "colorbar": {
              "outlinewidth": 0,
              "ticks": ""
             }
            },
            "type": "scatterpolar"
           }
          ],
          "scatterpolargl": [
           {
            "marker": {
             "colorbar": {
              "outlinewidth": 0,
              "ticks": ""
             }
            },
            "type": "scatterpolargl"
           }
          ],
          "scatterternary": [
           {
            "marker": {
             "colorbar": {
              "outlinewidth": 0,
              "ticks": ""
             }
            },
            "type": "scatterternary"
           }
          ],
          "surface": [
           {
            "colorbar": {
             "outlinewidth": 0,
             "ticks": ""
            },
            "colorscale": [
             [
              0,
              "#0d0887"
             ],
             [
              0.1111111111111111,
              "#46039f"
             ],
             [
              0.2222222222222222,
              "#7201a8"
             ],
             [
              0.3333333333333333,
              "#9c179e"
             ],
             [
              0.4444444444444444,
              "#bd3786"
             ],
             [
              0.5555555555555556,
              "#d8576b"
             ],
             [
              0.6666666666666666,
              "#ed7953"
             ],
             [
              0.7777777777777778,
              "#fb9f3a"
             ],
             [
              0.8888888888888888,
              "#fdca26"
             ],
             [
              1,
              "#f0f921"
             ]
            ],
            "type": "surface"
           }
          ],
          "table": [
           {
            "cells": {
             "fill": {
              "color": "#EBF0F8"
             },
             "line": {
              "color": "white"
             }
            },
            "header": {
             "fill": {
              "color": "#C8D4E3"
             },
             "line": {
              "color": "white"
             }
            },
            "type": "table"
           }
          ]
         },
         "layout": {
          "annotationdefaults": {
           "arrowcolor": "#2a3f5f",
           "arrowhead": 0,
           "arrowwidth": 1
          },
          "autotypenumbers": "strict",
          "coloraxis": {
           "colorbar": {
            "outlinewidth": 0,
            "ticks": ""
           }
          },
          "colorscale": {
           "diverging": [
            [
             0,
             "#8e0152"
            ],
            [
             0.1,
             "#c51b7d"
            ],
            [
             0.2,
             "#de77ae"
            ],
            [
             0.3,
             "#f1b6da"
            ],
            [
             0.4,
             "#fde0ef"
            ],
            [
             0.5,
             "#f7f7f7"
            ],
            [
             0.6,
             "#e6f5d0"
            ],
            [
             0.7,
             "#b8e186"
            ],
            [
             0.8,
             "#7fbc41"
            ],
            [
             0.9,
             "#4d9221"
            ],
            [
             1,
             "#276419"
            ]
           ],
           "sequential": [
            [
             0,
             "#0d0887"
            ],
            [
             0.1111111111111111,
             "#46039f"
            ],
            [
             0.2222222222222222,
             "#7201a8"
            ],
            [
             0.3333333333333333,
             "#9c179e"
            ],
            [
             0.4444444444444444,
             "#bd3786"
            ],
            [
             0.5555555555555556,
             "#d8576b"
            ],
            [
             0.6666666666666666,
             "#ed7953"
            ],
            [
             0.7777777777777778,
             "#fb9f3a"
            ],
            [
             0.8888888888888888,
             "#fdca26"
            ],
            [
             1,
             "#f0f921"
            ]
           ],
           "sequentialminus": [
            [
             0,
             "#0d0887"
            ],
            [
             0.1111111111111111,
             "#46039f"
            ],
            [
             0.2222222222222222,
             "#7201a8"
            ],
            [
             0.3333333333333333,
             "#9c179e"
            ],
            [
             0.4444444444444444,
             "#bd3786"
            ],
            [
             0.5555555555555556,
             "#d8576b"
            ],
            [
             0.6666666666666666,
             "#ed7953"
            ],
            [
             0.7777777777777778,
             "#fb9f3a"
            ],
            [
             0.8888888888888888,
             "#fdca26"
            ],
            [
             1,
             "#f0f921"
            ]
           ]
          },
          "colorway": [
           "#636efa",
           "#EF553B",
           "#00cc96",
           "#ab63fa",
           "#FFA15A",
           "#19d3f3",
           "#FF6692",
           "#B6E880",
           "#FF97FF",
           "#FECB52"
          ],
          "font": {
           "color": "#2a3f5f"
          },
          "geo": {
           "bgcolor": "white",
           "lakecolor": "white",
           "landcolor": "#E5ECF6",
           "showlakes": true,
           "showland": true,
           "subunitcolor": "white"
          },
          "hoverlabel": {
           "align": "left"
          },
          "hovermode": "closest",
          "mapbox": {
           "style": "light"
          },
          "paper_bgcolor": "white",
          "plot_bgcolor": "#E5ECF6",
          "polar": {
           "angularaxis": {
            "gridcolor": "white",
            "linecolor": "white",
            "ticks": ""
           },
           "bgcolor": "#E5ECF6",
           "radialaxis": {
            "gridcolor": "white",
            "linecolor": "white",
            "ticks": ""
           }
          },
          "scene": {
           "xaxis": {
            "backgroundcolor": "#E5ECF6",
            "gridcolor": "white",
            "gridwidth": 2,
            "linecolor": "white",
            "showbackground": true,
            "ticks": "",
            "zerolinecolor": "white"
           },
           "yaxis": {
            "backgroundcolor": "#E5ECF6",
            "gridcolor": "white",
            "gridwidth": 2,
            "linecolor": "white",
            "showbackground": true,
            "ticks": "",
            "zerolinecolor": "white"
           },
           "zaxis": {
            "backgroundcolor": "#E5ECF6",
            "gridcolor": "white",
            "gridwidth": 2,
            "linecolor": "white",
            "showbackground": true,
            "ticks": "",
            "zerolinecolor": "white"
           }
          },
          "shapedefaults": {
           "line": {
            "color": "#2a3f5f"
           }
          },
          "ternary": {
           "aaxis": {
            "gridcolor": "white",
            "linecolor": "white",
            "ticks": ""
           },
           "baxis": {
            "gridcolor": "white",
            "linecolor": "white",
            "ticks": ""
           },
           "bgcolor": "#E5ECF6",
           "caxis": {
            "gridcolor": "white",
            "linecolor": "white",
            "ticks": ""
           }
          },
          "title": {
           "x": 0.05
          },
          "xaxis": {
           "automargin": true,
           "gridcolor": "white",
           "linecolor": "white",
           "ticks": "",
           "title": {
            "standoff": 15
           },
           "zerolinecolor": "white",
           "zerolinewidth": 2
          },
          "yaxis": {
           "automargin": true,
           "gridcolor": "white",
           "linecolor": "white",
           "ticks": "",
           "title": {
            "standoff": 15
           },
           "zerolinecolor": "white",
           "zerolinewidth": 2
          }
         }
        },
        "title": {
         "text": "Hyperparameter Importances"
        },
        "xaxis": {
         "title": {
          "text": "Importance for Objective Value"
         }
        },
        "yaxis": {
         "title": {
          "text": "Hyperparameter"
         }
        }
       }
      },
      "text/html": [
       "<div>                            <div id=\"16efccab-7c82-4d6b-a474-ad3325b79f10\" class=\"plotly-graph-div\" style=\"height:525px; width:100%;\"></div>            <script type=\"text/javascript\">                require([\"plotly\"], function(Plotly) {                    window.PLOTLYENV=window.PLOTLYENV || {};                                    if (document.getElementById(\"16efccab-7c82-4d6b-a474-ad3325b79f10\")) {                    Plotly.newPlot(                        \"16efccab-7c82-4d6b-a474-ad3325b79f10\",                        [{\"cliponaxis\":false,\"hovertemplate\":[\"n_estimators (CategoricalDistribution): 0.0<extra></extra>\",\"max_samples (UniformDistribution): 0.14809134386139625<extra></extra>\",\"min_samples_split (IntUniformDistribution): 0.17440860220649737<extra></extra>\",\"max_features (UniformDistribution): 0.2211656824410734<extra></extra>\",\"max_depth (CategoricalDistribution): 0.22633520796896028<extra></extra>\",\"min_samples_leaf (IntUniformDistribution): 0.22999916352207278<extra></extra>\"],\"marker\":{\"color\":\"rgb(66,146,198)\"},\"orientation\":\"h\",\"text\":[\"0.0\",\"0.14809134386139625\",\"0.17440860220649737\",\"0.2211656824410734\",\"0.22633520796896028\",\"0.22999916352207278\"],\"textposition\":\"outside\",\"texttemplate\":\"%{text:.2f}\",\"x\":[0.0,0.14809134386139625,0.17440860220649737,0.2211656824410734,0.22633520796896028,0.22999916352207278],\"y\":[\"n_estimators\",\"max_samples\",\"min_samples_split\",\"max_features\",\"max_depth\",\"min_samples_leaf\"],\"type\":\"bar\"}],                        {\"showlegend\":false,\"title\":{\"text\":\"Hyperparameter Importances\"},\"xaxis\":{\"title\":{\"text\":\"Importance for Objective Value\"}},\"yaxis\":{\"title\":{\"text\":\"Hyperparameter\"}},\"template\":{\"data\":{\"bar\":[{\"error_x\":{\"color\":\"#2a3f5f\"},\"error_y\":{\"color\":\"#2a3f5f\"},\"marker\":{\"line\":{\"color\":\"#E5ECF6\",\"width\":0.5},\"pattern\":{\"fillmode\":\"overlay\",\"size\":10,\"solidity\":0.2}},\"type\":\"bar\"}],\"barpolar\":[{\"marker\":{\"line\":{\"color\":\"#E5ECF6\",\"width\":0.5},\"pattern\":{\"fillmode\":\"overlay\",\"size\":10,\"solidity\":0.2}},\"type\":\"barpolar\"}],\"carpet\":[{\"aaxis\":{\"endlinecolor\":\"#2a3f5f\",\"gridcolor\":\"white\",\"linecolor\":\"white\",\"minorgridcolor\":\"white\",\"startlinecolor\":\"#2a3f5f\"},\"baxis\":{\"endlinecolor\":\"#2a3f5f\",\"gridcolor\":\"white\",\"linecolor\":\"white\",\"minorgridcolor\":\"white\",\"startlinecolor\":\"#2a3f5f\"},\"type\":\"carpet\"}],\"choropleth\":[{\"colorbar\":{\"outlinewidth\":0,\"ticks\":\"\"},\"type\":\"choropleth\"}],\"contour\":[{\"colorbar\":{\"outlinewidth\":0,\"ticks\":\"\"},\"colorscale\":[[0.0,\"#0d0887\"],[0.1111111111111111,\"#46039f\"],[0.2222222222222222,\"#7201a8\"],[0.3333333333333333,\"#9c179e\"],[0.4444444444444444,\"#bd3786\"],[0.5555555555555556,\"#d8576b\"],[0.6666666666666666,\"#ed7953\"],[0.7777777777777778,\"#fb9f3a\"],[0.8888888888888888,\"#fdca26\"],[1.0,\"#f0f921\"]],\"type\":\"contour\"}],\"contourcarpet\":[{\"colorbar\":{\"outlinewidth\":0,\"ticks\":\"\"},\"type\":\"contourcarpet\"}],\"heatmap\":[{\"colorbar\":{\"outlinewidth\":0,\"ticks\":\"\"},\"colorscale\":[[0.0,\"#0d0887\"],[0.1111111111111111,\"#46039f\"],[0.2222222222222222,\"#7201a8\"],[0.3333333333333333,\"#9c179e\"],[0.4444444444444444,\"#bd3786\"],[0.5555555555555556,\"#d8576b\"],[0.6666666666666666,\"#ed7953\"],[0.7777777777777778,\"#fb9f3a\"],[0.8888888888888888,\"#fdca26\"],[1.0,\"#f0f921\"]],\"type\":\"heatmap\"}],\"heatmapgl\":[{\"colorbar\":{\"outlinewidth\":0,\"ticks\":\"\"},\"colorscale\":[[0.0,\"#0d0887\"],[0.1111111111111111,\"#46039f\"],[0.2222222222222222,\"#7201a8\"],[0.3333333333333333,\"#9c179e\"],[0.4444444444444444,\"#bd3786\"],[0.5555555555555556,\"#d8576b\"],[0.6666666666666666,\"#ed7953\"],[0.7777777777777778,\"#fb9f3a\"],[0.8888888888888888,\"#fdca26\"],[1.0,\"#f0f921\"]],\"type\":\"heatmapgl\"}],\"histogram\":[{\"marker\":{\"pattern\":{\"fillmode\":\"overlay\",\"size\":10,\"solidity\":0.2}},\"type\":\"histogram\"}],\"histogram2d\":[{\"colorbar\":{\"outlinewidth\":0,\"ticks\":\"\"},\"colorscale\":[[0.0,\"#0d0887\"],[0.1111111111111111,\"#46039f\"],[0.2222222222222222,\"#7201a8\"],[0.3333333333333333,\"#9c179e\"],[0.4444444444444444,\"#bd3786\"],[0.5555555555555556,\"#d8576b\"],[0.6666666666666666,\"#ed7953\"],[0.7777777777777778,\"#fb9f3a\"],[0.8888888888888888,\"#fdca26\"],[1.0,\"#f0f921\"]],\"type\":\"histogram2d\"}],\"histogram2dcontour\":[{\"colorbar\":{\"outlinewidth\":0,\"ticks\":\"\"},\"colorscale\":[[0.0,\"#0d0887\"],[0.1111111111111111,\"#46039f\"],[0.2222222222222222,\"#7201a8\"],[0.3333333333333333,\"#9c179e\"],[0.4444444444444444,\"#bd3786\"],[0.5555555555555556,\"#d8576b\"],[0.6666666666666666,\"#ed7953\"],[0.7777777777777778,\"#fb9f3a\"],[0.8888888888888888,\"#fdca26\"],[1.0,\"#f0f921\"]],\"type\":\"histogram2dcontour\"}],\"mesh3d\":[{\"colorbar\":{\"outlinewidth\":0,\"ticks\":\"\"},\"type\":\"mesh3d\"}],\"parcoords\":[{\"line\":{\"colorbar\":{\"outlinewidth\":0,\"ticks\":\"\"}},\"type\":\"parcoords\"}],\"pie\":[{\"automargin\":true,\"type\":\"pie\"}],\"scatter\":[{\"marker\":{\"colorbar\":{\"outlinewidth\":0,\"ticks\":\"\"}},\"type\":\"scatter\"}],\"scatter3d\":[{\"line\":{\"colorbar\":{\"outlinewidth\":0,\"ticks\":\"\"}},\"marker\":{\"colorbar\":{\"outlinewidth\":0,\"ticks\":\"\"}},\"type\":\"scatter3d\"}],\"scattercarpet\":[{\"marker\":{\"colorbar\":{\"outlinewidth\":0,\"ticks\":\"\"}},\"type\":\"scattercarpet\"}],\"scattergeo\":[{\"marker\":{\"colorbar\":{\"outlinewidth\":0,\"ticks\":\"\"}},\"type\":\"scattergeo\"}],\"scattergl\":[{\"marker\":{\"colorbar\":{\"outlinewidth\":0,\"ticks\":\"\"}},\"type\":\"scattergl\"}],\"scattermapbox\":[{\"marker\":{\"colorbar\":{\"outlinewidth\":0,\"ticks\":\"\"}},\"type\":\"scattermapbox\"}],\"scatterpolar\":[{\"marker\":{\"colorbar\":{\"outlinewidth\":0,\"ticks\":\"\"}},\"type\":\"scatterpolar\"}],\"scatterpolargl\":[{\"marker\":{\"colorbar\":{\"outlinewidth\":0,\"ticks\":\"\"}},\"type\":\"scatterpolargl\"}],\"scatterternary\":[{\"marker\":{\"colorbar\":{\"outlinewidth\":0,\"ticks\":\"\"}},\"type\":\"scatterternary\"}],\"surface\":[{\"colorbar\":{\"outlinewidth\":0,\"ticks\":\"\"},\"colorscale\":[[0.0,\"#0d0887\"],[0.1111111111111111,\"#46039f\"],[0.2222222222222222,\"#7201a8\"],[0.3333333333333333,\"#9c179e\"],[0.4444444444444444,\"#bd3786\"],[0.5555555555555556,\"#d8576b\"],[0.6666666666666666,\"#ed7953\"],[0.7777777777777778,\"#fb9f3a\"],[0.8888888888888888,\"#fdca26\"],[1.0,\"#f0f921\"]],\"type\":\"surface\"}],\"table\":[{\"cells\":{\"fill\":{\"color\":\"#EBF0F8\"},\"line\":{\"color\":\"white\"}},\"header\":{\"fill\":{\"color\":\"#C8D4E3\"},\"line\":{\"color\":\"white\"}},\"type\":\"table\"}]},\"layout\":{\"annotationdefaults\":{\"arrowcolor\":\"#2a3f5f\",\"arrowhead\":0,\"arrowwidth\":1},\"autotypenumbers\":\"strict\",\"coloraxis\":{\"colorbar\":{\"outlinewidth\":0,\"ticks\":\"\"}},\"colorscale\":{\"diverging\":[[0,\"#8e0152\"],[0.1,\"#c51b7d\"],[0.2,\"#de77ae\"],[0.3,\"#f1b6da\"],[0.4,\"#fde0ef\"],[0.5,\"#f7f7f7\"],[0.6,\"#e6f5d0\"],[0.7,\"#b8e186\"],[0.8,\"#7fbc41\"],[0.9,\"#4d9221\"],[1,\"#276419\"]],\"sequential\":[[0.0,\"#0d0887\"],[0.1111111111111111,\"#46039f\"],[0.2222222222222222,\"#7201a8\"],[0.3333333333333333,\"#9c179e\"],[0.4444444444444444,\"#bd3786\"],[0.5555555555555556,\"#d8576b\"],[0.6666666666666666,\"#ed7953\"],[0.7777777777777778,\"#fb9f3a\"],[0.8888888888888888,\"#fdca26\"],[1.0,\"#f0f921\"]],\"sequentialminus\":[[0.0,\"#0d0887\"],[0.1111111111111111,\"#46039f\"],[0.2222222222222222,\"#7201a8\"],[0.3333333333333333,\"#9c179e\"],[0.4444444444444444,\"#bd3786\"],[0.5555555555555556,\"#d8576b\"],[0.6666666666666666,\"#ed7953\"],[0.7777777777777778,\"#fb9f3a\"],[0.8888888888888888,\"#fdca26\"],[1.0,\"#f0f921\"]]},\"colorway\":[\"#636efa\",\"#EF553B\",\"#00cc96\",\"#ab63fa\",\"#FFA15A\",\"#19d3f3\",\"#FF6692\",\"#B6E880\",\"#FF97FF\",\"#FECB52\"],\"font\":{\"color\":\"#2a3f5f\"},\"geo\":{\"bgcolor\":\"white\",\"lakecolor\":\"white\",\"landcolor\":\"#E5ECF6\",\"showlakes\":true,\"showland\":true,\"subunitcolor\":\"white\"},\"hoverlabel\":{\"align\":\"left\"},\"hovermode\":\"closest\",\"mapbox\":{\"style\":\"light\"},\"paper_bgcolor\":\"white\",\"plot_bgcolor\":\"#E5ECF6\",\"polar\":{\"angularaxis\":{\"gridcolor\":\"white\",\"linecolor\":\"white\",\"ticks\":\"\"},\"bgcolor\":\"#E5ECF6\",\"radialaxis\":{\"gridcolor\":\"white\",\"linecolor\":\"white\",\"ticks\":\"\"}},\"scene\":{\"xaxis\":{\"backgroundcolor\":\"#E5ECF6\",\"gridcolor\":\"white\",\"gridwidth\":2,\"linecolor\":\"white\",\"showbackground\":true,\"ticks\":\"\",\"zerolinecolor\":\"white\"},\"yaxis\":{\"backgroundcolor\":\"#E5ECF6\",\"gridcolor\":\"white\",\"gridwidth\":2,\"linecolor\":\"white\",\"showbackground\":true,\"ticks\":\"\",\"zerolinecolor\":\"white\"},\"zaxis\":{\"backgroundcolor\":\"#E5ECF6\",\"gridcolor\":\"white\",\"gridwidth\":2,\"linecolor\":\"white\",\"showbackground\":true,\"ticks\":\"\",\"zerolinecolor\":\"white\"}},\"shapedefaults\":{\"line\":{\"color\":\"#2a3f5f\"}},\"ternary\":{\"aaxis\":{\"gridcolor\":\"white\",\"linecolor\":\"white\",\"ticks\":\"\"},\"baxis\":{\"gridcolor\":\"white\",\"linecolor\":\"white\",\"ticks\":\"\"},\"bgcolor\":\"#E5ECF6\",\"caxis\":{\"gridcolor\":\"white\",\"linecolor\":\"white\",\"ticks\":\"\"}},\"title\":{\"x\":0.05},\"xaxis\":{\"automargin\":true,\"gridcolor\":\"white\",\"linecolor\":\"white\",\"ticks\":\"\",\"title\":{\"standoff\":15},\"zerolinecolor\":\"white\",\"zerolinewidth\":2},\"yaxis\":{\"automargin\":true,\"gridcolor\":\"white\",\"linecolor\":\"white\",\"ticks\":\"\",\"title\":{\"standoff\":15},\"zerolinecolor\":\"white\",\"zerolinewidth\":2}}}},                        {\"responsive\": true}                    ).then(function(){\n",
       "                            \n",
       "var gd = document.getElementById('16efccab-7c82-4d6b-a474-ad3325b79f10');\n",
       "var x = new MutationObserver(function (mutations, observer) {{\n",
       "        var display = window.getComputedStyle(gd).display;\n",
       "        if (!display || display === 'none') {{\n",
       "            console.log([gd, 'removed!']);\n",
       "            Plotly.purge(gd);\n",
       "            observer.disconnect();\n",
       "        }}\n",
       "}});\n",
       "\n",
       "// Listen for the removal of the full notebook cells\n",
       "var notebookContainer = gd.closest('#notebook-container');\n",
       "if (notebookContainer) {{\n",
       "    x.observe(notebookContainer, {childList: true});\n",
       "}}\n",
       "\n",
       "// Listen for the clearing of the current output cell\n",
       "var outputEl = gd.closest('.output');\n",
       "if (outputEl) {{\n",
       "    x.observe(outputEl, {childList: true});\n",
       "}}\n",
       "\n",
       "                        })                };                });            </script>        </div>"
      ]
     },
     "metadata": {},
     "output_type": "display_data"
    }
   ],
   "source": [
    "#Visualize parameter importance\n",
    "optuna.visualization.plot_param_importances(study_results)"
   ]
  },
  {
   "cell_type": "markdown",
   "metadata": {
    "execution": {
     "iopub.execute_input": "2022-05-17T07:15:49.429758Z",
     "iopub.status.busy": "2022-05-17T07:15:49.429388Z",
     "iopub.status.idle": "2022-05-17T07:15:49.458798Z",
     "shell.execute_reply": "2022-05-17T07:15:49.457385Z",
     "shell.execute_reply.started": "2022-05-17T07:15:49.429667Z"
    }
   },
   "source": [
    "<i><a style=\"color:DarkSlateGrey\" href=\"#toc\">Back to Table Of Contents</a></i>"
   ]
  },
  {
   "cell_type": "markdown",
   "metadata": {},
   "source": [
    "<div style=\"font-family: Trebuchet MS;background-color:LightSteelBlue;color:Black;text-align: left;padding-top: 5px;padding-bottom: 15px;padding-left: 20px;padding-right: 10px;border-radius: 15px 50px;letter-spacing: 2px;\">\n",
    "    <b>Random Forest Score With Optuna Hyperparameters</b>\n",
    "</div>"
   ]
  },
  {
   "cell_type": "code",
   "execution_count": 111,
   "metadata": {
    "execution": {
     "iopub.execute_input": "2022-05-17T08:51:31.065926Z",
     "iopub.status.busy": "2022-05-17T08:51:31.064935Z",
     "iopub.status.idle": "2022-05-17T08:52:17.355500Z",
     "shell.execute_reply": "2022-05-17T08:52:17.350323Z",
     "shell.execute_reply.started": "2022-05-17T08:51:31.065864Z"
    }
   },
   "outputs": [
    {
     "name": "stdout",
     "output_type": "stream",
     "text": [
      "\n",
      "X_train size :  608064\n",
      "X_valid size :  130299\n",
      "X_test size  :  130300\n",
      "\n",
      "\u001b[1m\u001b[92mPlease wait, resampling train data\u001b[0m\n",
      "\n",
      "Before Resampling train -> 1 : 499948, 0 : 108116\n",
      "After Resampling  train -> 1 : 499948, 0 : 499948\n",
      "\n",
      "\u001b[1m\u001b[94mResampling \u001b[0mRuntime : 0:00:00.976237\n",
      "\n",
      "\u001b[1mPlease wait, Fitting model can take time ...\u001b[0m\n",
      "Fitting model completed.\n",
      "\n",
      "Preparing Predictions\n",
      "\u001b[4mMetrics : Random Forest Classifier\u001b[0m\n",
      "\n",
      "\u001b[1my_valid RMSE: \u001b[1m\u001b[92m\u001b[4m0.30122658862301466\u001b[0m\n",
      "\n",
      "\u001b[1my_valid f1 score: \u001b[1m\u001b[92m\u001b[4m90.92625423065411\u001b[0m\n",
      "\n",
      "------------------------------\n",
      "\n",
      "\u001b[1mConfusion Matrix using Validation Data (y_valid)\u001b[0m\n",
      "\n",
      "True Negative : CHGOFF (0) was predicted 21385 times correctly     (68.05 %)\n",
      "False Negative : CHGOFF (0) was predicted 10041 times incorrectly     (31.95 %)\n",
      "True Positive : P I F (1) was predicted 97091 times correctly     (98.2 %)\n",
      "False Positive : P I F (1) was predicted 1782 times incorrectly     (1.8 %)\n",
      "\n",
      "CPU times: total: 7min 38s\n",
      "Wall time: 7min 45s\n"
     ]
    },
    {
     "data": {
      "image/png": "[encoded data removed]",
      "text/plain": [
       "<Figure size 600x600 with 1 Axes>"
      ]
     },
     "metadata": {
      "needs_background": "light"
     },
     "output_type": "display_data"
    }
   ],
   "source": [
    "%%time\n",
    "\n",
    "def RunModelrf2():\n",
    "    X = pd.read_feather(final_ds)\n",
    "    #X = X.head(500)      # uncomment for testing\n",
    "    y = X.pop('MIS_Status')\n",
    "\n",
    "    modelrf = other_models(X, y)\n",
    "    modelrf.split_data(0.7)\n",
    "    modelrf.osample(os_data = [1,0,0])\n",
    "    \n",
    "    modelrf.X, modelrf.y = None, None\n",
    "    del X, y\n",
    "    gc.collect()\n",
    "    sleep(3)\n",
    "    \n",
    "    modelrf.prep_run_model(\"Metrics : Random Forest Classifier\",\n",
    "                            modelname='rfc', hparams = best_trial)\n",
    "\n",
    "RunModelrf2()"
   ]
  },
  {
   "cell_type": "markdown",
   "metadata": {},
   "source": [
    "<div class=\"alert alert-block alert-info\">\n",
    "    Once again, Optuna helped us get parameters that improved the score.</div>"
   ]
  },
  {
   "cell_type": "code",
   "execution_count": 43,
   "metadata": {
    "execution": {
     "iopub.execute_input": "2022-05-17T08:52:17.358100Z",
     "iopub.status.busy": "2022-05-17T08:52:17.357077Z",
     "iopub.status.idle": "2022-05-17T08:52:17.589890Z",
     "shell.execute_reply": "2022-05-17T08:52:17.588811Z",
     "shell.execute_reply.started": "2022-05-17T08:52:17.358044Z"
    }
   },
   "outputs": [
    {
     "data": {
      "text/plain": [
       "0"
      ]
     },
     "execution_count": 43,
     "metadata": {},
     "output_type": "execute_result"
    }
   ],
   "source": [
    "del study_results, best_trial\n",
    "gc.collect()"
   ]
  },
  {
   "cell_type": "markdown",
   "metadata": {
    "execution": {
     "iopub.execute_input": "2022-05-17T07:15:49.429758Z",
     "iopub.status.busy": "2022-05-17T07:15:49.429388Z",
     "iopub.status.idle": "2022-05-17T07:15:49.458798Z",
     "shell.execute_reply": "2022-05-17T07:15:49.457385Z",
     "shell.execute_reply.started": "2022-05-17T07:15:49.429667Z"
    }
   },
   "source": [
    "<i><a style=\"color:DarkSlateGrey\" href=\"#toc\">Back to Table Of Contents</a></i>"
   ]
  },
  {
   "cell_type": "markdown",
   "metadata": {},
   "source": [
    "<div style=\"font-family: Trebuchet MS;background-color:LightSteelBlue;color:Black;text-align: left;padding-top: 5px;padding-bottom: 15px;padding-left: 20px;padding-right: 10px;border-radius: 15px 50px;letter-spacing: 2px;\">\n",
    "    <b>RandomizedSearchCV</b>\n",
    "</div>"
   ]
  },
  {
   "cell_type": "markdown",
   "metadata": {},
   "source": [
    "<div class=\"alert alert-block alert-info\">\n",
    "    Below is a reference on using a <b>RandomizedSearchCV</b> first for Random Forest hyperparameter tuning.<br><br>\n",
    "  Once done, one would have randomly narrowed down some parameters which we can base our inputs for a full <b>GridSearchCV</b> (not shown here).\n",
    "    <br><br>\n",
    "    Both approaches take an <b>extremely long time to run</b> using our SBA dataset, and the line to run the task is commented out.  Uncomment if you want to try.  Otherwise, <b>Optuna</b> is a much faster method.</div>"
   ]
  },
  {
   "cell_type": "code",
   "execution_count": 44,
   "metadata": {
    "execution": {
     "iopub.execute_input": "2022-05-17T08:52:17.591691Z",
     "iopub.status.busy": "2022-05-17T08:52:17.591352Z",
     "iopub.status.idle": "2022-05-17T08:52:17.605388Z",
     "shell.execute_reply": "2022-05-17T08:52:17.604129Z",
     "shell.execute_reply.started": "2022-05-17T08:52:17.591642Z"
    }
   },
   "outputs": [
    {
     "name": "stdout",
     "output_type": "stream",
     "text": [
      "Default parameters in use:\n",
      "\n"
     ]
    },
    {
     "data": {
      "text/plain": [
       "{'bootstrap': True,\n",
       " 'ccp_alpha': 0.0,\n",
       " 'class_weight': None,\n",
       " 'criterion': 'gini',\n",
       " 'max_depth': None,\n",
       " 'max_features': 'auto',\n",
       " 'max_leaf_nodes': None,\n",
       " 'max_samples': None,\n",
       " 'min_impurity_decrease': 0.0,\n",
       " 'min_impurity_split': None,\n",
       " 'min_samples_leaf': 1,\n",
       " 'min_samples_split': 2,\n",
       " 'min_weight_fraction_leaf': 0.0,\n",
       " 'n_estimators': 100,\n",
       " 'n_jobs': None,\n",
       " 'oob_score': False,\n",
       " 'random_state': 48,\n",
       " 'verbose': 0,\n",
       " 'warm_start': False}"
      ]
     },
     "metadata": {},
     "output_type": "display_data"
    }
   ],
   "source": [
    "def ViewDefaultRFCParams():\n",
    "    rf = RandomForestClassifier(random_state = 48)\n",
    "    # Look at parameters used by our current forest\n",
    "    print('Default parameters in use:\\n')\n",
    "    display(rf.get_params())\n",
    "\n",
    "ViewDefaultRFCParams()"
   ]
  },
  {
   "cell_type": "code",
   "execution_count": 45,
   "metadata": {
    "execution": {
     "iopub.execute_input": "2022-05-17T08:52:17.608166Z",
     "iopub.status.busy": "2022-05-17T08:52:17.607490Z",
     "iopub.status.idle": "2022-05-17T08:52:17.620610Z",
     "shell.execute_reply": "2022-05-17T08:52:17.619392Z",
     "shell.execute_reply.started": "2022-05-17T08:52:17.608119Z"
    }
   },
   "outputs": [
    {
     "data": {
      "text/plain": [
       "{'n_estimators': [500, 1250, 2000],\n",
       " 'max_features': ['auto', 'sqrt'],\n",
       " 'max_depth': [6, 9, 12, 15, None],\n",
       " 'min_samples_split': [2, 5, 10],\n",
       " 'min_samples_leaf': [1, 2, 4],\n",
       " 'bootstrap': [True, False]}"
      ]
     },
     "metadata": {},
     "output_type": "display_data"
    }
   ],
   "source": [
    "from sklearn.model_selection import RandomizedSearchCV\n",
    "\n",
    "def SuggestRFCParams():\n",
    "    # Number of trees in random forest\n",
    "    n_estimators = [int(x) for x in np.linspace(start = 500, stop = 2000, num = 3)]\n",
    "    # Number of features to consider at every split\n",
    "    max_features = ['auto', 'sqrt']\n",
    "    # Maximum number of levels in tree\n",
    "    max_depth = [int(x) for x in np.linspace(6, 15, num = 4)]\n",
    "    max_depth.append(None)\n",
    "    # Minimum number of samples required to split a node\n",
    "    min_samples_split = [2, 5, 10]\n",
    "    # Minimum number of samples required at each leaf node\n",
    "    min_samples_leaf = [1, 2, 4]\n",
    "    # Method of selecting samples for training each tree\n",
    "    bootstrap = [True, False]\n",
    "    \n",
    "    # Create the random grid\n",
    "    random_grid = {'n_estimators': n_estimators,\n",
    "                   'max_features': max_features,\n",
    "                   'max_depth': max_depth,\n",
    "                   'min_samples_split': min_samples_split,\n",
    "                   'min_samples_leaf': min_samples_leaf,\n",
    "                   'bootstrap': bootstrap}\n",
    "    display(random_grid)\n",
    "    return random_grid\n",
    "\n",
    "random_grid = SuggestRFCParams()"
   ]
  },
  {
   "cell_type": "code",
   "execution_count": 100,
   "metadata": {
    "execution": {
     "iopub.execute_input": "2022-05-17T08:52:17.627751Z",
     "iopub.status.busy": "2022-05-17T08:52:17.627324Z",
     "iopub.status.idle": "2022-05-17T08:52:17.638540Z",
     "shell.execute_reply": "2022-05-17T08:52:17.637391Z",
     "shell.execute_reply.started": "2022-05-17T08:52:17.627695Z"
    }
   },
   "outputs": [
    {
     "name": "stdout",
     "output_type": "stream",
     "text": [
      "CPU times: total: 0 ns\n",
      "Wall time: 0 ns\n"
     ]
    }
   ],
   "source": [
    "%%time\n",
    "\n",
    "def RandomSearchCV(random_grid):\n",
    "    X = pd.read_feather(final_ds)\n",
    "    y = X.pop('MIS_Status')\n",
    "\n",
    "    modelrf = other_models(X, y)\n",
    "    modelrf.split_data(0.7)\n",
    "    modelrf.osample(os_data = [1,0,0])\n",
    "    \n",
    "    X_train, y_train = modelrf.X_train, modelrf.y_train\n",
    "    \n",
    "    del X, y, modelrf\n",
    "    gc.collect()\n",
    "    sleep(3)\n",
    "    \n",
    "    # Use the random grid to search for best hyperparameters\n",
    "    # First create the base model to tune\n",
    "    rf = RandomForestClassifier()\n",
    "\n",
    "    # Random search of parameters, using 3 fold cross validation, \n",
    "    # search across 100 different combinations, and use all available cores\n",
    "    rf_random = RandomizedSearchCV(estimator = rf, param_distributions = random_grid,\n",
    "                                   n_iter = 5, cv = 3, verbose=10, random_state=48)\n",
    "\n",
    "    # Fit the random search model\n",
    "    rf_random.fit(X_train, y_train)\n",
    "    \n",
    "    return rf_random.best_params_\n",
    "\n",
    "#rf_best_params = RandomSearchCV(random_grid)\n",
    "#rf_best_params"
   ]
  },
  {
   "cell_type": "code",
   "execution_count": 47,
   "metadata": {
    "execution": {
     "iopub.execute_input": "2022-05-17T08:52:17.640632Z",
     "iopub.status.busy": "2022-05-17T08:52:17.640266Z",
     "iopub.status.idle": "2022-05-17T08:52:17.881616Z",
     "shell.execute_reply": "2022-05-17T08:52:17.880572Z",
     "shell.execute_reply.started": "2022-05-17T08:52:17.640584Z"
    }
   },
   "outputs": [
    {
     "data": {
      "text/plain": [
       "0"
      ]
     },
     "execution_count": 47,
     "metadata": {},
     "output_type": "execute_result"
    }
   ],
   "source": [
    "del random_grid #,rf_best_params \n",
    "gc.collect()"
   ]
  },
  {
   "cell_type": "markdown",
   "metadata": {
    "execution": {
     "iopub.execute_input": "2022-05-17T07:15:49.429758Z",
     "iopub.status.busy": "2022-05-17T07:15:49.429388Z",
     "iopub.status.idle": "2022-05-17T07:15:49.458798Z",
     "shell.execute_reply": "2022-05-17T07:15:49.457385Z",
     "shell.execute_reply.started": "2022-05-17T07:15:49.429667Z"
    }
   },
   "source": [
    "<i><a style=\"color:DarkSlateGrey\" href=\"#toc\">Back to Table Of Contents</a></i>"
   ]
  },
  {
   "cell_type": "markdown",
   "metadata": {},
   "source": [
    "In the next notebook, we will run <b>Keras Binary Classification models, with Optuna and Keras Tuner.</b><br><br>\n",
    "<a style=\"color:DarkSlateGrey;font-size:18px\" href=\"https://www.kaggle.com/code/josephramon/sba-keras-binary-classification-and-optuna\">SBA Binary Classification, Optuna, and Keras Tuner - <i style='font-size:13px'>this will open a new browser tab</i></a>"
   ]
  }
 ],
 "metadata": {
  "kernelspec": {
   "display_name": "Python 3 (ipykernel)",
   "language": "python",
   "name": "python3"
  },
  "language_info": {
   "codemirror_mode": {
    "name": "ipython",
    "version": 3
   },
   "file_extension": ".py",
   "mimetype": "text/x-python",
   "name": "python",
   "nbconvert_exporter": "python",
   "pygments_lexer": "ipython3",
   "version": "3.8.12"
  }
 },
 "nbformat": 4,
 "nbformat_minor": 4
}
