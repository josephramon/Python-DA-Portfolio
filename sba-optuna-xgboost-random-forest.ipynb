{
 "cells": [
  {
   "cell_type": "markdown",
   "id": "07e1d180",
   "metadata": {
    "papermill": {
     "duration": 0.064702,
     "end_time": "2022-06-06T19:13:04.570082",
     "exception": false,
     "start_time": "2022-06-06T19:13:04.505380",
     "status": "completed"
    },
    "tags": []
   },
   "source": [
    "<div style=\"font-family: Trebuchet MS;background-color:DarkCyan;color:Azure;text-align: left;padding-top: 5px;padding-bottom: 15px;padding-left: 20px;padding-right: 10px;border-radius: 15px 50px;letter-spacing: 2px;a:link{color: white}\">\n",
    "    <h1 style='color:GhostWhite;'>Part 2: Should This Loan be Approved or Denied ?</h1>\n",
    "    This is a continuation of notebook <a style=\"color:yellow\" href=\"https://www.kaggle.com/code/josephramon/sba-xgboost-model\">Part 1: Should This Loan Be Approved or Denied ?</a><br><br>\n",
    "    The topics covered here are :<br>\n",
    "    <p style=\"color:Gold;\">&nbsp;&nbsp;&nbsp;&nbsp;&nbsp;<b>XGBoost v1.6+ HyperParameter Tuning using Optuna - Full and Incremental</b></p>\n",
    "    <p style=\"color:Gold;\">&nbsp;&nbsp;&nbsp;&nbsp;&nbsp;<b>Random Forest HyperParameter Tuning using Optuna with GPU</b></p>\n",
    "    </div>"
   ]
  },
  {
   "cell_type": "markdown",
   "id": "fa5c4d9a",
   "metadata": {
    "papermill": {
     "duration": 0.062294,
     "end_time": "2022-06-06T19:13:04.694718",
     "exception": false,
     "start_time": "2022-06-06T19:13:04.632424",
     "status": "completed"
    },
    "tags": []
   },
   "source": [
    "<div class=\"alert alert-block alert-success\">  \n",
    "    <b>Dataset Source</b><br><br>\n",
    "    <a href=\"https://www.kaggle.com/mirbektoktogaraev/should-this-loan-be-approved-or-denied\">U.S. Small Business Administration (SBA) Dataset</a> - All information about the dataset can be found here<br><br>    \n",
    "    *<i>Thanks to Hamza for his <a href=\"https://www.kaggle.com/code/hamzaghanmi/xgboost-hyperparameter-tuning-using-optuna/notebook\">Notebook on Optuna</a> which was used as a guide.</i> \n",
    "<br><br>\n",
    "    <b>Other Related Notebooks:</b><br>\n",
    "    <a href= \"https://www.kaggle.com/code/josephramon/sba-xgboost-model\">Part 1: XGBoost for Binary Classification</a><br>\n",
    "    <a href= \"https://www.kaggle.com/code/josephramon/sba-keras-binary-classification-and-optuna\">Part 3: SBA Keras Binary Classification, Optuna, Keras Tuner</a><br><br>\n",
    "    If interested, Data Exploratory Visualization in Tableau can also be seen at :<br>\n",
    "    <a href= \"https://public.tableau.com/app/profile/joseph8038/viz/SBADatasetVisualizationandAnalysis/SBADatasetVisualizationandAnalysis-StoryBoard\">SBA Data Exploratory Visualization in Tableau</a>\n",
    "</div>"
   ]
  },
  {
   "cell_type": "markdown",
   "id": "48ffeeb6",
   "metadata": {
    "papermill": {
     "duration": 0.062563,
     "end_time": "2022-06-06T19:13:04.821810",
     "exception": false,
     "start_time": "2022-06-06T19:13:04.759247",
     "status": "completed"
    },
    "tags": []
   },
   "source": [
    "<div class=\"alert alert-block alert-info\" style=\"color:DarkSlateBlue\">\n",
    "This notebook is divided into 2 main parts:<br>\n",
    "<ul>\n",
    "<li><a style=\"color:DarkSlateGrey;\" href=\"#part1\"><b>1. XGBoost HyperParameter Tuning using Optuna - Full and Incremental</b></a></li><br>\n",
    "<li><a style=\"color:DarkSlateGrey;\" href=\"#part2\"><b>2. Miscellaneous</a></b>  - Early Stopping Rounds, Random Forest Classifier</li>\n",
    "</ul>\n",
    "<br>\n",
    "    <p style=\"color:FireBrick;\"><b>* Output from <a style=\"color:DarkGoldenRod;\" href = \"https://www.kaggle.com/code/josephramon/sba-xgboost-model\">Part 1 notebook</a> are Input to this notebook.</b></p>\n",
    "</div>"
   ]
  },
  {
   "cell_type": "markdown",
   "id": "beac28b8",
   "metadata": {
    "papermill": {
     "duration": 0.061701,
     "end_time": "2022-06-06T19:13:04.947034",
     "exception": false,
     "start_time": "2022-06-06T19:13:04.885333",
     "status": "completed"
    },
    "tags": []
   },
   "source": [
    "<a id=\"toc\"></a>\n",
    "<h2>Table Of Contents</h2>\n",
    "<ul>\n",
    "    <li><a style=\"color:DarkSlateGrey\" href=\"#paths_and_flags\">Paths and Flags</a></li>\n",
    "    <li><a style=\"color:DarkSlateGrey\" href=\"#libraries\">Libraries</a></li>   \n",
    "    <li><a style=\"color:DarkSlateGrey\" href=\"#custom_functions\">Custom Functions</a></li>\n",
    "    <li><a style=\"color:DarkSlateGrey\" href=\"#custom_classes\">Custom Classes</a></li>\n",
    "    <li><a style=\"color:DarkSlateGrey\" href=\"#metrics\">Metrics Function</a></li>\n",
    "    <li><a style=\"color:DarkSlateGrey\" href=\"#xgboost_class\">XGBoost Class</a></li>\n",
    "    <li><a style=\"color:DarkSlateGrey\" href=\"#other_models\">Other Models Class</a></li>\n",
    "    <li><a style=\"color:DarkSlateGrey\" href=\"#optuna_class\">Optuna Class - for both full datasets or incremental</a></li>\n",
    "    <br>\n",
    "    <li><a style=\"color:DarkSlateGrey\" href=\"#part1\">Part 1. XGBoost HyperParameter Tuning using Optuna</a></li>\n",
    "    <ul>\n",
    "    <li><a style=\"color:DarkSlateGrey\" href=\"#full_df\">Optuna Study : Full Dataset</a></li>\n",
    "    <li><a style=\"color:DarkSlateGrey\" href=\"#incremental_df\">Optuna Study : Incremental Dataset</a></li>\n",
    "    <li><a style=\"color:DarkSlateGrey\" href=\"#optuna_metrics\">Optuna Study Metrics</a></li>    \n",
    "    <li><a style=\"color:DarkSlateGrey\" href=\"#try_best_hp\">Model v4 : Try the Optuna Hyperparameters</a></li>\n",
    "    <li><a style=\"color:DarkSlateGrey\" href=\"#optuna_comparison\">Optuna Tuning Comparison</a></li>\n",
    "    <li><a style=\"color:DarkSlateGrey\" href=\"#cross_validation\">Cross Validation</a></li>\n",
    "    </ul>\n",
    "    <br>\n",
    "    <li><a style=\"color:DarkSlateGrey\" href=\"#part2\">Part 2. Miscellaneous</a></li>\n",
    "    <ul>\n",
    "    <li><a style=\"color:DarkSlateGrey\" href=\"#early_stopping_rounds\">Early Stopping Rounds</a></li>\n",
    "    <li><a style=\"color:DarkSlateGrey\" href=\"#random_forest_classifier\">Random Forest Classifier</a></li><br>\n",
    "    </ul>\n",
    "    <li><a style=\"color:DarkSlateGrey;font-size:18px\" href=\"https://www.kaggle.com/code/josephramon/sba-keras-binary-classification-and-optuna\">SBA Binary Classification, Optuna, and Keras Tuner - <i style='font-size:13px'>this will open a new browser tab</i></a></li>\n",
    "</ul>"
   ]
  },
  {
   "cell_type": "markdown",
   "id": "cfb26940",
   "metadata": {
    "papermill": {
     "duration": 0.061638,
     "end_time": "2022-06-06T19:13:05.072111",
     "exception": false,
     "start_time": "2022-06-06T19:13:05.010473",
     "status": "completed"
    },
    "tags": []
   },
   "source": [
    "<a id=\"paths_and_flags\"></a>\n",
    "<div style=\"font-family: Trebuchet MS;background-color:LightSteelBlue;color:Black;text-align: left;padding-top: 5px;padding-bottom: 5px;padding-left: 20px;padding-right: 10px;border-radius: 15px 50px;letter-spacing: 2px;\">\n",
    "    <b>Paths and Flags</b></div>"
   ]
  },
  {
   "cell_type": "code",
   "execution_count": 1,
   "id": "c73820e3",
   "metadata": {
    "execution": {
     "iopub.execute_input": "2022-06-06T19:13:05.200465Z",
     "iopub.status.busy": "2022-06-06T19:13:05.199858Z",
     "iopub.status.idle": "2022-06-06T19:13:05.215897Z",
     "shell.execute_reply": "2022-06-06T19:13:05.215134Z"
    },
    "papermill": {
     "duration": 0.082718,
     "end_time": "2022-06-06T19:13:05.218188",
     "exception": false,
     "start_time": "2022-06-06T19:13:05.135470",
     "status": "completed"
    },
    "tags": []
   },
   "outputs": [
    {
     "name": "stdout",
     "output_type": "stream",
     "text": [
      "Running a Kaggle notebook\n",
      "kaggle_flag : 1\n",
      "alert_flag  : 0\n",
      "optuna_flag : 1\n"
     ]
    }
   ],
   "source": [
    "import os\n",
    "'''\n",
    "kaggle_flag :\n",
    "   0 - if running outside Kaggle (e.g. Jupyter Notebook), change inputdir & workdir to your \n",
    "       own path\n",
    "   1 - if running as a Kaggle notebook\n",
    "'''\n",
    "# Change this logic to your own if needed\n",
    "if os.path.exists('../usr/lib/myfuncs/myfuncs.py'):\n",
    "    kaggle_flag = 1\n",
    "    print('Running a Kaggle notebook')\n",
    "else:\n",
    "    kaggle_flag = 0\n",
    "    print('Not running a Kaggle notebook')\n",
    "\n",
    "# alert_flag - change to 0 for no sound alert, 1 for sound alert after long running cells\n",
    "alert_flag = 0\n",
    "\n",
    "'''\n",
    "We have two options for running Optuna tuning on XGBoost:  \n",
    "   OptunaStudy() - run Optuna on the full dataset\n",
    "   OptunaStudyChunk() - run in chunks, lighter on memory, but much slower\n",
    "\n",
    "Change flag below as needed:\n",
    "   1 to run OptunaStudy() only\n",
    "   2 to run OptunaStudyChunk() only\n",
    "   3 to run both\n",
    "'''\n",
    "optuna_flag = 1\n",
    "\n",
    "# GPU is automatically detected if activated\n",
    "\n",
    "#---------------------------------------------------------------------------------------#\n",
    "\n",
    "if kaggle_flag == 1:             # Kaggle\n",
    "    # Part 1 Notebook's workdir contents are input for this notebook\n",
    "    inputdir  = \"../input/sba-xgboost-model/\"        \n",
    "    workdir  = \"./\"\n",
    "    final_ds  = f'{inputdir}sba_final.csv.feather'  # imported from Part 1 Notebook\n",
    "    final_csv = f'{inputdir}sba_final.csv'          # imported from Part 1 Notebook\n",
    "    functions_path = \"../usr/lib/myfuncs/myfuncs.py\"\n",
    "else:\n",
    "    inputdir  = \"C:\\\\Python\\\\Python_Data_Science_Exercises\\\\datasets\\\\\"\n",
    "    workdir  = \"C:\\\\Python\\\\Python_Data_Science_Exercises\\\\datasets\\\\\"\n",
    "    final_ds  = f'{inputdir}sba_final.csv.feather'\n",
    "    final_csv = f'{inputdir}sba_final.csv'\n",
    "    functions_path = 'C:\\\\Python\\\\Python_Data_Science_Exercises\\\\mylibs\\\\'\n",
    "\n",
    "audio_path=\"https://www.soundjay.com/misc/sounds/tablet-bottle-1.mp3\" # for alert\n",
    "\n",
    "print(f'kaggle_flag : {kaggle_flag}')\n",
    "print(f'alert_flag  : {alert_flag}')\n",
    "print(f'optuna_flag : {optuna_flag}')"
   ]
  },
  {
   "cell_type": "markdown",
   "id": "e383beb4",
   "metadata": {
    "papermill": {
     "duration": 0.062527,
     "end_time": "2022-06-06T19:13:05.345177",
     "exception": false,
     "start_time": "2022-06-06T19:13:05.282650",
     "status": "completed"
    },
    "tags": []
   },
   "source": [
    "<a id=\"libraries\"></a>\n",
    "<div style=\"font-family: Trebuchet MS;background-color:LightSteelBlue;color:Black;text-align: left;padding-top: 5px;padding-bottom: 5px;padding-left: 20px;padding-right: 10px;border-radius: 15px 50px;letter-spacing: 2px;\">\n",
    "    <b>Libraries</b></div>"
   ]
  },
  {
   "cell_type": "code",
   "execution_count": 2,
   "id": "bb444c28",
   "metadata": {
    "execution": {
     "iopub.execute_input": "2022-06-06T19:13:05.473030Z",
     "iopub.status.busy": "2022-06-06T19:13:05.472496Z",
     "iopub.status.idle": "2022-06-06T19:13:47.822895Z",
     "shell.execute_reply": "2022-06-06T19:13:47.822115Z"
    },
    "papermill": {
     "duration": 42.417686,
     "end_time": "2022-06-06T19:13:47.825335",
     "exception": false,
     "start_time": "2022-06-06T19:13:05.407649",
     "status": "completed"
    },
    "tags": []
   },
   "outputs": [
    {
     "name": "stdout",
     "output_type": "stream",
     "text": [
      "Package installations completed\n"
     ]
    }
   ],
   "source": [
    "from IPython.display import clear_output   # to be able to use clear_output(wait=True)\n",
    "def install_packages():\n",
    "    print('Please wait, package installations started, if needed')\n",
    "    libs = ['scikit-learn', 'seaborn', 'numpy','matplotlib', 'tensorflow','torch','joblib',\n",
    "            'psutil','imbalanced-learn','xgboost','optuna','pyarrow','pyttsx3',\n",
    "            'pympler','memory_profiler','line_profiler','sweetviz']\n",
    "    \n",
    "    piplist = !pip3 list\n",
    "    for i in range(len(libs)):\n",
    "        if not piplist.grep(libs[i]):\n",
    "            !pip3 install {libs[i]}\n",
    "        #\n",
    "        # Since XGBoost version must be at least 1.6 for our code to work properly, \n",
    "        # we upgrade it here if needed, before we import it\n",
    "        #\n",
    "        elif libs[i] == 'xgboost':\n",
    "            s = (piplist.grep('xgboost'))[0]\n",
    "            s = \" \".join(s.split())\n",
    "            ver = s.split(\" \")\n",
    "            if ver[1] < '1.6':\n",
    "                !pip3 install --upgrade xgboost\n",
    "\n",
    "    clear_output(wait=True)\n",
    "    print('Package installations completed')\n",
    "\n",
    "install_packages()"
   ]
  },
  {
   "cell_type": "code",
   "execution_count": 3,
   "id": "c38200c7",
   "metadata": {
    "execution": {
     "iopub.execute_input": "2022-06-06T19:13:47.954857Z",
     "iopub.status.busy": "2022-06-06T19:13:47.954575Z",
     "iopub.status.idle": "2022-06-06T19:13:51.536888Z",
     "shell.execute_reply": "2022-06-06T19:13:51.535547Z"
    },
    "papermill": {
     "duration": 3.649163,
     "end_time": "2022-06-06T19:13:51.539302",
     "exception": false,
     "start_time": "2022-06-06T19:13:47.890139",
     "status": "completed"
    },
    "tags": []
   },
   "outputs": [
    {
     "name": "stdout",
     "output_type": "stream",
     "text": [
      "Package imports completed\n"
     ]
    }
   ],
   "source": [
    "import pandas as pd\n",
    "import seaborn as sns\n",
    "import matplotlib.pyplot as plt\n",
    "import numpy as np\n",
    "import warnings\n",
    "import pyttsx3\n",
    "\n",
    "from IPython.display import Audio, display\n",
    "from IPython.display import FileLink\n",
    "from IPython.display import IFrame\n",
    "from IPython.core.display import HTML\n",
    "\n",
    "import hashlib\n",
    "import copy                     # for deepcopy()\n",
    "import datetime as dt\n",
    "import optuna\n",
    "import gc\n",
    "import shutil\n",
    "import psutil\n",
    "import os\n",
    "import sys\n",
    "import pickle\n",
    "import joblib\n",
    "import torch                    # for clearing GPU cache\n",
    "from time import sleep\n",
    "import importlib\n",
    "\n",
    "import xgboost\n",
    "from xgboost import XGBClassifier\n",
    "\n",
    "from imblearn.over_sampling import RandomOverSampler\n",
    "from imblearn.under_sampling import RandomUnderSampler\n",
    "'''\n",
    "We can use these other packages for oversampling, or combined over/under sampling, \n",
    "but they are super slow with large datasets.  It will take 7 to 8 hours just for our \n",
    "X_train dataset\n",
    "''' \n",
    "from imblearn.over_sampling import SMOTE\n",
    "from imblearn.combine import SMOTEENN\n",
    "#from imblearn.over_sampling import ADASYN\n",
    "#from imblearn.combine import SMOTETomek\n",
    "\n",
    "from collections import Counter\n",
    "\n",
    "from sklearn import metrics\n",
    "from sklearn.metrics import classification_report\n",
    "from sklearn.metrics import f1_score\n",
    "from sklearn.model_selection import train_test_split\n",
    "\n",
    "%matplotlib inline\n",
    "warnings.filterwarnings('ignore')\n",
    "warnings.simplefilter(\"ignore\")\n",
    "\n",
    "clear_output(wait=True)\n",
    "print('Package imports completed')"
   ]
  },
  {
   "cell_type": "code",
   "execution_count": 4,
   "id": "424c9289",
   "metadata": {
    "execution": {
     "iopub.execute_input": "2022-06-06T19:13:51.670260Z",
     "iopub.status.busy": "2022-06-06T19:13:51.669606Z",
     "iopub.status.idle": "2022-06-06T19:14:00.613661Z",
     "shell.execute_reply": "2022-06-06T19:14:00.612732Z"
    },
    "papermill": {
     "duration": 9.011218,
     "end_time": "2022-06-06T19:14:00.616169",
     "exception": false,
     "start_time": "2022-06-06T19:13:51.604951",
     "status": "completed"
    },
    "tags": []
   },
   "outputs": [
    {
     "name": "stdout",
     "output_type": "stream",
     "text": [
      "XGBoost __Version__ : 1.6.1 is good.\n",
      "\n",
      "Name: xgboost\r\n",
      "Version: 1.6.1\r\n",
      "Summary: XGBoost Python Package\r\n",
      "Home-page: https://github.com/dmlc/xgboost\r\n",
      "Author: \r\n",
      "Author-email: \r\n",
      "License: Apache-2.0\r\n",
      "Location: /opt/conda/lib/python3.7/site-packages\r\n",
      "Requires: numpy, scipy\r\n",
      "Required-by: TPOT\r\n"
     ]
    }
   ],
   "source": [
    "'''\n",
    "This check is mainly for Kaggle which has an older version of XGBoost, as at Apr 2022\n",
    "\n",
    "XGBoost version should be at least 1.6.  From XGBoost 1.6, early_stopping_rounds and \n",
    "eval_metric are now under hyperparameters, and deprecated from fit() method.\n",
    "'''\n",
    "assert xgboost.__version__ >= '1.6',\\\n",
    "    \"XGBoost version must be at least 1.6. RESTART KERNEL if already upgraded.\"\n",
    "\n",
    "print(f'XGBoost __Version__ : {xgboost.__version__} is good.')\n",
    "print()\n",
    "!pip3 show xgboost"
   ]
  },
  {
   "cell_type": "markdown",
   "id": "d6690070",
   "metadata": {
    "papermill": {
     "duration": 0.080531,
     "end_time": "2022-06-06T19:14:00.763038",
     "exception": false,
     "start_time": "2022-06-06T19:14:00.682507",
     "status": "completed"
    },
    "tags": []
   },
   "source": [
    "<a id=\"custom_functions\"></a>\n",
    "<div style=\"font-family: Trebuchet MS;background-color:LightSteelBlue;color:Black;text-align: left;padding-top: 5px;padding-bottom: 5px;padding-left: 20px;padding-right: 10px;border-radius: 15px 50px;letter-spacing: 2px;\">\n",
    "    <b>Custom Functions</b></div>"
   ]
  },
  {
   "cell_type": "code",
   "execution_count": 5,
   "id": "ccf8d6c3",
   "metadata": {
    "execution": {
     "iopub.execute_input": "2022-06-06T19:14:01.000419Z",
     "iopub.status.busy": "2022-06-06T19:14:01.000137Z",
     "iopub.status.idle": "2022-06-06T19:14:01.013192Z",
     "shell.execute_reply": "2022-06-06T19:14:01.012432Z"
    },
    "papermill": {
     "duration": 0.124263,
     "end_time": "2022-06-06T19:14:01.015795",
     "exception": false,
     "start_time": "2022-06-06T19:14:00.891532",
     "status": "completed"
    },
    "tags": []
   },
   "outputs": [
    {
     "data": {
      "text/plain": [
       "['/kaggle/working',\n",
       " '/kaggle/lib/kagglegym',\n",
       " '/kaggle/lib',\n",
       " '/kaggle/usr/lib',\n",
       " '/kaggle/usr/lib/myfuncs',\n",
       " '/opt/conda/lib/python37.zip',\n",
       " '/opt/conda/lib/python3.7',\n",
       " '/opt/conda/lib/python3.7/lib-dynload',\n",
       " '',\n",
       " '/root/.local/lib/python3.7/site-packages',\n",
       " '/opt/conda/lib/python3.7/site-packages',\n",
       " '/src/bq-helper',\n",
       " '/opt/conda/lib/python3.7/site-packages/IPython/extensions',\n",
       " '/root/.ipython']"
      ]
     },
     "execution_count": 5,
     "metadata": {},
     "output_type": "execute_result"
    }
   ],
   "source": [
    "sys.path"
   ]
  },
  {
   "cell_type": "code",
   "execution_count": 6,
   "id": "4f8a81cd",
   "metadata": {
    "execution": {
     "iopub.execute_input": "2022-06-06T19:14:01.233360Z",
     "iopub.status.busy": "2022-06-06T19:14:01.233027Z",
     "iopub.status.idle": "2022-06-06T19:14:05.640253Z",
     "shell.execute_reply": "2022-06-06T19:14:05.639286Z"
    },
    "papermill": {
     "duration": 4.518387,
     "end_time": "2022-06-06T19:14:05.642748",
     "exception": false,
     "start_time": "2022-06-06T19:14:01.124361",
     "status": "completed"
    },
    "tags": []
   },
   "outputs": [
    {
     "name": "stdout",
     "output_type": "stream",
     "text": [
      "Custom functions import completed\n"
     ]
    }
   ],
   "source": [
    "# import custom functions\n",
    "# rerun this cell if any changes are made to myfuncs.py during the current session\n",
    "\n",
    "if functions_path not in sys.path:\n",
    "    sys.path.append(functions_path)\n",
    "import myfuncs as mf\n",
    "importlib.reload(mf)      # in case changes were made to myfuncs during current session\n",
    "print('Custom functions import completed')"
   ]
  },
  {
   "cell_type": "markdown",
   "id": "2703de69",
   "metadata": {
    "papermill": {
     "duration": 0.068722,
     "end_time": "2022-06-06T19:14:05.778554",
     "exception": false,
     "start_time": "2022-06-06T19:14:05.709832",
     "status": "completed"
    },
    "tags": []
   },
   "source": [
    "<div class=\"alert alert-block alert-info\">\n",
    "<b>Some custom functions and classes in <a style=\"color:ForestGreen\" href=\"https://www.kaggle.com/code/josephramon/myfuncs\" target=\"_blank\">myfuncs.py</a></b>.  Not all are used in this notebook; and those used are called with a qualification \"<b>mf.</b>\".<br>  \n",
    "In Kaggle, myfuncs.py is set up as a <b>Utility Script</b> in /usr/lib<br>\n",
    "<ul>\n",
    "    <li>is_kaggle_gpu_enabled()</li>\n",
    "<li>clear_gpu(tree_method='gpu_hist')</li>\n",
    "<li>reduce_mem_usage(df, print_info = True, use_float16=False)</li>\n",
    "<li>runtime(rt1,rt2)</li>\n",
    "<li>create_download_link(title = \"Download \", filename = \"data.csv\")</li>\n",
    "<li>GetRam()</li>\n",
    "<li>convertFloatToDecimal(f=0.0, precision=2)</li>\n",
    "<li>formatFileSize(size, sizeIn, sizeOut, precision=0)</li>\n",
    "<li>check_cols_with_nulls(df)</li>\n",
    "<li>check_infinity_nan(df, dfname)</li>\n",
    "<li>fixvals(val)</li>\n",
    "<li>model_eval(y_valid,predictions, cmDisplay=False)</li>\n",
    "<li>model_eval2(model, X_train, y_train, X_testdata, y_testdata,\n",
    "    cmDisplay=False, prtstr = 'y_valid')</li>\n",
    "<li>plot_features(booster, figsize)</li>\n",
    "<li>make_mi_scores(X, y)</li>\n",
    "<li>plot_mi_scores(scores)</li>\n",
    "<li>GetSweetVizReport(df, workdir, kaggle_flag)</li>\n",
    "<li>SetVoice(kaggle_flag)</li>\n",
    "<li>InitTPUStrategy()</li>\n",
    "<li>ZipDir(zippath)</li>\n",
    "<li>GetTimeZone()</li>\n",
    "<li>GetRatio(num1, num2)</li>\n",
    "<li>class color</li>\n",
    "</div>"
   ]
  },
  {
   "cell_type": "code",
   "execution_count": 7,
   "id": "e9cd3bf4",
   "metadata": {
    "execution": {
     "iopub.execute_input": "2022-06-06T19:14:05.915333Z",
     "iopub.status.busy": "2022-06-06T19:14:05.915087Z",
     "iopub.status.idle": "2022-06-06T19:14:05.919245Z",
     "shell.execute_reply": "2022-06-06T19:14:05.918463Z"
    },
    "papermill": {
     "duration": 0.073894,
     "end_time": "2022-06-06T19:14:05.921138",
     "exception": false,
     "start_time": "2022-06-06T19:14:05.847244",
     "status": "completed"
    },
    "tags": []
   },
   "outputs": [],
   "source": [
    "# ensure garbage collector is enabled\n",
    "(gc.isenabled() == False) and gc.enable();"
   ]
  },
  {
   "cell_type": "code",
   "execution_count": 8,
   "id": "24c9b3be",
   "metadata": {
    "execution": {
     "iopub.execute_input": "2022-06-06T19:14:06.061750Z",
     "iopub.status.busy": "2022-06-06T19:14:06.061064Z",
     "iopub.status.idle": "2022-06-06T19:14:15.858208Z",
     "shell.execute_reply": "2022-06-06T19:14:15.857478Z"
    },
    "papermill": {
     "duration": 9.872177,
     "end_time": "2022-06-06T19:14:15.860401",
     "exception": false,
     "start_time": "2022-06-06T19:14:05.988224",
     "status": "completed"
    },
    "tags": []
   },
   "outputs": [
    {
     "data": {
      "text/plain": [
       "'gpu_hist'"
      ]
     },
     "execution_count": 8,
     "metadata": {},
     "output_type": "execute_result"
    }
   ],
   "source": [
    "gpu_enabled = mf.is_kaggle_gpu_enabled()\n",
    "\n",
    "if gpu_enabled == False:\n",
    "    tree_method = 'hist'\n",
    "else:\n",
    "    tree_method = 'gpu_hist'\n",
    "\n",
    "del gpu_enabled\n",
    "gc.collect()\n",
    "\n",
    "sleep(5)\n",
    "clear_output(wait=True)\n",
    "tree_method"
   ]
  },
  {
   "cell_type": "code",
   "execution_count": 9,
   "id": "a4b4a6dd",
   "metadata": {
    "execution": {
     "iopub.execute_input": "2022-06-06T19:14:15.993727Z",
     "iopub.status.busy": "2022-06-06T19:14:15.993481Z",
     "iopub.status.idle": "2022-06-06T19:14:15.996968Z",
     "shell.execute_reply": "2022-06-06T19:14:15.996253Z"
    },
    "papermill": {
     "duration": 0.071717,
     "end_time": "2022-06-06T19:14:15.998678",
     "exception": false,
     "start_time": "2022-06-06T19:14:15.926961",
     "status": "completed"
    },
    "tags": []
   },
   "outputs": [],
   "source": [
    "''' \n",
    "Set up voice object.  Used in different areas of notebook to indicate completion of long processes.\n",
    "'''\n",
    "engine = mf.SetVoice(kaggle_flag)"
   ]
  },
  {
   "cell_type": "markdown",
   "id": "3bef44c3",
   "metadata": {
    "execution": {
     "iopub.execute_input": "2022-05-17T07:15:49.429758Z",
     "iopub.status.busy": "2022-05-17T07:15:49.429388Z",
     "iopub.status.idle": "2022-05-17T07:15:49.458798Z",
     "shell.execute_reply": "2022-05-17T07:15:49.457385Z",
     "shell.execute_reply.started": "2022-05-17T07:15:49.429667Z"
    },
    "papermill": {
     "duration": 0.065384,
     "end_time": "2022-06-06T19:14:16.130433",
     "exception": false,
     "start_time": "2022-06-06T19:14:16.065049",
     "status": "completed"
    },
    "tags": []
   },
   "source": [
    "<i><a style=\"color:DarkSlateGrey\" href=\"#toc\">Back to Table Of Contents</a></i>"
   ]
  },
  {
   "cell_type": "markdown",
   "id": "258678e2",
   "metadata": {
    "papermill": {
     "duration": 0.065171,
     "end_time": "2022-06-06T19:14:16.260991",
     "exception": false,
     "start_time": "2022-06-06T19:14:16.195820",
     "status": "completed"
    },
    "tags": []
   },
   "source": [
    "<a id=\"custom_classes\"></a>\n",
    "<div style=\"font-family: Trebuchet MS;background-color:PowderBlue;color:Black;text-align: left;padding-top: 5px;padding-bottom: 5px;padding-left: 20px;padding-right: 10px;border-radius: 15px 50px;letter-spacing: 2px;\">\n",
    "    <b>Custom Classes</b></div>"
   ]
  },
  {
   "cell_type": "markdown",
   "id": "7f96c4ec",
   "metadata": {
    "papermill": {
     "duration": 0.065047,
     "end_time": "2022-06-06T19:14:16.393192",
     "exception": false,
     "start_time": "2022-06-06T19:14:16.328145",
     "status": "completed"
    },
    "tags": []
   },
   "source": [
    "<a id=\"xgboost_class\"></a>\n",
    "<div style=\"font-family: Trebuchet MS;background-color:LightSteelBlue;color:Black;text-align: left;padding-top: 5px;padding-bottom: 5px;padding-left: 20px;padding-right: 10px;border-radius: 15px 50px;letter-spacing: 2px;\">\n",
    "    <b>XGBoost Class</b></div>"
   ]
  },
  {
   "cell_type": "code",
   "execution_count": 10,
   "id": "072201a3",
   "metadata": {
    "execution": {
     "iopub.execute_input": "2022-06-06T19:14:16.527374Z",
     "iopub.status.busy": "2022-06-06T19:14:16.527128Z",
     "iopub.status.idle": "2022-06-06T19:14:16.560068Z",
     "shell.execute_reply": "2022-06-06T19:14:16.559250Z"
    },
    "papermill": {
     "duration": 0.104294,
     "end_time": "2022-06-06T19:14:16.563940",
     "exception": false,
     "start_time": "2022-06-06T19:14:16.459646",
     "status": "completed"
    },
    "tags": []
   },
   "outputs": [
    {
     "name": "stdout",
     "output_type": "stream",
     "text": [
      "XGBoost class initialized\n"
     ]
    }
   ],
   "source": [
    "class process_model():  \n",
    "    def __init__(self, X, y):\n",
    "        self.X = X\n",
    "        self.y = y\n",
    "        self.X_train, self.y_train = None, None\n",
    "        self.X_valid, self.X_test = None, None\n",
    "        self.y_valid, self.y_test = None, None\n",
    "        \n",
    "        self.xg_model = None\n",
    "\n",
    "        print(f'MIS_Status Count ->  1 : {Counter(y)[1]}, 0 : {Counter(y)[0]}')\n",
    "\n",
    "    def osample(self, print_info = True, os_data = [1,0,0], os_class = 'ros'):\n",
    "        '''\n",
    "        #Resampling method\n",
    "        os_data:\n",
    "            os_data[0] : 1 to resample train data; otherwise, 0 \n",
    "            os_data[1] : 1 to resample valid data; otherwise, 0\n",
    "            os_data[2] : 1 to resample test data; otherwise, 0\n",
    "        ''' \n",
    "        # oversample\n",
    "        if os_class == 'sm':\n",
    "            resample = SMOTE(sampling_strategy='minority', n_jobs = -1, random_state=48)\n",
    "        # combined over and under sampling\n",
    "        elif os_class == 'sme':\n",
    "            resample = SMOTEENN(sampling_strategy='minority', n_jobs = -1, random_state=48)\n",
    "        # undersample\n",
    "        elif os_class == 'rus':\n",
    "            resample = RandomUnderSampler(sampling_strategy='majority', random_state=48)\n",
    "        # oversample\n",
    "        else:\n",
    "            resample = RandomOverSampler(sampling_strategy='minority', random_state=48) \n",
    "        \n",
    "        rt1=dt.datetime.now()\n",
    "            \n",
    "        if print_info == True:\n",
    "            print()\n",
    "            print('X_train size : ', len(self.X_train))\n",
    "            print('X_valid size : ', len(self.X_valid))\n",
    "            print('X_test size  : ', len(self.X_test))\n",
    "            \n",
    "        # fit and apply the transform\n",
    "        print()\n",
    "        if os_data[0] == 1:\n",
    "            print(f'{mf.color.bdgreen}Please wait, resampling train data{mf.color.end}')\n",
    "            X_train_over, y_train_over = resample.fit_resample(self.X_train, self.y_train)\n",
    "            \n",
    "        if os_data[1] == 1:\n",
    "            print(f'{mf.color.bdgreen}Please wait, resampling valid data{mf.color.end}')\n",
    "            X_valid_over, y_valid_over = resample.fit_resample(self.X_valid, self.y_valid)\n",
    "            \n",
    "        if os_data[2] == 1:\n",
    "            print(f'{mf.color.bdgreen}Please wait, resampling test data{mf.color.end}')\n",
    "            X_test_over, y_test_over   = resample.fit_resample(self.X_test, self.y_test)\n",
    "\n",
    "        # summarize class distribution\n",
    "        if print_info == True:\n",
    "            if os_data[0] == 1:\n",
    "                print('\\nBefore Resampling train -> 1 : {}, 0 : {}'.format(\n",
    "                    Counter(self.y_train)[1], Counter(self.y_train)[0]))\n",
    "\n",
    "                print('After Resampling  train -> 1 : {}, 0 : {}'.format(\n",
    "                    Counter(y_train_over)[1], Counter(y_train_over)[0]))\n",
    "            if os_data[1] == 1:\n",
    "                print('\\nBefore Resampling valid -> 1 : {}, 0 : {}'.format(\n",
    "                    Counter(self.y_valid)[1], Counter(self.y_valid)[0]))\n",
    "\n",
    "                print('After Resampling  valid -> 1 : {}, 0 : {}'.format(\n",
    "                    Counter(y_valid_over)[1], Counter(y_valid_over)[0]))\n",
    "            if os_data[2] == 1:\n",
    "                print('\\nBefore Resampling test -> 1 : {}, 0 : {}'.format(\n",
    "                    Counter(self.y_test)[1], Counter(self.y_test)[0]))\n",
    "\n",
    "                print('After Resampling  test -> 1 : {}, 0 : {}'.format(\n",
    "                    Counter(y_test_over)[1], Counter(y_test_over)[0]))\n",
    "  \n",
    "        if os_data[0] == 1:\n",
    "            self.X_train, self.y_train = X_train_over, y_train_over\n",
    "            \n",
    "        if os_data[1] == 1:\n",
    "            self.X_valid, self.y_valid = X_valid_over, y_valid_over\n",
    "            \n",
    "        if os_data[2] == 1:\n",
    "            self.X_test, self.y_test   = X_test_over, y_test_over\n",
    "            \n",
    "        print(f'\\n{mf.color.bdblue}Resampling {mf.color.end}', end = '')\n",
    "        rt2=dt.datetime.now()\n",
    "        mf.runtime(rt1,rt2)\n",
    "        \n",
    "    # oversampling method\n",
    "    def osample_Xy(self, print_info = True, os_class = 'ros'):\n",
    "        print(f'{mf.color.bdgreen}Please wait, resampling data{mf.color.end}\\n')\n",
    "        # define oversampling strategy\n",
    "        if os_class == 'ros':\n",
    "            oversample = RandomOverSampler(sampling_strategy='minority') \n",
    "        else:\n",
    "            oversample = RandomUnderSampler(sampling_strategy='majority')\n",
    "            \n",
    "        if print_info == True:\n",
    "            print('X size : ', len(self.X))\n",
    "            print('y size : ', len(self.y))\n",
    "            \n",
    "        # fit and apply the transform\n",
    "        X_over, y_over = oversample.fit_resample(self.X, self.y)\n",
    "\n",
    "        # summarize class distribution\n",
    "        if print_info == True:\n",
    "            print(f'Before Resampling -> 1 : {Counter(self.y)[1]}, 0 : {Counter(self.y)[0]}')\n",
    "            print(f'After Resampling  -> 1 : {Counter(y_over)[1]}, 0 : {Counter(y_over)[0]}')\n",
    "        \n",
    "        # update X and y with the oversampled results \n",
    "        self.X = X_over\n",
    "        self.y = y_over\n",
    "    \n",
    "    def split_data(self, X_size = 0.7):   \n",
    "        # Split Data into Train:Validate:Test\n",
    "        \n",
    "        # train_size=X_size\n",
    "        # In the first step, we will split the data in training and remaining dataset\n",
    "        self.X_train, X_rem, self.y_train, y_rem = train_test_split(self.X, self.y,\n",
    "                                stratify=self.y, train_size = X_size, random_state=48) \n",
    "\n",
    "        # Now since we want the valid and test size to be equal,\n",
    "        # we have to define valid_size=0.5 (that is 50% of remaining data)\n",
    "        # test_size = 0.5\n",
    "\n",
    "        self.X_valid, self.X_test, self.y_valid, self.y_test = train_test_split(X_rem,y_rem,\n",
    "                                stratify=y_rem, test_size=0.5, random_state=48)\n",
    "        \n",
    "        return {'X_train':self.X_train, 'y_train':self.y_train,\n",
    "                'X_valid':self.X_valid, 'y_valid':self.y_valid,\n",
    "                'X_test':self.X_test, 'y_test':self.y_test}\n",
    "    \n",
    "    # Method to run model \n",
    "    # desc - description of metrics report\n",
    "    def prep_run_model(self, desc='Metrics', cmDisplay=False, PipeLine_flag = False,\n",
    "                hyperparams = {'n_estimators': 1000, 'learning_rate': 0.05, 'max_depth': 6,\n",
    "                               'tree_method':tree_method, 'early_stopping_rounds':100,\n",
    "                               'eval_metric':['auc','error']}):\n",
    "\n",
    "        # from XGBoost 1.6, early_stopping_rounds and eval_metric are under parameters,\n",
    "        # and deprecated from fit() method.\n",
    "        # The default hyperparameters are conservative, to help avoid overfitting\n",
    "        \n",
    "        print()\n",
    "        print(f\"{mf.color.bold}Please wait, Fitting model can take time ...{mf.color.end}\")\n",
    "        \n",
    "        '''\n",
    "        XGBRegressor is for continuous target/outcome variables. These are often called \n",
    "        \"regression problems.\"\n",
    "\n",
    "        XGBClassifier is for categorical target/outcome variables. These are often called \n",
    "        \"classification problems.\"\n",
    "        '''\n",
    "        \n",
    "        if PipeLine_flag == True:\n",
    "            # hyperparams is a result of a previous run of Optuna hyperparameter tuning\n",
    "            # the hyperparameters lean towards being conservative to help avoid overfitting\n",
    "            hyperparams = { 'tree_method': 'gpu_hist',\n",
    "                            'lambda': 0.023437933789759252,\n",
    "                            'alpha': 0.005813454622750776,\n",
    "                            'gamma': 0,\n",
    "                            'colsample_bytree': 0.9,\n",
    "                            'subsample': 1.0,\n",
    "                            'learning_rate': 0.05,\n",
    "                            'n_estimators': 1000,\n",
    "                            'max_depth': 13,\n",
    "                            'random_state': 48,\n",
    "                            'min_child_weight': 1,\n",
    "                            'early_stopping_rounds': 100.0,\n",
    "                            'eval_metric':['auc','error']\n",
    "                          }\n",
    "            \n",
    "        self.xg_model = XGBClassifier(**hyperparams,use_label_encoder =False)\n",
    "       \n",
    "        eval_setparam = [(self.X_valid, self.y_valid)]\n",
    "        \n",
    "        self.xg_model.fit(self.X_train, self.y_train, \n",
    "                     eval_set = eval_setparam,\n",
    "                     verbose=False)\n",
    "        \n",
    "        gc.collect()\n",
    "        mf.clear_gpu()\n",
    " \n",
    "        print(\"Fitting model completed.\")\n",
    "        print()\n",
    "        print('Preparing Predictions')\n",
    "    \n",
    "        # Get predictions\n",
    "        predictions = self.xg_model.predict(self.X_valid)\n",
    "    \n",
    "        print()\n",
    "        print(f'{mf.color.underline}{desc}{mf.color.end}')\n",
    "\n",
    "        #eval_results = mf.model_eval(self.y_valid, predictions, cmDisplay)\n",
    "        eval_results = mf.model_eval2(self.xg_model,\n",
    "                                      self.X_train, self.y_train,\n",
    "                                      self.X_valid, self.y_valid,\n",
    "                                      cmDisplay=True)\n",
    "            \n",
    "        # Return these values as they may be needed for further testing or metrics\n",
    "        # in dictionary form to remember easier \n",
    "        return {'xg_model':self.xg_model,'predictions':predictions,\n",
    "                    'X_train':self.X_train, 'y_train':self.y_train,\n",
    "                    'X_valid':self.X_valid, 'y_valid':self.y_valid,\n",
    "                    'X_test':self.X_test, 'y_test':self.y_test, 'eval_results':eval_results}\n",
    "    \n",
    "print('XGBoost class initialized')"
   ]
  },
  {
   "cell_type": "markdown",
   "id": "8f13cafd",
   "metadata": {
    "execution": {
     "iopub.execute_input": "2022-05-17T07:15:49.429758Z",
     "iopub.status.busy": "2022-05-17T07:15:49.429388Z",
     "iopub.status.idle": "2022-05-17T07:15:49.458798Z",
     "shell.execute_reply": "2022-05-17T07:15:49.457385Z",
     "shell.execute_reply.started": "2022-05-17T07:15:49.429667Z"
    },
    "papermill": {
     "duration": 0.066507,
     "end_time": "2022-06-06T19:14:16.697198",
     "exception": false,
     "start_time": "2022-06-06T19:14:16.630691",
     "status": "completed"
    },
    "tags": []
   },
   "source": [
    "<i><a style=\"color:DarkSlateGrey\" href=\"#toc\">Back to Table Of Contents</a></i>"
   ]
  },
  {
   "cell_type": "markdown",
   "id": "febf7276",
   "metadata": {
    "papermill": {
     "duration": 0.066511,
     "end_time": "2022-06-06T19:14:16.829968",
     "exception": false,
     "start_time": "2022-06-06T19:14:16.763457",
     "status": "completed"
    },
    "tags": []
   },
   "source": [
    "<a id=\"other_models\"></a>\n",
    "<div style=\"font-family: Trebuchet MS;background-color:LightSteelBlue;color:Black;text-align: left;padding-top: 5px;padding-bottom: 5px;padding-left: 20px;padding-right: 10px;border-radius: 15px 50px;letter-spacing: 2px;\">\n",
    "    <b>Other Models Class</b></div>"
   ]
  },
  {
   "cell_type": "code",
   "execution_count": 11,
   "id": "70d84cf9",
   "metadata": {
    "execution": {
     "iopub.execute_input": "2022-06-06T19:14:16.965224Z",
     "iopub.status.busy": "2022-06-06T19:14:16.964571Z",
     "iopub.status.idle": "2022-06-06T19:14:19.382177Z",
     "shell.execute_reply": "2022-06-06T19:14:19.381470Z"
    },
    "papermill": {
     "duration": 2.486916,
     "end_time": "2022-06-06T19:14:19.384047",
     "exception": false,
     "start_time": "2022-06-06T19:14:16.897131",
     "status": "completed"
    },
    "tags": []
   },
   "outputs": [
    {
     "name": "stdout",
     "output_type": "stream",
     "text": [
      "Other Models class initialized\n"
     ]
    }
   ],
   "source": [
    "from sklearn.ensemble import RandomForestClassifier\n",
    "if tree_method == 'gpu_hist':\n",
    "    import cuml\n",
    "    from cuml.ensemble import RandomForestClassifier as cuRF\n",
    "\n",
    "# inherit from XGBoost class (process_model)\n",
    "class other_models(process_model):  \n",
    "    def __init__(self, X, y):\n",
    "        self.X = X\n",
    "        self.y = y\n",
    "        self.X_train, self.y_train = None, None\n",
    "        self.X_valid, self.X_test = None, None\n",
    "        self.y_valid, self.y_test = None, None\n",
    "    \n",
    "    # Method to run model \n",
    "    # desc - description of metrics report\n",
    "    def prep_run_model(self, desc='Metrics', modelname = 'rfc',\n",
    "                       hparams = {'n_estimators':100, 'random_state':48, 'max_depth':10},\n",
    "                       cmDisplay=False):\n",
    "        print()\n",
    "        print(f\"{mf.color.bold}Please wait, Fitting model can take time ...{mf.color.end}\")  \n",
    "\n",
    "        if modelname == 'rfc':\n",
    "            if tree_method == 'gpu_hist':\n",
    "                model = cuRF(**hparams)\n",
    "            else:\n",
    "                model = RandomForestClassifier(**hparams) \n",
    "        \n",
    "        model.fit(self.X_train, self.y_train)\n",
    "            \n",
    "        print(\"Fitting model completed.\")\n",
    "        print()\n",
    "        print('Preparing Predictions')\n",
    "    \n",
    "        # Get predictions\n",
    "        predictions = model.predict(self.X_valid)\n",
    "        print(f'{mf.color.underline}{desc}{mf.color.end}')\n",
    "    \n",
    "        if modelname == 'rfc':\n",
    "            if tree_method == 'gpu_hist':\n",
    "                '''\n",
    "                print()\n",
    "                cu_score = cuml.metrics.accuracy_score( self.y_valid, predictions )\n",
    "                print('{}cuml/Accuracy Score : {} %{}'.format(\n",
    "                     mf.color.bdgreen, round(cu_score * 100,2), mf.color.end))\n",
    "                print()\n",
    "                '''\n",
    "            \n",
    "        #eval_results = mf.model_eval(self.y_valid, predictions, cmDisplay)\n",
    "        eval_results = mf.model_eval2(model,\n",
    "                                      self.X_train, self.y_train,\n",
    "                                      self.X_valid, self.y_valid,\n",
    "                                      cmDisplay=True)\n",
    "        print()\n",
    "        \n",
    "        gc.collect()\n",
    "        mf.clear_gpu()\n",
    "        \n",
    "        # Return these values as they may be needed for further testing or metrics\n",
    "        # in dictionary form to remember easier \n",
    "        return {'model':model,'predictions':predictions,\n",
    "                    'X_train':self.X_train, 'y_train':self.y_train,\n",
    "                    'X_valid':self.X_valid, 'y_valid':self.y_valid,\n",
    "                    'X_test':self.X_test, 'y_test':self.y_test, 'eval_results':eval_results}\n",
    "    \n",
    "print('Other Models class initialized')"
   ]
  },
  {
   "cell_type": "markdown",
   "id": "31195847",
   "metadata": {
    "execution": {
     "iopub.execute_input": "2022-05-17T07:15:49.429758Z",
     "iopub.status.busy": "2022-05-17T07:15:49.429388Z",
     "iopub.status.idle": "2022-05-17T07:15:49.458798Z",
     "shell.execute_reply": "2022-05-17T07:15:49.457385Z",
     "shell.execute_reply.started": "2022-05-17T07:15:49.429667Z"
    },
    "papermill": {
     "duration": 0.066973,
     "end_time": "2022-06-06T19:14:19.517518",
     "exception": false,
     "start_time": "2022-06-06T19:14:19.450545",
     "status": "completed"
    },
    "tags": []
   },
   "source": [
    "<i><a style=\"color:DarkSlateGrey\" href=\"#toc\">Back to Table Of Contents</a></i>"
   ]
  },
  {
   "cell_type": "markdown",
   "id": "a4e7f554",
   "metadata": {
    "papermill": {
     "duration": 0.065816,
     "end_time": "2022-06-06T19:14:19.651640",
     "exception": false,
     "start_time": "2022-06-06T19:14:19.585824",
     "status": "completed"
    },
    "tags": []
   },
   "source": [
    "<a id=\"optuna_class\"></a>\n",
    "<div style=\"font-family: Trebuchet MS;background-color:LightSteelBlue;color:Black;text-align: left;padding-top: 5px;padding-bottom: 15px;padding-left: 20px;padding-right: 10px;border-radius: 15px 50px;letter-spacing: 2px;\">\n",
    "    <b>Optuna Class</b><br>\n",
    "This is for both XGBoost full dataset (objective function) or incremental dataset (objective_chunk function) trials.  Also included is objective_rf function for Random Forest Classification).  \n",
    "</div>"
   ]
  },
  {
   "cell_type": "code",
   "execution_count": 12,
   "id": "a5db711d",
   "metadata": {
    "execution": {
     "iopub.execute_input": "2022-06-06T19:14:19.786543Z",
     "iopub.status.busy": "2022-06-06T19:14:19.786299Z",
     "iopub.status.idle": "2022-06-06T19:14:19.842005Z",
     "shell.execute_reply": "2022-06-06T19:14:19.840295Z"
    },
    "papermill": {
     "duration": 0.12586,
     "end_time": "2022-06-06T19:14:19.844321",
     "exception": false,
     "start_time": "2022-06-06T19:14:19.718461",
     "status": "completed"
    },
    "tags": []
   },
   "outputs": [
    {
     "name": "stdout",
     "output_type": "stream",
     "text": [
      "Optuna class initialized\n"
     ]
    }
   ],
   "source": [
    "class optuna_tuning(process_model):  \n",
    "    def __init__(self, X, y):\n",
    "        self.X = X\n",
    "        self.y = y\n",
    "        self.X_train, self.y_train = None, None\n",
    "        self.X_valid, self.X_test = None, None\n",
    "        self.y_valid, self.y_test = None, None\n",
    "    \n",
    "    # for printing only the best values, saves memory too\n",
    "    def logging_callback(self, study, frozen_trial):\n",
    "        previous_best_value = study.user_attrs.get(\"previous_best_value\", None)\n",
    "        if previous_best_value != study.best_value:\n",
    "            study.set_user_attr(\"previous_best_value\", study.best_value)\n",
    "            clear_output(wait=True)\n",
    "            self.text_out=\"{}Trial {} done with best value: {}{}{} and parameters: {}{}. \".format(\n",
    "                mf.color.bdblue,\n",
    "                frozen_trial.number,\n",
    "                mf.color.bdgreen,\n",
    "                frozen_trial.value,\n",
    "                mf.color.bdblue,\n",
    "                mf.color.end,\n",
    "                frozen_trial.params\n",
    "                )\n",
    "            print(self.text_out)\n",
    "            \n",
    "            # Writing to file\n",
    "            with open(f\"{workdir}xgb_optuna_study_log.txt\", \"a\") as os_log:\n",
    "                os_log.write('\\n\\n')\n",
    "                os_log.write(f\"Current Ram Used: {mf.GetRam()} %\\n\")\n",
    "                os_log.write(self.text_out)\n",
    "    \n",
    "    # save study\n",
    "    def save_study(self, study, frozen_trial):\n",
    "        joblib.dump(study, f\"{workdir}xgb_optuna_study_callbacks.pkl\")   # save study\n",
    "    \n",
    "    # for tuning full dataset\n",
    "    def objective(self, trial, gt, n_estimators = 1000):        \n",
    "        nn_early_stopping_rounds = n_estimators * 0.1\n",
    "        # the hyperparameters lean towards being conservative to help avoid overfitting\n",
    "        param = {\n",
    "            # tree_method would ideally be gpu_hist for faster speed\n",
    "            'tree_method':trial.suggest_categorical('tree_method', [tree_method]), \n",
    "            # L2 regularization weight, Increasing this value will make model more conservative\n",
    "            'lambda': trial.suggest_loguniform('lambda', 1e-3, 10.0),\n",
    "            # L1 regularization weight, Increasing this value will make model more conservative\n",
    "            'alpha': trial.suggest_loguniform('alpha', 1e-3, 10.0),\n",
    "            # Min loss reduction for further partition on a leaf node. larger,the more conservative\n",
    "            'gamma':trial.suggest_categorical('gamma', [0,1,5]),\n",
    "            # sampling according to each tree\n",
    "            'colsample_bytree': trial.suggest_categorical('colsample_bytree',\n",
    "                            [0.6,0.7,0.8,0.9,1.0]),\n",
    "            #                [0.3,0.4,0.5,0.6,0.7,0.8,0.9, 1.0]),\n",
    "            # sampling ratio for training data\n",
    "            #'subsample': trial.suggest_categorical('subsample', [0.4,0.5,0.6,0.7,0.8,1.0]),\n",
    "            'subsample': trial.suggest_categorical('subsample', [0.6,0.7,0.8,0.9,1.0]),\n",
    "            #'subsample': trial.suggest_categorical('subsample', [0.8,0.9,1.0]),\n",
    "            'learning_rate': trial.suggest_categorical('learning_rate',\n",
    "                             [0.008, 0.01, 0.03, 0.05, 0.07, 0.1]),                          \n",
    "            #                [0.008,0.009,0.01,0.012,0.014,0.016,0.018, 0.02,0.05]),\n",
    "            'n_estimators': trial.suggest_categorical('n_estimators',[n_estimators]),\n",
    "            # maximum depth of the tree, signifies complexity of the tree\n",
    "            'max_depth': trial.suggest_categorical('max_depth', [9,11,13]),\n",
    "            'random_state': trial.suggest_categorical('random_state', [48]),\n",
    "            # minimum child weight, larger the term more conservative the tree\n",
    "            'min_child_weight': trial.suggest_int('min_child_weight', 1, 10),\n",
    "            'early_stopping_rounds': trial.suggest_categorical('early_stopping_rounds',\n",
    "                                          [nn_early_stopping_rounds]),                     \n",
    "            'eval_metric': trial.suggest_categorical('eval_metric', [['auc','error']])\n",
    "        }\n",
    "        if mf.GetRam() >= 90:\n",
    "            raise MemoryError('Short On Memory')\n",
    "            \n",
    "        # clear outputs, reprint saved data\n",
    "        if trial.number > 0:\n",
    "            clear_output(wait=True)\n",
    "            gc.collect()\n",
    "            print(self.text_out)\n",
    "            \n",
    "        # print(param)  # for debugging, comment out if desired\n",
    "        model_xgbc = XGBClassifier(**param, use_label_encoder =False)  \n",
    "    \n",
    "        print()\n",
    "        print(f\"Current Ram Used: {mf.GetRam()} %\")\n",
    "        rt2=dt.datetime.now()\n",
    "        print(f'{mf.color.bdgreen}Total Elapsed Time from Training Start: {mf.color.end}', end='')\n",
    "        mf.runtime(gt, rt2)  \n",
    "        print(f'Running Trial {trial.number}')\n",
    "            \n",
    "        model_xgbc.fit(self.X_train, self.y_train, eval_set=[(self.X_valid, self.y_valid)],\n",
    "                    verbose=False)\n",
    "\n",
    "        preds = model_xgbc.predict(self.X_valid)\n",
    "    \n",
    "        #rmse = metrics.mean_squared_error(self.y_valid, preds,squared=False)\n",
    "        f1_score_ = metrics.f1_score(self.y_valid, preds)\n",
    " \n",
    "        #trial.report(rmse, 1)\n",
    "        trial.report(f1_score_, 1) \n",
    "        \n",
    "        if trial.should_prune():\n",
    "            text_prune = f'{mf.color.bold}Trial {trial.number} pruned{mf.color.end}'\n",
    "            # Writing to file\n",
    "            with open(f\"{workdir}xgb_optuna_study_log.txt\", \"a\") as os_log:\n",
    "                os_log.write('\\n')\n",
    "                os_log.write(text_prune)\n",
    "            del model_xgbc, preds, text_prune\n",
    "            gc.collect()\n",
    "            sleep(3)\n",
    "            mf.clear_gpu()\n",
    "            raise optuna.TrialPruned()\n",
    "\n",
    "        text_dtl = \"Trial {} finished with parameters: {}. \".format(\n",
    "            trial.number,\n",
    "            trial.params\n",
    "            )\n",
    "        # Writing to file\n",
    "        with open(f\"{workdir}xgb_optuna_study_log.txt\", \"a\") as os_log:\n",
    "            os_log.write('\\n\\n')\n",
    "            os_log.write(f\"Current Ram Used: {mf.GetRam()} %\\n\")\n",
    "            os_log.write(text_dtl)\n",
    "            \n",
    "        rt2=dt.datetime.now()\n",
    "\n",
    "        del model_xgbc, preds, text_dtl\n",
    "        gc.collect()\n",
    "        sleep(3)       \n",
    "        mf.clear_gpu()        \n",
    "\n",
    "        #return rmse\n",
    "        return f1_score_\n",
    " \n",
    "\n",
    "    # for tuning incrementally in chunks\n",
    "    def objective_chunk(self, trial, n_trials, gt,\n",
    "                        n_chunksize = 200000, n_estimators = 1000):\n",
    "        nn_early_stopping_rounds = n_estimators * 0.1\n",
    "        \n",
    "        # the hyperparameters lean towards being conservative to help avoid overfitting\n",
    "        param = {\n",
    "            # tree_method would ideally be gpu_hist for faster speed\n",
    "            'tree_method':trial.suggest_categorical('tree_method', [tree_method]), \n",
    "            # L2 regularization weight, Increasing this value will make model more conservative\n",
    "            'lambda': trial.suggest_loguniform('lambda', 1e-3, 10.0),\n",
    "            # L1 regularization weight, Increasing this value will make model more conservative\n",
    "            'alpha': trial.suggest_loguniform('alpha', 1e-3, 10.0),\n",
    "            # Min loss reduction for further partition on a leaf node. larger,the more conservative\n",
    "            'gamma':trial.suggest_categorical('gamma', [0,3,6]),\n",
    "            # sampling according to each tree\n",
    "            'colsample_bytree': trial.suggest_categorical('colsample_bytree',\n",
    "                                [0.6,0.7,0.8,0.9,1.0]),\n",
    "            #                [0.3,0.4,0.5,0.6,0.7,0.8,0.9, 1.0]),\n",
    "            # sampling ratio for training data\n",
    "            #'subsample': trial.suggest_categorical('subsample', [0.4,0.5,0.6,0.7,0.8,1.0]),\n",
    "            'subsample': trial.suggest_categorical('subsample', [0.6,0.7,0.8,0.9,1.0]),\n",
    "            'learning_rate': trial.suggest_categorical('learning_rate',\n",
    "                            [0.008,0.009,0.01,0.012,0.014,0.016,0.018, 0.02,0.05]),\n",
    "            'n_estimators': trial.suggest_categorical('n_estimators',[n_estimators]),\n",
    "            # maximum depth of the tree, signifies complexity of the tree\n",
    "            'max_depth': trial.suggest_categorical('max_depth', [9,11,13]),\n",
    "            'random_state': trial.suggest_categorical('random_state', [48]),\n",
    "            # minimum child weight, larger the term more conservative the tree\n",
    "            'min_child_weight': trial.suggest_int('min_child_weight', 1, 10),\n",
    "            'early_stopping_rounds': trial.suggest_categorical('early_stopping_rounds',\n",
    "                                          [nn_early_stopping_rounds]),                     \n",
    "            'eval_metric': trial.suggest_categorical('eval_metric', [['auc','error']])\n",
    "        }\n",
    "        if mf.GetRam() >= 90:\n",
    "            raise MemoryError('Short On Memory')\n",
    "        \n",
    "        model_xgbc = XGBClassifier(**param,use_label_encoder =False)  \n",
    "    \n",
    "        rt1=dt.datetime.now()\n",
    "               \n",
    "        # clear outputs, reprint saved data\n",
    "        if trial.number > 0:\n",
    "            clear_output(wait=True)\n",
    "            gc.collect()\n",
    "            print(self.text_out)\n",
    "            \n",
    "            if os.path.exists(f'{workdir}model_xgbc.json'):\n",
    "                file_size = os.path.getsize(f'{workdir}model_xgbc.json')\n",
    "                file_size = mf.formatFileSize(file_size,'B','MB',2)\n",
    "                print(f\"Current Model File Size : {file_size}MB\")\n",
    "\n",
    "        '''\n",
    "        For batch, use xgb_model parameter in fit().  There are two ways :\n",
    "           1. save the model to a file, after 1st trial, then give the name to the next trials\n",
    "           2. just give the name of the model object, in this case model_xgbc\n",
    "        '''\n",
    "    \n",
    "        # Fit Model\n",
    "        for i, self.X in enumerate(pd.read_csv(final_csv, chunksize = n_chunksize), start = 1):\n",
    "            self.X = mf.reduce_mem_usage(self.X, print_info=False)\n",
    "            self.y = self.X.pop('MIS_Status')\n",
    "\n",
    "            #self.osample(print_info = False, os_data=[1,0,0])\n",
    "            self.osample_Xy()\n",
    "            self.split_data(0.7)\n",
    "            \n",
    "            X_valid = self.X_valid\n",
    "            y_valid = self.y_valid\n",
    "        \n",
    "            self.X, self.y = None, None\n",
    "            self.X_valid, self.y_valid = None, None\n",
    "            self.X_test, self.y_test = None, None\n",
    "\n",
    "            if i == 1:            \n",
    "                print()\n",
    "                print(f\"Current Ram Used: {mf.GetRam()} %\")\n",
    "                rt2=dt.datetime.now()\n",
    "                print(f'{mf.color.bdgreen}Total Elapsed Time from Training Start: {mf.color.end}', end='')\n",
    "                mf.runtime(gt, rt2)  \n",
    "                print(f'Running Trial {trial.number} Chunk: {i}',end = ' | ')\n",
    "                model_xgbc.fit(self.X_train, self.y_train, eval_set=[(X_valid, y_valid)],\n",
    "                        verbose=False)\n",
    "            else:\n",
    "                print(f'{i}',end = ' | ')\n",
    "                model_xgbc = XGBClassifier(use_label_encoder =False)\n",
    "                model_xgbc.load_model(f'{workdir}model_xgbc.json')\n",
    "                \n",
    "                model_xgbc.fit(self.X_train, self.y_train, eval_set=[(X_valid, y_valid)],\n",
    "                        verbose=False, xgb_model = model_xgbc\n",
    "                        )\n",
    "\n",
    "            '''Auxiliary attributes of the Python Booster object (such as feature_names) will \n",
    "            not be saved when using binary format. To save those attributes, use JSON instead.'''\n",
    "            model_xgbc.save_model(f'{workdir}model_xgbc.json')\n",
    "        \n",
    "            preds = model_xgbc.predict(X_valid)\n",
    "    \n",
    "            #rmse = metrics.mean_squared_error(y_valid, preds,squared=False)\n",
    "            f1_score_ = metrics.f1_score(self.y_valid, preds)\n",
    "        \n",
    "            del model_xgbc\n",
    "            self.X_train, self.y_train = None, None\n",
    "            gc.collect()\n",
    "            sleep(5)\n",
    "            mf.clear_gpu()\n",
    "            \n",
    "            #trial.report(rmse, i)\n",
    "            trial.report(f1_score_, i)\n",
    "            \n",
    "            if trial.should_prune():\n",
    "                # Writing to file\n",
    "                with open(f\"{workdir}xgb_optuna_study_log.txt\", \"a\") as os_log:\n",
    "                    os_log.write('\\n')\n",
    "                    os_log.write(f'{mf.color.bold}Trial {trial.number} pruned{mf.color.end}')\n",
    "                    os_log.write('\\n')\n",
    "                raise optuna.TrialPruned()\n",
    "        \n",
    "        if os.path.exists(f'{workdir}model_xgbc.json'):\n",
    "            file_size = os.path.getsize(f'{workdir}model_xgbc.json')\n",
    "            file_size = mf.formatFileSize(file_size,'B','MB',2)\n",
    "            print(f\"Current Model File Size : {file_size}MB\")\n",
    "                \n",
    "        # Writing to file\n",
    "        with open(f\"{workdir}xgb_optuna_study_log.txt\", \"a\") as os_log:\n",
    "            os_log.write('\\n\\n')\n",
    "            os_log.write(f\"Current Ram Used: {mf.GetRam()} %\")\n",
    "            if os.path.exists(f'{workdir}model_xgbc.json'):\n",
    "                os_log.write(f\" | Current Model File Size : {file_size}MB\\n\")\n",
    "            os_log.write(f\"Trial {trial.number} finished with parameters: {trial.params}.\")\n",
    "            \n",
    "        rt2=dt.datetime.now()\n",
    "\n",
    "        self.X_train, self.y_train = None, None\n",
    "        gc.collect()\n",
    "        sleep(5)\n",
    "        mf.clear_gpu()\n",
    "            \n",
    "        #return rmse\n",
    "        return f1_score_\n",
    "\n",
    "    # Define an objective function for Random Forest\n",
    "    def objective_rf(self, trial, gt):\n",
    "        hparams = {\n",
    "            'max_features': trial.suggest_uniform('max_features', 0.15, 1.0),\n",
    "            'min_samples_split': trial.suggest_int('min_samples_split', 2, 14),\n",
    "            'min_samples_leaf': trial.suggest_int('min_samples_leaf', 1, 14),\n",
    "            'max_samples': trial.suggest_uniform('max_samples', 0.6, 0.99),\n",
    "            'max_depth': trial.suggest_categorical('max_depth', [9,11,13]),\n",
    "            'n_estimators': trial.suggest_categorical('n_estimators', [100])\n",
    "            # warm_start = True   # for incremental learning  \n",
    "        }\n",
    " \n",
    "        # clear outputs, reprint saved data\n",
    "        if trial.number > 0:\n",
    "            clear_output(wait=True)\n",
    "            gc.collect()\n",
    "            print(self.text_out)\n",
    "            \n",
    "        if mf.GetRam() >= 90:\n",
    "            raise MemoryError('Short On Memory')\n",
    "            \n",
    "        if tree_method == \"gpu_hist\":\n",
    "            model_rf = cuRF(**hparams)\n",
    "        else:\n",
    "            model_rf = RandomForestClassifier(**hparams)\n",
    "        print()\n",
    "        print(f\"Current Ram Used: {mf.GetRam()} %\")\n",
    "        rt2=dt.datetime.now()\n",
    "        print(f'{mf.color.bdgreen}Total Elapsed Time from Training Start: {mf.color.end}', end='')\n",
    "        mf.runtime(gt, rt2)  \n",
    "        print(f'Running Trial {trial.number}')\n",
    "\n",
    "        ## Fit Model\n",
    "        model_rf.fit(self.X_train, self.y_train)\n",
    " \n",
    "        preds = model_rf.predict(self.X_valid)\n",
    "        f1_score_ = metrics.f1_score(self.y_valid, preds)\n",
    "        trial.report(f1_score_, 1) \n",
    "        \n",
    "        # Report intermediate objective value\n",
    "        #intermediate_value = model_rf.score(self.X_valid, self.y_valid)\n",
    "        #trial.report(intermediate_value, 0)\n",
    "            \n",
    "        if trial.should_prune():\n",
    "            text_prune = f'{mf.color.bold}Trial {trial.number} pruned{mf.color.end}'\n",
    "            # Writing to file\n",
    "            with open(f\"{workdir}rfc_optuna_study_log.txt\", \"a\") as os_log:\n",
    "                os_log.write('\\n')\n",
    "                os_log.write(text_prune)\n",
    "            del model_rf, text_prune\n",
    "            gc.collect()\n",
    "            sleep(3)\n",
    "            mf.clear_gpu()\n",
    "            raise optuna.TrialPruned()\n",
    "\n",
    "        text_dtl = \"Trial {} finished with parameters: {}. \".format(\n",
    "            trial.number,\n",
    "            trial.params\n",
    "            )\n",
    "        # Writing to file\n",
    "        with open(f\"{workdir}rfc_optuna_study_log.txt\", \"a\") as os_log:\n",
    "            os_log.write('\\n\\n')\n",
    "            os_log.write(f\"Current Ram Used: {mf.GetRam()} %\\n\")\n",
    "            os_log.write(text_dtl)\n",
    "            \n",
    "        rt2=dt.datetime.now()\n",
    "\n",
    "        del model_rf, text_dtl\n",
    "        gc.collect()\n",
    "        sleep(3)       \n",
    "        mf.clear_gpu()        \n",
    "\n",
    "        #return intermediate_value\n",
    "        return f1_score_\n",
    "    \n",
    "print('Optuna class initialized')"
   ]
  },
  {
   "cell_type": "markdown",
   "id": "c82e3f0a",
   "metadata": {
    "execution": {
     "iopub.execute_input": "2022-05-17T07:15:49.429758Z",
     "iopub.status.busy": "2022-05-17T07:15:49.429388Z",
     "iopub.status.idle": "2022-05-17T07:15:49.458798Z",
     "shell.execute_reply": "2022-05-17T07:15:49.457385Z",
     "shell.execute_reply.started": "2022-05-17T07:15:49.429667Z"
    },
    "papermill": {
     "duration": 0.065566,
     "end_time": "2022-06-06T19:14:19.977177",
     "exception": false,
     "start_time": "2022-06-06T19:14:19.911611",
     "status": "completed"
    },
    "tags": []
   },
   "source": [
    "<i><a style=\"color:DarkSlateGrey\" href=\"#toc\">Back to Table Of Contents</a></i>"
   ]
  },
  {
   "cell_type": "markdown",
   "id": "e32a424e",
   "metadata": {
    "papermill": {
     "duration": 0.065635,
     "end_time": "2022-06-06T19:14:20.110131",
     "exception": false,
     "start_time": "2022-06-06T19:14:20.044496",
     "status": "completed"
    },
    "tags": []
   },
   "source": [
    "<a id=\"part1\"></a>\n",
    "<div style=\"font-family: Trebuchet MS;background-color:DarkRed;color:AliceBlue;text-align: left;padding-top: 5px;padding-bottom: 15px;padding-left: 20px;padding-right: 10px;border-radius: 15px 50px;letter-spacing: 2px;\">\n",
    "<h1 style='color:GhostWhite;'>Part 1. XGBoost HyperParameter Tuning using Optuna</h1>\n",
    "</div>"
   ]
  },
  {
   "cell_type": "markdown",
   "id": "5bcb8a6d",
   "metadata": {
    "papermill": {
     "duration": 0.065611,
     "end_time": "2022-06-06T19:14:20.242159",
     "exception": false,
     "start_time": "2022-06-06T19:14:20.176548",
     "status": "completed"
    },
    "tags": []
   },
   "source": [
    "<a id=\"full_df\"></a>\n",
    "<div style=\"font-family: Trebuchet MS;background-color:DarkCyan;color:Azure;text-align: left;padding-top: 5px;padding-bottom: 20px;padding-left: 20px;padding-right: 10px;border-radius: 15px 50px;letter-spacing: 2px;\">\n",
    "    <h2 style='color:GhostWhite;'>1.1 Optuna Study - Full Dataset</h2>\n",
    "</div>"
   ]
  },
  {
   "cell_type": "code",
   "execution_count": 13,
   "id": "ef150cda",
   "metadata": {
    "execution": {
     "iopub.execute_input": "2022-06-06T19:14:20.376164Z",
     "iopub.status.busy": "2022-06-06T19:14:20.375924Z",
     "iopub.status.idle": "2022-06-06T20:33:09.652464Z",
     "shell.execute_reply": "2022-06-06T20:33:09.650435Z"
    },
    "papermill": {
     "duration": 4729.423513,
     "end_time": "2022-06-06T20:33:09.731288",
     "exception": false,
     "start_time": "2022-06-06T19:14:20.307775",
     "status": "completed"
    },
    "tags": []
   },
   "outputs": [
    {
     "name": "stdout",
     "output_type": "stream",
     "text": [
      "\u001b[1m\u001b[94mTrial 63 done with best value: \u001b[1m\u001b[92m0.9652197205735152\u001b[1m\u001b[94m and parameters: \u001b[0m{'tree_method': 'gpu_hist', 'lambda': 1.2465121277962947, 'alpha': 0.15298716350083263, 'gamma': 0, 'colsample_bytree': 1.0, 'subsample': 0.9, 'learning_rate': 0.1, 'n_estimators': 1000, 'max_depth': 11, 'random_state': 48, 'min_child_weight': 2, 'early_stopping_rounds': 100.0, 'eval_metric': ['auc', 'error']}. \n",
      "\n",
      "Current Ram Used: 19.0 %\n",
      "\u001b[1m\u001b[92mTotal Elapsed Time from Training Start: \u001b[0mRuntime : 1:17:16.774605\n",
      "Running Trial 87\n",
      "\n",
      "Number of finished trials: 88\n",
      "Number of pruned trials: 27\n",
      "Number of completed trials: \u001b[1m\u001b[92m61\u001b[0m\n",
      "\u001b[1m\u001b[94mBest trial: {'tree_method': 'gpu_hist', 'lambda': 1.2465121277962947, 'alpha': 0.15298716350083263, 'gamma': 0, 'colsample_bytree': 1.0, 'subsample': 0.9, 'learning_rate': 0.1, 'n_estimators': 1000, 'max_depth': 11, 'random_state': 48, 'min_child_weight': 2, 'early_stopping_rounds': 100.0, 'eval_metric': ['auc', 'error']}\u001b[0m\n",
      "\n",
      "CPU times: user 1h 13min 43s, sys: 21.6 s, total: 1h 14min 5s\n",
      "Wall time: 1h 18min 49s\n"
     ]
    }
   ],
   "source": [
    "%%time\n",
    "        \n",
    "# For running Optuna tuning on full dataset.\n",
    "def OptunaStudy():\n",
    "    X = pd.read_feather(final_ds)\n",
    "    #X = X.head(500)      # uncomment for testing\n",
    "    y = X.pop('MIS_Status')\n",
    "    \n",
    "    # instantiate the optuna_tuning class\n",
    "    ot = optuna_tuning(X, y)\n",
    "    #ot.osample_Xy()\n",
    "    ot.split_data(0.7)\n",
    "    ot.osample(os_data = [1,0,0])\n",
    "    \n",
    "    ot.X, ot.y = None, None\n",
    "    del X, y\n",
    "    gc.collect()\n",
    "    sleep(3)\n",
    "    \n",
    "    ''' \n",
    "    - Initialize the number of trials and n_estimators.\n",
    "    - Recommended n_estimators is 100 for really huge datasets, 1000 for medium-sized.\n",
    "    - For our dataset here, 1000 is fine.  Ramping it up to 4000 for example will have no\n",
    "         significant benefits, will be very slow, and a Kaggle notebook will run out of \n",
    "         memory often.\n",
    "    '''\n",
    "    \n",
    "    nn_trials = 88\n",
    "    nn_estimators = 1000\n",
    "    \n",
    "    if os.path.exists(f'{workdir}xgb_optuna_study_log.txt'):\n",
    "        os.remove(f'{workdir}xgb_optuna_study_log.txt')\n",
    "\n",
    "    # STUDY\n",
    "    \n",
    "    # Turn off optuna log notes, to use own logging notes\n",
    "    optuna.logging.set_verbosity(optuna.logging.WARN)\n",
    "\n",
    "    print(f\"{mf.color.bold}Please wait, finding best trial ...{mf.color.end}\")\n",
    "            \n",
    "    gt = dt.datetime.now()\n",
    "        \n",
    "    study = optuna.create_study(direction='maximize')\n",
    "    try:\n",
    "        # callbacks [self.save_study] is to save study in case memory fails\n",
    "        study.optimize(lambda trial: ot.objective(trial, gt, n_estimators = nn_estimators), \n",
    "                        n_trials = nn_trials,\n",
    "                        callbacks = [ot.logging_callback, ot.save_study],\n",
    "                        gc_after_trial = True,\n",
    "                        catch = (RuntimeWarning,ArithmeticError,))\n",
    "    except MemoryError as e:\n",
    "        print(f'{mf.color.bdblue}{e} : Memory was getting low, Trial ended early{mf.color.end}')\n",
    "    \n",
    "    complete_trials = [t for t in study.trials if t.state == optuna.trial.TrialState.COMPLETE]\n",
    "    pruned_trials = [t for t in study.trials if t.state == optuna.trial.TrialState.PRUNED]\n",
    "    print()\n",
    "    print(f'Number of finished trials: {len(study.trials)}')\n",
    "    print(f'Number of pruned trials: {len(pruned_trials)}')\n",
    "    print(f'Number of completed trials: {mf.color.bdgreen}{len(complete_trials)}{mf.color.end}')\n",
    "    print(f'{mf.color.bdblue}Best trial: {study.best_trial.params}{mf.color.end}')\n",
    "    \n",
    "    joblib.dump(study, f\"{workdir}xgb_optuna_study.pkl\")   # save study\n",
    "    # jl = joblib.load(f\"{workdir}xgb_optuna_study.pkl\")   # load study\n",
    "\n",
    "    print()\n",
    "    return study\n",
    "\n",
    "if optuna_flag == 1 or optuna_flag == 3:\n",
    "    study_results = OptunaStudy()"
   ]
  },
  {
   "cell_type": "markdown",
   "id": "c8f76a0c",
   "metadata": {
    "execution": {
     "iopub.execute_input": "2022-05-17T07:15:49.429758Z",
     "iopub.status.busy": "2022-05-17T07:15:49.429388Z",
     "iopub.status.idle": "2022-05-17T07:15:49.458798Z",
     "shell.execute_reply": "2022-05-17T07:15:49.457385Z",
     "shell.execute_reply.started": "2022-05-17T07:15:49.429667Z"
    },
    "papermill": {
     "duration": 0.076279,
     "end_time": "2022-06-06T20:33:09.886517",
     "exception": false,
     "start_time": "2022-06-06T20:33:09.810238",
     "status": "completed"
    },
    "tags": []
   },
   "source": [
    "<i><a style=\"color:DarkSlateGrey\" href=\"#toc\">Back to Table Of Contents</a></i>"
   ]
  },
  {
   "cell_type": "markdown",
   "id": "1e082600",
   "metadata": {
    "papermill": {
     "duration": 0.076445,
     "end_time": "2022-06-06T20:33:10.038158",
     "exception": false,
     "start_time": "2022-06-06T20:33:09.961713",
     "status": "completed"
    },
    "tags": []
   },
   "source": [
    "<a id=\"incremental_df\"></a>\n",
    "<div style=\"font-family: Trebuchet MS;background-color:DarkCyan;color:Azure;text-align: left;padding-top: 5px;padding-bottom: 20px;padding-left: 20px;padding-right: 10px;border-radius: 15px 50px;letter-spacing: 2px;\">\n",
    "    <h2 style='color:GhostWhite;'>1.2 Optuna Study - Incremental Dataset</h2>\n",
    "</div>"
   ]
  },
  {
   "cell_type": "code",
   "execution_count": 14,
   "id": "463feac1",
   "metadata": {
    "execution": {
     "iopub.execute_input": "2022-06-06T20:33:10.189518Z",
     "iopub.status.busy": "2022-06-06T20:33:10.189225Z",
     "iopub.status.idle": "2022-06-06T20:33:10.202515Z",
     "shell.execute_reply": "2022-06-06T20:33:10.201602Z"
    },
    "papermill": {
     "duration": 0.092115,
     "end_time": "2022-06-06T20:33:10.205071",
     "exception": false,
     "start_time": "2022-06-06T20:33:10.112956",
     "status": "completed"
    },
    "scrolled": true,
    "tags": []
   },
   "outputs": [
    {
     "name": "stdout",
     "output_type": "stream",
     "text": [
      "CPU times: user 5 µs, sys: 0 ns, total: 5 µs\n",
      "Wall time: 9.54 µs\n"
     ]
    }
   ],
   "source": [
    "%%time\n",
    "\n",
    "# For running Optuna tuning incrementally in batches, much slower, but lighter on memory\n",
    "def OptunaStudyChunk(): \n",
    "    ''' \n",
    "    - Initialize the number of trials and n_estimators.\n",
    "    - Recommended n_estimators is 100 for really huge datasets, 1000 for medium-sized.\n",
    "    - For our dataset here, 1000 is fine.  Ramping it up to 4000 for example will have no\n",
    "         significant benefits, will be very slow, and a Kaggle notebook will run out of memory often.\n",
    "    '''\n",
    "\n",
    "    nn_trials = 3               # n_trials\n",
    "    nn_chunksize = 200000\n",
    "    nn_estimators = 1000\n",
    "    \n",
    "    if os.path.exists(f'{workdir}xgb_optuna_study_log.txt'):\n",
    "        os.remove(f'{workdir}xgb_optuna_study_log.txt')\n",
    "        \n",
    "    # OPTUNA STUDY\n",
    "    \n",
    "    # Turn off optuna log notes, to use own logging notes\n",
    "    optuna.logging.set_verbosity(optuna.logging.WARN)\n",
    "    \n",
    "    clear_output(wait=True)\n",
    "    print(f\"{mf.color.bold}Please wait, finding best trial ...{mf.color.end}\")\n",
    "            \n",
    "    gt = dt.datetime.now()\n",
    "\n",
    "    otb = optuna_tuning(None, None)\n",
    "    study = optuna.create_study(direction='minimize')\n",
    "    try:\n",
    "        '''\n",
    "        # otb.save_study callback is to save the study after every trial, \n",
    "        '''\n",
    "        study.optimize(lambda trial: otb.objective_chunk(trial, nn_trials, gt,\n",
    "                        n_chunksize = nn_chunksize, n_estimators = nn_estimators), \n",
    "                        n_trials = nn_trials,\n",
    "                        callbacks = [otb.logging_callback, otb.save_study],\n",
    "                        gc_after_trial = True,\n",
    "                        catch = (RuntimeWarning,ArithmeticError,))\n",
    "    except MemoryError as e:\n",
    "        print(f'\\n\\n{mf.color.bdblue}{e} : Memory was getting low, Trial ended early{mf.color.end}\\n\\n')\n",
    " \n",
    "    complete_trials = [t for t in study.trials if t.state == optuna.trial.TrialState.COMPLETE]\n",
    "    pruned_trials = [t for t in study.trials if t.state == optuna.trial.TrialState.PRUNED]\n",
    "    print()\n",
    "    print(f'Number of finished trials: {len(study.trials)}')\n",
    "    print(f'Number of pruned trials: {len(pruned_trials)}')\n",
    "    print(f'Number of completed trials: {mf.color.bdgreen}{len(complete_trials)}{mf.color.end}')\n",
    "    print(f'{mf.color.bdblue}Best trial: {study.best_trial.params}{mf.color.end}')\n",
    "    \n",
    "    joblib.dump(study, f\"{workdir}xgb_optuna_study.pkl\")   # save study\n",
    "    # jl = joblib.load(f\"{workdir}xgb_optuna_study.pkl\")   # load study\n",
    "\n",
    "    print()\n",
    "    return study\n",
    "\n",
    "if optuna_flag == 2 or optuna_flag == 3:\n",
    "    study_results = OptunaStudyChunk()"
   ]
  },
  {
   "cell_type": "markdown",
   "id": "44dbc4aa",
   "metadata": {
    "execution": {
     "iopub.execute_input": "2022-05-17T07:15:49.429758Z",
     "iopub.status.busy": "2022-05-17T07:15:49.429388Z",
     "iopub.status.idle": "2022-05-17T07:15:49.458798Z",
     "shell.execute_reply": "2022-05-17T07:15:49.457385Z",
     "shell.execute_reply.started": "2022-05-17T07:15:49.429667Z"
    },
    "papermill": {
     "duration": 0.076189,
     "end_time": "2022-06-06T20:33:10.358021",
     "exception": false,
     "start_time": "2022-06-06T20:33:10.281832",
     "status": "completed"
    },
    "tags": []
   },
   "source": [
    "<i><a style=\"color:DarkSlateGrey\" href=\"#toc\">Back to Table Of Contents</a></i>"
   ]
  },
  {
   "cell_type": "markdown",
   "id": "78479a5f",
   "metadata": {
    "papermill": {
     "duration": 0.080208,
     "end_time": "2022-06-06T20:33:10.515226",
     "exception": false,
     "start_time": "2022-06-06T20:33:10.435018",
     "status": "completed"
    },
    "tags": []
   },
   "source": [
    "<a id=\"optuna_metrics\"></a>\n",
    "<div style=\"font-family: Trebuchet MS;background-color:DarkCyan;color:Azure;text-align: left;padding-top: 5px;padding-bottom: 20px;padding-left: 20px;padding-right: 10px;border-radius: 15px 50px;letter-spacing: 2px;\">\n",
    "    <h2 style='color:GhostWhite;'>1.3 Optuna Study Metrics</h2>\n",
    "</div>"
   ]
  },
  {
   "cell_type": "code",
   "execution_count": 15,
   "id": "412f9356",
   "metadata": {
    "execution": {
     "iopub.execute_input": "2022-06-06T20:33:10.667315Z",
     "iopub.status.busy": "2022-06-06T20:33:10.667064Z",
     "iopub.status.idle": "2022-06-06T20:33:10.672751Z",
     "shell.execute_reply": "2022-06-06T20:33:10.671976Z"
    },
    "papermill": {
     "duration": 0.088943,
     "end_time": "2022-06-06T20:33:10.679196",
     "exception": false,
     "start_time": "2022-06-06T20:33:10.590253",
     "status": "completed"
    },
    "tags": []
   },
   "outputs": [
    {
     "name": "stdout",
     "output_type": "stream",
     "text": [
      "\n",
      "\n",
      "Current Ram Used: 18.0 %\n",
      "Trial 0 finished with parameters: {'tree_method': 'gpu_hist', 'lambda': 3.894168489098548, 'alpha': 0.06576459932689147, 'gamma': 1, 'colsample_bytree': 0.7, 'subsample': 0.8, 'learning_rate': 0.05, 'n_estimators': 1000, 'max_depth': 11, 'random_state': 48, 'min_child_weight': 4, 'early_stopping_rounds': 100.0, 'eval_metric': ['auc', 'error']}. \n",
      "\n",
      "Current Ram Used: 18.0 %\n",
      "\u001b[1m\u001b[94mTrial 0 done with best value: \u001b[1m\u001b[92m0.961641247644409\u001b[1m\u001b[94m and parameters: \u001b[0m{'tree_method': 'gpu_hist', 'lambda': 3.894168489098548, 'alpha': 0.06576459932689147, 'gamma': 1, 'colsample_bytree': 0.7, 'subsample': 0.8, 'learning_rate': 0.05, 'n_estimators': 1000, 'max_depth': 11, 'random_state': 48, 'min_child_weight': 4, 'early_stopping_rounds': 100.0, 'eval_metric': ['auc', 'error']}. \n",
      "\n",
      "Current Ram Used: 18.2 %\n",
      "Trial 1 finished with parameters: {'tree_method': 'gpu_hist', 'lambda': 0.0022396785930011475, 'alpha': 0.236002041723245, 'gamma': 0, 'colsample_bytree': 1.0, 'subsample': 0.9, 'learning_rate': 0.01, 'n_estimators': 1000, 'max_depth': 9, 'random_state': 48, 'min_child_weight': 2, 'early_stopping_rounds': 100.0, 'eval_metric': ['auc', 'error']}. \n",
      "\n",
      "Current Ram Used: 18.2 %\n",
      "Trial 2 finished with parameters: {'tree_method': 'gpu_hist', 'lambda': 0.3993152006424263, 'alpha': 0.21790341322398094, 'gamma': 5, 'colsample_bytree': 0.7, 'subsample': 0.7, 'learning_rate': 0.01, 'n_estimators': 1000, 'max_depth': 9, 'random_state': 48, 'min_child_weight': 10, 'early_stopping_rounds': 100.0, 'eval_metric': ['auc', 'error']}. \n",
      "\n",
      "Current Ram Used: 18.4 %\n",
      "Trial 3 finished with parameters: {'tree_method': 'gpu_hist', 'lambda': 0.93816370128156, 'alpha': 1.4020675789104875, 'gamma': 0, 'colsample_bytree': 0.6, 'subsample': 0.8, 'learning_rate': 0.01, 'n_estimators': 1000, 'max_depth': 11, 'random_state': 48, 'min_child_weight': 4, 'early_stopping_rounds': 100.0, 'eval_metric': ['auc', 'error']}. \n",
      "\n",
      "Current Ram Used: 18.3 %\n",
      "Trial 4 finished with parameters: {'tree_method': 'gpu_hist', 'lambda': 0.0229266186680428, 'alpha': 1.8915477357363462, 'gamma': 1, 'colsample_bytree': 0.8, 'subsample': 0.9, 'learning_rate': 0.1, 'n_estimators': 1000, 'max_depth': 9, 'random_state': 48, 'min_child_weight': 10, 'early_stopping_rounds': 100.0, 'eval_metric': ['auc', 'error']}. \n",
      "\n",
      "Current Ram Used: 18.3 %\n",
      "Trial 5 finished with parameters: {'tree_method': 'gpu_hist', 'lambda': 0.04617069320382866, 'alpha': 0.0014118245618849126, 'gamma': 0, 'colsample_bytree': 0.6, 'subsample': 0.7, 'learning_rate': 0.05, 'n_estimators': 1000, 'max_depth': 9, 'random_state': 48, 'min_child_weight': 7, 'early_stopping_rounds': 100.0, 'eval_metric': ['auc', 'error']}. \n",
      "\u001b[1mTrial 6 pruned\u001b[0m\n",
      "\u001b[1mTrial 7 pruned\u001b[0m\n",
      "\u001b[1mTrial 8 pruned\u001b[0m\n",
      "\u001b[1mTrial 9 pruned\u001b[0m\n",
      "\n",
      "Current Ram Used: 18.3 %\n",
      "Trial 10 finished with parameters: {'tree_method': 'gpu_hist', 'lambda': 7.4381212954815785, 'alpha': 0.020662427490237112, 'gamma': 1, 'colsample_bytree': 0.7, 'subsample': 0.6, 'learning_rate': 0.07, 'n_estimators': 1000, 'max_depth': 13, 'random_state': 48, 'min_child_weight': 1, 'early_stopping_rounds': 100.0, 'eval_metric': ['auc', 'error']}. \n",
      "\n",
      "Current Ram Used: 18.3 %\n",
      "\u001b[1m\u001b[94mTrial 10 done with best value: \u001b[1m\u001b[92m0.9637462806404383\u001b[1m\u001b[94m and parameters: \u001b[0m{'tree_method': 'gpu_hist', 'lambda': 7.4381212954815785, 'alpha': 0.020662427490237112, 'gamma': 1, 'colsample_bytree': 0.7, 'subsample': 0.6, 'learning_rate': 0.07, 'n_estimators': 1000, 'max_depth': 13, 'random_state': 48, 'min_child_weight': 1, 'early_stopping_rounds': 100.0, 'eval_metric': ['auc', 'error']}. \n",
      "\n",
      "Current Ram Used: 18.3 %\n",
      "Trial 11 finished with parameters: {'tree_method': 'gpu_hist', 'lambda': 7.793061536407495, 'alpha': 0.02266442852279866, 'gamma': 1, 'colsample_bytree': 0.7, 'subsample': 0.6, 'learning_rate': 0.07, 'n_estimators': 1000, 'max_depth': 13, 'random_state': 48, 'min_child_weight': 1, 'early_stopping_rounds': 100.0, 'eval_metric': ['auc', 'error']}. \n",
      "\n",
      "Current Ram Used: 18.4 %\n",
      "Trial 12 finished with parameters: {'tree_method': 'gpu_hist', 'lambda': 8.251833858157214, 'alpha': 0.0122812780422617, 'gamma': 1, 'colsample_bytree': 0.7, 'subsample': 0.6, 'learning_rate': 0.07, 'n_estimators': 1000, 'max_depth': 13, 'random_state': 48, 'min_child_weight': 1, 'early_stopping_rounds': 100.0, 'eval_metric': ['auc', 'error']}. \n",
      "\n",
      "Current Ram Used: 18.4 %\n",
      "Trial 13 finished with parameters: {'tree_method': 'gpu_hist', 'lambda': 3.297832791760323, 'alpha': 0.010325509172883319, 'gamma': 1, 'colsample_bytree': 0.7, 'subsample': 0.6, 'learning_rate': 0.07, 'n_estimators': 1000, 'max_depth': 13, 'random_state': 48, 'min_child_weight': 2, 'early_stopping_rounds': 100.0, 'eval_metric': ['auc', 'error']}. \n",
      "\n",
      "Current Ram Used: 18.4 %\n",
      "\u001b[1m\u001b[94mTrial 13 done with best value: \u001b[1m\u001b[92m0.9638812236137645\u001b[1m\u001b[94m and parameters: \u001b[0m{'tree_method': 'gpu_hist', 'lambda': 3.297832791760323, 'alpha': 0.010325509172883319, 'gamma': 1, 'colsample_bytree': 0.7, 'subsample': 0.6, 'learning_rate': 0.07, 'n_estimators': 1000, 'max_depth': 13, 'random_state': 48, 'min_child_weight': 2, 'early_stopping_rounds': 100.0, 'eval_metric': ['auc', 'error']}. \n",
      "\n",
      "Current Ram Used: 18.4 %\n",
      "Trial 14 finished with parameters: {'tree_method': 'gpu_hist', 'lambda': 2.8023746556952935, 'alpha': 0.006704451545928281, 'gamma': 1, 'colsample_bytree': 0.7, 'subsample': 0.6, 'learning_rate': 0.03, 'n_estimators': 1000, 'max_depth': 13, 'random_state': 48, 'min_child_weight': 3, 'early_stopping_rounds': 100.0, 'eval_metric': ['auc', 'error']}. \n",
      "\n",
      "Current Ram Used: 18.5 %\n",
      "Trial 15 finished with parameters: {'tree_method': 'gpu_hist', 'lambda': 1.644429844124415, 'alpha': 0.006086293209755101, 'gamma': 1, 'colsample_bytree': 0.8, 'subsample': 0.6, 'learning_rate': 0.07, 'n_estimators': 1000, 'max_depth': 13, 'random_state': 48, 'min_child_weight': 2, 'early_stopping_rounds': 100.0, 'eval_metric': ['auc', 'error']}. \n",
      "\n",
      "Current Ram Used: 18.5 %\n",
      "\u001b[1m\u001b[94mTrial 15 done with best value: \u001b[1m\u001b[92m0.9640351580745151\u001b[1m\u001b[94m and parameters: \u001b[0m{'tree_method': 'gpu_hist', 'lambda': 1.644429844124415, 'alpha': 0.006086293209755101, 'gamma': 1, 'colsample_bytree': 0.8, 'subsample': 0.6, 'learning_rate': 0.07, 'n_estimators': 1000, 'max_depth': 13, 'random_state': 48, 'min_child_weight': 2, 'early_stopping_rounds': 100.0, 'eval_metric': ['auc', 'error']}. \n",
      "\u001b[1mTrial 16 pruned\u001b[0m\n",
      "\n",
      "Current Ram Used: 18.3 %\n",
      "Trial 17 finished with parameters: {'tree_method': 'gpu_hist', 'lambda': 0.2521825433181742, 'alpha': 0.006423769649953182, 'gamma': 1, 'colsample_bytree': 0.8, 'subsample': 0.6, 'learning_rate': 0.07, 'n_estimators': 1000, 'max_depth': 13, 'random_state': 48, 'min_child_weight': 6, 'early_stopping_rounds': 100.0, 'eval_metric': ['auc', 'error']}. \n",
      "\u001b[1mTrial 18 pruned\u001b[0m\n",
      "\n",
      "Current Ram Used: 18.5 %\n",
      "Trial 19 finished with parameters: {'tree_method': 'gpu_hist', 'lambda': 1.9082060364035789, 'alpha': 0.10245436474562107, 'gamma': 1, 'colsample_bytree': 0.8, 'subsample': 0.6, 'learning_rate': 0.03, 'n_estimators': 1000, 'max_depth': 13, 'random_state': 48, 'min_child_weight': 2, 'early_stopping_rounds': 100.0, 'eval_metric': ['auc', 'error']}. \n",
      "\u001b[1mTrial 20 pruned\u001b[0m\n",
      "\n",
      "Current Ram Used: 18.6 %\n",
      "Trial 21 finished with parameters: {'tree_method': 'gpu_hist', 'lambda': 4.25467632998347, 'alpha': 0.013449873130947714, 'gamma': 1, 'colsample_bytree': 0.7, 'subsample': 0.6, 'learning_rate': 0.07, 'n_estimators': 1000, 'max_depth': 13, 'random_state': 48, 'min_child_weight': 1, 'early_stopping_rounds': 100.0, 'eval_metric': ['auc', 'error']}. \n",
      "\n",
      "Current Ram Used: 18.8 %\n",
      "Trial 22 finished with parameters: {'tree_method': 'gpu_hist', 'lambda': 7.485679408025401, 'alpha': 0.03981635748479545, 'gamma': 1, 'colsample_bytree': 0.7, 'subsample': 0.6, 'learning_rate': 0.07, 'n_estimators': 1000, 'max_depth': 13, 'random_state': 48, 'min_child_weight': 2, 'early_stopping_rounds': 100.0, 'eval_metric': ['auc', 'error']}. \n",
      "\n",
      "Current Ram Used: 18.8 %\n",
      "Trial 23 finished with parameters: {'tree_method': 'gpu_hist', 'lambda': 1.4092003481804534, 'alpha': 0.00901512854645461, 'gamma': 1, 'colsample_bytree': 0.7, 'subsample': 0.6, 'learning_rate': 0.07, 'n_estimators': 1000, 'max_depth': 13, 'random_state': 48, 'min_child_weight': 2, 'early_stopping_rounds': 100.0, 'eval_metric': ['auc', 'error']}. \n",
      "\n",
      "Current Ram Used: 18.8 %\n",
      "\u001b[1m\u001b[94mTrial 23 done with best value: \u001b[1m\u001b[92m0.9641590583264167\u001b[1m\u001b[94m and parameters: \u001b[0m{'tree_method': 'gpu_hist', 'lambda': 1.4092003481804534, 'alpha': 0.00901512854645461, 'gamma': 1, 'colsample_bytree': 0.7, 'subsample': 0.6, 'learning_rate': 0.07, 'n_estimators': 1000, 'max_depth': 13, 'random_state': 48, 'min_child_weight': 2, 'early_stopping_rounds': 100.0, 'eval_metric': ['auc', 'error']}. \n",
      "\n",
      "Current Ram Used: 18.5 %\n",
      "Trial 24 finished with parameters: {'tree_method': 'gpu_hist', 'lambda': 0.18861047521109542, 'alpha': 0.00942935453376159, 'gamma': 1, 'colsample_bytree': 0.9, 'subsample': 0.7, 'learning_rate': 0.07, 'n_estimators': 1000, 'max_depth': 13, 'random_state': 48, 'min_child_weight': 4, 'early_stopping_rounds': 100.0, 'eval_metric': ['auc', 'error']}. \n",
      "\n",
      "Current Ram Used: 18.5 %\n",
      "Trial 25 finished with parameters: {'tree_method': 'gpu_hist', 'lambda': 0.17571793680782744, 'alpha': 0.0026226313939995403, 'gamma': 1, 'colsample_bytree': 0.9, 'subsample': 0.7, 'learning_rate': 0.07, 'n_estimators': 1000, 'max_depth': 13, 'random_state': 48, 'min_child_weight': 4, 'early_stopping_rounds': 100.0, 'eval_metric': ['auc', 'error']}. \n",
      "\n",
      "Current Ram Used: 18.5 %\n",
      "Trial 26 finished with parameters: {'tree_method': 'gpu_hist', 'lambda': 0.8315576959929571, 'alpha': 0.0056498222597224125, 'gamma': 1, 'colsample_bytree': 0.9, 'subsample': 0.7, 'learning_rate': 0.07, 'n_estimators': 1000, 'max_depth': 13, 'random_state': 48, 'min_child_weight': 6, 'early_stopping_rounds': 100.0, 'eval_metric': ['auc', 'error']}. \n",
      "\u001b[1mTrial 27 pruned\u001b[0m\n",
      "\n",
      "Current Ram Used: 19.3 %\n",
      "Trial 28 finished with parameters: {'tree_method': 'gpu_hist', 'lambda': 0.24298580135890246, 'alpha': 0.047601533077200414, 'gamma': 0, 'colsample_bytree': 1.0, 'subsample': 0.7, 'learning_rate': 0.1, 'n_estimators': 1000, 'max_depth': 11, 'random_state': 48, 'min_child_weight': 4, 'early_stopping_rounds': 100.0, 'eval_metric': ['auc', 'error']}. \n",
      "\n",
      "Current Ram Used: 19.3 %\n",
      "\u001b[1m\u001b[94mTrial 28 done with best value: \u001b[1m\u001b[92m0.9643596207389571\u001b[1m\u001b[94m and parameters: \u001b[0m{'tree_method': 'gpu_hist', 'lambda': 0.24298580135890246, 'alpha': 0.047601533077200414, 'gamma': 0, 'colsample_bytree': 1.0, 'subsample': 0.7, 'learning_rate': 0.1, 'n_estimators': 1000, 'max_depth': 11, 'random_state': 48, 'min_child_weight': 4, 'early_stopping_rounds': 100.0, 'eval_metric': ['auc', 'error']}. \n",
      "\n",
      "Current Ram Used: 19.3 %\n",
      "Trial 29 finished with parameters: {'tree_method': 'gpu_hist', 'lambda': 0.27996996955304304, 'alpha': 0.19665173660765398, 'gamma': 0, 'colsample_bytree': 1.0, 'subsample': 0.7, 'learning_rate': 0.1, 'n_estimators': 1000, 'max_depth': 11, 'random_state': 48, 'min_child_weight': 4, 'early_stopping_rounds': 100.0, 'eval_metric': ['auc', 'error']}. \n",
      "\n",
      "Current Ram Used: 19.3 %\n",
      "\u001b[1m\u001b[94mTrial 29 done with best value: \u001b[1m\u001b[92m0.9643606067160038\u001b[1m\u001b[94m and parameters: \u001b[0m{'tree_method': 'gpu_hist', 'lambda': 0.27996996955304304, 'alpha': 0.19665173660765398, 'gamma': 0, 'colsample_bytree': 1.0, 'subsample': 0.7, 'learning_rate': 0.1, 'n_estimators': 1000, 'max_depth': 11, 'random_state': 48, 'min_child_weight': 4, 'early_stopping_rounds': 100.0, 'eval_metric': ['auc', 'error']}. \n",
      "\n",
      "Current Ram Used: 19.3 %\n",
      "Trial 30 finished with parameters: {'tree_method': 'gpu_hist', 'lambda': 0.09689351285169334, 'alpha': 0.3844743768542708, 'gamma': 0, 'colsample_bytree': 1.0, 'subsample': 0.7, 'learning_rate': 0.1, 'n_estimators': 1000, 'max_depth': 11, 'random_state': 48, 'min_child_weight': 5, 'early_stopping_rounds': 100.0, 'eval_metric': ['auc', 'error']}. \n",
      "\n",
      "Current Ram Used: 19.3 %\n",
      "Trial 31 finished with parameters: {'tree_method': 'gpu_hist', 'lambda': 0.07465787771121032, 'alpha': 0.4281455570211343, 'gamma': 0, 'colsample_bytree': 1.0, 'subsample': 0.7, 'learning_rate': 0.1, 'n_estimators': 1000, 'max_depth': 11, 'random_state': 48, 'min_child_weight': 5, 'early_stopping_rounds': 100.0, 'eval_metric': ['auc', 'error']}. \n",
      "\n",
      "Current Ram Used: 18.5 %\n",
      "Trial 32 finished with parameters: {'tree_method': 'gpu_hist', 'lambda': 0.3452271456910388, 'alpha': 0.22253670260028338, 'gamma': 0, 'colsample_bytree': 1.0, 'subsample': 0.7, 'learning_rate': 0.1, 'n_estimators': 1000, 'max_depth': 11, 'random_state': 48, 'min_child_weight': 4, 'early_stopping_rounds': 100.0, 'eval_metric': ['auc', 'error']}. \n",
      "\n",
      "Current Ram Used: 18.5 %\n",
      "\u001b[1m\u001b[94mTrial 32 done with best value: \u001b[1m\u001b[92m0.9644514445567597\u001b[1m\u001b[94m and parameters: \u001b[0m{'tree_method': 'gpu_hist', 'lambda': 0.3452271456910388, 'alpha': 0.22253670260028338, 'gamma': 0, 'colsample_bytree': 1.0, 'subsample': 0.7, 'learning_rate': 0.1, 'n_estimators': 1000, 'max_depth': 11, 'random_state': 48, 'min_child_weight': 4, 'early_stopping_rounds': 100.0, 'eval_metric': ['auc', 'error']}. \n",
      "\n",
      "Current Ram Used: 18.5 %\n",
      "Trial 33 finished with parameters: {'tree_method': 'gpu_hist', 'lambda': 0.3785144474472698, 'alpha': 0.14854579972838905, 'gamma': 0, 'colsample_bytree': 1.0, 'subsample': 0.7, 'learning_rate': 0.1, 'n_estimators': 1000, 'max_depth': 11, 'random_state': 48, 'min_child_weight': 4, 'early_stopping_rounds': 100.0, 'eval_metric': ['auc', 'error']}. \n",
      "\n",
      "Current Ram Used: 18.5 %\n",
      "Trial 34 finished with parameters: {'tree_method': 'gpu_hist', 'lambda': 0.36125914084789457, 'alpha': 0.16442376025050795, 'gamma': 0, 'colsample_bytree': 1.0, 'subsample': 0.7, 'learning_rate': 0.1, 'n_estimators': 1000, 'max_depth': 11, 'random_state': 48, 'min_child_weight': 4, 'early_stopping_rounds': 100.0, 'eval_metric': ['auc', 'error']}. \n",
      "\n",
      "Current Ram Used: 18.5 %\n",
      "Trial 35 finished with parameters: {'tree_method': 'gpu_hist', 'lambda': 0.3223537345492227, 'alpha': 0.05823604193063695, 'gamma': 0, 'colsample_bytree': 1.0, 'subsample': 0.7, 'learning_rate': 0.1, 'n_estimators': 1000, 'max_depth': 11, 'random_state': 48, 'min_child_weight': 4, 'early_stopping_rounds': 100.0, 'eval_metric': ['auc', 'error']}. \n",
      "\n",
      "Current Ram Used: 18.5 %\n",
      "Trial 36 finished with parameters: {'tree_method': 'gpu_hist', 'lambda': 0.015807124381545603, 'alpha': 0.24380401557456077, 'gamma': 0, 'colsample_bytree': 1.0, 'subsample': 0.7, 'learning_rate': 0.1, 'n_estimators': 1000, 'max_depth': 11, 'random_state': 48, 'min_child_weight': 6, 'early_stopping_rounds': 100.0, 'eval_metric': ['auc', 'error']}. \n",
      "\u001b[1mTrial 37 pruned\u001b[0m\n",
      "\n",
      "Current Ram Used: 18.9 %\n",
      "Trial 38 finished with parameters: {'tree_method': 'gpu_hist', 'lambda': 0.1589400770509113, 'alpha': 1.6772079824175945, 'gamma': 0, 'colsample_bytree': 1.0, 'subsample': 0.9, 'learning_rate': 0.1, 'n_estimators': 1000, 'max_depth': 11, 'random_state': 48, 'min_child_weight': 3, 'early_stopping_rounds': 100.0, 'eval_metric': ['auc', 'error']}. \n",
      "\n",
      "Current Ram Used: 18.9 %\n",
      "\u001b[1m\u001b[94mTrial 38 done with best value: \u001b[1m\u001b[92m0.9645400077127836\u001b[1m\u001b[94m and parameters: \u001b[0m{'tree_method': 'gpu_hist', 'lambda': 0.1589400770509113, 'alpha': 1.6772079824175945, 'gamma': 0, 'colsample_bytree': 1.0, 'subsample': 0.9, 'learning_rate': 0.1, 'n_estimators': 1000, 'max_depth': 11, 'random_state': 48, 'min_child_weight': 3, 'early_stopping_rounds': 100.0, 'eval_metric': ['auc', 'error']}. \n",
      "\n",
      "Current Ram Used: 18.9 %\n",
      "Trial 39 finished with parameters: {'tree_method': 'gpu_hist', 'lambda': 0.1554831123341985, 'alpha': 2.871126301562931, 'gamma': 0, 'colsample_bytree': 1.0, 'subsample': 0.9, 'learning_rate': 0.1, 'n_estimators': 1000, 'max_depth': 11, 'random_state': 48, 'min_child_weight': 3, 'early_stopping_rounds': 100.0, 'eval_metric': ['auc', 'error']}. \n",
      "\u001b[1mTrial 40 pruned\u001b[0m\n",
      "\u001b[1mTrial 41 pruned\u001b[0m\n",
      "\n",
      "Current Ram Used: 18.6 %\n",
      "Trial 42 finished with parameters: {'tree_method': 'gpu_hist', 'lambda': 0.22891366245763958, 'alpha': 1.5578088724092671, 'gamma': 0, 'colsample_bytree': 1.0, 'subsample': 0.9, 'learning_rate': 0.1, 'n_estimators': 1000, 'max_depth': 11, 'random_state': 48, 'min_child_weight': 3, 'early_stopping_rounds': 100.0, 'eval_metric': ['auc', 'error']}. \n",
      "\n",
      "Current Ram Used: 18.6 %\n",
      "\u001b[1m\u001b[94mTrial 42 done with best value: \u001b[1m\u001b[92m0.9645409410614211\u001b[1m\u001b[94m and parameters: \u001b[0m{'tree_method': 'gpu_hist', 'lambda': 0.22891366245763958, 'alpha': 1.5578088724092671, 'gamma': 0, 'colsample_bytree': 1.0, 'subsample': 0.9, 'learning_rate': 0.1, 'n_estimators': 1000, 'max_depth': 11, 'random_state': 48, 'min_child_weight': 3, 'early_stopping_rounds': 100.0, 'eval_metric': ['auc', 'error']}. \n",
      "\n",
      "Current Ram Used: 18.6 %\n",
      "Trial 43 finished with parameters: {'tree_method': 'gpu_hist', 'lambda': 0.23646592186668627, 'alpha': 1.175260275478559, 'gamma': 0, 'colsample_bytree': 1.0, 'subsample': 0.9, 'learning_rate': 0.1, 'n_estimators': 1000, 'max_depth': 11, 'random_state': 48, 'min_child_weight': 4, 'early_stopping_rounds': 100.0, 'eval_metric': ['auc', 'error']}. \n",
      "\u001b[1mTrial 44 pruned\u001b[0m\n",
      "\n",
      "Current Ram Used: 18.9 %\n",
      "Trial 45 finished with parameters: {'tree_method': 'gpu_hist', 'lambda': 0.05944388688576231, 'alpha': 0.6634383731979324, 'gamma': 0, 'colsample_bytree': 1.0, 'subsample': 0.8, 'learning_rate': 0.1, 'n_estimators': 1000, 'max_depth': 11, 'random_state': 48, 'min_child_weight': 5, 'early_stopping_rounds': 100.0, 'eval_metric': ['auc', 'error']}. \n",
      "\u001b[1mTrial 46 pruned\u001b[0m\n",
      "\n",
      "Current Ram Used: 18.5 %\n",
      "Trial 47 finished with parameters: {'tree_method': 'gpu_hist', 'lambda': 0.25345431374861443, 'alpha': 0.32777162801254156, 'gamma': 0, 'colsample_bytree': 1.0, 'subsample': 0.9, 'learning_rate': 0.1, 'n_estimators': 1000, 'max_depth': 11, 'random_state': 48, 'min_child_weight': 3, 'early_stopping_rounds': 100.0, 'eval_metric': ['auc', 'error']}. \n",
      "\u001b[1mTrial 48 pruned\u001b[0m\n",
      "\u001b[1mTrial 49 pruned\u001b[0m\n",
      "\u001b[1mTrial 50 pruned\u001b[0m\n",
      "\n",
      "Current Ram Used: 18.6 %\n",
      "Trial 51 finished with parameters: {'tree_method': 'gpu_hist', 'lambda': 0.2619230251949134, 'alpha': 1.2571085522632224, 'gamma': 0, 'colsample_bytree': 1.0, 'subsample': 0.9, 'learning_rate': 0.1, 'n_estimators': 1000, 'max_depth': 11, 'random_state': 48, 'min_child_weight': 4, 'early_stopping_rounds': 100.0, 'eval_metric': ['auc', 'error']}. \n",
      "\n",
      "Current Ram Used: 18.6 %\n",
      "Trial 52 finished with parameters: {'tree_method': 'gpu_hist', 'lambda': 0.5335643186208682, 'alpha': 1.844310342865172, 'gamma': 0, 'colsample_bytree': 1.0, 'subsample': 0.9, 'learning_rate': 0.1, 'n_estimators': 1000, 'max_depth': 11, 'random_state': 48, 'min_child_weight': 3, 'early_stopping_rounds': 100.0, 'eval_metric': ['auc', 'error']}. \n",
      "\n",
      "Current Ram Used: 18.5 %\n",
      "Trial 53 finished with parameters: {'tree_method': 'gpu_hist', 'lambda': 0.24487165208562256, 'alpha': 1.2456514944381845, 'gamma': 0, 'colsample_bytree': 1.0, 'subsample': 0.9, 'learning_rate': 0.1, 'n_estimators': 1000, 'max_depth': 11, 'random_state': 48, 'min_child_weight': 5, 'early_stopping_rounds': 100.0, 'eval_metric': ['auc', 'error']}. \n",
      "\u001b[1mTrial 54 pruned\u001b[0m\n",
      "\n",
      "Current Ram Used: 18.5 %\n",
      "Trial 55 finished with parameters: {'tree_method': 'gpu_hist', 'lambda': 1.1209876602024111, 'alpha': 0.09917101400866996, 'gamma': 0, 'colsample_bytree': 1.0, 'subsample': 0.9, 'learning_rate': 0.1, 'n_estimators': 1000, 'max_depth': 11, 'random_state': 48, 'min_child_weight': 3, 'early_stopping_rounds': 100.0, 'eval_metric': ['auc', 'error']}. \n",
      "\u001b[1mTrial 56 pruned\u001b[0m\n",
      "\n",
      "Current Ram Used: 18.6 %\n",
      "Trial 57 finished with parameters: {'tree_method': 'gpu_hist', 'lambda': 0.6814304599535626, 'alpha': 0.24527111671923174, 'gamma': 0, 'colsample_bytree': 1.0, 'subsample': 0.9, 'learning_rate': 0.1, 'n_estimators': 1000, 'max_depth': 11, 'random_state': 48, 'min_child_weight': 3, 'early_stopping_rounds': 100.0, 'eval_metric': ['auc', 'error']}. \n",
      "\n",
      "Current Ram Used: 18.6 %\n",
      "\u001b[1m\u001b[94mTrial 57 done with best value: \u001b[1m\u001b[92m0.9646058042533192\u001b[1m\u001b[94m and parameters: \u001b[0m{'tree_method': 'gpu_hist', 'lambda': 0.6814304599535626, 'alpha': 0.24527111671923174, 'gamma': 0, 'colsample_bytree': 1.0, 'subsample': 0.9, 'learning_rate': 0.1, 'n_estimators': 1000, 'max_depth': 11, 'random_state': 48, 'min_child_weight': 3, 'early_stopping_rounds': 100.0, 'eval_metric': ['auc', 'error']}. \n",
      "\u001b[1mTrial 58 pruned\u001b[0m\n",
      "\u001b[1mTrial 59 pruned\u001b[0m\n",
      "\n",
      "Current Ram Used: 18.6 %\n",
      "Trial 60 finished with parameters: {'tree_method': 'gpu_hist', 'lambda': 0.43080561558493735, 'alpha': 0.4813145891190755, 'gamma': 0, 'colsample_bytree': 1.0, 'subsample': 0.9, 'learning_rate': 0.1, 'n_estimators': 1000, 'max_depth': 11, 'random_state': 48, 'min_child_weight': 2, 'early_stopping_rounds': 100.0, 'eval_metric': ['auc', 'error']}. \n",
      "\n",
      "Current Ram Used: 18.6 %\n",
      "\u001b[1m\u001b[94mTrial 60 done with best value: \u001b[1m\u001b[92m0.9649622012490022\u001b[1m\u001b[94m and parameters: \u001b[0m{'tree_method': 'gpu_hist', 'lambda': 0.43080561558493735, 'alpha': 0.4813145891190755, 'gamma': 0, 'colsample_bytree': 1.0, 'subsample': 0.9, 'learning_rate': 0.1, 'n_estimators': 1000, 'max_depth': 11, 'random_state': 48, 'min_child_weight': 2, 'early_stopping_rounds': 100.0, 'eval_metric': ['auc', 'error']}. \n",
      "\n",
      "Current Ram Used: 18.6 %\n",
      "Trial 61 finished with parameters: {'tree_method': 'gpu_hist', 'lambda': 0.4287974590895782, 'alpha': 0.5179502054956069, 'gamma': 0, 'colsample_bytree': 1.0, 'subsample': 0.9, 'learning_rate': 0.1, 'n_estimators': 1000, 'max_depth': 11, 'random_state': 48, 'min_child_weight': 2, 'early_stopping_rounds': 100.0, 'eval_metric': ['auc', 'error']}. \n",
      "\n",
      "Current Ram Used: 18.6 %\n",
      "Trial 62 finished with parameters: {'tree_method': 'gpu_hist', 'lambda': 0.41880171372345965, 'alpha': 0.13994807850854768, 'gamma': 0, 'colsample_bytree': 1.0, 'subsample': 0.9, 'learning_rate': 0.1, 'n_estimators': 1000, 'max_depth': 11, 'random_state': 48, 'min_child_weight': 2, 'early_stopping_rounds': 100.0, 'eval_metric': ['auc', 'error']}. \n",
      "\n",
      "Current Ram Used: 18.6 %\n",
      "\u001b[1m\u001b[94mTrial 62 done with best value: \u001b[1m\u001b[92m0.9649988497274559\u001b[1m\u001b[94m and parameters: \u001b[0m{'tree_method': 'gpu_hist', 'lambda': 0.41880171372345965, 'alpha': 0.13994807850854768, 'gamma': 0, 'colsample_bytree': 1.0, 'subsample': 0.9, 'learning_rate': 0.1, 'n_estimators': 1000, 'max_depth': 11, 'random_state': 48, 'min_child_weight': 2, 'early_stopping_rounds': 100.0, 'eval_metric': ['auc', 'error']}. \n",
      "\n",
      "Current Ram Used: 18.6 %\n",
      "Trial 63 finished with parameters: {'tree_method': 'gpu_hist', 'lambda': 1.2465121277962947, 'alpha': 0.15298716350083263, 'gamma': 0, 'colsample_bytree': 1.0, 'subsample': 0.9, 'learning_rate': 0.1, 'n_estimators': 1000, 'max_depth': 11, 'random_state': 48, 'min_child_weight': 2, 'early_stopping_rounds': 100.0, 'eval_metric': ['auc', 'error']}. \n",
      "\n",
      "Current Ram Used: 18.6 %\n",
      "\u001b[1m\u001b[94mTrial 63 done with best value: \u001b[1m\u001b[92m0.9652197205735152\u001b[1m\u001b[94m and parameters: \u001b[0m{'tree_method': 'gpu_hist', 'lambda': 1.2465121277962947, 'alpha': 0.15298716350083263, 'gamma': 0, 'colsample_bytree': 1.0, 'subsample': 0.9, 'learning_rate': 0.1, 'n_estimators': 1000, 'max_depth': 11, 'random_state': 48, 'min_child_weight': 2, 'early_stopping_rounds': 100.0, 'eval_metric': ['auc', 'error']}. \n",
      "\n",
      "Current Ram Used: 18.6 %\n",
      "Trial 64 finished with parameters: {'tree_method': 'gpu_hist', 'lambda': 0.4747890230235052, 'alpha': 0.5717516961907998, 'gamma': 0, 'colsample_bytree': 0.8, 'subsample': 0.9, 'learning_rate': 0.1, 'n_estimators': 1000, 'max_depth': 11, 'random_state': 48, 'min_child_weight': 1, 'early_stopping_rounds': 100.0, 'eval_metric': ['auc', 'error']}. \n",
      "\n",
      "Current Ram Used: 18.6 %\n",
      "Trial 65 finished with parameters: {'tree_method': 'gpu_hist', 'lambda': 0.48442087674890355, 'alpha': 0.5007796649616904, 'gamma': 0, 'colsample_bytree': 0.8, 'subsample': 0.9, 'learning_rate': 0.05, 'n_estimators': 1000, 'max_depth': 11, 'random_state': 48, 'min_child_weight': 1, 'early_stopping_rounds': 100.0, 'eval_metric': ['auc', 'error']}. \n",
      "\u001b[1mTrial 66 pruned\u001b[0m\n",
      "\u001b[1mTrial 67 pruned\u001b[0m\n",
      "\u001b[1mTrial 68 pruned\u001b[0m\n",
      "\n",
      "Current Ram Used: 19.0 %\n",
      "Trial 69 finished with parameters: {'tree_method': 'gpu_hist', 'lambda': 3.6650031778869097, 'alpha': 0.1344013662103933, 'gamma': 0, 'colsample_bytree': 0.8, 'subsample': 0.9, 'learning_rate': 0.1, 'n_estimators': 1000, 'max_depth': 11, 'random_state': 48, 'min_child_weight': 1, 'early_stopping_rounds': 100.0, 'eval_metric': ['auc', 'error']}. \n",
      "\n",
      "Current Ram Used: 19.0 %\n",
      "Trial 70 finished with parameters: {'tree_method': 'gpu_hist', 'lambda': 5.609877109790719, 'alpha': 0.02878358782196449, 'gamma': 0, 'colsample_bytree': 0.8, 'subsample': 0.9, 'learning_rate': 0.1, 'n_estimators': 1000, 'max_depth': 11, 'random_state': 48, 'min_child_weight': 1, 'early_stopping_rounds': 100.0, 'eval_metric': ['auc', 'error']}. \n",
      "\n",
      "Current Ram Used: 19.0 %\n",
      "Trial 71 finished with parameters: {'tree_method': 'gpu_hist', 'lambda': 4.880810986288309, 'alpha': 0.027539272925235454, 'gamma': 0, 'colsample_bytree': 0.8, 'subsample': 0.9, 'learning_rate': 0.1, 'n_estimators': 1000, 'max_depth': 11, 'random_state': 48, 'min_child_weight': 1, 'early_stopping_rounds': 100.0, 'eval_metric': ['auc', 'error']}. \n",
      "\n",
      "Current Ram Used: 19.0 %\n",
      "Trial 72 finished with parameters: {'tree_method': 'gpu_hist', 'lambda': 3.4906074374380873, 'alpha': 0.0727732294660505, 'gamma': 0, 'colsample_bytree': 0.8, 'subsample': 0.9, 'learning_rate': 0.1, 'n_estimators': 1000, 'max_depth': 11, 'random_state': 48, 'min_child_weight': 1, 'early_stopping_rounds': 100.0, 'eval_metric': ['auc', 'error']}. \n",
      "\n",
      "Current Ram Used: 19.0 %\n",
      "Trial 73 finished with parameters: {'tree_method': 'gpu_hist', 'lambda': 5.6885571420139325, 'alpha': 0.07147370120516046, 'gamma': 0, 'colsample_bytree': 0.8, 'subsample': 0.9, 'learning_rate': 0.1, 'n_estimators': 1000, 'max_depth': 11, 'random_state': 48, 'min_child_weight': 1, 'early_stopping_rounds': 100.0, 'eval_metric': ['auc', 'error']}. \n",
      "\n",
      "Current Ram Used: 19.0 %\n",
      "Trial 74 finished with parameters: {'tree_method': 'gpu_hist', 'lambda': 2.109485602285377, 'alpha': 0.01853918328601915, 'gamma': 0, 'colsample_bytree': 0.8, 'subsample': 0.9, 'learning_rate': 0.1, 'n_estimators': 1000, 'max_depth': 11, 'random_state': 48, 'min_child_weight': 1, 'early_stopping_rounds': 100.0, 'eval_metric': ['auc', 'error']}. \n",
      "\n",
      "Current Ram Used: 19.0 %\n",
      "Trial 75 finished with parameters: {'tree_method': 'gpu_hist', 'lambda': 2.685333409666568, 'alpha': 0.015690100107375118, 'gamma': 0, 'colsample_bytree': 0.8, 'subsample': 0.8, 'learning_rate': 0.1, 'n_estimators': 1000, 'max_depth': 11, 'random_state': 48, 'min_child_weight': 1, 'early_stopping_rounds': 100.0, 'eval_metric': ['auc', 'error']}. \n",
      "\n",
      "Current Ram Used: 19.0 %\n",
      "Trial 76 finished with parameters: {'tree_method': 'gpu_hist', 'lambda': 2.2818016556805505, 'alpha': 0.02102689045877584, 'gamma': 0, 'colsample_bytree': 0.8, 'subsample': 0.8, 'learning_rate': 0.1, 'n_estimators': 1000, 'max_depth': 11, 'random_state': 48, 'min_child_weight': 2, 'early_stopping_rounds': 100.0, 'eval_metric': ['auc', 'error']}. \n",
      "\u001b[1mTrial 77 pruned\u001b[0m\n",
      "\n",
      "Current Ram Used: 19.0 %\n",
      "Trial 78 finished with parameters: {'tree_method': 'gpu_hist', 'lambda': 2.8328790233430876, 'alpha': 0.0010086967429927946, 'gamma': 0, 'colsample_bytree': 0.8, 'subsample': 0.8, 'learning_rate': 0.1, 'n_estimators': 1000, 'max_depth': 11, 'random_state': 48, 'min_child_weight': 1, 'early_stopping_rounds': 100.0, 'eval_metric': ['auc', 'error']}. \n",
      "\n",
      "Current Ram Used: 19.0 %\n",
      "Trial 79 finished with parameters: {'tree_method': 'gpu_hist', 'lambda': 2.6933827622443727, 'alpha': 0.0021247497537863, 'gamma': 0, 'colsample_bytree': 0.8, 'subsample': 0.8, 'learning_rate': 0.1, 'n_estimators': 1000, 'max_depth': 11, 'random_state': 48, 'min_child_weight': 1, 'early_stopping_rounds': 100.0, 'eval_metric': ['auc', 'error']}. \n",
      "\n",
      "Current Ram Used: 19.0 %\n",
      "Trial 80 finished with parameters: {'tree_method': 'gpu_hist', 'lambda': 1.476539859899873, 'alpha': 0.04011036226083702, 'gamma': 0, 'colsample_bytree': 0.8, 'subsample': 0.8, 'learning_rate': 0.1, 'n_estimators': 1000, 'max_depth': 11, 'random_state': 48, 'min_child_weight': 2, 'early_stopping_rounds': 100.0, 'eval_metric': ['auc', 'error']}. \n",
      "\n",
      "Current Ram Used: 19.0 %\n",
      "Trial 81 finished with parameters: {'tree_method': 'gpu_hist', 'lambda': 2.0623155390834857, 'alpha': 0.0011520523068710032, 'gamma': 0, 'colsample_bytree': 0.8, 'subsample': 0.8, 'learning_rate': 0.1, 'n_estimators': 1000, 'max_depth': 11, 'random_state': 48, 'min_child_weight': 1, 'early_stopping_rounds': 100.0, 'eval_metric': ['auc', 'error']}. \n",
      "\n",
      "Current Ram Used: 19.0 %\n",
      "Trial 82 finished with parameters: {'tree_method': 'gpu_hist', 'lambda': 2.1081414991998897, 'alpha': 0.0010469495379954639, 'gamma': 0, 'colsample_bytree': 0.8, 'subsample': 0.8, 'learning_rate': 0.1, 'n_estimators': 1000, 'max_depth': 11, 'random_state': 48, 'min_child_weight': 1, 'early_stopping_rounds': 100.0, 'eval_metric': ['auc', 'error']}. \n",
      "\u001b[1mTrial 83 pruned\u001b[0m\n",
      "\n",
      "Current Ram Used: 19.0 %\n",
      "Trial 84 finished with parameters: {'tree_method': 'gpu_hist', 'lambda': 2.0173961259446505, 'alpha': 0.0011137095835288002, 'gamma': 0, 'colsample_bytree': 0.8, 'subsample': 0.8, 'learning_rate': 0.1, 'n_estimators': 1000, 'max_depth': 11, 'random_state': 48, 'min_child_weight': 1, 'early_stopping_rounds': 100.0, 'eval_metric': ['auc', 'error']}. \n",
      "\n",
      "Current Ram Used: 19.0 %\n",
      "Trial 85 finished with parameters: {'tree_method': 'gpu_hist', 'lambda': 2.2286495243506, 'alpha': 0.001807182817217524, 'gamma': 0, 'colsample_bytree': 0.8, 'subsample': 0.8, 'learning_rate': 0.1, 'n_estimators': 1000, 'max_depth': 11, 'random_state': 48, 'min_child_weight': 1, 'early_stopping_rounds': 100.0, 'eval_metric': ['auc', 'error']}. \n",
      "\u001b[1mTrial 86 pruned\u001b[0m\n",
      "\u001b[1mTrial 87 pruned\u001b[0m\n"
     ]
    }
   ],
   "source": [
    "# uncomment below if you want to see the trials log \n",
    "with open(f\"{workdir}xgb_optuna_study_log.txt\", \"r+\") as os_log:\n",
    "    print(os_log.read())"
   ]
  },
  {
   "cell_type": "code",
   "execution_count": 16,
   "id": "3dad1c0a",
   "metadata": {
    "execution": {
     "iopub.execute_input": "2022-06-06T20:33:10.835213Z",
     "iopub.status.busy": "2022-06-06T20:33:10.834462Z",
     "iopub.status.idle": "2022-06-06T20:33:10.885948Z",
     "shell.execute_reply": "2022-06-06T20:33:10.885132Z"
    },
    "papermill": {
     "duration": 0.131955,
     "end_time": "2022-06-06T20:33:10.887735",
     "exception": false,
     "start_time": "2022-06-06T20:33:10.755780",
     "status": "completed"
    },
    "tags": []
   },
   "outputs": [
    {
     "name": "stdout",
     "output_type": "stream",
     "text": [
      "Loading saved study ...\n",
      "\n"
     ]
    },
    {
     "data": {
      "text/plain": [
       "{'tree_method': 'gpu_hist',\n",
       " 'lambda': 1.2465121277962947,\n",
       " 'alpha': 0.15298716350083263,\n",
       " 'gamma': 0,\n",
       " 'colsample_bytree': 1.0,\n",
       " 'subsample': 0.9,\n",
       " 'learning_rate': 0.1,\n",
       " 'n_estimators': 1000,\n",
       " 'max_depth': 11,\n",
       " 'random_state': 48,\n",
       " 'min_child_weight': 2,\n",
       " 'early_stopping_rounds': 100.0,\n",
       " 'eval_metric': ['auc', 'error']}"
      ]
     },
     "metadata": {},
     "output_type": "display_data"
    }
   ],
   "source": [
    "# uncomment below if you want to load saved study to check, if desired\n",
    "print('Loading saved study ...')\n",
    "print()\n",
    "jl = joblib.load(f\"{workdir}xgb_optuna_study.pkl\")\n",
    "jl = jl.best_trial.params\n",
    "display(jl)"
   ]
  },
  {
   "cell_type": "code",
   "execution_count": 17,
   "id": "604c8a18",
   "metadata": {
    "execution": {
     "iopub.execute_input": "2022-06-06T20:33:11.044401Z",
     "iopub.status.busy": "2022-06-06T20:33:11.043741Z",
     "iopub.status.idle": "2022-06-06T20:33:11.095631Z",
     "shell.execute_reply": "2022-06-06T20:33:11.094862Z"
    },
    "papermill": {
     "duration": 0.133123,
     "end_time": "2022-06-06T20:33:11.097471",
     "exception": false,
     "start_time": "2022-06-06T20:33:10.964348",
     "status": "completed"
    },
    "tags": []
   },
   "outputs": [
    {
     "data": {
      "text/plain": [
       "{'tree_method': 'gpu_hist',\n",
       " 'lambda': 1.2465121277962947,\n",
       " 'alpha': 0.15298716350083263,\n",
       " 'gamma': 0,\n",
       " 'colsample_bytree': 1.0,\n",
       " 'subsample': 0.9,\n",
       " 'learning_rate': 0.1,\n",
       " 'n_estimators': 1000,\n",
       " 'max_depth': 11,\n",
       " 'random_state': 48,\n",
       " 'min_child_weight': 2,\n",
       " 'early_stopping_rounds': 100.0,\n",
       " 'eval_metric': ['auc', 'error']}"
      ]
     },
     "metadata": {},
     "output_type": "display_data"
    }
   ],
   "source": [
    "study_results = joblib.load(f\"{workdir}xgb_optuna_study.pkl\")\n",
    "best_trial = study_results.best_trial.params\n",
    "best_trial['tree_method'] = tree_method\n",
    "display(best_trial)"
   ]
  },
  {
   "cell_type": "code",
   "execution_count": 18,
   "id": "456f2d72",
   "metadata": {
    "execution": {
     "iopub.execute_input": "2022-06-06T20:33:11.258816Z",
     "iopub.status.busy": "2022-06-06T20:33:11.258000Z",
     "iopub.status.idle": "2022-06-06T20:33:11.264494Z",
     "shell.execute_reply": "2022-06-06T20:33:11.263817Z"
    },
    "papermill": {
     "duration": 0.089518,
     "end_time": "2022-06-06T20:33:11.266862",
     "exception": false,
     "start_time": "2022-06-06T20:33:11.177344",
     "status": "completed"
    },
    "tags": []
   },
   "outputs": [
    {
     "data": {
      "text/plain": [
       "{'tree_method': 'gpu_hist',\n",
       " 'lambda': 1.2465121277962947,\n",
       " 'alpha': 0.15298716350083263,\n",
       " 'gamma': 0,\n",
       " 'colsample_bytree': 1.0,\n",
       " 'subsample': 0.9,\n",
       " 'learning_rate': 0.1,\n",
       " 'n_estimators': 1000,\n",
       " 'max_depth': 11,\n",
       " 'random_state': 48,\n",
       " 'min_child_weight': 2,\n",
       " 'early_stopping_rounds': 100.0,\n",
       " 'eval_metric': ['auc', 'error']}"
      ]
     },
     "execution_count": 18,
     "metadata": {},
     "output_type": "execute_result"
    }
   ],
   "source": [
    "best_trial = study_results.best_trial.params\n",
    "best_trial['tree_method'] = tree_method\n",
    "best_trial"
   ]
  },
  {
   "cell_type": "code",
   "execution_count": 19,
   "id": "ba546091",
   "metadata": {
    "execution": {
     "iopub.execute_input": "2022-06-06T20:33:11.424410Z",
     "iopub.status.busy": "2022-06-06T20:33:11.423700Z",
     "iopub.status.idle": "2022-06-06T20:33:11.461406Z",
     "shell.execute_reply": "2022-06-06T20:33:11.460647Z"
    },
    "papermill": {
     "duration": 0.119223,
     "end_time": "2022-06-06T20:33:11.463593",
     "exception": false,
     "start_time": "2022-06-06T20:33:11.344370",
     "status": "completed"
    },
    "tags": []
   },
   "outputs": [
    {
     "data": {
      "text/html": [
       "<div>\n",
       "<style scoped>\n",
       "    .dataframe tbody tr th:only-of-type {\n",
       "        vertical-align: middle;\n",
       "    }\n",
       "\n",
       "    .dataframe tbody tr th {\n",
       "        vertical-align: top;\n",
       "    }\n",
       "\n",
       "    .dataframe thead th {\n",
       "        text-align: right;\n",
       "    }\n",
       "</style>\n",
       "<table border=\"1\" class=\"dataframe\">\n",
       "  <thead>\n",
       "    <tr style=\"text-align: right;\">\n",
       "      <th></th>\n",
       "      <th>number</th>\n",
       "      <th>value</th>\n",
       "      <th>datetime_start</th>\n",
       "      <th>datetime_complete</th>\n",
       "      <th>duration</th>\n",
       "      <th>params_alpha</th>\n",
       "      <th>params_colsample_bytree</th>\n",
       "      <th>params_early_stopping_rounds</th>\n",
       "      <th>params_eval_metric</th>\n",
       "      <th>params_gamma</th>\n",
       "      <th>params_lambda</th>\n",
       "      <th>params_learning_rate</th>\n",
       "      <th>params_max_depth</th>\n",
       "      <th>params_min_child_weight</th>\n",
       "      <th>params_n_estimators</th>\n",
       "      <th>params_random_state</th>\n",
       "      <th>params_subsample</th>\n",
       "      <th>params_tree_method</th>\n",
       "      <th>state</th>\n",
       "    </tr>\n",
       "  </thead>\n",
       "  <tbody>\n",
       "    <tr>\n",
       "      <th>6</th>\n",
       "      <td>6</td>\n",
       "      <td>0.946517</td>\n",
       "      <td>2022-06-06 19:18:09.199762</td>\n",
       "      <td>2022-06-06 19:18:28.632073</td>\n",
       "      <td>0 days 00:00:19.432311</td>\n",
       "      <td>0.001239</td>\n",
       "      <td>1.0</td>\n",
       "      <td>100.0</td>\n",
       "      <td>[auc, error]</td>\n",
       "      <td>0</td>\n",
       "      <td>0.001220</td>\n",
       "      <td>0.008</td>\n",
       "      <td>11</td>\n",
       "      <td>9</td>\n",
       "      <td>1000</td>\n",
       "      <td>48</td>\n",
       "      <td>1.0</td>\n",
       "      <td>gpu_hist</td>\n",
       "      <td>PRUNED</td>\n",
       "    </tr>\n",
       "    <tr>\n",
       "      <th>54</th>\n",
       "      <td>54</td>\n",
       "      <td>0.947005</td>\n",
       "      <td>2022-06-06 19:58:42.687820</td>\n",
       "      <td>2022-06-06 19:59:00.078419</td>\n",
       "      <td>0 days 00:00:17.390599</td>\n",
       "      <td>0.600941</td>\n",
       "      <td>1.0</td>\n",
       "      <td>100.0</td>\n",
       "      <td>[auc, error]</td>\n",
       "      <td>0</td>\n",
       "      <td>0.120609</td>\n",
       "      <td>0.010</td>\n",
       "      <td>11</td>\n",
       "      <td>4</td>\n",
       "      <td>1000</td>\n",
       "      <td>48</td>\n",
       "      <td>0.9</td>\n",
       "      <td>gpu_hist</td>\n",
       "      <td>PRUNED</td>\n",
       "    </tr>\n",
       "  </tbody>\n",
       "</table>\n",
       "</div>"
      ],
      "text/plain": [
       "    number     value             datetime_start          datetime_complete  \\\n",
       "6        6  0.946517 2022-06-06 19:18:09.199762 2022-06-06 19:18:28.632073   \n",
       "54      54  0.947005 2022-06-06 19:58:42.687820 2022-06-06 19:59:00.078419   \n",
       "\n",
       "                 duration  params_alpha  params_colsample_bytree  \\\n",
       "6  0 days 00:00:19.432311      0.001239                      1.0   \n",
       "54 0 days 00:00:17.390599      0.600941                      1.0   \n",
       "\n",
       "    params_early_stopping_rounds params_eval_metric  params_gamma  \\\n",
       "6                          100.0       [auc, error]             0   \n",
       "54                         100.0       [auc, error]             0   \n",
       "\n",
       "    params_lambda  params_learning_rate  params_max_depth  \\\n",
       "6        0.001220                 0.008                11   \n",
       "54       0.120609                 0.010                11   \n",
       "\n",
       "    params_min_child_weight  params_n_estimators  params_random_state  \\\n",
       "6                         9                 1000                   48   \n",
       "54                        4                 1000                   48   \n",
       "\n",
       "    params_subsample params_tree_method   state  \n",
       "6                1.0           gpu_hist  PRUNED  \n",
       "54               0.9           gpu_hist  PRUNED  "
      ]
     },
     "execution_count": 19,
     "metadata": {},
     "output_type": "execute_result"
    }
   ],
   "source": [
    "# Trial results dataframe sorted from best value (RMSE) ascending\n",
    "def ViewResultsAsDf():\n",
    "    stdf = study_results.trials_dataframe()\n",
    "    stdf = stdf.sort_values('value',ascending=True)\n",
    "\n",
    "    return stdf.head(2)    # return here is only used for printing output\n",
    "\n",
    "ViewResultsAsDf()"
   ]
  },
  {
   "cell_type": "code",
   "execution_count": 20,
   "id": "78071210",
   "metadata": {
    "execution": {
     "iopub.execute_input": "2022-06-06T20:33:11.632909Z",
     "iopub.status.busy": "2022-06-06T20:33:11.632165Z",
     "iopub.status.idle": "2022-06-06T20:33:15.114049Z",
     "shell.execute_reply": "2022-06-06T20:33:15.113269Z"
    },
    "papermill": {
     "duration": 3.565213,
     "end_time": "2022-06-06T20:33:15.116236",
     "exception": false,
     "start_time": "2022-06-06T20:33:11.551023",
     "status": "completed"
    },
    "tags": []
   },
   "outputs": [
    {
     "data": {
      "text/html": [
       "        <script type=\"text/javascript\">\n",
       "        window.PlotlyConfig = {MathJaxConfig: 'local'};\n",
       "        if (window.MathJax && window.MathJax.Hub && window.MathJax.Hub.Config) {window.MathJax.Hub.Config({SVG: {font: \"STIX-Web\"}});}\n",
       "        if (typeof require !== 'undefined') {\n",
       "        require.undef(\"plotly\");\n",
       "        requirejs.config({\n",
       "            paths: {\n",
       "                'plotly': ['https://cdn.plot.ly/plotly-2.12.1.min']\n",
       "            }\n",
       "        });\n",
       "        require(['plotly'], function(Plotly) {\n",
       "            window._Plotly = Plotly;\n",
       "        });\n",
       "        }\n",
       "        </script>\n",
       "        "
      ]
     },
     "metadata": {},
     "output_type": "display_data"
    },
    {
     "data": {
      "text/html": [
       "<div>                            <div id=\"d656f5b2-5a98-41ba-83f3-a3359b82e022\" class=\"plotly-graph-div\" style=\"height:525px; width:100%;\"></div>            <script type=\"text/javascript\">                require([\"plotly\"], function(Plotly) {                    window.PLOTLYENV=window.PLOTLYENV || {};                                    if (document.getElementById(\"d656f5b2-5a98-41ba-83f3-a3359b82e022\")) {                    Plotly.newPlot(                        \"d656f5b2-5a98-41ba-83f3-a3359b82e022\",                        [{\"cliponaxis\":false,\"hovertemplate\":[\"early_stopping_rounds (CategoricalDistribution): 0.0<extra></extra>\",\"eval_metric (CategoricalDistribution): 0.0<extra></extra>\",\"n_estimators (CategoricalDistribution): 0.0<extra></extra>\",\"random_state (CategoricalDistribution): 0.0<extra></extra>\",\"tree_method (CategoricalDistribution): 0.0<extra></extra>\",\"alpha (LogUniformDistribution): 0.003052123308078898<extra></extra>\",\"subsample (CategoricalDistribution): 0.003921669918538274<extra></extra>\",\"lambda (LogUniformDistribution): 0.016132094402490343<extra></extra>\",\"gamma (CategoricalDistribution): 0.016613574561049727<extra></extra>\",\"min_child_weight (IntUniformDistribution): 0.052440334386470396<extra></extra>\",\"colsample_bytree (CategoricalDistribution): 0.08287860562312646<extra></extra>\",\"max_depth (CategoricalDistribution): 0.2770328041703475<extra></extra>\",\"learning_rate (CategoricalDistribution): 0.5479287936298984<extra></extra>\"],\"marker\":{\"color\":\"rgb(66,146,198)\"},\"orientation\":\"h\",\"text\":[\"0.0\",\"0.0\",\"0.0\",\"0.0\",\"0.0\",\"0.003052123308078898\",\"0.003921669918538274\",\"0.016132094402490343\",\"0.016613574561049727\",\"0.052440334386470396\",\"0.08287860562312646\",\"0.2770328041703475\",\"0.5479287936298984\"],\"textposition\":\"outside\",\"texttemplate\":\"%{text:.2f}\",\"x\":[0.0,0.0,0.0,0.0,0.0,0.003052123308078898,0.003921669918538274,0.016132094402490343,0.016613574561049727,0.052440334386470396,0.08287860562312646,0.2770328041703475,0.5479287936298984],\"y\":[\"early_stopping_rounds\",\"eval_metric\",\"n_estimators\",\"random_state\",\"tree_method\",\"alpha\",\"subsample\",\"lambda\",\"gamma\",\"min_child_weight\",\"colsample_bytree\",\"max_depth\",\"learning_rate\"],\"type\":\"bar\"}],                        {\"showlegend\":false,\"title\":{\"text\":\"Hyperparameter Importances\"},\"xaxis\":{\"title\":{\"text\":\"Importance for Objective Value\"}},\"yaxis\":{\"title\":{\"text\":\"Hyperparameter\"}},\"template\":{\"data\":{\"histogram2dcontour\":[{\"type\":\"histogram2dcontour\",\"colorbar\":{\"outlinewidth\":0,\"ticks\":\"\"},\"colorscale\":[[0.0,\"#0d0887\"],[0.1111111111111111,\"#46039f\"],[0.2222222222222222,\"#7201a8\"],[0.3333333333333333,\"#9c179e\"],[0.4444444444444444,\"#bd3786\"],[0.5555555555555556,\"#d8576b\"],[0.6666666666666666,\"#ed7953\"],[0.7777777777777778,\"#fb9f3a\"],[0.8888888888888888,\"#fdca26\"],[1.0,\"#f0f921\"]]}],\"choropleth\":[{\"type\":\"choropleth\",\"colorbar\":{\"outlinewidth\":0,\"ticks\":\"\"}}],\"histogram2d\":[{\"type\":\"histogram2d\",\"colorbar\":{\"outlinewidth\":0,\"ticks\":\"\"},\"colorscale\":[[0.0,\"#0d0887\"],[0.1111111111111111,\"#46039f\"],[0.2222222222222222,\"#7201a8\"],[0.3333333333333333,\"#9c179e\"],[0.4444444444444444,\"#bd3786\"],[0.5555555555555556,\"#d8576b\"],[0.6666666666666666,\"#ed7953\"],[0.7777777777777778,\"#fb9f3a\"],[0.8888888888888888,\"#fdca26\"],[1.0,\"#f0f921\"]]}],\"heatmap\":[{\"type\":\"heatmap\",\"colorbar\":{\"outlinewidth\":0,\"ticks\":\"\"},\"colorscale\":[[0.0,\"#0d0887\"],[0.1111111111111111,\"#46039f\"],[0.2222222222222222,\"#7201a8\"],[0.3333333333333333,\"#9c179e\"],[0.4444444444444444,\"#bd3786\"],[0.5555555555555556,\"#d8576b\"],[0.6666666666666666,\"#ed7953\"],[0.7777777777777778,\"#fb9f3a\"],[0.8888888888888888,\"#fdca26\"],[1.0,\"#f0f921\"]]}],\"heatmapgl\":[{\"type\":\"heatmapgl\",\"colorbar\":{\"outlinewidth\":0,\"ticks\":\"\"},\"colorscale\":[[0.0,\"#0d0887\"],[0.1111111111111111,\"#46039f\"],[0.2222222222222222,\"#7201a8\"],[0.3333333333333333,\"#9c179e\"],[0.4444444444444444,\"#bd3786\"],[0.5555555555555556,\"#d8576b\"],[0.6666666666666666,\"#ed7953\"],[0.7777777777777778,\"#fb9f3a\"],[0.8888888888888888,\"#fdca26\"],[1.0,\"#f0f921\"]]}],\"contourcarpet\":[{\"type\":\"contourcarpet\",\"colorbar\":{\"outlinewidth\":0,\"ticks\":\"\"}}],\"contour\":[{\"type\":\"contour\",\"colorbar\":{\"outlinewidth\":0,\"ticks\":\"\"},\"colorscale\":[[0.0,\"#0d0887\"],[0.1111111111111111,\"#46039f\"],[0.2222222222222222,\"#7201a8\"],[0.3333333333333333,\"#9c179e\"],[0.4444444444444444,\"#bd3786\"],[0.5555555555555556,\"#d8576b\"],[0.6666666666666666,\"#ed7953\"],[0.7777777777777778,\"#fb9f3a\"],[0.8888888888888888,\"#fdca26\"],[1.0,\"#f0f921\"]]}],\"surface\":[{\"type\":\"surface\",\"colorbar\":{\"outlinewidth\":0,\"ticks\":\"\"},\"colorscale\":[[0.0,\"#0d0887\"],[0.1111111111111111,\"#46039f\"],[0.2222222222222222,\"#7201a8\"],[0.3333333333333333,\"#9c179e\"],[0.4444444444444444,\"#bd3786\"],[0.5555555555555556,\"#d8576b\"],[0.6666666666666666,\"#ed7953\"],[0.7777777777777778,\"#fb9f3a\"],[0.8888888888888888,\"#fdca26\"],[1.0,\"#f0f921\"]]}],\"mesh3d\":[{\"type\":\"mesh3d\",\"colorbar\":{\"outlinewidth\":0,\"ticks\":\"\"}}],\"scatter\":[{\"fillpattern\":{\"fillmode\":\"overlay\",\"size\":10,\"solidity\":0.2},\"type\":\"scatter\"}],\"parcoords\":[{\"type\":\"parcoords\",\"line\":{\"colorbar\":{\"outlinewidth\":0,\"ticks\":\"\"}}}],\"scatterpolargl\":[{\"type\":\"scatterpolargl\",\"marker\":{\"colorbar\":{\"outlinewidth\":0,\"ticks\":\"\"}}}],\"bar\":[{\"error_x\":{\"color\":\"#2a3f5f\"},\"error_y\":{\"color\":\"#2a3f5f\"},\"marker\":{\"line\":{\"color\":\"#E5ECF6\",\"width\":0.5},\"pattern\":{\"fillmode\":\"overlay\",\"size\":10,\"solidity\":0.2}},\"type\":\"bar\"}],\"scattergeo\":[{\"type\":\"scattergeo\",\"marker\":{\"colorbar\":{\"outlinewidth\":0,\"ticks\":\"\"}}}],\"scatterpolar\":[{\"type\":\"scatterpolar\",\"marker\":{\"colorbar\":{\"outlinewidth\":0,\"ticks\":\"\"}}}],\"histogram\":[{\"marker\":{\"pattern\":{\"fillmode\":\"overlay\",\"size\":10,\"solidity\":0.2}},\"type\":\"histogram\"}],\"scattergl\":[{\"type\":\"scattergl\",\"marker\":{\"colorbar\":{\"outlinewidth\":0,\"ticks\":\"\"}}}],\"scatter3d\":[{\"type\":\"scatter3d\",\"line\":{\"colorbar\":{\"outlinewidth\":0,\"ticks\":\"\"}},\"marker\":{\"colorbar\":{\"outlinewidth\":0,\"ticks\":\"\"}}}],\"scattermapbox\":[{\"type\":\"scattermapbox\",\"marker\":{\"colorbar\":{\"outlinewidth\":0,\"ticks\":\"\"}}}],\"scatterternary\":[{\"type\":\"scatterternary\",\"marker\":{\"colorbar\":{\"outlinewidth\":0,\"ticks\":\"\"}}}],\"scattercarpet\":[{\"type\":\"scattercarpet\",\"marker\":{\"colorbar\":{\"outlinewidth\":0,\"ticks\":\"\"}}}],\"carpet\":[{\"aaxis\":{\"endlinecolor\":\"#2a3f5f\",\"gridcolor\":\"white\",\"linecolor\":\"white\",\"minorgridcolor\":\"white\",\"startlinecolor\":\"#2a3f5f\"},\"baxis\":{\"endlinecolor\":\"#2a3f5f\",\"gridcolor\":\"white\",\"linecolor\":\"white\",\"minorgridcolor\":\"white\",\"startlinecolor\":\"#2a3f5f\"},\"type\":\"carpet\"}],\"table\":[{\"cells\":{\"fill\":{\"color\":\"#EBF0F8\"},\"line\":{\"color\":\"white\"}},\"header\":{\"fill\":{\"color\":\"#C8D4E3\"},\"line\":{\"color\":\"white\"}},\"type\":\"table\"}],\"barpolar\":[{\"marker\":{\"line\":{\"color\":\"#E5ECF6\",\"width\":0.5},\"pattern\":{\"fillmode\":\"overlay\",\"size\":10,\"solidity\":0.2}},\"type\":\"barpolar\"}],\"pie\":[{\"automargin\":true,\"type\":\"pie\"}]},\"layout\":{\"autotypenumbers\":\"strict\",\"colorway\":[\"#636efa\",\"#EF553B\",\"#00cc96\",\"#ab63fa\",\"#FFA15A\",\"#19d3f3\",\"#FF6692\",\"#B6E880\",\"#FF97FF\",\"#FECB52\"],\"font\":{\"color\":\"#2a3f5f\"},\"hovermode\":\"closest\",\"hoverlabel\":{\"align\":\"left\"},\"paper_bgcolor\":\"white\",\"plot_bgcolor\":\"#E5ECF6\",\"polar\":{\"bgcolor\":\"#E5ECF6\",\"angularaxis\":{\"gridcolor\":\"white\",\"linecolor\":\"white\",\"ticks\":\"\"},\"radialaxis\":{\"gridcolor\":\"white\",\"linecolor\":\"white\",\"ticks\":\"\"}},\"ternary\":{\"bgcolor\":\"#E5ECF6\",\"aaxis\":{\"gridcolor\":\"white\",\"linecolor\":\"white\",\"ticks\":\"\"},\"baxis\":{\"gridcolor\":\"white\",\"linecolor\":\"white\",\"ticks\":\"\"},\"caxis\":{\"gridcolor\":\"white\",\"linecolor\":\"white\",\"ticks\":\"\"}},\"coloraxis\":{\"colorbar\":{\"outlinewidth\":0,\"ticks\":\"\"}},\"colorscale\":{\"sequential\":[[0.0,\"#0d0887\"],[0.1111111111111111,\"#46039f\"],[0.2222222222222222,\"#7201a8\"],[0.3333333333333333,\"#9c179e\"],[0.4444444444444444,\"#bd3786\"],[0.5555555555555556,\"#d8576b\"],[0.6666666666666666,\"#ed7953\"],[0.7777777777777778,\"#fb9f3a\"],[0.8888888888888888,\"#fdca26\"],[1.0,\"#f0f921\"]],\"sequentialminus\":[[0.0,\"#0d0887\"],[0.1111111111111111,\"#46039f\"],[0.2222222222222222,\"#7201a8\"],[0.3333333333333333,\"#9c179e\"],[0.4444444444444444,\"#bd3786\"],[0.5555555555555556,\"#d8576b\"],[0.6666666666666666,\"#ed7953\"],[0.7777777777777778,\"#fb9f3a\"],[0.8888888888888888,\"#fdca26\"],[1.0,\"#f0f921\"]],\"diverging\":[[0,\"#8e0152\"],[0.1,\"#c51b7d\"],[0.2,\"#de77ae\"],[0.3,\"#f1b6da\"],[0.4,\"#fde0ef\"],[0.5,\"#f7f7f7\"],[0.6,\"#e6f5d0\"],[0.7,\"#b8e186\"],[0.8,\"#7fbc41\"],[0.9,\"#4d9221\"],[1,\"#276419\"]]},\"xaxis\":{\"gridcolor\":\"white\",\"linecolor\":\"white\",\"ticks\":\"\",\"title\":{\"standoff\":15},\"zerolinecolor\":\"white\",\"automargin\":true,\"zerolinewidth\":2},\"yaxis\":{\"gridcolor\":\"white\",\"linecolor\":\"white\",\"ticks\":\"\",\"title\":{\"standoff\":15},\"zerolinecolor\":\"white\",\"automargin\":true,\"zerolinewidth\":2},\"scene\":{\"xaxis\":{\"backgroundcolor\":\"#E5ECF6\",\"gridcolor\":\"white\",\"linecolor\":\"white\",\"showbackground\":true,\"ticks\":\"\",\"zerolinecolor\":\"white\",\"gridwidth\":2},\"yaxis\":{\"backgroundcolor\":\"#E5ECF6\",\"gridcolor\":\"white\",\"linecolor\":\"white\",\"showbackground\":true,\"ticks\":\"\",\"zerolinecolor\":\"white\",\"gridwidth\":2},\"zaxis\":{\"backgroundcolor\":\"#E5ECF6\",\"gridcolor\":\"white\",\"linecolor\":\"white\",\"showbackground\":true,\"ticks\":\"\",\"zerolinecolor\":\"white\",\"gridwidth\":2}},\"shapedefaults\":{\"line\":{\"color\":\"#2a3f5f\"}},\"annotationdefaults\":{\"arrowcolor\":\"#2a3f5f\",\"arrowhead\":0,\"arrowwidth\":1},\"geo\":{\"bgcolor\":\"white\",\"landcolor\":\"#E5ECF6\",\"subunitcolor\":\"white\",\"showland\":true,\"showlakes\":true,\"lakecolor\":\"white\"},\"title\":{\"x\":0.05},\"mapbox\":{\"style\":\"light\"}}}},                        {\"responsive\": true}                    ).then(function(){\n",
       "                            \n",
       "var gd = document.getElementById('d656f5b2-5a98-41ba-83f3-a3359b82e022');\n",
       "var x = new MutationObserver(function (mutations, observer) {{\n",
       "        var display = window.getComputedStyle(gd).display;\n",
       "        if (!display || display === 'none') {{\n",
       "            console.log([gd, 'removed!']);\n",
       "            Plotly.purge(gd);\n",
       "            observer.disconnect();\n",
       "        }}\n",
       "}});\n",
       "\n",
       "// Listen for the removal of the full notebook cells\n",
       "var notebookContainer = gd.closest('#notebook-container');\n",
       "if (notebookContainer) {{\n",
       "    x.observe(notebookContainer, {childList: true});\n",
       "}}\n",
       "\n",
       "// Listen for the clearing of the current output cell\n",
       "var outputEl = gd.closest('.output');\n",
       "if (outputEl) {{\n",
       "    x.observe(outputEl, {childList: true});\n",
       "}}\n",
       "\n",
       "                        })                };                });            </script>        </div>"
      ]
     },
     "metadata": {},
     "output_type": "display_data"
    }
   ],
   "source": [
    "#Visualize parameter importance\n",
    "optuna.visualization.plot_param_importances(study_results)"
   ]
  },
  {
   "cell_type": "code",
   "execution_count": 21,
   "id": "2991d4df",
   "metadata": {
    "execution": {
     "iopub.execute_input": "2022-06-06T20:33:15.288345Z",
     "iopub.status.busy": "2022-06-06T20:33:15.288074Z",
     "iopub.status.idle": "2022-06-06T20:33:15.293005Z",
     "shell.execute_reply": "2022-06-06T20:33:15.292232Z"
    },
    "papermill": {
     "duration": 0.095273,
     "end_time": "2022-06-06T20:33:15.295016",
     "exception": false,
     "start_time": "2022-06-06T20:33:15.199743",
     "status": "completed"
    },
    "tags": []
   },
   "outputs": [],
   "source": [
    "if alert_flag == 1:\n",
    "    if kaggle_flag == 0:   # not Kaggle\n",
    "        engine.say(\"Optuna run completed.\")\n",
    "        engine.runAndWait()\n",
    "    else:\n",
    "        display(Audio(url=audio_path, autoplay=True))"
   ]
  },
  {
   "cell_type": "markdown",
   "id": "e4227376",
   "metadata": {
    "execution": {
     "iopub.execute_input": "2022-05-17T07:15:49.429758Z",
     "iopub.status.busy": "2022-05-17T07:15:49.429388Z",
     "iopub.status.idle": "2022-05-17T07:15:49.458798Z",
     "shell.execute_reply": "2022-05-17T07:15:49.457385Z",
     "shell.execute_reply.started": "2022-05-17T07:15:49.429667Z"
    },
    "papermill": {
     "duration": 0.083581,
     "end_time": "2022-06-06T20:33:15.463037",
     "exception": false,
     "start_time": "2022-06-06T20:33:15.379456",
     "status": "completed"
    },
    "tags": []
   },
   "source": [
    "<i><a style=\"color:DarkSlateGrey\" href=\"#toc\">Back to Table Of Contents</a></i>"
   ]
  },
  {
   "cell_type": "markdown",
   "id": "fcff7ad6",
   "metadata": {
    "papermill": {
     "duration": 0.080484,
     "end_time": "2022-06-06T20:33:15.625535",
     "exception": false,
     "start_time": "2022-06-06T20:33:15.545051",
     "status": "completed"
    },
    "tags": []
   },
   "source": [
    "<a id=\"try_best_hp\"></a>\n",
    "<div style=\"font-family: Trebuchet MS;background-color:DarkCyan;color:Azure;text-align: left;padding-top: 5px;padding-bottom: 20px;padding-left: 20px;padding-right: 10px;border-radius: 15px 50px;letter-spacing: 2px;\">\n",
    "    <h2 style='color:GhostWhite;'>1.4 Model v4 : Try the Optuna Hyperparameters</h2>\n",
    "</div>"
   ]
  },
  {
   "cell_type": "code",
   "execution_count": 22,
   "id": "04c09f6e",
   "metadata": {
    "execution": {
     "iopub.execute_input": "2022-06-06T20:33:15.791011Z",
     "iopub.status.busy": "2022-06-06T20:33:15.790727Z",
     "iopub.status.idle": "2022-06-06T20:36:02.562275Z",
     "shell.execute_reply": "2022-06-06T20:36:02.559536Z"
    },
    "papermill": {
     "duration": 166.857997,
     "end_time": "2022-06-06T20:36:02.565386",
     "exception": false,
     "start_time": "2022-06-06T20:33:15.707389",
     "status": "completed"
    },
    "tags": []
   },
   "outputs": [
    {
     "name": "stdout",
     "output_type": "stream",
     "text": [
      "MIS_Status Count ->  1 : 714212, 0 : 154451\n",
      "\n",
      "X_train size :  608064\n",
      "X_valid size :  130299\n",
      "X_test size  :  130300\n",
      "\n",
      "\u001b[1m\u001b[92mPlease wait, resampling train data\u001b[0m\n",
      "\n",
      "Before Resampling train -> 1 : 499948, 0 : 108116\n",
      "After Resampling  train -> 1 : 499948, 0 : 499948\n",
      "\n",
      "\u001b[1m\u001b[94mResampling \u001b[0mRuntime : 0:00:01.171868\n",
      "\n",
      "\u001b[1mPlease wait, Fitting model can take time ...\u001b[0m\n",
      "Fitting model completed.\n",
      "\n",
      "Preparing Predictions\n",
      "\n",
      "\u001b[4mMetrics : After Optuna Tuning\u001b[0m\n",
      "\n",
      "\u001b[1my_valid RMSE    : \u001b[1m\u001b[92m\u001b[4m0.23832777625409196\u001b[0m\n",
      "\n",
      "\u001b[1my_valid f1 score: \u001b[1m\u001b[92m\u001b[4m96.52197205735152 %\u001b[0m\n",
      "\n",
      "--------------------------------------------------\n",
      "\n",
      "\u001b[1mClassification Report\u001b[0m\n"
     ]
    },
    {
     "data": {
      "text/html": [
       "<div>\n",
       "<style scoped>\n",
       "    .dataframe tbody tr th:only-of-type {\n",
       "        vertical-align: middle;\n",
       "    }\n",
       "\n",
       "    .dataframe tbody tr th {\n",
       "        vertical-align: top;\n",
       "    }\n",
       "\n",
       "    .dataframe thead th {\n",
       "        text-align: right;\n",
       "    }\n",
       "</style>\n",
       "<table border=\"1\" class=\"dataframe\">\n",
       "  <thead>\n",
       "    <tr style=\"text-align: right;\">\n",
       "      <th></th>\n",
       "      <th>precision</th>\n",
       "      <th>recall</th>\n",
       "      <th>f1-score</th>\n",
       "      <th>support</th>\n",
       "    </tr>\n",
       "  </thead>\n",
       "  <tbody>\n",
       "    <tr>\n",
       "      <th>0</th>\n",
       "      <td>0.819953</td>\n",
       "      <td>0.872016</td>\n",
       "      <td>0.845184</td>\n",
       "      <td>23167.0</td>\n",
       "    </tr>\n",
       "    <tr>\n",
       "      <th>1</th>\n",
       "      <td>0.971939</td>\n",
       "      <td>0.958593</td>\n",
       "      <td>0.965220</td>\n",
       "      <td>107132.0</td>\n",
       "    </tr>\n",
       "    <tr>\n",
       "      <th>macro avg</th>\n",
       "      <td>0.895946</td>\n",
       "      <td>0.915305</td>\n",
       "      <td>0.905202</td>\n",
       "      <td>130299.0</td>\n",
       "    </tr>\n",
       "    <tr>\n",
       "      <th>weighted avg</th>\n",
       "      <td>0.944916</td>\n",
       "      <td>0.943200</td>\n",
       "      <td>0.943877</td>\n",
       "      <td>130299.0</td>\n",
       "    </tr>\n",
       "  </tbody>\n",
       "</table>\n",
       "</div>"
      ],
      "text/plain": [
       "              precision    recall  f1-score   support\n",
       "0              0.819953  0.872016  0.845184   23167.0\n",
       "1              0.971939  0.958593  0.965220  107132.0\n",
       "macro avg      0.895946  0.915305  0.905202  130299.0\n",
       "weighted avg   0.944916  0.943200  0.943877  130299.0"
      ]
     },
     "metadata": {},
     "output_type": "display_data"
    },
    {
     "name": "stdout",
     "output_type": "stream",
     "text": [
      "\n",
      "\u001b[1mConfusion Matrix using Validation Data (y_valid)\u001b[0m\n",
      "\n",
      "True Negative  : CHGOFF (0) was predicted 20202 times correctly (82.0 %)\n",
      "False Negative : CHGOFF (0) was predicted 4436 times incorrectly (18.0 %)\n",
      "True Positive  : P I F (1) was predicted 102696 times correctly (97.19 %)\n",
      "False Positive : P I F (1) was predicted 2965 times incorrectly (2.81 %)\n"
     ]
    },
    {
     "data": {
      "text/html": [
       "<div>\n",
       "<style scoped>\n",
       "    .dataframe tbody tr th:only-of-type {\n",
       "        vertical-align: middle;\n",
       "    }\n",
       "\n",
       "    .dataframe tbody tr th {\n",
       "        vertical-align: top;\n",
       "    }\n",
       "\n",
       "    .dataframe thead th {\n",
       "        text-align: right;\n",
       "    }\n",
       "</style>\n",
       "<table border=\"1\" class=\"dataframe\">\n",
       "  <thead>\n",
       "    <tr style=\"text-align: right;\">\n",
       "      <th></th>\n",
       "      <th>Metrics Summary: y_valid in %</th>\n",
       "    </tr>\n",
       "  </thead>\n",
       "  <tbody>\n",
       "    <tr>\n",
       "      <th>rmse</th>\n",
       "      <td>0.238328</td>\n",
       "    </tr>\n",
       "    <tr>\n",
       "      <th>f1_score</th>\n",
       "      <td>96.521972</td>\n",
       "    </tr>\n",
       "    <tr>\n",
       "      <th>Precision</th>\n",
       "      <td>97.193856</td>\n",
       "    </tr>\n",
       "    <tr>\n",
       "      <th>Recall Sensitivity</th>\n",
       "      <td>95.859314</td>\n",
       "    </tr>\n",
       "    <tr>\n",
       "      <th>Recall Specificity</th>\n",
       "      <td>87.201623</td>\n",
       "    </tr>\n",
       "    <tr>\n",
       "      <th>G-Mean</th>\n",
       "      <td>91.428047</td>\n",
       "    </tr>\n",
       "  </tbody>\n",
       "</table>\n",
       "</div>"
      ],
      "text/plain": [
       "                    Metrics Summary: y_valid in %\n",
       "rmse                                     0.238328\n",
       "f1_score                                96.521972\n",
       "Precision                               97.193856\n",
       "Recall Sensitivity                      95.859314\n",
       "Recall Specificity                      87.201623\n",
       "G-Mean                                  91.428047"
      ]
     },
     "metadata": {},
     "output_type": "display_data"
    },
    {
     "name": "stdout",
     "output_type": "stream",
     "text": [
      "Total boosted rounds: 1000\n",
      "CPU times: user 2min 42s, sys: 817 ms, total: 2min 43s\n",
      "Wall time: 2min 46s\n"
     ]
    },
    {
     "data": {
      "image/png": "[encoded data removed]",
      "text/plain": [
       "<Figure size 450x450 with 1 Axes>"
      ]
     },
     "metadata": {
      "needs_background": "light"
     },
     "output_type": "display_data"
    }
   ],
   "source": [
    "%%time\n",
    "\n",
    "def RunModelv4():\n",
    "    X = pd.read_feather(final_ds)\n",
    "    #X = X.head(500)      # uncomment for testing\n",
    "    y = X.pop('MIS_Status')\n",
    "    \n",
    "    model4 = process_model(X, y)\n",
    "    model4.split_data(0.7)\n",
    "    model4.osample(os_data = [1,0,0])\n",
    "    \n",
    "    model4.X, model4.y = None, None\n",
    "    del X, y\n",
    "    gc.collect()\n",
    "    sleep(3)\n",
    "    \n",
    "    model4_results = model4.prep_run_model(\"Metrics : After Optuna Tuning\",\n",
    "                                           hyperparams = best_trial)\n",
    "    \n",
    "    text_boosted = \\\n",
    "        f\"Total boosted rounds: {model4_results['xg_model'].get_booster().num_boosted_rounds()}\"\n",
    "    print(text_boosted)\n",
    "    \n",
    "    # save to files for reuse later\n",
    "    model4_results['xg_model'].save_model(f'{workdir}modelv4.json')\n",
    "    joblib.dump(model4_results, f\"{workdir}model4_results.dict\")   \n",
    "\n",
    "#with warnings.catch_warnings():\n",
    "#    warnings.filterwarnings('ignore')\n",
    "#    warnings.simplefilter(\"ignore\")\n",
    "RunModelv4()"
   ]
  },
  {
   "cell_type": "markdown",
   "id": "16c8930f",
   "metadata": {
    "execution": {
     "iopub.execute_input": "2022-05-17T07:15:49.429758Z",
     "iopub.status.busy": "2022-05-17T07:15:49.429388Z",
     "iopub.status.idle": "2022-05-17T07:15:49.458798Z",
     "shell.execute_reply": "2022-05-17T07:15:49.457385Z",
     "shell.execute_reply.started": "2022-05-17T07:15:49.429667Z"
    },
    "papermill": {
     "duration": 0.085982,
     "end_time": "2022-06-06T20:36:02.763982",
     "exception": false,
     "start_time": "2022-06-06T20:36:02.678000",
     "status": "completed"
    },
    "tags": []
   },
   "source": [
    "<i><a style=\"color:DarkSlateGrey\" href=\"#toc\">Back to Table Of Contents</a></i>"
   ]
  },
  {
   "cell_type": "markdown",
   "id": "fe006b57",
   "metadata": {
    "papermill": {
     "duration": 0.089043,
     "end_time": "2022-06-06T20:36:02.939332",
     "exception": false,
     "start_time": "2022-06-06T20:36:02.850289",
     "status": "completed"
    },
    "tags": []
   },
   "source": [
    "<a id=\"optuna_comparison\"></a>\n",
    "<div style=\"font-family: Trebuchet MS;background-color:DarkCyan;color:Azure;text-align: left;padding-top: 5px;padding-bottom: 20px;padding-left: 20px;padding-right: 10px;border-radius: 15px 50px;letter-spacing: 2px;\">\n",
    "    <h2 style='color:GhostWhite;'>1.5 Optuna Tuning Comparison</h2>\n",
    "</div>"
   ]
  },
  {
   "cell_type": "markdown",
   "id": "72fa97c0",
   "metadata": {
    "papermill": {
     "duration": 0.087765,
     "end_time": "2022-06-06T20:36:03.113677",
     "exception": false,
     "start_time": "2022-06-06T20:36:03.025912",
     "status": "completed"
    },
    "tags": []
   },
   "source": [
    "<div class=\"alert alert-block alert-info\">\n",
    "    <b>Compare metrics before and after Optuna tuning.</b><br><br>\n",
    "    Comparison is made between modelv3 results in <a style=\"color:DarkSlateGrey\" href=\"https://www.kaggle.com/code/josephramon/sba-xgboost-model\">Part 1 Notebook</a> and modelv4 results here.\n",
    "  </div>"
   ]
  },
  {
   "cell_type": "code",
   "execution_count": 23,
   "id": "c65a5be8",
   "metadata": {
    "execution": {
     "iopub.execute_input": "2022-06-06T20:36:03.286104Z",
     "iopub.status.busy": "2022-06-06T20:36:03.285831Z",
     "iopub.status.idle": "2022-06-06T20:36:19.352558Z",
     "shell.execute_reply": "2022-06-06T20:36:19.351055Z"
    },
    "papermill": {
     "duration": 16.15664,
     "end_time": "2022-06-06T20:36:19.355861",
     "exception": false,
     "start_time": "2022-06-06T20:36:03.199221",
     "status": "completed"
    },
    "tags": []
   },
   "outputs": [
    {
     "name": "stdout",
     "output_type": "stream",
     "text": [
      "\u001b[1m\u001b[92mF1_Score Improvement Using Optuna Suggested Parameters:\u001b[0m\n",
      "\u001b[1mImproved by \u001b[1m\u001b[94m1.18\u001b[0m\n"
     ]
    },
    {
     "data": {
      "text/html": [
       "<div>\n",
       "<style scoped>\n",
       "    .dataframe tbody tr th:only-of-type {\n",
       "        vertical-align: middle;\n",
       "    }\n",
       "\n",
       "    .dataframe tbody tr th {\n",
       "        vertical-align: top;\n",
       "    }\n",
       "\n",
       "    .dataframe thead th {\n",
       "        text-align: right;\n",
       "    }\n",
       "</style>\n",
       "<table border=\"1\" class=\"dataframe\">\n",
       "  <thead>\n",
       "    <tr style=\"text-align: right;\">\n",
       "      <th></th>\n",
       "      <th>Model v3 : No Optuna</th>\n",
       "      <th>Model v4 : With Optuna</th>\n",
       "    </tr>\n",
       "  </thead>\n",
       "  <tbody>\n",
       "    <tr>\n",
       "      <th>0 : f1_score</th>\n",
       "      <td>81.534507</td>\n",
       "      <td>84.518356</td>\n",
       "    </tr>\n",
       "    <tr>\n",
       "      <th>1 : f1_score</th>\n",
       "      <td>95.338655</td>\n",
       "      <td>96.521972</td>\n",
       "    </tr>\n",
       "    <tr>\n",
       "      <th>Precision</th>\n",
       "      <td>0.982624</td>\n",
       "      <td>0.971939</td>\n",
       "    </tr>\n",
       "    <tr>\n",
       "      <th>Recall Sensitivity</th>\n",
       "      <td>0.925839</td>\n",
       "      <td>0.958593</td>\n",
       "    </tr>\n",
       "    <tr>\n",
       "      <th>Recall Specificity</th>\n",
       "      <td>0.924289</td>\n",
       "      <td>0.872016</td>\n",
       "    </tr>\n",
       "    <tr>\n",
       "      <th>f1_score</th>\n",
       "      <td>95.338655</td>\n",
       "      <td>96.521972</td>\n",
       "    </tr>\n",
       "  </tbody>\n",
       "</table>\n",
       "</div>"
      ],
      "text/plain": [
       "                    Model v3 : No Optuna  Model v4 : With Optuna\n",
       "0 : f1_score                   81.534507               84.518356\n",
       "1 : f1_score                   95.338655               96.521972\n",
       "Precision                       0.982624                0.971939\n",
       "Recall Sensitivity              0.925839                0.958593\n",
       "Recall Specificity              0.924289                0.872016\n",
       "f1_score                       95.338655               96.521972"
      ]
     },
     "execution_count": 23,
     "metadata": {},
     "output_type": "execute_result"
    }
   ],
   "source": [
    "def CompareResults():\n",
    "    model3_results = joblib.load(f\"{inputdir}model3_results.dict\")\n",
    "    model4_results = joblib.load(f\"{workdir}model4_results.dict\")\n",
    "    \n",
    "    preds         = model3_results['xg_model'].predict(model3_results['X_valid'])\n",
    "    m3_clf_report = classification_report(model3_results['y_valid'],\n",
    "                                                 preds.round(),output_dict=True)\n",
    "    m3_0_f1_score = m3_clf_report['0']['f1-score'] * 100\n",
    "    m3_1_f1_score = m3_clf_report['1']['f1-score'] * 100\n",
    "    m3_accuracy   = m3_clf_report['accuracy'] * 100\n",
    "    \n",
    "    #get more metrics\n",
    "    m3_precision = metrics.precision_score(model3_results['y_valid'], preds)\n",
    "    m3_recall_sensitivity = metrics.recall_score(model3_results['y_valid'], preds, pos_label=1)\n",
    "    m3_recall_specificity = metrics.recall_score(model3_results['y_valid'], preds, pos_label=0)\n",
    "    \n",
    "    m3_f1_score   = f1_score(model3_results['y_valid'], preds) * 100\n",
    "\n",
    "    preds         = model4_results['xg_model'].predict(model4_results['X_valid'])\n",
    "    m4_clf_report = classification_report(model4_results['y_valid'],\n",
    "                                                 preds.round(),output_dict=True)\n",
    "\n",
    "    m4_0_f1_score = m4_clf_report['0']['f1-score'] * 100\n",
    "    m4_1_f1_score = m4_clf_report['1']['f1-score'] * 100\n",
    "    m4_accuracy   = m4_clf_report['accuracy'] * 100\n",
    "    \n",
    "    #get more metrics\n",
    "    m4_precision = metrics.precision_score(model4_results['y_valid'], preds)\n",
    "    m4_recall_sensitivity = metrics.recall_score(model4_results['y_valid'], preds, pos_label=1)\n",
    "    m4_recall_specificity = metrics.recall_score(model4_results['y_valid'], preds, pos_label=0)\n",
    "    \n",
    "    m4_f1_score   = f1_score(model4_results['y_valid'], preds) * 100\n",
    "\n",
    "    data = {'Model v3 : No Optuna':[m3_0_f1_score, m3_1_f1_score,\n",
    "                                    #m3_accuracy,\n",
    "                                    m3_precision,\n",
    "                                    m3_recall_sensitivity, m3_recall_specificity,\n",
    "                                    m3_f1_score],\n",
    "            'Model v4 : With Optuna':[m4_0_f1_score, m4_1_f1_score,\n",
    "                                      #m4_accuracy,\n",
    "                                      m4_precision,\n",
    "                                      m4_recall_sensitivity, m4_recall_specificity,\n",
    "                                      m4_f1_score]}\n",
    " \n",
    "    # Creates pandas DataFrame.\n",
    "    df = pd.DataFrame(data, index =['0 : f1_score',\n",
    "                                    '1 : f1_score',\n",
    "                                    #'Accuracy',\n",
    "                                    'Precision',\n",
    "                                    'Recall Sensitivity',\n",
    "                                    'Recall Specificity',\n",
    "                                    'f1_score'])\n",
    "    print('{}F1_Score Improvement Using Optuna Suggested Parameters:{}'.format(\n",
    "           mf.color.bdgreen, mf.color.end))\n",
    "\n",
    "    print('{}Improved by {}{}{}'.format(\n",
    "        mf.color.bold, mf.color.bdblue, round(m4_f1_score - m3_f1_score,2), mf.color.end))\n",
    "    return df\n",
    "\n",
    "CompareResults()"
   ]
  },
  {
   "cell_type": "markdown",
   "id": "278d0f8d",
   "metadata": {
    "papermill": {
     "duration": 0.085969,
     "end_time": "2022-06-06T20:36:19.541788",
     "exception": false,
     "start_time": "2022-06-06T20:36:19.455819",
     "status": "completed"
    },
    "tags": []
   },
   "source": [
    "<div class=\"alert alert-block alert-warning\">\n",
    "We can get either a slightly higher or lower score if we run Optuna again.<br><br>\n",
    "Observe that <b>Recall Specificity</b> is now lower after Optuna.  This is due to the higher <b>max_depth</b> after Optuna, which was 6 before Optuna.<br><br>\n",
    "max_depth is the Maximum depth of a tree. Increasing this value will make the model more complex and more likely to overfit.  However, with the use of <b>Early Stopping</b>, overfitting is prevented.\n",
    "      </div>"
   ]
  },
  {
   "cell_type": "markdown",
   "id": "79f8577a",
   "metadata": {
    "papermill": {
     "duration": 0.088097,
     "end_time": "2022-06-06T20:36:19.719886",
     "exception": false,
     "start_time": "2022-06-06T20:36:19.631789",
     "status": "completed"
    },
    "tags": []
   },
   "source": [
    "<div class=\"alert alert-block alert-info\">\n",
    "    <b>Run Modelv4 On Unseen Test Dataset</b>\n",
    "  </div>"
   ]
  },
  {
   "cell_type": "code",
   "execution_count": 24,
   "id": "1cc1d465",
   "metadata": {
    "execution": {
     "iopub.execute_input": "2022-06-06T20:36:20.014905Z",
     "iopub.status.busy": "2022-06-06T20:36:20.014586Z",
     "iopub.status.idle": "2022-06-06T20:38:18.202014Z",
     "shell.execute_reply": "2022-06-06T20:38:18.200928Z"
    },
    "papermill": {
     "duration": 118.333768,
     "end_time": "2022-06-06T20:38:18.205169",
     "exception": false,
     "start_time": "2022-06-06T20:36:19.871401",
     "status": "completed"
    },
    "tags": []
   },
   "outputs": [
    {
     "name": "stdout",
     "output_type": "stream",
     "text": [
      "\n",
      "\u001b[1my_test RMSE    : \u001b[1m\u001b[92m\u001b[4m0.24260355528008176\u001b[0m\n",
      "\n",
      "\u001b[1my_test f1 score: \u001b[1m\u001b[92m\u001b[4m96.39236606029814 %\u001b[0m\n",
      "\n",
      "--------------------------------------------------\n",
      "\n",
      "\u001b[1mClassification Report\u001b[0m\n"
     ]
    },
    {
     "data": {
      "text/html": [
       "<div>\n",
       "<style scoped>\n",
       "    .dataframe tbody tr th:only-of-type {\n",
       "        vertical-align: middle;\n",
       "    }\n",
       "\n",
       "    .dataframe tbody tr th {\n",
       "        vertical-align: top;\n",
       "    }\n",
       "\n",
       "    .dataframe thead th {\n",
       "        text-align: right;\n",
       "    }\n",
       "</style>\n",
       "<table border=\"1\" class=\"dataframe\">\n",
       "  <thead>\n",
       "    <tr style=\"text-align: right;\">\n",
       "      <th></th>\n",
       "      <th>precision</th>\n",
       "      <th>recall</th>\n",
       "      <th>f1-score</th>\n",
       "      <th>support</th>\n",
       "    </tr>\n",
       "  </thead>\n",
       "  <tbody>\n",
       "    <tr>\n",
       "      <th>0</th>\n",
       "      <td>0.811788</td>\n",
       "      <td>0.870900</td>\n",
       "      <td>0.840306</td>\n",
       "      <td>23168.0</td>\n",
       "    </tr>\n",
       "    <tr>\n",
       "      <th>1</th>\n",
       "      <td>0.971635</td>\n",
       "      <td>0.956334</td>\n",
       "      <td>0.963924</td>\n",
       "      <td>107132.0</td>\n",
       "    </tr>\n",
       "    <tr>\n",
       "      <th>macro avg</th>\n",
       "      <td>0.891711</td>\n",
       "      <td>0.913617</td>\n",
       "      <td>0.902115</td>\n",
       "      <td>130300.0</td>\n",
       "    </tr>\n",
       "    <tr>\n",
       "      <th>weighted avg</th>\n",
       "      <td>0.943213</td>\n",
       "      <td>0.941144</td>\n",
       "      <td>0.941944</td>\n",
       "      <td>130300.0</td>\n",
       "    </tr>\n",
       "  </tbody>\n",
       "</table>\n",
       "</div>"
      ],
      "text/plain": [
       "              precision    recall  f1-score   support\n",
       "0              0.811788  0.870900  0.840306   23168.0\n",
       "1              0.971635  0.956334  0.963924  107132.0\n",
       "macro avg      0.891711  0.913617  0.902115  130300.0\n",
       "weighted avg   0.943213  0.941144  0.941944  130300.0"
      ]
     },
     "metadata": {},
     "output_type": "display_data"
    },
    {
     "name": "stdout",
     "output_type": "stream",
     "text": [
      "\n",
      "\u001b[1mConfusion Matrix using Unseen Test Data (y_test)\u001b[0m\n",
      "\n",
      "True Negative  : CHGOFF (0) was predicted 20177 times correctly (81.18 %)\n",
      "False Negative : CHGOFF (0) was predicted 4678 times incorrectly (18.82 %)\n",
      "True Positive  : P I F (1) was predicted 102454 times correctly (97.16 %)\n",
      "False Positive : P I F (1) was predicted 2991 times incorrectly (2.84 %)\n"
     ]
    },
    {
     "data": {
      "text/html": [
       "<div>\n",
       "<style scoped>\n",
       "    .dataframe tbody tr th:only-of-type {\n",
       "        vertical-align: middle;\n",
       "    }\n",
       "\n",
       "    .dataframe tbody tr th {\n",
       "        vertical-align: top;\n",
       "    }\n",
       "\n",
       "    .dataframe thead th {\n",
       "        text-align: right;\n",
       "    }\n",
       "</style>\n",
       "<table border=\"1\" class=\"dataframe\">\n",
       "  <thead>\n",
       "    <tr style=\"text-align: right;\">\n",
       "      <th></th>\n",
       "      <th>Metrics Summary: y_test in %</th>\n",
       "    </tr>\n",
       "  </thead>\n",
       "  <tbody>\n",
       "    <tr>\n",
       "      <th>rmse</th>\n",
       "      <td>0.242604</td>\n",
       "    </tr>\n",
       "    <tr>\n",
       "      <th>f1_score</th>\n",
       "      <td>96.392366</td>\n",
       "    </tr>\n",
       "    <tr>\n",
       "      <th>Precision</th>\n",
       "      <td>97.163450</td>\n",
       "    </tr>\n",
       "    <tr>\n",
       "      <th>Recall Sensitivity</th>\n",
       "      <td>95.633424</td>\n",
       "    </tr>\n",
       "    <tr>\n",
       "      <th>Recall Specificity</th>\n",
       "      <td>87.089952</td>\n",
       "    </tr>\n",
       "    <tr>\n",
       "      <th>G-Mean</th>\n",
       "      <td>91.261768</td>\n",
       "    </tr>\n",
       "  </tbody>\n",
       "</table>\n",
       "</div>"
      ],
      "text/plain": [
       "                    Metrics Summary: y_test in %\n",
       "rmse                                    0.242604\n",
       "f1_score                               96.392366\n",
       "Precision                              97.163450\n",
       "Recall Sensitivity                     95.633424\n",
       "Recall Specificity                     87.089952\n",
       "G-Mean                                 91.261768"
      ]
     },
     "metadata": {},
     "output_type": "display_data"
    },
    {
     "data": {
      "image/png": "[encoded data removed]",
      "text/plain": [
       "<Figure size 450x450 with 1 Axes>"
      ]
     },
     "metadata": {
      "needs_background": "light"
     },
     "output_type": "display_data"
    }
   ],
   "source": [
    "def Modelv4WithTestData():\n",
    "    model4_results = joblib.load(f\"{workdir}model4_results.dict\")\n",
    "    X_test = model4_results['X_test']\n",
    "    y_test = model4_results['y_test']\n",
    "    modelv4 = model4_results['xg_model']\n",
    "    \n",
    "    # Get predictions\n",
    "    predictions = modelv4.predict(X_test)\n",
    "    #mf.model_eval(y_test, predictions);\n",
    "    mf.model_eval2( modelv4,\n",
    "                    model4_results['X_train'], model4_results['y_train'],\n",
    "                    X_test, y_test,\n",
    "                    cmDisplay=True,\n",
    "                    prtstr = 'y_test')\n",
    "  \n",
    "Modelv4WithTestData()"
   ]
  },
  {
   "cell_type": "code",
   "execution_count": 25,
   "id": "0c30d2a3",
   "metadata": {
    "execution": {
     "iopub.execute_input": "2022-06-06T20:38:18.418434Z",
     "iopub.status.busy": "2022-06-06T20:38:18.418178Z",
     "iopub.status.idle": "2022-06-06T20:38:18.643425Z",
     "shell.execute_reply": "2022-06-06T20:38:18.642560Z"
    },
    "papermill": {
     "duration": 0.317016,
     "end_time": "2022-06-06T20:38:18.645318",
     "exception": false,
     "start_time": "2022-06-06T20:38:18.328302",
     "status": "completed"
    },
    "tags": []
   },
   "outputs": [
    {
     "data": {
      "text/plain": [
       "4631"
      ]
     },
     "execution_count": 25,
     "metadata": {},
     "output_type": "execute_result"
    }
   ],
   "source": [
    "del best_trial, study_results\n",
    "gc.collect()"
   ]
  },
  {
   "cell_type": "markdown",
   "id": "e9a049ae",
   "metadata": {
    "papermill": {
     "duration": 0.096533,
     "end_time": "2022-06-06T20:38:18.834012",
     "exception": false,
     "start_time": "2022-06-06T20:38:18.737479",
     "status": "completed"
    },
    "tags": []
   },
   "source": [
    "<div class=\"alert alert-block alert-info\">\n",
    "    <b>Observation:</b><br><br>\n",
    "    <b>The Accuracy and F1 scores after Optuna tuning are improved compared to before tuning;</b> but it all depends on what hyperparameters/values are given.  A few trial sessions may be needed.<br><br>\n",
    "    We have a different score in our <a style=\"color:DarkSlateGrey\" href=\"https://www.kaggle.com/code/josephramon/sba-xgboost-model\">Pipeline</a> as we used an Optuna hyperparameter set that was obtained from another Optuna run.\n",
    "  </div>"
   ]
  },
  {
   "cell_type": "markdown",
   "id": "ac303f52",
   "metadata": {
    "papermill": {
     "duration": 0.093914,
     "end_time": "2022-06-06T20:38:19.024122",
     "exception": false,
     "start_time": "2022-06-06T20:38:18.930208",
     "status": "completed"
    },
    "tags": []
   },
   "source": [
    "<a id=\"cross_validation\"></a>\n",
    "<div style=\"font-family: Trebuchet MS;background-color:DarkCyan;color:Azure;text-align: left;padding-top: 5px;padding-bottom: 20px;padding-left: 20px;padding-right: 10px;border-radius: 15px 50px;letter-spacing: 2px;\">\n",
    "    <h2 style='color:GhostWhite;'>Cross Validation</h2><br>\n",
    "Measure our model's quality, in RMSE.  Ideally for small datasets, but included here for reference.\n",
    "</div>"
   ]
  },
  {
   "cell_type": "code",
   "execution_count": 26,
   "id": "cc3337ed",
   "metadata": {
    "execution": {
     "iopub.execute_input": "2022-06-06T20:38:19.211225Z",
     "iopub.status.busy": "2022-06-06T20:38:19.210948Z",
     "iopub.status.idle": "2022-06-06T20:43:21.184944Z",
     "shell.execute_reply": "2022-06-06T20:43:21.184121Z"
    },
    "papermill": {
     "duration": 302.069204,
     "end_time": "2022-06-06T20:43:21.187682",
     "exception": false,
     "start_time": "2022-06-06T20:38:19.118478",
     "status": "completed"
    },
    "tags": []
   },
   "outputs": [
    {
     "name": "stdout",
     "output_type": "stream",
     "text": [
      "\u001b[1mPlease wait, this will take some time\u001b[0m\n",
      "\n",
      "MIS_Status Count ->  1 : 714212, 0 : 154451\n",
      "\n",
      "X_train size :  608064\n",
      "X_valid size :  130299\n",
      "X_test size  :  130300\n",
      "\n",
      "\u001b[1m\u001b[92mPlease wait, resampling train data\u001b[0m\n",
      "\n",
      "Before Resampling train -> 1 : 499948, 0 : 108116\n",
      "After Resampling  train -> 1 : 499948, 0 : 499948\n",
      "\n",
      "\u001b[1m\u001b[94mResampling \u001b[0mRuntime : 0:00:01.432231\n",
      "\n"
     ]
    },
    {
     "data": {
      "text/plain": [
       "{'tree_method': 'gpu_hist',\n",
       " 'lambda': 1.2465121277962947,\n",
       " 'alpha': 0.15298716350083263,\n",
       " 'gamma': 0,\n",
       " 'colsample_bytree': 1.0,\n",
       " 'subsample': 0.9,\n",
       " 'learning_rate': 0.1,\n",
       " 'n_estimators': 1000,\n",
       " 'max_depth': 11,\n",
       " 'random_state': 48,\n",
       " 'min_child_weight': 2,\n",
       " 'early_stopping_rounds': 100.0,\n",
       " 'eval_metric': ['auc', 'error']}"
      ]
     },
     "metadata": {},
     "output_type": "display_data"
    },
    {
     "name": "stdout",
     "output_type": "stream",
     "text": [
      "\n",
      "\n",
      "[CV] START .....................................................................\n"
     ]
    },
    {
     "name": "stderr",
     "output_type": "stream",
     "text": [
      "[Parallel(n_jobs=1)]: Using backend SequentialBackend with 1 concurrent workers.\n"
     ]
    },
    {
     "name": "stdout",
     "output_type": "stream",
     "text": [
      "[CV] END ................................ score: (test=0.973) total time=  56.8s\n",
      "[CV] START .....................................................................\n"
     ]
    },
    {
     "name": "stderr",
     "output_type": "stream",
     "text": [
      "[Parallel(n_jobs=1)]: Done   1 out of   1 | elapsed:   56.9s remaining:    0.0s\n"
     ]
    },
    {
     "name": "stdout",
     "output_type": "stream",
     "text": [
      "[CV] END ................................ score: (test=0.974) total time=  57.6s\n",
      "[CV] START .....................................................................\n"
     ]
    },
    {
     "name": "stderr",
     "output_type": "stream",
     "text": [
      "[Parallel(n_jobs=1)]: Done   2 out of   2 | elapsed:  1.9min remaining:    0.0s\n"
     ]
    },
    {
     "name": "stdout",
     "output_type": "stream",
     "text": [
      "[CV] END ................................ score: (test=0.974) total time=  58.6s\n",
      "[CV] START .....................................................................\n"
     ]
    },
    {
     "name": "stderr",
     "output_type": "stream",
     "text": [
      "[Parallel(n_jobs=1)]: Done   3 out of   3 | elapsed:  2.9min remaining:    0.0s\n"
     ]
    },
    {
     "name": "stdout",
     "output_type": "stream",
     "text": [
      "[CV] END ................................ score: (test=0.974) total time=  59.5s\n",
      "[CV] START .....................................................................\n"
     ]
    },
    {
     "name": "stderr",
     "output_type": "stream",
     "text": [
      "[Parallel(n_jobs=1)]: Done   4 out of   4 | elapsed:  3.9min remaining:    0.0s\n"
     ]
    },
    {
     "name": "stdout",
     "output_type": "stream",
     "text": [
      "[CV] END ................................ score: (test=0.975) total time=  58.8s\n"
     ]
    },
    {
     "name": "stderr",
     "output_type": "stream",
     "text": [
      "[Parallel(n_jobs=1)]: Done   5 out of   5 | elapsed:  4.9min remaining:    0.0s\n",
      "[Parallel(n_jobs=1)]: Done   5 out of   5 | elapsed:  4.9min finished\n"
     ]
    },
    {
     "name": "stdout",
     "output_type": "stream",
     "text": [
      "\n",
      "\u001b[1m\u001b[94mScores: [-0.97250148 -0.97402332 -0.97443317 -0.97397363 -0.97493409]\u001b[0m\n",
      "\n",
      "\u001b[1m\u001b[92mF1_Score: -0.9739731371564144\u001b[0m\n",
      "\n",
      "CPU times: user 4min 50s, sys: 1.42 s, total: 4min 52s\n",
      "Wall time: 5min 1s\n"
     ]
    }
   ],
   "source": [
    "%%time\n",
    "\n",
    "from sklearn.metrics import mean_squared_error\n",
    "from sklearn.model_selection import cross_val_score\n",
    "\n",
    "def CrossVal():\n",
    "    print(f'{mf.color.bold}Please wait, this will take some time{mf.color.end}')\n",
    "    print()\n",
    "    X = pd.read_feather(final_ds)\n",
    "    #X = X.head(500)      # uncomment for testing\n",
    "    y = X.pop('MIS_Status')\n",
    "\n",
    "    cvo = process_model(X, y)   # create object from XGBoost class              \n",
    "    cvo.split_data(0.7)\n",
    "    cvo.osample(os_data = [1,0,0])\n",
    "\n",
    "    cvo.X, cvo.y = None, None\n",
    "    del X, y\n",
    "    gc.collect()\n",
    "    sleep(3)\n",
    "    \n",
    "    print()\n",
    "    \n",
    "    # get hyperparams from previous Optuna study's best trial\n",
    "    study_results = joblib.load(f\"{workdir}xgb_optuna_study.pkl\")\n",
    "    hyperparams = study_results.best_trial.params\n",
    "    display(hyperparams)\n",
    "    print()\n",
    "\n",
    "    xgb_model = XGBClassifier(**hyperparams, use_label_encoder = False)\n",
    "\n",
    "    # If we pass a pipeline instead of a model to cross_val_score, fit_params won't be \n",
    "    # recognized\n",
    "    fit_params={'verbose': False,\n",
    "                'eval_set': [(cvo.X_valid, cvo.y_valid)]\n",
    "               }\n",
    "\n",
    "    # Multiply by -1 since sklearn calculates *negative* RMSE\n",
    "    print()\n",
    "    scores = -1 * cross_val_score(xgb_model, cvo.X_train, cvo.y_train,\n",
    "                                  cv=5,\n",
    "                                  #scoring='neg_root_mean_squared_error',\n",
    "                                  scoring = 'f1',\n",
    "                                  fit_params = fit_params,\n",
    "                                  verbose=15)\n",
    "    sleep(5)   # allow verbosity to complete\n",
    "    print()\n",
    "    print(f\"{mf.color.bdblue}Scores: {scores}{mf.color.end}\")\n",
    "    print()\n",
    "    #print(f\"{mf.color.bdgreen}Root Mean Squared Error (Mean): {scores.mean()}{mf.color.end}\")\n",
    "    print(f\"{mf.color.bdgreen}F1_Score: {scores.mean()}{mf.color.end}\")\n",
    "    print()\n",
    "    \n",
    "CrossVal()"
   ]
  },
  {
   "cell_type": "code",
   "execution_count": 27,
   "id": "856cd58e",
   "metadata": {
    "execution": {
     "iopub.execute_input": "2022-06-06T20:43:21.390369Z",
     "iopub.status.busy": "2022-06-06T20:43:21.390108Z",
     "iopub.status.idle": "2022-06-06T20:43:21.397243Z",
     "shell.execute_reply": "2022-06-06T20:43:21.396485Z"
    },
    "papermill": {
     "duration": 0.109738,
     "end_time": "2022-06-06T20:43:21.399087",
     "exception": false,
     "start_time": "2022-06-06T20:43:21.289349",
     "status": "completed"
    },
    "tags": []
   },
   "outputs": [
    {
     "data": {
      "text/plain": [
       "['accuracy',\n",
       " 'adjusted_mutual_info_score',\n",
       " 'adjusted_rand_score',\n",
       " 'average_precision',\n",
       " 'balanced_accuracy',\n",
       " 'completeness_score',\n",
       " 'explained_variance',\n",
       " 'f1',\n",
       " 'f1_macro',\n",
       " 'f1_micro',\n",
       " 'f1_samples',\n",
       " 'f1_weighted',\n",
       " 'fowlkes_mallows_score',\n",
       " 'homogeneity_score',\n",
       " 'jaccard',\n",
       " 'jaccard_macro',\n",
       " 'jaccard_micro',\n",
       " 'jaccard_samples',\n",
       " 'jaccard_weighted',\n",
       " 'max_error',\n",
       " 'mutual_info_score',\n",
       " 'neg_brier_score',\n",
       " 'neg_log_loss',\n",
       " 'neg_mean_absolute_error',\n",
       " 'neg_mean_absolute_percentage_error',\n",
       " 'neg_mean_gamma_deviance',\n",
       " 'neg_mean_poisson_deviance',\n",
       " 'neg_mean_squared_error',\n",
       " 'neg_mean_squared_log_error',\n",
       " 'neg_median_absolute_error',\n",
       " 'neg_root_mean_squared_error',\n",
       " 'normalized_mutual_info_score',\n",
       " 'precision',\n",
       " 'precision_macro',\n",
       " 'precision_micro',\n",
       " 'precision_samples',\n",
       " 'precision_weighted',\n",
       " 'r2',\n",
       " 'rand_score',\n",
       " 'recall',\n",
       " 'recall_macro',\n",
       " 'recall_micro',\n",
       " 'recall_samples',\n",
       " 'recall_weighted',\n",
       " 'roc_auc',\n",
       " 'roc_auc_ovo',\n",
       " 'roc_auc_ovo_weighted',\n",
       " 'roc_auc_ovr',\n",
       " 'roc_auc_ovr_weighted',\n",
       " 'top_k_accuracy',\n",
       " 'v_measure_score']"
      ]
     },
     "execution_count": 27,
     "metadata": {},
     "output_type": "execute_result"
    }
   ],
   "source": [
    "sorted(metrics.SCORERS.keys())"
   ]
  },
  {
   "cell_type": "markdown",
   "id": "062896a4",
   "metadata": {
    "execution": {
     "iopub.execute_input": "2022-05-17T07:15:49.429758Z",
     "iopub.status.busy": "2022-05-17T07:15:49.429388Z",
     "iopub.status.idle": "2022-05-17T07:15:49.458798Z",
     "shell.execute_reply": "2022-05-17T07:15:49.457385Z",
     "shell.execute_reply.started": "2022-05-17T07:15:49.429667Z"
    },
    "papermill": {
     "duration": 0.102363,
     "end_time": "2022-06-06T20:43:21.607579",
     "exception": false,
     "start_time": "2022-06-06T20:43:21.505216",
     "status": "completed"
    },
    "tags": []
   },
   "source": [
    "<i><a style=\"color:DarkSlateGrey\" href=\"#toc\">Back to Table Of Contents</a></i>"
   ]
  },
  {
   "cell_type": "code",
   "execution_count": 28,
   "id": "e62fdb38",
   "metadata": {
    "execution": {
     "iopub.execute_input": "2022-06-06T20:43:21.803346Z",
     "iopub.status.busy": "2022-06-06T20:43:21.802626Z",
     "iopub.status.idle": "2022-06-06T20:43:21.807296Z",
     "shell.execute_reply": "2022-06-06T20:43:21.806602Z"
    },
    "papermill": {
     "duration": 0.105168,
     "end_time": "2022-06-06T20:43:21.809135",
     "exception": false,
     "start_time": "2022-06-06T20:43:21.703967",
     "status": "completed"
    },
    "tags": []
   },
   "outputs": [],
   "source": [
    "if alert_flag == 1:\n",
    "    if kaggle_flag == 0:   # not Kaggle\n",
    "        engine.say(\"Cross-Validation completed.\")\n",
    "        engine.runAndWait()\n",
    "    else:\n",
    "        display(Audio(url=audio_path, autoplay=True))"
   ]
  },
  {
   "cell_type": "markdown",
   "id": "57b8cde4",
   "metadata": {
    "papermill": {
     "duration": 0.09718,
     "end_time": "2022-06-06T20:43:22.003969",
     "exception": false,
     "start_time": "2022-06-06T20:43:21.906789",
     "status": "completed"
    },
    "tags": []
   },
   "source": [
    "<a id=\"part2\"></a>\n",
    "<div style=\"font-family: Trebuchet MS;background-color:DarkRed;color:AliceBlue;text-align: left;padding-top: 5px;padding-bottom: 15px;padding-left: 20px;padding-right: 10px;border-radius: 15px 50px;letter-spacing: 2px;\">\n",
    "<h1 id=\"part2\" style='color:GhostWhite;'>Part 2. Miscellaneous</h1>\n",
    "</div>"
   ]
  },
  {
   "cell_type": "markdown",
   "id": "8325e4ac",
   "metadata": {
    "papermill": {
     "duration": 0.097738,
     "end_time": "2022-06-06T20:43:22.197425",
     "exception": false,
     "start_time": "2022-06-06T20:43:22.099687",
     "status": "completed"
    },
    "tags": []
   },
   "source": [
    "<a id=\"early_stopping_rounds\"></a>\n",
    "<div style=\"font-family: Trebuchet MS;background-color:DarkCyan;color:Azure;text-align: left;padding-top: 5px;padding-bottom: 15px;padding-left: 20px;padding-right: 10px;border-radius: 15px 50px;letter-spacing: 2px;\">\n",
    "    <h2 style='color:GhostWhite;'>2.1 Early Stopping Rounds</h2>\n",
    "</div>"
   ]
  },
  {
   "cell_type": "markdown",
   "id": "6ae0b609",
   "metadata": {
    "papermill": {
     "duration": 0.098511,
     "end_time": "2022-06-06T20:43:22.394805",
     "exception": false,
     "start_time": "2022-06-06T20:43:22.296294",
     "status": "completed"
    },
    "tags": []
   },
   "source": [
    "<div class=\"alert alert-block alert-info\">\n",
    "    Below is a reference on using plots to get an insight on the value to use for XGBoost's early_ stopping_rounds during fitting.</div>"
   ]
  },
  {
   "cell_type": "code",
   "execution_count": 29,
   "id": "bbb429e8",
   "metadata": {
    "execution": {
     "iopub.execute_input": "2022-06-06T20:43:22.592354Z",
     "iopub.status.busy": "2022-06-06T20:43:22.592073Z",
     "iopub.status.idle": "2022-06-06T20:46:02.647072Z",
     "shell.execute_reply": "2022-06-06T20:46:02.646286Z"
    },
    "papermill": {
     "duration": 160.157687,
     "end_time": "2022-06-06T20:46:02.649116",
     "exception": false,
     "start_time": "2022-06-06T20:43:22.491429",
     "status": "completed"
    },
    "tags": []
   },
   "outputs": [
    {
     "name": "stdout",
     "output_type": "stream",
     "text": [
      "MIS_Status Count ->  1 : 714212, 0 : 154451\n",
      "\n",
      "X_train size :  608064\n",
      "X_valid size :  130299\n",
      "X_test size  :  130300\n",
      "\n",
      "\u001b[1m\u001b[92mPlease wait, resampling train data\u001b[0m\n",
      "\n",
      "Before Resampling train -> 1 : 499948, 0 : 108116\n",
      "After Resampling  train -> 1 : 499948, 0 : 499948\n",
      "\n",
      "\u001b[1m\u001b[94mResampling \u001b[0mRuntime : 0:00:01.115854\n",
      "\n",
      "\u001b[1mPlease wait, Fitting model can take time ...\u001b[0m\n",
      "\n",
      "\u001b[1mHyperparameters:\u001b[0m\n"
     ]
    },
    {
     "data": {
      "text/plain": [
       "{'tree_method': 'gpu_hist',\n",
       " 'lambda': 1.2465121277962947,\n",
       " 'alpha': 0.15298716350083263,\n",
       " 'gamma': 0,\n",
       " 'colsample_bytree': 1.0,\n",
       " 'subsample': 0.9,\n",
       " 'learning_rate': 0.1,\n",
       " 'n_estimators': 1000,\n",
       " 'max_depth': 11,\n",
       " 'random_state': 48,\n",
       " 'min_child_weight': 2,\n",
       " 'eval_metric': ['error', 'logloss']}"
      ]
     },
     "metadata": {},
     "output_type": "display_data"
    },
    {
     "name": "stdout",
     "output_type": "stream",
     "text": [
      "\n",
      "Fitting model completed.\n",
      "\n",
      "Preparing Predictions\n",
      "\n",
      "\u001b[4mMetrics:\u001b[0m\n",
      "\n",
      "\u001b[1my_valid RMSE    : \u001b[1m\u001b[92m\u001b[4m0.23834387676255514\u001b[0m\n",
      "\n",
      "\u001b[1my_valid f1 score: \u001b[1m\u001b[92m\u001b[4m96.52142038084854 %\u001b[0m\n",
      "\n",
      "--------------------------------------------------\n",
      "\n",
      "\u001b[1mClassification Report\u001b[0m\n"
     ]
    },
    {
     "data": {
      "text/html": [
       "<div>\n",
       "<style scoped>\n",
       "    .dataframe tbody tr th:only-of-type {\n",
       "        vertical-align: middle;\n",
       "    }\n",
       "\n",
       "    .dataframe tbody tr th {\n",
       "        vertical-align: top;\n",
       "    }\n",
       "\n",
       "    .dataframe thead th {\n",
       "        text-align: right;\n",
       "    }\n",
       "</style>\n",
       "<table border=\"1\" class=\"dataframe\">\n",
       "  <thead>\n",
       "    <tr style=\"text-align: right;\">\n",
       "      <th></th>\n",
       "      <th>precision</th>\n",
       "      <th>recall</th>\n",
       "      <th>f1-score</th>\n",
       "      <th>support</th>\n",
       "    </tr>\n",
       "  </thead>\n",
       "  <tbody>\n",
       "    <tr>\n",
       "      <th>0</th>\n",
       "      <td>0.819868</td>\n",
       "      <td>0.872103</td>\n",
       "      <td>0.845179</td>\n",
       "      <td>23167.0</td>\n",
       "    </tr>\n",
       "    <tr>\n",
       "      <th>1</th>\n",
       "      <td>0.971956</td>\n",
       "      <td>0.958565</td>\n",
       "      <td>0.965214</td>\n",
       "      <td>107132.0</td>\n",
       "    </tr>\n",
       "    <tr>\n",
       "      <th>macro avg</th>\n",
       "      <td>0.895912</td>\n",
       "      <td>0.915334</td>\n",
       "      <td>0.905197</td>\n",
       "      <td>130299.0</td>\n",
       "    </tr>\n",
       "    <tr>\n",
       "      <th>weighted avg</th>\n",
       "      <td>0.944915</td>\n",
       "      <td>0.943192</td>\n",
       "      <td>0.943872</td>\n",
       "      <td>130299.0</td>\n",
       "    </tr>\n",
       "  </tbody>\n",
       "</table>\n",
       "</div>"
      ],
      "text/plain": [
       "              precision    recall  f1-score   support\n",
       "0              0.819868  0.872103  0.845179   23167.0\n",
       "1              0.971956  0.958565  0.965214  107132.0\n",
       "macro avg      0.895912  0.915334  0.905197  130299.0\n",
       "weighted avg   0.944915  0.943192  0.943872  130299.0"
      ]
     },
     "metadata": {},
     "output_type": "display_data"
    },
    {
     "name": "stdout",
     "output_type": "stream",
     "text": [
      "\n",
      "\u001b[1mConfusion Matrix using Validation Data (y_valid)\u001b[0m\n",
      "\n",
      "True Negative  : CHGOFF (0) was predicted 20204 times correctly (81.99 %)\n",
      "False Negative : CHGOFF (0) was predicted 4439 times incorrectly (18.01 %)\n",
      "True Positive  : P I F (1) was predicted 102693 times correctly (97.2 %)\n",
      "False Positive : P I F (1) was predicted 2963 times incorrectly (2.8 %)\n"
     ]
    },
    {
     "data": {
      "text/html": [
       "<div>\n",
       "<style scoped>\n",
       "    .dataframe tbody tr th:only-of-type {\n",
       "        vertical-align: middle;\n",
       "    }\n",
       "\n",
       "    .dataframe tbody tr th {\n",
       "        vertical-align: top;\n",
       "    }\n",
       "\n",
       "    .dataframe thead th {\n",
       "        text-align: right;\n",
       "    }\n",
       "</style>\n",
       "<table border=\"1\" class=\"dataframe\">\n",
       "  <thead>\n",
       "    <tr style=\"text-align: right;\">\n",
       "      <th></th>\n",
       "      <th>Metrics Summary: y_valid in %</th>\n",
       "    </tr>\n",
       "  </thead>\n",
       "  <tbody>\n",
       "    <tr>\n",
       "      <th>rmse</th>\n",
       "      <td>0.238344</td>\n",
       "    </tr>\n",
       "    <tr>\n",
       "      <th>f1_score</th>\n",
       "      <td>96.521420</td>\n",
       "    </tr>\n",
       "    <tr>\n",
       "      <th>Precision</th>\n",
       "      <td>97.195616</td>\n",
       "    </tr>\n",
       "    <tr>\n",
       "      <th>Recall Sensitivity</th>\n",
       "      <td>95.856513</td>\n",
       "    </tr>\n",
       "    <tr>\n",
       "      <th>Recall Specificity</th>\n",
       "      <td>87.210256</td>\n",
       "    </tr>\n",
       "    <tr>\n",
       "      <th>G-Mean</th>\n",
       "      <td>91.431237</td>\n",
       "    </tr>\n",
       "  </tbody>\n",
       "</table>\n",
       "</div>"
      ],
      "text/plain": [
       "                    Metrics Summary: y_valid in %\n",
       "rmse                                     0.238344\n",
       "f1_score                                96.521420\n",
       "Precision                               97.195616\n",
       "Recall Sensitivity                      95.856513\n",
       "Recall Specificity                      87.210256\n",
       "G-Mean                                  91.431237"
      ]
     },
     "metadata": {},
     "output_type": "display_data"
    },
    {
     "data": {
      "image/png": "[encoded data removed]",
      "text/plain": [
       "<Figure size 450x450 with 1 Axes>"
      ]
     },
     "metadata": {
      "needs_background": "light"
     },
     "output_type": "display_data"
    },
    {
     "data": {
      "image/png": "[encoded data removed]",
      "text/plain": [
       "<Figure size 900x450 with 1 Axes>"
      ]
     },
     "metadata": {
      "needs_background": "light"
     },
     "output_type": "display_data"
    },
    {
     "data": {
      "image/png": "[encoded data removed]",
      "text/plain": [
       "<Figure size 900x450 with 1 Axes>"
      ]
     },
     "metadata": {
      "needs_background": "light"
     },
     "output_type": "display_data"
    },
    {
     "name": "stdout",
     "output_type": "stream",
     "text": [
      "CPU times: user 2min 35s, sys: 732 ms, total: 2min 36s\n",
      "Wall time: 2min 40s\n"
     ]
    }
   ],
   "source": [
    "%%time\n",
    "\n",
    "from matplotlib import pyplot\n",
    "\n",
    "def PlotEarlyStoppingRounds():\n",
    "    X = pd.read_feather(final_ds)\n",
    "    #X = X.head(500)      # uncomment for testing\n",
    "    y = X.pop('MIS_Status')\n",
    "    \n",
    "    esr = process_model(X, y)   \n",
    "    esr.split_data(0.7)\n",
    "    esr.osample(os_data = [1,0,0])\n",
    "    \n",
    "    esr.X, esr.y = None, None\n",
    "    del X, y\n",
    "    gc.collect()\n",
    "    sleep(3)   \n",
    "    \n",
    "    print()\n",
    "    print(f\"{mf.color.bold}Please wait, Fitting model can take time ...{mf.color.end}\")\n",
    "    print()\n",
    "    \n",
    "    # get hyperparams from previous Optuna study's best trial\n",
    "    # early_stopping_rounds not included as we are trying to confirm if our value was valid\n",
    "    study_results = joblib.load(f\"{workdir}xgb_optuna_study.pkl\")\n",
    "    hyperparams = study_results.best_trial.params\n",
    "    hyperparams.pop('early_stopping_rounds')\n",
    "    hyperparams['eval_metric'] = ['error','logloss']\n",
    "    print(f'{mf.color.bold}Hyperparameters:{mf.color.end}')\n",
    "    display(hyperparams)\n",
    "    print()\n",
    "\n",
    "    xg_model = XGBClassifier(**hyperparams,use_label_encoder =False)\n",
    "       \n",
    "    eval_setparam = [(esr.X_train, esr.y_train),\n",
    "                     (esr.X_valid, esr.y_valid)]\n",
    "       \n",
    "    # fit the model\n",
    "    xg_model.fit(esr.X_train, esr.y_train, \n",
    "                eval_set = eval_setparam,\n",
    "                verbose=False)\n",
    " \n",
    "    print(\"Fitting model completed.\")\n",
    "    print()\n",
    "    print('Preparing Predictions')\n",
    "    \n",
    "    # Get predictions\n",
    "    predictions = xg_model.predict(esr.X_valid)\n",
    "    \n",
    "    print()\n",
    "    print(f'{mf.color.underline}Metrics:{mf.color.end}')\n",
    "\n",
    "    #eval_results = mf.model_eval(esr.y_valid, predictions)\n",
    "    eval_results = mf.model_eval2(xg_model,\n",
    "                                  esr.X_train, esr.y_train,\n",
    "                                  esr.X_valid, esr.y_valid,\n",
    "                                  cmDisplay=True)\n",
    "\n",
    "    # retrieve performance metrics\n",
    "    results = xg_model.evals_result()\n",
    "    epochs = len(results['validation_0']['error'])\n",
    "    x_axis = range(0, epochs)\n",
    "\n",
    "    # what we will be looking for are the bottom areas of the plots\n",
    "    \n",
    "    # plot log loss\n",
    "    plt.rcParams.update({'font.size': 4})\n",
    "    fig, ax = pyplot.subplots(dpi=300,figsize=(3,1.5))\n",
    "    # Set tick font size\n",
    "    for label in (ax.get_xticklabels() + ax.get_yticklabels()):\n",
    "        label.set_fontsize(4)\n",
    "    ax.plot(x_axis, results['validation_0']['logloss'], label='Train')\n",
    "    ax.plot(x_axis, results['validation_1']['logloss'], label='Test')\n",
    "    ax.legend()\n",
    "    pyplot.xlabel('Epoch')\n",
    "    pyplot.ylabel('Log Loss')\n",
    "    pyplot.title('XGBoost Log Loss')\n",
    "    pyplot.show()\n",
    "\n",
    "    # plot classification error\n",
    "    fig, ax = pyplot.subplots(dpi=300,figsize=(3,1.5))\n",
    "    ax.plot(x_axis, results['validation_0']['error'], label='Train')\n",
    "    ax.plot(x_axis, results['validation_1']['error'], label='Test')\n",
    "    ax.legend()\n",
    "    pyplot.xlabel('Epoch')\n",
    "    pyplot.ylabel('Classification Error')\n",
    "    pyplot.title('XGBoost Classification Error')\n",
    "    pyplot.show()\n",
    "    \n",
    "PlotEarlyStoppingRounds()"
   ]
  },
  {
   "cell_type": "markdown",
   "id": "7974a101",
   "metadata": {
    "execution": {
     "iopub.execute_input": "2022-05-17T07:15:49.429758Z",
     "iopub.status.busy": "2022-05-17T07:15:49.429388Z",
     "iopub.status.idle": "2022-05-17T07:15:49.458798Z",
     "shell.execute_reply": "2022-05-17T07:15:49.457385Z",
     "shell.execute_reply.started": "2022-05-17T07:15:49.429667Z"
    },
    "papermill": {
     "duration": 0.191322,
     "end_time": "2022-06-06T20:46:02.960768",
     "exception": false,
     "start_time": "2022-06-06T20:46:02.769446",
     "status": "completed"
    },
    "tags": []
   },
   "source": [
    "<i><a style=\"color:DarkSlateGrey\" href=\"#toc\">Back to Table Of Contents</a></i>"
   ]
  },
  {
   "cell_type": "markdown",
   "id": "ac95489d",
   "metadata": {
    "papermill": {
     "duration": 0.183271,
     "end_time": "2022-06-06T20:46:03.316879",
     "exception": false,
     "start_time": "2022-06-06T20:46:03.133608",
     "status": "completed"
    },
    "tags": []
   },
   "source": [
    "<div class=\"alert alert-block alert-info\">\n",
    "    From both plots, we can see that the commonly used 10% of n_estimator is a good candidate as the early_stopping_rounds parameter.  \n",
    "<br><br>\n",
    "    <b>Test Early Stopping Rounds</b>\n",
    "    <br>\n",
    "    Now we test the early_stopping_rounds parameter.  We will test it on imbalanced data, which is our data that is <b>not oversampled</b>, which is skewed heavily toward MIS_Status = 'P I F' as opposed to MIS_Status = 'CHGOFF'.  Furthermore, we use an <b>eval_metric = 'auc'</b>, which is ideal for imbalanced data.\n",
    "</div>"
   ]
  },
  {
   "cell_type": "code",
   "execution_count": 30,
   "id": "7f9d8067",
   "metadata": {
    "execution": {
     "iopub.execute_input": "2022-06-06T20:46:03.560183Z",
     "iopub.status.busy": "2022-06-06T20:46:03.559926Z",
     "iopub.status.idle": "2022-06-06T20:46:39.017828Z",
     "shell.execute_reply": "2022-06-06T20:46:39.017011Z"
    },
    "papermill": {
     "duration": 35.573226,
     "end_time": "2022-06-06T20:46:39.020467",
     "exception": false,
     "start_time": "2022-06-06T20:46:03.447241",
     "status": "completed"
    },
    "tags": []
   },
   "outputs": [
    {
     "name": "stdout",
     "output_type": "stream",
     "text": [
      "MIS_Status Count ->  1 : 714212, 0 : 154451\n",
      "\u001b[1mFit() Iterations:\u001b[0m\n",
      "[0]\tvalidation_0-auc:0.96567\n",
      "[1]\tvalidation_0-auc:0.96639\n",
      "[2]\tvalidation_0-auc:0.96732\n",
      "[3]\tvalidation_0-auc:0.96794\n",
      "[4]\tvalidation_0-auc:0.96816\n",
      "[5]\tvalidation_0-auc:0.96835\n",
      "[6]\tvalidation_0-auc:0.96853\n",
      "[7]\tvalidation_0-auc:0.96898\n",
      "[8]\tvalidation_0-auc:0.96909\n",
      "[9]\tvalidation_0-auc:0.96920\n",
      "[10]\tvalidation_0-auc:0.96936\n",
      "[11]\tvalidation_0-auc:0.96960\n",
      "[12]\tvalidation_0-auc:0.96984\n",
      "[13]\tvalidation_0-auc:0.97017\n",
      "[14]\tvalidation_0-auc:0.97035\n",
      "[15]\tvalidation_0-auc:0.97066\n",
      "[16]\tvalidation_0-auc:0.97081\n",
      "[17]\tvalidation_0-auc:0.97104\n",
      "[18]\tvalidation_0-auc:0.97121\n",
      "[19]\tvalidation_0-auc:0.97132\n",
      "[20]\tvalidation_0-auc:0.97145\n",
      "[21]\tvalidation_0-auc:0.97155\n",
      "[22]\tvalidation_0-auc:0.97173\n",
      "[23]\tvalidation_0-auc:0.97190\n",
      "[24]\tvalidation_0-auc:0.97199\n",
      "[25]\tvalidation_0-auc:0.97214\n",
      "[26]\tvalidation_0-auc:0.97238\n",
      "[27]\tvalidation_0-auc:0.97250\n",
      "[28]\tvalidation_0-auc:0.97259\n",
      "[29]\tvalidation_0-auc:0.97268\n",
      "[30]\tvalidation_0-auc:0.97277\n",
      "[31]\tvalidation_0-auc:0.97291\n",
      "[32]\tvalidation_0-auc:0.97310\n",
      "[33]\tvalidation_0-auc:0.97319\n",
      "[34]\tvalidation_0-auc:0.97329\n",
      "[35]\tvalidation_0-auc:0.97342\n",
      "[36]\tvalidation_0-auc:0.97355\n",
      "[37]\tvalidation_0-auc:0.97381\n",
      "[38]\tvalidation_0-auc:0.97398\n",
      "[39]\tvalidation_0-auc:0.97403\n",
      "[40]\tvalidation_0-auc:0.97411\n",
      "[41]\tvalidation_0-auc:0.97420\n",
      "[42]\tvalidation_0-auc:0.97435\n",
      "[43]\tvalidation_0-auc:0.97441\n",
      "[44]\tvalidation_0-auc:0.97449\n",
      "[45]\tvalidation_0-auc:0.97452\n",
      "[46]\tvalidation_0-auc:0.97456\n",
      "[47]\tvalidation_0-auc:0.97463\n",
      "[48]\tvalidation_0-auc:0.97467\n",
      "[49]\tvalidation_0-auc:0.97472\n",
      "[50]\tvalidation_0-auc:0.97478\n",
      "[51]\tvalidation_0-auc:0.97483\n",
      "[52]\tvalidation_0-auc:0.97490\n",
      "[53]\tvalidation_0-auc:0.97494\n",
      "[54]\tvalidation_0-auc:0.97498\n",
      "[55]\tvalidation_0-auc:0.97500\n",
      "[56]\tvalidation_0-auc:0.97503\n",
      "[57]\tvalidation_0-auc:0.97510\n",
      "[58]\tvalidation_0-auc:0.97511\n",
      "[59]\tvalidation_0-auc:0.97513\n",
      "[60]\tvalidation_0-auc:0.97515\n",
      "[61]\tvalidation_0-auc:0.97518\n",
      "[62]\tvalidation_0-auc:0.97521\n",
      "[63]\tvalidation_0-auc:0.97523\n",
      "[64]\tvalidation_0-auc:0.97528\n",
      "[65]\tvalidation_0-auc:0.97533\n",
      "[66]\tvalidation_0-auc:0.97536\n",
      "[67]\tvalidation_0-auc:0.97540\n",
      "[68]\tvalidation_0-auc:0.97541\n",
      "[69]\tvalidation_0-auc:0.97545\n",
      "[70]\tvalidation_0-auc:0.97546\n",
      "[71]\tvalidation_0-auc:0.97550\n",
      "[72]\tvalidation_0-auc:0.97553\n",
      "[73]\tvalidation_0-auc:0.97557\n",
      "[74]\tvalidation_0-auc:0.97559\n",
      "[75]\tvalidation_0-auc:0.97560\n",
      "[76]\tvalidation_0-auc:0.97563\n",
      "[77]\tvalidation_0-auc:0.97564\n",
      "[78]\tvalidation_0-auc:0.97570\n",
      "[79]\tvalidation_0-auc:0.97572\n",
      "[80]\tvalidation_0-auc:0.97573\n",
      "[81]\tvalidation_0-auc:0.97575\n",
      "[82]\tvalidation_0-auc:0.97577\n",
      "[83]\tvalidation_0-auc:0.97579\n",
      "[84]\tvalidation_0-auc:0.97580\n",
      "[85]\tvalidation_0-auc:0.97584\n",
      "[86]\tvalidation_0-auc:0.97588\n",
      "[87]\tvalidation_0-auc:0.97589\n",
      "[88]\tvalidation_0-auc:0.97591\n",
      "[89]\tvalidation_0-auc:0.97595\n",
      "[90]\tvalidation_0-auc:0.97597\n",
      "[91]\tvalidation_0-auc:0.97600\n",
      "[92]\tvalidation_0-auc:0.97600\n",
      "[93]\tvalidation_0-auc:0.97601\n",
      "[94]\tvalidation_0-auc:0.97602\n",
      "[95]\tvalidation_0-auc:0.97602\n",
      "[96]\tvalidation_0-auc:0.97605\n",
      "[97]\tvalidation_0-auc:0.97607\n",
      "[98]\tvalidation_0-auc:0.97608\n",
      "[99]\tvalidation_0-auc:0.97610\n",
      "[100]\tvalidation_0-auc:0.97610\n",
      "[101]\tvalidation_0-auc:0.97612\n",
      "[102]\tvalidation_0-auc:0.97613\n",
      "[103]\tvalidation_0-auc:0.97613\n",
      "[104]\tvalidation_0-auc:0.97614\n",
      "[105]\tvalidation_0-auc:0.97616\n",
      "[106]\tvalidation_0-auc:0.97618\n",
      "[107]\tvalidation_0-auc:0.97618\n",
      "[108]\tvalidation_0-auc:0.97618\n",
      "[109]\tvalidation_0-auc:0.97622\n",
      "[110]\tvalidation_0-auc:0.97622\n",
      "[111]\tvalidation_0-auc:0.97623\n",
      "[112]\tvalidation_0-auc:0.97625\n",
      "[113]\tvalidation_0-auc:0.97626\n",
      "[114]\tvalidation_0-auc:0.97627\n",
      "[115]\tvalidation_0-auc:0.97628\n",
      "[116]\tvalidation_0-auc:0.97629\n",
      "[117]\tvalidation_0-auc:0.97630\n",
      "[118]\tvalidation_0-auc:0.97631\n",
      "[119]\tvalidation_0-auc:0.97632\n",
      "[120]\tvalidation_0-auc:0.97632\n",
      "[121]\tvalidation_0-auc:0.97633\n",
      "[122]\tvalidation_0-auc:0.97635\n",
      "[123]\tvalidation_0-auc:0.97634\n",
      "[124]\tvalidation_0-auc:0.97634\n",
      "[125]\tvalidation_0-auc:0.97634\n",
      "[126]\tvalidation_0-auc:0.97634\n",
      "[127]\tvalidation_0-auc:0.97634\n",
      "[128]\tvalidation_0-auc:0.97633\n",
      "[129]\tvalidation_0-auc:0.97635\n",
      "[130]\tvalidation_0-auc:0.97636\n",
      "[131]\tvalidation_0-auc:0.97637\n",
      "[132]\tvalidation_0-auc:0.97638\n",
      "[133]\tvalidation_0-auc:0.97638\n",
      "[134]\tvalidation_0-auc:0.97640\n",
      "[135]\tvalidation_0-auc:0.97640\n",
      "[136]\tvalidation_0-auc:0.97640\n",
      "[137]\tvalidation_0-auc:0.97641\n",
      "[138]\tvalidation_0-auc:0.97642\n",
      "[139]\tvalidation_0-auc:0.97642\n",
      "[140]\tvalidation_0-auc:0.97643\n",
      "[141]\tvalidation_0-auc:0.97643\n",
      "[142]\tvalidation_0-auc:0.97644\n",
      "[143]\tvalidation_0-auc:0.97644\n",
      "[144]\tvalidation_0-auc:0.97645\n",
      "[145]\tvalidation_0-auc:0.97645\n",
      "[146]\tvalidation_0-auc:0.97647\n",
      "[147]\tvalidation_0-auc:0.97647\n",
      "[148]\tvalidation_0-auc:0.97647\n",
      "[149]\tvalidation_0-auc:0.97647\n",
      "[150]\tvalidation_0-auc:0.97649\n",
      "[151]\tvalidation_0-auc:0.97649\n",
      "[152]\tvalidation_0-auc:0.97648\n",
      "[153]\tvalidation_0-auc:0.97649\n",
      "[154]\tvalidation_0-auc:0.97650\n",
      "[155]\tvalidation_0-auc:0.97649\n",
      "[156]\tvalidation_0-auc:0.97651\n",
      "[157]\tvalidation_0-auc:0.97651\n",
      "[158]\tvalidation_0-auc:0.97652\n",
      "[159]\tvalidation_0-auc:0.97652\n",
      "[160]\tvalidation_0-auc:0.97652\n",
      "[161]\tvalidation_0-auc:0.97653\n",
      "[162]\tvalidation_0-auc:0.97654\n",
      "[163]\tvalidation_0-auc:0.97653\n",
      "[164]\tvalidation_0-auc:0.97654\n",
      "[165]\tvalidation_0-auc:0.97655\n",
      "[166]\tvalidation_0-auc:0.97655\n",
      "[167]\tvalidation_0-auc:0.97655\n",
      "[168]\tvalidation_0-auc:0.97655\n",
      "[169]\tvalidation_0-auc:0.97655\n",
      "[170]\tvalidation_0-auc:0.97656\n",
      "[171]\tvalidation_0-auc:0.97657\n",
      "[172]\tvalidation_0-auc:0.97657\n",
      "[173]\tvalidation_0-auc:0.97656\n",
      "[174]\tvalidation_0-auc:0.97656\n",
      "[175]\tvalidation_0-auc:0.97657\n",
      "[176]\tvalidation_0-auc:0.97658\n",
      "[177]\tvalidation_0-auc:0.97658\n",
      "[178]\tvalidation_0-auc:0.97658\n",
      "[179]\tvalidation_0-auc:0.97658\n",
      "[180]\tvalidation_0-auc:0.97658\n",
      "[181]\tvalidation_0-auc:0.97657\n",
      "[182]\tvalidation_0-auc:0.97658\n",
      "[183]\tvalidation_0-auc:0.97659\n",
      "[184]\tvalidation_0-auc:0.97660\n",
      "[185]\tvalidation_0-auc:0.97660\n",
      "[186]\tvalidation_0-auc:0.97661\n",
      "[187]\tvalidation_0-auc:0.97660\n",
      "[188]\tvalidation_0-auc:0.97660\n",
      "[189]\tvalidation_0-auc:0.97661\n",
      "[190]\tvalidation_0-auc:0.97661\n",
      "[191]\tvalidation_0-auc:0.97661\n",
      "[192]\tvalidation_0-auc:0.97661\n",
      "[193]\tvalidation_0-auc:0.97661\n",
      "[194]\tvalidation_0-auc:0.97661\n",
      "[195]\tvalidation_0-auc:0.97661\n",
      "[196]\tvalidation_0-auc:0.97661\n",
      "[197]\tvalidation_0-auc:0.97662\n",
      "[198]\tvalidation_0-auc:0.97661\n",
      "[199]\tvalidation_0-auc:0.97661\n",
      "[200]\tvalidation_0-auc:0.97662\n",
      "[201]\tvalidation_0-auc:0.97661\n",
      "[202]\tvalidation_0-auc:0.97661\n",
      "[203]\tvalidation_0-auc:0.97662\n",
      "[204]\tvalidation_0-auc:0.97662\n",
      "[205]\tvalidation_0-auc:0.97661\n",
      "[206]\tvalidation_0-auc:0.97661\n",
      "[207]\tvalidation_0-auc:0.97660\n",
      "[208]\tvalidation_0-auc:0.97661\n",
      "[209]\tvalidation_0-auc:0.97660\n",
      "[210]\tvalidation_0-auc:0.97662\n",
      "[211]\tvalidation_0-auc:0.97662\n",
      "[212]\tvalidation_0-auc:0.97662\n",
      "[213]\tvalidation_0-auc:0.97663\n",
      "[214]\tvalidation_0-auc:0.97662\n",
      "[215]\tvalidation_0-auc:0.97664\n",
      "[216]\tvalidation_0-auc:0.97665\n",
      "[217]\tvalidation_0-auc:0.97666\n",
      "[218]\tvalidation_0-auc:0.97665\n",
      "[219]\tvalidation_0-auc:0.97665\n",
      "[220]\tvalidation_0-auc:0.97665\n",
      "[221]\tvalidation_0-auc:0.97665\n",
      "[222]\tvalidation_0-auc:0.97665\n",
      "[223]\tvalidation_0-auc:0.97665\n",
      "[224]\tvalidation_0-auc:0.97665\n",
      "[225]\tvalidation_0-auc:0.97665\n",
      "[226]\tvalidation_0-auc:0.97665\n",
      "[227]\tvalidation_0-auc:0.97666\n",
      "[228]\tvalidation_0-auc:0.97666\n",
      "[229]\tvalidation_0-auc:0.97666\n",
      "[230]\tvalidation_0-auc:0.97666\n",
      "[231]\tvalidation_0-auc:0.97667\n",
      "[232]\tvalidation_0-auc:0.97667\n",
      "[233]\tvalidation_0-auc:0.97667\n",
      "[234]\tvalidation_0-auc:0.97667\n",
      "[235]\tvalidation_0-auc:0.97667\n",
      "[236]\tvalidation_0-auc:0.97667\n",
      "[237]\tvalidation_0-auc:0.97668\n",
      "[238]\tvalidation_0-auc:0.97668\n",
      "[239]\tvalidation_0-auc:0.97668\n",
      "[240]\tvalidation_0-auc:0.97668\n",
      "[241]\tvalidation_0-auc:0.97669\n",
      "[242]\tvalidation_0-auc:0.97669\n",
      "[243]\tvalidation_0-auc:0.97669\n",
      "[244]\tvalidation_0-auc:0.97669\n",
      "[245]\tvalidation_0-auc:0.97669\n",
      "[246]\tvalidation_0-auc:0.97669\n",
      "[247]\tvalidation_0-auc:0.97670\n",
      "[248]\tvalidation_0-auc:0.97670\n",
      "[249]\tvalidation_0-auc:0.97670\n",
      "[250]\tvalidation_0-auc:0.97670\n",
      "[251]\tvalidation_0-auc:0.97671\n",
      "[252]\tvalidation_0-auc:0.97671\n",
      "[253]\tvalidation_0-auc:0.97671\n",
      "[254]\tvalidation_0-auc:0.97671\n",
      "[255]\tvalidation_0-auc:0.97671\n",
      "[256]\tvalidation_0-auc:0.97671\n",
      "[257]\tvalidation_0-auc:0.97671\n",
      "[258]\tvalidation_0-auc:0.97671\n",
      "[259]\tvalidation_0-auc:0.97671\n",
      "[260]\tvalidation_0-auc:0.97671\n",
      "[261]\tvalidation_0-auc:0.97670\n",
      "[262]\tvalidation_0-auc:0.97670\n",
      "[263]\tvalidation_0-auc:0.97670\n",
      "[264]\tvalidation_0-auc:0.97670\n",
      "[265]\tvalidation_0-auc:0.97670\n",
      "[266]\tvalidation_0-auc:0.97669\n",
      "[267]\tvalidation_0-auc:0.97669\n",
      "[268]\tvalidation_0-auc:0.97668\n",
      "[269]\tvalidation_0-auc:0.97669\n",
      "[270]\tvalidation_0-auc:0.97669\n",
      "[271]\tvalidation_0-auc:0.97668\n",
      "[272]\tvalidation_0-auc:0.97668\n",
      "[273]\tvalidation_0-auc:0.97668\n",
      "[274]\tvalidation_0-auc:0.97668\n",
      "[275]\tvalidation_0-auc:0.97667\n",
      "[276]\tvalidation_0-auc:0.97667\n",
      "[277]\tvalidation_0-auc:0.97667\n",
      "[278]\tvalidation_0-auc:0.97667\n",
      "[279]\tvalidation_0-auc:0.97668\n",
      "[280]\tvalidation_0-auc:0.97667\n",
      "[281]\tvalidation_0-auc:0.97667\n",
      "[282]\tvalidation_0-auc:0.97667\n",
      "[283]\tvalidation_0-auc:0.97667\n",
      "[284]\tvalidation_0-auc:0.97667\n",
      "[285]\tvalidation_0-auc:0.97667\n",
      "[286]\tvalidation_0-auc:0.97666\n",
      "[287]\tvalidation_0-auc:0.97666\n",
      "[288]\tvalidation_0-auc:0.97666\n",
      "[289]\tvalidation_0-auc:0.97666\n",
      "[290]\tvalidation_0-auc:0.97666\n",
      "[291]\tvalidation_0-auc:0.97666\n",
      "[292]\tvalidation_0-auc:0.97667\n",
      "[293]\tvalidation_0-auc:0.97666\n",
      "[294]\tvalidation_0-auc:0.97666\n",
      "[295]\tvalidation_0-auc:0.97667\n",
      "[296]\tvalidation_0-auc:0.97667\n",
      "[297]\tvalidation_0-auc:0.97666\n",
      "[298]\tvalidation_0-auc:0.97666\n",
      "[299]\tvalidation_0-auc:0.97667\n",
      "[300]\tvalidation_0-auc:0.97667\n",
      "[301]\tvalidation_0-auc:0.97668\n",
      "[302]\tvalidation_0-auc:0.97668\n",
      "[303]\tvalidation_0-auc:0.97668\n",
      "[304]\tvalidation_0-auc:0.97668\n",
      "[305]\tvalidation_0-auc:0.97668\n",
      "[306]\tvalidation_0-auc:0.97668\n",
      "[307]\tvalidation_0-auc:0.97668\n",
      "[308]\tvalidation_0-auc:0.97667\n",
      "[309]\tvalidation_0-auc:0.97668\n",
      "[310]\tvalidation_0-auc:0.97667\n",
      "[311]\tvalidation_0-auc:0.97666\n",
      "[312]\tvalidation_0-auc:0.97666\n",
      "[313]\tvalidation_0-auc:0.97667\n",
      "[314]\tvalidation_0-auc:0.97667\n",
      "[315]\tvalidation_0-auc:0.97667\n",
      "[316]\tvalidation_0-auc:0.97666\n",
      "[317]\tvalidation_0-auc:0.97666\n",
      "[318]\tvalidation_0-auc:0.97666\n",
      "[319]\tvalidation_0-auc:0.97666\n",
      "[320]\tvalidation_0-auc:0.97666\n",
      "[321]\tvalidation_0-auc:0.97665\n",
      "[322]\tvalidation_0-auc:0.97664\n",
      "[323]\tvalidation_0-auc:0.97664\n",
      "[324]\tvalidation_0-auc:0.97664\n",
      "[325]\tvalidation_0-auc:0.97663\n",
      "[326]\tvalidation_0-auc:0.97664\n",
      "[327]\tvalidation_0-auc:0.97664\n",
      "[328]\tvalidation_0-auc:0.97663\n",
      "[329]\tvalidation_0-auc:0.97663\n",
      "[330]\tvalidation_0-auc:0.97662\n",
      "[331]\tvalidation_0-auc:0.97661\n",
      "[332]\tvalidation_0-auc:0.97662\n",
      "[333]\tvalidation_0-auc:0.97662\n",
      "[334]\tvalidation_0-auc:0.97661\n",
      "[335]\tvalidation_0-auc:0.97661\n",
      "[336]\tvalidation_0-auc:0.97660\n",
      "[337]\tvalidation_0-auc:0.97660\n",
      "[338]\tvalidation_0-auc:0.97660\n",
      "[339]\tvalidation_0-auc:0.97660\n",
      "[340]\tvalidation_0-auc:0.97660\n",
      "[341]\tvalidation_0-auc:0.97661\n",
      "[342]\tvalidation_0-auc:0.97660\n",
      "[343]\tvalidation_0-auc:0.97659\n",
      "[344]\tvalidation_0-auc:0.97659\n",
      "[345]\tvalidation_0-auc:0.97659\n",
      "[346]\tvalidation_0-auc:0.97659\n",
      "[347]\tvalidation_0-auc:0.97659\n",
      "[348]\tvalidation_0-auc:0.97658\n",
      "[349]\tvalidation_0-auc:0.97659\n",
      "[350]\tvalidation_0-auc:0.97659\n",
      "[351]\tvalidation_0-auc:0.97659\n",
      "[352]\tvalidation_0-auc:0.97658\n",
      "[353]\tvalidation_0-auc:0.97658\n",
      "[354]\tvalidation_0-auc:0.97657\n",
      "[355]\tvalidation_0-auc:0.97656\n",
      "[356]\tvalidation_0-auc:0.97656\n",
      "[357]\tvalidation_0-auc:0.97656\n",
      "[358]\tvalidation_0-auc:0.97656\n",
      "\n",
      "\n",
      "\u001b[1my_valid RMSE    : \u001b[1m\u001b[92m\u001b[4m0.23539544643259092\u001b[0m\n",
      "\n",
      "\u001b[1my_valid f1 score: \u001b[1m\u001b[92m\u001b[4m96.64644625488866 %\u001b[0m\n",
      "\n",
      "--------------------------------------------------\n",
      "\n",
      "\u001b[1mClassification Report\u001b[0m\n"
     ]
    },
    {
     "data": {
      "text/html": [
       "<div>\n",
       "<style scoped>\n",
       "    .dataframe tbody tr th:only-of-type {\n",
       "        vertical-align: middle;\n",
       "    }\n",
       "\n",
       "    .dataframe tbody tr th {\n",
       "        vertical-align: top;\n",
       "    }\n",
       "\n",
       "    .dataframe thead th {\n",
       "        text-align: right;\n",
       "    }\n",
       "</style>\n",
       "<table border=\"1\" class=\"dataframe\">\n",
       "  <thead>\n",
       "    <tr style=\"text-align: right;\">\n",
       "      <th></th>\n",
       "      <th>precision</th>\n",
       "      <th>recall</th>\n",
       "      <th>f1-score</th>\n",
       "      <th>support</th>\n",
       "    </tr>\n",
       "  </thead>\n",
       "  <tbody>\n",
       "    <tr>\n",
       "      <th>0</th>\n",
       "      <td>0.860189</td>\n",
       "      <td>0.821945</td>\n",
       "      <td>0.840632</td>\n",
       "      <td>23167.0</td>\n",
       "    </tr>\n",
       "    <tr>\n",
       "      <th>1</th>\n",
       "      <td>0.961863</td>\n",
       "      <td>0.971110</td>\n",
       "      <td>0.966464</td>\n",
       "      <td>107132.0</td>\n",
       "    </tr>\n",
       "    <tr>\n",
       "      <th>macro avg</th>\n",
       "      <td>0.911026</td>\n",
       "      <td>0.896528</td>\n",
       "      <td>0.903548</td>\n",
       "      <td>130299.0</td>\n",
       "    </tr>\n",
       "    <tr>\n",
       "      <th>weighted avg</th>\n",
       "      <td>0.943785</td>\n",
       "      <td>0.944589</td>\n",
       "      <td>0.944092</td>\n",
       "      <td>130299.0</td>\n",
       "    </tr>\n",
       "  </tbody>\n",
       "</table>\n",
       "</div>"
      ],
      "text/plain": [
       "              precision    recall  f1-score   support\n",
       "0              0.860189  0.821945  0.840632   23167.0\n",
       "1              0.961863  0.971110  0.966464  107132.0\n",
       "macro avg      0.911026  0.896528  0.903548  130299.0\n",
       "weighted avg   0.943785  0.944589  0.944092  130299.0"
      ]
     },
     "metadata": {},
     "output_type": "display_data"
    },
    {
     "name": "stdout",
     "output_type": "stream",
     "text": [
      "\n",
      "\u001b[1mConfusion Matrix using Validation Data (y_valid)\u001b[0m\n",
      "\n",
      "True Negative  : CHGOFF (0) was predicted 19042 times correctly (86.02 %)\n",
      "False Negative : CHGOFF (0) was predicted 3095 times incorrectly (13.98 %)\n",
      "True Positive  : P I F (1) was predicted 104037 times correctly (96.19 %)\n",
      "False Positive : P I F (1) was predicted 4125 times incorrectly (3.81 %)\n"
     ]
    },
    {
     "data": {
      "text/html": [
       "<div>\n",
       "<style scoped>\n",
       "    .dataframe tbody tr th:only-of-type {\n",
       "        vertical-align: middle;\n",
       "    }\n",
       "\n",
       "    .dataframe tbody tr th {\n",
       "        vertical-align: top;\n",
       "    }\n",
       "\n",
       "    .dataframe thead th {\n",
       "        text-align: right;\n",
       "    }\n",
       "</style>\n",
       "<table border=\"1\" class=\"dataframe\">\n",
       "  <thead>\n",
       "    <tr style=\"text-align: right;\">\n",
       "      <th></th>\n",
       "      <th>Metrics Summary: y_valid in %</th>\n",
       "    </tr>\n",
       "  </thead>\n",
       "  <tbody>\n",
       "    <tr>\n",
       "      <th>rmse</th>\n",
       "      <td>0.235395</td>\n",
       "    </tr>\n",
       "    <tr>\n",
       "      <th>f1_score</th>\n",
       "      <td>96.646446</td>\n",
       "    </tr>\n",
       "    <tr>\n",
       "      <th>Precision</th>\n",
       "      <td>96.186276</td>\n",
       "    </tr>\n",
       "    <tr>\n",
       "      <th>Recall Sensitivity</th>\n",
       "      <td>97.111041</td>\n",
       "    </tr>\n",
       "    <tr>\n",
       "      <th>Recall Specificity</th>\n",
       "      <td>82.194501</td>\n",
       "    </tr>\n",
       "    <tr>\n",
       "      <th>G-Mean</th>\n",
       "      <td>89.342003</td>\n",
       "    </tr>\n",
       "  </tbody>\n",
       "</table>\n",
       "</div>"
      ],
      "text/plain": [
       "                    Metrics Summary: y_valid in %\n",
       "rmse                                     0.235395\n",
       "f1_score                                96.646446\n",
       "Precision                               96.186276\n",
       "Recall Sensitivity                      97.111041\n",
       "Recall Specificity                      82.194501\n",
       "G-Mean                                  89.342003"
      ]
     },
     "metadata": {},
     "output_type": "display_data"
    },
    {
     "name": "stdout",
     "output_type": "stream",
     "text": [
      "CPU times: user 31.9 s, sys: 341 ms, total: 32.2 s\n",
      "Wall time: 35.3 s\n"
     ]
    },
    {
     "data": {
      "image/png": "[encoded data removed]",
      "text/plain": [
       "<Figure size 450x450 with 1 Axes>"
      ]
     },
     "metadata": {
      "needs_background": "light"
     },
     "output_type": "display_data"
    }
   ],
   "source": [
    "%%time\n",
    "\n",
    "def RunModelv5():\n",
    "    X = pd.read_feather(final_ds)\n",
    "    #X = X.head(500)      # uncomment for testing\n",
    "    y = X.pop('MIS_Status')\n",
    "\n",
    "    model5 = process_model(X, y)\n",
    "    model5.split_data(0.7)\n",
    "    # model5.osample(os_data = [1,0,0])     # we comment out the oversampling algorithm\n",
    "    \n",
    "    model5.X, model5.y = None, None\n",
    "    del X, y\n",
    "    gc.collect()\n",
    "    sleep(3)\n",
    "    \n",
    "    # we use the recently saved optuna study to get the hyperparams\n",
    "    study = joblib.load(f\"{workdir}xgb_optuna_study.pkl\")\n",
    "    hyperparams = study.best_trial.params\n",
    "    hyperparams['eval_metric'] = 'auc'      # we change eval_metric to 'auc'\n",
    "                   \n",
    "    model_xg = XGBClassifier(**hyperparams, use_label_encoder =False)\n",
    " \n",
    "    print(f'{mf.color.bold}Fit() Iterations:{mf.color.end}')\n",
    "    eval_set = [(model5.X_valid, model5.y_valid)]\n",
    "    model_xg.fit(model5.X_train, model5.y_train,\n",
    "              eval_set=eval_set, verbose=True)\n",
    " \n",
    "    # Get predictions\n",
    "    predictions = model_xg.predict(model5.X_valid)\n",
    "\n",
    "    print()\n",
    "    #eval_results = mf.model_eval(model5.y_valid, predictions)\n",
    "    eval_results = mf.model_eval2(model_xg,\n",
    "                                  model5.X_train, model5.y_train,\n",
    "                                  model5.X_valid, model5.y_valid,\n",
    "                                  cmDisplay=True)\n",
    "    \n",
    "RunModelv5()"
   ]
  },
  {
   "cell_type": "markdown",
   "id": "d94b3328",
   "metadata": {
    "papermill": {
     "duration": 0.231749,
     "end_time": "2022-06-06T20:46:39.507414",
     "exception": false,
     "start_time": "2022-06-06T20:46:39.275665",
     "status": "completed"
    },
    "tags": []
   },
   "source": [
    "<div class=\"alert alert-block alert-info\">\n",
    "    <b>Result:</b><br>\n",
    "    As we can see from above, from the verbose results of the fit() method, <b>the training stopped at a certain iteration before it reached 1000</b>, since <b>the auc score was starting to decrease</b>.  In conclusion, the early_stopping_rounds parameter works.  Although it was set at 100, at 100th iteration, the <b>auc score was still increasing</b>, so it didn't stop yet.\n",
    "    <br><br>\n",
    "    If we oversampled the data, the fit() method will complete the entire n_estimators = 1000, as the score is still getting better even at 1000.  In conclusion, oversampling helped get better results without reaching the overfitting threshold yet at the selected n_estimator value.  It's not just blind oversampling of course, it was a technique to solve the imbalance of data.\n",
    "</div>"
   ]
  },
  {
   "cell_type": "markdown",
   "id": "4fe53c28",
   "metadata": {
    "execution": {
     "iopub.execute_input": "2022-05-17T07:15:49.429758Z",
     "iopub.status.busy": "2022-05-17T07:15:49.429388Z",
     "iopub.status.idle": "2022-05-17T07:15:49.458798Z",
     "shell.execute_reply": "2022-05-17T07:15:49.457385Z",
     "shell.execute_reply.started": "2022-05-17T07:15:49.429667Z"
    },
    "papermill": {
     "duration": 0.235557,
     "end_time": "2022-06-06T20:46:39.973307",
     "exception": false,
     "start_time": "2022-06-06T20:46:39.737750",
     "status": "completed"
    },
    "tags": []
   },
   "source": [
    "<i><a style=\"color:DarkSlateGrey\" href=\"#toc\">Back to Table Of Contents</a></i>"
   ]
  },
  {
   "cell_type": "markdown",
   "id": "5fc1c915",
   "metadata": {
    "papermill": {
     "duration": 0.22861,
     "end_time": "2022-06-06T20:46:40.430958",
     "exception": false,
     "start_time": "2022-06-06T20:46:40.202348",
     "status": "completed"
    },
    "tags": []
   },
   "source": [
    "<a id=\"random_forest_classifier\"></a>\n",
    "<div style=\"font-family: Trebuchet MS;background-color:DarkCyan;color:Azure;text-align: left;padding-top: 5px;padding-bottom: 15px;padding-left: 20px;padding-right: 10px;border-radius: 15px 50px;letter-spacing: 2px;\">\n",
    "    <h2 style='color:GhostWhite;'>2.2 Random Forest Classifier</h2>\n",
    "</div>"
   ]
  },
  {
   "cell_type": "markdown",
   "id": "76bb1169",
   "metadata": {
    "papermill": {
     "duration": 0.234664,
     "end_time": "2022-06-06T20:46:40.894647",
     "exception": false,
     "start_time": "2022-06-06T20:46:40.659983",
     "status": "completed"
    },
    "tags": []
   },
   "source": [
    "<div class=\"alert alert-block alert-info\">\n",
    "    This is just a reference on using a Random Forest Classifier.<br>\n",
    "    <b>cuml.ensemble RandomForestClassifier</b> is used if GPU is active; otherwise, Scikit-Learn's RandomForestClassifier.\n",
    "  </div>"
   ]
  },
  {
   "cell_type": "code",
   "execution_count": 31,
   "id": "d56ad836",
   "metadata": {
    "execution": {
     "iopub.execute_input": "2022-06-06T20:46:41.362401Z",
     "iopub.status.busy": "2022-06-06T20:46:41.362142Z",
     "iopub.status.idle": "2022-06-06T20:49:08.159271Z",
     "shell.execute_reply": "2022-06-06T20:49:08.158348Z"
    },
    "papermill": {
     "duration": 147.046851,
     "end_time": "2022-06-06T20:49:08.173468",
     "exception": false,
     "start_time": "2022-06-06T20:46:41.126617",
     "status": "completed"
    },
    "tags": []
   },
   "outputs": [
    {
     "name": "stdout",
     "output_type": "stream",
     "text": [
      "\n",
      "X_train size :  608064\n",
      "X_valid size :  130299\n",
      "X_test size  :  130300\n",
      "\n",
      "\u001b[1m\u001b[92mPlease wait, resampling train data\u001b[0m\n",
      "\n",
      "Before Resampling train -> 1 : 499948, 0 : 108116\n",
      "After Resampling  train -> 1 : 499948, 0 : 499948\n",
      "\n",
      "\u001b[1m\u001b[94mResampling \u001b[0mRuntime : 0:00:01.125365\n",
      "\n",
      "\u001b[1mPlease wait, Fitting model can take time ...\u001b[0m\n",
      "Fitting model completed.\n",
      "\n",
      "Preparing Predictions\n",
      "\u001b[4mMetrics : Random Forest Classifier\u001b[0m\n",
      "\n",
      "\u001b[1m\u001b[92mcuml Score : 88.31 %\u001b[0m\n",
      "\n",
      "\n",
      "\u001b[1my_valid RMSE    : \u001b[1m\u001b[92m\u001b[4m0.3419742795551544\u001b[0m\n",
      "\n",
      "\u001b[1my_valid f1 score: \u001b[1m\u001b[92m\u001b[4m92.5319297007479 %\u001b[0m\n",
      "\n",
      "--------------------------------------------------\n",
      "\n",
      "\u001b[1mClassification Report\u001b[0m\n"
     ]
    },
    {
     "data": {
      "text/html": [
       "<div>\n",
       "<style scoped>\n",
       "    .dataframe tbody tr th:only-of-type {\n",
       "        vertical-align: middle;\n",
       "    }\n",
       "\n",
       "    .dataframe tbody tr th {\n",
       "        vertical-align: top;\n",
       "    }\n",
       "\n",
       "    .dataframe thead th {\n",
       "        text-align: right;\n",
       "    }\n",
       "</style>\n",
       "<table border=\"1\" class=\"dataframe\">\n",
       "  <thead>\n",
       "    <tr style=\"text-align: right;\">\n",
       "      <th></th>\n",
       "      <th>precision</th>\n",
       "      <th>recall</th>\n",
       "      <th>f1-score</th>\n",
       "      <th>support</th>\n",
       "    </tr>\n",
       "  </thead>\n",
       "  <tbody>\n",
       "    <tr>\n",
       "      <th>0</th>\n",
       "      <td>0.618737</td>\n",
       "      <td>0.891743</td>\n",
       "      <td>0.730568</td>\n",
       "      <td>23167.0</td>\n",
       "    </tr>\n",
       "    <tr>\n",
       "      <th>1</th>\n",
       "      <td>0.974120</td>\n",
       "      <td>0.881175</td>\n",
       "      <td>0.925319</td>\n",
       "      <td>107132.0</td>\n",
       "    </tr>\n",
       "    <tr>\n",
       "      <th>macro avg</th>\n",
       "      <td>0.796429</td>\n",
       "      <td>0.886459</td>\n",
       "      <td>0.827944</td>\n",
       "      <td>130299.0</td>\n",
       "    </tr>\n",
       "    <tr>\n",
       "      <th>weighted avg</th>\n",
       "      <td>0.910934</td>\n",
       "      <td>0.883054</td>\n",
       "      <td>0.890693</td>\n",
       "      <td>130299.0</td>\n",
       "    </tr>\n",
       "  </tbody>\n",
       "</table>\n",
       "</div>"
      ],
      "text/plain": [
       "              precision    recall  f1-score   support\n",
       "0              0.618737  0.891743  0.730568   23167.0\n",
       "1              0.974120  0.881175  0.925319  107132.0\n",
       "macro avg      0.796429  0.886459  0.827944  130299.0\n",
       "weighted avg   0.910934  0.883054  0.890693  130299.0"
      ]
     },
     "metadata": {},
     "output_type": "display_data"
    },
    {
     "name": "stdout",
     "output_type": "stream",
     "text": [
      "\n",
      "\u001b[1mConfusion Matrix using Validation Data (y_valid)\u001b[0m\n",
      "\n",
      "True Negative  : CHGOFF (0) was predicted 20659 times correctly (61.87 %)\n",
      "False Negative : CHGOFF (0) was predicted 12730 times incorrectly (38.13 %)\n",
      "True Positive  : P I F (1) was predicted 94402 times correctly (97.41 %)\n",
      "False Positive : P I F (1) was predicted 2508 times incorrectly (2.59 %)\n"
     ]
    },
    {
     "data": {
      "text/html": [
       "<div>\n",
       "<style scoped>\n",
       "    .dataframe tbody tr th:only-of-type {\n",
       "        vertical-align: middle;\n",
       "    }\n",
       "\n",
       "    .dataframe tbody tr th {\n",
       "        vertical-align: top;\n",
       "    }\n",
       "\n",
       "    .dataframe thead th {\n",
       "        text-align: right;\n",
       "    }\n",
       "</style>\n",
       "<table border=\"1\" class=\"dataframe\">\n",
       "  <thead>\n",
       "    <tr style=\"text-align: right;\">\n",
       "      <th></th>\n",
       "      <th>Metrics Summary: y_valid in %</th>\n",
       "    </tr>\n",
       "  </thead>\n",
       "  <tbody>\n",
       "    <tr>\n",
       "      <th>rmse</th>\n",
       "      <td>0.341974</td>\n",
       "    </tr>\n",
       "    <tr>\n",
       "      <th>f1_score</th>\n",
       "      <td>92.531930</td>\n",
       "    </tr>\n",
       "    <tr>\n",
       "      <th>Precision</th>\n",
       "      <td>97.412032</td>\n",
       "    </tr>\n",
       "    <tr>\n",
       "      <th>Recall Sensitivity</th>\n",
       "      <td>88.117463</td>\n",
       "    </tr>\n",
       "    <tr>\n",
       "      <th>Recall Specificity</th>\n",
       "      <td>89.174256</td>\n",
       "    </tr>\n",
       "    <tr>\n",
       "      <th>G-Mean</th>\n",
       "      <td>88.644285</td>\n",
       "    </tr>\n",
       "  </tbody>\n",
       "</table>\n",
       "</div>"
      ],
      "text/plain": [
       "                    Metrics Summary: y_valid in %\n",
       "rmse                                     0.341974\n",
       "f1_score                                92.531930\n",
       "Precision                               97.412032\n",
       "Recall Sensitivity                      88.117463\n",
       "Recall Specificity                      89.174256\n",
       "G-Mean                                  88.644285"
      ]
     },
     "metadata": {},
     "output_type": "display_data"
    },
    {
     "name": "stdout",
     "output_type": "stream",
     "text": [
      "\n",
      "CPU times: user 2min 19s, sys: 1.64 s, total: 2min 20s\n",
      "Wall time: 2min 26s\n"
     ]
    },
    {
     "data": {
      "image/png": "[encoded data removed]",
      "text/plain": [
       "<Figure size 450x450 with 1 Axes>"
      ]
     },
     "metadata": {
      "needs_background": "light"
     },
     "output_type": "display_data"
    }
   ],
   "source": [
    "%%time\n",
    "\n",
    "# run before tuning\n",
    "def RunModelrf():\n",
    "    X = pd.read_feather(final_ds)\n",
    "    #X = X.head(500)      # uncomment for testing\n",
    "    y = X.pop('MIS_Status')\n",
    "\n",
    "    modelrf = other_models(X, y)\n",
    "    modelrf.split_data(0.7)\n",
    "    modelrf.osample(os_data = [1,0,0])\n",
    "    \n",
    "    modelrf.X, modelrf.y = None, None\n",
    "    del X, y\n",
    "    gc.collect()\n",
    "    sleep(3)\n",
    "    \n",
    "    modelrf.prep_run_model(\"Metrics : Random Forest Classifier\", modelname='rfc')\n",
    "\n",
    "RunModelrf()"
   ]
  },
  {
   "cell_type": "markdown",
   "id": "3f703e5e",
   "metadata": {
    "execution": {
     "iopub.execute_input": "2022-05-17T07:15:49.429758Z",
     "iopub.status.busy": "2022-05-17T07:15:49.429388Z",
     "iopub.status.idle": "2022-05-17T07:15:49.458798Z",
     "shell.execute_reply": "2022-05-17T07:15:49.457385Z",
     "shell.execute_reply.started": "2022-05-17T07:15:49.429667Z"
    },
    "papermill": {
     "duration": 0.240737,
     "end_time": "2022-06-06T20:49:08.746958",
     "exception": false,
     "start_time": "2022-06-06T20:49:08.506221",
     "status": "completed"
    },
    "tags": []
   },
   "source": [
    "<i><a style=\"color:DarkSlateGrey\" href=\"#toc\">Back to Table Of Contents</a></i>"
   ]
  },
  {
   "cell_type": "markdown",
   "id": "4f8ff030",
   "metadata": {
    "papermill": {
     "duration": 0.233759,
     "end_time": "2022-06-06T20:49:09.232951",
     "exception": false,
     "start_time": "2022-06-06T20:49:08.999192",
     "status": "completed"
    },
    "tags": []
   },
   "source": [
    "<div style=\"font-family: Trebuchet MS;background-color:LightSteelBlue;color:Black;text-align: left;padding-top: 5px;padding-bottom: 15px;padding-left: 20px;padding-right: 10px;border-radius: 15px 50px;letter-spacing: 2px;\">\n",
    "    <b>Optuna Tuning for Random Forest</b>\n",
    "</div>"
   ]
  },
  {
   "cell_type": "markdown",
   "id": "079d8565",
   "metadata": {
    "papermill": {
     "duration": 0.241038,
     "end_time": "2022-06-06T20:49:09.708291",
     "exception": false,
     "start_time": "2022-06-06T20:49:09.467253",
     "status": "completed"
    },
    "tags": []
   },
   "source": [
    "<div class=\"alert alert-block alert-info\">  \n",
    "    This is just a simple sample implementation, for reference.</div>"
   ]
  },
  {
   "cell_type": "code",
   "execution_count": 32,
   "id": "ab234ef5",
   "metadata": {
    "execution": {
     "iopub.execute_input": "2022-06-06T20:49:10.471558Z",
     "iopub.status.busy": "2022-06-06T20:49:10.471263Z",
     "iopub.status.idle": "2022-06-06T20:50:53.364289Z",
     "shell.execute_reply": "2022-06-06T20:50:53.363479Z"
    },
    "papermill": {
     "duration": 103.466624,
     "end_time": "2022-06-06T20:50:53.594871",
     "exception": false,
     "start_time": "2022-06-06T20:49:10.128247",
     "status": "completed"
    },
    "scrolled": true,
    "tags": []
   },
   "outputs": [
    {
     "name": "stdout",
     "output_type": "stream",
     "text": [
      "\u001b[1m\u001b[94mTrial 2 done with best value: \u001b[1m\u001b[92m0.9027473437610923\u001b[1m\u001b[94m and parameters: \u001b[0m{'max_features': 0.34151091953863477, 'min_samples_split': 11, 'min_samples_leaf': 10, 'max_samples': 0.8472676351381833, 'max_depth': 13, 'n_estimators': 100}. \n",
      "\n",
      "Number of finished trials: 3\n",
      "Number of pruned trials: 0\n",
      "Number of completed trials: \u001b[1m\u001b[92m3\u001b[0m\n",
      "\u001b[1m\u001b[94mBest trial: {'max_features': 0.34151091953863477, 'min_samples_split': 11, 'min_samples_leaf': 10, 'max_samples': 0.8472676351381833, 'max_depth': 13, 'n_estimators': 100}\u001b[0m\n",
      "\n",
      "CPU times: user 1min 29s, sys: 1.13 s, total: 1min 30s\n",
      "Wall time: 1min 42s\n"
     ]
    }
   ],
   "source": [
    "%%time\n",
    "\n",
    "def RandomForestOptunaTuning():\n",
    "    X = pd.read_feather(final_ds)\n",
    "    #X = X.head(500)      # uncomment for testing\n",
    "    y = X.pop('MIS_Status')\n",
    "\n",
    "    rfo = optuna_tuning(X, y)\n",
    "    rfo.osample_Xy()\n",
    "    rfo.split_data(0.7)\n",
    "    \n",
    "    rfo.X, rfo.y = None, None\n",
    "    del X, y\n",
    "    gc.collect()\n",
    "    sleep(3)\n",
    "    \n",
    "    print(f'{mf.color.bold}Please wait, this will take time{mf.color.end}')\n",
    "    \n",
    "    nn_trials = 3\n",
    "    \n",
    "    if os.path.exists(f'{workdir}rfc_optuna_study_log.txt'):\n",
    "        os.remove(f'{workdir}rfc_optuna_study_log.txt') \n",
    "    \n",
    "    # STUDY\n",
    "    \n",
    "    # Turn off optuna log notes, to use own logging notes\n",
    "    optuna.logging.set_verbosity(optuna.logging.WARN)\n",
    "    \n",
    "    # Turn on optuna log notes\n",
    "    #optuna.logging.set_verbosity(optuna.logging.INFO)\n",
    "\n",
    "    print(f\"\\n{mf.color.bold}Finding best trial ...{mf.color.end}\")\n",
    "            \n",
    "    gt = dt.datetime.now()\n",
    "    \n",
    "    study = optuna.create_study(direction=\"maximize\")\n",
    "    \n",
    "    try:\n",
    "        # callbacks [self.save_study] is to save study in case memory fails\n",
    "        study.optimize(lambda trial: rfo.objective_rf(trial, gt), \n",
    "                        n_trials = nn_trials,\n",
    "                        callbacks = [rfo.logging_callback, rfo.save_study],\n",
    "                        gc_after_trial = True,\n",
    "                        catch = (RuntimeWarning,ArithmeticError,))\n",
    "    except MemoryError as e:\n",
    "        print(f'{mf.color.bdblue}{e} : Memory was getting low, Trial ended early{mf.color.end}')\n",
    "  \n",
    "    complete_trials = [t for t in study.trials if t.state == optuna.trial.TrialState.COMPLETE]\n",
    "    pruned_trials = [t for t in study.trials if t.state == optuna.trial.TrialState.PRUNED]\n",
    "    print()\n",
    "    print(f'Number of finished trials: {len(study.trials)}')\n",
    "    print(f'Number of pruned trials: {len(pruned_trials)}')\n",
    "    print(f'Number of completed trials: {mf.color.bdgreen}{len(complete_trials)}{mf.color.end}')\n",
    "    print(f'{mf.color.bdblue}Best trial: {study.best_trial.params}{mf.color.end}')\n",
    "    \n",
    "    joblib.dump(study, f\"{workdir}rfc_optuna_study.pkl\")   # save study\n",
    "    # jl = joblib.load(f\"{workdir}rfc_optuna_study.pkl\")   # load study\n",
    "\n",
    "    print()\n",
    "    return study\n",
    "\n",
    "study_results = RandomForestOptunaTuning()"
   ]
  },
  {
   "cell_type": "code",
   "execution_count": 33,
   "id": "9ea3ee41",
   "metadata": {
    "execution": {
     "iopub.execute_input": "2022-06-06T20:50:54.119843Z",
     "iopub.status.busy": "2022-06-06T20:50:54.119518Z",
     "iopub.status.idle": "2022-06-06T20:50:54.131562Z",
     "shell.execute_reply": "2022-06-06T20:50:54.130897Z"
    },
    "papermill": {
     "duration": 0.266595,
     "end_time": "2022-06-06T20:50:54.133505",
     "exception": false,
     "start_time": "2022-06-06T20:50:53.866910",
     "status": "completed"
    },
    "tags": []
   },
   "outputs": [
    {
     "data": {
      "text/plain": [
       "{'max_features': 0.34151091953863477,\n",
       " 'min_samples_split': 11,\n",
       " 'min_samples_leaf': 10,\n",
       " 'max_samples': 0.8472676351381833,\n",
       " 'max_depth': 13,\n",
       " 'n_estimators': 100}"
      ]
     },
     "metadata": {},
     "output_type": "display_data"
    },
    {
     "data": {
      "text/plain": [
       "0.9027473437610923"
      ]
     },
     "metadata": {},
     "output_type": "display_data"
    },
    {
     "data": {
      "text/plain": [
       "FrozenTrial(number=2, values=[0.9027473437610923], datetime_start=datetime.datetime(2022, 6, 6, 20, 50, 14, 475305), datetime_complete=datetime.datetime(2022, 6, 6, 20, 50, 53, 126772), params={'max_features': 0.34151091953863477, 'min_samples_split': 11, 'min_samples_leaf': 10, 'max_samples': 0.8472676351381833, 'max_depth': 13, 'n_estimators': 100}, distributions={'max_features': UniformDistribution(high=1.0, low=0.15), 'min_samples_split': IntUniformDistribution(high=14, low=2, step=1), 'min_samples_leaf': IntUniformDistribution(high=14, low=1, step=1), 'max_samples': UniformDistribution(high=0.99, low=0.6), 'max_depth': CategoricalDistribution(choices=(9, 11, 13)), 'n_estimators': CategoricalDistribution(choices=(100,))}, user_attrs={}, system_attrs={}, intermediate_values={1: 0.9027473437610923}, trial_id=2, state=TrialState.COMPLETE, value=None)"
      ]
     },
     "metadata": {},
     "output_type": "display_data"
    }
   ],
   "source": [
    "display(study_results.best_params) # Get best parameters for the objective function.\n",
    "\n",
    "display(study_results.best_value)  # Get best objective value.\n",
    "\n",
    "display(study_results.best_trial)  # Get best trial's information."
   ]
  },
  {
   "cell_type": "code",
   "execution_count": 34,
   "id": "0764292a",
   "metadata": {
    "execution": {
     "iopub.execute_input": "2022-06-06T20:50:54.632374Z",
     "iopub.status.busy": "2022-06-06T20:50:54.631583Z",
     "iopub.status.idle": "2022-06-06T20:50:54.638206Z",
     "shell.execute_reply": "2022-06-06T20:50:54.637488Z"
    },
    "papermill": {
     "duration": 0.25825,
     "end_time": "2022-06-06T20:50:54.640339",
     "exception": false,
     "start_time": "2022-06-06T20:50:54.382089",
     "status": "completed"
    },
    "scrolled": true,
    "tags": []
   },
   "outputs": [
    {
     "data": {
      "text/plain": [
       "{'max_features': 0.34151091953863477,\n",
       " 'min_samples_split': 11,\n",
       " 'min_samples_leaf': 10,\n",
       " 'max_samples': 0.8472676351381833,\n",
       " 'max_depth': 13,\n",
       " 'n_estimators': 100}"
      ]
     },
     "execution_count": 34,
     "metadata": {},
     "output_type": "execute_result"
    }
   ],
   "source": [
    "best_trial = study_results.best_trial.params\n",
    "best_trial"
   ]
  },
  {
   "cell_type": "code",
   "execution_count": 35,
   "id": "9c52adb6",
   "metadata": {
    "execution": {
     "iopub.execute_input": "2022-06-06T20:50:55.129021Z",
     "iopub.status.busy": "2022-06-06T20:50:55.128463Z",
     "iopub.status.idle": "2022-06-06T20:50:55.149555Z",
     "shell.execute_reply": "2022-06-06T20:50:55.148648Z"
    },
    "papermill": {
     "duration": 0.27288,
     "end_time": "2022-06-06T20:50:55.152152",
     "exception": false,
     "start_time": "2022-06-06T20:50:54.879272",
     "status": "completed"
    },
    "tags": []
   },
   "outputs": [
    {
     "data": {
      "text/html": [
       "<div>\n",
       "<style scoped>\n",
       "    .dataframe tbody tr th:only-of-type {\n",
       "        vertical-align: middle;\n",
       "    }\n",
       "\n",
       "    .dataframe tbody tr th {\n",
       "        vertical-align: top;\n",
       "    }\n",
       "\n",
       "    .dataframe thead th {\n",
       "        text-align: right;\n",
       "    }\n",
       "</style>\n",
       "<table border=\"1\" class=\"dataframe\">\n",
       "  <thead>\n",
       "    <tr style=\"text-align: right;\">\n",
       "      <th></th>\n",
       "      <th>number</th>\n",
       "      <th>value</th>\n",
       "      <th>datetime_start</th>\n",
       "      <th>datetime_complete</th>\n",
       "      <th>duration</th>\n",
       "      <th>params_max_depth</th>\n",
       "      <th>params_max_features</th>\n",
       "      <th>params_max_samples</th>\n",
       "      <th>params_min_samples_leaf</th>\n",
       "      <th>params_min_samples_split</th>\n",
       "      <th>params_n_estimators</th>\n",
       "      <th>state</th>\n",
       "    </tr>\n",
       "  </thead>\n",
       "  <tbody>\n",
       "    <tr>\n",
       "      <th>1</th>\n",
       "      <td>1</td>\n",
       "      <td>0.881693</td>\n",
       "      <td>2022-06-06 20:49:45.664793</td>\n",
       "      <td>2022-06-06 20:50:14.259415</td>\n",
       "      <td>0 days 00:00:28.594622</td>\n",
       "      <td>9</td>\n",
       "      <td>0.256373</td>\n",
       "      <td>0.707041</td>\n",
       "      <td>13</td>\n",
       "      <td>10</td>\n",
       "      <td>100</td>\n",
       "      <td>COMPLETE</td>\n",
       "    </tr>\n",
       "    <tr>\n",
       "      <th>0</th>\n",
       "      <td>0</td>\n",
       "      <td>0.897804</td>\n",
       "      <td>2022-06-06 20:49:16.394142</td>\n",
       "      <td>2022-06-06 20:49:45.435840</td>\n",
       "      <td>0 days 00:00:29.041698</td>\n",
       "      <td>9</td>\n",
       "      <td>0.794479</td>\n",
       "      <td>0.639273</td>\n",
       "      <td>12</td>\n",
       "      <td>13</td>\n",
       "      <td>100</td>\n",
       "      <td>COMPLETE</td>\n",
       "    </tr>\n",
       "  </tbody>\n",
       "</table>\n",
       "</div>"
      ],
      "text/plain": [
       "   number     value             datetime_start          datetime_complete  \\\n",
       "1       1  0.881693 2022-06-06 20:49:45.664793 2022-06-06 20:50:14.259415   \n",
       "0       0  0.897804 2022-06-06 20:49:16.394142 2022-06-06 20:49:45.435840   \n",
       "\n",
       "                duration  params_max_depth  params_max_features  \\\n",
       "1 0 days 00:00:28.594622                 9             0.256373   \n",
       "0 0 days 00:00:29.041698                 9             0.794479   \n",
       "\n",
       "   params_max_samples  params_min_samples_leaf  params_min_samples_split  \\\n",
       "1            0.707041                       13                        10   \n",
       "0            0.639273                       12                        13   \n",
       "\n",
       "   params_n_estimators     state  \n",
       "1                  100  COMPLETE  \n",
       "0                  100  COMPLETE  "
      ]
     },
     "execution_count": 35,
     "metadata": {},
     "output_type": "execute_result"
    }
   ],
   "source": [
    "# Trial results dataframe sorted from best value ascending\n",
    "ViewResultsAsDf()"
   ]
  },
  {
   "cell_type": "code",
   "execution_count": 36,
   "id": "d0a7b0cb",
   "metadata": {
    "execution": {
     "iopub.execute_input": "2022-06-06T20:50:55.685419Z",
     "iopub.status.busy": "2022-06-06T20:50:55.685148Z",
     "iopub.status.idle": "2022-06-06T20:50:55.930474Z",
     "shell.execute_reply": "2022-06-06T20:50:55.929660Z"
    },
    "papermill": {
     "duration": 0.500999,
     "end_time": "2022-06-06T20:50:55.932735",
     "exception": false,
     "start_time": "2022-06-06T20:50:55.431736",
     "status": "completed"
    },
    "tags": []
   },
   "outputs": [
    {
     "data": {
      "text/html": [
       "<div>                            <div id=\"de7f70ef-1983-41b6-a368-7081079fdefd\" class=\"plotly-graph-div\" style=\"height:525px; width:100%;\"></div>            <script type=\"text/javascript\">                require([\"plotly\"], function(Plotly) {                    window.PLOTLYENV=window.PLOTLYENV || {};                                    if (document.getElementById(\"de7f70ef-1983-41b6-a368-7081079fdefd\")) {                    Plotly.newPlot(                        \"de7f70ef-1983-41b6-a368-7081079fdefd\",                        [{\"cliponaxis\":false,\"hovertemplate\":[\"n_estimators (CategoricalDistribution): 0.0<extra></extra>\",\"min_samples_split (IntUniformDistribution): 0.10810343638325558<extra></extra>\",\"max_samples (UniformDistribution): 0.12464144910560193<extra></extra>\",\"max_depth (CategoricalDistribution): 0.1947325570936629<extra></extra>\",\"max_features (UniformDistribution): 0.21260416046808314<extra></extra>\",\"min_samples_leaf (IntUniformDistribution): 0.35991839694939637<extra></extra>\"],\"marker\":{\"color\":\"rgb(66,146,198)\"},\"orientation\":\"h\",\"text\":[\"0.0\",\"0.10810343638325558\",\"0.12464144910560193\",\"0.1947325570936629\",\"0.21260416046808314\",\"0.35991839694939637\"],\"textposition\":\"outside\",\"texttemplate\":\"%{text:.2f}\",\"x\":[0.0,0.10810343638325558,0.12464144910560193,0.1947325570936629,0.21260416046808314,0.35991839694939637],\"y\":[\"n_estimators\",\"min_samples_split\",\"max_samples\",\"max_depth\",\"max_features\",\"min_samples_leaf\"],\"type\":\"bar\"}],                        {\"showlegend\":false,\"title\":{\"text\":\"Hyperparameter Importances\"},\"xaxis\":{\"title\":{\"text\":\"Importance for Objective Value\"}},\"yaxis\":{\"title\":{\"text\":\"Hyperparameter\"}},\"template\":{\"data\":{\"histogram2dcontour\":[{\"type\":\"histogram2dcontour\",\"colorbar\":{\"outlinewidth\":0,\"ticks\":\"\"},\"colorscale\":[[0.0,\"#0d0887\"],[0.1111111111111111,\"#46039f\"],[0.2222222222222222,\"#7201a8\"],[0.3333333333333333,\"#9c179e\"],[0.4444444444444444,\"#bd3786\"],[0.5555555555555556,\"#d8576b\"],[0.6666666666666666,\"#ed7953\"],[0.7777777777777778,\"#fb9f3a\"],[0.8888888888888888,\"#fdca26\"],[1.0,\"#f0f921\"]]}],\"choropleth\":[{\"type\":\"choropleth\",\"colorbar\":{\"outlinewidth\":0,\"ticks\":\"\"}}],\"histogram2d\":[{\"type\":\"histogram2d\",\"colorbar\":{\"outlinewidth\":0,\"ticks\":\"\"},\"colorscale\":[[0.0,\"#0d0887\"],[0.1111111111111111,\"#46039f\"],[0.2222222222222222,\"#7201a8\"],[0.3333333333333333,\"#9c179e\"],[0.4444444444444444,\"#bd3786\"],[0.5555555555555556,\"#d8576b\"],[0.6666666666666666,\"#ed7953\"],[0.7777777777777778,\"#fb9f3a\"],[0.8888888888888888,\"#fdca26\"],[1.0,\"#f0f921\"]]}],\"heatmap\":[{\"type\":\"heatmap\",\"colorbar\":{\"outlinewidth\":0,\"ticks\":\"\"},\"colorscale\":[[0.0,\"#0d0887\"],[0.1111111111111111,\"#46039f\"],[0.2222222222222222,\"#7201a8\"],[0.3333333333333333,\"#9c179e\"],[0.4444444444444444,\"#bd3786\"],[0.5555555555555556,\"#d8576b\"],[0.6666666666666666,\"#ed7953\"],[0.7777777777777778,\"#fb9f3a\"],[0.8888888888888888,\"#fdca26\"],[1.0,\"#f0f921\"]]}],\"heatmapgl\":[{\"type\":\"heatmapgl\",\"colorbar\":{\"outlinewidth\":0,\"ticks\":\"\"},\"colorscale\":[[0.0,\"#0d0887\"],[0.1111111111111111,\"#46039f\"],[0.2222222222222222,\"#7201a8\"],[0.3333333333333333,\"#9c179e\"],[0.4444444444444444,\"#bd3786\"],[0.5555555555555556,\"#d8576b\"],[0.6666666666666666,\"#ed7953\"],[0.7777777777777778,\"#fb9f3a\"],[0.8888888888888888,\"#fdca26\"],[1.0,\"#f0f921\"]]}],\"contourcarpet\":[{\"type\":\"contourcarpet\",\"colorbar\":{\"outlinewidth\":0,\"ticks\":\"\"}}],\"contour\":[{\"type\":\"contour\",\"colorbar\":{\"outlinewidth\":0,\"ticks\":\"\"},\"colorscale\":[[0.0,\"#0d0887\"],[0.1111111111111111,\"#46039f\"],[0.2222222222222222,\"#7201a8\"],[0.3333333333333333,\"#9c179e\"],[0.4444444444444444,\"#bd3786\"],[0.5555555555555556,\"#d8576b\"],[0.6666666666666666,\"#ed7953\"],[0.7777777777777778,\"#fb9f3a\"],[0.8888888888888888,\"#fdca26\"],[1.0,\"#f0f921\"]]}],\"surface\":[{\"type\":\"surface\",\"colorbar\":{\"outlinewidth\":0,\"ticks\":\"\"},\"colorscale\":[[0.0,\"#0d0887\"],[0.1111111111111111,\"#46039f\"],[0.2222222222222222,\"#7201a8\"],[0.3333333333333333,\"#9c179e\"],[0.4444444444444444,\"#bd3786\"],[0.5555555555555556,\"#d8576b\"],[0.6666666666666666,\"#ed7953\"],[0.7777777777777778,\"#fb9f3a\"],[0.8888888888888888,\"#fdca26\"],[1.0,\"#f0f921\"]]}],\"mesh3d\":[{\"type\":\"mesh3d\",\"colorbar\":{\"outlinewidth\":0,\"ticks\":\"\"}}],\"scatter\":[{\"fillpattern\":{\"fillmode\":\"overlay\",\"size\":10,\"solidity\":0.2},\"type\":\"scatter\"}],\"parcoords\":[{\"type\":\"parcoords\",\"line\":{\"colorbar\":{\"outlinewidth\":0,\"ticks\":\"\"}}}],\"scatterpolargl\":[{\"type\":\"scatterpolargl\",\"marker\":{\"colorbar\":{\"outlinewidth\":0,\"ticks\":\"\"}}}],\"bar\":[{\"error_x\":{\"color\":\"#2a3f5f\"},\"error_y\":{\"color\":\"#2a3f5f\"},\"marker\":{\"line\":{\"color\":\"#E5ECF6\",\"width\":0.5},\"pattern\":{\"fillmode\":\"overlay\",\"size\":10,\"solidity\":0.2}},\"type\":\"bar\"}],\"scattergeo\":[{\"type\":\"scattergeo\",\"marker\":{\"colorbar\":{\"outlinewidth\":0,\"ticks\":\"\"}}}],\"scatterpolar\":[{\"type\":\"scatterpolar\",\"marker\":{\"colorbar\":{\"outlinewidth\":0,\"ticks\":\"\"}}}],\"histogram\":[{\"marker\":{\"pattern\":{\"fillmode\":\"overlay\",\"size\":10,\"solidity\":0.2}},\"type\":\"histogram\"}],\"scattergl\":[{\"type\":\"scattergl\",\"marker\":{\"colorbar\":{\"outlinewidth\":0,\"ticks\":\"\"}}}],\"scatter3d\":[{\"type\":\"scatter3d\",\"line\":{\"colorbar\":{\"outlinewidth\":0,\"ticks\":\"\"}},\"marker\":{\"colorbar\":{\"outlinewidth\":0,\"ticks\":\"\"}}}],\"scattermapbox\":[{\"type\":\"scattermapbox\",\"marker\":{\"colorbar\":{\"outlinewidth\":0,\"ticks\":\"\"}}}],\"scatterternary\":[{\"type\":\"scatterternary\",\"marker\":{\"colorbar\":{\"outlinewidth\":0,\"ticks\":\"\"}}}],\"scattercarpet\":[{\"type\":\"scattercarpet\",\"marker\":{\"colorbar\":{\"outlinewidth\":0,\"ticks\":\"\"}}}],\"carpet\":[{\"aaxis\":{\"endlinecolor\":\"#2a3f5f\",\"gridcolor\":\"white\",\"linecolor\":\"white\",\"minorgridcolor\":\"white\",\"startlinecolor\":\"#2a3f5f\"},\"baxis\":{\"endlinecolor\":\"#2a3f5f\",\"gridcolor\":\"white\",\"linecolor\":\"white\",\"minorgridcolor\":\"white\",\"startlinecolor\":\"#2a3f5f\"},\"type\":\"carpet\"}],\"table\":[{\"cells\":{\"fill\":{\"color\":\"#EBF0F8\"},\"line\":{\"color\":\"white\"}},\"header\":{\"fill\":{\"color\":\"#C8D4E3\"},\"line\":{\"color\":\"white\"}},\"type\":\"table\"}],\"barpolar\":[{\"marker\":{\"line\":{\"color\":\"#E5ECF6\",\"width\":0.5},\"pattern\":{\"fillmode\":\"overlay\",\"size\":10,\"solidity\":0.2}},\"type\":\"barpolar\"}],\"pie\":[{\"automargin\":true,\"type\":\"pie\"}]},\"layout\":{\"autotypenumbers\":\"strict\",\"colorway\":[\"#636efa\",\"#EF553B\",\"#00cc96\",\"#ab63fa\",\"#FFA15A\",\"#19d3f3\",\"#FF6692\",\"#B6E880\",\"#FF97FF\",\"#FECB52\"],\"font\":{\"color\":\"#2a3f5f\"},\"hovermode\":\"closest\",\"hoverlabel\":{\"align\":\"left\"},\"paper_bgcolor\":\"white\",\"plot_bgcolor\":\"#E5ECF6\",\"polar\":{\"bgcolor\":\"#E5ECF6\",\"angularaxis\":{\"gridcolor\":\"white\",\"linecolor\":\"white\",\"ticks\":\"\"},\"radialaxis\":{\"gridcolor\":\"white\",\"linecolor\":\"white\",\"ticks\":\"\"}},\"ternary\":{\"bgcolor\":\"#E5ECF6\",\"aaxis\":{\"gridcolor\":\"white\",\"linecolor\":\"white\",\"ticks\":\"\"},\"baxis\":{\"gridcolor\":\"white\",\"linecolor\":\"white\",\"ticks\":\"\"},\"caxis\":{\"gridcolor\":\"white\",\"linecolor\":\"white\",\"ticks\":\"\"}},\"coloraxis\":{\"colorbar\":{\"outlinewidth\":0,\"ticks\":\"\"}},\"colorscale\":{\"sequential\":[[0.0,\"#0d0887\"],[0.1111111111111111,\"#46039f\"],[0.2222222222222222,\"#7201a8\"],[0.3333333333333333,\"#9c179e\"],[0.4444444444444444,\"#bd3786\"],[0.5555555555555556,\"#d8576b\"],[0.6666666666666666,\"#ed7953\"],[0.7777777777777778,\"#fb9f3a\"],[0.8888888888888888,\"#fdca26\"],[1.0,\"#f0f921\"]],\"sequentialminus\":[[0.0,\"#0d0887\"],[0.1111111111111111,\"#46039f\"],[0.2222222222222222,\"#7201a8\"],[0.3333333333333333,\"#9c179e\"],[0.4444444444444444,\"#bd3786\"],[0.5555555555555556,\"#d8576b\"],[0.6666666666666666,\"#ed7953\"],[0.7777777777777778,\"#fb9f3a\"],[0.8888888888888888,\"#fdca26\"],[1.0,\"#f0f921\"]],\"diverging\":[[0,\"#8e0152\"],[0.1,\"#c51b7d\"],[0.2,\"#de77ae\"],[0.3,\"#f1b6da\"],[0.4,\"#fde0ef\"],[0.5,\"#f7f7f7\"],[0.6,\"#e6f5d0\"],[0.7,\"#b8e186\"],[0.8,\"#7fbc41\"],[0.9,\"#4d9221\"],[1,\"#276419\"]]},\"xaxis\":{\"gridcolor\":\"white\",\"linecolor\":\"white\",\"ticks\":\"\",\"title\":{\"standoff\":15},\"zerolinecolor\":\"white\",\"automargin\":true,\"zerolinewidth\":2},\"yaxis\":{\"gridcolor\":\"white\",\"linecolor\":\"white\",\"ticks\":\"\",\"title\":{\"standoff\":15},\"zerolinecolor\":\"white\",\"automargin\":true,\"zerolinewidth\":2},\"scene\":{\"xaxis\":{\"backgroundcolor\":\"#E5ECF6\",\"gridcolor\":\"white\",\"linecolor\":\"white\",\"showbackground\":true,\"ticks\":\"\",\"zerolinecolor\":\"white\",\"gridwidth\":2},\"yaxis\":{\"backgroundcolor\":\"#E5ECF6\",\"gridcolor\":\"white\",\"linecolor\":\"white\",\"showbackground\":true,\"ticks\":\"\",\"zerolinecolor\":\"white\",\"gridwidth\":2},\"zaxis\":{\"backgroundcolor\":\"#E5ECF6\",\"gridcolor\":\"white\",\"linecolor\":\"white\",\"showbackground\":true,\"ticks\":\"\",\"zerolinecolor\":\"white\",\"gridwidth\":2}},\"shapedefaults\":{\"line\":{\"color\":\"#2a3f5f\"}},\"annotationdefaults\":{\"arrowcolor\":\"#2a3f5f\",\"arrowhead\":0,\"arrowwidth\":1},\"geo\":{\"bgcolor\":\"white\",\"landcolor\":\"#E5ECF6\",\"subunitcolor\":\"white\",\"showland\":true,\"showlakes\":true,\"lakecolor\":\"white\"},\"title\":{\"x\":0.05},\"mapbox\":{\"style\":\"light\"}}}},                        {\"responsive\": true}                    ).then(function(){\n",
       "                            \n",
       "var gd = document.getElementById('de7f70ef-1983-41b6-a368-7081079fdefd');\n",
       "var x = new MutationObserver(function (mutations, observer) {{\n",
       "        var display = window.getComputedStyle(gd).display;\n",
       "        if (!display || display === 'none') {{\n",
       "            console.log([gd, 'removed!']);\n",
       "            Plotly.purge(gd);\n",
       "            observer.disconnect();\n",
       "        }}\n",
       "}});\n",
       "\n",
       "// Listen for the removal of the full notebook cells\n",
       "var notebookContainer = gd.closest('#notebook-container');\n",
       "if (notebookContainer) {{\n",
       "    x.observe(notebookContainer, {childList: true});\n",
       "}}\n",
       "\n",
       "// Listen for the clearing of the current output cell\n",
       "var outputEl = gd.closest('.output');\n",
       "if (outputEl) {{\n",
       "    x.observe(outputEl, {childList: true});\n",
       "}}\n",
       "\n",
       "                        })                };                });            </script>        </div>"
      ]
     },
     "metadata": {},
     "output_type": "display_data"
    }
   ],
   "source": [
    "#Visualize parameter importance\n",
    "optuna.visualization.plot_param_importances(study_results)"
   ]
  },
  {
   "cell_type": "markdown",
   "id": "88515abc",
   "metadata": {
    "execution": {
     "iopub.execute_input": "2022-05-17T07:15:49.429758Z",
     "iopub.status.busy": "2022-05-17T07:15:49.429388Z",
     "iopub.status.idle": "2022-05-17T07:15:49.458798Z",
     "shell.execute_reply": "2022-05-17T07:15:49.457385Z",
     "shell.execute_reply.started": "2022-05-17T07:15:49.429667Z"
    },
    "papermill": {
     "duration": 0.251636,
     "end_time": "2022-06-06T20:50:56.441106",
     "exception": false,
     "start_time": "2022-06-06T20:50:56.189470",
     "status": "completed"
    },
    "tags": []
   },
   "source": [
    "<i><a style=\"color:DarkSlateGrey\" href=\"#toc\">Back to Table Of Contents</a></i>"
   ]
  },
  {
   "cell_type": "markdown",
   "id": "37bf5222",
   "metadata": {
    "papermill": {
     "duration": 0.258724,
     "end_time": "2022-06-06T20:50:56.959578",
     "exception": false,
     "start_time": "2022-06-06T20:50:56.700854",
     "status": "completed"
    },
    "tags": []
   },
   "source": [
    "<div style=\"font-family: Trebuchet MS;background-color:LightSteelBlue;color:Black;text-align: left;padding-top: 5px;padding-bottom: 15px;padding-left: 20px;padding-right: 10px;border-radius: 15px 50px;letter-spacing: 2px;\">\n",
    "    <b>Random Forest Score With Optuna Hyperparameters</b>\n",
    "</div>"
   ]
  },
  {
   "cell_type": "code",
   "execution_count": 37,
   "id": "677aee54",
   "metadata": {
    "execution": {
     "iopub.execute_input": "2022-06-06T20:50:57.478639Z",
     "iopub.status.busy": "2022-06-06T20:50:57.478323Z",
     "iopub.status.idle": "2022-06-06T20:53:44.502926Z",
     "shell.execute_reply": "2022-06-06T20:53:44.500765Z"
    },
    "papermill": {
     "duration": 167.284115,
     "end_time": "2022-06-06T20:53:44.505232",
     "exception": false,
     "start_time": "2022-06-06T20:50:57.221117",
     "status": "completed"
    },
    "tags": []
   },
   "outputs": [
    {
     "name": "stdout",
     "output_type": "stream",
     "text": [
      "\n",
      "X_train size :  608064\n",
      "X_valid size :  130299\n",
      "X_test size  :  130300\n",
      "\n",
      "\u001b[1m\u001b[92mPlease wait, resampling train data\u001b[0m\n",
      "\n",
      "Before Resampling train -> 1 : 499948, 0 : 108116\n",
      "After Resampling  train -> 1 : 499948, 0 : 499948\n",
      "\n",
      "\u001b[1m\u001b[94mResampling \u001b[0mRuntime : 0:00:01.174509\n",
      "\n",
      "\u001b[1mPlease wait, Fitting model can take time ...\u001b[0m\n",
      "Fitting model completed.\n",
      "\n",
      "Preparing Predictions\n",
      "\u001b[4mMetrics : Random Forest Classifier\u001b[0m\n",
      "\n",
      "\u001b[1m\u001b[92mcuml Score : 89.72 %\u001b[0m\n",
      "\n",
      "\n",
      "\u001b[1my_valid RMSE    : \u001b[1m\u001b[92m\u001b[4m0.320627536090699\u001b[0m\n",
      "\n",
      "\u001b[1my_valid f1 score: \u001b[1m\u001b[92m\u001b[4m93.47562430896171 %\u001b[0m\n",
      "\n",
      "--------------------------------------------------\n",
      "\n",
      "\u001b[1mClassification Report\u001b[0m\n"
     ]
    },
    {
     "data": {
      "text/html": [
       "<div>\n",
       "<style scoped>\n",
       "    .dataframe tbody tr th:only-of-type {\n",
       "        vertical-align: middle;\n",
       "    }\n",
       "\n",
       "    .dataframe tbody tr th {\n",
       "        vertical-align: top;\n",
       "    }\n",
       "\n",
       "    .dataframe thead th {\n",
       "        text-align: right;\n",
       "    }\n",
       "</style>\n",
       "<table border=\"1\" class=\"dataframe\">\n",
       "  <thead>\n",
       "    <tr style=\"text-align: right;\">\n",
       "      <th></th>\n",
       "      <th>precision</th>\n",
       "      <th>recall</th>\n",
       "      <th>f1-score</th>\n",
       "      <th>support</th>\n",
       "    </tr>\n",
       "  </thead>\n",
       "  <tbody>\n",
       "    <tr>\n",
       "      <th>0</th>\n",
       "      <td>0.652098</td>\n",
       "      <td>0.904217</td>\n",
       "      <td>0.757736</td>\n",
       "      <td>23167.0</td>\n",
       "    </tr>\n",
       "    <tr>\n",
       "      <th>1</th>\n",
       "      <td>0.977398</td>\n",
       "      <td>0.895680</td>\n",
       "      <td>0.934756</td>\n",
       "      <td>107132.0</td>\n",
       "    </tr>\n",
       "    <tr>\n",
       "      <th>macro avg</th>\n",
       "      <td>0.814748</td>\n",
       "      <td>0.899949</td>\n",
       "      <td>0.846246</td>\n",
       "      <td>130299.0</td>\n",
       "    </tr>\n",
       "    <tr>\n",
       "      <th>weighted avg</th>\n",
       "      <td>0.919560</td>\n",
       "      <td>0.897198</td>\n",
       "      <td>0.903282</td>\n",
       "      <td>130299.0</td>\n",
       "    </tr>\n",
       "  </tbody>\n",
       "</table>\n",
       "</div>"
      ],
      "text/plain": [
       "              precision    recall  f1-score   support\n",
       "0              0.652098  0.904217  0.757736   23167.0\n",
       "1              0.977398  0.895680  0.934756  107132.0\n",
       "macro avg      0.814748  0.899949  0.846246  130299.0\n",
       "weighted avg   0.919560  0.897198  0.903282  130299.0"
      ]
     },
     "metadata": {},
     "output_type": "display_data"
    },
    {
     "name": "stdout",
     "output_type": "stream",
     "text": [
      "\n",
      "\u001b[1mConfusion Matrix using Validation Data (y_valid)\u001b[0m\n",
      "\n",
      "True Negative  : CHGOFF (0) was predicted 20948 times correctly (65.21 %)\n",
      "False Negative : CHGOFF (0) was predicted 11176 times incorrectly (34.79 %)\n",
      "True Positive  : P I F (1) was predicted 95956 times correctly (97.74 %)\n",
      "False Positive : P I F (1) was predicted 2219 times incorrectly (2.26 %)\n"
     ]
    },
    {
     "data": {
      "text/html": [
       "<div>\n",
       "<style scoped>\n",
       "    .dataframe tbody tr th:only-of-type {\n",
       "        vertical-align: middle;\n",
       "    }\n",
       "\n",
       "    .dataframe tbody tr th {\n",
       "        vertical-align: top;\n",
       "    }\n",
       "\n",
       "    .dataframe thead th {\n",
       "        text-align: right;\n",
       "    }\n",
       "</style>\n",
       "<table border=\"1\" class=\"dataframe\">\n",
       "  <thead>\n",
       "    <tr style=\"text-align: right;\">\n",
       "      <th></th>\n",
       "      <th>Metrics Summary: y_valid in %</th>\n",
       "    </tr>\n",
       "  </thead>\n",
       "  <tbody>\n",
       "    <tr>\n",
       "      <th>rmse</th>\n",
       "      <td>0.320628</td>\n",
       "    </tr>\n",
       "    <tr>\n",
       "      <th>f1_score</th>\n",
       "      <td>93.475624</td>\n",
       "    </tr>\n",
       "    <tr>\n",
       "      <th>Precision</th>\n",
       "      <td>97.739750</td>\n",
       "    </tr>\n",
       "    <tr>\n",
       "      <th>Recall Sensitivity</th>\n",
       "      <td>89.568010</td>\n",
       "    </tr>\n",
       "    <tr>\n",
       "      <th>Recall Specificity</th>\n",
       "      <td>90.421721</td>\n",
       "    </tr>\n",
       "    <tr>\n",
       "      <th>G-Mean</th>\n",
       "      <td>89.993853</td>\n",
       "    </tr>\n",
       "  </tbody>\n",
       "</table>\n",
       "</div>"
      ],
      "text/plain": [
       "                    Metrics Summary: y_valid in %\n",
       "rmse                                     0.320628\n",
       "f1_score                                93.475624\n",
       "Precision                               97.739750\n",
       "Recall Sensitivity                      89.568010\n",
       "Recall Specificity                      90.421721\n",
       "G-Mean                                  89.993853"
      ]
     },
     "metadata": {},
     "output_type": "display_data"
    },
    {
     "name": "stdout",
     "output_type": "stream",
     "text": [
      "\n",
      "CPU times: user 2min 43s, sys: 1.02 s, total: 2min 44s\n",
      "Wall time: 2min 46s\n"
     ]
    },
    {
     "data": {
      "image/png": "[encoded data removed]",
      "text/plain": [
       "<Figure size 450x450 with 1 Axes>"
      ]
     },
     "metadata": {
      "needs_background": "light"
     },
     "output_type": "display_data"
    }
   ],
   "source": [
    "%%time\n",
    "\n",
    "def RunModelrf2():\n",
    "    X = pd.read_feather(final_ds)\n",
    "    #X = X.head(500)      # uncomment for testing\n",
    "    y = X.pop('MIS_Status')\n",
    "\n",
    "    modelrf = other_models(X, y)\n",
    "    modelrf.split_data(0.7)\n",
    "    modelrf.osample(os_data = [1,0,0])\n",
    "    \n",
    "    modelrf.X, modelrf.y = None, None\n",
    "    del X, y\n",
    "    gc.collect()\n",
    "    sleep(3)\n",
    "    \n",
    "    modelrf.prep_run_model(\"Metrics : Random Forest Classifier\",\n",
    "                            modelname='rfc', hparams = best_trial)\n",
    "\n",
    "RunModelrf2()"
   ]
  },
  {
   "cell_type": "markdown",
   "id": "a7d563fe",
   "metadata": {
    "papermill": {
     "duration": 0.424064,
     "end_time": "2022-06-06T20:53:45.248032",
     "exception": false,
     "start_time": "2022-06-06T20:53:44.823968",
     "status": "completed"
    },
    "tags": []
   },
   "source": [
    "<div class=\"alert alert-block alert-info\">\n",
    "    Once again, Optuna helped us get parameters that improved the score.</div>"
   ]
  },
  {
   "cell_type": "code",
   "execution_count": 38,
   "id": "bfa1ae5a",
   "metadata": {
    "execution": {
     "iopub.execute_input": "2022-06-06T20:53:45.862599Z",
     "iopub.status.busy": "2022-06-06T20:53:45.861689Z",
     "iopub.status.idle": "2022-06-06T20:53:46.071743Z",
     "shell.execute_reply": "2022-06-06T20:53:46.070947Z"
    },
    "papermill": {
     "duration": 0.467119,
     "end_time": "2022-06-06T20:53:46.074242",
     "exception": false,
     "start_time": "2022-06-06T20:53:45.607123",
     "status": "completed"
    },
    "tags": []
   },
   "outputs": [
    {
     "data": {
      "text/plain": [
       "2327"
      ]
     },
     "execution_count": 38,
     "metadata": {},
     "output_type": "execute_result"
    }
   ],
   "source": [
    "del study_results, best_trial\n",
    "gc.collect()"
   ]
  },
  {
   "cell_type": "markdown",
   "id": "79b80134",
   "metadata": {
    "execution": {
     "iopub.execute_input": "2022-05-17T07:15:49.429758Z",
     "iopub.status.busy": "2022-05-17T07:15:49.429388Z",
     "iopub.status.idle": "2022-05-17T07:15:49.458798Z",
     "shell.execute_reply": "2022-05-17T07:15:49.457385Z",
     "shell.execute_reply.started": "2022-05-17T07:15:49.429667Z"
    },
    "papermill": {
     "duration": 0.246372,
     "end_time": "2022-06-06T20:53:46.563442",
     "exception": false,
     "start_time": "2022-06-06T20:53:46.317070",
     "status": "completed"
    },
    "tags": []
   },
   "source": [
    "<i><a style=\"color:DarkSlateGrey\" href=\"#toc\">Back to Table Of Contents</a></i>"
   ]
  },
  {
   "cell_type": "markdown",
   "id": "6902ae49",
   "metadata": {
    "papermill": {
     "duration": 0.253602,
     "end_time": "2022-06-06T20:53:47.067635",
     "exception": false,
     "start_time": "2022-06-06T20:53:46.814033",
     "status": "completed"
    },
    "tags": []
   },
   "source": [
    "<div style=\"font-family: Trebuchet MS;background-color:LightSteelBlue;color:Black;text-align: left;padding-top: 5px;padding-bottom: 15px;padding-left: 20px;padding-right: 10px;border-radius: 15px 50px;letter-spacing: 2px;\">\n",
    "    <b>RandomizedSearchCV</b>\n",
    "</div>"
   ]
  },
  {
   "cell_type": "markdown",
   "id": "9f00463e",
   "metadata": {
    "papermill": {
     "duration": 0.249412,
     "end_time": "2022-06-06T20:53:47.561896",
     "exception": false,
     "start_time": "2022-06-06T20:53:47.312484",
     "status": "completed"
    },
    "tags": []
   },
   "source": [
    "<div class=\"alert alert-block alert-info\">\n",
    "    Below is a reference on using a <b>RandomizedSearchCV</b> first for Random Forest hyperparameter tuning.<br><br>\n",
    "  Once done, one would have randomly narrowed down some parameters which we can base our inputs for a full <b>GridSearchCV</b> (not shown here).\n",
    "    <br><br>\n",
    "    Both approaches take an <b>extremely long time to run</b> using our SBA dataset, and the line to run the task is commented out.  Uncomment if you want to try.  Otherwise, <b>Optuna</b> is a much faster method.</div>"
   ]
  },
  {
   "cell_type": "code",
   "execution_count": 39,
   "id": "30d25c6a",
   "metadata": {
    "execution": {
     "iopub.execute_input": "2022-06-06T20:53:48.066752Z",
     "iopub.status.busy": "2022-06-06T20:53:48.065234Z",
     "iopub.status.idle": "2022-06-06T20:53:48.073348Z",
     "shell.execute_reply": "2022-06-06T20:53:48.072405Z"
    },
    "papermill": {
     "duration": 0.258945,
     "end_time": "2022-06-06T20:53:48.076656",
     "exception": false,
     "start_time": "2022-06-06T20:53:47.817711",
     "status": "completed"
    },
    "tags": []
   },
   "outputs": [
    {
     "name": "stdout",
     "output_type": "stream",
     "text": [
      "Default parameters in use:\n",
      "\n"
     ]
    },
    {
     "data": {
      "text/plain": [
       "{'bootstrap': True,\n",
       " 'ccp_alpha': 0.0,\n",
       " 'class_weight': None,\n",
       " 'criterion': 'gini',\n",
       " 'max_depth': None,\n",
       " 'max_features': 'auto',\n",
       " 'max_leaf_nodes': None,\n",
       " 'max_samples': None,\n",
       " 'min_impurity_decrease': 0.0,\n",
       " 'min_samples_leaf': 1,\n",
       " 'min_samples_split': 2,\n",
       " 'min_weight_fraction_leaf': 0.0,\n",
       " 'n_estimators': 100,\n",
       " 'n_jobs': None,\n",
       " 'oob_score': False,\n",
       " 'random_state': 48,\n",
       " 'verbose': 0,\n",
       " 'warm_start': False}"
      ]
     },
     "metadata": {},
     "output_type": "display_data"
    }
   ],
   "source": [
    "def ViewDefaultRFCParams():\n",
    "    rf = RandomForestClassifier(random_state = 48)\n",
    "    # Look at parameters used by our current forest\n",
    "    print('Default parameters in use:\\n')\n",
    "    display(rf.get_params())\n",
    "\n",
    "ViewDefaultRFCParams()"
   ]
  },
  {
   "cell_type": "code",
   "execution_count": 40,
   "id": "f2bdfb81",
   "metadata": {
    "execution": {
     "iopub.execute_input": "2022-06-06T20:53:48.578431Z",
     "iopub.status.busy": "2022-06-06T20:53:48.578072Z",
     "iopub.status.idle": "2022-06-06T20:53:48.589811Z",
     "shell.execute_reply": "2022-06-06T20:53:48.588943Z"
    },
    "papermill": {
     "duration": 0.266809,
     "end_time": "2022-06-06T20:53:48.592077",
     "exception": false,
     "start_time": "2022-06-06T20:53:48.325268",
     "status": "completed"
    },
    "tags": []
   },
   "outputs": [
    {
     "data": {
      "text/plain": [
       "{'n_estimators': [500, 1250, 2000],\n",
       " 'max_features': ['auto', 'sqrt'],\n",
       " 'max_depth': [6, 9, 12, 15, None],\n",
       " 'min_samples_split': [2, 5, 10],\n",
       " 'min_samples_leaf': [1, 2, 4],\n",
       " 'bootstrap': [True, False]}"
      ]
     },
     "metadata": {},
     "output_type": "display_data"
    }
   ],
   "source": [
    "from sklearn.model_selection import RandomizedSearchCV\n",
    "\n",
    "def SuggestRFCParams():\n",
    "    # Number of trees in random forest\n",
    "    n_estimators = [int(x) for x in np.linspace(start = 500, stop = 2000, num = 3)]\n",
    "    # Number of features to consider at every split\n",
    "    max_features = ['auto', 'sqrt']\n",
    "    # Maximum number of levels in tree\n",
    "    max_depth = [int(x) for x in np.linspace(6, 15, num = 4)]\n",
    "    max_depth.append(None)\n",
    "    # Minimum number of samples required to split a node\n",
    "    min_samples_split = [2, 5, 10]\n",
    "    # Minimum number of samples required at each leaf node\n",
    "    min_samples_leaf = [1, 2, 4]\n",
    "    # Method of selecting samples for training each tree\n",
    "    bootstrap = [True, False]\n",
    "    \n",
    "    # Create the random grid\n",
    "    random_grid = {'n_estimators': n_estimators,\n",
    "                   'max_features': max_features,\n",
    "                   'max_depth': max_depth,\n",
    "                   'min_samples_split': min_samples_split,\n",
    "                   'min_samples_leaf': min_samples_leaf,\n",
    "                   'bootstrap': bootstrap}\n",
    "    display(random_grid)\n",
    "    return random_grid\n",
    "\n",
    "random_grid = SuggestRFCParams()"
   ]
  },
  {
   "cell_type": "code",
   "execution_count": 41,
   "id": "0f318c04",
   "metadata": {
    "execution": {
     "iopub.execute_input": "2022-06-06T20:53:49.123563Z",
     "iopub.status.busy": "2022-06-06T20:53:49.123244Z",
     "iopub.status.idle": "2022-06-06T20:53:49.131816Z",
     "shell.execute_reply": "2022-06-06T20:53:49.130560Z"
    },
    "papermill": {
     "duration": 0.266762,
     "end_time": "2022-06-06T20:53:49.133833",
     "exception": false,
     "start_time": "2022-06-06T20:53:48.867071",
     "status": "completed"
    },
    "tags": []
   },
   "outputs": [
    {
     "name": "stdout",
     "output_type": "stream",
     "text": [
      "CPU times: user 4 µs, sys: 0 ns, total: 4 µs\n",
      "Wall time: 8.11 µs\n"
     ]
    }
   ],
   "source": [
    "%%time\n",
    "\n",
    "def RandomSearchCV(random_grid):\n",
    "    X = pd.read_feather(final_ds)\n",
    "    y = X.pop('MIS_Status')\n",
    "\n",
    "    modelrf = other_models(X, y)\n",
    "    modelrf.split_data(0.7)\n",
    "    modelrf.osample(os_data = [1,0,0])\n",
    "    \n",
    "    X_train, y_train = modelrf.X_train, modelrf.y_train\n",
    "    \n",
    "    del X, y, modelrf\n",
    "    gc.collect()\n",
    "    sleep(3)\n",
    "    \n",
    "    # Use the random grid to search for best hyperparameters\n",
    "    # First create the base model to tune\n",
    "    rf = RandomForestClassifier()\n",
    "\n",
    "    # Random search of parameters, using 3 fold cross validation, \n",
    "    # search across 100 different combinations, and use all available cores\n",
    "    rf_random = RandomizedSearchCV(estimator = rf, param_distributions = random_grid,\n",
    "                                   n_iter = 5, cv = 3, verbose=10, random_state=48)\n",
    "\n",
    "    # Fit the random search model\n",
    "    rf_random.fit(X_train, y_train)\n",
    "    \n",
    "    return rf_random.best_params_\n",
    "\n",
    "#rf_best_params = RandomSearchCV(random_grid)\n",
    "#rf_best_params"
   ]
  },
  {
   "cell_type": "code",
   "execution_count": 42,
   "id": "c540a131",
   "metadata": {
    "execution": {
     "iopub.execute_input": "2022-06-06T20:53:49.662313Z",
     "iopub.status.busy": "2022-06-06T20:53:49.661743Z",
     "iopub.status.idle": "2022-06-06T20:53:49.876773Z",
     "shell.execute_reply": "2022-06-06T20:53:49.875927Z"
    },
    "papermill": {
     "duration": 0.492774,
     "end_time": "2022-06-06T20:53:49.878798",
     "exception": false,
     "start_time": "2022-06-06T20:53:49.386024",
     "status": "completed"
    },
    "tags": []
   },
   "outputs": [
    {
     "data": {
      "text/plain": [
       "42"
      ]
     },
     "execution_count": 42,
     "metadata": {},
     "output_type": "execute_result"
    }
   ],
   "source": [
    "del random_grid #,rf_best_params \n",
    "gc.collect()"
   ]
  },
  {
   "cell_type": "markdown",
   "id": "a68b311d",
   "metadata": {
    "execution": {
     "iopub.execute_input": "2022-05-17T07:15:49.429758Z",
     "iopub.status.busy": "2022-05-17T07:15:49.429388Z",
     "iopub.status.idle": "2022-05-17T07:15:49.458798Z",
     "shell.execute_reply": "2022-05-17T07:15:49.457385Z",
     "shell.execute_reply.started": "2022-05-17T07:15:49.429667Z"
    },
    "papermill": {
     "duration": 0.25087,
     "end_time": "2022-06-06T20:53:50.382118",
     "exception": false,
     "start_time": "2022-06-06T20:53:50.131248",
     "status": "completed"
    },
    "tags": []
   },
   "source": [
    "<i><a style=\"color:DarkSlateGrey\" href=\"#toc\">Back to Table Of Contents</a></i>"
   ]
  },
  {
   "cell_type": "markdown",
   "id": "f285129d",
   "metadata": {
    "papermill": {
     "duration": 0.257172,
     "end_time": "2022-06-06T20:53:50.891427",
     "exception": false,
     "start_time": "2022-06-06T20:53:50.634255",
     "status": "completed"
    },
    "tags": []
   },
   "source": [
    "In the next notebook, we will run <b>Keras Binary Classification models, with Optuna and Keras Tuner.</b><br><br>\n",
    "<a style=\"color:DarkSlateGrey;font-size:18px\" href=\"https://www.kaggle.com/code/josephramon/sba-keras-binary-classification-and-optuna\">SBA Binary Classification, Optuna, and Keras Tuner - <i style='font-size:13px'>this will open a new browser tab</i></a>"
   ]
  }
 ],
 "metadata": {
  "kernelspec": {
   "display_name": "Python 3 (ipykernel)",
   "language": "python",
   "name": "python3"
  },
  "language_info": {
   "codemirror_mode": {
    "name": "ipython",
    "version": 3
   },
   "file_extension": ".py",
   "mimetype": "text/x-python",
   "name": "python",
   "nbconvert_exporter": "python",
   "pygments_lexer": "ipython3",
   "version": "3.8.12"
  },
  "papermill": {
   "default_parameters": {},
   "duration": 6058.346073,
   "end_time": "2022-06-06T20:53:54.678318",
   "environment_variables": {},
   "exception": null,
   "input_path": "__notebook__.ipynb",
   "output_path": "__notebook__.ipynb",
   "parameters": {},
   "start_time": "2022-06-06T19:12:56.332245",
   "version": "2.3.4"
  }
 },
 "nbformat": 4,
 "nbformat_minor": 5
}
