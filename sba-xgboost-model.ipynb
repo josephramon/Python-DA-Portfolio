{
 "cells": [
  {
   "cell_type": "markdown",
   "metadata": {},
   "source": [
    "<div style=\"font-family: Trebuchet MS;background-color:DarkCyan;color:Azure;text-align: left;padding-top: 5px;padding-bottom: 5px;padding-left: 20px;padding-right: 10px;border-radius: 15px 50px;letter-spacing: 2px;\">\n",
    "    <h1>Should This Loan be Approved or Denied ?</h1>\n",
    "\n",
    "My attempt at creating an XGBoost data model to predict whether a loan can be approved or denied.  Some notes are given to make sense of it :).\n",
    "    \n",
    "Any comments are welcome.\n",
    "</div>"
   ]
  },
  {
   "cell_type": "code",
   "execution_count": 126,
   "metadata": {
    "execution": {
     "iopub.execute_input": "2022-03-12T18:59:45.053498Z",
     "iopub.status.busy": "2022-03-12T18:59:45.053183Z",
     "iopub.status.idle": "2022-03-12T18:59:45.058059Z",
     "shell.execute_reply": "2022-03-12T18:59:45.057057Z",
     "shell.execute_reply.started": "2022-03-12T18:59:45.053466Z"
    }
   },
   "outputs": [],
   "source": [
    "# filepath = \"../input/should-this-loan-be-approved-or-denied/\"   #Kaggle\n",
    "filepath = \"C:\\\\Python\\\\Python_Data_Science_Exercises\\\\datasets\\\\\""
   ]
  },
  {
   "cell_type": "code",
   "execution_count": 127,
   "metadata": {
    "execution": {
     "iopub.execute_input": "2022-03-12T18:59:46.700632Z",
     "iopub.status.busy": "2022-03-12T18:59:46.700312Z",
     "iopub.status.idle": "2022-03-12T18:59:46.708408Z",
     "shell.execute_reply": "2022-03-12T18:59:46.707344Z",
     "shell.execute_reply.started": "2022-03-12T18:59:46.700598Z"
    }
   },
   "outputs": [],
   "source": [
    "import pandas as pd\n",
    "import seaborn as sns\n",
    "import matplotlib.pyplot as plt\n",
    "import numpy as np\n",
    "import warnings\n",
    "%matplotlib inline"
   ]
  },
  {
   "cell_type": "markdown",
   "metadata": {},
   "source": [
    "<div style=\"font-family: Trebuchet MS;background-color:DarkCyan;color:Azure;text-align: left;padding-top: 5px;padding-bottom: 5px;padding-left: 20px;padding-right: 10px;border-radius: 15px 50px;letter-spacing: 2px;\">\n",
    "<h3>1. Load File</h3></div>"
   ]
  },
  {
   "cell_type": "code",
   "execution_count": 111,
   "metadata": {
    "execution": {
     "iopub.execute_input": "2022-03-12T18:51:22.260272Z",
     "iopub.status.busy": "2022-03-12T18:51:22.259776Z",
     "iopub.status.idle": "2022-03-12T18:51:29.203780Z",
     "shell.execute_reply": "2022-03-12T18:51:29.202653Z",
     "shell.execute_reply.started": "2022-03-12T18:51:22.260205Z"
    }
   },
   "outputs": [],
   "source": [
    "sba = pd.read_csv(filepath + 'SBAnational.csv',low_memory=False)\n",
    "sba.head(2)"
   ]
  },
  {
   "cell_type": "markdown",
   "metadata": {},
   "source": [
    "<div style=\"font-family: Trebuchet MS;background-color:LightSteelBlue;color:Black;text-align: left;padding-top: 5px;padding-bottom: 5px;padding-left: 20px;padding-right: 10px;border-radius: 15px 50px;letter-spacing: 2px;\">\n",
    "    <b>Load file with some conversion</b>\n",
    "    </div>"
   ]
  },
  {
   "cell_type": "code",
   "execution_count": 128,
   "metadata": {
    "execution": {
     "iopub.execute_input": "2022-03-12T18:59:51.258740Z",
     "iopub.status.busy": "2022-03-12T18:59:51.258436Z",
     "iopub.status.idle": "2022-03-12T18:59:59.408015Z",
     "shell.execute_reply": "2022-03-12T18:59:59.407063Z",
     "shell.execute_reply.started": "2022-03-12T18:59:51.258710Z"
    }
   },
   "outputs": [],
   "source": [
    "def fixvals(val):\n",
    "    retval = val.replace('$','')\n",
    "    retval = retval.replace(',','')\n",
    "    return retval\n",
    "\n",
    "sba = pd.read_csv(filepath + 'SBAnational.csv',\\\n",
    "                 converters = {'DisbursementGross':fixvals,'SBA_Appv':fixvals,\\\n",
    "                              'GrAppv':fixvals, 'ChgOffPrinGr':fixvals}, low_memory=False)\n",
    "\n",
    "#sba = pd.read_csv(filepath + 'SBAnational.csv',\\\n",
    "#                 dtype = {'DisbursementGross':np.float64,'GrAppv':np.float64,'SBA_Appv':'float64'})"
   ]
  },
  {
   "cell_type": "code",
   "execution_count": 113,
   "metadata": {
    "execution": {
     "iopub.execute_input": "2022-03-12T18:51:50.574344Z",
     "iopub.status.busy": "2022-03-12T18:51:50.574025Z",
     "iopub.status.idle": "2022-03-12T18:51:50.626902Z",
     "shell.execute_reply": "2022-03-12T18:51:50.625981Z",
     "shell.execute_reply.started": "2022-03-12T18:51:50.574313Z"
    },
    "scrolled": true
   },
   "outputs": [],
   "source": [
    "print(\"Shape of SBA : \", sba.shape)\n",
    "sba[['DisbursementGross','SBA_Appv','GrAppv','ChgOffPrinGr']].head(2)"
   ]
  },
  {
   "cell_type": "code",
   "execution_count": 114,
   "metadata": {
    "execution": {
     "iopub.execute_input": "2022-03-12T18:51:53.209902Z",
     "iopub.status.busy": "2022-03-12T18:51:53.209574Z",
     "iopub.status.idle": "2022-03-12T18:51:53.236984Z",
     "shell.execute_reply": "2022-03-12T18:51:53.236111Z",
     "shell.execute_reply.started": "2022-03-12T18:51:53.209856Z"
    }
   },
   "outputs": [],
   "source": [
    "sba.head(2)"
   ]
  },
  {
   "cell_type": "markdown",
   "metadata": {},
   "source": [
    "<div style=\"font-family: Trebuchet MS;background-color:DarkCyan;color:Azure;text-align: left;padding-top: 5px;padding-bottom: 20px;padding-left: 20px;padding-right: 10px;border-radius: 15px 50px;letter-spacing: 2px;\">\n",
    "    <h2>2. Data Preparation</h2>\n",
    "    </div>"
   ]
  },
  {
   "cell_type": "code",
   "execution_count": 10,
   "metadata": {
    "execution": {
     "iopub.execute_input": "2022-03-12T17:48:04.085491Z",
     "iopub.status.busy": "2022-03-12T17:48:04.085161Z",
     "iopub.status.idle": "2022-03-12T17:48:04.092015Z",
     "shell.execute_reply": "2022-03-12T17:48:04.091223Z",
     "shell.execute_reply.started": "2022-03-12T17:48:04.085459Z"
    }
   },
   "outputs": [],
   "source": [
    "sba.columns"
   ]
  },
  {
   "cell_type": "code",
   "execution_count": 11,
   "metadata": {
    "execution": {
     "iopub.execute_input": "2022-03-12T17:48:06.489907Z",
     "iopub.status.busy": "2022-03-12T17:48:06.489630Z",
     "iopub.status.idle": "2022-03-12T17:48:08.148416Z",
     "shell.execute_reply": "2022-03-12T17:48:08.147326Z",
     "shell.execute_reply.started": "2022-03-12T17:48:06.489880Z"
    },
    "scrolled": true
   },
   "outputs": [],
   "source": [
    "sba.info()"
   ]
  },
  {
   "cell_type": "markdown",
   "metadata": {},
   "source": [
    "<div style=\"font-family: Trebuchet MS;background-color:DarkCyan;color:Azure;text-align: left;padding-top: 5px;padding-bottom: 15px;padding-left: 20px;padding-right: 10px;border-radius: 15px 50px;letter-spacing: 2px;\">\n",
    "    <h2>2.1 Convert dtype</h2>\n",
    "    </div>"
   ]
  },
  {
   "cell_type": "code",
   "execution_count": 129,
   "metadata": {
    "execution": {
     "iopub.execute_input": "2022-03-12T19:00:11.334483Z",
     "iopub.status.busy": "2022-03-12T19:00:11.334119Z",
     "iopub.status.idle": "2022-03-12T19:00:13.082586Z",
     "shell.execute_reply": "2022-03-12T19:00:13.081588Z",
     "shell.execute_reply.started": "2022-03-12T19:00:11.334446Z"
    }
   },
   "outputs": [],
   "source": [
    "sba = sba.astype({'DisbursementGross':np.float64,'SBA_Appv':np.float64,\\\n",
    "                              'GrAppv':np.float64, 'ChgOffPrinGr':np.float64, 'NAICS':np.str_})"
   ]
  },
  {
   "cell_type": "markdown",
   "metadata": {},
   "source": [
    "<div style=\"font-family: Trebuchet MS;background-color:DarkCyan;color:Azure;text-align: left;padding-top: 5px;padding-bottom: 15px;padding-left: 20px;padding-right: 10px;border-radius: 15px 50px;letter-spacing: 2px;\">\n",
    "    <h2>2.2 Drop rows or columns if needed</h2>\n",
    "    </div>"
   ]
  },
  {
   "cell_type": "markdown",
   "metadata": {},
   "source": [
    "<div style=\"font-family: Trebuchet MS;background-color:LightSteelBlue;color:Black;text-align: left;padding-top: 5px;padding-bottom: 5px;padding-left: 20px;padding-right: 10px;border-radius: 15px 50px;letter-spacing: 2px;\">\n",
    "    <b>Check for na's in all columns</b></div>"
   ]
  },
  {
   "cell_type": "code",
   "execution_count": 130,
   "metadata": {
    "execution": {
     "iopub.execute_input": "2022-03-12T19:00:20.582151Z",
     "iopub.status.busy": "2022-03-12T19:00:20.581485Z",
     "iopub.status.idle": "2022-03-12T19:00:54.242231Z",
     "shell.execute_reply": "2022-03-12T19:00:54.241168Z",
     "shell.execute_reply.started": "2022-03-12T19:00:20.582114Z"
    }
   },
   "outputs": [],
   "source": [
    "def check_cols_with_nulls(df):\n",
    "    cols_with_missing = [col for col in df.columns if df[col].isnull().any()]\n",
    "    if len(cols_with_missing) == 0:\n",
    "        print(\"No Missing Values\")\n",
    "    else:\n",
    "        print(cols_with_missing)\n",
    "    \n",
    "    sns.heatmap(df.isnull(),yticklabels=False,cbar=False,cmap='viridis')\n",
    "\n",
    "check_cols_with_nulls(sba)"
   ]
  },
  {
   "cell_type": "markdown",
   "metadata": {},
   "source": [
    "<div style=\"font-family: Trebuchet MS;background-color:LightSteelBlue;color:Black;text-align: left;padding-top: 5px;padding-bottom: 5px;padding-left: 20px;padding-right: 10px;border-radius: 15px 50px;letter-spacing: 2px;\">\n",
    "    <b>Column Drop 1 - drop columns deemed not needed</b>\n",
    "    </div>"
   ]
  },
  {
   "cell_type": "code",
   "execution_count": 118,
   "metadata": {
    "execution": {
     "iopub.execute_input": "2022-03-12T18:53:01.501723Z",
     "iopub.status.busy": "2022-03-12T18:53:01.501245Z",
     "iopub.status.idle": "2022-03-12T18:53:15.429627Z",
     "shell.execute_reply": "2022-03-12T18:53:15.428663Z",
     "shell.execute_reply.started": "2022-03-12T18:53:01.501684Z"
    }
   },
   "outputs": [],
   "source": [
    "# Save 1\n",
    "sba.to_csv(\"./sba_save1.csv\",index=False)"
   ]
  },
  {
   "cell_type": "code",
   "execution_count": 131,
   "metadata": {
    "execution": {
     "iopub.execute_input": "2022-03-12T19:01:02.832590Z",
     "iopub.status.busy": "2022-03-12T19:01:02.830785Z",
     "iopub.status.idle": "2022-03-12T19:01:04.358028Z",
     "shell.execute_reply": "2022-03-12T19:01:04.355429Z",
     "shell.execute_reply.started": "2022-03-12T19:01:02.832524Z"
    }
   },
   "outputs": [],
   "source": [
    "cols_to_drop = ['LoanNr_ChkDgt', 'Zip', 'Bank', 'BankState', 'ApprovalDate', 'ApprovalFY', \\\n",
    "                'ChgOffDate', 'BalanceGross']\n",
    "\n",
    "sba.drop(columns=cols_to_drop, inplace=True)"
   ]
  },
  {
   "cell_type": "code",
   "execution_count": 17,
   "metadata": {
    "execution": {
     "iopub.execute_input": "2022-03-12T17:50:06.709303Z",
     "iopub.status.busy": "2022-03-12T17:50:06.708742Z",
     "iopub.status.idle": "2022-03-12T17:50:06.737905Z",
     "shell.execute_reply": "2022-03-12T17:50:06.737082Z",
     "shell.execute_reply.started": "2022-03-12T17:50:06.709244Z"
    }
   },
   "outputs": [],
   "source": [
    "sba.head(2)"
   ]
  },
  {
   "cell_type": "markdown",
   "metadata": {},
   "source": [
    "<div style=\"font-family: Trebuchet MS;background-color:LightSteelBlue;color:Black;text-align: left;padding-top: 5px;padding-bottom: 5px;padding-left: 20px;padding-right: 10px;border-radius: 15px 50px;letter-spacing: 2px;\">\n",
    "    <b>DisbursementDate</b>\n",
    "    </div>"
   ]
  },
  {
   "cell_type": "code",
   "execution_count": 132,
   "metadata": {
    "execution": {
     "iopub.execute_input": "2022-03-12T19:01:12.107629Z",
     "iopub.status.busy": "2022-03-12T19:01:12.106982Z",
     "iopub.status.idle": "2022-03-12T19:01:12.212151Z",
     "shell.execute_reply": "2022-03-12T19:01:12.211071Z",
     "shell.execute_reply.started": "2022-03-12T19:01:12.107575Z"
    }
   },
   "outputs": [],
   "source": [
    "x = sba[sba['DisbursementDate'].isna()]\n",
    "print(x.shape)"
   ]
  },
  {
   "cell_type": "code",
   "execution_count": 133,
   "metadata": {
    "execution": {
     "iopub.execute_input": "2022-03-12T19:01:15.020571Z",
     "iopub.status.busy": "2022-03-12T19:01:15.019669Z",
     "iopub.status.idle": "2022-03-12T19:01:15.424499Z",
     "shell.execute_reply": "2022-03-12T19:01:15.423330Z",
     "shell.execute_reply.started": "2022-03-12T19:01:15.020525Z"
    },
    "scrolled": true
   },
   "outputs": [],
   "source": [
    "# Not many nulls for DisbursementDate vis-a-vis to the dataset length, so drop rows with null\n",
    "sba.dropna(subset=['DisbursementDate'], how='all', inplace=True)\n",
    "x = sba[sba['DisbursementDate'].isna()]\n",
    "print(x.shape)"
   ]
  },
  {
   "cell_type": "markdown",
   "metadata": {},
   "source": [
    "<div style=\"font-family: Trebuchet MS;background-color:LightSteelBlue;color:Black;text-align: left;padding-top: 5px;padding-bottom: 5px;padding-left: 20px;padding-right: 10px;border-radius: 15px 50px;letter-spacing: 2px;\">\n",
    "    <b>RevLineCr</b></div>"
   ]
  },
  {
   "cell_type": "code",
   "execution_count": 20,
   "metadata": {
    "execution": {
     "iopub.execute_input": "2022-03-12T17:50:23.028101Z",
     "iopub.status.busy": "2022-03-12T17:50:23.027715Z",
     "iopub.status.idle": "2022-03-12T17:50:23.368805Z",
     "shell.execute_reply": "2022-03-12T17:50:23.367858Z",
     "shell.execute_reply.started": "2022-03-12T17:50:23.028056Z"
    }
   },
   "outputs": [],
   "source": [
    "len(sba[(sba['RevLineCr'] != 'Y') & (sba['RevLineCr'] != 'N')])"
   ]
  },
  {
   "cell_type": "code",
   "execution_count": 134,
   "metadata": {
    "execution": {
     "iopub.execute_input": "2022-03-12T19:01:20.193732Z",
     "iopub.status.busy": "2022-03-12T19:01:20.193416Z",
     "iopub.status.idle": "2022-03-12T19:01:20.307010Z",
     "shell.execute_reply": "2022-03-12T19:01:20.305979Z",
     "shell.execute_reply.started": "2022-03-12T19:01:20.193697Z"
    }
   },
   "outputs": [],
   "source": [
    "# too many unknowns, drop 'RevlineCr'\n",
    "sba.drop(columns=['RevLineCr'],inplace=True)\n",
    "'RevLineCR' in sba.columns"
   ]
  },
  {
   "cell_type": "markdown",
   "metadata": {},
   "source": [
    "<div style=\"font-family: Trebuchet MS;background-color:LightSteelBlue;color:Black;text-align: left;padding-top: 5px;padding-bottom: 5px;padding-left: 20px;padding-right: 10px;border-radius: 15px 50px;letter-spacing: 2px;\">\n",
    "    <b>LowDoc</b></div>"
   ]
  },
  {
   "cell_type": "code",
   "execution_count": 22,
   "metadata": {
    "execution": {
     "iopub.execute_input": "2022-03-12T17:50:48.079702Z",
     "iopub.status.busy": "2022-03-12T17:50:48.079401Z",
     "iopub.status.idle": "2022-03-12T17:50:48.183492Z",
     "shell.execute_reply": "2022-03-12T17:50:48.182385Z",
     "shell.execute_reply.started": "2022-03-12T17:50:48.079673Z"
    }
   },
   "outputs": [],
   "source": [
    "sba['LowDoc'].isna().sum()"
   ]
  },
  {
   "cell_type": "code",
   "execution_count": 23,
   "metadata": {
    "execution": {
     "iopub.execute_input": "2022-03-12T17:50:51.168160Z",
     "iopub.status.busy": "2022-03-12T17:50:51.167648Z",
     "iopub.status.idle": "2022-03-12T17:50:51.446327Z",
     "shell.execute_reply": "2022-03-12T17:50:51.445648Z",
     "shell.execute_reply.started": "2022-03-12T17:50:51.168126Z"
    }
   },
   "outputs": [],
   "source": [
    "len(sba[(sba['LowDoc'] != 'Y') & (sba['LowDoc'] != 'N')])"
   ]
  },
  {
   "cell_type": "code",
   "execution_count": 24,
   "metadata": {
    "execution": {
     "iopub.execute_input": "2022-03-12T17:50:53.916748Z",
     "iopub.status.busy": "2022-03-12T17:50:53.916482Z",
     "iopub.status.idle": "2022-03-12T17:50:55.140006Z",
     "shell.execute_reply": "2022-03-12T17:50:55.139351Z",
     "shell.execute_reply.started": "2022-03-12T17:50:53.916721Z"
    }
   },
   "outputs": [],
   "source": [
    "sns.countplot(x='LowDoc',data=sba)"
   ]
  },
  {
   "cell_type": "markdown",
   "metadata": {},
   "source": [
    "* **LowDoc seems to have a bearing**"
   ]
  },
  {
   "cell_type": "code",
   "execution_count": 135,
   "metadata": {
    "execution": {
     "iopub.execute_input": "2022-03-12T19:01:28.793918Z",
     "iopub.status.busy": "2022-03-12T19:01:28.793631Z",
     "iopub.status.idle": "2022-03-12T19:01:29.467641Z",
     "shell.execute_reply": "2022-03-12T19:01:29.466780Z",
     "shell.execute_reply.started": "2022-03-12T19:01:28.793889Z"
    }
   },
   "outputs": [],
   "source": [
    "# 5965 records that are not 'Y' or 'N', we can drop these rows\n",
    "sba = sba[(sba['LowDoc'] == 'Y') | (sba['LowDoc'] == 'N')]\n",
    "len(sba[(sba['LowDoc'] != 'Y') & (sba['LowDoc'] != 'N')])"
   ]
  },
  {
   "cell_type": "code",
   "execution_count": 26,
   "metadata": {
    "execution": {
     "iopub.execute_input": "2022-03-12T17:51:03.609167Z",
     "iopub.status.busy": "2022-03-12T17:51:03.608469Z",
     "iopub.status.idle": "2022-03-12T17:51:04.024527Z",
     "shell.execute_reply": "2022-03-12T17:51:04.023489Z",
     "shell.execute_reply.started": "2022-03-12T17:51:03.609118Z"
    }
   },
   "outputs": [],
   "source": [
    "len(sba[(sba['LowDoc'] == 'Y') | (sba['LowDoc'] == 'N')])"
   ]
  },
  {
   "cell_type": "markdown",
   "metadata": {},
   "source": [
    "<div style=\"font-family: Trebuchet MS;background-color:LightSteelBlue;color:Black;text-align: left;padding-top: 5px;padding-bottom: 5px;padding-left: 20px;padding-right: 10px;border-radius: 15px 50px;letter-spacing: 2px;\">\n",
    "    <b>NewExist</b>"
   ]
  },
  {
   "cell_type": "code",
   "execution_count": 27,
   "metadata": {
    "execution": {
     "iopub.execute_input": "2022-03-12T17:51:11.044757Z",
     "iopub.status.busy": "2022-03-12T17:51:11.044460Z",
     "iopub.status.idle": "2022-03-12T17:51:11.055110Z",
     "shell.execute_reply": "2022-03-12T17:51:11.054300Z",
     "shell.execute_reply.started": "2022-03-12T17:51:11.044727Z"
    }
   },
   "outputs": [],
   "source": [
    "len(sba[(sba['NewExist'] != 1) & (sba['NewExist'] != 2)])"
   ]
  },
  {
   "cell_type": "code",
   "execution_count": 28,
   "metadata": {
    "execution": {
     "iopub.execute_input": "2022-03-12T17:51:21.076868Z",
     "iopub.status.busy": "2022-03-12T17:51:21.076597Z",
     "iopub.status.idle": "2022-03-12T17:51:21.303936Z",
     "shell.execute_reply": "2022-03-12T17:51:21.302961Z",
     "shell.execute_reply.started": "2022-03-12T17:51:21.076839Z"
    }
   },
   "outputs": [],
   "source": [
    "sns.countplot(x='NewExist',data=sba)"
   ]
  },
  {
   "cell_type": "code",
   "execution_count": 136,
   "metadata": {
    "execution": {
     "iopub.execute_input": "2022-03-12T19:01:43.378516Z",
     "iopub.status.busy": "2022-03-12T19:01:43.378192Z",
     "iopub.status.idle": "2022-03-12T19:01:43.517209Z",
     "shell.execute_reply": "2022-03-12T19:01:43.516233Z",
     "shell.execute_reply.started": "2022-03-12T19:01:43.378482Z"
    }
   },
   "outputs": [],
   "source": [
    "# 1154 records that are not 1 or 2, we can drop these rows as NewExist seems to have a bearing\n",
    "sba = sba[(sba['NewExist'] == 1) | (sba['NewExist'] == 2)]\n",
    "len(sba[(sba['NewExist'] != 1) & (sba['NewExist'] != 2)])"
   ]
  },
  {
   "cell_type": "code",
   "execution_count": 30,
   "metadata": {
    "execution": {
     "iopub.execute_input": "2022-03-12T17:51:27.501711Z",
     "iopub.status.busy": "2022-03-12T17:51:27.501404Z",
     "iopub.status.idle": "2022-03-12T17:51:27.632908Z",
     "shell.execute_reply": "2022-03-12T17:51:27.631878Z",
     "shell.execute_reply.started": "2022-03-12T17:51:27.501677Z"
    }
   },
   "outputs": [],
   "source": [
    "len(sba[(sba['NewExist'] == 1) | (sba['NewExist'] == 2)])"
   ]
  },
  {
   "cell_type": "code",
   "execution_count": 137,
   "metadata": {
    "execution": {
     "iopub.execute_input": "2022-03-12T19:01:46.477372Z",
     "iopub.status.busy": "2022-03-12T19:01:46.477081Z",
     "iopub.status.idle": "2022-03-12T19:01:46.564418Z",
     "shell.execute_reply": "2022-03-12T19:01:46.563357Z",
     "shell.execute_reply.started": "2022-03-12T19:01:46.477343Z"
    }
   },
   "outputs": [],
   "source": [
    "# ideally, convert dtype to int32\n",
    "sba = sba.astype({'NewExist':np.int32})"
   ]
  },
  {
   "cell_type": "markdown",
   "metadata": {},
   "source": [
    "<div style=\"font-family: Trebuchet MS;background-color:LightSteelBlue;color:Black;text-align: left;padding-top: 5px;padding-bottom: 5px;padding-left: 20px;padding-right: 10px;border-radius: 15px 50px;letter-spacing: 2px;\">\n",
    "    <b>CreateJob</b></div>"
   ]
  },
  {
   "cell_type": "code",
   "execution_count": 32,
   "metadata": {
    "execution": {
     "iopub.execute_input": "2022-03-12T17:51:35.779750Z",
     "iopub.status.busy": "2022-03-12T17:51:35.778641Z",
     "iopub.status.idle": "2022-03-12T17:51:36.515619Z",
     "shell.execute_reply": "2022-03-12T17:51:36.513155Z",
     "shell.execute_reply.started": "2022-03-12T17:51:35.779702Z"
    }
   },
   "outputs": [],
   "source": [
    "len(sba[sba['CreateJob'].isna() == True])"
   ]
  },
  {
   "cell_type": "markdown",
   "metadata": {},
   "source": [
    "<div style=\"font-family: Trebuchet MS;background-color:LightSteelBlue;color:Black;text-align: left;padding-top: 5px;padding-bottom: 5px;padding-left: 20px;padding-right: 10px;border-radius: 15px 50px;letter-spacing: 2px;\">\n",
    "    <b>RetainedJob</b></div>"
   ]
  },
  {
   "cell_type": "code",
   "execution_count": 33,
   "metadata": {
    "execution": {
     "iopub.execute_input": "2022-03-12T17:51:40.585145Z",
     "iopub.status.busy": "2022-03-12T17:51:40.584140Z",
     "iopub.status.idle": "2022-03-12T17:51:40.598513Z",
     "shell.execute_reply": "2022-03-12T17:51:40.597674Z",
     "shell.execute_reply.started": "2022-03-12T17:51:40.585090Z"
    }
   },
   "outputs": [],
   "source": [
    "len(sba[sba['RetainedJob'].isna() == True])"
   ]
  },
  {
   "cell_type": "markdown",
   "metadata": {},
   "source": [
    "<div style=\"font-family: Trebuchet MS;background-color:LightSteelBlue;color:Black;text-align: left;padding-top: 5px;padding-bottom: 5px;padding-left: 20px;padding-right: 10px;border-radius: 15px 50px;letter-spacing: 2px;\">\n",
    "    <b>FranchiseCode</b></div>"
   ]
  },
  {
   "cell_type": "code",
   "execution_count": 34,
   "metadata": {
    "execution": {
     "iopub.execute_input": "2022-03-12T17:51:42.698998Z",
     "iopub.status.busy": "2022-03-12T17:51:42.698398Z",
     "iopub.status.idle": "2022-03-12T17:51:42.706875Z",
     "shell.execute_reply": "2022-03-12T17:51:42.706098Z",
     "shell.execute_reply.started": "2022-03-12T17:51:42.698945Z"
    }
   },
   "outputs": [],
   "source": [
    "len(sba[sba['FranchiseCode'].isna()])"
   ]
  },
  {
   "cell_type": "markdown",
   "metadata": {},
   "source": [
    "<div style=\"font-family: Trebuchet MS;background-color:LightSteelBlue;color:Black;text-align: left;padding-top: 5px;padding-bottom: 5px;padding-left: 20px;padding-right: 10px;border-radius: 15px 50px;letter-spacing: 2px;\">\n",
    "    <b>UrbanRural</b></div>"
   ]
  },
  {
   "cell_type": "code",
   "execution_count": 35,
   "metadata": {
    "execution": {
     "iopub.execute_input": "2022-03-12T17:51:46.530147Z",
     "iopub.status.busy": "2022-03-12T17:51:46.529845Z",
     "iopub.status.idle": "2022-03-12T17:51:46.547880Z",
     "shell.execute_reply": "2022-03-12T17:51:46.546990Z",
     "shell.execute_reply.started": "2022-03-12T17:51:46.530113Z"
    }
   },
   "outputs": [],
   "source": [
    "print(len(sba[sba['UrbanRural'].isna()]))\n",
    "sba['UrbanRural'].unique()"
   ]
  },
  {
   "cell_type": "markdown",
   "metadata": {},
   "source": [
    "<div style=\"font-family: Trebuchet MS;background-color:LightSteelBlue;color:Black;text-align: left;padding-top: 5px;padding-bottom: 5px;padding-left: 20px;padding-right: 10px;border-radius: 15px 50px;letter-spacing: 2px;\">\n",
    "    <b>NoEmp</b></div>"
   ]
  },
  {
   "cell_type": "code",
   "execution_count": 36,
   "metadata": {
    "execution": {
     "iopub.execute_input": "2022-03-12T17:51:54.613073Z",
     "iopub.status.busy": "2022-03-12T17:51:54.612471Z",
     "iopub.status.idle": "2022-03-12T17:51:54.620714Z",
     "shell.execute_reply": "2022-03-12T17:51:54.620065Z",
     "shell.execute_reply.started": "2022-03-12T17:51:54.613023Z"
    }
   },
   "outputs": [],
   "source": [
    "len(sba[sba['NoEmp'].isna()])"
   ]
  },
  {
   "cell_type": "markdown",
   "metadata": {},
   "source": [
    "<div style=\"font-family: Trebuchet MS;background-color:LightSteelBlue;color:Black;text-align: left;padding-top: 5px;padding-bottom: 5px;padding-left: 20px;padding-right: 10px;border-radius: 15px 50px;letter-spacing: 2px;\">\n",
    "    <b>Term</b></div>"
   ]
  },
  {
   "cell_type": "code",
   "execution_count": 37,
   "metadata": {
    "execution": {
     "iopub.execute_input": "2022-03-12T17:51:58.683782Z",
     "iopub.status.busy": "2022-03-12T17:51:58.683142Z",
     "iopub.status.idle": "2022-03-12T17:51:58.700216Z",
     "shell.execute_reply": "2022-03-12T17:51:58.699185Z",
     "shell.execute_reply.started": "2022-03-12T17:51:58.683733Z"
    }
   },
   "outputs": [],
   "source": [
    "print(len(sba[sba['Term'].isna()]))\n",
    "print(len(sba[sba['Term']==0]))\n",
    "print(len(sba[sba['Term']<0]))"
   ]
  },
  {
   "cell_type": "markdown",
   "metadata": {},
   "source": [
    "<div style=\"font-family: Trebuchet MS;background-color:LightSteelBlue;color:Black;text-align: left;padding-top: 5px;padding-bottom: 5px;padding-left: 20px;padding-right: 10px;border-radius: 15px 50px;letter-spacing: 2px;\">\n",
    "    <b>City</b></div>"
   ]
  },
  {
   "cell_type": "code",
   "execution_count": 38,
   "metadata": {
    "execution": {
     "iopub.execute_input": "2022-03-12T17:52:02.794351Z",
     "iopub.status.busy": "2022-03-12T17:52:02.793314Z",
     "iopub.status.idle": "2022-03-12T17:52:02.908278Z",
     "shell.execute_reply": "2022-03-12T17:52:02.907408Z",
     "shell.execute_reply.started": "2022-03-12T17:52:02.794297Z"
    }
   },
   "outputs": [],
   "source": [
    "len(sba[sba['City'].isna()])"
   ]
  },
  {
   "cell_type": "code",
   "execution_count": 138,
   "metadata": {
    "execution": {
     "iopub.execute_input": "2022-03-12T19:02:27.030120Z",
     "iopub.status.busy": "2022-03-12T19:02:27.029282Z",
     "iopub.status.idle": "2022-03-12T19:02:27.622555Z",
     "shell.execute_reply": "2022-03-12T19:02:27.621558Z",
     "shell.execute_reply.started": "2022-03-12T19:02:27.030074Z"
    }
   },
   "outputs": [],
   "source": [
    "# drop na in City column\n",
    "sba = sba[sba['City'].notna()]\n",
    "len(sba[sba['City'].isna()])"
   ]
  },
  {
   "cell_type": "code",
   "execution_count": 40,
   "metadata": {
    "execution": {
     "iopub.execute_input": "2022-03-12T17:52:08.980301Z",
     "iopub.status.busy": "2022-03-12T17:52:08.979916Z",
     "iopub.status.idle": "2022-03-12T17:52:09.004200Z",
     "shell.execute_reply": "2022-03-12T17:52:09.002796Z",
     "shell.execute_reply.started": "2022-03-12T17:52:08.980237Z"
    }
   },
   "outputs": [],
   "source": [
    "sba.head(2)"
   ]
  },
  {
   "cell_type": "code",
   "execution_count": 139,
   "metadata": {
    "execution": {
     "iopub.execute_input": "2022-03-12T19:02:32.754726Z",
     "iopub.status.busy": "2022-03-12T19:02:32.754442Z",
     "iopub.status.idle": "2022-03-12T19:02:33.194602Z",
     "shell.execute_reply": "2022-03-12T19:02:33.193531Z",
     "shell.execute_reply.started": "2022-03-12T19:02:32.754689Z"
    }
   },
   "outputs": [],
   "source": [
    "# Trim leading and trailing spaces\n",
    "sba['City'] = sba['City'].str.strip()"
   ]
  },
  {
   "cell_type": "markdown",
   "metadata": {},
   "source": [
    "<div style=\"font-family: Trebuchet MS;background-color:LightSteelBlue;color:Black;text-align: left;padding-top: 5px;padding-bottom: 5px;padding-left: 20px;padding-right: 10px;border-radius: 15px 50px;letter-spacing: 2px;\">\n",
    "    <b>State</b></div>"
   ]
  },
  {
   "cell_type": "code",
   "execution_count": 42,
   "metadata": {
    "execution": {
     "iopub.execute_input": "2022-03-12T17:52:16.247351Z",
     "iopub.status.busy": "2022-03-12T17:52:16.247080Z",
     "iopub.status.idle": "2022-03-12T17:52:16.348911Z",
     "shell.execute_reply": "2022-03-12T17:52:16.347823Z",
     "shell.execute_reply.started": "2022-03-12T17:52:16.247323Z"
    }
   },
   "outputs": [],
   "source": [
    "len(sba[sba['State'].isna()])"
   ]
  },
  {
   "cell_type": "code",
   "execution_count": 140,
   "metadata": {
    "execution": {
     "iopub.execute_input": "2022-03-12T19:02:41.183598Z",
     "iopub.status.busy": "2022-03-12T19:02:41.183269Z",
     "iopub.status.idle": "2022-03-12T19:02:41.489464Z",
     "shell.execute_reply": "2022-03-12T19:02:41.488768Z",
     "shell.execute_reply.started": "2022-03-12T19:02:41.183558Z"
    }
   },
   "outputs": [],
   "source": [
    "# drop na in State column\n",
    "sba = sba[sba['State'].notna()]\n",
    "len(sba[sba['State'].isna()])"
   ]
  },
  {
   "cell_type": "markdown",
   "metadata": {},
   "source": [
    "<div style=\"font-family: Trebuchet MS;background-color:IndianRed;color:AliceBlue;text-align: left;padding-top: 5px;padding-bottom: 5px;padding-left: 20px;padding-right: 10px;border-radius: 15px 50px;letter-spacing: 2px;\">\n",
    "    <b>MIS_Status<b> - this is the **target** variable</div>"
   ]
  },
  {
   "cell_type": "code",
   "execution_count": 44,
   "metadata": {
    "execution": {
     "iopub.execute_input": "2022-03-12T17:52:23.517852Z",
     "iopub.status.busy": "2022-03-12T17:52:23.516780Z",
     "iopub.status.idle": "2022-03-12T17:52:23.624273Z",
     "shell.execute_reply": "2022-03-12T17:52:23.623034Z",
     "shell.execute_reply.started": "2022-03-12T17:52:23.517791Z"
    }
   },
   "outputs": [],
   "source": [
    "len(sba.loc[sba['MIS_Status'].isna()])"
   ]
  },
  {
   "cell_type": "code",
   "execution_count": 141,
   "metadata": {
    "execution": {
     "iopub.execute_input": "2022-03-12T19:02:54.994687Z",
     "iopub.status.busy": "2022-03-12T19:02:54.993806Z",
     "iopub.status.idle": "2022-03-12T19:02:55.354842Z",
     "shell.execute_reply": "2022-03-12T19:02:55.353934Z",
     "shell.execute_reply.started": "2022-03-12T19:02:54.994646Z"
    }
   },
   "outputs": [],
   "source": [
    "# drop na in 'MIS_Status' column\n",
    "sba = sba[sba['MIS_Status'].notna()]\n",
    "len(sba[sba['MIS_Status'].isna()])"
   ]
  },
  {
   "cell_type": "markdown",
   "metadata": {},
   "source": [
    "<div style=\"font-family: Trebuchet MS;background-color:LightSteelBlue;color:Black;text-align: left;padding-top: 5px;padding-bottom: 5px;padding-left: 20px;padding-right: 10px;border-radius: 15px 50px;letter-spacing: 2px;\">\n",
    "    <b>NAICS</b></div>"
   ]
  },
  {
   "cell_type": "code",
   "execution_count": 46,
   "metadata": {
    "execution": {
     "iopub.execute_input": "2022-03-12T17:52:29.354378Z",
     "iopub.status.busy": "2022-03-12T17:52:29.354066Z",
     "iopub.status.idle": "2022-03-12T17:52:29.455928Z",
     "shell.execute_reply": "2022-03-12T17:52:29.454881Z",
     "shell.execute_reply.started": "2022-03-12T17:52:29.354344Z"
    }
   },
   "outputs": [],
   "source": [
    "len(sba[sba['NAICS'].isna()])"
   ]
  },
  {
   "cell_type": "markdown",
   "metadata": {},
   "source": [
    "<div style=\"font-family: Trebuchet MS;background-color:LightSteelBlue;color:Black;text-align: left;padding-top: 5px;padding-bottom: 5px;padding-left: 20px;padding-right: 10px;border-radius: 15px 50px;letter-spacing: 2px;\">\n",
    "    <b>Name</b> - keeping this feature temporarily, in case it is needed\n",
    "    </div>"
   ]
  },
  {
   "cell_type": "code",
   "execution_count": 47,
   "metadata": {
    "execution": {
     "iopub.execute_input": "2022-03-12T17:52:32.632162Z",
     "iopub.status.busy": "2022-03-12T17:52:32.631882Z",
     "iopub.status.idle": "2022-03-12T17:52:32.741862Z",
     "shell.execute_reply": "2022-03-12T17:52:32.740855Z",
     "shell.execute_reply.started": "2022-03-12T17:52:32.632134Z"
    }
   },
   "outputs": [],
   "source": [
    "len(sba[sba['Name'].isna()])"
   ]
  },
  {
   "cell_type": "code",
   "execution_count": 142,
   "metadata": {
    "execution": {
     "iopub.execute_input": "2022-03-12T19:03:03.812127Z",
     "iopub.status.busy": "2022-03-12T19:03:03.811758Z",
     "iopub.status.idle": "2022-03-12T19:03:04.204058Z",
     "shell.execute_reply": "2022-03-12T19:03:04.203109Z",
     "shell.execute_reply.started": "2022-03-12T19:03:03.812020Z"
    }
   },
   "outputs": [],
   "source": [
    "# drop rows with na in column 'Name'\n",
    "sba.dropna(subset=['Name'], how='all', inplace=True)\n",
    "len(sba[sba['Name'].isna()])"
   ]
  },
  {
   "cell_type": "markdown",
   "metadata": {},
   "source": [
    "<div style=\"font-family: Trebuchet MS;background-color:LightSteelBlue;color:Black;text-align: left;padding-top: 5px;padding-bottom: 5px;padding-left: 20px;padding-right: 10px;border-radius: 15px 50px;letter-spacing: 2px;\">\n",
    "    <b>Check for na's in all columns</b></div>"
   ]
  },
  {
   "cell_type": "code",
   "execution_count": 49,
   "metadata": {
    "execution": {
     "iopub.execute_input": "2022-03-12T17:52:42.441984Z",
     "iopub.status.busy": "2022-03-12T17:52:42.441135Z",
     "iopub.status.idle": "2022-03-12T17:53:04.164468Z",
     "shell.execute_reply": "2022-03-12T17:53:04.163334Z",
     "shell.execute_reply.started": "2022-03-12T17:52:42.441938Z"
    }
   },
   "outputs": [],
   "source": [
    "check_cols_with_nulls(sba)  # this function was defined earlier above"
   ]
  },
  {
   "cell_type": "code",
   "execution_count": 143,
   "metadata": {
    "execution": {
     "iopub.execute_input": "2022-03-12T19:03:15.977916Z",
     "iopub.status.busy": "2022-03-12T19:03:15.977638Z",
     "iopub.status.idle": "2022-03-12T19:03:25.654461Z",
     "shell.execute_reply": "2022-03-12T19:03:25.653314Z",
     "shell.execute_reply.started": "2022-03-12T19:03:15.977888Z"
    }
   },
   "outputs": [],
   "source": [
    "# Save 2\n",
    "sba.to_csv(\"./sba_save2.csv\",index=False)"
   ]
  },
  {
   "cell_type": "markdown",
   "metadata": {},
   "source": [
    "<div style=\"font-family: Trebuchet MS;background-color:DarkCyan;color:Azure;text-align: left;padding-top: 5px;padding-bottom: 5px;padding-left: 20px;padding-right: 10px;border-radius: 15px 50px;letter-spacing: 2px;\">\n",
    "    <h2>2.3 Create New Features</h2>\n",
    "    </div>"
   ]
  },
  {
   "cell_type": "markdown",
   "metadata": {},
   "source": [
    "<div style=\"font-family: Trebuchet MS;background-color:LightSteelBlue;color:Black;text-align: left;padding-top: 5px;padding-bottom: 5px;padding-left: 20px;padding-right: 10px;border-radius: 15px 50px;letter-spacing: 2px;\">\n",
    "    <b>Industry</b> - The industry sector is the 1st 2 digits of NAICS\n",
    "    </div>"
   ]
  },
  {
   "cell_type": "code",
   "execution_count": 144,
   "metadata": {
    "execution": {
     "iopub.execute_input": "2022-03-12T19:03:32.737062Z",
     "iopub.status.busy": "2022-03-12T19:03:32.736794Z",
     "iopub.status.idle": "2022-03-12T19:03:33.500191Z",
     "shell.execute_reply": "2022-03-12T19:03:33.499317Z",
     "shell.execute_reply.started": "2022-03-12T19:03:32.737035Z"
    }
   },
   "outputs": [],
   "source": [
    "sba['Industry'] = sba['NAICS'].str[0:2]\n",
    "sba = sba.astype({'Industry':np.int32})"
   ]
  },
  {
   "cell_type": "code",
   "execution_count": 52,
   "metadata": {
    "execution": {
     "iopub.execute_input": "2022-03-12T17:53:32.944925Z",
     "iopub.status.busy": "2022-03-12T17:53:32.944644Z",
     "iopub.status.idle": "2022-03-12T17:53:32.952805Z",
     "shell.execute_reply": "2022-03-12T17:53:32.951907Z",
     "shell.execute_reply.started": "2022-03-12T17:53:32.944896Z"
    }
   },
   "outputs": [],
   "source": [
    "sba['Industry'].head(2)"
   ]
  },
  {
   "cell_type": "code",
   "execution_count": 53,
   "metadata": {
    "execution": {
     "iopub.execute_input": "2022-03-12T17:53:36.267680Z",
     "iopub.status.busy": "2022-03-12T17:53:36.266952Z",
     "iopub.status.idle": "2022-03-12T17:53:36.278572Z",
     "shell.execute_reply": "2022-03-12T17:53:36.277925Z",
     "shell.execute_reply.started": "2022-03-12T17:53:36.267639Z"
    }
   },
   "outputs": [],
   "source": [
    "sba['Industry'].unique()\n",
    "# There is an invalid industry shown which is '0', caused by blank NAICS"
   ]
  },
  {
   "cell_type": "code",
   "execution_count": 54,
   "metadata": {
    "execution": {
     "iopub.execute_input": "2022-03-12T17:53:39.249240Z",
     "iopub.status.busy": "2022-03-12T17:53:39.248705Z",
     "iopub.status.idle": "2022-03-12T17:53:39.647375Z",
     "shell.execute_reply": "2022-03-12T17:53:39.646499Z",
     "shell.execute_reply.started": "2022-03-12T17:53:39.249189Z"
    }
   },
   "outputs": [],
   "source": [
    "len(sba[sba['Industry'] == 0])\n",
    "# This is a bummer, as industry sector has a big effect on a business, speaking as a business \n",
    "# domain expert.  Do we drop those with NAICS = 0 ?"
   ]
  },
  {
   "cell_type": "code",
   "execution_count": 145,
   "metadata": {
    "execution": {
     "iopub.execute_input": "2022-03-12T19:03:41.827725Z",
     "iopub.status.busy": "2022-03-12T19:03:41.827438Z",
     "iopub.status.idle": "2022-03-12T19:03:42.229006Z",
     "shell.execute_reply": "2022-03-12T19:03:42.228312Z",
     "shell.execute_reply.started": "2022-03-12T19:03:41.827695Z"
    }
   },
   "outputs": [],
   "source": [
    "# At this stage, we leave it as is and treat it as unknown industry.  We can now drop NAICS\n",
    "\n",
    "sba.drop(columns=['NAICS'], inplace=True)\n",
    "sba.head(2)"
   ]
  },
  {
   "cell_type": "code",
   "execution_count": 56,
   "metadata": {
    "execution": {
     "iopub.execute_input": "2022-03-12T17:53:48.736544Z",
     "iopub.status.busy": "2022-03-12T17:53:48.735978Z",
     "iopub.status.idle": "2022-03-12T17:53:49.693552Z",
     "shell.execute_reply": "2022-03-12T17:53:49.692661Z",
     "shell.execute_reply.started": "2022-03-12T17:53:48.736501Z"
    }
   },
   "outputs": [],
   "source": [
    "# Check if we can impute from the name.  For example, a bar (or similar) business\n",
    "sba[(sba['Name'].str.contains('bar',case=False)) & (sba['Industry'] == 0)]\\\n",
    "    [['Name','Industry']].head(10)"
   ]
  },
  {
   "cell_type": "markdown",
   "metadata": {},
   "source": [
    "**It's not feasible to impute missing Industry codes efficiently, so we abandon the idea.**"
   ]
  },
  {
   "cell_type": "code",
   "execution_count": 146,
   "metadata": {
    "execution": {
     "iopub.execute_input": "2022-03-12T19:03:50.451685Z",
     "iopub.status.busy": "2022-03-12T19:03:50.451348Z",
     "iopub.status.idle": "2022-03-12T19:03:50.501007Z",
     "shell.execute_reply": "2022-03-12T19:03:50.500017Z",
     "shell.execute_reply.started": "2022-03-12T19:03:50.451634Z"
    }
   },
   "outputs": [],
   "source": [
    "# We can also drop 'Name' now\n",
    "sba.drop(columns='Name',inplace=True)"
   ]
  },
  {
   "cell_type": "markdown",
   "metadata": {},
   "source": [
    "<div style=\"font-family: Trebuchet MS;background-color:LightSteelBlue;color:Black;text-align: left;padding-top: 5px;padding-bottom: 5px;padding-left: 20px;padding-right: 10px;border-radius: 15px 50px;letter-spacing: 2px;\">\n",
    "    <b>Recession</b><br>\n",
    "We want to account for variation due to the Great Recession (December 2007 to June 2009). Should we separate the datasets into different time periods ? Before, During, and After ?  Let's check how large the sets are later.  In the meantime, we create a new feature, Recession, with 1 for 'Y' and 0 for 'N' depending on the DisbursementDate. \n",
    "<br><br>\n",
    "</div>"
   ]
  },
  {
   "cell_type": "code",
   "execution_count": 147,
   "metadata": {
    "execution": {
     "iopub.execute_input": "2022-03-12T19:03:55.174760Z",
     "iopub.status.busy": "2022-03-12T19:03:55.174000Z",
     "iopub.status.idle": "2022-03-12T19:03:55.429141Z",
     "shell.execute_reply": "2022-03-12T19:03:55.428135Z",
     "shell.execute_reply.started": "2022-03-12T19:03:55.174722Z"
    }
   },
   "outputs": [],
   "source": [
    "# Convert \"DisbursementDate\" to datetime\n",
    "\n",
    "sba['DisbursementDate'] = pd.to_datetime(sba['DisbursementDate'], format='%d-%b-%y')\n",
    "\n",
    "sba.head(2)"
   ]
  },
  {
   "cell_type": "code",
   "execution_count": 148,
   "metadata": {
    "execution": {
     "iopub.execute_input": "2022-03-12T19:03:59.105041Z",
     "iopub.status.busy": "2022-03-12T19:03:59.104612Z",
     "iopub.status.idle": "2022-03-12T19:03:59.121362Z",
     "shell.execute_reply": "2022-03-12T19:03:59.120364Z",
     "shell.execute_reply.started": "2022-03-12T19:03:59.105010Z"
    }
   },
   "outputs": [],
   "source": [
    "# Create new column based on condition\n",
    "sba['Recession'] = np.where((sba['DisbursementDate'] >= '2007-09-01')\\\n",
    "                     & (sba['DisbursementDate'] <= '2009-06-30'), 1, 0)"
   ]
  },
  {
   "cell_type": "code",
   "execution_count": 149,
   "metadata": {
    "execution": {
     "iopub.execute_input": "2022-03-12T19:04:01.897092Z",
     "iopub.status.busy": "2022-03-12T19:04:01.896626Z",
     "iopub.status.idle": "2022-03-12T19:04:02.077834Z",
     "shell.execute_reply": "2022-03-12T19:04:02.076648Z",
     "shell.execute_reply.started": "2022-03-12T19:04:01.897059Z"
    }
   },
   "outputs": [],
   "source": [
    "print(f'Total - {len(sba)}')\n",
    "y = len(sba[sba['Recession'] == 1])\n",
    "n = len(sba[sba['Recession'] == 0])\n",
    "print(f'Yes - {y}')\n",
    "print(f'No - {n}')\n",
    "print(f'Yes and No - {y+n}')\n"
   ]
  },
  {
   "cell_type": "markdown",
   "metadata": {},
   "source": [
    "<div style=\"font-family: Trebuchet MS;background-color:LightSteelBlue;color:Black;text-align: left;padding-top: 5px;padding-bottom: 5px;padding-left: 20px;padding-right: 10px;border-radius: 15px 50px;letter-spacing: 2px;\">\n",
    "    <b>Real Estate</b><br>\n",
    "Loans backed by real estate will have terms 20 years or greater (≥240 months) and are the only loans granted for such a long term, whereas loans not backed by real estate will have terms less than 20 years (<240 months).<br><br>\n",
    "1 - Backed By Real Estate<br>\n",
    "0 - Not Backed By Real Estate<br><br>"
   ]
  },
  {
   "cell_type": "code",
   "execution_count": 150,
   "metadata": {
    "execution": {
     "iopub.execute_input": "2022-03-12T19:04:06.317605Z",
     "iopub.status.busy": "2022-03-12T19:04:06.317296Z",
     "iopub.status.idle": "2022-03-12T19:04:06.328397Z",
     "shell.execute_reply": "2022-03-12T19:04:06.327476Z",
     "shell.execute_reply.started": "2022-03-12T19:04:06.317569Z"
    }
   },
   "outputs": [],
   "source": [
    "# Create new column based on condition\n",
    "sba['RealEstate'] = np.where(sba['Term'] >= 240, 1, 0)"
   ]
  },
  {
   "cell_type": "code",
   "execution_count": 151,
   "metadata": {
    "execution": {
     "iopub.execute_input": "2022-03-12T19:04:09.488386Z",
     "iopub.status.busy": "2022-03-12T19:04:09.487369Z",
     "iopub.status.idle": "2022-03-12T19:04:09.653452Z",
     "shell.execute_reply": "2022-03-12T19:04:09.652609Z",
     "shell.execute_reply.started": "2022-03-12T19:04:09.488338Z"
    }
   },
   "outputs": [],
   "source": [
    "print(f'Total - {len(sba)}')\n",
    "y = len(sba[sba['RealEstate'] == 1])\n",
    "n = len(sba[sba['RealEstate'] == 0])\n",
    "print(f'Yes - {y}')\n",
    "print(f'No - {n}')\n",
    "print(f'Yes and No - {y+n}')"
   ]
  },
  {
   "cell_type": "markdown",
   "metadata": {},
   "source": [
    "<div style=\"font-family: Trebuchet MS;background-color:LightSteelBlue;color:Black;text-align: left;padding-top: 5px;padding-bottom: 5px;padding-left: 20px;padding-right: 10px;border-radius: 15px 50px;letter-spacing: 2px;\">\n",
    "    <b>SBA_Portion</b><br>\n",
    "The portion which is the percentage of the loan that is guaranteed by SBA. This is derived by calculating the ratio of the amount of the loan SBA guarantees and the gross amount approved by the bank (SBA_Appv/GrAppv) * 100.<br><br></div>"
   ]
  },
  {
   "cell_type": "code",
   "execution_count": 152,
   "metadata": {
    "execution": {
     "iopub.execute_input": "2022-03-12T19:04:12.783757Z",
     "iopub.status.busy": "2022-03-12T19:04:12.783459Z",
     "iopub.status.idle": "2022-03-12T19:04:12.812621Z",
     "shell.execute_reply": "2022-03-12T19:04:12.811769Z",
     "shell.execute_reply.started": "2022-03-12T19:04:12.783728Z"
    }
   },
   "outputs": [],
   "source": [
    "sba['SBA_Portion']=(sba['SBA_Appv']/sba['GrAppv']) * 100\n",
    "sba.head(2)"
   ]
  },
  {
   "cell_type": "markdown",
   "metadata": {},
   "source": [
    "**CityState**"
   ]
  },
  {
   "cell_type": "code",
   "execution_count": 153,
   "metadata": {
    "execution": {
     "iopub.execute_input": "2022-03-12T19:04:19.322436Z",
     "iopub.status.busy": "2022-03-12T19:04:19.321384Z",
     "iopub.status.idle": "2022-03-12T19:04:19.812360Z",
     "shell.execute_reply": "2022-03-12T19:04:19.811345Z",
     "shell.execute_reply.started": "2022-03-12T19:04:19.322381Z"
    }
   },
   "outputs": [],
   "source": [
    "sba[\"CityState\"] = sba[\"City\"] + \"_\" + sba[\"State\"]\n",
    "sba[[\"CityState\", \"City\", \"State\"]].head()"
   ]
  },
  {
   "cell_type": "code",
   "execution_count": 65,
   "metadata": {
    "execution": {
     "iopub.execute_input": "2022-03-12T17:54:20.490689Z",
     "iopub.status.busy": "2022-03-12T17:54:20.490388Z",
     "iopub.status.idle": "2022-03-12T17:54:20.518638Z",
     "shell.execute_reply": "2022-03-12T17:54:20.517655Z",
     "shell.execute_reply.started": "2022-03-12T17:54:20.490656Z"
    }
   },
   "outputs": [],
   "source": [
    "sba.head(2)"
   ]
  },
  {
   "cell_type": "code",
   "execution_count": 154,
   "metadata": {
    "execution": {
     "iopub.execute_input": "2022-03-12T19:04:30.017650Z",
     "iopub.status.busy": "2022-03-12T19:04:30.017147Z",
     "iopub.status.idle": "2022-03-12T19:04:47.117896Z",
     "shell.execute_reply": "2022-03-12T19:04:47.116898Z",
     "shell.execute_reply.started": "2022-03-12T19:04:30.017600Z"
    }
   },
   "outputs": [],
   "source": [
    "# Save 3\n",
    "sba.to_csv('./sba_save3.csv',index=False)"
   ]
  },
  {
   "cell_type": "markdown",
   "metadata": {},
   "source": [
    "<div style=\"font-family: Trebuchet MS;background-color:DarkCyan;color:Azure;text-align: left;padding-top: 5px;padding-bottom: 5px;padding-left: 20px;padding-right: 10px;border-radius: 15px 50px;letter-spacing: 2px;\">\n",
    "    <h2>2.4 Encode Categorical Features</h2>\n",
    "    </div>"
   ]
  },
  {
   "cell_type": "code",
   "execution_count": 155,
   "metadata": {
    "execution": {
     "iopub.execute_input": "2022-03-12T19:04:55.398224Z",
     "iopub.status.busy": "2022-03-12T19:04:55.397922Z",
     "iopub.status.idle": "2022-03-12T19:04:55.853417Z",
     "shell.execute_reply": "2022-03-12T19:04:55.852574Z",
     "shell.execute_reply.started": "2022-03-12T19:04:55.398189Z"
    }
   },
   "outputs": [],
   "source": [
    "sba.select_dtypes([\"object\"]).nunique()"
   ]
  },
  {
   "cell_type": "markdown",
   "metadata": {},
   "source": [
    "<div style=\"font-family: Trebuchet MS;background-color:LightSteelBlue;color:Black;text-align: left;padding-top: 5px;padding-bottom: 5px;padding-left: 20px;padding-right: 10px;border-radius: 15px 50px;letter-spacing: 2px;\">\n",
    "    <b>MIS_Status</b><br>\n",
    "    This will be the <b>target</b> variable</div>"
   ]
  },
  {
   "cell_type": "code",
   "execution_count": 156,
   "metadata": {
    "execution": {
     "iopub.execute_input": "2022-03-12T19:05:03.770114Z",
     "iopub.status.busy": "2022-03-12T19:05:03.769788Z",
     "iopub.status.idle": "2022-03-12T19:05:05.149986Z",
     "shell.execute_reply": "2022-03-12T19:05:05.149056Z",
     "shell.execute_reply.started": "2022-03-12T19:05:03.770077Z"
    }
   },
   "outputs": [],
   "source": [
    "sns.set_style('whitegrid')\n",
    "# My target variable is MIS Status, a categorical variable\n",
    "\n",
    "print(sba['MIS_Status'].value_counts())\n",
    "sns.countplot(x='MIS_Status',data=sba)"
   ]
  },
  {
   "cell_type": "markdown",
   "metadata": {},
   "source": [
    "<div style=\"font-family: Trebuchet MS;background-color:LightSteelBlue;color:Black;text-align: left;padding-top: 5px;padding-bottom: 5px;padding-left: 20px;padding-right: 10px;border-radius: 15px 50px;letter-spacing: 2px;\">\n",
    "    This shows a skewed distribution, where this bias in the target can influence many machine learning algorithms, leading some to ignore the minority class entirely, in this case, CHGOFF.  Before oversampling the data, will try as is.<br><br></div>"
   ]
  },
  {
   "cell_type": "code",
   "execution_count": 157,
   "metadata": {
    "execution": {
     "iopub.execute_input": "2022-03-12T19:05:13.115352Z",
     "iopub.status.busy": "2022-03-12T19:05:13.115000Z",
     "iopub.status.idle": "2022-03-12T19:05:13.303291Z",
     "shell.execute_reply": "2022-03-12T19:05:13.302145Z",
     "shell.execute_reply.started": "2022-03-12T19:05:13.115311Z"
    }
   },
   "outputs": [],
   "source": [
    "# Update column based on condition\n",
    "sba['MIS_Status'] = np.where((sba['MIS_Status'] == 'P I F'), 1, 0)"
   ]
  },
  {
   "cell_type": "code",
   "execution_count": 158,
   "metadata": {
    "execution": {
     "iopub.execute_input": "2022-03-12T19:05:19.759978Z",
     "iopub.status.busy": "2022-03-12T19:05:19.759659Z",
     "iopub.status.idle": "2022-03-12T19:05:19.778321Z",
     "shell.execute_reply": "2022-03-12T19:05:19.776010Z",
     "shell.execute_reply.started": "2022-03-12T19:05:19.759943Z"
    }
   },
   "outputs": [],
   "source": [
    "print(sba['MIS_Status'].dtype)\n",
    "sba.head(2)[['City','MIS_Status']]"
   ]
  },
  {
   "cell_type": "code",
   "execution_count": 159,
   "metadata": {
    "execution": {
     "iopub.execute_input": "2022-03-12T19:06:26.764657Z",
     "iopub.status.busy": "2022-03-12T19:06:26.764371Z",
     "iopub.status.idle": "2022-03-12T19:06:26.867465Z",
     "shell.execute_reply": "2022-03-12T19:06:26.866506Z",
     "shell.execute_reply.started": "2022-03-12T19:06:26.764628Z"
    }
   },
   "outputs": [],
   "source": [
    "# ideally, convert dtype to int32\n",
    "sba = sba.astype({'MIS_Status':np.int32})\n",
    "sba['MIS_Status'].dtype"
   ]
  },
  {
   "cell_type": "markdown",
   "metadata": {},
   "source": [
    "<div style=\"font-family: Trebuchet MS;background-color:LightSteelBlue;color:Black;text-align: left;padding-top: 5px;padding-bottom: 5px;padding-left: 20px;padding-right: 10px;border-radius: 15px 50px;letter-spacing: 2px;\">\n",
    "    <b>LowDoc</b><br>\n",
    "'Y' = 1<br>\n",
    "'N' = 0"
   ]
  },
  {
   "cell_type": "code",
   "execution_count": 160,
   "metadata": {
    "execution": {
     "iopub.execute_input": "2022-03-12T19:06:31.940909Z",
     "iopub.status.busy": "2022-03-12T19:06:31.940638Z",
     "iopub.status.idle": "2022-03-12T19:06:32.110697Z",
     "shell.execute_reply": "2022-03-12T19:06:32.110043Z",
     "shell.execute_reply.started": "2022-03-12T19:06:31.940881Z"
    }
   },
   "outputs": [],
   "source": [
    "# Update column based on condition\n",
    "sba['LowDoc'] = np.where((sba['LowDoc'] == 'Y'), 1, 0)\n",
    "\n",
    "sba.head(2)"
   ]
  },
  {
   "cell_type": "markdown",
   "metadata": {},
   "source": [
    "<div style=\"font-family: Trebuchet MS;background-color:LightSteelBlue;color:Black;text-align: left;padding-top: 5px;padding-bottom: 5px;padding-left: 20px;padding-right: 10px;border-radius: 15px 50px;letter-spacing: 2px;\">\n",
    "    <b>Others</b></div>"
   ]
  },
  {
   "cell_type": "code",
   "execution_count": 161,
   "metadata": {
    "execution": {
     "iopub.execute_input": "2022-03-12T19:06:35.686603Z",
     "iopub.status.busy": "2022-03-12T19:06:35.686169Z",
     "iopub.status.idle": "2022-03-12T19:06:43.146019Z",
     "shell.execute_reply": "2022-03-12T19:06:43.144900Z",
     "shell.execute_reply.started": "2022-03-12T19:06:35.686574Z"
    }
   },
   "outputs": [],
   "source": [
    "import hashlib\n",
    "\n",
    "cols_to_drop = []\n",
    "hash_constant = 900000   # fixed value so we can programmatically reproduce the hash when needed\n",
    "len_data=len(sba)\n",
    "for col in sba.columns:\n",
    "  if sba[col].dtype == 'object':\n",
    "    print(f'Column {col} has {sba[col].nunique()} values among {len_data}')\n",
    "\n",
    "    if sba[col].nunique() < 25:\n",
    "      print(f'One-hot encoding of {col}')\n",
    "      one_hot_cols = pd.get_dummies(sba[col])\n",
    "      for ohc in one_hot_cols.columns:\n",
    "        sba[col + '_' + ohc] = one_hot_cols[ohc]\n",
    "    else:\n",
    "      print(f'Hashing of {col}')\n",
    "      sba[col + '_hash'] = sba[col].apply(lambda row: int(hashlib.sha1((col + \"_\" + str(row)).encode('utf-8')).hexdigest(), 16) % len_data)\n",
    "\n",
    "    cols_to_drop.append(col)"
   ]
  },
  {
   "cell_type": "code",
   "execution_count": 73,
   "metadata": {
    "execution": {
     "iopub.execute_input": "2022-03-12T17:56:10.640666Z",
     "iopub.status.busy": "2022-03-12T17:56:10.640331Z",
     "iopub.status.idle": "2022-03-12T17:56:10.656008Z",
     "shell.execute_reply": "2022-03-12T17:56:10.655040Z",
     "shell.execute_reply.started": "2022-03-12T17:56:10.640622Z"
    }
   },
   "outputs": [],
   "source": [
    "sba.head(2)[['City','State','CityState','City_hash','State_hash','CityState_hash']]"
   ]
  },
  {
   "cell_type": "markdown",
   "metadata": {},
   "source": [
    "<div style=\"font-family: Trebuchet MS;background-color:LightSteelBlue;color:Black;text-align: left;padding-top: 5px;padding-bottom: 5px;padding-left: 20px;padding-right: 10px;border-radius: 15px 50px;letter-spacing: 2px;\">\n",
    "    <b>TimeFrame</b><br>\n",
    "Save a dataset for later use where we restrict the time frame to loans by excluding those disbursed after 2010 due to the fact the term of a loan is frequently 5 or more years."
   ]
  },
  {
   "cell_type": "code",
   "execution_count": 162,
   "metadata": {
    "execution": {
     "iopub.execute_input": "2022-03-12T19:06:53.683660Z",
     "iopub.status.busy": "2022-03-12T19:06:53.683320Z",
     "iopub.status.idle": "2022-03-12T19:06:54.030435Z",
     "shell.execute_reply": "2022-03-12T19:06:54.029003Z",
     "shell.execute_reply.started": "2022-03-12T19:06:53.683624Z"
    }
   },
   "outputs": [],
   "source": [
    "sba_bef_2011 = sba[sba['DisbursementDate'] <= '2010-12-31']\n",
    "len(sba_bef_2011[sba_bef_2011['DisbursementDate'] > '2010-12-31'])"
   ]
  },
  {
   "cell_type": "code",
   "execution_count": 163,
   "metadata": {
    "execution": {
     "iopub.execute_input": "2022-03-12T19:06:58.197050Z",
     "iopub.status.busy": "2022-03-12T19:06:58.196778Z",
     "iopub.status.idle": "2022-03-12T19:07:15.366681Z",
     "shell.execute_reply": "2022-03-12T19:07:15.365659Z",
     "shell.execute_reply.started": "2022-03-12T19:06:58.197022Z"
    }
   },
   "outputs": [],
   "source": [
    "# Save 4\n",
    "## save this dataset to working dir\n",
    "sba_bef_2011.to_csv(\"./sba_bef_2011.csv\",index=False)"
   ]
  },
  {
   "cell_type": "markdown",
   "metadata": {},
   "source": [
    "<div style=\"font-family: Trebuchet MS;background-color:LightSteelBlue;color:Black;text-align: left;padding-top: 5px;padding-bottom: 5px;padding-left: 20px;padding-right: 10px;border-radius: 15px 50px;letter-spacing: 2px;\">\n",
    "    <b>Drop more columns that are no longer needed<b></div>"
   ]
  },
  {
   "cell_type": "code",
   "execution_count": 164,
   "metadata": {
    "execution": {
     "iopub.execute_input": "2022-03-12T19:07:21.373157Z",
     "iopub.status.busy": "2022-03-12T19:07:21.372664Z",
     "iopub.status.idle": "2022-03-12T19:07:21.441367Z",
     "shell.execute_reply": "2022-03-12T19:07:21.440651Z",
     "shell.execute_reply.started": "2022-03-12T19:07:21.373122Z"
    },
    "scrolled": true
   },
   "outputs": [],
   "source": [
    "sba.drop(columns = ['State', 'City','CityState','ChgOffPrinGr',\\\n",
    "                    'DisbursementDate'], inplace = True)  \n",
    "sba.head(2)"
   ]
  },
  {
   "cell_type": "markdown",
   "metadata": {},
   "source": [
    "<div style=\"font-family: Trebuchet MS;background-color:LightSteelBlue;color:Black;text-align: left;padding-top: 5px;padding-bottom: 5px;padding-left: 20px;padding-right: 10px;border-radius: 15px 50px;letter-spacing: 2px;\">\n",
    "    <b>Check for Infinite Values<b></div>"
   ]
  },
  {
   "cell_type": "code",
   "execution_count": 165,
   "metadata": {
    "execution": {
     "iopub.execute_input": "2022-03-12T19:07:25.322140Z",
     "iopub.status.busy": "2022-03-12T19:07:25.320047Z",
     "iopub.status.idle": "2022-03-12T19:07:25.329031Z",
     "shell.execute_reply": "2022-03-12T19:07:25.328028Z",
     "shell.execute_reply.started": "2022-03-12T19:07:25.322092Z"
    }
   },
   "outputs": [],
   "source": [
    "def check_infinity_nan(df,dfname):\n",
    "    print(\"checking for infinity\")\n",
    "  \n",
    "    #ds = sba.isin([np.inf, -np.inf])\n",
    "    #print(ds)\n",
    "  \n",
    "    # printing the count of infinity values\n",
    "    print()\n",
    "    print(\"printing the count of infinity values\")\n",
    "  \n",
    "    count = np.isinf(df).values.sum()\n",
    "    print(f\"{dfname} contains \" + str(count) + \" infinite values\")\n",
    "    print()\n",
    "    \n",
    "    has_nan = df.isnull().values.any()\n",
    "    print(f\"Does {dfname} have Nan or Null values ?  {has_nan}\")"
   ]
  },
  {
   "cell_type": "code",
   "execution_count": 166,
   "metadata": {
    "execution": {
     "iopub.execute_input": "2022-03-12T19:07:30.573923Z",
     "iopub.status.busy": "2022-03-12T19:07:30.573375Z",
     "iopub.status.idle": "2022-03-12T19:07:30.630317Z",
     "shell.execute_reply": "2022-03-12T19:07:30.629324Z",
     "shell.execute_reply.started": "2022-03-12T19:07:30.573884Z"
    }
   },
   "outputs": [],
   "source": [
    "check_infinity_nan(sba,'sba')"
   ]
  },
  {
   "cell_type": "markdown",
   "metadata": {},
   "source": [
    "<div style=\"font-family: Trebuchet MS;background-color:LightSteelBlue;color:Black;text-align: left;padding-top: 5px;padding-bottom: 5px;padding-left: 20px;padding-right: 10px;border-radius: 15px 50px;letter-spacing: 2px;\">\n",
    "    <b>Check Correlations</b></div>"
   ]
  },
  {
   "cell_type": "code",
   "execution_count": 79,
   "metadata": {
    "execution": {
     "iopub.execute_input": "2022-03-12T17:58:59.705674Z",
     "iopub.status.busy": "2022-03-12T17:58:59.705388Z",
     "iopub.status.idle": "2022-03-12T17:59:03.222264Z",
     "shell.execute_reply": "2022-03-12T17:59:03.221424Z",
     "shell.execute_reply.started": "2022-03-12T17:58:59.705638Z"
    },
    "scrolled": true
   },
   "outputs": [],
   "source": [
    "fig, ax = plt.subplots(figsize=(20,20))\n",
    "\n",
    "g = sns.heatmap(\n",
    "    sba.corr(),\n",
    "    annot=True,\n",
    "    ax=ax,\n",
    "    cmap='OrRd',\n",
    "    cbar=False,\n",
    "    linewidth=1\n",
    ")\n",
    "\n",
    "g.set_xticklabels(g.get_xticklabels(), rotation=45, horizontalalignment='right')\n",
    "g.set_yticklabels(g.get_yticklabels(), rotation=45, horizontalalignment='right')"
   ]
  },
  {
   "cell_type": "code",
   "execution_count": 167,
   "metadata": {
    "execution": {
     "iopub.execute_input": "2022-03-12T19:07:41.126941Z",
     "iopub.status.busy": "2022-03-12T19:07:41.126559Z",
     "iopub.status.idle": "2022-03-12T19:07:48.801437Z",
     "shell.execute_reply": "2022-03-12T19:07:48.800729Z",
     "shell.execute_reply.started": "2022-03-12T19:07:41.126906Z"
    }
   },
   "outputs": [],
   "source": [
    "# Save 5\n",
    "sba.to_csv('./sba_save5.csv',index=False)"
   ]
  },
  {
   "cell_type": "markdown",
   "metadata": {},
   "source": [
    "<div style=\"font-family: Trebuchet MS;background-color:DarkCyan;color:Azure;text-align: left;padding-top: 5px;padding-bottom: 5px;padding-left: 20px;padding-right: 10px;border-radius: 15px 50px;letter-spacing: 2px;\">\n",
    "    <h2>3. Build Model Using XGBoost</h2>\n",
    "    </div>"
   ]
  },
  {
   "cell_type": "markdown",
   "metadata": {},
   "source": [
    "<div style=\"font-family: Trebuchet MS;background-color:DarkCyan;color:Azure;text-align: left;padding-top: 5px;padding-bottom: 5px;padding-left: 20px;padding-right: 10px;border-radius: 15px 50px;letter-spacing: 2px;\">\n",
    "    <h2>3.1 Prepare Data</h2>\n",
    "    </div>"
   ]
  },
  {
   "cell_type": "code",
   "execution_count": 82,
   "metadata": {
    "execution": {
     "iopub.execute_input": "2022-03-12T18:02:11.281736Z",
     "iopub.status.busy": "2022-03-12T18:02:11.281423Z",
     "iopub.status.idle": "2022-03-12T18:02:11.352985Z",
     "shell.execute_reply": "2022-03-12T18:02:11.351931Z",
     "shell.execute_reply.started": "2022-03-12T18:02:11.281703Z"
    }
   },
   "outputs": [],
   "source": [
    "# Select subset of predictors\n",
    "X = sba.copy()\n",
    "\n",
    "# Select target\n",
    "y = X.pop('MIS_Status')"
   ]
  },
  {
   "cell_type": "markdown",
   "metadata": {},
   "source": [
    "<div style=\"font-family: Trebuchet MS;background-color:LightSteelBlue;color:Black;text-align: left;padding-top: 5px;padding-bottom: 5px;padding-left: 20px;padding-right: 10px;border-radius: 15px 50px;letter-spacing: 2px;\">\n",
    "    <b>Split Data into Train:Validate:Test<b></div>"
   ]
  },
  {
   "cell_type": "code",
   "execution_count": 83,
   "metadata": {
    "execution": {
     "iopub.execute_input": "2022-03-12T18:02:15.510815Z",
     "iopub.status.busy": "2022-03-12T18:02:15.509945Z",
     "iopub.status.idle": "2022-03-12T18:02:15.939420Z",
     "shell.execute_reply": "2022-03-12T18:02:15.938542Z",
     "shell.execute_reply.started": "2022-03-12T18:02:15.510773Z"
    }
   },
   "outputs": [],
   "source": [
    "from sklearn.model_selection import train_test_split\n",
    "\n",
    "# Let's split the data in 80:10:10 for train:valid:test dataset\n",
    "train_size=0.8 \n",
    "\n",
    "# In the first step we will split the data in training and remaining dataset\n",
    "X_train, X_rem, y_train, y_rem = train_test_split(X, y, train_size=0.8) \n",
    "\n",
    "# Now since we want the valid and test size to be equal (10% each of overall data). \n",
    "# we have to define valid_size=0.5 (that is 50% of remaining data)\n",
    "test_size = 0.5\n",
    "\n",
    "X_valid, X_test, y_valid, y_test = train_test_split(X_rem,y_rem,test_size=0.5,random_state=101) \n",
    "\n",
    "print(X_train.shape), print(y_train.shape)\n",
    "print(X_valid.shape), print(y_valid.shape)\n",
    "print(X_test.shape), print(y_test.shape) "
   ]
  },
  {
   "cell_type": "markdown",
   "metadata": {},
   "source": [
    "<div style=\"font-family: Trebuchet MS;background-color:LightSteelBlue;color:Black;text-align: left;padding-top: 5px;padding-bottom: 5px;padding-left: 20px;padding-right: 10px;border-radius: 15px 50px;letter-spacing: 2px;\">\n",
    "    <b>Metrics Function"
   ]
  },
  {
   "cell_type": "code",
   "execution_count": 84,
   "metadata": {
    "execution": {
     "iopub.execute_input": "2022-03-12T18:02:20.715927Z",
     "iopub.status.busy": "2022-03-12T18:02:20.715468Z",
     "iopub.status.idle": "2022-03-12T18:02:20.722840Z",
     "shell.execute_reply": "2022-03-12T18:02:20.721694Z",
     "shell.execute_reply.started": "2022-03-12T18:02:20.715895Z"
    }
   },
   "outputs": [],
   "source": [
    "from sklearn import metrics\n",
    "from sklearn.metrics import accuracy_score\n",
    "from sklearn.metrics import classification_report,confusion_matrix\n",
    "\n",
    "def model_eval(y_valid,predictions):\n",
    "    print('MAE:', metrics.mean_absolute_error(y_valid, predictions))\n",
    "    print('MSE:', metrics.mean_squared_error(y_valid, predictions))\n",
    "    print('RMSE:', np.sqrt(metrics.mean_squared_error(y_valid, predictions)))\n",
    "    print()\n",
    "    \n",
    "    print(\"Classification Report:\")\n",
    "    print(classification_report(y_valid,predictions.round()))\n",
    "    print()\n",
    "    \n",
    "    print(\"\\033[1m\" + \"Accuracy for model:\\033[0m %.2f\" % (accuracy_score(y_valid, \\\n",
    "                                                            predictions.round()) * 100))"
   ]
  },
  {
   "cell_type": "markdown",
   "metadata": {},
   "source": [
    "<div style=\"font-family: Trebuchet MS;background-color:DarkCyan;color:Azure;text-align: left;padding-top: 5px;padding-bottom: 5px;padding-left: 20px;padding-right: 10px;border-radius: 15px 50px;letter-spacing: 2px;\">\n",
    "    <h2>3.1 Model 1</h2>\n",
    "    </div>"
   ]
  },
  {
   "cell_type": "code",
   "execution_count": 85,
   "metadata": {
    "execution": {
     "iopub.execute_input": "2022-03-12T18:02:45.812361Z",
     "iopub.status.busy": "2022-03-12T18:02:45.812085Z",
     "iopub.status.idle": "2022-03-12T18:03:45.679283Z",
     "shell.execute_reply": "2022-03-12T18:03:45.678446Z",
     "shell.execute_reply.started": "2022-03-12T18:02:45.812332Z"
    },
    "scrolled": true
   },
   "outputs": [],
   "source": [
    "from xgboost import XGBRegressor\n",
    "\n",
    "my_model1 = XGBRegressor()\n",
    "my_model1.fit(X_train, y_train)\n",
    "\n",
    "# wait a bit to complete"
   ]
  },
  {
   "cell_type": "code",
   "execution_count": 87,
   "metadata": {
    "execution": {
     "iopub.execute_input": "2022-03-12T18:04:47.355578Z",
     "iopub.status.busy": "2022-03-12T18:04:47.354781Z",
     "iopub.status.idle": "2022-03-12T18:04:47.467877Z",
     "shell.execute_reply": "2022-03-12T18:04:47.466990Z",
     "shell.execute_reply.started": "2022-03-12T18:04:47.355539Z"
    }
   },
   "outputs": [],
   "source": [
    "predictions1 = my_model1.predict(X_valid)"
   ]
  },
  {
   "cell_type": "code",
   "execution_count": 88,
   "metadata": {
    "execution": {
     "iopub.execute_input": "2022-03-12T18:04:54.421751Z",
     "iopub.status.busy": "2022-03-12T18:04:54.421459Z",
     "iopub.status.idle": "2022-03-12T18:04:54.614644Z",
     "shell.execute_reply": "2022-03-12T18:04:54.613721Z",
     "shell.execute_reply.started": "2022-03-12T18:04:54.421723Z"
    }
   },
   "outputs": [],
   "source": [
    "model_eval(y_valid, predictions1)"
   ]
  },
  {
   "cell_type": "markdown",
   "metadata": {},
   "source": [
    "<div style=\"font-family: Trebuchet MS;background-color:LightSteelBlue;color:Black;text-align: left;padding-top: 5px;padding-bottom: 5px;padding-left: 20px;padding-right: 10px;border-radius: 15px 50px;letter-spacing: 2px;\">\n",
    "    <b>Improve Model 1</b></div>"
   ]
  },
  {
   "cell_type": "code",
   "execution_count": 89,
   "metadata": {
    "execution": {
     "iopub.execute_input": "2022-03-12T18:05:26.249216Z",
     "iopub.status.busy": "2022-03-12T18:05:26.248908Z",
     "iopub.status.idle": "2022-03-12T18:05:26.589946Z",
     "shell.execute_reply": "2022-03-12T18:05:26.589071Z",
     "shell.execute_reply.started": "2022-03-12T18:05:26.249178Z"
    }
   },
   "outputs": [],
   "source": [
    "# In the first step we will split the data in training and remaining dataset\n",
    "X_train2, X_rem, y_train2, y_rem = train_test_split(X, y, train_size=0.8) \n",
    "\n",
    "# Now since we want the valid and test size to be equal (10% each of overall data). \n",
    "# we have to define valid_size=0.5 (that is 50% of remaining data)\n",
    "test_size = 0.5\n",
    "\n",
    "X_valid2, X_test, y_valid2, y_test = train_test_split(X_rem,y_rem,test_size=0.5,random_state=101) "
   ]
  },
  {
   "cell_type": "code",
   "execution_count": 90,
   "metadata": {
    "execution": {
     "iopub.execute_input": "2022-03-12T18:05:37.303839Z",
     "iopub.status.busy": "2022-03-12T18:05:37.303561Z",
     "iopub.status.idle": "2022-03-12T18:11:23.842757Z",
     "shell.execute_reply": "2022-03-12T18:11:23.841776Z",
     "shell.execute_reply.started": "2022-03-12T18:05:37.303811Z"
    }
   },
   "outputs": [],
   "source": [
    "my_model1 = XGBRegressor(n_estimators=1000, learning_rate=0.05, n_jobs=4)\n",
    "my_model1.fit(X_train2, y_train2, \n",
    "             early_stopping_rounds=5, \n",
    "             eval_set=[(X_valid2, y_valid2)], \n",
    "             verbose=False)\n",
    "\n",
    "# Wait, will take time"
   ]
  },
  {
   "cell_type": "code",
   "execution_count": 91,
   "metadata": {
    "execution": {
     "iopub.execute_input": "2022-03-12T18:12:28.277597Z",
     "iopub.status.busy": "2022-03-12T18:12:28.276653Z",
     "iopub.status.idle": "2022-03-12T18:12:28.838420Z",
     "shell.execute_reply": "2022-03-12T18:12:28.837471Z",
     "shell.execute_reply.started": "2022-03-12T18:12:28.277549Z"
    }
   },
   "outputs": [],
   "source": [
    "# Get predictions\n",
    "predictions2 = my_model1.predict(X_valid2)"
   ]
  },
  {
   "cell_type": "code",
   "execution_count": 92,
   "metadata": {
    "execution": {
     "iopub.execute_input": "2022-03-12T18:12:31.155788Z",
     "iopub.status.busy": "2022-03-12T18:12:31.155509Z",
     "iopub.status.idle": "2022-03-12T18:12:31.553333Z",
     "shell.execute_reply": "2022-03-12T18:12:31.552226Z",
     "shell.execute_reply.started": "2022-03-12T18:12:31.155759Z"
    }
   },
   "outputs": [],
   "source": [
    "print(\"\\033[4m\" + \"After Improving Model:\" + \"\\033[0m\")\n",
    "model_eval(y_valid2, predictions2)\n",
    "print()\n",
    "\n",
    "print(\"\\033[4m\" + \"Before Improving Model:\" + \"\\033[0m\")\n",
    "model_eval(y_valid, predictions1)"
   ]
  },
  {
   "cell_type": "markdown",
   "metadata": {},
   "source": [
    "<div style=\"font-family: Trebuchet MS;background-color:HoneyDew;color:Black;text-align: left;padding-top: 5px;padding-bottom: 5px;padding-left: 20px;padding-right: 10px;border-radius: 15px 50px;letter-spacing: 2px;\">\n",
    "    <b>Not much difference between initial build and improved build.<br><br>\n",
    "\n",
    "Precision, recall, and f1-score of classification 0 (CHGOFF) is much lower than that of 1 (P I F). This is because MIS_Status is heavily skewed towards 1 (P I F).  To solve this, we try Oversampling the data, in the next section.</b></div>"
   ]
  },
  {
   "cell_type": "markdown",
   "metadata": {},
   "source": [
    "<div style=\"font-family: Trebuchet MS;background-color:DarkCyan;color:Azure;text-align: left;padding-top: 5px;padding-bottom: 5px;padding-left: 20px;padding-right: 10px;border-radius: 15px 50px;letter-spacing: 2px;\">\n",
    "    <h2>3.2 OverSample</h2>\n",
    "    </div>"
   ]
  },
  {
   "cell_type": "markdown",
   "metadata": {},
   "source": [
    "<div style=\"font-family: Trebuchet MS;background-color:DarkCyan;color:Azure;text-align: left;padding-top: 5px;padding-bottom: 5px;padding-left: 20px;padding-right: 10px;border-radius: 15px 50px;letter-spacing: 2px;\"><h2>3.2.1 Model 2</h2>\n",
    "    </div>"
   ]
  },
  {
   "cell_type": "code",
   "execution_count": null,
   "metadata": {},
   "outputs": [],
   "source": [
    "!pip install imbalanced-learn"
   ]
  },
  {
   "cell_type": "code",
   "execution_count": 93,
   "metadata": {
    "execution": {
     "iopub.execute_input": "2022-03-12T18:13:04.548049Z",
     "iopub.status.busy": "2022-03-12T18:13:04.547303Z",
     "iopub.status.idle": "2022-03-12T18:13:04.604723Z",
     "shell.execute_reply": "2022-03-12T18:13:04.603785Z",
     "shell.execute_reply.started": "2022-03-12T18:13:04.548010Z"
    }
   },
   "outputs": [],
   "source": [
    "# Select subset of predictors\n",
    "X2 = sba.copy()\n",
    "\n",
    "# Select target\n",
    "y2 = X2.pop('MIS_Status')"
   ]
  },
  {
   "cell_type": "code",
   "execution_count": 94,
   "metadata": {
    "execution": {
     "iopub.execute_input": "2022-03-12T18:13:08.948683Z",
     "iopub.status.busy": "2022-03-12T18:13:08.948399Z",
     "iopub.status.idle": "2022-03-12T18:13:09.380331Z",
     "shell.execute_reply": "2022-03-12T18:13:09.379309Z",
     "shell.execute_reply.started": "2022-03-12T18:13:08.948654Z"
    }
   },
   "outputs": [],
   "source": [
    "from imblearn.over_sampling import RandomOverSampler\n",
    "\n",
    "# define oversampling strategy\n",
    "oversample = RandomOverSampler(sampling_strategy='minority')"
   ]
  },
  {
   "cell_type": "code",
   "execution_count": 95,
   "metadata": {
    "execution": {
     "iopub.execute_input": "2022-03-12T18:13:13.679534Z",
     "iopub.status.busy": "2022-03-12T18:13:13.679230Z",
     "iopub.status.idle": "2022-03-12T18:13:15.324141Z",
     "shell.execute_reply": "2022-03-12T18:13:15.323071Z",
     "shell.execute_reply.started": "2022-03-12T18:13:13.679504Z"
    }
   },
   "outputs": [],
   "source": [
    "from collections import Counter\n",
    "\n",
    "# fit and apply the transform\n",
    "X_over, y_over = oversample.fit_resample(X2, y2)\n",
    "\n",
    "# summarize class distribution\n",
    "print('Before : ',Counter(y2))\n",
    "print('After  : ',Counter(y_over))"
   ]
  },
  {
   "cell_type": "code",
   "execution_count": 96,
   "metadata": {
    "execution": {
     "iopub.execute_input": "2022-03-12T18:13:35.253209Z",
     "iopub.status.busy": "2022-03-12T18:13:35.252434Z",
     "iopub.status.idle": "2022-03-12T18:13:36.014535Z",
     "shell.execute_reply": "2022-03-12T18:13:36.013347Z",
     "shell.execute_reply.started": "2022-03-12T18:13:35.253170Z"
    }
   },
   "outputs": [],
   "source": [
    "# In the first step we will split the data in training and remaining dataset\n",
    "X_train, X_rem, y_train, y_rem = train_test_split(X_over, y_over, train_size=0.8) \n",
    "\n",
    "# Now since we want the valid and test size to be equal (10% each of overall data). \n",
    "# we have to define valid_size=0.5 (that is 50% of remaining data)\n",
    "test_size = 0.5\n",
    "\n",
    "X_valid, X_test, y_valid, y_test = train_test_split(X_rem,y_rem,test_size=0.5,random_state=101) "
   ]
  },
  {
   "cell_type": "code",
   "execution_count": 97,
   "metadata": {
    "execution": {
     "iopub.execute_input": "2022-03-12T18:13:39.567703Z",
     "iopub.status.busy": "2022-03-12T18:13:39.567408Z",
     "iopub.status.idle": "2022-03-12T18:15:19.746207Z",
     "shell.execute_reply": "2022-03-12T18:15:19.745274Z",
     "shell.execute_reply.started": "2022-03-12T18:13:39.567669Z"
    },
    "scrolled": true
   },
   "outputs": [],
   "source": [
    "from xgboost import XGBRegressor\n",
    "\n",
    "my_model2 = XGBRegressor()\n",
    "my_model2.fit(X_train, y_train)\n",
    "\n",
    "# wait a bit to complete"
   ]
  },
  {
   "cell_type": "code",
   "execution_count": 98,
   "metadata": {
    "execution": {
     "iopub.execute_input": "2022-03-12T18:20:07.567835Z",
     "iopub.status.busy": "2022-03-12T18:20:07.567522Z",
     "iopub.status.idle": "2022-03-12T18:20:07.756945Z",
     "shell.execute_reply": "2022-03-12T18:20:07.756031Z",
     "shell.execute_reply.started": "2022-03-12T18:20:07.567802Z"
    }
   },
   "outputs": [],
   "source": [
    "predictions3 = my_model2.predict(X_valid)"
   ]
  },
  {
   "cell_type": "code",
   "execution_count": 99,
   "metadata": {
    "execution": {
     "iopub.execute_input": "2022-03-12T18:20:11.379005Z",
     "iopub.status.busy": "2022-03-12T18:20:11.378725Z",
     "iopub.status.idle": "2022-03-12T18:20:11.747294Z",
     "shell.execute_reply": "2022-03-12T18:20:11.746220Z",
     "shell.execute_reply.started": "2022-03-12T18:20:11.378976Z"
    }
   },
   "outputs": [],
   "source": [
    "model_eval(y_valid, predictions3)"
   ]
  },
  {
   "cell_type": "markdown",
   "metadata": {},
   "source": [
    "<div style=\"font-family: Trebuchet MS;background-color:HoneyDew;color:Black;text-align: left;padding-top: 5px;padding-bottom: 5px;padding-left: 20px;padding-right: 10px;border-radius: 15px 50px;letter-spacing: 2px;\">\n",
    "    <b>After oversampling of the minority class (CHGOFF), class 0 (CHGOFF) now has similar precision, recall, and f1-score as class 1 (P I F)</b>"
   ]
  },
  {
   "cell_type": "markdown",
   "metadata": {},
   "source": [
    "<div style=\"font-family: Trebuchet MS;background-color:LightSteelBlue;color:Black;text-align: left;padding-top: 5px;padding-bottom: 5px;padding-left: 20px;padding-right: 10px;border-radius: 15px 50px;letter-spacing: 2px;\">\n",
    "    <b>Improve The Model</b></div>"
   ]
  },
  {
   "cell_type": "code",
   "execution_count": 100,
   "metadata": {
    "execution": {
     "iopub.execute_input": "2022-03-12T18:20:37.304584Z",
     "iopub.status.busy": "2022-03-12T18:20:37.304273Z",
     "iopub.status.idle": "2022-03-12T18:37:05.578930Z",
     "shell.execute_reply": "2022-03-12T18:37:05.578077Z",
     "shell.execute_reply.started": "2022-03-12T18:20:37.304553Z"
    }
   },
   "outputs": [],
   "source": [
    "my_model2 = XGBRegressor(n_estimators=1000, learning_rate=0.05, n_jobs=4)\n",
    "my_model2.fit(X_train, y_train, \n",
    "             early_stopping_rounds=5, \n",
    "             eval_set=[(X_valid, y_valid)], \n",
    "             verbose=False)\n",
    "\n",
    "# Wait a bit, will take time"
   ]
  },
  {
   "cell_type": "code",
   "execution_count": 101,
   "metadata": {
    "execution": {
     "iopub.execute_input": "2022-03-12T18:37:45.712658Z",
     "iopub.status.busy": "2022-03-12T18:37:45.712314Z",
     "iopub.status.idle": "2022-03-12T18:37:47.133874Z",
     "shell.execute_reply": "2022-03-12T18:37:47.133188Z",
     "shell.execute_reply.started": "2022-03-12T18:37:45.712625Z"
    }
   },
   "outputs": [],
   "source": [
    "# Get predictions\n",
    "predictions4 = my_model2.predict(X_valid)"
   ]
  },
  {
   "cell_type": "code",
   "execution_count": 102,
   "metadata": {
    "execution": {
     "iopub.execute_input": "2022-03-12T18:37:55.221800Z",
     "iopub.status.busy": "2022-03-12T18:37:55.220989Z",
     "iopub.status.idle": "2022-03-12T18:37:55.589874Z",
     "shell.execute_reply": "2022-03-12T18:37:55.589002Z",
     "shell.execute_reply.started": "2022-03-12T18:37:55.221761Z"
    },
    "scrolled": true
   },
   "outputs": [],
   "source": [
    "model_eval(y_valid, predictions4)"
   ]
  },
  {
   "cell_type": "markdown",
   "metadata": {},
   "source": [
    "<div style=\"font-family: Trebuchet MS;background-color:HoneyDew;color:Black;text-align: left;padding-top: 5px;padding-bottom: 5px;padding-left: 20px;padding-right: 10px;border-radius: 15px 50px;letter-spacing: 2px;\">\n",
    "    <b>We get a tiny improvement.  I didn't try other parameters for XGBRegressor yet.</b></div>"
   ]
  },
  {
   "cell_type": "code",
   "execution_count": 103,
   "metadata": {
    "execution": {
     "iopub.execute_input": "2022-03-12T18:38:09.161098Z",
     "iopub.status.busy": "2022-03-12T18:38:09.160152Z",
     "iopub.status.idle": "2022-03-12T18:38:09.632354Z",
     "shell.execute_reply": "2022-03-12T18:38:09.631494Z",
     "shell.execute_reply.started": "2022-03-12T18:38:09.161024Z"
    }
   },
   "outputs": [],
   "source": [
    "# Plot feature importance\n",
    "from xgboost import plot_importance\n",
    "def plot_features(booster, figsize):    \n",
    "    fig, ax = plt.subplots(1,1,figsize=figsize)\n",
    "    return plot_importance(booster=booster, ax=ax)\n",
    "plot_features(my_model2, (10,14))"
   ]
  },
  {
   "cell_type": "markdown",
   "metadata": {},
   "source": [
    "<div style=\"font-family: Trebuchet MS;background-color:HoneyDew;color:Black;text-align: left;padding-top: 5px;padding-bottom: 5px;padding-left: 20px;padding-right: 10px;border-radius: 15px 50px;letter-spacing: 2px;\">\n",
    "    <b>Observation</b><br>\n",
    "    I was hoping to see <b>Industry</b> at a much higher position here, but apparently the incomplete data on industry had an effect.<br><br>\n",
    "Furthermore, <b>Recession</b> has to be at a very high position, but is at the bottom instead.  This could be due to <b>Recession</b> data being highly skewed towards 1 (Not Recession).<br><br>"
   ]
  },
  {
   "cell_type": "markdown",
   "metadata": {},
   "source": [
    "<div style=\"font-family: Trebuchet MS;background-color:DarkCyan;color:Azure;text-align: left;padding-top: 5px;padding-bottom: 5px;padding-left: 20px;padding-right: 10px;border-radius: 15px 50px;letter-spacing: 2px;\">\n",
    "    <h2>3.2.2 Model 3</h2>\n",
    "    <b>Build a Model Dataset Excluding Year 2011 and Above</b>\n",
    "\n",
    "We restrict the time frame to loans by excluding those disbursed after 2010 due to the fact the term of a loan is frequently 5 or more years.\n",
    "       </div>"
   ]
  },
  {
   "cell_type": "code",
   "execution_count": 168,
   "metadata": {
    "execution": {
     "iopub.execute_input": "2022-03-12T19:08:28.794502Z",
     "iopub.status.busy": "2022-03-12T19:08:28.793527Z",
     "iopub.status.idle": "2022-03-12T19:08:31.936845Z",
     "shell.execute_reply": "2022-03-12T19:08:31.935919Z",
     "shell.execute_reply.started": "2022-03-12T19:08:28.794440Z"
    }
   },
   "outputs": [],
   "source": [
    "sba_df = pd.read_csv(\"./sba_bef_2011.csv\")\n",
    "sba_df = sba_df.drop(columns = ['State', 'City','CityState',\\\n",
    "                                        'ChgOffPrinGr','DisbursementDate']) \n",
    "print(sba_df.columns)\n",
    "\n",
    "# Select subset of predictors\n",
    "X = sba_df.copy()\n",
    "\n",
    "# Select target\n",
    "y = X.pop('MIS_Status')"
   ]
  },
  {
   "cell_type": "code",
   "execution_count": 169,
   "metadata": {
    "execution": {
     "iopub.execute_input": "2022-03-12T19:08:56.191793Z",
     "iopub.status.busy": "2022-03-12T19:08:56.191478Z",
     "iopub.status.idle": "2022-03-12T19:08:56.209048Z",
     "shell.execute_reply": "2022-03-12T19:08:56.208046Z",
     "shell.execute_reply.started": "2022-03-12T19:08:56.191760Z"
    }
   },
   "outputs": [],
   "source": [
    "sba_df.head(2)"
   ]
  },
  {
   "cell_type": "code",
   "execution_count": 171,
   "metadata": {
    "execution": {
     "iopub.execute_input": "2022-03-12T19:09:21.959541Z",
     "iopub.status.busy": "2022-03-12T19:09:21.958714Z",
     "iopub.status.idle": "2022-03-12T19:09:21.963870Z",
     "shell.execute_reply": "2022-03-12T19:09:21.962674Z",
     "shell.execute_reply.started": "2022-03-12T19:09:21.959501Z"
    }
   },
   "outputs": [],
   "source": [
    "from imblearn.over_sampling import RandomOverSampler\n",
    "\n",
    "# define oversampling strategy\n",
    "oversample = RandomOverSampler(sampling_strategy='minority')"
   ]
  },
  {
   "cell_type": "code",
   "execution_count": 172,
   "metadata": {
    "execution": {
     "iopub.execute_input": "2022-03-12T19:09:25.108675Z",
     "iopub.status.busy": "2022-03-12T19:09:25.108406Z",
     "iopub.status.idle": "2022-03-12T19:09:26.673471Z",
     "shell.execute_reply": "2022-03-12T19:09:26.672344Z",
     "shell.execute_reply.started": "2022-03-12T19:09:25.108649Z"
    }
   },
   "outputs": [],
   "source": [
    "from collections import Counter\n",
    "\n",
    "# fit and apply the transform\n",
    "X_over, y_over = oversample.fit_resample(X, y)\n",
    "\n",
    "# summarize class distribution\n",
    "print('Before : ',Counter(y))\n",
    "print('After  : ',Counter(y_over))"
   ]
  },
  {
   "cell_type": "code",
   "execution_count": 173,
   "metadata": {
    "execution": {
     "iopub.execute_input": "2022-03-12T19:09:32.486568Z",
     "iopub.status.busy": "2022-03-12T19:09:32.486297Z",
     "iopub.status.idle": "2022-03-12T19:09:33.250870Z",
     "shell.execute_reply": "2022-03-12T19:09:33.249548Z",
     "shell.execute_reply.started": "2022-03-12T19:09:32.486538Z"
    }
   },
   "outputs": [],
   "source": [
    "# In the first step we will split the data in training and remaining dataset\n",
    "X_train, X_rem, y_train, y_rem = train_test_split(X_over, y_over, train_size=0.8) \n",
    "\n",
    "# Now since we want the valid and test size to be equal (10% each of overall data). \n",
    "# we have to define valid_size=0.5 (that is 50% of remaining data)\n",
    "test_size = 0.5\n",
    "\n",
    "X_valid, X_test, y_valid, y_test = train_test_split(X_rem,y_rem,test_size=0.5,random_state=101) "
   ]
  },
  {
   "cell_type": "code",
   "execution_count": 174,
   "metadata": {
    "execution": {
     "iopub.execute_input": "2022-03-12T19:09:38.431205Z",
     "iopub.status.busy": "2022-03-12T19:09:38.430895Z",
     "iopub.status.idle": "2022-03-12T19:25:44.994564Z",
     "shell.execute_reply": "2022-03-12T19:25:44.993657Z",
     "shell.execute_reply.started": "2022-03-12T19:09:38.431169Z"
    }
   },
   "outputs": [],
   "source": [
    "my_model3 = XGBRegressor(n_estimators=1000, learning_rate=0.05, n_jobs=4)\n",
    "my_model3.fit(X_train, y_train, \n",
    "             early_stopping_rounds=5, \n",
    "             eval_set=[(X_valid, y_valid)], \n",
    "             verbose=False)\n",
    "\n",
    "# Wait a bit, will take time"
   ]
  },
  {
   "cell_type": "code",
   "execution_count": 175,
   "metadata": {
    "execution": {
     "iopub.execute_input": "2022-03-12T19:26:31.415373Z",
     "iopub.status.busy": "2022-03-12T19:26:31.415040Z",
     "iopub.status.idle": "2022-03-12T19:26:32.792773Z",
     "shell.execute_reply": "2022-03-12T19:26:32.792069Z",
     "shell.execute_reply.started": "2022-03-12T19:26:31.415338Z"
    }
   },
   "outputs": [],
   "source": [
    "# Get predictions\n",
    "predictions5 = my_model3.predict(X_valid)"
   ]
  },
  {
   "cell_type": "code",
   "execution_count": 176,
   "metadata": {
    "execution": {
     "iopub.execute_input": "2022-03-12T19:26:40.399218Z",
     "iopub.status.busy": "2022-03-12T19:26:40.398793Z",
     "iopub.status.idle": "2022-03-12T19:26:40.770072Z",
     "shell.execute_reply": "2022-03-12T19:26:40.769149Z",
     "shell.execute_reply.started": "2022-03-12T19:26:40.399186Z"
    },
    "scrolled": true
   },
   "outputs": [],
   "source": [
    "model_eval(y_valid, predictions5)"
   ]
  },
  {
   "cell_type": "markdown",
   "metadata": {},
   "source": [
    "<div style=\"font-family: Trebuchet MS;background-color:HoneyDew;color:Black;text-align: left;padding-top: 5px;padding-bottom: 5px;padding-left: 20px;padding-right: 10px;border-radius: 15px 50px;letter-spacing: 2px;\">\n",
    "    <b>Another tiny improvement</b></div>"
   ]
  },
  {
   "cell_type": "code",
   "execution_count": 177,
   "metadata": {
    "execution": {
     "iopub.execute_input": "2022-03-12T19:27:02.912837Z",
     "iopub.status.busy": "2022-03-12T19:27:02.912565Z",
     "iopub.status.idle": "2022-03-12T19:27:03.390671Z",
     "shell.execute_reply": "2022-03-12T19:27:03.389640Z",
     "shell.execute_reply.started": "2022-03-12T19:27:02.912809Z"
    }
   },
   "outputs": [],
   "source": [
    "# Plot feature importance\n",
    "from xgboost import plot_importance\n",
    "def plot_features(booster, figsize):    \n",
    "    fig, ax = plt.subplots(1,1,figsize=figsize)\n",
    "    return plot_importance(booster=booster, ax=ax)\n",
    "plot_features(my_model3, (10,14))"
   ]
  },
  {
   "cell_type": "markdown",
   "metadata": {
    "execution": {
     "iopub.execute_input": "2022-03-12T05:18:58.418572Z",
     "iopub.status.busy": "2022-03-12T05:18:58.418154Z",
     "iopub.status.idle": "2022-03-12T05:18:58.448155Z",
     "shell.execute_reply": "2022-03-12T05:18:58.447213Z",
     "shell.execute_reply.started": "2022-03-12T05:18:58.418473Z"
    }
   },
   "source": [
    "<div style=\"font-family: Trebuchet MS;background-color:DarkCyan;color:Azure;text-align: left;padding-top: 5px;padding-bottom: 20px;padding-left: 20px;padding-right: 10px;border-radius: 15px 50px;letter-spacing: 2px;\">\n",
    "    <h2>4. Test Model with Test Dataset</h2>\n",
    "    </div>\n",
    "    "
   ]
  },
  {
   "cell_type": "code",
   "execution_count": 178,
   "metadata": {
    "execution": {
     "iopub.execute_input": "2022-03-12T19:27:13.343549Z",
     "iopub.status.busy": "2022-03-12T19:27:13.342717Z",
     "iopub.status.idle": "2022-03-12T19:27:14.770759Z",
     "shell.execute_reply": "2022-03-12T19:27:14.770065Z",
     "shell.execute_reply.started": "2022-03-12T19:27:13.343481Z"
    }
   },
   "outputs": [],
   "source": [
    "# Get predictions\n",
    "predictions6 = my_model3.predict(X_test)"
   ]
  },
  {
   "cell_type": "code",
   "execution_count": 180,
   "metadata": {
    "execution": {
     "iopub.execute_input": "2022-03-12T19:27:42.141293Z",
     "iopub.status.busy": "2022-03-12T19:27:42.140618Z",
     "iopub.status.idle": "2022-03-12T19:27:42.500046Z",
     "shell.execute_reply": "2022-03-12T19:27:42.498893Z",
     "shell.execute_reply.started": "2022-03-12T19:27:42.141222Z"
    }
   },
   "outputs": [],
   "source": [
    "model_eval(y_test, predictions6)"
   ]
  },
  {
   "cell_type": "code",
   "execution_count": null,
   "metadata": {},
   "outputs": [],
   "source": []
  }
 ],
 "metadata": {
  "kernelspec": {
   "display_name": "Python 3 (ipykernel)",
   "language": "python",
   "name": "python3"
  },
  "language_info": {
   "codemirror_mode": {
    "name": "ipython",
    "version": 3
   },
   "file_extension": ".py",
   "mimetype": "text/x-python",
   "name": "python",
   "nbconvert_exporter": "python",
   "pygments_lexer": "ipython3",
   "version": "3.8.12"
  }
 },
 "nbformat": 4,
 "nbformat_minor": 4
}
