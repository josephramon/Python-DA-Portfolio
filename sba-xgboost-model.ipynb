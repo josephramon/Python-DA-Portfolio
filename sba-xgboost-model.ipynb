{
 "cells": [
  {
   "cell_type": "markdown",
   "metadata": {},
   "source": [
    "<div style=\"font-family: Trebuchet MS;background-color:DarkCyan;color:Azure;text-align: left;padding-top: 5px;padding-bottom: 15px;padding-left: 20px;padding-right: 10px;border-radius: 15px 50px;letter-spacing: 2px;a:link{color: white}\">\n",
    "    <h1 style='color:GhostWhite;'>Part 1: Should This Loan be Approved or Denied ?</h1>\n",
    "\n",
    "An XGBoost v1.6+ data model to predict whether a loan can be approved or denied.\n",
    "\n",
    "Optuna hyperparameter tuning for the XGBoost model is in Part 2 => <a style=\"color:yellow\" href=\"https://www.kaggle.com/code/josephramon/sba-optuna-xgboost\">Part 2</a><br>\n",
    "    </div>"
   ]
  },
  {
   "cell_type": "markdown",
   "metadata": {},
   "source": [
    "<div class=\"alert alert-block alert-success\">  \n",
    "    <b>Dataset Source</b><br><br>\n",
    "    <a href=\"https://www.kaggle.com/mirbektoktogaraev/should-this-loan-be-approved-or-denied\">U.S. Small Business Administration (SBA) Dataset</a>\n",
    "<br><br>\n",
    "    All information about the dataset can be found at the <b>above link</b><br><br>    \n",
    "    *<i>Thanks to Hamza for his <a href=\"https://www.kaggle.com/code/hamzaghanmi/xgboost-hyperparameter-tuning-using-optuna/notebook\">Notebook on Optuna</a> which was used as a guide.</i> \n",
    "<br><br>\n",
    "    If interested, Data Exploratory Visualization in Tableau can also be seen at :<br>\n",
    "    <a href= \"https://public.tableau.com/app/profile/joseph8038/viz/SBADatasetVisualizationandAnalysis/SBADatasetVisualizationandAnalysis-StoryBoard\">SBA Data Exploratory Visualization in Tableau</a>\n",
    "</div>"
   ]
  },
  {
   "cell_type": "markdown",
   "metadata": {},
   "source": [
    "<div class=\"alert alert-block alert-info\" style=\"color:DarkSlateBlue\">\n",
    "This notebook is divided into 2 main parts:<br>\n",
    "<ul>\n",
    "<li><a style=\"color:DarkSlateGrey;\" href=\"#part1\"><b>Part 1: Pipeline</b></a> - this is the end result encapsulated into a pipeline</li><br>\n",
    "<li><a style=\"color:DarkSlateGrey\" href=\"#part2\"><b>Part 2: Data Exploration (EDA) and Preparation, Modeling, Metrics</b></a> - from start to end, with some notes</li><br>\n",
    "</ul>\n",
    "\"Our model results are way more dependent on how well feature engineering is performed than on the model itself. Machine Learning models are like very skilled linguists that can decipher any text in any language. However, it will not be helpful if they are handed a bunch of scribbles or blurred out text. EDA should not be skipped, as a thorough EDA and feature engineering process accounts for 90% of the results of a good model.\"<br><br>\n",
    "One method of avoiding memory leaks is doing processing inside a function. It creates a new scope for the intermediate variables and removes them automatically when the interpreter exits the function; hence, most of the code below are encapsulated into functions for this purpose. \n",
    "</div>"
   ]
  },
  {
   "cell_type": "markdown",
   "metadata": {},
   "source": [
    "<h2>Table Of Contents</h2>\n",
    "<ul>\n",
    "    <li><a style=\"color:DarkSlateGrey\" href=\"#paths_and_flags\">Paths and Flags</a></li>\n",
    "    <li><a style=\"color:DarkSlateGrey\" href=\"#libraries\">Libraries</a></li>   \n",
    "    <li><a style=\"color:DarkSlateGrey\" href=\"#functions\">Custom Classes</a></li>\n",
    "    <li><a style=\"color:DarkSlateGrey\" href=\"#xgboost_class\">XGBoost Class</a></li>\n",
    "    <li><a style=\"color:DarkSlateGrey\" href=\"#other_models\">Other Models Class</a></li>\n",
    "    <br>\n",
    "    <li><a style=\"color:DarkSlateGrey\" href=\"#part1\">Part 1. PipeLine</a></li>\n",
    "    <ul>\n",
    "        <li><a style=\"color:DarkSlateGrey\" href=\"#pl_classes\">Pipeline Classes</a></li>\n",
    "        <li><a style=\"color:DarkSlateGrey\" href=\"#load_pl_df\">Load Dataset for PipeLine</a></li>\n",
    "        <li><a style=\"color:DarkSlateGrey\" href=\"#pl_run\">Run the pipeline</a></li>\n",
    "    </ul>\n",
    "    <br>\n",
    "    <li><a style=\"color:DarkSlateGrey\" href=\"#part2\">Part 2. Data Exploration and Preparation, Modeling, Metrics</a></li>\n",
    "    <ul>\n",
    "        <li><a style=\"color:DarkSlateGrey\" href=\"#de_load_df\">Load Dataset</a></li>\n",
    "        <li><a style=\"color:DarkSlateGrey\" href=\"#dep\">Data Exploration / Preparation</a></li>\n",
    "        <li><a style=\"color:DarkSlateGrey\" href=\"#build_model\">Build Model Using XGBoost</a></li>\n",
    "        <ul>\n",
    "            <li><a style=\"color:DarkSlateGrey\" href=\"#model1\">Model v1</a></li>\n",
    "            <li><a style=\"color:DarkSlateGrey\" href=\"#oversample\">Oversample</a></li>\n",
    "            <ul>\n",
    "                <li><a style=\"color:DarkSlateGrey\" href=\"#model2\">Model v2</a></li>\n",
    "                <li><a style=\"color:DarkSlateGrey\" href=\"#model3\">Model v3</a></li>\n",
    "            </ul>\n",
    "        </ul>\n",
    "        <li><a style=\"color:DarkSlateGrey\" href=\"#test_model\">Test Model</a></li>\n",
    "        <ul>\n",
    "            <li><a style=\"color:DarkSlateGrey\" href=\"#test_test_dataset\">Test Model With Test Dataset</a></li>\n",
    "           <li><a style=\"color:DarkSlateGrey\" href=\"#test_user_input\">Test Model With User Input</a></li>\n",
    "        </ul>\n",
    "        <li><a style=\"color:DarkSlateGrey\" href=\"#mutual_info\">Mutual Information Scores</a></li>\n",
    "        <li><a style=\"color:DarkSlateGrey\" href=\"#trim_datasets\">Trim Datasets</a></li>\n",
    "        <li><a style=\"color:DarkSlateGrey\" href=\"#results1\">Full or Trimmed Dataset</a></li>\n",
    "    </ul>  \n",
    "    <br>\n",
    "    <li><a style=\"color:DarkSlateGrey\" href=\"#part2\" target=\"_blank\">Optuna Hyperparameter Tuning - in Part 2 of this notebook</a></li>\n",
    "</ul>"
   ]
  },
  {
   "cell_type": "markdown",
   "metadata": {},
   "source": [
    "<a id=\"paths_and_flags\"></a>\n",
    "<div style=\"font-family: Trebuchet MS;background-color:LightSteelBlue;color:Black;text-align: left;padding-top: 5px;padding-bottom: 5px;padding-left: 20px;padding-right: 10px;border-radius: 15px 50px;letter-spacing: 2px;\">\n",
    "    <b>Paths and Flags</b></div>"
   ]
  },
  {
   "cell_type": "code",
   "execution_count": 1,
   "metadata": {
    "execution": {
     "iopub.execute_input": "2022-03-26T06:49:35.140717Z",
     "iopub.status.busy": "2022-03-26T06:49:35.140141Z",
     "iopub.status.idle": "2022-03-26T06:49:35.153238Z",
     "shell.execute_reply": "2022-03-26T06:49:35.152367Z",
     "shell.execute_reply.started": "2022-03-26T06:49:35.140613Z"
    }
   },
   "outputs": [
    {
     "name": "stdout",
     "output_type": "stream",
     "text": [
      "Not running a Kaggle notebook\n"
     ]
    }
   ],
   "source": [
    "import os\n",
    "'''\n",
    "kaggle_flag :\n",
    "   0 - if running outside Kaggle (e.g. Jupyter Notebook), change filepath & savepath to your \n",
    "       own path\n",
    "   1 - if running as a Kaggle notebook\n",
    "'''\n",
    "# Change this logic to your own if needed\n",
    "if os.path.exists('../usr/lib/myfuncs/myfuncs.py'):\n",
    "    kaggle_flag = 1\n",
    "    print('Running a Kaggle notebook')\n",
    "else:\n",
    "    kaggle_flag = 0\n",
    "    print('Not running a Kaggle notebook')\n",
    "    \n",
    "# alert_flag - change to 0 for no sound alert, 1 for sound alert after long running cells\n",
    "alert_flag = 0\n",
    "\n",
    "# GPU is automatically detected if activated\n",
    "\n",
    "#---------------------------------------------------------------------------------------#\n",
    "\n",
    "if kaggle_flag == 1:             # Kaggle\n",
    "    filepath  = \"../input/should-this-loan-be-approved-or-denied/\"\n",
    "    savepath  = \"./\"\n",
    "    final_ds  = '../input/sba-xgboost-model/sba_final.csv.feather'  # imported from Part 1 Notebook\n",
    "    final_csv = '../input/sba-xgboost-model/sba_final.csv'          # imported from Part 1 Notebook\n",
    "    functions_path = \"../usr/lib/myfuncs/myfuncs.py\"\n",
    "else:\n",
    "    filepath  = \"C:\\\\Python\\\\Python_Data_Science_Exercises\\\\datasets\\\\\"\n",
    "    savepath  = \"C:\\\\Python\\\\Python_Data_Science_Exercises\\\\datasets\\\\\"\n",
    "    final_ds  = f'{savepath}sba_final.csv.feather'\n",
    "    final_csv = f'{savepath}sba_final.csv'\n",
    "    functions_path = 'C:\\\\Python\\\\Python_Data_Science_Exercises\\\\mylibs\\\\'\n",
    "\n",
    "audio_path=\"https://www.soundjay.com/misc/sounds/tablet-bottle-1.mp3\" # for alert"
   ]
  },
  {
   "cell_type": "markdown",
   "metadata": {},
   "source": [
    "<a id=\"libraries\"></a>\n",
    "<div style=\"font-family: Trebuchet MS;background-color:LightSteelBlue;color:Black;text-align: left;padding-top: 5px;padding-bottom: 5px;padding-left: 20px;padding-right: 10px;border-radius: 15px 50px;letter-spacing: 2px;\">\n",
    "    <b>Libraries</b></div>"
   ]
  },
  {
   "cell_type": "code",
   "execution_count": 2,
   "metadata": {},
   "outputs": [
    {
     "name": "stdout",
     "output_type": "stream",
     "text": [
      "Package installations completed\n"
     ]
    }
   ],
   "source": [
    "from IPython.display import clear_output   # to be able to use clear_output(wait=True)\n",
    "def install_packages():\n",
    "    print('Please wait, package installations started, if needed')\n",
    "    libs = ['scikit-learn', 'seaborn', 'numpy','matplotlib', 'tensorflow','torch','joblib',\n",
    "            'psutil','imbalanced-learn','xgboost','optuna','pyarrow','pyttsx3',\n",
    "            'pandas-profiling','sweetviz','dataprep','pympler','memory_profiler','line_profiler',\n",
    "            'multiprocessing']\n",
    "    \n",
    "    piplist = !pip list\n",
    "    for i in range(len(libs)):\n",
    "        if not piplist.grep(libs[i]):\n",
    "            !pip3 install {libs[i]}\n",
    "\n",
    "    clear_output(wait=True)\n",
    "    print('Package installations completed')\n",
    "\n",
    "install_packages()"
   ]
  },
  {
   "cell_type": "code",
   "execution_count": 3,
   "metadata": {
    "execution": {
     "iopub.execute_input": "2022-03-26T06:49:37.352654Z",
     "iopub.status.busy": "2022-03-26T06:49:37.352409Z",
     "iopub.status.idle": "2022-03-26T06:49:39.053576Z",
     "shell.execute_reply": "2022-03-26T06:49:39.052631Z",
     "shell.execute_reply.started": "2022-03-26T06:49:37.352624Z"
    }
   },
   "outputs": [
    {
     "name": "stdout",
     "output_type": "stream",
     "text": [
      "Package imports completed\n"
     ]
    }
   ],
   "source": [
    "import pandas as pd\n",
    "#import modin.pandas as pd\n",
    "import seaborn as sns\n",
    "import matplotlib.pyplot as plt\n",
    "import numpy as np\n",
    "import warnings\n",
    "import pyttsx3\n",
    "from IPython.display import Audio, display\n",
    "from IPython.display import FileLink\n",
    "from IPython.display import IFrame\n",
    "from IPython.core.display import HTML\n",
    "import hashlib\n",
    "import copy                     # for deepcopy()\n",
    "import datetime as dt\n",
    "import optuna\n",
    "import gc\n",
    "from pandas_profiling import ProfileReport\n",
    "import sweetviz as sv\n",
    "import shutil\n",
    "import psutil\n",
    "import os\n",
    "import sys\n",
    "import pickle\n",
    "import joblib\n",
    "from pprint import pprint\n",
    "import torch             # for clearing GPU cache\n",
    "from time import sleep\n",
    "import multiprocessing as mp\n",
    "from pympler import muppy       # for memory profiling\n",
    "from pympler import summary     # for memory profiling\n",
    "from pympler.classtracker import ClassTracker\n",
    "import xgboost\n",
    "%load_ext line_profiler\n",
    "%load_ext memory_profiler\n",
    "%matplotlib inline\n",
    "warnings.filterwarnings('ignore')\n",
    "warnings.simplefilter(\"ignore\")\n",
    "\n",
    "clear_output(wait=True)\n",
    "print('Package imports completed')"
   ]
  },
  {
   "cell_type": "code",
   "execution_count": 4,
   "metadata": {},
   "outputs": [
    {
     "name": "stdout",
     "output_type": "stream",
     "text": [
      "XGBoost version is already 1.6+\n"
     ]
    }
   ],
   "source": [
    "# Kernel must be restarted if XGBoost is upgraded\n",
    "# importlib.reload and %autoreload do not work, so manually restart \n",
    "# This check is basically for Kaggle which has an older version of XGBoost, as at April 2022\n",
    "if '1.6' not in xgboost.__version__:\n",
    "    !pip3 install --upgrade xgboost\n",
    "    clear_output(wait=True)\n",
    "    print('XGBoost Package upgrade completed.  KERNEL RESTART NEEDED FOR NOTEBOOK.')\n",
    "else:\n",
    "    print('XGBoost version is already 1.6+')"
   ]
  },
  {
   "cell_type": "code",
   "execution_count": 5,
   "metadata": {},
   "outputs": [
    {
     "name": "stdout",
     "output_type": "stream",
     "text": [
      "XGBoost __Version__ : 1.6.0\n",
      "\n",
      "Name: xgboost\n",
      "Version: 1.6.0\n",
      "Summary: XGBoost Python Package\n",
      "Home-page: https://github.com/dmlc/xgboost\n",
      "Author: \n",
      "Author-email: \n",
      "License: Apache-2.0\n",
      "Location: c:\\programdata\\anaconda3\\lib\\site-packages\n",
      "Requires: scipy, numpy\n",
      "Required-by: autoxgb\n"
     ]
    }
   ],
   "source": [
    "# XGBoost version should be 1.6+ and up\n",
    "assert '1.6' in xgboost.__version__,\\\n",
    "    \"XGBoost version must be 1.6+. RESTART KERNEL if already upgraded.\"\n",
    "\n",
    "print(f'XGBoost __Version__ : {xgboost.__version__}')\n",
    "print()\n",
    "!pip3 show xgboost"
   ]
  },
  {
   "cell_type": "code",
   "execution_count": 6,
   "metadata": {},
   "outputs": [],
   "source": [
    "# ensure garbage collector is enabled\n",
    "(gc.isenabled() == False) and gc.enable();"
   ]
  },
  {
   "cell_type": "markdown",
   "metadata": {},
   "source": [
    "<a id=\"functions\"></a>\n",
    "<div style=\"font-family: Trebuchet MS;background-color:LightSteelBlue;color:Black;text-align: left;padding-top: 5px;padding-bottom: 5px;padding-left: 20px;padding-right: 10px;border-radius: 15px 50px;letter-spacing: 2px;\">\n",
    "    <b>Custom Functions and Classes</b></div>"
   ]
  },
  {
   "cell_type": "code",
   "execution_count": 7,
   "metadata": {},
   "outputs": [
    {
     "data": {
      "text/plain": [
       "['C:\\\\Python\\\\Python_Data_Science_Exercises',\n",
       " 'C:\\\\ProgramData\\\\Anaconda3\\\\python38.zip',\n",
       " 'C:\\\\ProgramData\\\\Anaconda3\\\\DLLs',\n",
       " 'C:\\\\ProgramData\\\\Anaconda3\\\\lib',\n",
       " 'C:\\\\ProgramData\\\\Anaconda3',\n",
       " '',\n",
       " 'C:\\\\Users\\\\latri\\\\AppData\\\\Roaming\\\\Python\\\\Python38\\\\site-packages',\n",
       " 'C:\\\\ProgramData\\\\Anaconda3\\\\lib\\\\site-packages',\n",
       " 'C:\\\\ProgramData\\\\Anaconda3\\\\lib\\\\site-packages\\\\win32',\n",
       " 'C:\\\\ProgramData\\\\Anaconda3\\\\lib\\\\site-packages\\\\win32\\\\lib',\n",
       " 'C:\\\\ProgramData\\\\Anaconda3\\\\lib\\\\site-packages\\\\Pythonwin']"
      ]
     },
     "execution_count": 7,
     "metadata": {},
     "output_type": "execute_result"
    }
   ],
   "source": [
    "sys.path"
   ]
  },
  {
   "cell_type": "code",
   "execution_count": 8,
   "metadata": {},
   "outputs": [
    {
     "name": "stdout",
     "output_type": "stream",
     "text": [
      "Custom functions import completed\n"
     ]
    }
   ],
   "source": [
    "# import custom functions\n",
    "# RESTART kernel if myfuncs is modified\n",
    "if functions_path not in sys.path:\n",
    "    sys.path.append(functions_path)\n",
    "\n",
    "from myfuncs import *\n",
    "\n",
    "print('Custom functions import completed')"
   ]
  },
  {
   "cell_type": "markdown",
   "metadata": {},
   "source": [
    "<div class=\"alert alert-block alert-info\">\n",
    "<b>Custom functions and classes in <a style=\"color:ForestGreen\" href=\"https://www.kaggle.com/code/josephramon/myfuncs\" target=\"_blank\">myfuncs.py</a></b>.<br>  \n",
    "In Kaggle, myfuncs.py is set up as a <b>Utility Script</b> in /usr/lib<br>\n",
    "<ul>\n",
    "    <li>is_kaggle_gpu_enabled()</li>\n",
    "<li>clear_gpu(tree_method='gpu_hist')</li>\n",
    "<li>reduce_mem_usage(df, print_info = True, use_float16=False)</li>\n",
    "<li>runtime(rt1,rt2)</li>\n",
    "<li>create_download_link(title = \"Download \", filename = \"data.csv\")</li>\n",
    "<li>GetRam()</li>\n",
    "<li>convertFloatToDecimal(f=0.0, precision=2)</li>\n",
    "<li>formatFileSize(size, sizeIn, sizeOut, precision=0)</li>\n",
    "<li>check_cols_with_nulls(df)</li>\n",
    "<li>check_infinity_nan(df, dfname)</li>\n",
    "<li>fixvals(val)</li>\n",
    "<li>model_eval(y_valid,predictions, cmDisplay='False')</li>\n",
    "<li>plot_features(booster, figsize)</li>\n",
    "<li>make_mi_scores(X, y)</li>\n",
    "<li>plot_mi_scores(scores)</li>\n",
    "<li>GetSweetVizReport(df, htmlpath, kaggle_flag)</li>\n",
    "<li>SetVoice(kaggle_flag)</li>\n",
    "<li>class color\n",
    "</div>"
   ]
  },
  {
   "cell_type": "code",
   "execution_count": 9,
   "metadata": {},
   "outputs": [
    {
     "data": {
      "text/plain": [
       "'hist'"
      ]
     },
     "execution_count": 9,
     "metadata": {},
     "output_type": "execute_result"
    }
   ],
   "source": [
    "gpu_enabled = is_kaggle_gpu_enabled()\n",
    "\n",
    "if gpu_enabled == False:\n",
    "    tree_method = 'hist'\n",
    "else:\n",
    "    tree_method = 'gpu_hist'\n",
    "\n",
    "del gpu_enabled\n",
    "gc.collect()\n",
    "\n",
    "sleep(5)\n",
    "clear_output(wait=True)\n",
    "tree_method"
   ]
  },
  {
   "cell_type": "code",
   "execution_count": null,
   "metadata": {
    "execution": {
     "iopub.execute_input": "2022-03-26T06:49:39.055357Z",
     "iopub.status.busy": "2022-03-26T06:49:39.055059Z",
     "iopub.status.idle": "2022-03-26T06:49:39.063894Z",
     "shell.execute_reply": "2022-03-26T06:49:39.062913Z",
     "shell.execute_reply.started": "2022-03-26T06:49:39.055318Z"
    }
   },
   "outputs": [],
   "source": [
    "''' \n",
    "Set up voice object.  Used in different areas of notebook to indicate completion of long processes.\n",
    "'''\n",
    "engine = SetVoice(kaggle_flag)"
   ]
  },
  {
   "cell_type": "markdown",
   "metadata": {},
   "source": [
    "<a id=\"xgboost_class\"></a>\n",
    "<div style=\"font-family: Trebuchet MS;background-color:LightSteelBlue;color:Black;text-align: left;padding-top: 5px;padding-bottom: 5px;padding-left: 20px;padding-right: 10px;border-radius: 15px 50px;letter-spacing: 2px;\">\n",
    "    <b>XGBoost Class</b></div>"
   ]
  },
  {
   "cell_type": "code",
   "execution_count": 10,
   "metadata": {
    "execution": {
     "iopub.execute_input": "2022-03-26T06:49:39.211021Z",
     "iopub.status.busy": "2022-03-26T06:49:39.210498Z",
     "iopub.status.idle": "2022-03-26T06:49:39.264543Z",
     "shell.execute_reply": "2022-03-26T06:49:39.263710Z",
     "shell.execute_reply.started": "2022-03-26T06:49:39.210977Z"
    }
   },
   "outputs": [],
   "source": [
    "from imblearn.over_sampling import RandomOverSampler\n",
    "from collections import Counter\n",
    "from sklearn.model_selection import train_test_split\n",
    "#from xgboost import XGBRegressor\n",
    "from xgboost import XGBClassifier\n",
    "\n",
    "class process_model():  \n",
    "    def __init__(self, X, y):\n",
    "        self.X = X\n",
    "        self.y = y\n",
    "        self.X_train, self.y_train = None, None\n",
    "        self.X_valid, self.X_test = None, None\n",
    "        self.y_valid, self.y_test = None, None\n",
    "\n",
    "        print(f'MIS_Status Count ->  1 : {Counter(y)[1]}, 0 : {Counter(y)[0]}')\n",
    "    \n",
    "    # oversampling method\n",
    "    def osample(self, print_info = True):\n",
    "        # define oversampling strategy\n",
    "        oversample = RandomOverSampler(sampling_strategy='minority') \n",
    "        if print_info == True:\n",
    "            print('X size : ', len(self.X))\n",
    "            print('y size : ', len(self.y))\n",
    "        # fit and apply the transform\n",
    "        X_over, y_over = oversample.fit_resample(self.X, self.y)\n",
    "\n",
    "        # summarize class distribution\n",
    "        if print_info == True:\n",
    "            print(f'Before Oversampling -> 1 : {Counter(self.y)[1]}, 0 : {Counter(self.y)[0]}')\n",
    "            print(f'After Oversampling  -> 1 : {Counter(y_over)[1]}, 0 : {Counter(y_over)[0]}')\n",
    "        \n",
    "        # update X and y with the oversampled results \n",
    "        self.X = X_over\n",
    "        self.y = y_over\n",
    "        \n",
    "        # return the oversampled results in case they are needed in another module\n",
    "        #return {'X_over':X_over, 'y_over':y_over}\n",
    "    \n",
    "    def split_data(self, X_size = 0.7):   \n",
    "        # Split Data into Train:Validate:Test\n",
    "        \n",
    "        # train_size=X_size\n",
    "        # In the first step, we will split the data in training and remaining dataset\n",
    "        self.X_train, X_rem, self.y_train, y_rem = train_test_split(self.X, self.y,\n",
    "                                                        train_size = X_size, random_state=48) \n",
    "\n",
    "        # Now since we want the valid and test size to be equal,\n",
    "        # we have to define valid_size=0.5 (that is 50% of remaining data)\n",
    "        # test_size = 0.5\n",
    "\n",
    "        self.X_valid, self.X_test, self.y_valid, self.y_test = train_test_split(X_rem,y_rem,\n",
    "                                                            test_size=0.5, random_state=48)\n",
    "        \n",
    "        return {'X_train':self.X_train, 'y_train':self.y_train,\n",
    "                'X_valid':self.X_valid, 'y_valid':self.y_valid,\n",
    "                'X_test':self.X_test, 'y_test':self.y_test}\n",
    "    \n",
    "    # Method to run model \n",
    "    # desc - description of metrics report\n",
    "    def prep_run_model(self, desc='Metrics', cmDisplay=False, PipeLine_flag = False,\n",
    "                hyperparams = {'n_estimators': 1000, 'learning_rate': 0.05, 'max_depth': 6,\n",
    "                               'tree_method':tree_method, 'early_stopping_rounds':100,\n",
    "                               'eval_metric':['logloss','error']}):\n",
    "        # from XGBoost 1.6, early_stopping_rounds and eval_metric are under parameters,\n",
    "        # and deprecated from fit() method.\n",
    "        # The default hyperparameters are conservative, to help avoid overfitting\n",
    "        \n",
    "        print()\n",
    "        print(f\"{color.bold}Please wait, Fitting model can take time ...{color.end}\")\n",
    "        \n",
    "        '''\n",
    "        XGBRegressor is for continuous target/outcome variables. These are often called \n",
    "        \"regression problems.\"\n",
    "\n",
    "        XGBClassifier is for categorical target/outcome variables. These are often called \n",
    "        \"classification problems.\"\n",
    "        \n",
    "        xg_model = XGBRegressor(n_estimators = self.mn_estimators,\n",
    "                                learning_rate = self.mlearning_rate,\n",
    "                                max_depth = self.mmax_depth,\n",
    "                                n_jobs=4)\n",
    "        \n",
    "        xg_model = XGBClassifier(n_estimators = self.mn_estimators,\n",
    "                                learning_rate = self.mlearning_rate,\n",
    "                                max_depth = self.mmax_depth,\n",
    "                                use_label_encoder =False,\n",
    "                                n_jobs=4)\n",
    "        '''\n",
    "        \n",
    "        if PipeLine_flag == True:\n",
    "            # hyperparams is a result of Optuna hyperparameter tuning (Part 3 of this notebook)\n",
    "            # the hyperparameters lean towards being conservative to help avoid overfitting\n",
    "            hyperparams = { 'tree_method': tree_method,\n",
    "                            'lambda': 0.023437933789759252,\n",
    "                            'alpha': 0.005813454622750776,\n",
    "                            'gamma': 0,\n",
    "                            'colsample_bytree': 0.9,\n",
    "                            'subsample': 1.0,\n",
    "                            'learning_rate': 0.05,\n",
    "                            'n_estimators': 1000,\n",
    "                            'max_depth': 13,\n",
    "                            'random_state': 48,\n",
    "                            'min_child_weight': 1,\n",
    "                            'early_stopping_rounds': 100.0,\n",
    "                            'eval_metric': 'error'}\n",
    "            \n",
    "        xg_model = XGBClassifier(**hyperparams,use_label_encoder =False)\n",
    "       \n",
    "        #eval_setparam = [(self.X_train, self.y_train), (self.X_valid, self.y_valid)]\n",
    "        eval_setparam = [(self.X_valid, self.y_valid)]\n",
    "        \n",
    "        xg_model.fit(self.X_train, self.y_train,  \n",
    "                     eval_set = eval_setparam,\n",
    "                     verbose=False)\n",
    "        \n",
    "        gc.collect()\n",
    "        clear_gpu()\n",
    " \n",
    "        print(\"Fitting model completed.\")\n",
    "        print()\n",
    "        print('Preparing Predictions')\n",
    "    \n",
    "        # Get predictions\n",
    "        predictions = xg_model.predict(self.X_valid)\n",
    "    \n",
    "        print()\n",
    "        print(f'{color.underline}{desc}{color.end}')\n",
    "\n",
    "        eval_results = model_eval(self.y_valid, predictions, cmDisplay)\n",
    "            \n",
    "        # Return these values as they will be needed for further testing or metrics\n",
    "        # in dictionary form to remember easier \n",
    "        return {'xg_model':xg_model,'predictions':predictions,\n",
    "                    'X_train':self.X_train, 'y_train':self.y_train,\n",
    "                    'X_valid':self.X_valid, 'y_valid':self.y_valid,\n",
    "                    'X_test':self.X_test, 'y_test':self.y_test, 'eval_results':eval_results}"
   ]
  },
  {
   "cell_type": "markdown",
   "metadata": {},
   "source": [
    "<a id=\"other_models\"></a>\n",
    "<div style=\"font-family: Trebuchet MS;background-color:LightSteelBlue;color:Black;text-align: left;padding-top: 5px;padding-bottom: 5px;padding-left: 20px;padding-right: 10px;border-radius: 15px 50px;letter-spacing: 2px;\">\n",
    "    <b>Other Models Class</b></div>"
   ]
  },
  {
   "cell_type": "code",
   "execution_count": 11,
   "metadata": {},
   "outputs": [],
   "source": [
    "from sklearn.ensemble import RandomForestClassifier\n",
    "\n",
    "# inherit from XGBoost class (process_model)\n",
    "class other_models(process_model):  \n",
    "    def __init__(self, X, y):\n",
    "        self.X = X\n",
    "        self.y = y\n",
    "        self.X_train, self.y_train = None, None\n",
    "        self.X_valid, self.X_test = None, None\n",
    "        self.y_valid, self.y_test = None, None\n",
    "\n",
    "    #    print(f'MIS_Status Count ->  1 : {Counter(y)[1]}, 0 : {Counter(y)[0]}')\n",
    "    \n",
    "    # Method to run model \n",
    "    # desc - description of metrics report\n",
    "    def prep_run_model(self, desc='Metrics', modelname = 'rfc',\n",
    "                       hparams = {'n_estimators':100, 'random_state':48, 'max_depth':10},\n",
    "                       cmDisplay=False):\n",
    "        print()\n",
    "        print(f\"{color.bold}Please wait, Fitting model can take time ...{color.end}\")  \n",
    "\n",
    "        if modelname == 'rfc':\n",
    "            model = RandomForestClassifier(**hparams) \n",
    "            model.fit(self.X_train, self.y_train)\n",
    "            \n",
    "        print(\"Fitting model completed.\")\n",
    "        print()\n",
    "        print('Preparing Predictions')\n",
    "    \n",
    "        # Get predictions\n",
    "        predictions = model.predict(self.X_valid)\n",
    "    \n",
    "        print()\n",
    "        print(f'{color.underline}{desc}{color.end}')\n",
    "\n",
    "        eval_results = model_eval(self.y_valid, predictions, cmDisplay)\n",
    "        \n",
    "        gc.collect()\n",
    "        clear_gpu()\n",
    "        \n",
    "        # Return these values as they will be needed for further testing or metrics\n",
    "        # in dictionary form to remember easier \n",
    "        return {'model':model,'predictions':predictions,\n",
    "                    'X_train':self.X_train, 'y_train':self.y_train,\n",
    "                    'X_valid':self.X_valid, 'y_valid':self.y_valid,\n",
    "                    'X_test':self.X_test, 'y_test':self.y_test, 'eval_results':eval_results}"
   ]
  },
  {
   "cell_type": "markdown",
   "metadata": {},
   "source": [
    "<a id=\"part1\"></a>\n",
    "<div style=\"font-family: Trebuchet MS;background-color:DarkRed;color:AliceBlue;text-align: left;padding-top: 5px;padding-bottom: 15px;padding-left: 20px;padding-right: 10px;border-radius: 15px 50px;letter-spacing: 2px;\">\n",
    "<h1 id=\"part1\" style='color:GhostWhite;'>Part 1. Pipeline</h1>\n",
    "This pipeline handles both X and y\n",
    "</div>"
   ]
  },
  {
   "cell_type": "markdown",
   "metadata": {},
   "source": [
    "<a id=\"pl_classes\"></a>\n",
    "<div style=\"font-family: Trebuchet MS;background-color:LightSteelBlue;color:Black;text-align: left;padding-top: 5px;padding-bottom: 5px;padding-left: 20px;padding-right: 10px;border-radius: 15px 50px;letter-spacing: 2px;\">\n",
    "    <b>PipeLine Classes</b></div>"
   ]
  },
  {
   "cell_type": "code",
   "execution_count": null,
   "metadata": {
    "execution": {
     "iopub.execute_input": "2022-03-26T06:49:39.287321Z",
     "iopub.status.busy": "2022-03-26T06:49:39.287085Z",
     "iopub.status.idle": "2022-03-26T06:49:39.330845Z",
     "shell.execute_reply": "2022-03-26T06:49:39.330151Z",
     "shell.execute_reply.started": "2022-03-26T06:49:39.287294Z"
    }
   },
   "outputs": [],
   "source": [
    "from sklearn.base import BaseEstimator, TransformerMixin\n",
    "from sklearn.pipeline import Pipeline\n",
    "  \n",
    "class PL_Object():\n",
    "    def __init__(self,X,y):\n",
    "        #store X and Y\n",
    "        self.X=X\n",
    "        self.y=y\n",
    "\n",
    "class PreProcessor(BaseEstimator, TransformerMixin):\n",
    "    def __init__(self,operation= 'X'):\n",
    "        self.operation=operation\n",
    "    @staticmethod\n",
    "    def enabled(**kwargs):\n",
    "        return True\n",
    "\n",
    "    def fit(self, X, y=None):\n",
    "        return self\n",
    "\n",
    "    def transform(self, X, y=None):\n",
    "        # check the parameters and return X and y inside the object\n",
    "        X_data=X.X\n",
    "        y_data=X.y\n",
    "        \n",
    "        print()\n",
    "        print(f'{color.bdunl}PreProcessor initiated for {self.operation}{color.end}')\n",
    "        \n",
    "        #  do some work and assign it back to the X object which contains both X and y data\n",
    "        if self.operation=='X':\n",
    "            '''\n",
    "            # NOTE: 'MIS_Status' is the target (y), but still in X, as we need to drop rows\n",
    "                    with NaNs. We cannot do it separately, as there will be a mismatch in count \n",
    "                    of rows.  At the end of this procedure, we separate the new target data from X \n",
    "                    and update y.\n",
    "            '''\n",
    "            \n",
    "            # Drop Na from rows\n",
    "            #---------------------\n",
    "            print(f'{color.bdblue}Drop Na{color.end}')\n",
    "            X_data.dropna(subset=['DisbursementDate', 'NewExist', 'City', 'State',\n",
    "                        'LowDoc', 'Name', 'NAICS', 'CreateJob', 'RetainedJob', 'FranchiseCode',\n",
    "                        'UrbanRural', 'NoEmp', 'Term', 'MIS_Status'], how='any', inplace=True)\n",
    "            \n",
    "            # drop invalid classifications\n",
    "            print('   Drop invalid classifications')\n",
    "            X_data = X_data[(X_data['LowDoc'] == 'Y') | (X_data['LowDoc'] == 'N')]\n",
    "            \n",
    "            X_data = X_data[(X_data['NewExist'] == 1) | (X_data['NewExist'] == 2)]   \n",
    "            \n",
    "            # Trim leading and trailing spaces\n",
    "            #---------------------------------\n",
    "            print('   Trim leading and trailing spaces, if any')\n",
    "            X_data['City'] = X_data['City'].str.strip()\n",
    "            \n",
    "            # Change dtype for columns needed for calculation or string extraction \n",
    "            #------------------------------------------------------------------------\n",
    "            print(f'{color.bdgreen}Change dtype for columns needed for calculation or string extraction{color.end}')\n",
    "            X_data = X_data.astype({'DisbursementGross':np.float64,'SBA_Appv':np.float64,\n",
    "                              'GrAppv':np.float64, 'ChgOffPrinGr':np.float64,\n",
    "                              'NAICS':np.str_, 'NewExist':np.int8})\n",
    "            \n",
    "            # Drop Duplicate Rows\n",
    "            #------------------------------------------------------------------------\n",
    "            print(f'{color.bdblue}Drop Duplicate Rows{color.end}')\n",
    "            dupl_series = X_data.duplicated()\n",
    "            num_of_dupl = len(X_data[dupl_series == True])\n",
    "            if num_of_dupl > 0:\n",
    "                X_data.drop_duplicates(inplace=True)\n",
    "        \n",
    "            # Create New Features\n",
    "            #-----------------------\n",
    "            print(f'{color.bdblue}Create New Features{color.end}')\n",
    "            X_data['Industry'] = X_data['NAICS'].str[0:2]\n",
    "            X_data = X_data.astype({'Industry':np.int8})\n",
    "            \n",
    "            X_data['Recession'] = np.where((X_data['DisbursementDate'] >= '2007-09-01')\\\n",
    "                     & (X_data['DisbursementDate'] <= '2009-06-30'), 1, 0)\n",
    "            \n",
    "            X_data['RealEstate'] = np.where(X_data['Term'] >= 240, 1, 0)\n",
    "            \n",
    "            X_data['SBA_Portion']=(X_data['SBA_Appv']/X_data['GrAppv']) * 100\n",
    "            \n",
    "            X_data[\"CityState\"] = X_data[\"City\"] + \"_\" + X_data[\"State\"]\n",
    "            \n",
    "            print()\n",
    "            print(f\"X length = {len(X_data)}\")\n",
    "            print(f\"Y length = {len(X_data['MIS_Status'])}\")\n",
    "            \n",
    "            # Update X object\n",
    "            X.X = X_data                      # type DataFrame\n",
    "            X.y = X_data.pop('MIS_Status')    # type series\n",
    "            \n",
    "        elif self.operation=='y':\n",
    "            pass                      \n",
    "        else:\n",
    "            pass\n",
    "        \n",
    "        #return modified X object\n",
    "        return X\n",
    "    \n",
    "\n",
    "class EncodeCategorical(BaseEstimator, TransformerMixin):\n",
    "    def __init__(self,operation= 'X'):\n",
    "        self.operation=operation\n",
    "    @staticmethod\n",
    "    def enabled(**kwargs):\n",
    "        return True\n",
    "\n",
    "    def fit(self, X, y=None):\n",
    "        return self\n",
    "\n",
    "    def transform(self, X, y=None):\n",
    "        # encode categorical features and return X and y inside the object\n",
    "        X_data=X.X\n",
    "        y_data=X.y\n",
    "        \n",
    "        print()\n",
    "        print(f'{color.bdunl}Encode Categorical Features initiated for {self.operation}{color.end}')\n",
    "        \n",
    "        #  do some work and assign it back to the X object\n",
    "        if self.operation=='X':         \n",
    "            X_data['LowDoc'] = np.where((X_data['LowDoc'] == 'Y'), 1, 0)\n",
    "            \n",
    "            len_data=len(X_data)\n",
    "            #cols_to_drop = []\n",
    "            hash_constant = 900000   # fixed value so we can programmatically reproduce the hash\n",
    "            #for col in X_data.columns:\n",
    "            for col in X_data[['State','CityState']]:\n",
    "                if X_data[col].dtype == 'object':\n",
    "                    print(f'Column {col} has {X_data[col].nunique()} values among {len_data}')\n",
    "\n",
    "                    if X_data[col].nunique() < 25:\n",
    "                        print(f'One-hot encoding of {col}')\n",
    "                        one_hot_cols = pd.get_dummies(X_data[col])\n",
    "                        for ohc in one_hot_cols.columns:\n",
    "                            X_data[col + '_' + ohc] = one_hot_cols[ohc]\n",
    "                    else:\n",
    "                      print(f'Hashing of {col}')\n",
    "                      X_data[col + '_hash'] = X_data[col].apply(lambda row: int(hashlib.sha1((col +\\\n",
    "                                \"_\" + str(row)).encode('utf-8')).hexdigest(), 16) % hash_constant)\n",
    "\n",
    "            X.X = X_data\n",
    "            \n",
    "        elif self.operation=='y':\n",
    "            y_data = np.where(y_data == 'P I F', 1, 0)\n",
    "            \n",
    "            y_data = y_data.astype(np.int8)\n",
    "            \n",
    "            # convert back to series\n",
    "            y_data = pd.Series(y_data)\n",
    "\n",
    "            X.y = y_data                      \n",
    "        else:\n",
    "            pass\n",
    "        #return modified X\n",
    "        return X    \n",
    "\n",
    "class DropColumns(BaseEstimator, TransformerMixin):\n",
    "    def __init__(self,operation= 'X'):\n",
    "        self.operation=operation\n",
    "    @staticmethod\n",
    "    def enabled(**kwargs):\n",
    "        return True\n",
    "\n",
    "    def fit(self, X, y=None):\n",
    "        return self\n",
    "\n",
    "    def transform(self, X, y=None):\n",
    "        X_data=X.X\n",
    "        \n",
    "        print()\n",
    "        print(f'{color.bdunl}Drop Columns initiated for {self.operation}{color.end}')\n",
    "        \n",
    "        #  do some work and assign it back to the X object\n",
    " \n",
    "        # Dropping 'City' as 'CityState_hash' is more ideal\n",
    "        # Zip code has invalid values like 1, 2.  If we pad 0000 to 1, it's still not correct,\n",
    "        # as state should be Alaska. Zip code 1 is different states in the dataset\n",
    "        cols_to_drop = ['LoanNr_ChkDgt', 'Zip', 'Bank', 'BankState', 'ApprovalDate',\n",
    "                        'ApprovalFY', 'ChgOffDate', 'BalanceGross', 'NAICS', 'ChgOffPrinGr',\n",
    "                        'Name', 'RevLineCr', 'DisbursementDate', 'City', 'State', 'CityState',\n",
    "                        'GrAppv']\n",
    "\n",
    "        X_data.drop(columns=cols_to_drop, inplace=True)\n",
    "            \n",
    "        print()\n",
    "        print('Unneeded Columns Dropped')\n",
    "        \n",
    "        # reduce mem usage of X_data as final step\n",
    "        X_data = reduce_mem_usage(X_data)\n",
    "        \n",
    "        print()\n",
    "        print(X_data.info())\n",
    "\n",
    "        X.X = X_data\n",
    "            \n",
    "        #return modified X\n",
    "        return X    \n",
    "\n",
    "class XGBoost(BaseEstimator, TransformerMixin):\n",
    "    def __init__(self,operation= 'X'):\n",
    "        self.operation=operation\n",
    "    @staticmethod\n",
    "    def enabled(**kwargs):\n",
    "        return True\n",
    "\n",
    "    def fit(self, X, y=None):\n",
    "        return self\n",
    "\n",
    "    def transform(self, X, y=None):\n",
    "        X_data=X.X\n",
    "        y_data=X.y\n",
    "        \n",
    "        print()\n",
    "        print(f'{color.bdunl}XGBoost initiated{color.end}')\n",
    "        #print(len(X_data))\n",
    "        #print(len(y_data))\n",
    "        \n",
    "        # Get predictions using training and validation data\n",
    "        xgp = process_model(X_data, y_data)\n",
    "        xgp.osample()\n",
    "        xgp.split_data(0.7)\n",
    "        xgp_results = xgp.prep_run_model(\"Train/Valid Data Metrics\",\n",
    "                                        cmDisplay=True, PipeLine_flag = True)   \n",
    "        \n",
    "        #Test with unseen data\n",
    "        print()\n",
    "        print(f'{color.bdunl}Test With Unseen Data X_test and y_test{color.end}')\n",
    "        \n",
    "        xgp_model = xgp_results['xg_model']\n",
    "        x_test = xgp_results['X_test']\n",
    "        y_test = xgp_results['y_test']\n",
    "        \n",
    "        # Get predictions\n",
    "        predictions = xgp_model.predict(x_test)\n",
    "        cmv = model_eval(y_test, predictions)\n",
    "\n",
    "        X.X = X_data\n",
    "            \n",
    "        '''\n",
    "        A dictionary is returned, and its values can be used outside the pipeline if needed\n",
    "        \n",
    "        {'xg_model':xg_model,'predictions':predictions,\n",
    "                    'X_train':X_train, 'y_train':y_train,\n",
    "                    'X_valid':X_valid, 'y_valid':y_valid,\n",
    "                    'X_test':X_test, 'y_test':y_test, 'cmv':cmv}\n",
    "        '''\n",
    "        return xgp_results"
   ]
  },
  {
   "cell_type": "markdown",
   "metadata": {},
   "source": [
    "<a id=\"load_pl_df\"></a>\n",
    "<div style=\"font-family: Trebuchet MS;background-color:LightSteelBlue;color:Black;text-align: left;padding-top: 5px;padding-bottom: 5px;padding-left: 20px;padding-right: 10px;border-radius: 15px 50px;letter-spacing: 2px;\">\n",
    "    <b>Load Dataset for PipeLine</b></div>"
   ]
  },
  {
   "cell_type": "code",
   "execution_count": null,
   "metadata": {
    "execution": {
     "iopub.execute_input": "2022-03-26T06:49:39.332534Z",
     "iopub.status.busy": "2022-03-26T06:49:39.332300Z",
     "iopub.status.idle": "2022-03-26T06:49:47.416261Z",
     "shell.execute_reply": "2022-03-26T06:49:47.415540Z",
     "shell.execute_reply.started": "2022-03-26T06:49:39.332503Z"
    }
   },
   "outputs": [],
   "source": [
    "X = pd.read_csv(f'{filepath}SBAnational.csv',\n",
    "                 converters = {'DisbursementGross':fixvals,'SBA_Appv':fixvals,\n",
    "                              'GrAppv':fixvals, 'ChgOffPrinGr':fixvals},\n",
    "                              parse_dates=['DisbursementDate'], low_memory=False)\n",
    "print(\"Shape of original SBA dataset : \", X.shape)\n",
    "print()\n",
    "print(X[['DisbursementGross','SBA_Appv','GrAppv','ChgOffPrinGr','DisbursementDate']].head(2))\n",
    "\n",
    "# Filter data to before 2011\n",
    "X = X[X['DisbursementDate'] <= '2010-12-31']\n",
    "\n",
    "print()\n",
    "print(f\"Size of data after 2010-12-31 : \\\n",
    "    {len(X[X['DisbursementDate'] > '2010-12-31'])}\")\n",
    "print()\n",
    "print(f\"Size of data before 2011 : \\\n",
    "    {len(X[X['DisbursementDate'] < '2011-01-01'])}\")\n",
    "\n",
    "'''\n",
    "X still contains the target 'MIS_Status', as we have to drop rows \n",
    "with NaNs in the pipeline. \"MIS_Status\" will be separated from X later in the pipeline\n",
    "\n",
    "Select target - y is initialized as it goes into the pipeline, but will be updated in the pipeline \n",
    "after preprocessing.  Others preprocess y outside the pipeline; here, y will be preprocessed in\n",
    "the pipeline.\n",
    "'''\n",
    "y = X['MIS_Status']"
   ]
  },
  {
   "cell_type": "markdown",
   "metadata": {},
   "source": [
    "<a id=\"pl_run\"></a>\n",
    "<div style=\"font-family: Trebuchet MS;background-color:LightSteelBlue;color:Black;text-align: left;padding-top: 5px;padding-bottom: 5px;padding-left: 20px;padding-right: 10px;border-radius: 15px 50px;letter-spacing: 2px;\">\n",
    "    <b>Run the pipeline</b></div>"
   ]
  },
  {
   "cell_type": "code",
   "execution_count": null,
   "metadata": {
    "execution": {
     "iopub.execute_input": "2022-03-26T06:49:47.448359Z",
     "iopub.status.busy": "2022-03-26T06:49:47.448074Z",
     "iopub.status.idle": "2022-03-26T06:56:05.632697Z",
     "shell.execute_reply": "2022-03-26T06:56:05.630602Z",
     "shell.execute_reply.started": "2022-03-26T06:49:47.448324Z"
    }
   },
   "outputs": [],
   "source": [
    "%%time\n",
    "\n",
    "def RunPipeLine():\n",
    "    rt1=dt.datetime.now()\n",
    "    #Assign X and y to the object\n",
    "    My_Object=PL_Object(X,y)\n",
    "\n",
    "    #Build a simple pipeline\n",
    "    My_Pipeline=Pipeline([('X Prep',PreProcessor('X')),\n",
    "                          ('X EnCat',EncodeCategorical('X')),\n",
    "                          ('y EnCat',EncodeCategorical('y')),\n",
    "                          ('DropCols',DropColumns()),\n",
    "                          ('XGBoost',XGBoost())\n",
    "                         ])\n",
    "\n",
    "    My_Object=My_Pipeline.transform(My_Object)\n",
    "\n",
    "    print()\n",
    "    print(f'{color.bdred}These results were obtained using Optuna tuning{color.end}')\n",
    "    \n",
    "    print()\n",
    "    print(f'{color.bold}Pipeline Process Completed.{color.end}')\n",
    "\n",
    "    rt2=dt.datetime.now()\n",
    "    runtime(rt1,rt2)\n",
    "    print()\n",
    "    \n",
    "    del My_Pipeline\n",
    "    gc.collect()\n",
    "    \n",
    "    return My_Object        # for further usage below\n",
    "    \n",
    "MyObject = RunPipeLine()"
   ]
  },
  {
   "cell_type": "markdown",
   "metadata": {},
   "source": [
    "<div class=\"alert alert-block alert-info\" style=\"color:DarkSlateBlue\">\n",
    "    <b>Just for informative reasons</b>, below shows how we can use data (dictionary) passed back by the pipeline to My_Object\n",
    "    </div>      "
   ]
  },
  {
   "cell_type": "code",
   "execution_count": null,
   "metadata": {
    "execution": {
     "iopub.execute_input": "2022-03-26T06:56:05.634821Z",
     "iopub.status.busy": "2022-03-26T06:56:05.634413Z",
     "iopub.status.idle": "2022-03-26T06:56:07.992201Z",
     "shell.execute_reply": "2022-03-26T06:56:07.991542Z",
     "shell.execute_reply.started": "2022-03-26T06:56:05.634780Z"
    }
   },
   "outputs": [],
   "source": [
    "def obj_sample_usage():\n",
    "    print(MyObject.keys())\n",
    "    pl_model = MyObject['xg_model']\n",
    "    x=plot_features(pl_model, (10,14))\n",
    "    print()\n",
    "    MyObject['X_train'].info()\n",
    "    \n",
    "obj_sample_usage()"
   ]
  },
  {
   "cell_type": "code",
   "execution_count": null,
   "metadata": {
    "execution": {
     "iopub.execute_input": "2022-03-26T06:56:07.993399Z",
     "iopub.status.busy": "2022-03-26T06:56:07.993153Z",
     "iopub.status.idle": "2022-03-26T06:56:08.197211Z",
     "shell.execute_reply": "2022-03-26T06:56:08.196492Z",
     "shell.execute_reply.started": "2022-03-26T06:56:07.993368Z"
    }
   },
   "outputs": [],
   "source": [
    "# clear some variables from memory\n",
    "del X, y, MyObject\n",
    "gc.collect()"
   ]
  },
  {
   "cell_type": "code",
   "execution_count": 12,
   "metadata": {
    "execution": {
     "iopub.execute_input": "2022-03-26T06:56:08.198947Z",
     "iopub.status.busy": "2022-03-26T06:56:08.198546Z",
     "iopub.status.idle": "2022-03-26T06:56:08.205903Z",
     "shell.execute_reply": "2022-03-26T06:56:08.205088Z",
     "shell.execute_reply.started": "2022-03-26T06:56:08.198909Z"
    }
   },
   "outputs": [],
   "source": [
    "if alert_flag == 1:\n",
    "    if kaggle_flag == 0:   # not Kaggle\n",
    "        engine.say(\"SBA Machine Learning PipeLine completed.\")\n",
    "        engine.runAndWait()\n",
    "    else:\n",
    "        display(Audio(url=audio_path, autoplay=True))"
   ]
  },
  {
   "cell_type": "markdown",
   "metadata": {},
   "source": [
    "<a id=\"part2\"></a>\n",
    "<div style=\"font-family: Trebuchet MS;background-color:DarkRed;color:AliceBlue;text-align: left;padding-top: 5px;padding-bottom: 15px;padding-left: 20px;padding-right: 10px;border-radius: 15px 50px;letter-spacing: 2px;\">\n",
    "<h1 style='color:GhostWhite;'>Part 2 : Data Exploration and Preparation, Modeling, Metrics</h1></div>"
   ]
  },
  {
   "cell_type": "markdown",
   "metadata": {},
   "source": [
    "<a id=\"de_load_df\"></a>\n",
    "<div style=\"font-family: Trebuchet MS;background-color:DarkCyan;color:Azure;text-align: left;padding-top: 5px;padding-bottom: 15px;padding-left: 20px;padding-right: 10px;border-radius: 15px 50px;letter-spacing: 2px;\">\n",
    "<h3 style='color:GhostWhite;'>1. Load Dataset</h3></div>"
   ]
  },
  {
   "cell_type": "code",
   "execution_count": null,
   "metadata": {
    "execution": {
     "iopub.execute_input": "2022-03-26T07:00:04.508190Z",
     "iopub.status.busy": "2022-03-26T07:00:04.507740Z",
     "iopub.status.idle": "2022-03-26T07:00:11.956929Z",
     "shell.execute_reply": "2022-03-26T07:00:11.956184Z",
     "shell.execute_reply.started": "2022-03-26T07:00:04.508150Z"
    },
    "scrolled": true
   },
   "outputs": [],
   "source": [
    "sba = pd.read_csv(f'{filepath}SBAnational.csv', low_memory=False)\n",
    "\n",
    "print(sba.info(memory_usage = 'deep'))"
   ]
  },
  {
   "cell_type": "markdown",
   "metadata": {},
   "source": [
    "<a id=\"dep\"></a>\n",
    "<div style=\"font-family: Trebuchet MS;background-color:DarkCyan;color:Azure;text-align: left;padding-top: 5px;padding-bottom: 15px;padding-left: 20px;padding-right: 10px;border-radius: 15px 50px;letter-spacing: 2px;\">\n",
    "    <h2 style='color:GhostWhite;'>2. Data Exploration / Preparation</h2><br>\n",
    "    </div>"
   ]
  },
  {
   "cell_type": "markdown",
   "metadata": {},
   "source": [
    "<div style=\"font-family: Trebuchet MS;background-color:LightSteelBlue;color:Black;text-align: left;padding-top: 5px;padding-bottom: 15px;padding-left: 20px;padding-right: 10px;border-radius: 15px 50px;letter-spacing: 2px;\">\n",
    "    <b>Reload dataset with some conversion</b><br>\n",
    "    After review, decided to reload dataset with conversion of some features that may be needed for calculation.  It could be done after loading, but this is for instructive purposes on how it's done.\n",
    "    </div>"
   ]
  },
  {
   "cell_type": "code",
   "execution_count": null,
   "metadata": {
    "execution": {
     "iopub.execute_input": "2022-03-26T07:00:04.508190Z",
     "iopub.status.busy": "2022-03-26T07:00:04.507740Z",
     "iopub.status.idle": "2022-03-26T07:00:11.956929Z",
     "shell.execute_reply": "2022-03-26T07:00:11.956184Z",
     "shell.execute_reply.started": "2022-03-26T07:00:04.508150Z"
    },
    "scrolled": false
   },
   "outputs": [],
   "source": [
    "sba = pd.read_csv(filepath + 'SBAnational.csv',\n",
    "                 converters = {'DisbursementGross':fixvals,'SBA_Appv':fixvals,\n",
    "                              'GrAppv':fixvals, 'ChgOffPrinGr':fixvals},\n",
    "                              parse_dates=['DisbursementDate'],\n",
    "                              low_memory=False)\n",
    "\n",
    "# Convert dtype of some columns that will be used in calculation or string extraction\n",
    "sba = sba.astype({'DisbursementGross':np.float64,'SBA_Appv':np.float64,\n",
    "                              'GrAppv':np.float64, 'ChgOffPrinGr':np.float64, 'NAICS':np.str_})\n",
    "\n",
    "print(sba.info(memory_usage = 'deep'))\n",
    "sba.head(1)"
   ]
  },
  {
   "cell_type": "markdown",
   "metadata": {},
   "source": [
    "<a id=\"conv_dtype\"></a>\n",
    "<div style=\"font-family: Trebuchet MS;background-color:DarkCyan;color:Azure;text-align: left;padding-top: 5px;padding-bottom: 15px;padding-left: 20px;padding-right: 10px;border-radius: 15px 50px;letter-spacing: 2px;\">\n",
    "    <h2 style='color:GhostWhite;'>2.1 EDA Tools</h2>\n",
    "    </div>"
   ]
  },
  {
   "cell_type": "markdown",
   "metadata": {},
   "source": [
    "## SweetViz"
   ]
  },
  {
   "cell_type": "code",
   "execution_count": null,
   "metadata": {
    "scrolled": true
   },
   "outputs": [],
   "source": [
    "htmlpath = f'{savepath}SBA_sweetviz_report_before.html'\n",
    "GetSweetVizReport(sba,htmlpath,kaggle_flag)\n",
    "\n",
    "print()\n",
    "(kaggle_flag == 1) and create_download_link('Open SweetViz Report in browser ---> ',\\\n",
    "                                            f'{htmlpath}')"
   ]
  },
  {
   "cell_type": "markdown",
   "metadata": {},
   "source": [
    "## Pandas Profiler\n",
    "- this seems to be buggy as at Apr 2022"
   ]
  },
  {
   "cell_type": "code",
   "execution_count": null,
   "metadata": {
    "execution": {
     "iopub.execute_input": "2022-03-26T06:56:13.293814Z",
     "iopub.status.busy": "2022-03-26T06:56:13.293144Z",
     "iopub.status.idle": "2022-03-26T07:00:04.506283Z",
     "shell.execute_reply": "2022-03-26T07:00:04.505438Z",
     "shell.execute_reply.started": "2022-03-26T06:56:13.293773Z"
    },
    "scrolled": true
   },
   "outputs": [],
   "source": [
    "'''\n",
    "For a better experience, the report is created as an html file that can be opened in a browser,\n",
    "and downloaded from there  (Save As ..., html)\n",
    "'''\n",
    "def GetPandasProfiling():\n",
    "    print(f'{color.bdblue}Please wait ... Profiling Report will take some time.{color.end}')\n",
    "\n",
    "    # uncomment if one wants to see the report in a cell below\n",
    "    # df.profile_report(title='SBA Pandas Profiling Report')\n",
    "\n",
    "    try:\n",
    "        df = sba.copy()\n",
    "        profile = df.profile_report(title='SBA Pandas Profiling Report', progress_bar=False,\n",
    "                                    correlations={\n",
    "                                        \"pearson\": {\"calculate\": True},\n",
    "                                        \"spearman\": {\"calculate\": True},\n",
    "                                        \"kendall\": {\"calculate\": False},\n",
    "                                        \"phi_k\": {\"calculate\": True}\n",
    "                                        })\n",
    "        profile.to_file(output_file = f'{savepath}SBA_Profiling_Report.html')\n",
    "        print(f'{color.bdblue}Profiling Report completed.{color.end}')\n",
    "        print()\n",
    "        (kaggle_flag == 0) and print(f'SBA Profiling Report has been downloaded to path {savepath}')\n",
    "        \n",
    "    except Exception as e:\n",
    "        print(f'Error: {e}')\n",
    "\n",
    "'''\n",
    "GetPandasProfiling()\n",
    "\n",
    "clear_output(wait=True)\n",
    "gc.collect()\n",
    "print()\n",
    "(kaggle_flag == 1) and create_download_link('Open SBA Profiling Report in browser ---> ', \\\n",
    "                           f'{savepath}SBA_Profiling_Report.html')\n",
    "'''"
   ]
  },
  {
   "cell_type": "markdown",
   "metadata": {},
   "source": [
    "## DataPrep\n",
    "- this also seems buggy"
   ]
  },
  {
   "cell_type": "code",
   "execution_count": null,
   "metadata": {},
   "outputs": [],
   "source": [
    "from dataprep.datasets import load_dataset\n",
    "from dataprep.eda import create_report\n",
    "\n",
    "def GetDataPrepReport():\n",
    "    print('Please wait, generating DataPrep report')\n",
    "    try:\n",
    "        df = sba.copy()\n",
    "        report = create_report(df, title='SBA DataPrep Report', progress = False);\n",
    "        report.save(f'{savepath}sba_dataprep_report')\n",
    "    \n",
    "        (kaggle_flag == 0) and report.show_browser()\n",
    "        \n",
    "    except Exception as e:\n",
    "        print(f'Error: {e}')\n",
    "        \n",
    "'''\n",
    "GetDataPrepReport()\n",
    "clear_output(wait=True)\n",
    "gc.collect()\n",
    "\n",
    "# open html in browser, and from there, one can download using Save As, html   \n",
    "(kaggle_flag == 1) and create_download_link('SBA DataPrep Report in browser ---> ',\\\n",
    "                                             f'{savepath}sba_dataprep_report.html');\n",
    "'''"
   ]
  },
  {
   "cell_type": "markdown",
   "metadata": {},
   "source": [
    "<a id=\"drop_rows_cols\"></a>\n",
    "<div style=\"font-family: Trebuchet MS;background-color:DarkCyan;color:Azure;text-align: left;padding-top: 5px;padding-bottom: 15px;padding-left: 20px;padding-right: 10px;border-radius: 15px 50px;letter-spacing: 2px;\">\n",
    "    <h2 style='color:GhostWhite;'>2.2 Drop rows or columns if needed</h2>\n",
    "    </div>"
   ]
  },
  {
   "cell_type": "markdown",
   "metadata": {},
   "source": [
    "<div style=\"font-family: Trebuchet MS;background-color:LightSteelBlue;color:Black;text-align: left;padding-top: 5px;padding-bottom: 5px;padding-left: 20px;padding-right: 10px;border-radius: 15px 50px;letter-spacing: 2px;\">\n",
    "    <b>Check for na's in all columns, as well as invalid categories</b></div>"
   ]
  },
  {
   "cell_type": "code",
   "execution_count": null,
   "metadata": {
    "execution": {
     "iopub.execute_input": "2022-03-26T07:00:13.463953Z",
     "iopub.status.busy": "2022-03-26T07:00:13.463668Z",
     "iopub.status.idle": "2022-03-26T07:00:42.850961Z",
     "shell.execute_reply": "2022-03-26T07:00:42.850202Z",
     "shell.execute_reply.started": "2022-03-26T07:00:13.463917Z"
    },
    "scrolled": false
   },
   "outputs": [],
   "source": [
    "check_cols_with_nulls(sba)"
   ]
  },
  {
   "cell_type": "code",
   "execution_count": null,
   "metadata": {
    "execution": {
     "iopub.execute_input": "2022-03-26T07:00:42.853188Z",
     "iopub.status.busy": "2022-03-26T07:00:42.852659Z",
     "iopub.status.idle": "2022-03-26T07:00:43.912833Z",
     "shell.execute_reply": "2022-03-26T07:00:43.912130Z",
     "shell.execute_reply.started": "2022-03-26T07:00:42.853144Z"
    },
    "scrolled": true
   },
   "outputs": [],
   "source": [
    "print(f'{color.bdunl}Features with NA values{color.end}')\n",
    "sba.isna().sum()"
   ]
  },
  {
   "cell_type": "markdown",
   "metadata": {},
   "source": [
    "**The number of Na's in rows for the following features, with respect to the size of the database, are not many and can be dropped.**"
   ]
  },
  {
   "cell_type": "code",
   "execution_count": null,
   "metadata": {
    "execution": {
     "iopub.execute_input": "2022-03-26T07:00:43.918630Z",
     "iopub.status.busy": "2022-03-26T07:00:43.918424Z",
     "iopub.status.idle": "2022-03-26T07:00:44.860861Z",
     "shell.execute_reply": "2022-03-26T07:00:44.859947Z",
     "shell.execute_reply.started": "2022-03-26T07:00:43.918604Z"
    }
   },
   "outputs": [],
   "source": [
    "sba.dropna(subset=['DisbursementDate', 'NewExist', 'City', 'State',\n",
    "                        'LowDoc', 'Name', 'NAICS', 'CreateJob', 'RetainedJob', 'FranchiseCode',\n",
    "                        'UrbanRural', 'NoEmp', 'Term', 'MIS_Status'], how='any', inplace=True)      "
   ]
  },
  {
   "cell_type": "code",
   "execution_count": null,
   "metadata": {
    "execution": {
     "iopub.execute_input": "2022-03-26T07:00:44.862514Z",
     "iopub.status.busy": "2022-03-26T07:00:44.862205Z",
     "iopub.status.idle": "2022-03-26T07:00:45.926961Z",
     "shell.execute_reply": "2022-03-26T07:00:45.926201Z",
     "shell.execute_reply.started": "2022-03-26T07:00:44.862473Z"
    }
   },
   "outputs": [],
   "source": [
    "sba.isna().sum()"
   ]
  },
  {
   "cell_type": "markdown",
   "metadata": {},
   "source": [
    "<div style=\"font-family: Trebuchet MS;background-color:LightSteelBlue;color:Black;text-align: left;padding-top: 5px;padding-bottom: 5px;padding-left: 20px;padding-right: 10px;border-radius: 15px 50px;letter-spacing: 2px;\">\n",
    "    <b>RevLineCr</b></div>"
   ]
  },
  {
   "cell_type": "code",
   "execution_count": null,
   "metadata": {
    "execution": {
     "iopub.execute_input": "2022-03-26T07:00:45.928454Z",
     "iopub.status.busy": "2022-03-26T07:00:45.928149Z",
     "iopub.status.idle": "2022-03-26T07:00:46.235803Z",
     "shell.execute_reply": "2022-03-26T07:00:46.234924Z",
     "shell.execute_reply.started": "2022-03-26T07:00:45.928412Z"
    }
   },
   "outputs": [],
   "source": [
    "len(sba[(sba['RevLineCr'] != 'Y') & (sba['RevLineCr'] != 'N')])\n",
    "# too many unknowns, we will drop 'RevlineCr' later"
   ]
  },
  {
   "cell_type": "markdown",
   "metadata": {},
   "source": [
    "<div style=\"font-family: Trebuchet MS;background-color:LightSteelBlue;color:Black;text-align: left;padding-top: 5px;padding-bottom: 5px;padding-left: 20px;padding-right: 10px;border-radius: 15px 50px;letter-spacing: 2px;\">\n",
    "    <b>LowDoc</b></div>"
   ]
  },
  {
   "cell_type": "code",
   "execution_count": null,
   "metadata": {
    "execution": {
     "iopub.execute_input": "2022-03-26T07:00:46.237590Z",
     "iopub.status.busy": "2022-03-26T07:00:46.237314Z",
     "iopub.status.idle": "2022-03-26T07:00:46.475646Z",
     "shell.execute_reply": "2022-03-26T07:00:46.474772Z",
     "shell.execute_reply.started": "2022-03-26T07:00:46.237552Z"
    }
   },
   "outputs": [],
   "source": [
    "len(sba[(sba['LowDoc'] != 'Y') & (sba['LowDoc'] != 'N')])"
   ]
  },
  {
   "cell_type": "code",
   "execution_count": null,
   "metadata": {
    "execution": {
     "iopub.execute_input": "2022-03-26T07:00:46.477309Z",
     "iopub.status.busy": "2022-03-26T07:00:46.477010Z",
     "iopub.status.idle": "2022-03-26T07:00:47.561923Z",
     "shell.execute_reply": "2022-03-26T07:00:47.561128Z",
     "shell.execute_reply.started": "2022-03-26T07:00:46.477270Z"
    }
   },
   "outputs": [],
   "source": [
    "sns.countplot(x='LowDoc',data=sba)"
   ]
  },
  {
   "cell_type": "markdown",
   "metadata": {},
   "source": [
    "* **LowDoc seems to have a bearing**"
   ]
  },
  {
   "cell_type": "code",
   "execution_count": null,
   "metadata": {
    "execution": {
     "iopub.execute_input": "2022-03-26T07:00:47.563329Z",
     "iopub.status.busy": "2022-03-26T07:00:47.563062Z",
     "iopub.status.idle": "2022-03-26T07:00:48.167696Z",
     "shell.execute_reply": "2022-03-26T07:00:48.166977Z",
     "shell.execute_reply.started": "2022-03-26T07:00:47.563291Z"
    }
   },
   "outputs": [],
   "source": [
    "# we can drop rows that are not 'Y' or 'N'\n",
    "sba = sba[(sba['LowDoc'] == 'Y') | (sba['LowDoc'] == 'N')]\n",
    "len(sba[(sba['LowDoc'] != 'Y') & (sba['LowDoc'] != 'N')])"
   ]
  },
  {
   "cell_type": "markdown",
   "metadata": {},
   "source": [
    "<div style=\"font-family: Trebuchet MS;background-color:LightSteelBlue;color:Black;text-align: left;padding-top: 5px;padding-bottom: 5px;padding-left: 20px;padding-right: 10px;border-radius: 15px 50px;letter-spacing: 2px;\">\n",
    "    <b>NewExist</b>"
   ]
  },
  {
   "cell_type": "code",
   "execution_count": null,
   "metadata": {
    "execution": {
     "iopub.execute_input": "2022-03-26T07:00:48.169430Z",
     "iopub.status.busy": "2022-03-26T07:00:48.169138Z",
     "iopub.status.idle": "2022-03-26T07:00:48.182602Z",
     "shell.execute_reply": "2022-03-26T07:00:48.181921Z",
     "shell.execute_reply.started": "2022-03-26T07:00:48.169393Z"
    }
   },
   "outputs": [],
   "source": [
    "len(sba[(sba['NewExist'] != 1) & (sba['NewExist'] != 2)])"
   ]
  },
  {
   "cell_type": "code",
   "execution_count": null,
   "metadata": {
    "execution": {
     "iopub.execute_input": "2022-03-26T07:00:48.184583Z",
     "iopub.status.busy": "2022-03-26T07:00:48.183966Z",
     "iopub.status.idle": "2022-03-26T07:00:48.422203Z",
     "shell.execute_reply": "2022-03-26T07:00:48.421328Z",
     "shell.execute_reply.started": "2022-03-26T07:00:48.184542Z"
    }
   },
   "outputs": [],
   "source": [
    "sns.countplot(x='NewExist',data=sba)"
   ]
  },
  {
   "cell_type": "code",
   "execution_count": null,
   "metadata": {
    "execution": {
     "iopub.execute_input": "2022-03-26T07:00:48.426600Z",
     "iopub.status.busy": "2022-03-26T07:00:48.426103Z",
     "iopub.status.idle": "2022-03-26T07:00:48.586712Z",
     "shell.execute_reply": "2022-03-26T07:00:48.585846Z",
     "shell.execute_reply.started": "2022-03-26T07:00:48.426568Z"
    }
   },
   "outputs": [],
   "source": [
    "# records that are not 1 or 2, we can drop these rows as NewExist seems to have a bearing\n",
    "sba = sba[(sba['NewExist'] == 1) | (sba['NewExist'] == 2)]\n",
    "len(sba[(sba['NewExist'] != 1) & (sba['NewExist'] != 2)])"
   ]
  },
  {
   "cell_type": "code",
   "execution_count": null,
   "metadata": {},
   "outputs": [],
   "source": [
    "sba = sba.astype({'NewExist':np.int8})"
   ]
  },
  {
   "cell_type": "markdown",
   "metadata": {},
   "source": [
    "<div style=\"font-family: Trebuchet MS;background-color:LightSteelBlue;color:Black;text-align: left;padding-top: 5px;padding-bottom: 5px;padding-left: 20px;padding-right: 10px;border-radius: 15px 50px;letter-spacing: 2px;\">\n",
    "    <b>FranchiseCode</b></div>"
   ]
  },
  {
   "cell_type": "code",
   "execution_count": null,
   "metadata": {
    "execution": {
     "iopub.execute_input": "2022-03-26T07:00:48.588426Z",
     "iopub.status.busy": "2022-03-26T07:00:48.588063Z",
     "iopub.status.idle": "2022-03-26T07:00:48.601481Z",
     "shell.execute_reply": "2022-03-26T07:00:48.600694Z",
     "shell.execute_reply.started": "2022-03-26T07:00:48.588385Z"
    }
   },
   "outputs": [],
   "source": [
    "sba['FranchiseCode'].unique()"
   ]
  },
  {
   "cell_type": "markdown",
   "metadata": {},
   "source": [
    "<div style=\"font-family: Trebuchet MS;background-color:LightSteelBlue;color:Black;text-align: left;padding-top: 5px;padding-bottom: 5px;padding-left: 20px;padding-right: 10px;border-radius: 15px 50px;letter-spacing: 2px;\">\n",
    "    <b>UrbanRural</b></div>"
   ]
  },
  {
   "cell_type": "code",
   "execution_count": null,
   "metadata": {
    "execution": {
     "iopub.execute_input": "2022-03-26T07:00:48.603165Z",
     "iopub.status.busy": "2022-03-26T07:00:48.602908Z",
     "iopub.status.idle": "2022-03-26T07:00:48.614845Z",
     "shell.execute_reply": "2022-03-26T07:00:48.614138Z",
     "shell.execute_reply.started": "2022-03-26T07:00:48.603130Z"
    }
   },
   "outputs": [],
   "source": [
    "sba['UrbanRural'].unique()"
   ]
  },
  {
   "cell_type": "markdown",
   "metadata": {},
   "source": [
    "<div style=\"font-family: Trebuchet MS;background-color:LightSteelBlue;color:Black;text-align: left;padding-top: 5px;padding-bottom: 5px;padding-left: 20px;padding-right: 10px;border-radius: 15px 50px;letter-spacing: 2px;\">\n",
    "    <b>Term</b></div>"
   ]
  },
  {
   "cell_type": "code",
   "execution_count": null,
   "metadata": {
    "execution": {
     "iopub.execute_input": "2022-03-26T07:00:48.616189Z",
     "iopub.status.busy": "2022-03-26T07:00:48.615875Z",
     "iopub.status.idle": "2022-03-26T07:00:48.630595Z",
     "shell.execute_reply": "2022-03-26T07:00:48.629914Z",
     "shell.execute_reply.started": "2022-03-26T07:00:48.616152Z"
    },
    "scrolled": true
   },
   "outputs": [],
   "source": [
    "print(len(sba[sba['Term'].isna()]))\n",
    "print(len(sba[sba['Term']==0]))\n",
    "print(len(sba[sba['Term']<0]))"
   ]
  },
  {
   "cell_type": "code",
   "execution_count": null,
   "metadata": {
    "execution": {
     "iopub.execute_input": "2022-03-26T07:00:48.632063Z",
     "iopub.status.busy": "2022-03-26T07:00:48.631805Z",
     "iopub.status.idle": "2022-03-26T07:00:48.659318Z",
     "shell.execute_reply": "2022-03-26T07:00:48.658654Z",
     "shell.execute_reply.started": "2022-03-26T07:00:48.632028Z"
    }
   },
   "outputs": [],
   "source": [
    "sba.head(2)"
   ]
  },
  {
   "cell_type": "code",
   "execution_count": null,
   "metadata": {
    "execution": {
     "iopub.execute_input": "2022-03-26T07:00:48.660873Z",
     "iopub.status.busy": "2022-03-26T07:00:48.660624Z",
     "iopub.status.idle": "2022-03-26T07:00:49.030741Z",
     "shell.execute_reply": "2022-03-26T07:00:49.029930Z",
     "shell.execute_reply.started": "2022-03-26T07:00:48.660839Z"
    }
   },
   "outputs": [],
   "source": [
    "# Trim leading and trailing spaces\n",
    "sba['City'] = sba['City'].str.strip()"
   ]
  },
  {
   "cell_type": "markdown",
   "metadata": {},
   "source": [
    "<div style=\"font-family: Trebuchet MS;background-color:LightSteelBlue;color:Black;text-align: left;padding-top: 5px;padding-bottom: 5px;padding-left: 20px;padding-right: 10px;border-radius: 15px 50px;letter-spacing: 2px;\">\n",
    "    <b>Check for na's in all columns</b></div>"
   ]
  },
  {
   "cell_type": "code",
   "execution_count": null,
   "metadata": {
    "execution": {
     "iopub.execute_input": "2022-03-26T07:00:49.032515Z",
     "iopub.status.busy": "2022-03-26T07:00:49.032221Z",
     "iopub.status.idle": "2022-03-26T07:01:17.671227Z",
     "shell.execute_reply": "2022-03-26T07:01:17.670541Z",
     "shell.execute_reply.started": "2022-03-26T07:00:49.032477Z"
    }
   },
   "outputs": [],
   "source": [
    "check_cols_with_nulls(sba)\n",
    "\n",
    "# We can ignore these, features to be dropped later"
   ]
  },
  {
   "cell_type": "code",
   "execution_count": null,
   "metadata": {
    "execution": {
     "iopub.execute_input": "2022-03-26T07:01:17.673417Z",
     "iopub.status.busy": "2022-03-26T07:01:17.672408Z",
     "iopub.status.idle": "2022-03-26T07:01:17.679020Z",
     "shell.execute_reply": "2022-03-26T07:01:17.678323Z",
     "shell.execute_reply.started": "2022-03-26T07:01:17.673374Z"
    }
   },
   "outputs": [],
   "source": [
    "len(sba)"
   ]
  },
  {
   "cell_type": "code",
   "execution_count": null,
   "metadata": {
    "execution": {
     "iopub.execute_input": "2022-03-26T07:01:17.681078Z",
     "iopub.status.busy": "2022-03-26T07:01:17.680592Z",
     "iopub.status.idle": "2022-03-26T07:01:18.923501Z",
     "shell.execute_reply": "2022-03-26T07:01:18.922726Z",
     "shell.execute_reply.started": "2022-03-26T07:01:17.681039Z"
    }
   },
   "outputs": [],
   "source": [
    "# Save 2\n",
    "def Save2():\n",
    "    # for feather format, reset_index(drop=True) to prevent \"Unnamed column\" being created\n",
    "    sdf = sba.copy().reset_index(drop=True)\n",
    "    sdf.to_feather(f'{savepath}sba_save2.csv.feather')\n",
    "\n",
    "    # index=False to prevent \"Unnamed Column\" being created\n",
    "    #sba.to_csv(f'{savepath}sba_save2.csv', index=False)\n",
    "    \n",
    "    print(f'Saved to {savepath}sba_save2.csv.feather')\n",
    "\n",
    "Save2()\n",
    "\n",
    "# Short circuiting\n",
    "(kaggle_flag == 1) and FileLink(r'sba_save2.csv.feather')  # Kaggle only"
   ]
  },
  {
   "cell_type": "markdown",
   "metadata": {},
   "source": [
    "<a id=\"drop_duplicates\"></a>\n",
    "<div style=\"font-family: Trebuchet MS;background-color:DarkCyan;color:Azure;text-align: left;padding-top: 5px;padding-bottom: 15px;padding-left: 20px;padding-right: 10px;border-radius: 15px 50px;letter-spacing: 2px;\">\n",
    "    <h2 style='color:GhostWhite;'>2.3 Drop Duplicate Rows</h2>\n",
    "    </div>"
   ]
  },
  {
   "cell_type": "code",
   "execution_count": null,
   "metadata": {},
   "outputs": [],
   "source": [
    "def DropDuplicates():\n",
    "    dupl_series = sba.duplicated()\n",
    "    num_of_dupl = len(sba[dupl_series == True])\n",
    "    if num_of_dupl > 0:\n",
    "        print(f'Number of Duplicates : {color.bold}{num_of_dupl}{color.end}')\n",
    "        print()\n",
    "        print(sba[dupl_series].head(5))\n",
    "        sba.drop_duplicates(inplace=True)\n",
    "        print()\n",
    "        print(f'{color.bold}{num_of_dupl}{color.end} duplicate rows were dropped.')\n",
    "    else:\n",
    "        print(f'Duplicate rows found: {color.bold}None{color.end}')\n",
    "\n",
    "DropDuplicates()"
   ]
  },
  {
   "cell_type": "markdown",
   "metadata": {},
   "source": [
    "<a id=\"create_new_features\"></a>\n",
    "<div style=\"font-family: Trebuchet MS;background-color:DarkCyan;color:Azure;text-align: left;padding-top: 5px;padding-bottom: 15px;padding-left: 20px;padding-right: 10px;border-radius: 15px 50px;letter-spacing: 2px;\">\n",
    "    <h2 style='color:GhostWhite;'>2.4 Create New Features</h2>\n",
    "    </div>"
   ]
  },
  {
   "cell_type": "markdown",
   "metadata": {},
   "source": [
    "<div style=\"font-family: Trebuchet MS;background-color:LightSteelBlue;color:Black;text-align: left;padding-top: 5px;padding-bottom: 5px;padding-left: 20px;padding-right: 10px;border-radius: 15px 50px;letter-spacing: 2px;\">\n",
    "    <b>Industry</b> - The industry sector is the 1st 2 digits of NAICS\n",
    "    </div>"
   ]
  },
  {
   "cell_type": "code",
   "execution_count": null,
   "metadata": {
    "execution": {
     "iopub.execute_input": "2022-03-26T07:01:18.925104Z",
     "iopub.status.busy": "2022-03-26T07:01:18.924840Z",
     "iopub.status.idle": "2022-03-26T07:01:19.537538Z",
     "shell.execute_reply": "2022-03-26T07:01:19.536611Z",
     "shell.execute_reply.started": "2022-03-26T07:01:18.925068Z"
    }
   },
   "outputs": [],
   "source": [
    "sba['Industry'] = sba['NAICS'].str[0:2]\n",
    "sba = sba.astype({'Industry':np.int32})"
   ]
  },
  {
   "cell_type": "code",
   "execution_count": null,
   "metadata": {
    "execution": {
     "iopub.execute_input": "2022-03-26T07:01:19.539295Z",
     "iopub.status.busy": "2022-03-26T07:01:19.539029Z",
     "iopub.status.idle": "2022-03-26T07:01:19.548179Z",
     "shell.execute_reply": "2022-03-26T07:01:19.547312Z",
     "shell.execute_reply.started": "2022-03-26T07:01:19.539244Z"
    }
   },
   "outputs": [],
   "source": [
    "sba['Industry'].head(2)"
   ]
  },
  {
   "cell_type": "code",
   "execution_count": null,
   "metadata": {
    "execution": {
     "iopub.execute_input": "2022-03-26T07:01:19.550327Z",
     "iopub.status.busy": "2022-03-26T07:01:19.550049Z",
     "iopub.status.idle": "2022-03-26T07:01:19.562812Z",
     "shell.execute_reply": "2022-03-26T07:01:19.562165Z",
     "shell.execute_reply.started": "2022-03-26T07:01:19.550291Z"
    }
   },
   "outputs": [],
   "source": [
    "sba['Industry'].unique()\n",
    "# There is an invalid industry shown which is '0', caused by blank NAICS"
   ]
  },
  {
   "cell_type": "code",
   "execution_count": null,
   "metadata": {
    "execution": {
     "iopub.execute_input": "2022-03-26T07:01:19.565386Z",
     "iopub.status.busy": "2022-03-26T07:01:19.564972Z",
     "iopub.status.idle": "2022-03-26T07:01:19.832727Z",
     "shell.execute_reply": "2022-03-26T07:01:19.831780Z",
     "shell.execute_reply.started": "2022-03-26T07:01:19.565356Z"
    }
   },
   "outputs": [],
   "source": [
    "len(sba[sba['Industry'] == 0])\n",
    "# This is a bummer, as industry sector has a big effect on a business, speaking as a business \n",
    "# domain expert.  Do we drop those with NAICS = 0 ?"
   ]
  },
  {
   "cell_type": "code",
   "execution_count": null,
   "metadata": {
    "execution": {
     "iopub.execute_input": "2022-03-26T07:01:19.834598Z",
     "iopub.status.busy": "2022-03-26T07:01:19.834225Z",
     "iopub.status.idle": "2022-03-26T07:01:19.862304Z",
     "shell.execute_reply": "2022-03-26T07:01:19.861316Z",
     "shell.execute_reply.started": "2022-03-26T07:01:19.834555Z"
    }
   },
   "outputs": [],
   "source": [
    "# At this stage, we leave it as is and treat it as unknown industry\n",
    "sba.head(2)"
   ]
  },
  {
   "cell_type": "code",
   "execution_count": null,
   "metadata": {
    "execution": {
     "iopub.execute_input": "2022-03-26T07:01:19.864167Z",
     "iopub.status.busy": "2022-03-26T07:01:19.863799Z",
     "iopub.status.idle": "2022-03-26T07:01:20.679546Z",
     "shell.execute_reply": "2022-03-26T07:01:20.678740Z",
     "shell.execute_reply.started": "2022-03-26T07:01:19.864124Z"
    }
   },
   "outputs": [],
   "source": [
    "# Check if we can impute from the name.  For example, a bar (or similar) business\n",
    "sba[(sba['Name'].str.contains('bar',case=False)) & (sba['Industry'] == 0)]\\\n",
    "    [['Name','Industry']].head(10)"
   ]
  },
  {
   "cell_type": "markdown",
   "metadata": {},
   "source": [
    "**It's not feasible to impute missing Industry codes efficiently, so we abandon the idea.**"
   ]
  },
  {
   "cell_type": "markdown",
   "metadata": {},
   "source": [
    "<div style=\"font-family: Trebuchet MS;background-color:LightSteelBlue;color:Black;text-align: left;padding-top: 5px;padding-bottom: 5px;padding-left: 20px;padding-right: 10px;border-radius: 15px 50px;letter-spacing: 2px;\">\n",
    "    <b>Recession</b><br>\n",
    "We want to account for variation due to the Great Recession (December 2007 to June 2009). Should we separate the datasets into different time periods ? Before, During, and After ?  Let's check how large the sets are later.  In the meantime, we create a new feature, Recession, with 1 for 'Y' and 0 for 'N' depending on the DisbursementDate. \n",
    "<br><br>\n",
    "</div>"
   ]
  },
  {
   "cell_type": "code",
   "execution_count": null,
   "metadata": {
    "execution": {
     "iopub.execute_input": "2022-03-26T07:01:20.681481Z",
     "iopub.status.busy": "2022-03-26T07:01:20.681165Z",
     "iopub.status.idle": "2022-03-26T07:01:20.686600Z",
     "shell.execute_reply": "2022-03-26T07:01:20.685660Z",
     "shell.execute_reply.started": "2022-03-26T07:01:20.681439Z"
    }
   },
   "outputs": [],
   "source": [
    "# Convert \"DisbursementDate\" to datetime\n",
    "\n",
    "# sba['DisbursementDate'] = pd.to_datetime(sba['DisbursementDate'], format='%d-%b-%y')\n",
    "\n",
    "# sba.head(2)"
   ]
  },
  {
   "cell_type": "code",
   "execution_count": null,
   "metadata": {
    "execution": {
     "iopub.execute_input": "2022-03-26T07:01:20.688511Z",
     "iopub.status.busy": "2022-03-26T07:01:20.687897Z",
     "iopub.status.idle": "2022-03-26T07:01:20.706707Z",
     "shell.execute_reply": "2022-03-26T07:01:20.705899Z",
     "shell.execute_reply.started": "2022-03-26T07:01:20.688463Z"
    }
   },
   "outputs": [],
   "source": [
    "# Create new column based on condition\n",
    "sba['Recession'] = np.where((sba['DisbursementDate'] >= '2007-09-01')\\\n",
    "                     & (sba['DisbursementDate'] <= '2009-06-30'), 1, 0)"
   ]
  },
  {
   "cell_type": "code",
   "execution_count": null,
   "metadata": {
    "execution": {
     "iopub.execute_input": "2022-03-26T07:01:20.708711Z",
     "iopub.status.busy": "2022-03-26T07:01:20.708043Z",
     "iopub.status.idle": "2022-03-26T07:01:20.921710Z",
     "shell.execute_reply": "2022-03-26T07:01:20.920741Z",
     "shell.execute_reply.started": "2022-03-26T07:01:20.708665Z"
    }
   },
   "outputs": [],
   "source": [
    "print(f'Total - {len(sba)}')\n",
    "y = len(sba[sba['Recession'] == 1])\n",
    "n = len(sba[sba['Recession'] == 0])\n",
    "print(f'Recession - {y}')\n",
    "print(f'Not Recession - {n}')"
   ]
  },
  {
   "cell_type": "markdown",
   "metadata": {},
   "source": [
    "<div style=\"font-family: Trebuchet MS;background-color:LightSteelBlue;color:Black;text-align: left;padding-top: 5px;padding-bottom: 5px;padding-left: 20px;padding-right: 10px;border-radius: 15px 50px;letter-spacing: 2px;\">\n",
    "    <b>Real Estate</b><br>\n",
    "Loans backed by real estate will have terms 20 years or greater (≥240 months) and are the only loans granted for such a long term, whereas loans not backed by real estate will have terms less than 20 years ( < 240 months).<br><br>\n",
    "1 - Backed By Real Estate<br>\n",
    "0 - Not Backed By Real Estate<br><br>"
   ]
  },
  {
   "cell_type": "code",
   "execution_count": null,
   "metadata": {
    "execution": {
     "iopub.execute_input": "2022-03-26T07:01:20.923721Z",
     "iopub.status.busy": "2022-03-26T07:01:20.923412Z",
     "iopub.status.idle": "2022-03-26T07:01:20.935631Z",
     "shell.execute_reply": "2022-03-26T07:01:20.934716Z",
     "shell.execute_reply.started": "2022-03-26T07:01:20.923670Z"
    }
   },
   "outputs": [],
   "source": [
    "# Create new column based on condition\n",
    "sba['RealEstate'] = np.where(sba['Term'] >= 240, 1, 0)"
   ]
  },
  {
   "cell_type": "code",
   "execution_count": null,
   "metadata": {
    "execution": {
     "iopub.execute_input": "2022-03-26T07:01:20.937445Z",
     "iopub.status.busy": "2022-03-26T07:01:20.937095Z",
     "iopub.status.idle": "2022-03-26T07:01:21.165305Z",
     "shell.execute_reply": "2022-03-26T07:01:21.164470Z",
     "shell.execute_reply.started": "2022-03-26T07:01:20.937404Z"
    }
   },
   "outputs": [],
   "source": [
    "print(f'Total - {len(sba)}')\n",
    "y = len(sba[sba['RealEstate'] == 1])\n",
    "n = len(sba[sba['RealEstate'] == 0])\n",
    "print(f'Yes - {y}')\n",
    "print(f'No - {n}')\n",
    "print(f'Yes and No - {y+n}')"
   ]
  },
  {
   "cell_type": "markdown",
   "metadata": {},
   "source": [
    "<div style=\"font-family: Trebuchet MS;background-color:LightSteelBlue;color:Black;text-align: left;padding-top: 5px;padding-bottom: 5px;padding-left: 20px;padding-right: 10px;border-radius: 15px 50px;letter-spacing: 2px;\">\n",
    "    <b>SBA_Portion</b><br>\n",
    "The portion which is the percentage of the loan that is guaranteed by SBA. This is derived by calculating the ratio of the amount of the loan SBA guarantees and the gross amount approved by the bank (SBA_Appv/GrAppv) * 100.<br><br></div>"
   ]
  },
  {
   "cell_type": "code",
   "execution_count": null,
   "metadata": {
    "execution": {
     "iopub.execute_input": "2022-03-26T07:01:21.167110Z",
     "iopub.status.busy": "2022-03-26T07:01:21.166833Z",
     "iopub.status.idle": "2022-03-26T07:01:21.196950Z",
     "shell.execute_reply": "2022-03-26T07:01:21.196111Z",
     "shell.execute_reply.started": "2022-03-26T07:01:21.167072Z"
    }
   },
   "outputs": [],
   "source": [
    "sba['SBA_Portion']=(sba['SBA_Appv']/sba['GrAppv']) * 100\n",
    "sba.head(2)"
   ]
  },
  {
   "cell_type": "markdown",
   "metadata": {},
   "source": [
    "**CityState**"
   ]
  },
  {
   "cell_type": "code",
   "execution_count": null,
   "metadata": {
    "execution": {
     "iopub.execute_input": "2022-03-26T07:01:21.198825Z",
     "iopub.status.busy": "2022-03-26T07:01:21.198545Z",
     "iopub.status.idle": "2022-03-26T07:01:21.607024Z",
     "shell.execute_reply": "2022-03-26T07:01:21.606323Z",
     "shell.execute_reply.started": "2022-03-26T07:01:21.198788Z"
    }
   },
   "outputs": [],
   "source": [
    "sba[\"CityState\"] = sba[\"City\"] + \"_\" + sba[\"State\"]\n",
    "sba[[\"CityState\", \"City\", \"State\"]].head()"
   ]
  },
  {
   "cell_type": "code",
   "execution_count": null,
   "metadata": {
    "execution": {
     "iopub.execute_input": "2022-03-26T07:01:21.608703Z",
     "iopub.status.busy": "2022-03-26T07:01:21.608448Z",
     "iopub.status.idle": "2022-03-26T07:01:21.632165Z",
     "shell.execute_reply": "2022-03-26T07:01:21.631234Z",
     "shell.execute_reply.started": "2022-03-26T07:01:21.608668Z"
    }
   },
   "outputs": [],
   "source": [
    "sba.head(2)"
   ]
  },
  {
   "cell_type": "code",
   "execution_count": null,
   "metadata": {
    "execution": {
     "iopub.execute_input": "2022-03-26T07:01:21.634124Z",
     "iopub.status.busy": "2022-03-26T07:01:21.633841Z",
     "iopub.status.idle": "2022-03-26T07:01:23.267717Z",
     "shell.execute_reply": "2022-03-26T07:01:23.266939Z",
     "shell.execute_reply.started": "2022-03-26T07:01:21.634083Z"
    }
   },
   "outputs": [],
   "source": [
    "# Save 3\n",
    "def Save3():\n",
    "    sdf = sba.copy().reset_index(drop=True)\n",
    "    sdf.to_feather(f'{savepath}sba_save3.csv.feather')\n",
    "\n",
    "    print(f'Saved to {savepath}sba_save3.csv.feather')\n",
    "    \n",
    "Save3()\n",
    "\n",
    "(kaggle_flag == 1) and FileLink(r'sba_save3.csv.feather')  # Kaggle only"
   ]
  },
  {
   "cell_type": "markdown",
   "metadata": {},
   "source": [
    "<a id=\"encode_cat\"></a>\n",
    "<div style=\"font-family: Trebuchet MS;background-color:DarkCyan;color:Azure;text-align: left;padding-top: 5px;padding-bottom: 15px;padding-left: 20px;padding-right: 10px;border-radius: 15px 50px;letter-spacing: 2px;\">\n",
    "    <h2 style='color:GhostWhite;'>2.5 Encode Categorical Features</h2>\n",
    "    </div>"
   ]
  },
  {
   "cell_type": "code",
   "execution_count": null,
   "metadata": {
    "execution": {
     "iopub.execute_input": "2022-03-26T07:01:23.269499Z",
     "iopub.status.busy": "2022-03-26T07:01:23.268947Z",
     "iopub.status.idle": "2022-03-26T07:01:24.434503Z",
     "shell.execute_reply": "2022-03-26T07:01:24.433802Z",
     "shell.execute_reply.started": "2022-03-26T07:01:23.269458Z"
    }
   },
   "outputs": [],
   "source": [
    "sba.select_dtypes([\"object\"]).nunique()"
   ]
  },
  {
   "cell_type": "markdown",
   "metadata": {},
   "source": [
    "<div style=\"font-family: Trebuchet MS;background-color:Chocolate;color:AliceBlue;text-align: left;padding-top: 5px;padding-bottom: 5px;padding-left: 20px;padding-right: 10px;border-radius: 15px 50px;letter-spacing: 2px;\">\n",
    "    <b>MIS_Status</b><br>\n",
    "    This will be the <b>target</b> variable</div>"
   ]
  },
  {
   "cell_type": "code",
   "execution_count": null,
   "metadata": {
    "execution": {
     "iopub.execute_input": "2022-03-26T07:01:24.436530Z",
     "iopub.status.busy": "2022-03-26T07:01:24.435657Z",
     "iopub.status.idle": "2022-03-26T07:01:25.553877Z",
     "shell.execute_reply": "2022-03-26T07:01:25.553125Z",
     "shell.execute_reply.started": "2022-03-26T07:01:24.436488Z"
    }
   },
   "outputs": [],
   "source": [
    "sns.set_style('whitegrid')\n",
    "# Target variable is MIS Status, a categorical variable\n",
    "\n",
    "print(sba['MIS_Status'].value_counts())\n",
    "sns.countplot(x='MIS_Status',data=sba)"
   ]
  },
  {
   "cell_type": "markdown",
   "metadata": {},
   "source": [
    "<div style=\"font-family: Trebuchet MS;background-color:LightSteelBlue;color:Black;text-align: left;padding-top: 5px;padding-bottom: 5px;padding-left: 20px;padding-right: 10px;border-radius: 15px 50px;letter-spacing: 2px;\">\n",
    "    This shows a skewed distribution, where this bias in the target can influence many machine learning algorithms, leading some to ignore the minority class entirely, in this case, CHGOFF.  Before oversampling the data, will try as is.<br><br></div>"
   ]
  },
  {
   "cell_type": "code",
   "execution_count": null,
   "metadata": {
    "execution": {
     "iopub.execute_input": "2022-03-26T07:01:25.555353Z",
     "iopub.status.busy": "2022-03-26T07:01:25.555058Z",
     "iopub.status.idle": "2022-03-26T07:01:25.740193Z",
     "shell.execute_reply": "2022-03-26T07:01:25.739396Z",
     "shell.execute_reply.started": "2022-03-26T07:01:25.555313Z"
    }
   },
   "outputs": [],
   "source": [
    "# Update column based on condition\n",
    "sba['MIS_Status'] = np.where((sba['MIS_Status'] == 'P I F'), 1, 0)"
   ]
  },
  {
   "cell_type": "code",
   "execution_count": null,
   "metadata": {
    "execution": {
     "iopub.execute_input": "2022-03-26T07:01:25.742027Z",
     "iopub.status.busy": "2022-03-26T07:01:25.741738Z",
     "iopub.status.idle": "2022-03-26T07:01:25.753703Z",
     "shell.execute_reply": "2022-03-26T07:01:25.752831Z",
     "shell.execute_reply.started": "2022-03-26T07:01:25.741988Z"
    }
   },
   "outputs": [],
   "source": [
    "print(sba['MIS_Status'].dtype)\n",
    "sba.head(2)[['City','MIS_Status']]"
   ]
  },
  {
   "cell_type": "markdown",
   "metadata": {},
   "source": [
    "<div style=\"font-family: Trebuchet MS;background-color:LightSteelBlue;color:Black;text-align: left;padding-top: 5px;padding-bottom: 15px;padding-left: 20px;padding-right: 10px;border-radius: 15px 50px;letter-spacing: 2px;\">\n",
    "    <b>LowDoc</b><br>\n",
    "'Y' = 1<br>\n",
    "'N' = 0"
   ]
  },
  {
   "cell_type": "code",
   "execution_count": null,
   "metadata": {
    "execution": {
     "iopub.execute_input": "2022-03-26T07:01:25.755553Z",
     "iopub.status.busy": "2022-03-26T07:01:25.755248Z",
     "iopub.status.idle": "2022-03-26T07:01:25.985306Z",
     "shell.execute_reply": "2022-03-26T07:01:25.984325Z",
     "shell.execute_reply.started": "2022-03-26T07:01:25.755513Z"
    }
   },
   "outputs": [],
   "source": [
    "# Update column based on condition\n",
    "sba['LowDoc'] = np.where((sba['LowDoc'] == 'Y'), 1, 0)\n",
    "\n",
    "sba.head(2)"
   ]
  },
  {
   "cell_type": "markdown",
   "metadata": {},
   "source": [
    "<div style=\"font-family: Trebuchet MS;background-color:LightSteelBlue;color:Black;text-align: left;padding-top: 5px;padding-bottom: 5px;padding-left: 20px;padding-right: 10px;border-radius: 15px 50px;letter-spacing: 2px;\">\n",
    "    <b>Others</b></div>"
   ]
  },
  {
   "cell_type": "code",
   "execution_count": null,
   "metadata": {
    "execution": {
     "iopub.execute_input": "2022-03-26T07:01:25.987108Z",
     "iopub.status.busy": "2022-03-26T07:01:25.986837Z",
     "iopub.status.idle": "2022-03-26T07:01:30.292797Z",
     "shell.execute_reply": "2022-03-26T07:01:30.292018Z",
     "shell.execute_reply.started": "2022-03-26T07:01:25.987071Z"
    }
   },
   "outputs": [],
   "source": [
    "# will not hash 'City' as it is already covered by 'CityState'\n",
    "\n",
    "def HashCol():\n",
    "    cols_to_drop = []\n",
    "    hash_constant = 900000   # fixed value so we can programmatically reproduce the hash when needed\n",
    "    len_data=len(sba)\n",
    "    for col in sba[['State','CityState']]:\n",
    "        if sba[col].dtype == 'object':\n",
    "            print(f'Column {col} has {sba[col].nunique()} values among {len_data}')\n",
    "\n",
    "        if sba[col].nunique() < 25:\n",
    "            print(f'One-hot encoding of {col}')\n",
    "            one_hot_cols = pd.get_dummies(sba[col])\n",
    "            for ohc in one_hot_cols.columns:\n",
    "                sba[col + '_' + ohc] = one_hot_cols[ohc]\n",
    "        else:\n",
    "            print(f'Hashing of {col}')\n",
    "            sba[col + '_hash'] = sba[col].apply(lambda row: int(hashlib.sha1((col + \"_\" + \\\n",
    "                                    str(row)).encode('utf-8')).hexdigest(), 16) % hash_constant)\n",
    "\n",
    "        cols_to_drop.append(col)\n",
    "    print(cols_to_drop)\n",
    "\n",
    "HashCol()"
   ]
  },
  {
   "cell_type": "code",
   "execution_count": null,
   "metadata": {
    "execution": {
     "iopub.execute_input": "2022-03-26T07:01:30.295972Z",
     "iopub.status.busy": "2022-03-26T07:01:30.293977Z",
     "iopub.status.idle": "2022-03-26T07:01:30.306420Z",
     "shell.execute_reply": "2022-03-26T07:01:30.305706Z",
     "shell.execute_reply.started": "2022-03-26T07:01:30.295938Z"
    }
   },
   "outputs": [],
   "source": [
    "sba.head(2)[['State','CityState','State_hash','CityState_hash']]"
   ]
  },
  {
   "cell_type": "code",
   "execution_count": null,
   "metadata": {
    "execution": {
     "iopub.execute_input": "2022-03-26T07:01:30.308415Z",
     "iopub.status.busy": "2022-03-26T07:01:30.307656Z",
     "iopub.status.idle": "2022-03-26T07:01:31.287787Z",
     "shell.execute_reply": "2022-03-26T07:01:31.286292Z",
     "shell.execute_reply.started": "2022-03-26T07:01:30.308375Z"
    }
   },
   "outputs": [],
   "source": [
    "sba.info()"
   ]
  },
  {
   "cell_type": "markdown",
   "metadata": {},
   "source": [
    "<div style=\"font-family: Trebuchet MS;background-color:LightSteelBlue;color:Black;text-align: left;padding-top: 5px;padding-bottom: 5px;padding-left: 20px;padding-right: 10px;border-radius: 15px 50px;letter-spacing: 2px;\">\n",
    "    <b>TimeFrame</b><br>\n",
    "Create a dataset for later use where we restrict the time frame to loans by excluding those disbursed after 2010 due to the fact the term of a loan is frequently 5 or more years.\n",
    "    <br><br>"
   ]
  },
  {
   "cell_type": "code",
   "execution_count": null,
   "metadata": {
    "execution": {
     "iopub.execute_input": "2022-03-26T07:01:31.289343Z",
     "iopub.status.busy": "2022-03-26T07:01:31.289080Z",
     "iopub.status.idle": "2022-03-26T07:01:31.738999Z",
     "shell.execute_reply": "2022-03-26T07:01:31.738137Z",
     "shell.execute_reply.started": "2022-03-26T07:01:31.289311Z"
    }
   },
   "outputs": [],
   "source": [
    "sba_bef_2011 = sba[sba['DisbursementDate'] <= '2010-12-31'].copy()\n",
    "len(sba_bef_2011[sba_bef_2011['DisbursementDate'] > '2010-12-31'])\n",
    "len(sba_bef_2011[sba_bef_2011['DisbursementDate'] <= '2011-01-01'])"
   ]
  },
  {
   "cell_type": "markdown",
   "metadata": {},
   "source": [
    "<div style=\"font-family: Trebuchet MS;background-color:LightSteelBlue;color:Black;text-align: left;padding-top: 5px;padding-bottom: 5px;padding-left: 20px;padding-right: 10px;border-radius: 15px 50px;letter-spacing: 2px;\">\n",
    "    <b>Drop columns that are no longer needed<b></div>"
   ]
  },
  {
   "cell_type": "code",
   "execution_count": null,
   "metadata": {
    "execution": {
     "iopub.execute_input": "2022-03-26T07:01:31.741144Z",
     "iopub.status.busy": "2022-03-26T07:01:31.740510Z",
     "iopub.status.idle": "2022-03-26T07:01:33.159330Z",
     "shell.execute_reply": "2022-03-26T07:01:33.158537Z",
     "shell.execute_reply.started": "2022-03-26T07:01:31.741101Z"
    },
    "scrolled": true
   },
   "outputs": [],
   "source": [
    "# Save 4\n",
    "def Save4():\n",
    "    sdf = sba.copy().reset_index(drop=True)\n",
    "    sdf.to_feather(f'{savepath}sba_save4.csv.feather')\n",
    "\n",
    "    print(f'saved to {savepath}sba_save4.csv.feather')\n",
    "\n",
    "Save4()\n",
    "\n",
    "(kaggle_flag == 1) and FileLink(r'sba_save4.csv.feather')  # Kaggle only"
   ]
  },
  {
   "cell_type": "code",
   "execution_count": null,
   "metadata": {
    "execution": {
     "iopub.execute_input": "2022-03-26T07:01:33.161132Z",
     "iopub.status.busy": "2022-03-26T07:01:33.160711Z",
     "iopub.status.idle": "2022-03-26T07:01:33.721932Z",
     "shell.execute_reply": "2022-03-26T07:01:33.721180Z",
     "shell.execute_reply.started": "2022-03-26T07:01:33.161092Z"
    },
    "scrolled": true
   },
   "outputs": [],
   "source": [
    "cols_to_drop = ['LoanNr_ChkDgt', 'Bank', 'BankState', 'ApprovalDate',\n",
    "                        'ApprovalFY', 'ChgOffDate', 'BalanceGross', 'NAICS', 'ChgOffPrinGr',\n",
    "                        'Name', 'RevLineCr', 'DisbursementDate', 'City', 'State', 'CityState',\n",
    "                         'GrAppv','Zip']\n",
    "\n",
    "sba_bef_2011.drop(columns=cols_to_drop, inplace=True)\n",
    "\n",
    "sba.drop(columns=cols_to_drop, inplace=True)\n",
    "\n",
    "sba_bef_2011 = reduce_mem_usage(sba_bef_2011)\n",
    "\n",
    "print()\n",
    "sba = reduce_mem_usage(sba)\n",
    "\n",
    "print()\n",
    "print('Unneeded Columns Dropped')\n",
    "print(sba.info())"
   ]
  },
  {
   "cell_type": "code",
   "execution_count": null,
   "metadata": {
    "execution": {
     "iopub.execute_input": "2022-03-26T07:01:33.723952Z",
     "iopub.status.busy": "2022-03-26T07:01:33.723455Z",
     "iopub.status.idle": "2022-03-26T07:01:34.582278Z",
     "shell.execute_reply": "2022-03-26T07:01:34.581512Z",
     "shell.execute_reply.started": "2022-03-26T07:01:33.723912Z"
    }
   },
   "outputs": [],
   "source": [
    "def SaveBef2011():\n",
    "    # Save sba_bef_2011\n",
    "    ## save this dataset to working dir\n",
    "    sdf = sba_bef_2011.copy().reset_index(drop=True)\n",
    "    sdf.to_feather(f'{savepath}sba_bef_2011.csv.feather')\n",
    "\n",
    "    print(f\"saved to {savepath}sba_bef_2011.csv.feather\")\n",
    "    \n",
    "SaveBef2011()\n",
    "\n",
    "(kaggle_flag == 1) and FileLink(r'sba_bef_2011.csv.feather')  # Kaggle only"
   ]
  },
  {
   "cell_type": "code",
   "execution_count": null,
   "metadata": {},
   "outputs": [],
   "source": [
    "del sba_bef_2011\n",
    "gc.collect()\n",
    "sleep(5)"
   ]
  },
  {
   "cell_type": "code",
   "execution_count": null,
   "metadata": {
    "execution": {
     "iopub.execute_input": "2022-03-26T07:01:34.584443Z",
     "iopub.status.busy": "2022-03-26T07:01:34.583633Z",
     "iopub.status.idle": "2022-03-26T07:01:34.736865Z",
     "shell.execute_reply": "2022-03-26T07:01:34.735963Z",
     "shell.execute_reply.started": "2022-03-26T07:01:34.584401Z"
    }
   },
   "outputs": [],
   "source": [
    "# Save 5\n",
    "def Save5():\n",
    "    sdf = sba.copy().reset_index(drop=True)\n",
    "    sdf.to_feather(f'{savepath}sba_save5.csv.feather')\n",
    "\n",
    "    print(f'saved to {savepath}sba_save5.csv.feather')\n",
    "\n",
    "Save5()\n",
    "\n",
    "(kaggle_flag == 1) and FileLink(r'sba_save5.csv.feather')  # Kaggle only"
   ]
  },
  {
   "cell_type": "markdown",
   "metadata": {},
   "source": [
    "<div style=\"font-family: Trebuchet MS;background-color:LightSteelBlue;color:Black;text-align: left;padding-top: 5px;padding-bottom: 5px;padding-left: 20px;padding-right: 10px;border-radius: 15px 50px;letter-spacing: 2px;\">\n",
    "    <b>Check for Infinite Values<b></div>"
   ]
  },
  {
   "cell_type": "code",
   "execution_count": null,
   "metadata": {
    "execution": {
     "iopub.execute_input": "2022-03-26T07:01:34.738784Z",
     "iopub.status.busy": "2022-03-26T07:01:34.738343Z",
     "iopub.status.idle": "2022-03-26T07:01:34.786065Z",
     "shell.execute_reply": "2022-03-26T07:01:34.785186Z",
     "shell.execute_reply.started": "2022-03-26T07:01:34.738743Z"
    }
   },
   "outputs": [],
   "source": [
    "check_infinity_nan(sba,'sba')"
   ]
  },
  {
   "cell_type": "markdown",
   "metadata": {},
   "source": [
    "<div style=\"font-family: Trebuchet MS;background-color:LightSteelBlue;color:Black;text-align: left;padding-top: 5px;padding-bottom: 5px;padding-left: 20px;padding-right: 10px;border-radius: 15px 50px;letter-spacing: 2px;\">\n",
    "    <b>Check Correlations</b></div>"
   ]
  },
  {
   "cell_type": "code",
   "execution_count": null,
   "metadata": {
    "execution": {
     "iopub.execute_input": "2022-03-26T07:01:34.788452Z",
     "iopub.status.busy": "2022-03-26T07:01:34.787596Z",
     "iopub.status.idle": "2022-03-26T07:01:37.169046Z",
     "shell.execute_reply": "2022-03-26T07:01:37.168312Z",
     "shell.execute_reply.started": "2022-03-26T07:01:34.788402Z"
    }
   },
   "outputs": [],
   "source": [
    "fig, ax = plt.subplots(figsize=(20,20))\n",
    "\n",
    "g = sns.heatmap(\n",
    "    sba.corr(),\n",
    "    annot=True,\n",
    "    ax=ax,\n",
    "    cmap='OrRd',\n",
    "    cbar=False,\n",
    "    linewidth=1\n",
    ")\n",
    "\n",
    "g.set_xticklabels(g.get_xticklabels(), rotation=45, horizontalalignment='right')\n",
    "g.set_yticklabels(g.get_yticklabels(), rotation=45, horizontalalignment='right')"
   ]
  },
  {
   "cell_type": "markdown",
   "metadata": {},
   "source": [
    "<a id=\"eda_check\"></a>\n",
    "<div style=\"font-family: Trebuchet MS;background-color:DarkCyan;color:Azure;text-align: left;padding-top: 5px;padding-bottom: 15px;padding-left: 20px;padding-right: 10px;border-radius: 15px 50px;letter-spacing: 2px;\">\n",
    "    <h2 style='color:GhostWhite;'>2.6 EDA Check</h2><br>\n",
    "    Here we generate a SweetViz report for another EDA review\n",
    "    </div>"
   ]
  },
  {
   "cell_type": "code",
   "execution_count": null,
   "metadata": {},
   "outputs": [],
   "source": [
    "htmlpath = f'{savepath}SBA_sweetviz_report_after.html'\n",
    "GetSweetVizReport(sba,htmlpath,kaggle_flag)\n",
    "\n",
    "print()\n",
    "(kaggle_flag == 1) and create_download_link('Open SweetViz Report in browser ---> ',\\\n",
    "                                            f'{htmlpath}')"
   ]
  },
  {
   "cell_type": "code",
   "execution_count": null,
   "metadata": {
    "execution": {
     "iopub.execute_input": "2022-03-26T07:01:37.171190Z",
     "iopub.status.busy": "2022-03-26T07:01:37.170714Z",
     "iopub.status.idle": "2022-03-26T07:01:37.378722Z",
     "shell.execute_reply": "2022-03-26T07:01:37.377966Z",
     "shell.execute_reply.started": "2022-03-26T07:01:37.171150Z"
    }
   },
   "outputs": [],
   "source": [
    "del sba\n",
    "gc.collect()\n",
    "sleep(5)"
   ]
  },
  {
   "cell_type": "markdown",
   "metadata": {},
   "source": [
    "<a id=\"build_model\"></a>\n",
    "<div style=\"font-family: Trebuchet MS;background-color:DarkCyan;color:Azure;text-align: left;padding-top: 5px;padding-bottom: 15px;padding-left: 20px;padding-right: 10px;border-radius: 15px 50px;letter-spacing: 2px;\">\n",
    "    <h2 style='color:GhostWhite;'>3. Build Model Using XGBoost</h2>\n",
    "    </div>"
   ]
  },
  {
   "cell_type": "markdown",
   "metadata": {},
   "source": [
    "<div style=\"font-family: Trebuchet MS;background-color:LightSteelBlue;color:Black;text-align: left;padding-top: 5px;padding-bottom: 5px;padding-left: 20px;padding-right: 10px;border-radius: 15px 50px;letter-spacing: 2px;\">\n",
    "    <b>Early Stopping Rounds<b></div>"
   ]
  },
  {
   "cell_type": "markdown",
   "metadata": {},
   "source": [
    "\"<b>Overfitting</b> is a problem with sophisticated non-linear learning algorithms like gradient boosting.  Early stopping is an approach to training complex machine learning models to avoid overfitting.\n",
    "<br><br>\n",
    "<b>XGBoost supports early stopping after a fixed number of iterations.</b>  In addition to specifying a metric and test dataset for evaluation in each epoch, one must specify a window of the number of epochs over which no improvement is observed. This is specified in the early_stopping_rounds parameter.\n",
    "<br><br>\n",
    "It is generally a good idea to select the early_stopping_rounds as a reasonable function of the total number of training epochs (10% in this case) or attempt to correspond to the period of inflection points as might be observed on plots of learning curves.\n",
    "<br><br> - <a href = \"https://machinelearningmastery.com/avoid-overfitting-by-early-stopping-with-xgboost-in-python/\">Avoid Overfitting By Early Stopping With XGBoost In Python</a>"
   ]
  },
  {
   "cell_type": "markdown",
   "metadata": {},
   "source": [
    "<a id=\"model1\"></a>\n",
    "<div style=\"font-family: Trebuchet MS;background-color:DarkCyan;color:Azure;text-align: left;padding-top: 5px;padding-bottom: 15px;padding-left: 20px;padding-right: 10px;border-radius: 15px 50px;letter-spacing: 2px;\">\n",
    "    <h2 style='color:GhostWhite;'>3.1 Model v1</h2>\n",
    "    </div>"
   ]
  },
  {
   "cell_type": "code",
   "execution_count": null,
   "metadata": {
    "execution": {
     "iopub.execute_input": "2022-03-26T07:01:37.380705Z",
     "iopub.status.busy": "2022-03-26T07:01:37.380219Z",
     "iopub.status.idle": "2022-03-26T07:01:37.604899Z",
     "shell.execute_reply": "2022-03-26T07:01:37.604176Z",
     "shell.execute_reply.started": "2022-03-26T07:01:37.380653Z"
    },
    "scrolled": true
   },
   "outputs": [],
   "source": [
    "%%time\n",
    "\n",
    "def RunModelv1():\n",
    "    # Select subset of predictors\n",
    "    X = pd.read_feather(f'{savepath}sba_save5.csv.feather')\n",
    "    y = X.pop('MIS_Status')\n",
    "\n",
    "    model1 = process_model(X, y)   # Initiate class\n",
    "    model1.split_data(0.7)         # Split data into train (70%), valid (15%), and test (15%)\n",
    "    \n",
    "    params = {'n_estimators': 1000, 'learning_rate': 0.05, 'max_depth': 6,\n",
    "                               'tree_method':tree_method, 'early_stopping_rounds':100,\n",
    "                               'eval_metric':['auc','error']}\n",
    "    model1.prep_run_model( \"Metrics : Full SBA Not Oversampled\",hyperparams=params)\n",
    "    print()\n",
    "    \n",
    "RunModelv1()"
   ]
  },
  {
   "cell_type": "markdown",
   "metadata": {},
   "source": [
    "<div class=\"alert alert-block alert-danger\">  \n",
    "<b>Accuracy for model is good; but ...</b> Precision, Recall, and f1-score of minority class 0 (CHGOFF) is <b>much lower</b> than that of 1 (P I F). This is because MIS_Status is heavily skewed towards 1 (P I F).</div>"
   ]
  },
  {
   "cell_type": "markdown",
   "metadata": {},
   "source": [
    "<div class=\"alert alert-block alert-info\">  \n",
    "In such a scenario, <b>Accuracy is not a good metric</b>, as it favors the majority.  <b>The f1-score is the more ideal metric</b>, which correctly shows a poorer score by the minority class.<br><br>\n",
    "    To solve this, we try <b>Oversampling the data</b>, in the next section.</div>"
   ]
  },
  {
   "cell_type": "markdown",
   "metadata": {},
   "source": [
    "<a id=\"oversample\"></a>\n",
    "<div style=\"font-family: Trebuchet MS;background-color:DarkCyan;color:Azure;text-align: left;padding-top: 5px;padding-bottom: 15px;padding-left: 20px;padding-right: 10px;border-radius: 15px 50px;letter-spacing: 2px;\"><h2 style='color:GhostWhite;'>3.2 OverSample</h2>\n",
    "    </div>"
   ]
  },
  {
   "cell_type": "markdown",
   "metadata": {},
   "source": [
    "<a id=\"model2\"></a>\n",
    "<div style=\"font-family: Trebuchet MS;background-color:DarkCyan;color:Azure;text-align: left;padding-top: 5px;padding-bottom: 15px;padding-left: 20px;padding-right: 10px;border-radius: 15px 50px;letter-spacing: 2px;\"><h2 style='color:GhostWhite;'>3.2.1 Model v2</h2>\n",
    "    </div>"
   ]
  },
  {
   "cell_type": "code",
   "execution_count": null,
   "metadata": {
    "execution": {
     "iopub.execute_input": "2022-03-26T07:01:37.614527Z",
     "iopub.status.busy": "2022-03-26T07:01:37.614049Z",
     "iopub.status.idle": "2022-03-26T07:01:52.255759Z",
     "shell.execute_reply": "2022-03-26T07:01:52.255014Z",
     "shell.execute_reply.started": "2022-03-26T07:01:37.614489Z"
    }
   },
   "outputs": [],
   "source": [
    "%%time\n",
    "\n",
    "def RunModelv2():\n",
    "    # Select subset of predictors\n",
    "    X = pd.read_feather(f'{savepath}sba_save5.csv.feather')\n",
    "\n",
    "    # Select target\n",
    "    y = X.pop('MIS_Status')\n",
    "\n",
    "    model2 = process_model(X, y)\n",
    "    model2.osample()             # oversampling method\n",
    "    model2.split_data(0.7)\n",
    "    model2_results = model2.prep_run_model(\"Metrics : Full SBA Oversampled\")\n",
    "\n",
    "    return model2_results['xg_model']\n",
    "\n",
    "modelv2 = RunModelv2()"
   ]
  },
  {
   "cell_type": "markdown",
   "metadata": {},
   "source": [
    "<div class=\"alert alert-block alert-info\">\n",
    "    After oversampling of the minority class, class 0 (CHGOFF) <b>now has a similar </b> precision, recall, and f1-score as class 1 (P I F).\n",
    "<br><br>     \n",
    "    The <b>accuracy score</b> is slightly lower than when not oversampled, but much better f-scores.  This should be a good metric now as the target classification is no longer imbalanced.  <b>The model is now more accurate in predicting the target as f-scores are better now.</b></div>"
   ]
  },
  {
   "cell_type": "code",
   "execution_count": null,
   "metadata": {
    "execution": {
     "iopub.execute_input": "2022-03-26T07:01:52.266288Z",
     "iopub.status.busy": "2022-03-26T07:01:52.265731Z",
     "iopub.status.idle": "2022-03-26T07:01:54.435985Z",
     "shell.execute_reply": "2022-03-26T07:01:54.435344Z",
     "shell.execute_reply.started": "2022-03-26T07:01:52.266241Z"
    }
   },
   "outputs": [],
   "source": [
    "# Plot feature importance\n",
    "\n",
    "plot_features(modelv2, (10,12))"
   ]
  },
  {
   "cell_type": "markdown",
   "metadata": {},
   "source": [
    "<div class=\"alert alert-block alert-info\">\n",
    "    <b>Observation</b><br>\n",
    "    I was hoping to see <b>Industry</b> at a much higher position here, but apparently the incomplete data on industry had an effect.<br><br>\n",
    "Furthermore, <b>Recession</b> has to be at a very high position, but is at the bottom instead.  This could be due to <b>Recession</b> data being highly skewed towards 1 (Not Recession).<br><br>\n",
    "<b>Real Estate</b> should have good importance too, but it may be highly skewed as well."
   ]
  },
  {
   "cell_type": "code",
   "execution_count": null,
   "metadata": {
    "execution": {
     "iopub.execute_input": "2022-03-26T07:01:54.437401Z",
     "iopub.status.busy": "2022-03-26T07:01:54.437039Z",
     "iopub.status.idle": "2022-03-26T07:01:54.651370Z",
     "shell.execute_reply": "2022-03-26T07:01:54.650654Z",
     "shell.execute_reply.started": "2022-03-26T07:01:54.437368Z"
    }
   },
   "outputs": [],
   "source": [
    "del modelv2\n",
    "gc.collect()"
   ]
  },
  {
   "cell_type": "markdown",
   "metadata": {},
   "source": [
    "<a id=\"model3\"></a>\n",
    "<div style=\"font-family: Trebuchet MS;background-color:DarkCyan;color:Azure;text-align: left;padding-top: 5px;padding-bottom: 15px;padding-left: 20px;padding-right: 10px;border-radius: 15px 50px;letter-spacing: 2px;\">\n",
    "    <h2 style='color:GhostWhite;'>3.2.2 Model v3</h2>\n",
    "    <b>Build a Model Dataset Excluding Year 2011 and Above</b>\n",
    "\n",
    "We restrict the time frame to loans by excluding those disbursed after 2010 due to the fact the term of a loan is frequently 5 or more years.\n",
    "       </div>"
   ]
  },
  {
   "cell_type": "code",
   "execution_count": null,
   "metadata": {
    "execution": {
     "iopub.execute_input": "2022-03-26T07:01:54.659325Z",
     "iopub.status.busy": "2022-03-26T07:01:54.659095Z",
     "iopub.status.idle": "2022-03-26T07:02:08.590739Z",
     "shell.execute_reply": "2022-03-26T07:02:08.589892Z",
     "shell.execute_reply.started": "2022-03-26T07:01:54.659298Z"
    }
   },
   "outputs": [],
   "source": [
    "%%time\n",
    "\n",
    "def RunModelv3():\n",
    "    X = pd.read_feather(f'{savepath}sba_bef_2011.csv.feather')\n",
    "    y = X.pop('MIS_Status')\n",
    "    \n",
    "    memuse = formatFileSize(X.memory_usage().sum(),'B','MB',2)\n",
    "\n",
    "    model3 = process_model(X, y)\n",
    "    model3.osample()\n",
    "    model3.split_data(0.7)\n",
    "    \n",
    "    model3.X, model3.y = None, None\n",
    "    del X, y\n",
    "    gc.collect()\n",
    "    sleep(3)\n",
    "    \n",
    "    model3_results = model3.prep_run_model(\"Metrics : SBA Before 2011 Oversampled\")\n",
    "    \n",
    "    # save to files for reuse later\n",
    "    model3_results['xg_model'].save_model(f'{savepath}modelv3.json')\n",
    "    joblib.dump(model3_results, f\"{savepath}model3_results.dict\")   # save study\n",
    "    \n",
    "    return model3_results\n",
    "  \n",
    "model3_results = RunModelv3()"
   ]
  },
  {
   "cell_type": "markdown",
   "metadata": {},
   "source": [
    "<div class=\"alert alert-block alert-info\">\n",
    "    <b>We get a similar score to Model 2.</b>  Will use this dataset as the last dataset, for now.</div>"
   ]
  },
  {
   "cell_type": "code",
   "execution_count": null,
   "metadata": {
    "execution": {
     "iopub.execute_input": "2022-03-26T07:02:10.935958Z",
     "iopub.status.busy": "2022-03-26T07:02:10.935609Z",
     "iopub.status.idle": "2022-03-26T07:02:11.120965Z",
     "shell.execute_reply": "2022-03-26T07:02:11.120116Z",
     "shell.execute_reply.started": "2022-03-26T07:02:10.935925Z"
    }
   },
   "outputs": [],
   "source": [
    "# Save 6 - final cleaned csv\n",
    "def SaveFinalCsv():\n",
    "    #sdf = pd.read_csv(f'{savepath}sba_bef_2011.csv')\n",
    "    #sdf.to_csv(f'{savepath}sba_final.csv', index=False)\n",
    "    \n",
    "    src_file=f'{savepath}sba_bef_2011.csv.feather'\n",
    "    dst_file=f'{savepath}sba_final.csv.feather'\n",
    "    shutil.copy2(src_file, dst_file)\n",
    "    \n",
    "    #save to csv\n",
    "    df = pd.read_feather(dst_file)\n",
    "    df.to_csv(f'{savepath}sba_final.csv', index=False)\n",
    "\n",
    "    print(f'saved to {savepath}sba_final.csv.feather and {savepath}sba_final.csv')\n",
    "\n",
    "SaveFinalCsv()\n",
    "(kaggle_flag == 1) and FileLink(r'sba_final.csv.feather')  # Kaggle only"
   ]
  },
  {
   "cell_type": "markdown",
   "metadata": {},
   "source": [
    "**Next two cells are just comparing results of two different ways of loading a saved dictionary file.  Result should be the same.** "
   ]
  },
  {
   "cell_type": "code",
   "execution_count": null,
   "metadata": {},
   "outputs": [],
   "source": [
    "# Plot feature importance\n",
    "modelv3 = XGBClassifier()\n",
    "modelv3.load_model(f'{savepath}modelv3.json')\n",
    "plot_features(modelv3, (10,14))"
   ]
  },
  {
   "cell_type": "code",
   "execution_count": null,
   "metadata": {},
   "outputs": [],
   "source": [
    "model3_results = joblib.load(f\"{savepath}model3_results.dict\")\n",
    "plot_features(model3_results['xg_model'], (10,14))"
   ]
  },
  {
   "cell_type": "markdown",
   "metadata": {
    "execution": {
     "iopub.execute_input": "2022-03-12T05:18:58.418572Z",
     "iopub.status.busy": "2022-03-12T05:18:58.418154Z",
     "iopub.status.idle": "2022-03-12T05:18:58.448155Z",
     "shell.execute_reply": "2022-03-12T05:18:58.447213Z",
     "shell.execute_reply.started": "2022-03-12T05:18:58.418473Z"
    }
   },
   "source": [
    "<a id=\"test_model\"></a>\n",
    "<div style=\"font-family: Trebuchet MS;background-color:DarkCyan;color:Azure;text-align: left;padding-top: 5px;padding-bottom: 20px;padding-left: 20px;padding-right: 10px;border-radius: 15px 50px;letter-spacing: 2px;\">\n",
    "    <h2 style='color:GhostWhite;'>4. Test Model</h2>\n",
    "    </div>\n",
    "    "
   ]
  },
  {
   "cell_type": "markdown",
   "metadata": {},
   "source": [
    "<a id=\"test_test_dataset\"></a>\n",
    "<div style=\"font-family: Trebuchet MS;background-color:DarkCyan;color:Azure;text-align: left;padding-top: 5px;padding-bottom: 20px;padding-left: 20px;padding-right: 10px;border-radius: 15px 50px;letter-spacing: 2px;\">\n",
    "    <h2 style='color:GhostWhite;'>4.1 Test Model with Test Dataset</h2>\n",
    "    Test Dataset was previously unseen by the model.\n",
    "    </div>"
   ]
  },
  {
   "cell_type": "code",
   "execution_count": null,
   "metadata": {
    "execution": {
     "iopub.execute_input": "2022-03-26T07:02:11.123485Z",
     "iopub.status.busy": "2022-03-26T07:02:11.122709Z",
     "iopub.status.idle": "2022-03-26T07:02:11.127896Z",
     "shell.execute_reply": "2022-03-26T07:02:11.127068Z",
     "shell.execute_reply.started": "2022-03-26T07:02:11.123444Z"
    }
   },
   "outputs": [],
   "source": [
    "def Modelv3WithTestData():\n",
    "    X_test = model3_results['X_test']\n",
    "    y_test = model3_results['y_test']\n",
    "    \n",
    "    # Get predictions\n",
    "    predictions = modelv3.predict(X_test)\n",
    "    model_eval(y_test, predictions);\n",
    "  \n",
    "Modelv3WithTestData()"
   ]
  },
  {
   "cell_type": "markdown",
   "metadata": {},
   "source": [
    "<a id=\"test_user_input\"></a>\n",
    "<div style=\"font-family: Trebuchet MS;background-color:DarkCyan;color:Azure;text-align: left;padding-top: 5px;padding-bottom: 20px;padding-left: 20px;padding-right: 10px;border-radius: 15px 50px;letter-spacing: 2px;\">\n",
    "    <h2 style='color:GhostWhite;'>4.2 Test Model with User Input</h2>\n",
    "    </div>"
   ]
  },
  {
   "cell_type": "markdown",
   "metadata": {},
   "source": [
    "<div class=\"alert alert-block alert-info\">So let's assume the following are <b>the entries of a user</b>, through a user interface, looking for a prediction from our model.</div>"
   ]
  },
  {
   "cell_type": "code",
   "execution_count": null,
   "metadata": {
    "execution": {
     "iopub.execute_input": "2022-03-26T07:02:15.268223Z",
     "iopub.status.busy": "2022-03-26T07:02:15.267969Z",
     "iopub.status.idle": "2022-03-26T07:02:15.284708Z",
     "shell.execute_reply": "2022-03-26T07:02:15.283969Z",
     "shell.execute_reply.started": "2022-03-26T07:02:15.268184Z"
    }
   },
   "outputs": [],
   "source": [
    "def UserInputTest():\n",
    "    # 16 entries\n",
    "    user_input =   {'Term':50, \n",
    "                    'NoEmp':0,\n",
    "                    'NewExist':1,\n",
    "                    'CreateJob':0 ,          \n",
    "                    'RetainedJob':0,         \n",
    "                    'FranchiseCode':1,       \n",
    "                    'UrbanRural':0,           \n",
    "                    'LowDoc':0,               \n",
    "                    'DisbursementGross':50000,                 \n",
    "                    'SBA_Appv':25000,          \n",
    "                    'Industry':71, \n",
    "                    'Recession':0,\n",
    "                    'RealEstate':0,           \n",
    "                    'SBA_Portion':50,\n",
    "                    'City':'EVANSVILLE',\n",
    "                    'State':'IN'\n",
    "                   }\n",
    "\n",
    "    city = user_input['City']\n",
    "    state = user_input['State']\n",
    "    city_state = f'{city}_{state}'\n",
    "\n",
    "    state_hash = int(hashlib.sha1(('State' + \"_\" + \\\n",
    "                              str(state)).encode('utf-8')).hexdigest(), 16) % 900000\n",
    "    city_state_hash = int(hashlib.sha1(('CityState' + \"_\" + \\\n",
    "                              str(city_state)).encode('utf-8')).hexdigest(), 16) % 900000\n",
    "\n",
    "    print(f'State_hash = {state_hash}')\n",
    "    print(f'CityState_hash = {city_state_hash}')\n",
    "\n",
    "    user_input.pop('City')\n",
    "    user_input.pop('State')\n",
    "    user_input['State_hash'] = state_hash\n",
    "    user_input['CityState_hash'] = city_state_hash\n",
    "\n",
    "    user_input_list = list(user_input.values())\n",
    "    \n",
    "    return {'user_input':user_input, 'user_input_list':user_input_list}\n",
    "\n",
    "user_input_param = UserInputTest()\n",
    "\n",
    "print()\n",
    "print(f\"{color.bold}User Entry:{color.end}\")\n",
    "user_input_param['user_input']"
   ]
  },
  {
   "cell_type": "code",
   "execution_count": null,
   "metadata": {
    "execution": {
     "iopub.execute_input": "2022-03-26T07:02:15.286586Z",
     "iopub.status.busy": "2022-03-26T07:02:15.286149Z",
     "iopub.status.idle": "2022-03-26T07:02:15.297666Z",
     "shell.execute_reply": "2022-03-26T07:02:15.296908Z",
     "shell.execute_reply.started": "2022-03-26T07:02:15.286547Z"
    }
   },
   "outputs": [],
   "source": [
    "# User Input test 1\n",
    "def UserInputTest1():\n",
    "    features = np.array([user_input_param['user_input_list']])   \n",
    "\n",
    "    # using inputs to predict the output\n",
    "    pred = modelv3.predict(features)\n",
    "    if pred[0] == 1:\n",
    "        print(f'{color.bdblue}Prediction: Approve The Loan{color.end}')\n",
    "    else:\n",
    "        print(f'{color.bdred}Prediction: Do Not Approve The Loan{color.end}')\n",
    "        \n",
    "UserInputTest1()"
   ]
  },
  {
   "cell_type": "code",
   "execution_count": null,
   "metadata": {
    "execution": {
     "iopub.execute_input": "2022-03-26T07:02:15.299514Z",
     "iopub.status.busy": "2022-03-26T07:02:15.299022Z",
     "iopub.status.idle": "2022-03-26T07:02:15.308340Z",
     "shell.execute_reply": "2022-03-26T07:02:15.307618Z",
     "shell.execute_reply.started": "2022-03-26T07:02:15.299476Z"
    }
   },
   "outputs": [],
   "source": [
    "# User Input test 2\n",
    "def UserInputTest2():\n",
    "    '''\n",
    "    # if one wants to edit the list from the previous cell\n",
    "    user_input2_list = user_input_list[:]   # make a copy\n",
    "    user_input2_list[0] = 500          # change term \n",
    "    '''\n",
    "\n",
    "    user_input2 = copy.deepcopy(user_input_param['user_input'])\n",
    "    user_input2['Term'] = 500     # change term\n",
    "    user_input2_list = list(user_input2.values())\n",
    "\n",
    "    features = np.array([user_input2_list]) \n",
    "\n",
    "    # using inputs to predict the output\n",
    "    pred = modelv3.predict(features)\n",
    "    if pred[0] == 1:\n",
    "        print(f'{color.bdblue}Prediction: Approve The Loan{color.end}')\n",
    "    else:\n",
    "        print(f'{color.bdred}Prediction: Do Not Approve The Loan{color.end}')\n",
    "        \n",
    "UserInputTest2()"
   ]
  },
  {
   "cell_type": "markdown",
   "metadata": {},
   "source": [
    "<div style=\"font-family: Trebuchet MS;background-color:HoneyDew;color:Black;text-align: left;padding-top: 5px;padding-bottom: 15px;padding-left: 20px;padding-right: 10px;border-radius: 15px 50px;letter-spacing: 2px;border: 5px solid CadetBlue;\"><b>Predictions:</b><br>\n",
    "    \n",
    "- 1 -> can approve<br>\n",
    "- 0 -> do not approve<br>\n",
    "\n",
    "Of course, in real life, will need to check further using other data (e.g. financial statements, kind of real estate, etc.) or other data's models if available."
   ]
  },
  {
   "cell_type": "code",
   "execution_count": null,
   "metadata": {
    "execution": {
     "iopub.execute_input": "2022-03-26T07:02:15.310486Z",
     "iopub.status.busy": "2022-03-26T07:02:15.309851Z",
     "iopub.status.idle": "2022-03-26T07:02:15.524185Z",
     "shell.execute_reply": "2022-03-26T07:02:15.523382Z",
     "shell.execute_reply.started": "2022-03-26T07:02:15.310450Z"
    }
   },
   "outputs": [],
   "source": [
    "del user_input_param\n",
    "gc.collect()"
   ]
  },
  {
   "cell_type": "markdown",
   "metadata": {
    "execution": {
     "iopub.execute_input": "2022-03-13T19:10:41.572492Z",
     "iopub.status.busy": "2022-03-13T19:10:41.572202Z",
     "iopub.status.idle": "2022-03-13T19:10:41.579958Z",
     "shell.execute_reply": "2022-03-13T19:10:41.578591Z",
     "shell.execute_reply.started": "2022-03-13T19:10:41.572462Z"
    }
   },
   "source": [
    "<a id=\"mutual_info\"></a>\n",
    "<div style=\"font-family: Trebuchet MS;background-color:DarkCyan;color:Azure;text-align: left;padding-top: 5px;padding-bottom: 20px;padding-left: 20px;padding-right: 10px;border-radius: 15px 50px;letter-spacing: 2px;\">\n",
    "    <h2 style='color:GhostWhite;'>5. Mutual Information Scores</h2>\n",
    " \"A general-purpose metric, normally used before selecting and building a model, but used here in the end, for comparison.  Mutual information is a lot like correlation in that it measures a relationship between two quantities. The advantage of mutual information is that it can detect any kind of relationship, while correlation only detects linear relationships.\"\n",
    "    </div>"
   ]
  },
  {
   "cell_type": "code",
   "execution_count": null,
   "metadata": {
    "execution": {
     "iopub.execute_input": "2022-03-26T07:02:15.525781Z",
     "iopub.status.busy": "2022-03-26T07:02:15.525484Z",
     "iopub.status.idle": "2022-03-26T07:06:15.327558Z",
     "shell.execute_reply": "2022-03-26T07:06:15.326769Z",
     "shell.execute_reply.started": "2022-03-26T07:02:15.525717Z"
    }
   },
   "outputs": [],
   "source": [
    "%%time\n",
    "\n",
    "def GetMIScores():\n",
    "    X = pd.read_feather(f'{savepath}sba_final.csv.feather')\n",
    "    y = X.pop('MIS_Status')\n",
    "\n",
    "    model_mi = process_model(X, y)\n",
    "    model_mi.osample()\n",
    "    \n",
    "    del X,y\n",
    "    gc.collect()\n",
    "    sleep(3)\n",
    "    \n",
    "    mi_scores = make_mi_scores(model_mi.X, model_mi.y)\n",
    "\n",
    "    print()\n",
    "    \n",
    "    return mi_scores\n",
    "\n",
    "mi_scores = GetMIScores()"
   ]
  },
  {
   "cell_type": "code",
   "execution_count": null,
   "metadata": {
    "execution": {
     "iopub.execute_input": "2022-03-26T07:06:15.338650Z",
     "iopub.status.busy": "2022-03-26T07:06:15.338387Z",
     "iopub.status.idle": "2022-03-26T07:06:18.480020Z",
     "shell.execute_reply": "2022-03-26T07:06:18.479241Z",
     "shell.execute_reply.started": "2022-03-26T07:06:15.338616Z"
    }
   },
   "outputs": [],
   "source": [
    "plt.figure(dpi=1200, figsize=(8, 5))\n",
    "plot_mi_scores(mi_scores)"
   ]
  },
  {
   "cell_type": "code",
   "execution_count": null,
   "metadata": {
    "execution": {
     "iopub.execute_input": "2022-03-26T07:06:18.481982Z",
     "iopub.status.busy": "2022-03-26T07:06:18.481390Z",
     "iopub.status.idle": "2022-03-26T07:06:21.058726Z",
     "shell.execute_reply": "2022-03-26T07:06:21.058102Z",
     "shell.execute_reply.started": "2022-03-26T07:06:18.481943Z"
    },
    "scrolled": true
   },
   "outputs": [],
   "source": [
    "# Plot feature importance\n",
    "plot_features(modelv3, (10,14))"
   ]
  },
  {
   "cell_type": "code",
   "execution_count": null,
   "metadata": {
    "execution": {
     "iopub.execute_input": "2022-03-26T07:06:21.060593Z",
     "iopub.status.busy": "2022-03-26T07:06:21.060127Z",
     "iopub.status.idle": "2022-03-26T07:06:21.285334Z",
     "shell.execute_reply": "2022-03-26T07:06:21.284329Z",
     "shell.execute_reply.started": "2022-03-26T07:06:21.060556Z"
    }
   },
   "outputs": [],
   "source": [
    "del mi_scores\n",
    "gc.collect()"
   ]
  },
  {
   "cell_type": "code",
   "execution_count": null,
   "metadata": {
    "execution": {
     "iopub.execute_input": "2022-03-26T07:06:15.329509Z",
     "iopub.status.busy": "2022-03-26T07:06:15.329077Z",
     "iopub.status.idle": "2022-03-26T07:06:15.336736Z",
     "shell.execute_reply": "2022-03-26T07:06:15.335845Z",
     "shell.execute_reply.started": "2022-03-26T07:06:15.329469Z"
    }
   },
   "outputs": [],
   "source": [
    "if alert_flag == 1:\n",
    "    if kaggle_flag == 0:   # not Kaggle\n",
    "        engine.say(\"SBA Mutual Information completed.\")\n",
    "        engine.runAndWait()\n",
    "    else:\n",
    "        display(Audio(url=audio_path, autoplay=True))"
   ]
  },
  {
   "cell_type": "markdown",
   "metadata": {},
   "source": [
    "<div class=\"alert alert-block alert-info\">\n",
    "The importance ranked by <b>Mutual Information</b> and <b>XGBoost Feature Importance</b> metrics are different.  Which ranking do you think is more reasonable ?</div>"
   ]
  },
  {
   "cell_type": "markdown",
   "metadata": {},
   "source": [
    "<a id=\"trim_dataset\"></a>\n",
    "<div style=\"font-family: Trebuchet MS;background-color:DarkCyan;color:Azure;text-align: left;padding-top: 5px;padding-bottom: 20px;padding-left: 20px;padding-right: 10px;border-radius: 15px 50px;letter-spacing: 2px;\">\n",
    "    <h2 style='color:GhostWhite;'>6. Trim Dataset</h2><br>\n",
    "After the preprocessing and encoding steps, not all of the features may be useful in forecasting the loan default. Alternatively we can select the <b>top 5 or top 8 features</b>, based on the feature importance plot above, which had a major contribution in forecasting loan defaults.<br><br>\n",
    "\n",
    "If the model performance is similar in both the cases, that is – by using all the features and by using 5-8 features, then we should use only the top 8 features, in order to keep the model simpler and more efficient.\n",
    "\n",
    "The idea is to have a less complex model without compromising on the overall model performance.\n",
    "</div>"
   ]
  },
  {
   "cell_type": "code",
   "execution_count": null,
   "metadata": {
    "execution": {
     "iopub.execute_input": "2022-03-26T07:06:21.287401Z",
     "iopub.status.busy": "2022-03-26T07:06:21.286942Z",
     "iopub.status.idle": "2022-03-26T07:06:21.400433Z",
     "shell.execute_reply": "2022-03-26T07:06:21.399034Z",
     "shell.execute_reply.started": "2022-03-26T07:06:21.287364Z"
    }
   },
   "outputs": [],
   "source": [
    "X = pd.read_feather(f'{savepath}sba_final.csv.feather')\n",
    "y = X.pop('MIS_Status')\n",
    "\n",
    "#Let's retain the top 8 from Mutual Information metric \n",
    "mi_features = ['Term', 'DisbursementGross', 'SBA_Appv', 'SBA_Portion',\n",
    "                'CityState_hash', 'FranchiseCode', 'RealEstate', 'UrbanRural']\n",
    "\n",
    "Xmi = X[mi_features]\n",
    "\n",
    "#Let's retain the top 8 from Feature Importance metric \n",
    "fi_features = ['Term', 'SBA_Appv', 'DisbursementGross', 'CityState_hash', 'State_hash',\n",
    "                'SBA_Portion', 'Industry', 'NoEmp']\n",
    "\n",
    "Xfi = X[fi_features]\n",
    "\n",
    "del X\n",
    "gc.collect()"
   ]
  },
  {
   "cell_type": "code",
   "execution_count": null,
   "metadata": {
    "execution": {
     "iopub.execute_input": "2022-03-26T07:06:21.402051Z",
     "iopub.status.busy": "2022-03-26T07:06:21.401789Z",
     "iopub.status.idle": "2022-03-26T07:06:33.194231Z",
     "shell.execute_reply": "2022-03-26T07:06:33.192685Z",
     "shell.execute_reply.started": "2022-03-26T07:06:21.402014Z"
    }
   },
   "outputs": [],
   "source": [
    "%%time\n",
    "\n",
    "def ModelMI():\n",
    "    model_mi = process_model(Xmi, y)\n",
    "    model_mi.osample()\n",
    "    model_mi.split_data(0.7)\n",
    "  \n",
    "    model_mi_results = model_mi.prep_run_model(\"Mutual Information Metrics\")\n",
    "    \n",
    "    print()\n",
    "    return model_mi_results\n",
    "\n",
    "model_mi_results = ModelMI()"
   ]
  },
  {
   "cell_type": "code",
   "execution_count": null,
   "metadata": {
    "execution": {
     "iopub.execute_input": "2022-03-26T07:06:33.204970Z",
     "iopub.status.busy": "2022-03-26T07:06:33.204271Z",
     "iopub.status.idle": "2022-03-26T07:06:34.312650Z",
     "shell.execute_reply": "2022-03-26T07:06:34.311320Z",
     "shell.execute_reply.started": "2022-03-26T07:06:33.204926Z"
    }
   },
   "outputs": [],
   "source": [
    "# Plot mutual information\n",
    "my_model_mi = model_mi_results['xg_model']\n",
    "plot_features(my_model_mi, (10,5))"
   ]
  },
  {
   "cell_type": "code",
   "execution_count": null,
   "metadata": {
    "execution": {
     "iopub.execute_input": "2022-03-26T07:06:34.314652Z",
     "iopub.status.busy": "2022-03-26T07:06:34.314122Z",
     "iopub.status.idle": "2022-03-26T07:06:38.417663Z",
     "shell.execute_reply": "2022-03-26T07:06:38.416156Z",
     "shell.execute_reply.started": "2022-03-26T07:06:34.314613Z"
    }
   },
   "outputs": [],
   "source": [
    "# Test with Unseen test data\n",
    "def MI_Model_On_Test_Data():\n",
    "    X_test = model_mi_results['X_test']\n",
    "    X_test_mi = X_test[mi_features]\n",
    "\n",
    "    y_test = model_mi_results['y_test']\n",
    "\n",
    "    predictions_mi = my_model_mi.predict(X_test_mi)\n",
    "    model_eval(y_test, predictions_mi)\n",
    "    print()\n",
    "    \n",
    "MI_Model_On_Test_Data()"
   ]
  },
  {
   "cell_type": "code",
   "execution_count": null,
   "metadata": {},
   "outputs": [],
   "source": [
    "del Xmi, mi_features, my_model_mi, model_mi_results\n",
    "gc.collect()"
   ]
  },
  {
   "cell_type": "code",
   "execution_count": null,
   "metadata": {
    "execution": {
     "iopub.execute_input": "2022-03-26T07:06:38.419313Z",
     "iopub.status.busy": "2022-03-26T07:06:38.418951Z",
     "iopub.status.idle": "2022-03-26T07:06:50.462169Z",
     "shell.execute_reply": "2022-03-26T07:06:50.460674Z",
     "shell.execute_reply.started": "2022-03-26T07:06:38.419272Z"
    }
   },
   "outputs": [],
   "source": [
    "%%time\n",
    "\n",
    "def ModelFI():\n",
    "    model_fi = process_model(Xfi, y)\n",
    "    model_fi.osample()\n",
    "    model_fi.split_data(0.7)\n",
    "    \n",
    "    model_fi_results = model_fi.prep_run_model(\"Feature Importance Metrics\")\n",
    "\n",
    "    print()\n",
    "    return model_fi_results\n",
    "    \n",
    "model_fi_results = ModelFI()"
   ]
  },
  {
   "cell_type": "code",
   "execution_count": null,
   "metadata": {
    "execution": {
     "iopub.execute_input": "2022-03-26T07:06:50.474612Z",
     "iopub.status.busy": "2022-03-26T07:06:50.474288Z",
     "iopub.status.idle": "2022-03-26T07:06:51.615776Z",
     "shell.execute_reply": "2022-03-26T07:06:51.611590Z",
     "shell.execute_reply.started": "2022-03-26T07:06:50.474573Z"
    }
   },
   "outputs": [],
   "source": [
    "# Plot feature importance\n",
    "my_model_fi = model_fi_results['xg_model']\n",
    "plot_features(my_model_fi, (10,5))"
   ]
  },
  {
   "cell_type": "code",
   "execution_count": null,
   "metadata": {
    "execution": {
     "iopub.execute_input": "2022-03-26T07:06:51.617713Z",
     "iopub.status.busy": "2022-03-26T07:06:51.617210Z",
     "iopub.status.idle": "2022-03-26T07:06:56.101199Z",
     "shell.execute_reply": "2022-03-26T07:06:56.100431Z",
     "shell.execute_reply.started": "2022-03-26T07:06:51.617662Z"
    }
   },
   "outputs": [],
   "source": [
    "# Test with Unseen test data\n",
    "def FI_Model_On_Test_Data():\n",
    "    X_test = model_fi_results['X_test']\n",
    "    X_test_fi = X_test[fi_features]\n",
    "\n",
    "    y_test = model_fi_results['y_test']\n",
    "\n",
    "    predictions_fi = my_model_fi.predict(X_test_fi)\n",
    "    model_eval(y_test, predictions_fi)\n",
    "    print()\n",
    "    \n",
    "FI_Model_On_Test_Data()"
   ]
  },
  {
   "cell_type": "code",
   "execution_count": null,
   "metadata": {
    "execution": {
     "iopub.execute_input": "2022-03-26T07:06:56.102906Z",
     "iopub.status.busy": "2022-03-26T07:06:56.102545Z",
     "iopub.status.idle": "2022-03-26T07:06:56.324830Z",
     "shell.execute_reply": "2022-03-26T07:06:56.324105Z",
     "shell.execute_reply.started": "2022-03-26T07:06:56.102862Z"
    }
   },
   "outputs": [],
   "source": [
    "del Xfi, fi_features, my_model_fi, model_fi_results\n",
    "del y, model3_results, modelv3\n",
    "gc.collect()"
   ]
  },
  {
   "cell_type": "markdown",
   "metadata": {},
   "source": [
    "<a id=\"results1\"></a>\n",
    "<div style=\"font-family: Trebuchet MS;background-color:DarkCyan;color:Azure;text-align: left;padding-top: 5px;padding-bottom: 20px;padding-left: 20px;padding-right: 10px;border-radius: 15px 50px;letter-spacing: 2px;\">\n",
    "    <h2 style='color:GhostWhite;'>7. Full or Trimmed Dataset</h2>\n",
    "</div>"
   ]
  },
  {
   "cell_type": "markdown",
   "metadata": {},
   "source": [
    "<div class=\"alert alert-block alert-info\">\n",
    "    <b>Do we select the full dataset, or the trimmed dataset ?</b><br><br>\n",
    "    <b>Observation:</b><br>\n",
    "    <ul>\n",
    "        <li><b>Accuracy</b> - Approx 2 points less accuracy of trimmed versus the full features dataset.<br><br>\n",
    "        <li><b>f1-score</b> - Also approx 2 points less f1-score between full features dataset and Manual Information trimmed dataset.  Approx 1 point difference between full features dataset and Feature Importance trimmed dataset.<br><br>\n",
    "    </ul>\n",
    "    We can <b>stick with the full features</b> for now; but the trimmed features are also good, with the <b>Manual Information trimmed dataset</b> very slightly favored."
   ]
  }
 ],
 "metadata": {
  "kernelspec": {
   "display_name": "Python 3 (ipykernel)",
   "language": "python",
   "name": "python3"
  },
  "language_info": {
   "codemirror_mode": {
    "name": "ipython",
    "version": 3
   },
   "file_extension": ".py",
   "mimetype": "text/x-python",
   "name": "python",
   "nbconvert_exporter": "python",
   "pygments_lexer": "ipython3",
   "version": "3.8.12"
  }
 },
 "nbformat": 4,
 "nbformat_minor": 4
}
